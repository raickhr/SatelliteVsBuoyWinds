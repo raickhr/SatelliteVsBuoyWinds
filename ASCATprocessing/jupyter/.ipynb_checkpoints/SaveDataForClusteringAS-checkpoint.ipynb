{
 "cells": [
  {
   "cell_type": "code",
   "execution_count": 1,
   "id": "4a0bb63a-ef7c-402d-b0b4-3cfa7d6002c0",
   "metadata": {},
   "outputs": [],
   "source": [
    "from sklearn.cluster import KMeans\n",
    "import numpy as np\n",
    "import matplotlib.pyplot as plt\n",
    "import math\n",
    "\n",
    "from matplotlib import cm\n",
    "import matplotlib.cbook as cbook\n",
    "import matplotlib.colors as colors\n",
    "\n",
    "import pandas as pd\n",
    "import xarray as xr\n",
    "from netCDF4 import Dataset, num2date, date2num\n",
    "from datetime import datetime, timedelta\n",
    "import os\n",
    "\n",
    "import seaborn as sns\n",
    "import cmocean as cmocn\n",
    "\n",
    "%matplotlib inline"
   ]
  },
  {
   "cell_type": "code",
   "execution_count": 3,
   "id": "72b80663-359d-4c5b-a1ee-7dbbb98d3f24",
   "metadata": {
    "scrolled": true
   },
   "outputs": [
    {
     "data": {
      "text/html": [
       "<div><svg style=\"position: absolute; width: 0; height: 0; overflow: hidden\">\n",
       "<defs>\n",
       "<symbol id=\"icon-database\" viewBox=\"0 0 32 32\">\n",
       "<path d=\"M16 0c-8.837 0-16 2.239-16 5v4c0 2.761 7.163 5 16 5s16-2.239 16-5v-4c0-2.761-7.163-5-16-5z\"></path>\n",
       "<path d=\"M16 17c-8.837 0-16-2.239-16-5v6c0 2.761 7.163 5 16 5s16-2.239 16-5v-6c0 2.761-7.163 5-16 5z\"></path>\n",
       "<path d=\"M16 26c-8.837 0-16-2.239-16-5v6c0 2.761 7.163 5 16 5s16-2.239 16-5v-6c0 2.761-7.163 5-16 5z\"></path>\n",
       "</symbol>\n",
       "<symbol id=\"icon-file-text2\" viewBox=\"0 0 32 32\">\n",
       "<path d=\"M28.681 7.159c-0.694-0.947-1.662-2.053-2.724-3.116s-2.169-2.030-3.116-2.724c-1.612-1.182-2.393-1.319-2.841-1.319h-15.5c-1.378 0-2.5 1.121-2.5 2.5v27c0 1.378 1.122 2.5 2.5 2.5h23c1.378 0 2.5-1.122 2.5-2.5v-19.5c0-0.448-0.137-1.23-1.319-2.841zM24.543 5.457c0.959 0.959 1.712 1.825 2.268 2.543h-4.811v-4.811c0.718 0.556 1.584 1.309 2.543 2.268zM28 29.5c0 0.271-0.229 0.5-0.5 0.5h-23c-0.271 0-0.5-0.229-0.5-0.5v-27c0-0.271 0.229-0.5 0.5-0.5 0 0 15.499-0 15.5 0v7c0 0.552 0.448 1 1 1h7v19.5z\"></path>\n",
       "<path d=\"M23 26h-14c-0.552 0-1-0.448-1-1s0.448-1 1-1h14c0.552 0 1 0.448 1 1s-0.448 1-1 1z\"></path>\n",
       "<path d=\"M23 22h-14c-0.552 0-1-0.448-1-1s0.448-1 1-1h14c0.552 0 1 0.448 1 1s-0.448 1-1 1z\"></path>\n",
       "<path d=\"M23 18h-14c-0.552 0-1-0.448-1-1s0.448-1 1-1h14c0.552 0 1 0.448 1 1s-0.448 1-1 1z\"></path>\n",
       "</symbol>\n",
       "</defs>\n",
       "</svg>\n",
       "<style>/* CSS stylesheet for displaying xarray objects in jupyterlab.\n",
       " *\n",
       " */\n",
       "\n",
       ":root {\n",
       "  --xr-font-color0: var(--jp-content-font-color0, rgba(0, 0, 0, 1));\n",
       "  --xr-font-color2: var(--jp-content-font-color2, rgba(0, 0, 0, 0.54));\n",
       "  --xr-font-color3: var(--jp-content-font-color3, rgba(0, 0, 0, 0.38));\n",
       "  --xr-border-color: var(--jp-border-color2, #e0e0e0);\n",
       "  --xr-disabled-color: var(--jp-layout-color3, #bdbdbd);\n",
       "  --xr-background-color: var(--jp-layout-color0, white);\n",
       "  --xr-background-color-row-even: var(--jp-layout-color1, white);\n",
       "  --xr-background-color-row-odd: var(--jp-layout-color2, #eeeeee);\n",
       "}\n",
       "\n",
       "html[theme=dark],\n",
       "body[data-theme=dark],\n",
       "body.vscode-dark {\n",
       "  --xr-font-color0: rgba(255, 255, 255, 1);\n",
       "  --xr-font-color2: rgba(255, 255, 255, 0.54);\n",
       "  --xr-font-color3: rgba(255, 255, 255, 0.38);\n",
       "  --xr-border-color: #1F1F1F;\n",
       "  --xr-disabled-color: #515151;\n",
       "  --xr-background-color: #111111;\n",
       "  --xr-background-color-row-even: #111111;\n",
       "  --xr-background-color-row-odd: #313131;\n",
       "}\n",
       "\n",
       ".xr-wrap {\n",
       "  display: block !important;\n",
       "  min-width: 300px;\n",
       "  max-width: 700px;\n",
       "}\n",
       "\n",
       ".xr-text-repr-fallback {\n",
       "  /* fallback to plain text repr when CSS is not injected (untrusted notebook) */\n",
       "  display: none;\n",
       "}\n",
       "\n",
       ".xr-header {\n",
       "  padding-top: 6px;\n",
       "  padding-bottom: 6px;\n",
       "  margin-bottom: 4px;\n",
       "  border-bottom: solid 1px var(--xr-border-color);\n",
       "}\n",
       "\n",
       ".xr-header > div,\n",
       ".xr-header > ul {\n",
       "  display: inline;\n",
       "  margin-top: 0;\n",
       "  margin-bottom: 0;\n",
       "}\n",
       "\n",
       ".xr-obj-type,\n",
       ".xr-array-name {\n",
       "  margin-left: 2px;\n",
       "  margin-right: 10px;\n",
       "}\n",
       "\n",
       ".xr-obj-type {\n",
       "  color: var(--xr-font-color2);\n",
       "}\n",
       "\n",
       ".xr-sections {\n",
       "  padding-left: 0 !important;\n",
       "  display: grid;\n",
       "  grid-template-columns: 150px auto auto 1fr 20px 20px;\n",
       "}\n",
       "\n",
       ".xr-section-item {\n",
       "  display: contents;\n",
       "}\n",
       "\n",
       ".xr-section-item input {\n",
       "  display: none;\n",
       "}\n",
       "\n",
       ".xr-section-item input + label {\n",
       "  color: var(--xr-disabled-color);\n",
       "}\n",
       "\n",
       ".xr-section-item input:enabled + label {\n",
       "  cursor: pointer;\n",
       "  color: var(--xr-font-color2);\n",
       "}\n",
       "\n",
       ".xr-section-item input:enabled + label:hover {\n",
       "  color: var(--xr-font-color0);\n",
       "}\n",
       "\n",
       ".xr-section-summary {\n",
       "  grid-column: 1;\n",
       "  color: var(--xr-font-color2);\n",
       "  font-weight: 500;\n",
       "}\n",
       "\n",
       ".xr-section-summary > span {\n",
       "  display: inline-block;\n",
       "  padding-left: 0.5em;\n",
       "}\n",
       "\n",
       ".xr-section-summary-in:disabled + label {\n",
       "  color: var(--xr-font-color2);\n",
       "}\n",
       "\n",
       ".xr-section-summary-in + label:before {\n",
       "  display: inline-block;\n",
       "  content: '►';\n",
       "  font-size: 11px;\n",
       "  width: 15px;\n",
       "  text-align: center;\n",
       "}\n",
       "\n",
       ".xr-section-summary-in:disabled + label:before {\n",
       "  color: var(--xr-disabled-color);\n",
       "}\n",
       "\n",
       ".xr-section-summary-in:checked + label:before {\n",
       "  content: '▼';\n",
       "}\n",
       "\n",
       ".xr-section-summary-in:checked + label > span {\n",
       "  display: none;\n",
       "}\n",
       "\n",
       ".xr-section-summary,\n",
       ".xr-section-inline-details {\n",
       "  padding-top: 4px;\n",
       "  padding-bottom: 4px;\n",
       "}\n",
       "\n",
       ".xr-section-inline-details {\n",
       "  grid-column: 2 / -1;\n",
       "}\n",
       "\n",
       ".xr-section-details {\n",
       "  display: none;\n",
       "  grid-column: 1 / -1;\n",
       "  margin-bottom: 5px;\n",
       "}\n",
       "\n",
       ".xr-section-summary-in:checked ~ .xr-section-details {\n",
       "  display: contents;\n",
       "}\n",
       "\n",
       ".xr-array-wrap {\n",
       "  grid-column: 1 / -1;\n",
       "  display: grid;\n",
       "  grid-template-columns: 20px auto;\n",
       "}\n",
       "\n",
       ".xr-array-wrap > label {\n",
       "  grid-column: 1;\n",
       "  vertical-align: top;\n",
       "}\n",
       "\n",
       ".xr-preview {\n",
       "  color: var(--xr-font-color3);\n",
       "}\n",
       "\n",
       ".xr-array-preview,\n",
       ".xr-array-data {\n",
       "  padding: 0 5px !important;\n",
       "  grid-column: 2;\n",
       "}\n",
       "\n",
       ".xr-array-data,\n",
       ".xr-array-in:checked ~ .xr-array-preview {\n",
       "  display: none;\n",
       "}\n",
       "\n",
       ".xr-array-in:checked ~ .xr-array-data,\n",
       ".xr-array-preview {\n",
       "  display: inline-block;\n",
       "}\n",
       "\n",
       ".xr-dim-list {\n",
       "  display: inline-block !important;\n",
       "  list-style: none;\n",
       "  padding: 0 !important;\n",
       "  margin: 0;\n",
       "}\n",
       "\n",
       ".xr-dim-list li {\n",
       "  display: inline-block;\n",
       "  padding: 0;\n",
       "  margin: 0;\n",
       "}\n",
       "\n",
       ".xr-dim-list:before {\n",
       "  content: '(';\n",
       "}\n",
       "\n",
       ".xr-dim-list:after {\n",
       "  content: ')';\n",
       "}\n",
       "\n",
       ".xr-dim-list li:not(:last-child):after {\n",
       "  content: ',';\n",
       "  padding-right: 5px;\n",
       "}\n",
       "\n",
       ".xr-has-index {\n",
       "  font-weight: bold;\n",
       "}\n",
       "\n",
       ".xr-var-list,\n",
       ".xr-var-item {\n",
       "  display: contents;\n",
       "}\n",
       "\n",
       ".xr-var-item > div,\n",
       ".xr-var-item label,\n",
       ".xr-var-item > .xr-var-name span {\n",
       "  background-color: var(--xr-background-color-row-even);\n",
       "  margin-bottom: 0;\n",
       "}\n",
       "\n",
       ".xr-var-item > .xr-var-name:hover span {\n",
       "  padding-right: 5px;\n",
       "}\n",
       "\n",
       ".xr-var-list > li:nth-child(odd) > div,\n",
       ".xr-var-list > li:nth-child(odd) > label,\n",
       ".xr-var-list > li:nth-child(odd) > .xr-var-name span {\n",
       "  background-color: var(--xr-background-color-row-odd);\n",
       "}\n",
       "\n",
       ".xr-var-name {\n",
       "  grid-column: 1;\n",
       "}\n",
       "\n",
       ".xr-var-dims {\n",
       "  grid-column: 2;\n",
       "}\n",
       "\n",
       ".xr-var-dtype {\n",
       "  grid-column: 3;\n",
       "  text-align: right;\n",
       "  color: var(--xr-font-color2);\n",
       "}\n",
       "\n",
       ".xr-var-preview {\n",
       "  grid-column: 4;\n",
       "}\n",
       "\n",
       ".xr-index-preview {\n",
       "  grid-column: 2 / 5;\n",
       "  color: var(--xr-font-color2);\n",
       "}\n",
       "\n",
       ".xr-var-name,\n",
       ".xr-var-dims,\n",
       ".xr-var-dtype,\n",
       ".xr-preview,\n",
       ".xr-attrs dt {\n",
       "  white-space: nowrap;\n",
       "  overflow: hidden;\n",
       "  text-overflow: ellipsis;\n",
       "  padding-right: 10px;\n",
       "}\n",
       "\n",
       ".xr-var-name:hover,\n",
       ".xr-var-dims:hover,\n",
       ".xr-var-dtype:hover,\n",
       ".xr-attrs dt:hover {\n",
       "  overflow: visible;\n",
       "  width: auto;\n",
       "  z-index: 1;\n",
       "}\n",
       "\n",
       ".xr-var-attrs,\n",
       ".xr-var-data,\n",
       ".xr-index-data {\n",
       "  display: none;\n",
       "  background-color: var(--xr-background-color) !important;\n",
       "  padding-bottom: 5px !important;\n",
       "}\n",
       "\n",
       ".xr-var-attrs-in:checked ~ .xr-var-attrs,\n",
       ".xr-var-data-in:checked ~ .xr-var-data,\n",
       ".xr-index-data-in:checked ~ .xr-index-data {\n",
       "  display: block;\n",
       "}\n",
       "\n",
       ".xr-var-data > table {\n",
       "  float: right;\n",
       "}\n",
       "\n",
       ".xr-var-name span,\n",
       ".xr-var-data,\n",
       ".xr-index-name div,\n",
       ".xr-index-data,\n",
       ".xr-attrs {\n",
       "  padding-left: 25px !important;\n",
       "}\n",
       "\n",
       ".xr-attrs,\n",
       ".xr-var-attrs,\n",
       ".xr-var-data,\n",
       ".xr-index-data {\n",
       "  grid-column: 1 / -1;\n",
       "}\n",
       "\n",
       "dl.xr-attrs {\n",
       "  padding: 0;\n",
       "  margin: 0;\n",
       "  display: grid;\n",
       "  grid-template-columns: 125px auto;\n",
       "}\n",
       "\n",
       ".xr-attrs dt,\n",
       ".xr-attrs dd {\n",
       "  padding: 0;\n",
       "  margin: 0;\n",
       "  float: left;\n",
       "  padding-right: 10px;\n",
       "  width: auto;\n",
       "}\n",
       "\n",
       ".xr-attrs dt {\n",
       "  font-weight: normal;\n",
       "  grid-column: 1;\n",
       "}\n",
       "\n",
       ".xr-attrs dt:hover span {\n",
       "  display: inline-block;\n",
       "  background: var(--xr-background-color);\n",
       "  padding-right: 10px;\n",
       "}\n",
       "\n",
       ".xr-attrs dd {\n",
       "  grid-column: 2;\n",
       "  white-space: pre-wrap;\n",
       "  word-break: break-all;\n",
       "}\n",
       "\n",
       ".xr-icon-database,\n",
       ".xr-icon-file-text2,\n",
       ".xr-no-icon {\n",
       "  display: inline-block;\n",
       "  vertical-align: middle;\n",
       "  width: 1em;\n",
       "  height: 1.5em !important;\n",
       "  stroke-width: 0;\n",
       "  stroke: currentColor;\n",
       "  fill: currentColor;\n",
       "}\n",
       "</style><pre class='xr-text-repr-fallback'>&lt;xarray.Dataset&gt;\n",
       "Dimensions:            (AS_TIME: 1212, NUMCELLS: 3, HEIGHT: 3, DEPTH: 1)\n",
       "Coordinates:\n",
       "  * AS_TIME            (AS_TIME) datetime64[ns] 2014-10-31T22:11:03 ... 2020-...\n",
       "  * NUMCELLS           (NUMCELLS) int64 0 1 2\n",
       "  * HEIGHT             (HEIGHT) float32 3.0 4.0 10.0\n",
       "  * DEPTH              (DEPTH) float32 1.0\n",
       "Data variables: (12/57)\n",
       "    wvc_index          (AS_TIME, NUMCELLS) float64 ...\n",
       "    model_speed        (AS_TIME, NUMCELLS) float64 ...\n",
       "    model_dir          (AS_TIME, NUMCELLS) float64 ...\n",
       "    ice_prob           (AS_TIME, NUMCELLS) float64 ...\n",
       "    ice_age            (AS_TIME, NUMCELLS) float64 ...\n",
       "    wvc_quality_flag   (AS_TIME, NUMCELLS) float64 ...\n",
       "    ...                 ...\n",
       "    std_AIRT           (AS_TIME) float64 ...\n",
       "    mean_RELH          (AS_TIME) float64 ...\n",
       "    std_RELH           (AS_TIME) float64 ...\n",
       "    mean_SST - AIRT    (AS_TIME) float64 ...\n",
       "    std_SST - AIRT     (AS_TIME) float64 ...\n",
       "    TAO_TIME           (AS_TIME) datetime64[ns] ...</pre><div class='xr-wrap' style='display:none'><div class='xr-header'><div class='xr-obj-type'>xarray.Dataset</div></div><ul class='xr-sections'><li class='xr-section-item'><input id='section-24883d0a-d842-479b-ab3a-4dba164a4b77' class='xr-section-summary-in' type='checkbox' disabled ><label for='section-24883d0a-d842-479b-ab3a-4dba164a4b77' class='xr-section-summary'  title='Expand/collapse section'>Dimensions:</label><div class='xr-section-inline-details'><ul class='xr-dim-list'><li><span class='xr-has-index'>AS_TIME</span>: 1212</li><li><span class='xr-has-index'>NUMCELLS</span>: 3</li><li><span class='xr-has-index'>HEIGHT</span>: 3</li><li><span class='xr-has-index'>DEPTH</span>: 1</li></ul></div><div class='xr-section-details'></div></li><li class='xr-section-item'><input id='section-93071eca-bdd9-45dc-94ea-b7e8381fb6e7' class='xr-section-summary-in' type='checkbox'  checked><label for='section-93071eca-bdd9-45dc-94ea-b7e8381fb6e7' class='xr-section-summary' >Coordinates: <span>(4)</span></label><div class='xr-section-inline-details'></div><div class='xr-section-details'><ul class='xr-var-list'><li class='xr-var-item'><div class='xr-var-name'><span class='xr-has-index'>AS_TIME</span></div><div class='xr-var-dims'>(AS_TIME)</div><div class='xr-var-dtype'>datetime64[ns]</div><div class='xr-var-preview xr-preview'>2014-10-31T22:11:03 ... 2020-10-...</div><input id='attrs-cacfb078-1400-476c-ab58-ec8184a3eeef' class='xr-var-attrs-in' type='checkbox' disabled><label for='attrs-cacfb078-1400-476c-ab58-ec8184a3eeef' title='Show/Hide attributes'><svg class='icon xr-icon-file-text2'><use xlink:href='#icon-file-text2'></use></svg></label><input id='data-4d667736-a360-4e23-bd3c-64c67408b151' class='xr-var-data-in' type='checkbox'><label for='data-4d667736-a360-4e23-bd3c-64c67408b151' title='Show/Hide data repr'><svg class='icon xr-icon-database'><use xlink:href='#icon-database'></use></svg></label><div class='xr-var-attrs'><dl class='xr-attrs'></dl></div><div class='xr-var-data'><pre>array([&#x27;2014-10-31T22:11:03.000000000&#x27;, &#x27;2014-11-01T10:50:45.000000000&#x27;,\n",
       "       &#x27;2014-11-03T10:09:30.000000000&#x27;, ..., &#x27;2020-10-16T21:07:12.000000000&#x27;,\n",
       "       &#x27;2020-10-17T09:46:40.000000000&#x27;, &#x27;2020-10-19T09:05:04.000000000&#x27;],\n",
       "      dtype=&#x27;datetime64[ns]&#x27;)</pre></div></li><li class='xr-var-item'><div class='xr-var-name'><span class='xr-has-index'>NUMCELLS</span></div><div class='xr-var-dims'>(NUMCELLS)</div><div class='xr-var-dtype'>int64</div><div class='xr-var-preview xr-preview'>0 1 2</div><input id='attrs-4672d724-8801-4cd8-b3a4-e1c28640aca8' class='xr-var-attrs-in' type='checkbox' disabled><label for='attrs-4672d724-8801-4cd8-b3a4-e1c28640aca8' title='Show/Hide attributes'><svg class='icon xr-icon-file-text2'><use xlink:href='#icon-file-text2'></use></svg></label><input id='data-93a1b774-23e3-4186-9233-237186594ef8' class='xr-var-data-in' type='checkbox'><label for='data-93a1b774-23e3-4186-9233-237186594ef8' title='Show/Hide data repr'><svg class='icon xr-icon-database'><use xlink:href='#icon-database'></use></svg></label><div class='xr-var-attrs'><dl class='xr-attrs'></dl></div><div class='xr-var-data'><pre>array([0, 1, 2])</pre></div></li><li class='xr-var-item'><div class='xr-var-name'><span class='xr-has-index'>HEIGHT</span></div><div class='xr-var-dims'>(HEIGHT)</div><div class='xr-var-dtype'>float32</div><div class='xr-var-preview xr-preview'>3.0 4.0 10.0</div><input id='attrs-b56fb81a-d052-4d87-93e9-65b52e2de1f9' class='xr-var-attrs-in' type='checkbox' ><label for='attrs-b56fb81a-d052-4d87-93e9-65b52e2de1f9' title='Show/Hide attributes'><svg class='icon xr-icon-file-text2'><use xlink:href='#icon-file-text2'></use></svg></label><input id='data-e01486b2-57ff-450f-8b24-afb9295fd4d9' class='xr-var-data-in' type='checkbox'><label for='data-e01486b2-57ff-450f-8b24-afb9295fd4d9' title='Show/Hide data repr'><svg class='icon xr-icon-database'><use xlink:href='#icon-database'></use></svg></label><div class='xr-var-attrs'><dl class='xr-attrs'><dt><span>standard_name :</span></dt><dd>height</dd><dt><span>long_name :</span></dt><dd>Nominal height of each measurement</dd><dt><span>units :</span></dt><dd>meters</dd><dt><span>valid_min :</span></dt><dd>0.0</dd><dt><span>valid_max :</span></dt><dd>4.0</dd><dt><span>axis :</span></dt><dd>Z</dd><dt><span>positive :</span></dt><dd>up</dd><dt><span>reference :</span></dt><dd>sea_level</dd><dt><span>coordinate_reference_frame :</span></dt><dd>urn:ogc:crs:EPSG::5829</dd></dl></div><div class='xr-var-data'><pre>array([ 3.,  4., 10.], dtype=float32)</pre></div></li><li class='xr-var-item'><div class='xr-var-name'><span class='xr-has-index'>DEPTH</span></div><div class='xr-var-dims'>(DEPTH)</div><div class='xr-var-dtype'>float32</div><div class='xr-var-preview xr-preview'>1.0</div><input id='attrs-878b1070-2cc2-46dc-ab38-db647c5f8b2c' class='xr-var-attrs-in' type='checkbox' ><label for='attrs-878b1070-2cc2-46dc-ab38-db647c5f8b2c' title='Show/Hide attributes'><svg class='icon xr-icon-file-text2'><use xlink:href='#icon-file-text2'></use></svg></label><input id='data-8df80fe1-8dfd-43fb-b24a-f50dc7df373a' class='xr-var-data-in' type='checkbox'><label for='data-8df80fe1-8dfd-43fb-b24a-f50dc7df373a' title='Show/Hide data repr'><svg class='icon xr-icon-database'><use xlink:href='#icon-database'></use></svg></label><div class='xr-var-attrs'><dl class='xr-attrs'><dt><span>standard_name :</span></dt><dd>depth</dd><dt><span>long_name :</span></dt><dd>Nominal depth of each measurement</dd><dt><span>units :</span></dt><dd>meters</dd><dt><span>valid_min :</span></dt><dd>0.0</dd><dt><span>valid_max :</span></dt><dd>500.0</dd><dt><span>axis :</span></dt><dd>Z</dd><dt><span>positive :</span></dt><dd>down</dd><dt><span>reference :</span></dt><dd>sea_level</dd><dt><span>coordinate_reference_frame :</span></dt><dd>urn:ogc:crs:EPSG::5831</dd></dl></div><div class='xr-var-data'><pre>array([1.], dtype=float32)</pre></div></li></ul></div></li><li class='xr-section-item'><input id='section-167b1952-c75c-4807-8547-3ccbd7c1adb7' class='xr-section-summary-in' type='checkbox'  ><label for='section-167b1952-c75c-4807-8547-3ccbd7c1adb7' class='xr-section-summary' >Data variables: <span>(57)</span></label><div class='xr-section-inline-details'></div><div class='xr-section-details'><ul class='xr-var-list'><li class='xr-var-item'><div class='xr-var-name'><span>wvc_index</span></div><div class='xr-var-dims'>(AS_TIME, NUMCELLS)</div><div class='xr-var-dtype'>float64</div><div class='xr-var-preview xr-preview'>...</div><input id='attrs-93f4e3fc-671c-453a-94f6-f7d9be0287f2' class='xr-var-attrs-in' type='checkbox' ><label for='attrs-93f4e3fc-671c-453a-94f6-f7d9be0287f2' title='Show/Hide attributes'><svg class='icon xr-icon-file-text2'><use xlink:href='#icon-file-text2'></use></svg></label><input id='data-505d690f-fbdc-40e0-8751-fed8427f61d7' class='xr-var-data-in' type='checkbox'><label for='data-505d690f-fbdc-40e0-8751-fed8427f61d7' title='Show/Hide data repr'><svg class='icon xr-icon-database'><use xlink:href='#icon-database'></use></svg></label><div class='xr-var-attrs'><dl class='xr-attrs'><dt><span>valid_min :</span></dt><dd>0</dd><dt><span>valid_max :</span></dt><dd>999</dd><dt><span>long_name :</span></dt><dd>cross track wind vector cell number</dd><dt><span>units :</span></dt><dd>1</dd></dl></div><div class='xr-var-data'><pre>[3636 values with dtype=float64]</pre></div></li><li class='xr-var-item'><div class='xr-var-name'><span>model_speed</span></div><div class='xr-var-dims'>(AS_TIME, NUMCELLS)</div><div class='xr-var-dtype'>float64</div><div class='xr-var-preview xr-preview'>...</div><input id='attrs-16ac1c60-0f84-4591-b9a2-c18ab0c54408' class='xr-var-attrs-in' type='checkbox' ><label for='attrs-16ac1c60-0f84-4591-b9a2-c18ab0c54408' title='Show/Hide attributes'><svg class='icon xr-icon-file-text2'><use xlink:href='#icon-file-text2'></use></svg></label><input id='data-96c96ccc-62f0-483c-84ff-c8bab991485f' class='xr-var-data-in' type='checkbox'><label for='data-96c96ccc-62f0-483c-84ff-c8bab991485f' title='Show/Hide data repr'><svg class='icon xr-icon-database'><use xlink:href='#icon-database'></use></svg></label><div class='xr-var-attrs'><dl class='xr-attrs'><dt><span>valid_min :</span></dt><dd>0</dd><dt><span>valid_max :</span></dt><dd>5000</dd><dt><span>long_name :</span></dt><dd>model wind speed at 10 m</dd><dt><span>units :</span></dt><dd>m s-1</dd></dl></div><div class='xr-var-data'><pre>[3636 values with dtype=float64]</pre></div></li><li class='xr-var-item'><div class='xr-var-name'><span>model_dir</span></div><div class='xr-var-dims'>(AS_TIME, NUMCELLS)</div><div class='xr-var-dtype'>float64</div><div class='xr-var-preview xr-preview'>...</div><input id='attrs-d6ee4cc0-0f11-4698-8d86-b63e57a14704' class='xr-var-attrs-in' type='checkbox' ><label for='attrs-d6ee4cc0-0f11-4698-8d86-b63e57a14704' title='Show/Hide attributes'><svg class='icon xr-icon-file-text2'><use xlink:href='#icon-file-text2'></use></svg></label><input id='data-3751f451-eec4-4fc7-8708-aea6eb656c96' class='xr-var-data-in' type='checkbox'><label for='data-3751f451-eec4-4fc7-8708-aea6eb656c96' title='Show/Hide data repr'><svg class='icon xr-icon-database'><use xlink:href='#icon-database'></use></svg></label><div class='xr-var-attrs'><dl class='xr-attrs'><dt><span>valid_min :</span></dt><dd>0</dd><dt><span>valid_max :</span></dt><dd>3600</dd><dt><span>long_name :</span></dt><dd>model wind direction at 10 m</dd><dt><span>units :</span></dt><dd>degree</dd></dl></div><div class='xr-var-data'><pre>[3636 values with dtype=float64]</pre></div></li><li class='xr-var-item'><div class='xr-var-name'><span>ice_prob</span></div><div class='xr-var-dims'>(AS_TIME, NUMCELLS)</div><div class='xr-var-dtype'>float64</div><div class='xr-var-preview xr-preview'>...</div><input id='attrs-262d1f29-f95f-4c02-bf3f-e1b3b5cc6ec5' class='xr-var-attrs-in' type='checkbox' ><label for='attrs-262d1f29-f95f-4c02-bf3f-e1b3b5cc6ec5' title='Show/Hide attributes'><svg class='icon xr-icon-file-text2'><use xlink:href='#icon-file-text2'></use></svg></label><input id='data-aaf0692a-a796-447a-9462-5e8dd9755f66' class='xr-var-data-in' type='checkbox'><label for='data-aaf0692a-a796-447a-9462-5e8dd9755f66' title='Show/Hide data repr'><svg class='icon xr-icon-database'><use xlink:href='#icon-database'></use></svg></label><div class='xr-var-attrs'><dl class='xr-attrs'><dt><span>valid_min :</span></dt><dd>0</dd><dt><span>valid_max :</span></dt><dd>1000</dd><dt><span>long_name :</span></dt><dd>ice probability</dd><dt><span>units :</span></dt><dd>1</dd></dl></div><div class='xr-var-data'><pre>[3636 values with dtype=float64]</pre></div></li><li class='xr-var-item'><div class='xr-var-name'><span>ice_age</span></div><div class='xr-var-dims'>(AS_TIME, NUMCELLS)</div><div class='xr-var-dtype'>float64</div><div class='xr-var-preview xr-preview'>...</div><input id='attrs-0ba7a135-fa07-4775-98f3-461b046f3a49' class='xr-var-attrs-in' type='checkbox' ><label for='attrs-0ba7a135-fa07-4775-98f3-461b046f3a49' title='Show/Hide attributes'><svg class='icon xr-icon-file-text2'><use xlink:href='#icon-file-text2'></use></svg></label><input id='data-4e2a694a-d7d0-4357-99db-fad67a9b5ea1' class='xr-var-data-in' type='checkbox'><label for='data-4e2a694a-d7d0-4357-99db-fad67a9b5ea1' title='Show/Hide data repr'><svg class='icon xr-icon-database'><use xlink:href='#icon-database'></use></svg></label><div class='xr-var-attrs'><dl class='xr-attrs'><dt><span>valid_min :</span></dt><dd>-5000</dd><dt><span>valid_max :</span></dt><dd>5000</dd><dt><span>long_name :</span></dt><dd>ice age (a-parameter)</dd><dt><span>units :</span></dt><dd>dB</dd></dl></div><div class='xr-var-data'><pre>[3636 values with dtype=float64]</pre></div></li><li class='xr-var-item'><div class='xr-var-name'><span>wvc_quality_flag</span></div><div class='xr-var-dims'>(AS_TIME, NUMCELLS)</div><div class='xr-var-dtype'>float64</div><div class='xr-var-preview xr-preview'>...</div><input id='attrs-85532f63-3b8a-4222-b786-01ccb00db7e3' class='xr-var-attrs-in' type='checkbox' ><label for='attrs-85532f63-3b8a-4222-b786-01ccb00db7e3' title='Show/Hide attributes'><svg class='icon xr-icon-file-text2'><use xlink:href='#icon-file-text2'></use></svg></label><input id='data-4d64c774-a506-4d24-b5d5-8fbb17a08f21' class='xr-var-data-in' type='checkbox'><label for='data-4d64c774-a506-4d24-b5d5-8fbb17a08f21' title='Show/Hide data repr'><svg class='icon xr-icon-database'><use xlink:href='#icon-database'></use></svg></label><div class='xr-var-attrs'><dl class='xr-attrs'><dt><span>valid_min :</span></dt><dd>0</dd><dt><span>valid_max :</span></dt><dd>8388607</dd><dt><span>long_name :</span></dt><dd>wind vector cell quality</dd><dt><span>flag_masks :</span></dt><dd>[     64     128     256     512    1024    2048    4096    8192   16384\n",
       "   32768   65536  131072  262144  524288 1048576 2097152 4194304]</dd><dt><span>flag_meanings :</span></dt><dd>distance_to_gmf_too_large data_are_redundant no_meteorological_background_used rain_detected rain_flag_not_usable small_wind_less_than_or_equal_to_3_m_s large_wind_greater_than_30_m_s wind_inversion_not_successful some_portion_of_wvc_is_over_ice some_portion_of_wvc_is_over_land variational_quality_control_fails knmi_quality_control_fails product_monitoring_event_flag product_monitoring_not_used any_beam_noise_content_above_threshold poor_azimuth_diversity not_enough_good_sigma0_for_wind_retrieval</dd></dl></div><div class='xr-var-data'><pre>[3636 values with dtype=float64]</pre></div></li><li class='xr-var-item'><div class='xr-var-name'><span>wind_speed</span></div><div class='xr-var-dims'>(AS_TIME, NUMCELLS)</div><div class='xr-var-dtype'>float64</div><div class='xr-var-preview xr-preview'>...</div><input id='attrs-e17983f4-2064-4693-91d6-262ebc9c0013' class='xr-var-attrs-in' type='checkbox' ><label for='attrs-e17983f4-2064-4693-91d6-262ebc9c0013' title='Show/Hide attributes'><svg class='icon xr-icon-file-text2'><use xlink:href='#icon-file-text2'></use></svg></label><input id='data-37f2ca25-d0a0-4750-bcc1-0db25d90610a' class='xr-var-data-in' type='checkbox'><label for='data-37f2ca25-d0a0-4750-bcc1-0db25d90610a' title='Show/Hide data repr'><svg class='icon xr-icon-database'><use xlink:href='#icon-database'></use></svg></label><div class='xr-var-attrs'><dl class='xr-attrs'><dt><span>valid_min :</span></dt><dd>0</dd><dt><span>valid_max :</span></dt><dd>5000</dd><dt><span>long_name :</span></dt><dd>wind speed at 10 m</dd><dt><span>units :</span></dt><dd>m s-1</dd></dl></div><div class='xr-var-data'><pre>[3636 values with dtype=float64]</pre></div></li><li class='xr-var-item'><div class='xr-var-name'><span>wind_dir</span></div><div class='xr-var-dims'>(AS_TIME, NUMCELLS)</div><div class='xr-var-dtype'>float64</div><div class='xr-var-preview xr-preview'>...</div><input id='attrs-f11ea769-af1b-43e5-8970-8187862af8b9' class='xr-var-attrs-in' type='checkbox' ><label for='attrs-f11ea769-af1b-43e5-8970-8187862af8b9' title='Show/Hide attributes'><svg class='icon xr-icon-file-text2'><use xlink:href='#icon-file-text2'></use></svg></label><input id='data-269b9a91-aade-4222-b846-da2f95ff067c' class='xr-var-data-in' type='checkbox'><label for='data-269b9a91-aade-4222-b846-da2f95ff067c' title='Show/Hide data repr'><svg class='icon xr-icon-database'><use xlink:href='#icon-database'></use></svg></label><div class='xr-var-attrs'><dl class='xr-attrs'><dt><span>valid_min :</span></dt><dd>0</dd><dt><span>valid_max :</span></dt><dd>3600</dd><dt><span>long_name :</span></dt><dd>wind direction at 10 m</dd><dt><span>units :</span></dt><dd>degree</dd></dl></div><div class='xr-var-data'><pre>[3636 values with dtype=float64]</pre></div></li><li class='xr-var-item'><div class='xr-var-name'><span>bs_distance</span></div><div class='xr-var-dims'>(AS_TIME, NUMCELLS)</div><div class='xr-var-dtype'>float64</div><div class='xr-var-preview xr-preview'>...</div><input id='attrs-dafbb1ec-9d3c-4938-98e2-a245b8eaf2e8' class='xr-var-attrs-in' type='checkbox' ><label for='attrs-dafbb1ec-9d3c-4938-98e2-a245b8eaf2e8' title='Show/Hide attributes'><svg class='icon xr-icon-file-text2'><use xlink:href='#icon-file-text2'></use></svg></label><input id='data-c5e0cfe8-bb55-4f01-9c8e-3a2c659a8f3c' class='xr-var-data-in' type='checkbox'><label for='data-c5e0cfe8-bb55-4f01-9c8e-3a2c659a8f3c' title='Show/Hide data repr'><svg class='icon xr-icon-database'><use xlink:href='#icon-database'></use></svg></label><div class='xr-var-attrs'><dl class='xr-attrs'><dt><span>valid_min :</span></dt><dd>-500</dd><dt><span>valid_max :</span></dt><dd>500</dd><dt><span>long_name :</span></dt><dd>backscatter distance</dd><dt><span>units :</span></dt><dd>1</dd></dl></div><div class='xr-var-data'><pre>[3636 values with dtype=float64]</pre></div></li><li class='xr-var-item'><div class='xr-var-name'><span>dist_from_TAO_pos</span></div><div class='xr-var-dims'>(AS_TIME, NUMCELLS)</div><div class='xr-var-dtype'>float64</div><div class='xr-var-preview xr-preview'>...</div><input id='attrs-f1be1633-c97a-48fa-94cd-05e1feee643d' class='xr-var-attrs-in' type='checkbox' ><label for='attrs-f1be1633-c97a-48fa-94cd-05e1feee643d' title='Show/Hide attributes'><svg class='icon xr-icon-file-text2'><use xlink:href='#icon-file-text2'></use></svg></label><input id='data-e25eed0f-8bf9-48a8-af29-d49f9458a78b' class='xr-var-data-in' type='checkbox'><label for='data-e25eed0f-8bf9-48a8-af29-d49f9458a78b' title='Show/Hide data repr'><svg class='icon xr-icon-database'><use xlink:href='#icon-database'></use></svg></label><div class='xr-var-attrs'><dl class='xr-attrs'><dt><span>units :</span></dt><dd>kilometers</dd><dt><span>long_name :</span></dt><dd>great circle distance from TAO position</dd></dl></div><div class='xr-var-data'><pre>[3636 values with dtype=float64]</pre></div></li><li class='xr-var-item'><div class='xr-var-name'><span>WDIR</span></div><div class='xr-var-dims'>(AS_TIME, HEIGHT)</div><div class='xr-var-dtype'>float32</div><div class='xr-var-preview xr-preview'>...</div><input id='attrs-9070d113-6660-4bf6-8a24-c048388b5e66' class='xr-var-attrs-in' type='checkbox' disabled><label for='attrs-9070d113-6660-4bf6-8a24-c048388b5e66' title='Show/Hide attributes'><svg class='icon xr-icon-file-text2'><use xlink:href='#icon-file-text2'></use></svg></label><input id='data-c23788ff-5563-4755-938a-fe9030961b3f' class='xr-var-data-in' type='checkbox'><label for='data-c23788ff-5563-4755-938a-fe9030961b3f' title='Show/Hide data repr'><svg class='icon xr-icon-database'><use xlink:href='#icon-database'></use></svg></label><div class='xr-var-attrs'><dl class='xr-attrs'></dl></div><div class='xr-var-data'><pre>[3636 values with dtype=float32]</pre></div></li><li class='xr-var-item'><div class='xr-var-name'><span>WDIR_QC</span></div><div class='xr-var-dims'>(AS_TIME, HEIGHT)</div><div class='xr-var-dtype'>float32</div><div class='xr-var-preview xr-preview'>...</div><input id='attrs-bca3ad91-092d-410b-89b1-972ae3a06645' class='xr-var-attrs-in' type='checkbox' ><label for='attrs-bca3ad91-092d-410b-89b1-972ae3a06645' title='Show/Hide attributes'><svg class='icon xr-icon-file-text2'><use xlink:href='#icon-file-text2'></use></svg></label><input id='data-bfa1f354-2988-472c-9ae0-e67da018ee58' class='xr-var-data-in' type='checkbox'><label for='data-bfa1f354-2988-472c-9ae0-e67da018ee58' title='Show/Hide data repr'><svg class='icon xr-icon-database'><use xlink:href='#icon-database'></use></svg></label><div class='xr-var-attrs'><dl class='xr-attrs'><dt><span>long_name :</span></dt><dd>quality flag</dd><dt><span>valid_min :</span></dt><dd>0</dd><dt><span>valid_max :</span></dt><dd>9</dd><dt><span>flag_values :</span></dt><dd>[0 1 2 3 4 9]</dd><dt><span>flag_meanings :</span></dt><dd>unknown good_data probably_good_data questionable_data bad_data missing_data</dd><dt><span>coordinates :</span></dt><dd>TIME HEIGHT LATITUDE LONGITUDE</dd></dl></div><div class='xr-var-data'><pre>[3636 values with dtype=float32]</pre></div></li><li class='xr-var-item'><div class='xr-var-name'><span>WDIR_DM</span></div><div class='xr-var-dims'>(AS_TIME, HEIGHT)</div><div class='xr-var-dtype'>|S1</div><div class='xr-var-preview xr-preview'>...</div><input id='attrs-8ec24148-635b-485d-b86f-95149106e8f7' class='xr-var-attrs-in' type='checkbox' ><label for='attrs-8ec24148-635b-485d-b86f-95149106e8f7' title='Show/Hide attributes'><svg class='icon xr-icon-file-text2'><use xlink:href='#icon-file-text2'></use></svg></label><input id='data-5f74a83a-2d94-43a8-9a0c-af2b6ed69324' class='xr-var-data-in' type='checkbox'><label for='data-5f74a83a-2d94-43a8-9a0c-af2b6ed69324' title='Show/Hide data repr'><svg class='icon xr-icon-database'><use xlink:href='#icon-database'></use></svg></label><div class='xr-var-attrs'><dl class='xr-attrs'><dt><span>long_name :</span></dt><dd>data mode</dd><dt><span>flag_values :</span></dt><dd>R, P, D, M</dd><dt><span>flag_meanings :</span></dt><dd>real-time provisional delayed-mode mixed</dd><dt><span>coordinates :</span></dt><dd>TIME HEIGHT LATITUDE LONGITUDE</dd></dl></div><div class='xr-var-data'><pre>[3636 values with dtype=|S1]</pre></div></li><li class='xr-var-item'><div class='xr-var-name'><span>WSPD</span></div><div class='xr-var-dims'>(AS_TIME, HEIGHT)</div><div class='xr-var-dtype'>float32</div><div class='xr-var-preview xr-preview'>...</div><input id='attrs-d1068933-1ad0-4107-94b7-d2466bea9e61' class='xr-var-attrs-in' type='checkbox' ><label for='attrs-d1068933-1ad0-4107-94b7-d2466bea9e61' title='Show/Hide attributes'><svg class='icon xr-icon-file-text2'><use xlink:href='#icon-file-text2'></use></svg></label><input id='data-bc37646e-4982-4668-93fb-1bb5f379a310' class='xr-var-data-in' type='checkbox'><label for='data-bc37646e-4982-4668-93fb-1bb5f379a310' title='Show/Hide data repr'><svg class='icon xr-icon-database'><use xlink:href='#icon-database'></use></svg></label><div class='xr-var-attrs'><dl class='xr-attrs'><dt><span>standard_name :</span></dt><dd>wind_speed</dd><dt><span>long_name :</span></dt><dd>Wind Speed</dd><dt><span>units :</span></dt><dd>meters/second</dd><dt><span>valid_min :</span></dt><dd>0.0</dd><dt><span>valid_max :</span></dt><dd>20.0</dd><dt><span>accuracy :</span></dt><dd>0.3 meters/second or 3%</dd><dt><span>resolution :</span></dt><dd>0.2</dd><dt><span>sensor_name :</span></dt><dd>Wind Propeller [R.M. Young/05103]</dd><dt><span>sensor_serial_number :</span></dt><dd>WIND-28514</dd><dt><span>ancillary_variables :</span></dt><dd>WSPD_QC WSPD_DM</dd><dt><span>cell_methods :</span></dt><dd>TIME: mean (interval: 2 minutes) HEIGHT:point LATITUDE:point LONGITUDE:point</dd><dt><span>coordinates :</span></dt><dd>TIME HEIGHT LATITUDE LONGITUDE</dd></dl></div><div class='xr-var-data'><pre>[3636 values with dtype=float32]</pre></div></li><li class='xr-var-item'><div class='xr-var-name'><span>WSPD_QC</span></div><div class='xr-var-dims'>(AS_TIME, HEIGHT)</div><div class='xr-var-dtype'>float32</div><div class='xr-var-preview xr-preview'>...</div><input id='attrs-ff3668ad-fe82-4481-8174-c25361705f31' class='xr-var-attrs-in' type='checkbox' ><label for='attrs-ff3668ad-fe82-4481-8174-c25361705f31' title='Show/Hide attributes'><svg class='icon xr-icon-file-text2'><use xlink:href='#icon-file-text2'></use></svg></label><input id='data-4c1b70d9-80e9-4cff-bd34-097df63dd744' class='xr-var-data-in' type='checkbox'><label for='data-4c1b70d9-80e9-4cff-bd34-097df63dd744' title='Show/Hide data repr'><svg class='icon xr-icon-database'><use xlink:href='#icon-database'></use></svg></label><div class='xr-var-attrs'><dl class='xr-attrs'><dt><span>long_name :</span></dt><dd>quality flag</dd><dt><span>valid_min :</span></dt><dd>0</dd><dt><span>valid_max :</span></dt><dd>9</dd><dt><span>flag_values :</span></dt><dd>[0 1 2 3 4 9]</dd><dt><span>flag_meanings :</span></dt><dd>unknown good_data probably_good_data questionable_data bad_data missing_data</dd><dt><span>coordinates :</span></dt><dd>TIME HEIGHT LATITUDE LONGITUDE</dd></dl></div><div class='xr-var-data'><pre>[3636 values with dtype=float32]</pre></div></li><li class='xr-var-item'><div class='xr-var-name'><span>WSPD_DM</span></div><div class='xr-var-dims'>(AS_TIME, HEIGHT)</div><div class='xr-var-dtype'>|S1</div><div class='xr-var-preview xr-preview'>...</div><input id='attrs-81f43257-9110-470f-a2f7-b20e51967c3a' class='xr-var-attrs-in' type='checkbox' ><label for='attrs-81f43257-9110-470f-a2f7-b20e51967c3a' title='Show/Hide attributes'><svg class='icon xr-icon-file-text2'><use xlink:href='#icon-file-text2'></use></svg></label><input id='data-2e76c573-b739-4cf9-99db-5eba1c3b617c' class='xr-var-data-in' type='checkbox'><label for='data-2e76c573-b739-4cf9-99db-5eba1c3b617c' title='Show/Hide data repr'><svg class='icon xr-icon-database'><use xlink:href='#icon-database'></use></svg></label><div class='xr-var-attrs'><dl class='xr-attrs'><dt><span>long_name :</span></dt><dd>data mode</dd><dt><span>flag_values :</span></dt><dd>R, P, D, M</dd><dt><span>flag_meanings :</span></dt><dd>real-time provisional delayed-mode mixed</dd><dt><span>coordinates :</span></dt><dd>TIME HEIGHT LATITUDE LONGITUDE</dd></dl></div><div class='xr-var-data'><pre>[3636 values with dtype=|S1]</pre></div></li><li class='xr-var-item'><div class='xr-var-name'><span>UWND</span></div><div class='xr-var-dims'>(AS_TIME, HEIGHT)</div><div class='xr-var-dtype'>float32</div><div class='xr-var-preview xr-preview'>...</div><input id='attrs-545a44fc-00e4-42b7-b247-382d477cf15e' class='xr-var-attrs-in' type='checkbox' ><label for='attrs-545a44fc-00e4-42b7-b247-382d477cf15e' title='Show/Hide attributes'><svg class='icon xr-icon-file-text2'><use xlink:href='#icon-file-text2'></use></svg></label><input id='data-94363d9b-69d7-4a50-9f0c-c0294f20edb9' class='xr-var-data-in' type='checkbox'><label for='data-94363d9b-69d7-4a50-9f0c-c0294f20edb9' title='Show/Hide data repr'><svg class='icon xr-icon-database'><use xlink:href='#icon-database'></use></svg></label><div class='xr-var-attrs'><dl class='xr-attrs'><dt><span>standard_name :</span></dt><dd>eastward_wind</dd><dt><span>long_name :</span></dt><dd>Wind Speed U Component</dd><dt><span>units :</span></dt><dd>meters/second</dd><dt><span>valid_min :</span></dt><dd>0.0</dd><dt><span>valid_max :</span></dt><dd>20.0</dd><dt><span>accuracy :</span></dt><dd>0.3 meters/second or 3%</dd><dt><span>resolution :</span></dt><dd>0.2</dd><dt><span>sensor_name :</span></dt><dd>Wind Propeller [R.M. Young/05103]</dd><dt><span>sensor_serial_number :</span></dt><dd>WIND-28514</dd><dt><span>ancillary_variables :</span></dt><dd>WDIR_QC WDIR_DM WSPD_QC WSPD_DM</dd><dt><span>cell_methods :</span></dt><dd>TIME: mean (interval: 2 minutes) HEIGHT:point LATITUDE:point LONGITUDE:point</dd><dt><span>coordinates :</span></dt><dd>TIME HEIGHT LATITUDE LONGITUDE</dd></dl></div><div class='xr-var-data'><pre>[3636 values with dtype=float32]</pre></div></li><li class='xr-var-item'><div class='xr-var-name'><span>VWND</span></div><div class='xr-var-dims'>(AS_TIME, HEIGHT)</div><div class='xr-var-dtype'>float32</div><div class='xr-var-preview xr-preview'>...</div><input id='attrs-764e8808-fc3c-48b8-93e6-3c21ff3a1277' class='xr-var-attrs-in' type='checkbox' ><label for='attrs-764e8808-fc3c-48b8-93e6-3c21ff3a1277' title='Show/Hide attributes'><svg class='icon xr-icon-file-text2'><use xlink:href='#icon-file-text2'></use></svg></label><input id='data-38aaa760-8725-4960-aad0-20176fcee88c' class='xr-var-data-in' type='checkbox'><label for='data-38aaa760-8725-4960-aad0-20176fcee88c' title='Show/Hide data repr'><svg class='icon xr-icon-database'><use xlink:href='#icon-database'></use></svg></label><div class='xr-var-attrs'><dl class='xr-attrs'><dt><span>standard_name :</span></dt><dd>northward_wind</dd><dt><span>long_name :</span></dt><dd>Wind Speed V Component</dd><dt><span>units :</span></dt><dd>meters/second</dd><dt><span>valid_min :</span></dt><dd>0.0</dd><dt><span>valid_max :</span></dt><dd>20.0</dd><dt><span>accuracy :</span></dt><dd>0.3 meters/second or 3%</dd><dt><span>resolution :</span></dt><dd>0.2</dd><dt><span>sensor_name :</span></dt><dd>Wind Propeller [R.M. Young/05103]</dd><dt><span>sensor_serial_number :</span></dt><dd>WIND-28514</dd><dt><span>ancillary_variables :</span></dt><dd>WDIR_QC WDIR_DM WSPD_QC WSPD_DM</dd><dt><span>cell_methods :</span></dt><dd>TIME: mean (interval: 2 minutes) HEIGHT:point LATITUDE:point LONGITUDE:point</dd><dt><span>coordinates :</span></dt><dd>TIME HEIGHT LATITUDE LONGITUDE</dd></dl></div><div class='xr-var-data'><pre>[3636 values with dtype=float32]</pre></div></li><li class='xr-var-item'><div class='xr-var-name'><span>SST</span></div><div class='xr-var-dims'>(AS_TIME, DEPTH)</div><div class='xr-var-dtype'>float32</div><div class='xr-var-preview xr-preview'>...</div><input id='attrs-1fc0b1f5-687c-40c1-83dd-ecb31ca57b14' class='xr-var-attrs-in' type='checkbox' ><label for='attrs-1fc0b1f5-687c-40c1-83dd-ecb31ca57b14' title='Show/Hide attributes'><svg class='icon xr-icon-file-text2'><use xlink:href='#icon-file-text2'></use></svg></label><input id='data-719c3d72-6846-4a80-a64e-10d98fe59718' class='xr-var-data-in' type='checkbox'><label for='data-719c3d72-6846-4a80-a64e-10d98fe59718' title='Show/Hide data repr'><svg class='icon xr-icon-database'><use xlink:href='#icon-database'></use></svg></label><div class='xr-var-attrs'><dl class='xr-attrs'><dt><span>standard_name :</span></dt><dd>sea_surface_temperature</dd><dt><span>long_name :</span></dt><dd>Sea Surface Temperature</dd><dt><span>units :</span></dt><dd>degree_Celsius</dd><dt><span>valid_min :</span></dt><dd>-5.0</dd><dt><span>valid_max :</span></dt><dd>35.0</dd><dt><span>accuracy :</span></dt><dd>0.003</dd><dt><span>resolution :</span></dt><dd>0.001</dd><dt><span>sensor_name :</span></dt><dd>Thermistor [Seabird/SBE 16/37]</dd><dt><span>sensor_serial_number :</span></dt><dd>SST-11582/1m </dd><dt><span>ancillary_variables :</span></dt><dd>SST_QC SST_DM</dd><dt><span>cell_methods :</span></dt><dd>TIME:point DEPTH:point LATITUDE:point LONGITUDE:point</dd><dt><span>reference_scale :</span></dt><dd>ITS-90</dd><dt><span>coordinates :</span></dt><dd>TIME DEPTH LATITUDE LONGITUDE</dd></dl></div><div class='xr-var-data'><pre>[1212 values with dtype=float32]</pre></div></li><li class='xr-var-item'><div class='xr-var-name'><span>SST_QC</span></div><div class='xr-var-dims'>(AS_TIME, DEPTH)</div><div class='xr-var-dtype'>float32</div><div class='xr-var-preview xr-preview'>...</div><input id='attrs-d244ad36-961c-4f07-ba1b-314e440c22cd' class='xr-var-attrs-in' type='checkbox' ><label for='attrs-d244ad36-961c-4f07-ba1b-314e440c22cd' title='Show/Hide attributes'><svg class='icon xr-icon-file-text2'><use xlink:href='#icon-file-text2'></use></svg></label><input id='data-0a364837-591e-4995-9fca-12b24cb12447' class='xr-var-data-in' type='checkbox'><label for='data-0a364837-591e-4995-9fca-12b24cb12447' title='Show/Hide data repr'><svg class='icon xr-icon-database'><use xlink:href='#icon-database'></use></svg></label><div class='xr-var-attrs'><dl class='xr-attrs'><dt><span>long_name :</span></dt><dd>quality flag</dd><dt><span>valid_min :</span></dt><dd>0</dd><dt><span>valid_max :</span></dt><dd>9</dd><dt><span>flag_values :</span></dt><dd>[0 1 2 3 4 9]</dd><dt><span>flag_meanings :</span></dt><dd>unknown good_data probably_good_data questionable_data bad_data missing_data</dd><dt><span>coordinates :</span></dt><dd>TIME DEPTH LATITUDE LONGITUDE</dd></dl></div><div class='xr-var-data'><pre>[1212 values with dtype=float32]</pre></div></li><li class='xr-var-item'><div class='xr-var-name'><span>SST_DM</span></div><div class='xr-var-dims'>(AS_TIME, DEPTH)</div><div class='xr-var-dtype'>|S1</div><div class='xr-var-preview xr-preview'>...</div><input id='attrs-ec74c4cd-1e40-4c00-b821-446db0aff9c3' class='xr-var-attrs-in' type='checkbox' ><label for='attrs-ec74c4cd-1e40-4c00-b821-446db0aff9c3' title='Show/Hide attributes'><svg class='icon xr-icon-file-text2'><use xlink:href='#icon-file-text2'></use></svg></label><input id='data-a1527562-f08f-4c80-8b1b-687c50805c23' class='xr-var-data-in' type='checkbox'><label for='data-a1527562-f08f-4c80-8b1b-687c50805c23' title='Show/Hide data repr'><svg class='icon xr-icon-database'><use xlink:href='#icon-database'></use></svg></label><div class='xr-var-attrs'><dl class='xr-attrs'><dt><span>long_name :</span></dt><dd>data mode</dd><dt><span>flag_values :</span></dt><dd>R, P, D, M</dd><dt><span>flag_meanings :</span></dt><dd>real-time provisional delayed-mode mixed</dd><dt><span>coordinates :</span></dt><dd>TIME DEPTH LATITUDE LONGITUDE</dd></dl></div><div class='xr-var-data'><pre>[1212 values with dtype=|S1]</pre></div></li><li class='xr-var-item'><div class='xr-var-name'><span>AIRT</span></div><div class='xr-var-dims'>(AS_TIME, HEIGHT)</div><div class='xr-var-dtype'>float32</div><div class='xr-var-preview xr-preview'>...</div><input id='attrs-ce5e7383-79cd-4692-9ff3-4ec85e8e6213' class='xr-var-attrs-in' type='checkbox' ><label for='attrs-ce5e7383-79cd-4692-9ff3-4ec85e8e6213' title='Show/Hide attributes'><svg class='icon xr-icon-file-text2'><use xlink:href='#icon-file-text2'></use></svg></label><input id='data-61056040-5cc2-493c-bd04-a73b7979281a' class='xr-var-data-in' type='checkbox'><label for='data-61056040-5cc2-493c-bd04-a73b7979281a' title='Show/Hide data repr'><svg class='icon xr-icon-database'><use xlink:href='#icon-database'></use></svg></label><div class='xr-var-attrs'><dl class='xr-attrs'><dt><span>standard_name :</span></dt><dd>air_temperature</dd><dt><span>long_name :</span></dt><dd>Air Temperature</dd><dt><span>units :</span></dt><dd>degree_Celsius</dd><dt><span>valid_min :</span></dt><dd>0.0</dd><dt><span>valid_max :</span></dt><dd>40.0</dd><dt><span>accuracy :</span></dt><dd>0.2 Degree C in range of 14-32 Degrees C</dd><dt><span>resolution :</span></dt><dd>0.01</dd><dt><span>sensor_name :</span></dt><dd>Humidity-temperature Pt100 RTD [Rotronics/MP101A]</dd><dt><span>sensor_serial_number :</span></dt><dd>AIR-28480</dd><dt><span>ancillary_variables :</span></dt><dd>AIRT_QC AIRT_DM</dd><dt><span>cell_methods :</span></dt><dd>TIME: mean (interval: 2 minutes) HEIGHT:point LATITUDE:point LONGITUDE:point</dd><dt><span>coordinates :</span></dt><dd>TIME HEIGHT LATITUDE LONGITUDE</dd></dl></div><div class='xr-var-data'><pre>[3636 values with dtype=float32]</pre></div></li><li class='xr-var-item'><div class='xr-var-name'><span>AIRT_QC</span></div><div class='xr-var-dims'>(AS_TIME, HEIGHT)</div><div class='xr-var-dtype'>float32</div><div class='xr-var-preview xr-preview'>...</div><input id='attrs-b426edae-8c75-4e76-bd0c-7004fdeaf369' class='xr-var-attrs-in' type='checkbox' ><label for='attrs-b426edae-8c75-4e76-bd0c-7004fdeaf369' title='Show/Hide attributes'><svg class='icon xr-icon-file-text2'><use xlink:href='#icon-file-text2'></use></svg></label><input id='data-8a9cd1ee-b2cb-4c7c-a254-9fd9fa13b860' class='xr-var-data-in' type='checkbox'><label for='data-8a9cd1ee-b2cb-4c7c-a254-9fd9fa13b860' title='Show/Hide data repr'><svg class='icon xr-icon-database'><use xlink:href='#icon-database'></use></svg></label><div class='xr-var-attrs'><dl class='xr-attrs'><dt><span>long_name :</span></dt><dd>quality flag</dd><dt><span>valid_min :</span></dt><dd>0</dd><dt><span>valid_max :</span></dt><dd>9</dd><dt><span>flag_values :</span></dt><dd>[0 1 2 3 4 9]</dd><dt><span>flag_meanings :</span></dt><dd>unknown good_data probably_good_data questionable_data bad_data missing_data</dd><dt><span>coordinates :</span></dt><dd>TIME HEIGHT LATITUDE LONGITUDE</dd></dl></div><div class='xr-var-data'><pre>[3636 values with dtype=float32]</pre></div></li><li class='xr-var-item'><div class='xr-var-name'><span>AIRT_DM</span></div><div class='xr-var-dims'>(AS_TIME, HEIGHT)</div><div class='xr-var-dtype'>|S1</div><div class='xr-var-preview xr-preview'>...</div><input id='attrs-43319084-78d5-4d99-8d65-bbf815c5b6b9' class='xr-var-attrs-in' type='checkbox' ><label for='attrs-43319084-78d5-4d99-8d65-bbf815c5b6b9' title='Show/Hide attributes'><svg class='icon xr-icon-file-text2'><use xlink:href='#icon-file-text2'></use></svg></label><input id='data-341f7196-487d-4303-99d6-6d7a7da2dfb4' class='xr-var-data-in' type='checkbox'><label for='data-341f7196-487d-4303-99d6-6d7a7da2dfb4' title='Show/Hide data repr'><svg class='icon xr-icon-database'><use xlink:href='#icon-database'></use></svg></label><div class='xr-var-attrs'><dl class='xr-attrs'><dt><span>long_name :</span></dt><dd>data mode</dd><dt><span>flag_values :</span></dt><dd>R, P, D, M</dd><dt><span>flag_meanings :</span></dt><dd>real-time provisional delayed-mode mixed</dd><dt><span>coordinates :</span></dt><dd>TIME HEIGHT LATITUDE LONGITUDE</dd></dl></div><div class='xr-var-data'><pre>[3636 values with dtype=|S1]</pre></div></li><li class='xr-var-item'><div class='xr-var-name'><span>RELH</span></div><div class='xr-var-dims'>(AS_TIME, HEIGHT)</div><div class='xr-var-dtype'>float32</div><div class='xr-var-preview xr-preview'>...</div><input id='attrs-15f1b74b-67ad-4419-8e45-0582ed2c35e1' class='xr-var-attrs-in' type='checkbox' ><label for='attrs-15f1b74b-67ad-4419-8e45-0582ed2c35e1' title='Show/Hide attributes'><svg class='icon xr-icon-file-text2'><use xlink:href='#icon-file-text2'></use></svg></label><input id='data-b05ba544-a983-437d-9635-35b9c75d8d7e' class='xr-var-data-in' type='checkbox'><label for='data-b05ba544-a983-437d-9635-35b9c75d8d7e' title='Show/Hide data repr'><svg class='icon xr-icon-database'><use xlink:href='#icon-database'></use></svg></label><div class='xr-var-attrs'><dl class='xr-attrs'><dt><span>standard_name :</span></dt><dd>relative_humidity</dd><dt><span>long_name :</span></dt><dd>Relative Humidity</dd><dt><span>units :</span></dt><dd>1</dd><dt><span>valid_min :</span></dt><dd>0.0</dd><dt><span>valid_max :</span></dt><dd>100.0</dd><dt><span>accuracy :</span></dt><dd>2.7%RH in range of 55-95 %RH</dd><dt><span>resolution :</span></dt><dd>0.4</dd><dt><span>sensor_name :</span></dt><dd>Humidity-temperature Capacitance [Rotronics/MP101A]</dd><dt><span>sensor_serial_number :</span></dt><dd>RH-28480</dd><dt><span>ancillary_variables :</span></dt><dd>RELH_QC RELH_DM</dd><dt><span>cell_methods :</span></dt><dd>TIME: mean (interval: 2 minutes) HEIGHT:point LATITUDE:point LONGITUDE:point</dd><dt><span>coordinates :</span></dt><dd>TIME HEIGHT LATITUDE LONGITUDE</dd></dl></div><div class='xr-var-data'><pre>[3636 values with dtype=float32]</pre></div></li><li class='xr-var-item'><div class='xr-var-name'><span>RELH_QC</span></div><div class='xr-var-dims'>(AS_TIME, HEIGHT)</div><div class='xr-var-dtype'>float32</div><div class='xr-var-preview xr-preview'>...</div><input id='attrs-f8fb88ab-8541-4735-81d4-10e55a1de2d7' class='xr-var-attrs-in' type='checkbox' ><label for='attrs-f8fb88ab-8541-4735-81d4-10e55a1de2d7' title='Show/Hide attributes'><svg class='icon xr-icon-file-text2'><use xlink:href='#icon-file-text2'></use></svg></label><input id='data-55a47511-8c20-419d-825e-df12fa2f1ce8' class='xr-var-data-in' type='checkbox'><label for='data-55a47511-8c20-419d-825e-df12fa2f1ce8' title='Show/Hide data repr'><svg class='icon xr-icon-database'><use xlink:href='#icon-database'></use></svg></label><div class='xr-var-attrs'><dl class='xr-attrs'><dt><span>long_name :</span></dt><dd>quality flag</dd><dt><span>valid_min :</span></dt><dd>0</dd><dt><span>valid_max :</span></dt><dd>9</dd><dt><span>flag_values :</span></dt><dd>[0 1 2 3 4 9]</dd><dt><span>flag_meanings :</span></dt><dd>unknown good_data probably_good_data questionable_data bad_data missing_data</dd><dt><span>coordinates :</span></dt><dd>TIME HEIGHT LATITUDE LONGITUDE</dd></dl></div><div class='xr-var-data'><pre>[3636 values with dtype=float32]</pre></div></li><li class='xr-var-item'><div class='xr-var-name'><span>RELH_DM</span></div><div class='xr-var-dims'>(AS_TIME, HEIGHT)</div><div class='xr-var-dtype'>|S1</div><div class='xr-var-preview xr-preview'>...</div><input id='attrs-4bbcd12e-2f4c-4494-918c-87d36f048822' class='xr-var-attrs-in' type='checkbox' ><label for='attrs-4bbcd12e-2f4c-4494-918c-87d36f048822' title='Show/Hide attributes'><svg class='icon xr-icon-file-text2'><use xlink:href='#icon-file-text2'></use></svg></label><input id='data-ecabba66-8be8-4aa0-8b4b-e8973b51dc89' class='xr-var-data-in' type='checkbox'><label for='data-ecabba66-8be8-4aa0-8b4b-e8973b51dc89' title='Show/Hide data repr'><svg class='icon xr-icon-database'><use xlink:href='#icon-database'></use></svg></label><div class='xr-var-attrs'><dl class='xr-attrs'><dt><span>long_name :</span></dt><dd>data mode</dd><dt><span>flag_values :</span></dt><dd>R, P, D, M</dd><dt><span>flag_meanings :</span></dt><dd>real-time provisional delayed-mode mixed</dd><dt><span>coordinates :</span></dt><dd>TIME HEIGHT LATITUDE LONGITUDE</dd></dl></div><div class='xr-var-data'><pre>[3636 values with dtype=|S1]</pre></div></li><li class='xr-var-item'><div class='xr-var-name'><span>WSPD_10N</span></div><div class='xr-var-dims'>(HEIGHT, AS_TIME)</div><div class='xr-var-dtype'>float64</div><div class='xr-var-preview xr-preview'>...</div><input id='attrs-dd6cc94d-46ee-4e14-a1ba-03d8eb948e85' class='xr-var-attrs-in' type='checkbox' ><label for='attrs-dd6cc94d-46ee-4e14-a1ba-03d8eb948e85' title='Show/Hide attributes'><svg class='icon xr-icon-file-text2'><use xlink:href='#icon-file-text2'></use></svg></label><input id='data-1078e627-01e5-43bc-90f3-abc08679fb2f' class='xr-var-data-in' type='checkbox'><label for='data-1078e627-01e5-43bc-90f3-abc08679fb2f' title='Show/Hide data repr'><svg class='icon xr-icon-database'><use xlink:href='#icon-database'></use></svg></label><div class='xr-var-attrs'><dl class='xr-attrs'><dt><span>units :</span></dt><dd>m/s</dd><dt><span>long_name :</span></dt><dd>10 m neutral winds from COARE3.5</dd><dt><span>vars_used_to_calculate :</span></dt><dd>SST RH AIRT WSPD</dd></dl></div><div class='xr-var-data'><pre>[3636 values with dtype=float64]</pre></div></li><li class='xr-var-item'><div class='xr-var-name'><span>WSPD_10</span></div><div class='xr-var-dims'>(HEIGHT, AS_TIME)</div><div class='xr-var-dtype'>float64</div><div class='xr-var-preview xr-preview'>...</div><input id='attrs-236be98a-6af4-4ebc-806d-ea34521e730d' class='xr-var-attrs-in' type='checkbox' ><label for='attrs-236be98a-6af4-4ebc-806d-ea34521e730d' title='Show/Hide attributes'><svg class='icon xr-icon-file-text2'><use xlink:href='#icon-file-text2'></use></svg></label><input id='data-7b10c250-7d0a-41c6-ab0a-142d2bdc1b3b' class='xr-var-data-in' type='checkbox'><label for='data-7b10c250-7d0a-41c6-ab0a-142d2bdc1b3b' title='Show/Hide data repr'><svg class='icon xr-icon-database'><use xlink:href='#icon-database'></use></svg></label><div class='xr-var-attrs'><dl class='xr-attrs'><dt><span>units :</span></dt><dd>m/s</dd><dt><span>long_name :</span></dt><dd>10 m winds from COARE3.5</dd><dt><span>vars_used_to_calculate :</span></dt><dd>SST RH AIRT WSPD</dd></dl></div><div class='xr-var-data'><pre>[3636 values with dtype=float64]</pre></div></li><li class='xr-var-item'><div class='xr-var-name'><span>SST - AIRT</span></div><div class='xr-var-dims'>(AS_TIME)</div><div class='xr-var-dtype'>float32</div><div class='xr-var-preview xr-preview'>...</div><input id='attrs-f20d1c49-57ee-4b8e-9200-6ea3eb5e4c98' class='xr-var-attrs-in' type='checkbox' disabled><label for='attrs-f20d1c49-57ee-4b8e-9200-6ea3eb5e4c98' title='Show/Hide attributes'><svg class='icon xr-icon-file-text2'><use xlink:href='#icon-file-text2'></use></svg></label><input id='data-b991bbbd-d28c-41f8-b0b8-ffa634e944b8' class='xr-var-data-in' type='checkbox'><label for='data-b991bbbd-d28c-41f8-b0b8-ffa634e944b8' title='Show/Hide data repr'><svg class='icon xr-icon-database'><use xlink:href='#icon-database'></use></svg></label><div class='xr-var-attrs'><dl class='xr-attrs'></dl></div><div class='xr-var-data'><pre>[1212 values with dtype=float32]</pre></div></li><li class='xr-var-item'><div class='xr-var-name'><span>cosWDIR</span></div><div class='xr-var-dims'>(AS_TIME, HEIGHT)</div><div class='xr-var-dtype'>float32</div><div class='xr-var-preview xr-preview'>...</div><input id='attrs-a502445c-e38f-47cb-9f47-a2325056e51a' class='xr-var-attrs-in' type='checkbox' disabled><label for='attrs-a502445c-e38f-47cb-9f47-a2325056e51a' title='Show/Hide attributes'><svg class='icon xr-icon-file-text2'><use xlink:href='#icon-file-text2'></use></svg></label><input id='data-2d593f98-c39a-432c-af70-6f9088972e25' class='xr-var-data-in' type='checkbox'><label for='data-2d593f98-c39a-432c-af70-6f9088972e25' title='Show/Hide data repr'><svg class='icon xr-icon-database'><use xlink:href='#icon-database'></use></svg></label><div class='xr-var-attrs'><dl class='xr-attrs'></dl></div><div class='xr-var-data'><pre>[3636 values with dtype=float32]</pre></div></li><li class='xr-var-item'><div class='xr-var-name'><span>sinWDIR</span></div><div class='xr-var-dims'>(AS_TIME, HEIGHT)</div><div class='xr-var-dtype'>float32</div><div class='xr-var-preview xr-preview'>...</div><input id='attrs-42a49b86-bc3d-4642-803c-f7950da8e021' class='xr-var-attrs-in' type='checkbox' disabled><label for='attrs-42a49b86-bc3d-4642-803c-f7950da8e021' title='Show/Hide attributes'><svg class='icon xr-icon-file-text2'><use xlink:href='#icon-file-text2'></use></svg></label><input id='data-7fd9dc1d-c27e-4e44-98cc-2ea6ea67a8d1' class='xr-var-data-in' type='checkbox'><label for='data-7fd9dc1d-c27e-4e44-98cc-2ea6ea67a8d1' title='Show/Hide data repr'><svg class='icon xr-icon-database'><use xlink:href='#icon-database'></use></svg></label><div class='xr-var-attrs'><dl class='xr-attrs'></dl></div><div class='xr-var-data'><pre>[3636 values with dtype=float32]</pre></div></li><li class='xr-var-item'><div class='xr-var-name'><span>U10N_x</span></div><div class='xr-var-dims'>(HEIGHT, AS_TIME)</div><div class='xr-var-dtype'>float64</div><div class='xr-var-preview xr-preview'>...</div><input id='attrs-454441bb-093e-4704-892a-feac559a3e82' class='xr-var-attrs-in' type='checkbox' disabled><label for='attrs-454441bb-093e-4704-892a-feac559a3e82' title='Show/Hide attributes'><svg class='icon xr-icon-file-text2'><use xlink:href='#icon-file-text2'></use></svg></label><input id='data-4d9aa881-df01-4b9b-a770-4141b3d60ddd' class='xr-var-data-in' type='checkbox'><label for='data-4d9aa881-df01-4b9b-a770-4141b3d60ddd' title='Show/Hide data repr'><svg class='icon xr-icon-database'><use xlink:href='#icon-database'></use></svg></label><div class='xr-var-attrs'><dl class='xr-attrs'></dl></div><div class='xr-var-data'><pre>[3636 values with dtype=float64]</pre></div></li><li class='xr-var-item'><div class='xr-var-name'><span>U10N_y</span></div><div class='xr-var-dims'>(HEIGHT, AS_TIME)</div><div class='xr-var-dtype'>float64</div><div class='xr-var-preview xr-preview'>...</div><input id='attrs-0bc6af9b-9c55-4039-8f2f-3f42f62abcc2' class='xr-var-attrs-in' type='checkbox' disabled><label for='attrs-0bc6af9b-9c55-4039-8f2f-3f42f62abcc2' title='Show/Hide attributes'><svg class='icon xr-icon-file-text2'><use xlink:href='#icon-file-text2'></use></svg></label><input id='data-203fddfa-272e-405d-b311-d8962c0fcdc5' class='xr-var-data-in' type='checkbox'><label for='data-203fddfa-272e-405d-b311-d8962c0fcdc5' title='Show/Hide data repr'><svg class='icon xr-icon-database'><use xlink:href='#icon-database'></use></svg></label><div class='xr-var-attrs'><dl class='xr-attrs'></dl></div><div class='xr-var-data'><pre>[3636 values with dtype=float64]</pre></div></li><li class='xr-var-item'><div class='xr-var-name'><span>mean_WSPD</span></div><div class='xr-var-dims'>(AS_TIME)</div><div class='xr-var-dtype'>float64</div><div class='xr-var-preview xr-preview'>...</div><input id='attrs-72d92b7e-5804-4239-abc7-99ec3b582031' class='xr-var-attrs-in' type='checkbox' ><label for='attrs-72d92b7e-5804-4239-abc7-99ec3b582031' title='Show/Hide attributes'><svg class='icon xr-icon-file-text2'><use xlink:href='#icon-file-text2'></use></svg></label><input id='data-d5e98273-bb7a-4542-a63f-13ccde7e6e8d' class='xr-var-data-in' type='checkbox'><label for='data-d5e98273-bb7a-4542-a63f-13ccde7e6e8d' title='Show/Hide data repr'><svg class='icon xr-icon-database'><use xlink:href='#icon-database'></use></svg></label><div class='xr-var-attrs'><dl class='xr-attrs'><dt><span>statistic :</span></dt><dd>Running mean over 120 min</dd></dl></div><div class='xr-var-data'><pre>[1212 values with dtype=float64]</pre></div></li><li class='xr-var-item'><div class='xr-var-name'><span>std_WSPD</span></div><div class='xr-var-dims'>(AS_TIME)</div><div class='xr-var-dtype'>float64</div><div class='xr-var-preview xr-preview'>...</div><input id='attrs-01c2c145-ff75-4627-8743-37313104cdea' class='xr-var-attrs-in' type='checkbox' ><label for='attrs-01c2c145-ff75-4627-8743-37313104cdea' title='Show/Hide attributes'><svg class='icon xr-icon-file-text2'><use xlink:href='#icon-file-text2'></use></svg></label><input id='data-dfb24e15-73b5-4b0d-a30e-959dd171c21b' class='xr-var-data-in' type='checkbox'><label for='data-dfb24e15-73b5-4b0d-a30e-959dd171c21b' title='Show/Hide data repr'><svg class='icon xr-icon-database'><use xlink:href='#icon-database'></use></svg></label><div class='xr-var-attrs'><dl class='xr-attrs'><dt><span>statistic :</span></dt><dd>Running std dev over 120 min</dd></dl></div><div class='xr-var-data'><pre>[1212 values with dtype=float64]</pre></div></li><li class='xr-var-item'><div class='xr-var-name'><span>mean_WDIR</span></div><div class='xr-var-dims'>(AS_TIME)</div><div class='xr-var-dtype'>float64</div><div class='xr-var-preview xr-preview'>...</div><input id='attrs-b8dc470e-494d-4e8a-b93d-7c44053736f8' class='xr-var-attrs-in' type='checkbox' ><label for='attrs-b8dc470e-494d-4e8a-b93d-7c44053736f8' title='Show/Hide attributes'><svg class='icon xr-icon-file-text2'><use xlink:href='#icon-file-text2'></use></svg></label><input id='data-7bb3d368-cf6f-42e2-beaf-3205b2f03e60' class='xr-var-data-in' type='checkbox'><label for='data-7bb3d368-cf6f-42e2-beaf-3205b2f03e60' title='Show/Hide data repr'><svg class='icon xr-icon-database'><use xlink:href='#icon-database'></use></svg></label><div class='xr-var-attrs'><dl class='xr-attrs'><dt><span>statistic :</span></dt><dd>Running mean over 120 min</dd></dl></div><div class='xr-var-data'><pre>[1212 values with dtype=float64]</pre></div></li><li class='xr-var-item'><div class='xr-var-name'><span>std_WDIR</span></div><div class='xr-var-dims'>(AS_TIME)</div><div class='xr-var-dtype'>float64</div><div class='xr-var-preview xr-preview'>...</div><input id='attrs-12720915-e11d-4c96-bf8e-e47d79d8df41' class='xr-var-attrs-in' type='checkbox' ><label for='attrs-12720915-e11d-4c96-bf8e-e47d79d8df41' title='Show/Hide attributes'><svg class='icon xr-icon-file-text2'><use xlink:href='#icon-file-text2'></use></svg></label><input id='data-0d5d8089-28a3-401a-9f95-97a4b832e69b' class='xr-var-data-in' type='checkbox'><label for='data-0d5d8089-28a3-401a-9f95-97a4b832e69b' title='Show/Hide data repr'><svg class='icon xr-icon-database'><use xlink:href='#icon-database'></use></svg></label><div class='xr-var-attrs'><dl class='xr-attrs'><dt><span>statistic :</span></dt><dd>Running std dev over 120 min</dd></dl></div><div class='xr-var-data'><pre>[1212 values with dtype=float64]</pre></div></li><li class='xr-var-item'><div class='xr-var-name'><span>mean_cosWDIR</span></div><div class='xr-var-dims'>(AS_TIME)</div><div class='xr-var-dtype'>float64</div><div class='xr-var-preview xr-preview'>...</div><input id='attrs-0d2ceea8-4d2f-41ce-876d-dadac2daed0e' class='xr-var-attrs-in' type='checkbox' ><label for='attrs-0d2ceea8-4d2f-41ce-876d-dadac2daed0e' title='Show/Hide attributes'><svg class='icon xr-icon-file-text2'><use xlink:href='#icon-file-text2'></use></svg></label><input id='data-f1b8c803-471d-4106-93c0-0d70cc9091a0' class='xr-var-data-in' type='checkbox'><label for='data-f1b8c803-471d-4106-93c0-0d70cc9091a0' title='Show/Hide data repr'><svg class='icon xr-icon-database'><use xlink:href='#icon-database'></use></svg></label><div class='xr-var-attrs'><dl class='xr-attrs'><dt><span>statistic :</span></dt><dd>Running mean over 120 min</dd></dl></div><div class='xr-var-data'><pre>[1212 values with dtype=float64]</pre></div></li><li class='xr-var-item'><div class='xr-var-name'><span>std_cosWDIR</span></div><div class='xr-var-dims'>(AS_TIME)</div><div class='xr-var-dtype'>float64</div><div class='xr-var-preview xr-preview'>...</div><input id='attrs-a7f1cd24-68e0-4cee-a005-181a050b9fa7' class='xr-var-attrs-in' type='checkbox' ><label for='attrs-a7f1cd24-68e0-4cee-a005-181a050b9fa7' title='Show/Hide attributes'><svg class='icon xr-icon-file-text2'><use xlink:href='#icon-file-text2'></use></svg></label><input id='data-3b040f1c-a3a7-404b-b1f9-0937be99bdbf' class='xr-var-data-in' type='checkbox'><label for='data-3b040f1c-a3a7-404b-b1f9-0937be99bdbf' title='Show/Hide data repr'><svg class='icon xr-icon-database'><use xlink:href='#icon-database'></use></svg></label><div class='xr-var-attrs'><dl class='xr-attrs'><dt><span>statistic :</span></dt><dd>Running std dev over 120 min</dd></dl></div><div class='xr-var-data'><pre>[1212 values with dtype=float64]</pre></div></li><li class='xr-var-item'><div class='xr-var-name'><span>mean_sinWDIR</span></div><div class='xr-var-dims'>(AS_TIME)</div><div class='xr-var-dtype'>float64</div><div class='xr-var-preview xr-preview'>...</div><input id='attrs-5b536d2c-9b6f-4310-81a8-ccc80b9266be' class='xr-var-attrs-in' type='checkbox' ><label for='attrs-5b536d2c-9b6f-4310-81a8-ccc80b9266be' title='Show/Hide attributes'><svg class='icon xr-icon-file-text2'><use xlink:href='#icon-file-text2'></use></svg></label><input id='data-e0f9378d-9c4d-4086-9e6f-2e6d54f7312c' class='xr-var-data-in' type='checkbox'><label for='data-e0f9378d-9c4d-4086-9e6f-2e6d54f7312c' title='Show/Hide data repr'><svg class='icon xr-icon-database'><use xlink:href='#icon-database'></use></svg></label><div class='xr-var-attrs'><dl class='xr-attrs'><dt><span>statistic :</span></dt><dd>Running mean over 120 min</dd></dl></div><div class='xr-var-data'><pre>[1212 values with dtype=float64]</pre></div></li><li class='xr-var-item'><div class='xr-var-name'><span>std_sinWDIR</span></div><div class='xr-var-dims'>(AS_TIME)</div><div class='xr-var-dtype'>float64</div><div class='xr-var-preview xr-preview'>...</div><input id='attrs-9415f484-43a1-458b-a20b-a15228833f25' class='xr-var-attrs-in' type='checkbox' ><label for='attrs-9415f484-43a1-458b-a20b-a15228833f25' title='Show/Hide attributes'><svg class='icon xr-icon-file-text2'><use xlink:href='#icon-file-text2'></use></svg></label><input id='data-ed5a1a5c-ea13-4c91-a6f4-da4dc3823069' class='xr-var-data-in' type='checkbox'><label for='data-ed5a1a5c-ea13-4c91-a6f4-da4dc3823069' title='Show/Hide data repr'><svg class='icon xr-icon-database'><use xlink:href='#icon-database'></use></svg></label><div class='xr-var-attrs'><dl class='xr-attrs'><dt><span>statistic :</span></dt><dd>Running std dev over 120 min</dd></dl></div><div class='xr-var-data'><pre>[1212 values with dtype=float64]</pre></div></li><li class='xr-var-item'><div class='xr-var-name'><span>mean_WSPD_10N</span></div><div class='xr-var-dims'>(AS_TIME)</div><div class='xr-var-dtype'>float64</div><div class='xr-var-preview xr-preview'>...</div><input id='attrs-6c9df029-ef31-4731-966b-37f40a93c83c' class='xr-var-attrs-in' type='checkbox' ><label for='attrs-6c9df029-ef31-4731-966b-37f40a93c83c' title='Show/Hide attributes'><svg class='icon xr-icon-file-text2'><use xlink:href='#icon-file-text2'></use></svg></label><input id='data-b9f21385-f9ef-4757-bb43-6f206f9d3f13' class='xr-var-data-in' type='checkbox'><label for='data-b9f21385-f9ef-4757-bb43-6f206f9d3f13' title='Show/Hide data repr'><svg class='icon xr-icon-database'><use xlink:href='#icon-database'></use></svg></label><div class='xr-var-attrs'><dl class='xr-attrs'><dt><span>statistic :</span></dt><dd>Running mean over 120 min</dd></dl></div><div class='xr-var-data'><pre>[1212 values with dtype=float64]</pre></div></li><li class='xr-var-item'><div class='xr-var-name'><span>std_WSPD_10N</span></div><div class='xr-var-dims'>(AS_TIME)</div><div class='xr-var-dtype'>float64</div><div class='xr-var-preview xr-preview'>...</div><input id='attrs-92185824-21f6-4fae-8558-e92d0b992137' class='xr-var-attrs-in' type='checkbox' ><label for='attrs-92185824-21f6-4fae-8558-e92d0b992137' title='Show/Hide attributes'><svg class='icon xr-icon-file-text2'><use xlink:href='#icon-file-text2'></use></svg></label><input id='data-490feb23-4e35-4bf7-bb91-316ae436f325' class='xr-var-data-in' type='checkbox'><label for='data-490feb23-4e35-4bf7-bb91-316ae436f325' title='Show/Hide data repr'><svg class='icon xr-icon-database'><use xlink:href='#icon-database'></use></svg></label><div class='xr-var-attrs'><dl class='xr-attrs'><dt><span>statistic :</span></dt><dd>Running std dev over 120 min</dd></dl></div><div class='xr-var-data'><pre>[1212 values with dtype=float64]</pre></div></li><li class='xr-var-item'><div class='xr-var-name'><span>mean_U10N_x</span></div><div class='xr-var-dims'>(AS_TIME)</div><div class='xr-var-dtype'>float64</div><div class='xr-var-preview xr-preview'>...</div><input id='attrs-047ae231-8f5a-43e6-9658-1f38e023cbb4' class='xr-var-attrs-in' type='checkbox' ><label for='attrs-047ae231-8f5a-43e6-9658-1f38e023cbb4' title='Show/Hide attributes'><svg class='icon xr-icon-file-text2'><use xlink:href='#icon-file-text2'></use></svg></label><input id='data-cd19ec7b-f588-4c67-9b08-8e64837c82bc' class='xr-var-data-in' type='checkbox'><label for='data-cd19ec7b-f588-4c67-9b08-8e64837c82bc' title='Show/Hide data repr'><svg class='icon xr-icon-database'><use xlink:href='#icon-database'></use></svg></label><div class='xr-var-attrs'><dl class='xr-attrs'><dt><span>statistic :</span></dt><dd>Running mean over 120 min</dd></dl></div><div class='xr-var-data'><pre>[1212 values with dtype=float64]</pre></div></li><li class='xr-var-item'><div class='xr-var-name'><span>std_U10N_x</span></div><div class='xr-var-dims'>(AS_TIME)</div><div class='xr-var-dtype'>float64</div><div class='xr-var-preview xr-preview'>...</div><input id='attrs-2c04ca52-ff12-4d99-a9b5-4a2d5abc3dca' class='xr-var-attrs-in' type='checkbox' ><label for='attrs-2c04ca52-ff12-4d99-a9b5-4a2d5abc3dca' title='Show/Hide attributes'><svg class='icon xr-icon-file-text2'><use xlink:href='#icon-file-text2'></use></svg></label><input id='data-ce54aec6-6cd1-4044-a2d8-666c31fa38bb' class='xr-var-data-in' type='checkbox'><label for='data-ce54aec6-6cd1-4044-a2d8-666c31fa38bb' title='Show/Hide data repr'><svg class='icon xr-icon-database'><use xlink:href='#icon-database'></use></svg></label><div class='xr-var-attrs'><dl class='xr-attrs'><dt><span>statistic :</span></dt><dd>Running std dev over 120 min</dd></dl></div><div class='xr-var-data'><pre>[1212 values with dtype=float64]</pre></div></li><li class='xr-var-item'><div class='xr-var-name'><span>mean_U10N_y</span></div><div class='xr-var-dims'>(AS_TIME)</div><div class='xr-var-dtype'>float64</div><div class='xr-var-preview xr-preview'>...</div><input id='attrs-f9796e50-78bb-4a4e-a660-a44f2d36c49d' class='xr-var-attrs-in' type='checkbox' ><label for='attrs-f9796e50-78bb-4a4e-a660-a44f2d36c49d' title='Show/Hide attributes'><svg class='icon xr-icon-file-text2'><use xlink:href='#icon-file-text2'></use></svg></label><input id='data-70fe732e-083f-4fbb-8d48-25c511fc66e3' class='xr-var-data-in' type='checkbox'><label for='data-70fe732e-083f-4fbb-8d48-25c511fc66e3' title='Show/Hide data repr'><svg class='icon xr-icon-database'><use xlink:href='#icon-database'></use></svg></label><div class='xr-var-attrs'><dl class='xr-attrs'><dt><span>statistic :</span></dt><dd>Running mean over 120 min</dd></dl></div><div class='xr-var-data'><pre>[1212 values with dtype=float64]</pre></div></li><li class='xr-var-item'><div class='xr-var-name'><span>std_U10N_y</span></div><div class='xr-var-dims'>(AS_TIME)</div><div class='xr-var-dtype'>float64</div><div class='xr-var-preview xr-preview'>...</div><input id='attrs-ca8e29c0-188c-4351-bcc7-614f52c55800' class='xr-var-attrs-in' type='checkbox' ><label for='attrs-ca8e29c0-188c-4351-bcc7-614f52c55800' title='Show/Hide attributes'><svg class='icon xr-icon-file-text2'><use xlink:href='#icon-file-text2'></use></svg></label><input id='data-90215636-a9f3-4dca-a8dd-048e7e2ec64c' class='xr-var-data-in' type='checkbox'><label for='data-90215636-a9f3-4dca-a8dd-048e7e2ec64c' title='Show/Hide data repr'><svg class='icon xr-icon-database'><use xlink:href='#icon-database'></use></svg></label><div class='xr-var-attrs'><dl class='xr-attrs'><dt><span>statistic :</span></dt><dd>Running std dev over 120 min</dd></dl></div><div class='xr-var-data'><pre>[1212 values with dtype=float64]</pre></div></li><li class='xr-var-item'><div class='xr-var-name'><span>mean_SST</span></div><div class='xr-var-dims'>(AS_TIME)</div><div class='xr-var-dtype'>float64</div><div class='xr-var-preview xr-preview'>...</div><input id='attrs-c37a8883-f332-4486-a37f-1919f02b389b' class='xr-var-attrs-in' type='checkbox' ><label for='attrs-c37a8883-f332-4486-a37f-1919f02b389b' title='Show/Hide attributes'><svg class='icon xr-icon-file-text2'><use xlink:href='#icon-file-text2'></use></svg></label><input id='data-d1bd9a93-16bf-403b-b6d4-75be5f1d94f1' class='xr-var-data-in' type='checkbox'><label for='data-d1bd9a93-16bf-403b-b6d4-75be5f1d94f1' title='Show/Hide data repr'><svg class='icon xr-icon-database'><use xlink:href='#icon-database'></use></svg></label><div class='xr-var-attrs'><dl class='xr-attrs'><dt><span>statistic :</span></dt><dd>Running mean over 120 min</dd></dl></div><div class='xr-var-data'><pre>[1212 values with dtype=float64]</pre></div></li><li class='xr-var-item'><div class='xr-var-name'><span>std_SST</span></div><div class='xr-var-dims'>(AS_TIME)</div><div class='xr-var-dtype'>float64</div><div class='xr-var-preview xr-preview'>...</div><input id='attrs-f2b76cff-b1aa-4a9e-9c65-b06fe0f66f24' class='xr-var-attrs-in' type='checkbox' ><label for='attrs-f2b76cff-b1aa-4a9e-9c65-b06fe0f66f24' title='Show/Hide attributes'><svg class='icon xr-icon-file-text2'><use xlink:href='#icon-file-text2'></use></svg></label><input id='data-cc1b86b9-590b-431e-a98b-572888700244' class='xr-var-data-in' type='checkbox'><label for='data-cc1b86b9-590b-431e-a98b-572888700244' title='Show/Hide data repr'><svg class='icon xr-icon-database'><use xlink:href='#icon-database'></use></svg></label><div class='xr-var-attrs'><dl class='xr-attrs'><dt><span>statistic :</span></dt><dd>Running std dev over 120 min</dd></dl></div><div class='xr-var-data'><pre>[1212 values with dtype=float64]</pre></div></li><li class='xr-var-item'><div class='xr-var-name'><span>mean_AIRT</span></div><div class='xr-var-dims'>(AS_TIME)</div><div class='xr-var-dtype'>float64</div><div class='xr-var-preview xr-preview'>...</div><input id='attrs-3e345dc9-3055-4385-a452-ec18b2ab1723' class='xr-var-attrs-in' type='checkbox' ><label for='attrs-3e345dc9-3055-4385-a452-ec18b2ab1723' title='Show/Hide attributes'><svg class='icon xr-icon-file-text2'><use xlink:href='#icon-file-text2'></use></svg></label><input id='data-34f9e541-6341-4bc7-8297-e8567fb618bb' class='xr-var-data-in' type='checkbox'><label for='data-34f9e541-6341-4bc7-8297-e8567fb618bb' title='Show/Hide data repr'><svg class='icon xr-icon-database'><use xlink:href='#icon-database'></use></svg></label><div class='xr-var-attrs'><dl class='xr-attrs'><dt><span>statistic :</span></dt><dd>Running mean over 120 min</dd></dl></div><div class='xr-var-data'><pre>[1212 values with dtype=float64]</pre></div></li><li class='xr-var-item'><div class='xr-var-name'><span>std_AIRT</span></div><div class='xr-var-dims'>(AS_TIME)</div><div class='xr-var-dtype'>float64</div><div class='xr-var-preview xr-preview'>...</div><input id='attrs-6ebe046f-90dc-4f1b-ba58-3650c8fb7208' class='xr-var-attrs-in' type='checkbox' ><label for='attrs-6ebe046f-90dc-4f1b-ba58-3650c8fb7208' title='Show/Hide attributes'><svg class='icon xr-icon-file-text2'><use xlink:href='#icon-file-text2'></use></svg></label><input id='data-d8a13dfa-c5c8-4d65-81c0-9d5f74fb0b9e' class='xr-var-data-in' type='checkbox'><label for='data-d8a13dfa-c5c8-4d65-81c0-9d5f74fb0b9e' title='Show/Hide data repr'><svg class='icon xr-icon-database'><use xlink:href='#icon-database'></use></svg></label><div class='xr-var-attrs'><dl class='xr-attrs'><dt><span>statistic :</span></dt><dd>Running std dev over 120 min</dd></dl></div><div class='xr-var-data'><pre>[1212 values with dtype=float64]</pre></div></li><li class='xr-var-item'><div class='xr-var-name'><span>mean_RELH</span></div><div class='xr-var-dims'>(AS_TIME)</div><div class='xr-var-dtype'>float64</div><div class='xr-var-preview xr-preview'>...</div><input id='attrs-0dc9d2bc-cb73-4d92-9546-d0dd883f7265' class='xr-var-attrs-in' type='checkbox' ><label for='attrs-0dc9d2bc-cb73-4d92-9546-d0dd883f7265' title='Show/Hide attributes'><svg class='icon xr-icon-file-text2'><use xlink:href='#icon-file-text2'></use></svg></label><input id='data-700c7898-832c-4d10-8091-d82d62ba168e' class='xr-var-data-in' type='checkbox'><label for='data-700c7898-832c-4d10-8091-d82d62ba168e' title='Show/Hide data repr'><svg class='icon xr-icon-database'><use xlink:href='#icon-database'></use></svg></label><div class='xr-var-attrs'><dl class='xr-attrs'><dt><span>statistic :</span></dt><dd>Running mean over 120 min</dd></dl></div><div class='xr-var-data'><pre>[1212 values with dtype=float64]</pre></div></li><li class='xr-var-item'><div class='xr-var-name'><span>std_RELH</span></div><div class='xr-var-dims'>(AS_TIME)</div><div class='xr-var-dtype'>float64</div><div class='xr-var-preview xr-preview'>...</div><input id='attrs-0b8f73d5-e90d-4e92-a8d6-081f6909c371' class='xr-var-attrs-in' type='checkbox' ><label for='attrs-0b8f73d5-e90d-4e92-a8d6-081f6909c371' title='Show/Hide attributes'><svg class='icon xr-icon-file-text2'><use xlink:href='#icon-file-text2'></use></svg></label><input id='data-198bdb29-2201-43eb-9663-cd05f2746734' class='xr-var-data-in' type='checkbox'><label for='data-198bdb29-2201-43eb-9663-cd05f2746734' title='Show/Hide data repr'><svg class='icon xr-icon-database'><use xlink:href='#icon-database'></use></svg></label><div class='xr-var-attrs'><dl class='xr-attrs'><dt><span>statistic :</span></dt><dd>Running std dev over 120 min</dd></dl></div><div class='xr-var-data'><pre>[1212 values with dtype=float64]</pre></div></li><li class='xr-var-item'><div class='xr-var-name'><span>mean_SST - AIRT</span></div><div class='xr-var-dims'>(AS_TIME)</div><div class='xr-var-dtype'>float64</div><div class='xr-var-preview xr-preview'>...</div><input id='attrs-a01a99d7-f6bf-4970-b3a3-5fd939c94997' class='xr-var-attrs-in' type='checkbox' ><label for='attrs-a01a99d7-f6bf-4970-b3a3-5fd939c94997' title='Show/Hide attributes'><svg class='icon xr-icon-file-text2'><use xlink:href='#icon-file-text2'></use></svg></label><input id='data-3d4708ed-6df3-4f0a-8930-083ff271ff49' class='xr-var-data-in' type='checkbox'><label for='data-3d4708ed-6df3-4f0a-8930-083ff271ff49' title='Show/Hide data repr'><svg class='icon xr-icon-database'><use xlink:href='#icon-database'></use></svg></label><div class='xr-var-attrs'><dl class='xr-attrs'><dt><span>statistic :</span></dt><dd>Running mean over 120 min</dd></dl></div><div class='xr-var-data'><pre>[1212 values with dtype=float64]</pre></div></li><li class='xr-var-item'><div class='xr-var-name'><span>std_SST - AIRT</span></div><div class='xr-var-dims'>(AS_TIME)</div><div class='xr-var-dtype'>float64</div><div class='xr-var-preview xr-preview'>...</div><input id='attrs-c72312e6-2fa3-4700-859c-5223856a526a' class='xr-var-attrs-in' type='checkbox' ><label for='attrs-c72312e6-2fa3-4700-859c-5223856a526a' title='Show/Hide attributes'><svg class='icon xr-icon-file-text2'><use xlink:href='#icon-file-text2'></use></svg></label><input id='data-096ffbe2-44ba-4b69-a656-bc041323eaa0' class='xr-var-data-in' type='checkbox'><label for='data-096ffbe2-44ba-4b69-a656-bc041323eaa0' title='Show/Hide data repr'><svg class='icon xr-icon-database'><use xlink:href='#icon-database'></use></svg></label><div class='xr-var-attrs'><dl class='xr-attrs'><dt><span>statistic :</span></dt><dd>Running std dev over 120 min</dd></dl></div><div class='xr-var-data'><pre>[1212 values with dtype=float64]</pre></div></li><li class='xr-var-item'><div class='xr-var-name'><span>TAO_TIME</span></div><div class='xr-var-dims'>(AS_TIME)</div><div class='xr-var-dtype'>datetime64[ns]</div><div class='xr-var-preview xr-preview'>...</div><input id='attrs-57526f2e-4d16-41e2-8dd4-b0e754d5866f' class='xr-var-attrs-in' type='checkbox' disabled><label for='attrs-57526f2e-4d16-41e2-8dd4-b0e754d5866f' title='Show/Hide attributes'><svg class='icon xr-icon-file-text2'><use xlink:href='#icon-file-text2'></use></svg></label><input id='data-fcffa22a-b6ce-46ab-b62d-69f7a82c35bd' class='xr-var-data-in' type='checkbox'><label for='data-fcffa22a-b6ce-46ab-b62d-69f7a82c35bd' title='Show/Hide data repr'><svg class='icon xr-icon-database'><use xlink:href='#icon-database'></use></svg></label><div class='xr-var-attrs'><dl class='xr-attrs'></dl></div><div class='xr-var-data'><pre>[1212 values with dtype=datetime64[ns]]</pre></div></li></ul></div></li><li class='xr-section-item'><input id='section-f85e36bc-5c04-42f7-a769-b1ef6d82be7d' class='xr-section-summary-in' type='checkbox'  ><label for='section-f85e36bc-5c04-42f7-a769-b1ef6d82be7d' class='xr-section-summary' >Indexes: <span>(4)</span></label><div class='xr-section-inline-details'></div><div class='xr-section-details'><ul class='xr-var-list'><li class='xr-var-item'><div class='xr-index-name'><div>AS_TIME</div></div><div class='xr-index-preview'>PandasIndex</div><div></div><input id='index-e05f1c6b-945a-41ed-94b9-098b8c153181' class='xr-index-data-in' type='checkbox'/><label for='index-e05f1c6b-945a-41ed-94b9-098b8c153181' title='Show/Hide index repr'><svg class='icon xr-icon-database'><use xlink:href='#icon-database'></use></svg></label><div class='xr-index-data'><pre>PandasIndex(DatetimeIndex([&#x27;2014-10-31 22:11:03&#x27;, &#x27;2014-11-01 10:50:45&#x27;,\n",
       "               &#x27;2014-11-03 10:09:30&#x27;, &#x27;2014-11-03 22:49:00&#x27;,\n",
       "               &#x27;2014-11-05 22:07:45&#x27;, &#x27;2014-11-08 10:06:07&#x27;,\n",
       "               &#x27;2014-11-08 22:45:37&#x27;, &#x27;2014-11-10 22:04:22&#x27;,\n",
       "               &#x27;2014-11-11 10:44:03&#x27;, &#x27;2014-11-13 10:02:45&#x27;,\n",
       "               ...\n",
       "               &#x27;2020-10-06 21:13:36&#x27;, &#x27;2020-10-09 09:11:28&#x27;,\n",
       "               &#x27;2020-10-09 21:50:56&#x27;, &#x27;2020-10-11 21:10:24&#x27;,\n",
       "               &#x27;2020-10-12 09:49:52&#x27;, &#x27;2020-10-14 09:08:16&#x27;,\n",
       "               &#x27;2020-10-14 21:47:44&#x27;, &#x27;2020-10-16 21:07:12&#x27;,\n",
       "               &#x27;2020-10-17 09:46:40&#x27;, &#x27;2020-10-19 09:05:04&#x27;],\n",
       "              dtype=&#x27;datetime64[ns]&#x27;, name=&#x27;AS_TIME&#x27;, length=1212, freq=None))</pre></div></li><li class='xr-var-item'><div class='xr-index-name'><div>NUMCELLS</div></div><div class='xr-index-preview'>PandasIndex</div><div></div><input id='index-4a4f6dad-fb18-4adc-9c25-45e1b4f452eb' class='xr-index-data-in' type='checkbox'/><label for='index-4a4f6dad-fb18-4adc-9c25-45e1b4f452eb' title='Show/Hide index repr'><svg class='icon xr-icon-database'><use xlink:href='#icon-database'></use></svg></label><div class='xr-index-data'><pre>PandasIndex(Index([0, 1, 2], dtype=&#x27;int64&#x27;, name=&#x27;NUMCELLS&#x27;))</pre></div></li><li class='xr-var-item'><div class='xr-index-name'><div>HEIGHT</div></div><div class='xr-index-preview'>PandasIndex</div><div></div><input id='index-2dac3daa-f0c9-46b6-95fd-278b013e8b98' class='xr-index-data-in' type='checkbox'/><label for='index-2dac3daa-f0c9-46b6-95fd-278b013e8b98' title='Show/Hide index repr'><svg class='icon xr-icon-database'><use xlink:href='#icon-database'></use></svg></label><div class='xr-index-data'><pre>PandasIndex(Index([3.0, 4.0, 10.0], dtype=&#x27;float32&#x27;, name=&#x27;HEIGHT&#x27;))</pre></div></li><li class='xr-var-item'><div class='xr-index-name'><div>DEPTH</div></div><div class='xr-index-preview'>PandasIndex</div><div></div><input id='index-f0a770ce-2ca5-4b80-ab15-6eeab12bc6bc' class='xr-index-data-in' type='checkbox'/><label for='index-f0a770ce-2ca5-4b80-ab15-6eeab12bc6bc' title='Show/Hide index repr'><svg class='icon xr-icon-database'><use xlink:href='#icon-database'></use></svg></label><div class='xr-index-data'><pre>PandasIndex(Index([1.0], dtype=&#x27;float32&#x27;, name=&#x27;DEPTH&#x27;))</pre></div></li></ul></div></li><li class='xr-section-item'><input id='section-71b39ae3-000f-47ed-8143-5b73231a52bd' class='xr-section-summary-in' type='checkbox' disabled ><label for='section-71b39ae3-000f-47ed-8143-5b73231a52bd' class='xr-section-summary'  title='Expand/collapse section'>Attributes: <span>(0)</span></label><div class='xr-section-inline-details'></div><div class='xr-section-details'><dl class='xr-attrs'></dl></div></li></ul></div></div>"
      ],
      "text/plain": [
       "<xarray.Dataset>\n",
       "Dimensions:            (AS_TIME: 1212, NUMCELLS: 3, HEIGHT: 3, DEPTH: 1)\n",
       "Coordinates:\n",
       "  * AS_TIME            (AS_TIME) datetime64[ns] 2014-10-31T22:11:03 ... 2020-...\n",
       "  * NUMCELLS           (NUMCELLS) int64 0 1 2\n",
       "  * HEIGHT             (HEIGHT) float32 3.0 4.0 10.0\n",
       "  * DEPTH              (DEPTH) float32 1.0\n",
       "Data variables: (12/57)\n",
       "    wvc_index          (AS_TIME, NUMCELLS) float64 ...\n",
       "    model_speed        (AS_TIME, NUMCELLS) float64 ...\n",
       "    model_dir          (AS_TIME, NUMCELLS) float64 ...\n",
       "    ice_prob           (AS_TIME, NUMCELLS) float64 ...\n",
       "    ice_age            (AS_TIME, NUMCELLS) float64 ...\n",
       "    wvc_quality_flag   (AS_TIME, NUMCELLS) float64 ...\n",
       "    ...                 ...\n",
       "    std_AIRT           (AS_TIME) float64 ...\n",
       "    mean_RELH          (AS_TIME) float64 ...\n",
       "    std_RELH           (AS_TIME) float64 ...\n",
       "    mean_SST - AIRT    (AS_TIME) float64 ...\n",
       "    std_SST - AIRT     (AS_TIME) float64 ...\n",
       "    TAO_TIME           (AS_TIME) datetime64[ns] ..."
      ]
     },
     "execution_count": 3,
     "metadata": {},
     "output_type": "execute_result"
    }
   ],
   "source": [
    "ds= xr.open_dataset(\"/srv/data2/srai_poseidon/srai_poseidon/observation/SatelliteVsBuoy/downloads/Buoy/TAO_data/WINDS/MetOP_A/T_000N_165E_COARE3p5_2013_2020_2hrMeanVar_AS_Matchup.nc\")\n",
    "ds"
   ]
  },
  {
   "cell_type": "code",
   "execution_count": 4,
   "id": "5e677391-37ff-444a-867e-334745c43919",
   "metadata": {},
   "outputs": [
    {
     "data": {
      "text/plain": [
       "{'distance_to_gmf_too_large                ': '00000000000000001000000',\n",
       " 'data_are_redundant                       ': '00000000000000010000000',\n",
       " 'no_meteorological_background_used        ': '00000000000000100000000',\n",
       " 'rain_detected                            ': '00000000000001000000000',\n",
       " 'rain_flag_not_usable                     ': '00000000000010000000000',\n",
       " 'small_wind_less_than_or_equal_to_3_m_s   ': '00000000000100000000000',\n",
       " 'large_wind_greater_than_30_m_s           ': '00000000001000000000000',\n",
       " 'wind_inversion_not_successful            ': '00000000010000000000000',\n",
       " 'some_portion_of_wvc_is_over_ice          ': '00000000100000000000000',\n",
       " 'some_portion_of_wvc_is_over_land         ': '00000001000000000000000',\n",
       " 'variational_quality_control_fails        ': '00000010000000000000000',\n",
       " 'knmi_quality_control_fails               ': '00000100000000000000000',\n",
       " 'product_monitoring_event_flag            ': '00001000000000000000000',\n",
       " 'product_monitoring_not_used              ': '00010000000000000000000',\n",
       " 'any_beam_noise_content_above_threshold   ': '00100000000000000000000',\n",
       " 'poor_azimuth_diversity                   ': '01000000000000000000000',\n",
       " 'not_enough_good_sigma0_for_wind_retrieval': '10000000000000000000000'}"
      ]
     },
     "execution_count": 4,
     "metadata": {},
     "output_type": "execute_result"
    }
   ],
   "source": [
    "flag_dict = {\n",
    "    f'{meaning:41s}': bin(mask)[2:].zfill(23)\n",
    "    for meaning, mask in zip(ds.wvc_quality_flag.flag_meanings.split(), ds.wvc_quality_flag.flag_masks)\n",
    "}\n",
    "flag_dict"
   ]
  },
  {
   "cell_type": "code",
   "execution_count": 24,
   "id": "b11fb193-3b5a-414b-87a6-dcc940407366",
   "metadata": {},
   "outputs": [],
   "source": [
    "def getSubDF(ds, LAT, LON):\n",
    "    subds = xr.Dataset()\n",
    "\n",
    "    taoTimeVar = ['TAO_TIME']\n",
    "    \n",
    "    windVars = ['WDIR',\n",
    "         'WDIR_QC',\n",
    "         'WDIR_DM',\n",
    "         'WSPD',\n",
    "         'WSPD_QC',\n",
    "         'WSPD_DM',\n",
    "         'UWND',\n",
    "         'VWND']\n",
    "\n",
    "    sstVars = ['SST',\n",
    "             'SST_QC',\n",
    "             'SST_DM']\n",
    "    \n",
    "    airtVars = ['AIRT',\n",
    "             'AIRT_QC',\n",
    "             'AIRT_DM']\n",
    "    \n",
    "    rhVars = ['RELH',\n",
    "             'RELH_QC',\n",
    "             'RELH_DM']\n",
    "    \n",
    "    u10Vars =['WSPD_10N',\n",
    "             'WSPD_10']\n",
    "\n",
    "    statVars = ['mean_WSPD',\n",
    "            'std_WSPD', \n",
    "            'mean_WSPD_10N',\n",
    "            'std_WSPD_10N',\n",
    "            'mean_SST',\n",
    "            'std_SST',\n",
    "            'mean_AIRT',\n",
    "            'std_AIRT',\n",
    "            'mean_RELH',\n",
    "            'std_RELH',\n",
    "            'mean_SST - AIRT',\n",
    "            'std_SST - AIRT',\n",
    "            'mean_cosWDIR',\n",
    "            'std_cosWDIR',\n",
    "            'mean_sinWDIR',\n",
    "            'std_sinWDIR']\n",
    "    \n",
    "    satVars = ['wind_speed',\n",
    "             'wind_dir',\n",
    "             'wvc_quality_flag',\n",
    "             'model_speed',\n",
    "             'model_dir',\n",
    "             'bs_distance',\n",
    "             'dist_from_TAO_pos']\n",
    " \n",
    "    \n",
    "    for windVar in windVars:\n",
    "        subds[windVar] = ds[windVar].sel(HEIGHT=4)\n",
    "    subds.drop_vars('HEIGHT')\n",
    "    for sstVar in sstVars:\n",
    "        subds[sstVar] = ds[sstVar].sel(DEPTH=1)\n",
    "    subds.drop_vars('DEPTH')\n",
    "    for rhVar in rhVars:\n",
    "        subds[rhVar] = ds[rhVar].sel(HEIGHT=3)\n",
    "    subds.drop_vars('HEIGHT')\n",
    "    for airtVar in airtVars:\n",
    "        subds[airtVar] = ds[airtVar].sel(HEIGHT=3)\n",
    "    subds.drop_vars('HEIGHT')\n",
    "    for u10Var in u10Vars:\n",
    "        subds[u10Var] = ds[u10Var].sel(HEIGHT=10)\n",
    "    subds.drop_vars('HEIGHT')\n",
    "\n",
    "    for statVar in statVars:\n",
    "        subds[statVar] = ds[statVar]\n",
    "\n",
    "    subds['LATITUDE'] = xr.DataArray(LAT * np.ones(len(subds['AS_TIME']), dtype = float), dims=['AS_TIME'])\n",
    "    subds['LONGITUDE'] = xr.DataArray(LON * np.ones(len(subds['AS_TIME']), dtype = float), dims=['AS_TIME'])\n",
    "    \n",
    "    subds['TAO_TIME'] = ds['TAO_TIME']\n",
    "\n",
    "    deployFileName = f'../../../downloads/Buoy/TAO_data/WINDS/{metop}/T_{lat:02d}{latUnits}_{lon:03d}{lonUnits}/T_{lat:02d}{latUnits}_{lon:03d}{lonUnits}_DeploymentDates.nc'\n",
    "    ds2 = xr.open_dataset(deployFileName)\n",
    "    startDates = np.array(ds2['startDate'])\n",
    "    endDates = np.array(ds2['endDate'])\n",
    "\n",
    "    depNum = np.zeros((len(subds['AS_TIME'])), dtype=int)\n",
    "    c = 1\n",
    "    for i in range(1,len(startDates)):\n",
    "        mask = subds['AS_TIME'] >= startDates[i]\n",
    "        mask *= subds['AS_TIME'] <= endDates[i]\n",
    "        depNum[mask] = c\n",
    "        c = c+1\n",
    "\n",
    "    subds['Deployment index'] = xr.DataArray(depNum, dims=['AS_TIME'])\n",
    "    \n",
    "    \n",
    "    satDS = ds[satVars]\n",
    "    satDS = satDS.isel(NUMCELLS=0)    \n",
    "    \n",
    "    returnDS = xr.merge((subds, satDS))\n",
    "\n",
    "    \n",
    "    \n",
    "    return returnDS"
   ]
  },
  {
   "cell_type": "code",
   "execution_count": 25,
   "id": "ab2dd76c-6bae-467c-843c-968c0dbc3d02",
   "metadata": {},
   "outputs": [
    {
     "name": "stdout",
     "output_type": "stream",
     "text": [
      "T_008S_095W_COARE3p5_2013_2020_2hrMeanVar_AS_Matchup.nc\n",
      "0 509\n",
      "T_008S_110W_COARE3p5_2013_2020_2hrMeanVar_AS_Matchup.nc\n",
      "509 1557\n"
     ]
    },
    {
     "name": "stderr",
     "output_type": "stream",
     "text": [
      "/home/shikhar.rai/anaconda3/envs/mpiNetCDF/lib/python3.11/site-packages/xarray/core/concat.py:546: FutureWarning: unique with argument that is not not a Series, Index, ExtensionArray, or np.ndarray is deprecated and will raise in a future version.\n",
      "  common_dims = tuple(pd.unique([d for v in vars for d in v.dims]))\n",
      "/home/shikhar.rai/anaconda3/envs/mpiNetCDF/lib/python3.11/site-packages/xarray/core/concat.py:546: FutureWarning: unique with argument that is not not a Series, Index, ExtensionArray, or np.ndarray is deprecated and will raise in a future version.\n",
      "  common_dims = tuple(pd.unique([d for v in vars for d in v.dims]))\n"
     ]
    },
    {
     "name": "stdout",
     "output_type": "stream",
     "text": [
      "T_008S_155W_COARE3p5_2013_2020_2hrMeanVar_AS_Matchup.nc\n",
      "1557 2232\n",
      "T_008S_170W_COARE3p5_2013_2020_2hrMeanVar_AS_Matchup.nc\n"
     ]
    },
    {
     "name": "stderr",
     "output_type": "stream",
     "text": [
      "/home/shikhar.rai/anaconda3/envs/mpiNetCDF/lib/python3.11/site-packages/xarray/core/concat.py:546: FutureWarning: unique with argument that is not not a Series, Index, ExtensionArray, or np.ndarray is deprecated and will raise in a future version.\n",
      "  common_dims = tuple(pd.unique([d for v in vars for d in v.dims]))\n",
      "/home/shikhar.rai/anaconda3/envs/mpiNetCDF/lib/python3.11/site-packages/xarray/core/concat.py:546: FutureWarning: unique with argument that is not not a Series, Index, ExtensionArray, or np.ndarray is deprecated and will raise in a future version.\n",
      "  common_dims = tuple(pd.unique([d for v in vars for d in v.dims]))\n",
      "/home/shikhar.rai/anaconda3/envs/mpiNetCDF/lib/python3.11/site-packages/xarray/core/concat.py:546: FutureWarning: unique with argument that is not not a Series, Index, ExtensionArray, or np.ndarray is deprecated and will raise in a future version.\n",
      "  common_dims = tuple(pd.unique([d for v in vars for d in v.dims]))\n"
     ]
    },
    {
     "name": "stdout",
     "output_type": "stream",
     "text": [
      "2232 2766\n",
      "T_008S_165E_COARE3p5_2013_2020_2hrMeanVar_AS_Matchup.nc\n",
      "2766 3205\n"
     ]
    },
    {
     "name": "stderr",
     "output_type": "stream",
     "text": [
      "/home/shikhar.rai/anaconda3/envs/mpiNetCDF/lib/python3.11/site-packages/xarray/core/concat.py:546: FutureWarning: unique with argument that is not not a Series, Index, ExtensionArray, or np.ndarray is deprecated and will raise in a future version.\n",
      "  common_dims = tuple(pd.unique([d for v in vars for d in v.dims]))\n",
      "/home/shikhar.rai/anaconda3/envs/mpiNetCDF/lib/python3.11/site-packages/xarray/core/concat.py:546: FutureWarning: unique with argument that is not not a Series, Index, ExtensionArray, or np.ndarray is deprecated and will raise in a future version.\n",
      "  common_dims = tuple(pd.unique([d for v in vars for d in v.dims]))\n",
      "/home/shikhar.rai/anaconda3/envs/mpiNetCDF/lib/python3.11/site-packages/xarray/core/concat.py:546: FutureWarning: unique with argument that is not not a Series, Index, ExtensionArray, or np.ndarray is deprecated and will raise in a future version.\n",
      "  common_dims = tuple(pd.unique([d for v in vars for d in v.dims]))\n"
     ]
    },
    {
     "name": "stdout",
     "output_type": "stream",
     "text": [
      "T_005S_095W_COARE3p5_2013_2020_2hrMeanVar_AS_Matchup.nc\n",
      "3205 4034\n",
      "T_005S_110W_COARE3p5_2013_2020_2hrMeanVar_AS_Matchup.nc\n"
     ]
    },
    {
     "name": "stderr",
     "output_type": "stream",
     "text": [
      "/home/shikhar.rai/anaconda3/envs/mpiNetCDF/lib/python3.11/site-packages/xarray/core/concat.py:546: FutureWarning: unique with argument that is not not a Series, Index, ExtensionArray, or np.ndarray is deprecated and will raise in a future version.\n",
      "  common_dims = tuple(pd.unique([d for v in vars for d in v.dims]))\n",
      "/home/shikhar.rai/anaconda3/envs/mpiNetCDF/lib/python3.11/site-packages/xarray/core/concat.py:546: FutureWarning: unique with argument that is not not a Series, Index, ExtensionArray, or np.ndarray is deprecated and will raise in a future version.\n",
      "  common_dims = tuple(pd.unique([d for v in vars for d in v.dims]))\n",
      "/home/shikhar.rai/anaconda3/envs/mpiNetCDF/lib/python3.11/site-packages/xarray/core/concat.py:546: FutureWarning: unique with argument that is not not a Series, Index, ExtensionArray, or np.ndarray is deprecated and will raise in a future version.\n",
      "  common_dims = tuple(pd.unique([d for v in vars for d in v.dims]))\n"
     ]
    },
    {
     "name": "stdout",
     "output_type": "stream",
     "text": [
      "4034 5381\n",
      "T_005S_140W_COARE3p5_2013_2020_2hrMeanVar_AS_Matchup.nc\n"
     ]
    },
    {
     "name": "stderr",
     "output_type": "stream",
     "text": [
      "/home/shikhar.rai/anaconda3/envs/mpiNetCDF/lib/python3.11/site-packages/xarray/core/concat.py:546: FutureWarning: unique with argument that is not not a Series, Index, ExtensionArray, or np.ndarray is deprecated and will raise in a future version.\n",
      "  common_dims = tuple(pd.unique([d for v in vars for d in v.dims]))\n",
      "/home/shikhar.rai/anaconda3/envs/mpiNetCDF/lib/python3.11/site-packages/xarray/core/concat.py:546: FutureWarning: unique with argument that is not not a Series, Index, ExtensionArray, or np.ndarray is deprecated and will raise in a future version.\n",
      "  common_dims = tuple(pd.unique([d for v in vars for d in v.dims]))\n"
     ]
    },
    {
     "name": "stdout",
     "output_type": "stream",
     "text": [
      "5381 6485\n",
      "T_005S_155W_COARE3p5_2013_2020_2hrMeanVar_AS_Matchup.nc\n"
     ]
    },
    {
     "name": "stderr",
     "output_type": "stream",
     "text": [
      "/home/shikhar.rai/anaconda3/envs/mpiNetCDF/lib/python3.11/site-packages/xarray/core/concat.py:546: FutureWarning: unique with argument that is not not a Series, Index, ExtensionArray, or np.ndarray is deprecated and will raise in a future version.\n",
      "  common_dims = tuple(pd.unique([d for v in vars for d in v.dims]))\n",
      "/home/shikhar.rai/anaconda3/envs/mpiNetCDF/lib/python3.11/site-packages/xarray/core/concat.py:546: FutureWarning: unique with argument that is not not a Series, Index, ExtensionArray, or np.ndarray is deprecated and will raise in a future version.\n",
      "  common_dims = tuple(pd.unique([d for v in vars for d in v.dims]))\n",
      "/home/shikhar.rai/anaconda3/envs/mpiNetCDF/lib/python3.11/site-packages/xarray/core/concat.py:546: FutureWarning: unique with argument that is not not a Series, Index, ExtensionArray, or np.ndarray is deprecated and will raise in a future version.\n",
      "  common_dims = tuple(pd.unique([d for v in vars for d in v.dims]))\n"
     ]
    },
    {
     "name": "stdout",
     "output_type": "stream",
     "text": [
      "6485 7060\n",
      "T_005S_170W_COARE3p5_2013_2020_2hrMeanVar_AS_Matchup.nc\n",
      "7060 7682\n"
     ]
    },
    {
     "name": "stderr",
     "output_type": "stream",
     "text": [
      "/home/shikhar.rai/anaconda3/envs/mpiNetCDF/lib/python3.11/site-packages/xarray/core/concat.py:546: FutureWarning: unique with argument that is not not a Series, Index, ExtensionArray, or np.ndarray is deprecated and will raise in a future version.\n",
      "  common_dims = tuple(pd.unique([d for v in vars for d in v.dims]))\n",
      "/home/shikhar.rai/anaconda3/envs/mpiNetCDF/lib/python3.11/site-packages/xarray/core/concat.py:546: FutureWarning: unique with argument that is not not a Series, Index, ExtensionArray, or np.ndarray is deprecated and will raise in a future version.\n",
      "  common_dims = tuple(pd.unique([d for v in vars for d in v.dims]))\n",
      "/home/shikhar.rai/anaconda3/envs/mpiNetCDF/lib/python3.11/site-packages/xarray/core/concat.py:546: FutureWarning: unique with argument that is not not a Series, Index, ExtensionArray, or np.ndarray is deprecated and will raise in a future version.\n",
      "  common_dims = tuple(pd.unique([d for v in vars for d in v.dims]))\n"
     ]
    },
    {
     "name": "stdout",
     "output_type": "stream",
     "text": [
      "T_005S_165E_COARE3p5_2013_2020_2hrMeanVar_AS_Matchup.nc\n",
      "7682 7780\n",
      "T_002S_095W_COARE3p5_2013_2020_2hrMeanVar_AS_Matchup.nc\n"
     ]
    },
    {
     "name": "stderr",
     "output_type": "stream",
     "text": [
      "/home/shikhar.rai/anaconda3/envs/mpiNetCDF/lib/python3.11/site-packages/xarray/core/concat.py:546: FutureWarning: unique with argument that is not not a Series, Index, ExtensionArray, or np.ndarray is deprecated and will raise in a future version.\n",
      "  common_dims = tuple(pd.unique([d for v in vars for d in v.dims]))\n",
      "/home/shikhar.rai/anaconda3/envs/mpiNetCDF/lib/python3.11/site-packages/xarray/core/concat.py:546: FutureWarning: unique with argument that is not not a Series, Index, ExtensionArray, or np.ndarray is deprecated and will raise in a future version.\n",
      "  common_dims = tuple(pd.unique([d for v in vars for d in v.dims]))\n",
      "/home/shikhar.rai/anaconda3/envs/mpiNetCDF/lib/python3.11/site-packages/xarray/core/concat.py:546: FutureWarning: unique with argument that is not not a Series, Index, ExtensionArray, or np.ndarray is deprecated and will raise in a future version.\n",
      "  common_dims = tuple(pd.unique([d for v in vars for d in v.dims]))\n"
     ]
    },
    {
     "name": "stdout",
     "output_type": "stream",
     "text": [
      "7780 8212\n",
      "T_002S_110W_COARE3p5_2013_2020_2hrMeanVar_AS_Matchup.nc\n",
      "8212 9066\n"
     ]
    },
    {
     "name": "stderr",
     "output_type": "stream",
     "text": [
      "/home/shikhar.rai/anaconda3/envs/mpiNetCDF/lib/python3.11/site-packages/xarray/core/concat.py:546: FutureWarning: unique with argument that is not not a Series, Index, ExtensionArray, or np.ndarray is deprecated and will raise in a future version.\n",
      "  common_dims = tuple(pd.unique([d for v in vars for d in v.dims]))\n",
      "/home/shikhar.rai/anaconda3/envs/mpiNetCDF/lib/python3.11/site-packages/xarray/core/concat.py:546: FutureWarning: unique with argument that is not not a Series, Index, ExtensionArray, or np.ndarray is deprecated and will raise in a future version.\n",
      "  common_dims = tuple(pd.unique([d for v in vars for d in v.dims]))\n",
      "/home/shikhar.rai/anaconda3/envs/mpiNetCDF/lib/python3.11/site-packages/xarray/core/concat.py:546: FutureWarning: unique with argument that is not not a Series, Index, ExtensionArray, or np.ndarray is deprecated and will raise in a future version.\n",
      "  common_dims = tuple(pd.unique([d for v in vars for d in v.dims]))\n"
     ]
    },
    {
     "name": "stdout",
     "output_type": "stream",
     "text": [
      "T_002S_125W_COARE3p5_2013_2020_2hrMeanVar_AS_Matchup.nc\n",
      "9066 9679\n",
      "T_002S_140W_COARE3p5_2013_2020_2hrMeanVar_AS_Matchup.nc\n"
     ]
    },
    {
     "name": "stderr",
     "output_type": "stream",
     "text": [
      "/home/shikhar.rai/anaconda3/envs/mpiNetCDF/lib/python3.11/site-packages/xarray/core/concat.py:546: FutureWarning: unique with argument that is not not a Series, Index, ExtensionArray, or np.ndarray is deprecated and will raise in a future version.\n",
      "  common_dims = tuple(pd.unique([d for v in vars for d in v.dims]))\n",
      "/home/shikhar.rai/anaconda3/envs/mpiNetCDF/lib/python3.11/site-packages/xarray/core/concat.py:546: FutureWarning: unique with argument that is not not a Series, Index, ExtensionArray, or np.ndarray is deprecated and will raise in a future version.\n",
      "  common_dims = tuple(pd.unique([d for v in vars for d in v.dims]))\n",
      "/home/shikhar.rai/anaconda3/envs/mpiNetCDF/lib/python3.11/site-packages/xarray/core/concat.py:546: FutureWarning: unique with argument that is not not a Series, Index, ExtensionArray, or np.ndarray is deprecated and will raise in a future version.\n",
      "  common_dims = tuple(pd.unique([d for v in vars for d in v.dims]))\n"
     ]
    },
    {
     "name": "stdout",
     "output_type": "stream",
     "text": [
      "9679 10176\n",
      "T_002S_155W_COARE3p5_2013_2020_2hrMeanVar_AS_Matchup.nc\n",
      "10176 10574\n",
      "T_002S_170W_COARE3p5_2013_2020_2hrMeanVar_AS_Matchup.nc\n",
      "10574 11201\n"
     ]
    },
    {
     "name": "stderr",
     "output_type": "stream",
     "text": [
      "/home/shikhar.rai/anaconda3/envs/mpiNetCDF/lib/python3.11/site-packages/xarray/core/concat.py:546: FutureWarning: unique with argument that is not not a Series, Index, ExtensionArray, or np.ndarray is deprecated and will raise in a future version.\n",
      "  common_dims = tuple(pd.unique([d for v in vars for d in v.dims]))\n",
      "/home/shikhar.rai/anaconda3/envs/mpiNetCDF/lib/python3.11/site-packages/xarray/core/concat.py:546: FutureWarning: unique with argument that is not not a Series, Index, ExtensionArray, or np.ndarray is deprecated and will raise in a future version.\n",
      "  common_dims = tuple(pd.unique([d for v in vars for d in v.dims]))\n",
      "/home/shikhar.rai/anaconda3/envs/mpiNetCDF/lib/python3.11/site-packages/xarray/core/concat.py:546: FutureWarning: unique with argument that is not not a Series, Index, ExtensionArray, or np.ndarray is deprecated and will raise in a future version.\n",
      "  common_dims = tuple(pd.unique([d for v in vars for d in v.dims]))\n",
      "/home/shikhar.rai/anaconda3/envs/mpiNetCDF/lib/python3.11/site-packages/xarray/core/concat.py:546: FutureWarning: unique with argument that is not not a Series, Index, ExtensionArray, or np.ndarray is deprecated and will raise in a future version.\n",
      "  common_dims = tuple(pd.unique([d for v in vars for d in v.dims]))\n",
      "/home/shikhar.rai/anaconda3/envs/mpiNetCDF/lib/python3.11/site-packages/xarray/core/concat.py:546: FutureWarning: unique with argument that is not not a Series, Index, ExtensionArray, or np.ndarray is deprecated and will raise in a future version.\n",
      "  common_dims = tuple(pd.unique([d for v in vars for d in v.dims]))\n"
     ]
    },
    {
     "name": "stdout",
     "output_type": "stream",
     "text": [
      "T_002S_180W_COARE3p5_2013_2020_2hrMeanVar_AS_Matchup.nc\n",
      "11201 12102\n"
     ]
    },
    {
     "name": "stderr",
     "output_type": "stream",
     "text": [
      "/home/shikhar.rai/anaconda3/envs/mpiNetCDF/lib/python3.11/site-packages/xarray/core/concat.py:546: FutureWarning: unique with argument that is not not a Series, Index, ExtensionArray, or np.ndarray is deprecated and will raise in a future version.\n",
      "  common_dims = tuple(pd.unique([d for v in vars for d in v.dims]))\n",
      "/home/shikhar.rai/anaconda3/envs/mpiNetCDF/lib/python3.11/site-packages/xarray/core/concat.py:546: FutureWarning: unique with argument that is not not a Series, Index, ExtensionArray, or np.ndarray is deprecated and will raise in a future version.\n",
      "  common_dims = tuple(pd.unique([d for v in vars for d in v.dims]))\n"
     ]
    },
    {
     "name": "stdout",
     "output_type": "stream",
     "text": [
      "T_002S_165E_COARE3p5_2013_2020_2hrMeanVar_AS_Matchup.nc\n",
      "12102 12960\n"
     ]
    },
    {
     "name": "stderr",
     "output_type": "stream",
     "text": [
      "/home/shikhar.rai/anaconda3/envs/mpiNetCDF/lib/python3.11/site-packages/xarray/core/concat.py:546: FutureWarning: unique with argument that is not not a Series, Index, ExtensionArray, or np.ndarray is deprecated and will raise in a future version.\n",
      "  common_dims = tuple(pd.unique([d for v in vars for d in v.dims]))\n",
      "/home/shikhar.rai/anaconda3/envs/mpiNetCDF/lib/python3.11/site-packages/xarray/core/concat.py:546: FutureWarning: unique with argument that is not not a Series, Index, ExtensionArray, or np.ndarray is deprecated and will raise in a future version.\n",
      "  common_dims = tuple(pd.unique([d for v in vars for d in v.dims]))\n"
     ]
    },
    {
     "name": "stdout",
     "output_type": "stream",
     "text": [
      "T_000N_095W_COARE3p5_2013_2020_2hrMeanVar_AS_Matchup.nc\n",
      "12960 13263\n",
      "T_000N_110W_COARE3p5_2013_2020_2hrMeanVar_AS_Matchup.nc\n"
     ]
    },
    {
     "name": "stderr",
     "output_type": "stream",
     "text": [
      "/home/shikhar.rai/anaconda3/envs/mpiNetCDF/lib/python3.11/site-packages/xarray/core/concat.py:546: FutureWarning: unique with argument that is not not a Series, Index, ExtensionArray, or np.ndarray is deprecated and will raise in a future version.\n",
      "  common_dims = tuple(pd.unique([d for v in vars for d in v.dims]))\n",
      "/home/shikhar.rai/anaconda3/envs/mpiNetCDF/lib/python3.11/site-packages/xarray/core/concat.py:546: FutureWarning: unique with argument that is not not a Series, Index, ExtensionArray, or np.ndarray is deprecated and will raise in a future version.\n",
      "  common_dims = tuple(pd.unique([d for v in vars for d in v.dims]))\n"
     ]
    },
    {
     "name": "stdout",
     "output_type": "stream",
     "text": [
      "13263 13654\n",
      "T_000N_125W_COARE3p5_2013_2020_2hrMeanVar_AS_Matchup.nc\n",
      "13654 14531\n"
     ]
    },
    {
     "name": "stderr",
     "output_type": "stream",
     "text": [
      "/home/shikhar.rai/anaconda3/envs/mpiNetCDF/lib/python3.11/site-packages/xarray/core/concat.py:546: FutureWarning: unique with argument that is not not a Series, Index, ExtensionArray, or np.ndarray is deprecated and will raise in a future version.\n",
      "  common_dims = tuple(pd.unique([d for v in vars for d in v.dims]))\n",
      "/home/shikhar.rai/anaconda3/envs/mpiNetCDF/lib/python3.11/site-packages/xarray/core/concat.py:546: FutureWarning: unique with argument that is not not a Series, Index, ExtensionArray, or np.ndarray is deprecated and will raise in a future version.\n",
      "  common_dims = tuple(pd.unique([d for v in vars for d in v.dims]))\n",
      "/home/shikhar.rai/anaconda3/envs/mpiNetCDF/lib/python3.11/site-packages/xarray/core/concat.py:546: FutureWarning: unique with argument that is not not a Series, Index, ExtensionArray, or np.ndarray is deprecated and will raise in a future version.\n",
      "  common_dims = tuple(pd.unique([d for v in vars for d in v.dims]))\n",
      "/home/shikhar.rai/anaconda3/envs/mpiNetCDF/lib/python3.11/site-packages/xarray/core/concat.py:546: FutureWarning: unique with argument that is not not a Series, Index, ExtensionArray, or np.ndarray is deprecated and will raise in a future version.\n",
      "  common_dims = tuple(pd.unique([d for v in vars for d in v.dims]))\n"
     ]
    },
    {
     "name": "stdout",
     "output_type": "stream",
     "text": [
      "T_000N_140W_COARE3p5_2013_2020_2hrMeanVar_AS_Matchup.nc\n",
      "14531 15282\n"
     ]
    },
    {
     "name": "stderr",
     "output_type": "stream",
     "text": [
      "/home/shikhar.rai/anaconda3/envs/mpiNetCDF/lib/python3.11/site-packages/xarray/core/concat.py:546: FutureWarning: unique with argument that is not not a Series, Index, ExtensionArray, or np.ndarray is deprecated and will raise in a future version.\n",
      "  common_dims = tuple(pd.unique([d for v in vars for d in v.dims]))\n",
      "/home/shikhar.rai/anaconda3/envs/mpiNetCDF/lib/python3.11/site-packages/xarray/core/concat.py:546: FutureWarning: unique with argument that is not not a Series, Index, ExtensionArray, or np.ndarray is deprecated and will raise in a future version.\n",
      "  common_dims = tuple(pd.unique([d for v in vars for d in v.dims]))\n"
     ]
    },
    {
     "name": "stdout",
     "output_type": "stream",
     "text": [
      "T_000N_155W_COARE3p5_2013_2020_2hrMeanVar_AS_Matchup.nc\n",
      "15282 16287\n"
     ]
    },
    {
     "name": "stderr",
     "output_type": "stream",
     "text": [
      "/home/shikhar.rai/anaconda3/envs/mpiNetCDF/lib/python3.11/site-packages/xarray/core/concat.py:546: FutureWarning: unique with argument that is not not a Series, Index, ExtensionArray, or np.ndarray is deprecated and will raise in a future version.\n",
      "  common_dims = tuple(pd.unique([d for v in vars for d in v.dims]))\n",
      "/home/shikhar.rai/anaconda3/envs/mpiNetCDF/lib/python3.11/site-packages/xarray/core/concat.py:546: FutureWarning: unique with argument that is not not a Series, Index, ExtensionArray, or np.ndarray is deprecated and will raise in a future version.\n",
      "  common_dims = tuple(pd.unique([d for v in vars for d in v.dims]))\n"
     ]
    },
    {
     "name": "stdout",
     "output_type": "stream",
     "text": [
      "T_000N_170W_COARE3p5_2013_2020_2hrMeanVar_AS_Matchup.nc\n",
      "16287 16901\n"
     ]
    },
    {
     "name": "stderr",
     "output_type": "stream",
     "text": [
      "/home/shikhar.rai/anaconda3/envs/mpiNetCDF/lib/python3.11/site-packages/xarray/core/concat.py:546: FutureWarning: unique with argument that is not not a Series, Index, ExtensionArray, or np.ndarray is deprecated and will raise in a future version.\n",
      "  common_dims = tuple(pd.unique([d for v in vars for d in v.dims]))\n",
      "/home/shikhar.rai/anaconda3/envs/mpiNetCDF/lib/python3.11/site-packages/xarray/core/concat.py:546: FutureWarning: unique with argument that is not not a Series, Index, ExtensionArray, or np.ndarray is deprecated and will raise in a future version.\n",
      "  common_dims = tuple(pd.unique([d for v in vars for d in v.dims]))\n"
     ]
    },
    {
     "name": "stdout",
     "output_type": "stream",
     "text": [
      "T_000N_180W_COARE3p5_2013_2020_2hrMeanVar_AS_Matchup.nc\n",
      "16901 17733\n"
     ]
    },
    {
     "name": "stderr",
     "output_type": "stream",
     "text": [
      "/home/shikhar.rai/anaconda3/envs/mpiNetCDF/lib/python3.11/site-packages/xarray/core/concat.py:546: FutureWarning: unique with argument that is not not a Series, Index, ExtensionArray, or np.ndarray is deprecated and will raise in a future version.\n",
      "  common_dims = tuple(pd.unique([d for v in vars for d in v.dims]))\n",
      "/home/shikhar.rai/anaconda3/envs/mpiNetCDF/lib/python3.11/site-packages/xarray/core/concat.py:546: FutureWarning: unique with argument that is not not a Series, Index, ExtensionArray, or np.ndarray is deprecated and will raise in a future version.\n",
      "  common_dims = tuple(pd.unique([d for v in vars for d in v.dims]))\n"
     ]
    },
    {
     "name": "stdout",
     "output_type": "stream",
     "text": [
      "T_000N_165E_COARE3p5_2013_2020_2hrMeanVar_AS_Matchup.nc\n",
      "17733 18967\n"
     ]
    },
    {
     "name": "stderr",
     "output_type": "stream",
     "text": [
      "/home/shikhar.rai/anaconda3/envs/mpiNetCDF/lib/python3.11/site-packages/xarray/core/concat.py:546: FutureWarning: unique with argument that is not not a Series, Index, ExtensionArray, or np.ndarray is deprecated and will raise in a future version.\n",
      "  common_dims = tuple(pd.unique([d for v in vars for d in v.dims]))\n",
      "/home/shikhar.rai/anaconda3/envs/mpiNetCDF/lib/python3.11/site-packages/xarray/core/concat.py:546: FutureWarning: unique with argument that is not not a Series, Index, ExtensionArray, or np.ndarray is deprecated and will raise in a future version.\n",
      "  common_dims = tuple(pd.unique([d for v in vars for d in v.dims]))\n"
     ]
    },
    {
     "name": "stdout",
     "output_type": "stream",
     "text": [
      "T_002N_095W_COARE3p5_2013_2020_2hrMeanVar_AS_Matchup.nc\n",
      "18967 19479\n"
     ]
    },
    {
     "name": "stderr",
     "output_type": "stream",
     "text": [
      "/home/shikhar.rai/anaconda3/envs/mpiNetCDF/lib/python3.11/site-packages/xarray/core/concat.py:546: FutureWarning: unique with argument that is not not a Series, Index, ExtensionArray, or np.ndarray is deprecated and will raise in a future version.\n",
      "  common_dims = tuple(pd.unique([d for v in vars for d in v.dims]))\n",
      "/home/shikhar.rai/anaconda3/envs/mpiNetCDF/lib/python3.11/site-packages/xarray/core/concat.py:546: FutureWarning: unique with argument that is not not a Series, Index, ExtensionArray, or np.ndarray is deprecated and will raise in a future version.\n",
      "  common_dims = tuple(pd.unique([d for v in vars for d in v.dims]))\n"
     ]
    },
    {
     "name": "stdout",
     "output_type": "stream",
     "text": [
      "T_002N_110W_COARE3p5_2013_2020_2hrMeanVar_AS_Matchup.nc\n",
      "19479 20149\n"
     ]
    },
    {
     "name": "stderr",
     "output_type": "stream",
     "text": [
      "/home/shikhar.rai/anaconda3/envs/mpiNetCDF/lib/python3.11/site-packages/xarray/core/concat.py:546: FutureWarning: unique with argument that is not not a Series, Index, ExtensionArray, or np.ndarray is deprecated and will raise in a future version.\n",
      "  common_dims = tuple(pd.unique([d for v in vars for d in v.dims]))\n",
      "/home/shikhar.rai/anaconda3/envs/mpiNetCDF/lib/python3.11/site-packages/xarray/core/concat.py:546: FutureWarning: unique with argument that is not not a Series, Index, ExtensionArray, or np.ndarray is deprecated and will raise in a future version.\n",
      "  common_dims = tuple(pd.unique([d for v in vars for d in v.dims]))\n"
     ]
    },
    {
     "name": "stdout",
     "output_type": "stream",
     "text": [
      "T_002N_125W_COARE3p5_2013_2020_2hrMeanVar_AS_Matchup.nc\n",
      "20149 20799\n"
     ]
    },
    {
     "name": "stderr",
     "output_type": "stream",
     "text": [
      "/home/shikhar.rai/anaconda3/envs/mpiNetCDF/lib/python3.11/site-packages/xarray/core/concat.py:546: FutureWarning: unique with argument that is not not a Series, Index, ExtensionArray, or np.ndarray is deprecated and will raise in a future version.\n",
      "  common_dims = tuple(pd.unique([d for v in vars for d in v.dims]))\n",
      "/home/shikhar.rai/anaconda3/envs/mpiNetCDF/lib/python3.11/site-packages/xarray/core/concat.py:546: FutureWarning: unique with argument that is not not a Series, Index, ExtensionArray, or np.ndarray is deprecated and will raise in a future version.\n",
      "  common_dims = tuple(pd.unique([d for v in vars for d in v.dims]))\n"
     ]
    },
    {
     "name": "stdout",
     "output_type": "stream",
     "text": [
      "T_002N_140W_COARE3p5_2013_2020_2hrMeanVar_AS_Matchup.nc\n",
      "20799 21431\n"
     ]
    },
    {
     "name": "stderr",
     "output_type": "stream",
     "text": [
      "/home/shikhar.rai/anaconda3/envs/mpiNetCDF/lib/python3.11/site-packages/xarray/core/concat.py:546: FutureWarning: unique with argument that is not not a Series, Index, ExtensionArray, or np.ndarray is deprecated and will raise in a future version.\n",
      "  common_dims = tuple(pd.unique([d for v in vars for d in v.dims]))\n",
      "/home/shikhar.rai/anaconda3/envs/mpiNetCDF/lib/python3.11/site-packages/xarray/core/concat.py:546: FutureWarning: unique with argument that is not not a Series, Index, ExtensionArray, or np.ndarray is deprecated and will raise in a future version.\n",
      "  common_dims = tuple(pd.unique([d for v in vars for d in v.dims]))\n"
     ]
    },
    {
     "name": "stdout",
     "output_type": "stream",
     "text": [
      "T_002N_155W_COARE3p5_2013_2020_2hrMeanVar_AS_Matchup.nc\n",
      "21431 21957\n"
     ]
    },
    {
     "name": "stderr",
     "output_type": "stream",
     "text": [
      "/home/shikhar.rai/anaconda3/envs/mpiNetCDF/lib/python3.11/site-packages/xarray/core/concat.py:546: FutureWarning: unique with argument that is not not a Series, Index, ExtensionArray, or np.ndarray is deprecated and will raise in a future version.\n",
      "  common_dims = tuple(pd.unique([d for v in vars for d in v.dims]))\n",
      "/home/shikhar.rai/anaconda3/envs/mpiNetCDF/lib/python3.11/site-packages/xarray/core/concat.py:546: FutureWarning: unique with argument that is not not a Series, Index, ExtensionArray, or np.ndarray is deprecated and will raise in a future version.\n",
      "  common_dims = tuple(pd.unique([d for v in vars for d in v.dims]))\n"
     ]
    },
    {
     "name": "stdout",
     "output_type": "stream",
     "text": [
      "T_002N_170W_COARE3p5_2013_2020_2hrMeanVar_AS_Matchup.nc\n",
      "21957 22590\n"
     ]
    },
    {
     "name": "stderr",
     "output_type": "stream",
     "text": [
      "/home/shikhar.rai/anaconda3/envs/mpiNetCDF/lib/python3.11/site-packages/xarray/core/concat.py:546: FutureWarning: unique with argument that is not not a Series, Index, ExtensionArray, or np.ndarray is deprecated and will raise in a future version.\n",
      "  common_dims = tuple(pd.unique([d for v in vars for d in v.dims]))\n",
      "/home/shikhar.rai/anaconda3/envs/mpiNetCDF/lib/python3.11/site-packages/xarray/core/concat.py:546: FutureWarning: unique with argument that is not not a Series, Index, ExtensionArray, or np.ndarray is deprecated and will raise in a future version.\n",
      "  common_dims = tuple(pd.unique([d for v in vars for d in v.dims]))\n"
     ]
    },
    {
     "name": "stdout",
     "output_type": "stream",
     "text": [
      "T_002N_180W_COARE3p5_2013_2020_2hrMeanVar_AS_Matchup.nc\n",
      "22590 23072\n"
     ]
    },
    {
     "name": "stderr",
     "output_type": "stream",
     "text": [
      "/home/shikhar.rai/anaconda3/envs/mpiNetCDF/lib/python3.11/site-packages/xarray/core/concat.py:546: FutureWarning: unique with argument that is not not a Series, Index, ExtensionArray, or np.ndarray is deprecated and will raise in a future version.\n",
      "  common_dims = tuple(pd.unique([d for v in vars for d in v.dims]))\n",
      "/home/shikhar.rai/anaconda3/envs/mpiNetCDF/lib/python3.11/site-packages/xarray/core/concat.py:546: FutureWarning: unique with argument that is not not a Series, Index, ExtensionArray, or np.ndarray is deprecated and will raise in a future version.\n",
      "  common_dims = tuple(pd.unique([d for v in vars for d in v.dims]))\n"
     ]
    },
    {
     "name": "stdout",
     "output_type": "stream",
     "text": [
      "T_002N_165E_COARE3p5_2013_2020_2hrMeanVar_AS_Matchup.nc\n",
      "23072 23427\n"
     ]
    },
    {
     "name": "stderr",
     "output_type": "stream",
     "text": [
      "/home/shikhar.rai/anaconda3/envs/mpiNetCDF/lib/python3.11/site-packages/xarray/core/concat.py:546: FutureWarning: unique with argument that is not not a Series, Index, ExtensionArray, or np.ndarray is deprecated and will raise in a future version.\n",
      "  common_dims = tuple(pd.unique([d for v in vars for d in v.dims]))\n",
      "/home/shikhar.rai/anaconda3/envs/mpiNetCDF/lib/python3.11/site-packages/xarray/core/concat.py:546: FutureWarning: unique with argument that is not not a Series, Index, ExtensionArray, or np.ndarray is deprecated and will raise in a future version.\n",
      "  common_dims = tuple(pd.unique([d for v in vars for d in v.dims]))\n"
     ]
    },
    {
     "name": "stdout",
     "output_type": "stream",
     "text": [
      "T_005N_095W_COARE3p5_2013_2020_2hrMeanVar_AS_Matchup.nc\n",
      "23427 23928\n"
     ]
    },
    {
     "name": "stderr",
     "output_type": "stream",
     "text": [
      "/home/shikhar.rai/anaconda3/envs/mpiNetCDF/lib/python3.11/site-packages/xarray/core/concat.py:546: FutureWarning: unique with argument that is not not a Series, Index, ExtensionArray, or np.ndarray is deprecated and will raise in a future version.\n",
      "  common_dims = tuple(pd.unique([d for v in vars for d in v.dims]))\n",
      "/home/shikhar.rai/anaconda3/envs/mpiNetCDF/lib/python3.11/site-packages/xarray/core/concat.py:546: FutureWarning: unique with argument that is not not a Series, Index, ExtensionArray, or np.ndarray is deprecated and will raise in a future version.\n",
      "  common_dims = tuple(pd.unique([d for v in vars for d in v.dims]))\n"
     ]
    },
    {
     "name": "stdout",
     "output_type": "stream",
     "text": [
      "T_005N_110W_COARE3p5_2013_2020_2hrMeanVar_AS_Matchup.nc\n",
      "23928 25074\n"
     ]
    },
    {
     "name": "stderr",
     "output_type": "stream",
     "text": [
      "/home/shikhar.rai/anaconda3/envs/mpiNetCDF/lib/python3.11/site-packages/xarray/core/concat.py:546: FutureWarning: unique with argument that is not not a Series, Index, ExtensionArray, or np.ndarray is deprecated and will raise in a future version.\n",
      "  common_dims = tuple(pd.unique([d for v in vars for d in v.dims]))\n",
      "/home/shikhar.rai/anaconda3/envs/mpiNetCDF/lib/python3.11/site-packages/xarray/core/concat.py:546: FutureWarning: unique with argument that is not not a Series, Index, ExtensionArray, or np.ndarray is deprecated and will raise in a future version.\n",
      "  common_dims = tuple(pd.unique([d for v in vars for d in v.dims]))\n"
     ]
    },
    {
     "name": "stdout",
     "output_type": "stream",
     "text": [
      "T_005N_140W_COARE3p5_2013_2020_2hrMeanVar_AS_Matchup.nc\n",
      "25074 26024\n"
     ]
    },
    {
     "name": "stderr",
     "output_type": "stream",
     "text": [
      "/home/shikhar.rai/anaconda3/envs/mpiNetCDF/lib/python3.11/site-packages/xarray/core/concat.py:546: FutureWarning: unique with argument that is not not a Series, Index, ExtensionArray, or np.ndarray is deprecated and will raise in a future version.\n",
      "  common_dims = tuple(pd.unique([d for v in vars for d in v.dims]))\n",
      "/home/shikhar.rai/anaconda3/envs/mpiNetCDF/lib/python3.11/site-packages/xarray/core/concat.py:546: FutureWarning: unique with argument that is not not a Series, Index, ExtensionArray, or np.ndarray is deprecated and will raise in a future version.\n",
      "  common_dims = tuple(pd.unique([d for v in vars for d in v.dims]))\n"
     ]
    },
    {
     "name": "stdout",
     "output_type": "stream",
     "text": [
      "T_005N_170W_COARE3p5_2013_2020_2hrMeanVar_AS_Matchup.nc\n",
      "26024 26604\n"
     ]
    },
    {
     "name": "stderr",
     "output_type": "stream",
     "text": [
      "/home/shikhar.rai/anaconda3/envs/mpiNetCDF/lib/python3.11/site-packages/xarray/core/concat.py:546: FutureWarning: unique with argument that is not not a Series, Index, ExtensionArray, or np.ndarray is deprecated and will raise in a future version.\n",
      "  common_dims = tuple(pd.unique([d for v in vars for d in v.dims]))\n",
      "/home/shikhar.rai/anaconda3/envs/mpiNetCDF/lib/python3.11/site-packages/xarray/core/concat.py:546: FutureWarning: unique with argument that is not not a Series, Index, ExtensionArray, or np.ndarray is deprecated and will raise in a future version.\n",
      "  common_dims = tuple(pd.unique([d for v in vars for d in v.dims]))\n"
     ]
    },
    {
     "name": "stdout",
     "output_type": "stream",
     "text": [
      "T_005N_165E_COARE3p5_2013_2020_2hrMeanVar_AS_Matchup.nc\n",
      "26604 27497\n"
     ]
    },
    {
     "name": "stderr",
     "output_type": "stream",
     "text": [
      "/home/shikhar.rai/anaconda3/envs/mpiNetCDF/lib/python3.11/site-packages/xarray/core/concat.py:546: FutureWarning: unique with argument that is not not a Series, Index, ExtensionArray, or np.ndarray is deprecated and will raise in a future version.\n",
      "  common_dims = tuple(pd.unique([d for v in vars for d in v.dims]))\n",
      "/home/shikhar.rai/anaconda3/envs/mpiNetCDF/lib/python3.11/site-packages/xarray/core/concat.py:546: FutureWarning: unique with argument that is not not a Series, Index, ExtensionArray, or np.ndarray is deprecated and will raise in a future version.\n",
      "  common_dims = tuple(pd.unique([d for v in vars for d in v.dims]))\n"
     ]
    },
    {
     "name": "stdout",
     "output_type": "stream",
     "text": [
      "T_008N_095W_COARE3p5_2013_2020_2hrMeanVar_AS_Matchup.nc\n",
      "27497 28023\n"
     ]
    },
    {
     "name": "stderr",
     "output_type": "stream",
     "text": [
      "/home/shikhar.rai/anaconda3/envs/mpiNetCDF/lib/python3.11/site-packages/xarray/core/concat.py:546: FutureWarning: unique with argument that is not not a Series, Index, ExtensionArray, or np.ndarray is deprecated and will raise in a future version.\n",
      "  common_dims = tuple(pd.unique([d for v in vars for d in v.dims]))\n",
      "/home/shikhar.rai/anaconda3/envs/mpiNetCDF/lib/python3.11/site-packages/xarray/core/concat.py:546: FutureWarning: unique with argument that is not not a Series, Index, ExtensionArray, or np.ndarray is deprecated and will raise in a future version.\n",
      "  common_dims = tuple(pd.unique([d for v in vars for d in v.dims]))\n"
     ]
    },
    {
     "name": "stdout",
     "output_type": "stream",
     "text": [
      "T_008N_110W_COARE3p5_2013_2020_2hrMeanVar_AS_Matchup.nc\n",
      "28023 28568\n"
     ]
    },
    {
     "name": "stderr",
     "output_type": "stream",
     "text": [
      "/home/shikhar.rai/anaconda3/envs/mpiNetCDF/lib/python3.11/site-packages/xarray/core/concat.py:546: FutureWarning: unique with argument that is not not a Series, Index, ExtensionArray, or np.ndarray is deprecated and will raise in a future version.\n",
      "  common_dims = tuple(pd.unique([d for v in vars for d in v.dims]))\n",
      "/home/shikhar.rai/anaconda3/envs/mpiNetCDF/lib/python3.11/site-packages/xarray/core/concat.py:546: FutureWarning: unique with argument that is not not a Series, Index, ExtensionArray, or np.ndarray is deprecated and will raise in a future version.\n",
      "  common_dims = tuple(pd.unique([d for v in vars for d in v.dims]))\n"
     ]
    },
    {
     "name": "stdout",
     "output_type": "stream",
     "text": [
      "T_008N_170W_COARE3p5_2013_2020_2hrMeanVar_AS_Matchup.nc\n",
      "28568 28948\n"
     ]
    },
    {
     "name": "stderr",
     "output_type": "stream",
     "text": [
      "/home/shikhar.rai/anaconda3/envs/mpiNetCDF/lib/python3.11/site-packages/xarray/core/concat.py:546: FutureWarning: unique with argument that is not not a Series, Index, ExtensionArray, or np.ndarray is deprecated and will raise in a future version.\n",
      "  common_dims = tuple(pd.unique([d for v in vars for d in v.dims]))\n",
      "/home/shikhar.rai/anaconda3/envs/mpiNetCDF/lib/python3.11/site-packages/xarray/core/concat.py:546: FutureWarning: unique with argument that is not not a Series, Index, ExtensionArray, or np.ndarray is deprecated and will raise in a future version.\n",
      "  common_dims = tuple(pd.unique([d for v in vars for d in v.dims]))\n"
     ]
    },
    {
     "name": "stdout",
     "output_type": "stream",
     "text": [
      "T_008N_165E_COARE3p5_2013_2020_2hrMeanVar_AS_Matchup.nc\n",
      "28948 29971\n"
     ]
    },
    {
     "name": "stderr",
     "output_type": "stream",
     "text": [
      "/home/shikhar.rai/anaconda3/envs/mpiNetCDF/lib/python3.11/site-packages/xarray/core/concat.py:546: FutureWarning: unique with argument that is not not a Series, Index, ExtensionArray, or np.ndarray is deprecated and will raise in a future version.\n",
      "  common_dims = tuple(pd.unique([d for v in vars for d in v.dims]))\n",
      "/home/shikhar.rai/anaconda3/envs/mpiNetCDF/lib/python3.11/site-packages/xarray/core/concat.py:546: FutureWarning: unique with argument that is not not a Series, Index, ExtensionArray, or np.ndarray is deprecated and will raise in a future version.\n",
      "  common_dims = tuple(pd.unique([d for v in vars for d in v.dims]))\n"
     ]
    },
    {
     "name": "stdout",
     "output_type": "stream",
     "text": [
      "T_009N_140W_COARE3p5_2013_2020_2hrMeanVar_AS_Matchup.nc\n",
      "29971 31025\n"
     ]
    },
    {
     "name": "stderr",
     "output_type": "stream",
     "text": [
      "/home/shikhar.rai/anaconda3/envs/mpiNetCDF/lib/python3.11/site-packages/xarray/core/concat.py:546: FutureWarning: unique with argument that is not not a Series, Index, ExtensionArray, or np.ndarray is deprecated and will raise in a future version.\n",
      "  common_dims = tuple(pd.unique([d for v in vars for d in v.dims]))\n"
     ]
    }
   ],
   "source": [
    "latList = [-9, -8, -5, -2, 0, 2, 5, 8, 9]\n",
    "lonList = [-95, -110, -125, -140, -155, -170, -180, 165]\n",
    "\n",
    "ylen = len(latList)\n",
    "xlen = len(lonList)\n",
    "\n",
    "taskList = []\n",
    "\n",
    "for latId  in range(ylen):\n",
    "    for lonId in range(xlen):\n",
    "        taskList.append([latList[latId], lonList[lonId]])\n",
    "\n",
    "ntasks = len(taskList)\n",
    "\n",
    "\n",
    "allDS = xr.Dataset()\n",
    "dataCount = 0\n",
    "fileCount = 0\n",
    "for task in taskList:\n",
    "    lat = task[0]\n",
    "    lon = task[1]\n",
    "\n",
    "    LAT = lat\n",
    "    LON = lon\n",
    "\n",
    "    if lat < 0:\n",
    "        latUnits = 'S'\n",
    "    else:\n",
    "        latUnits = 'N'\n",
    "\n",
    "    if lon < 0:\n",
    "        lonUnits = 'W'\n",
    "    else:\n",
    "        lonUnits = 'E'\n",
    "\n",
    "    LON = (LON+360)%360\n",
    "    lat=abs(lat)\n",
    "    lon=abs(lon)\n",
    "\n",
    "    matchFname = f'../../../downloads/Buoy/from2013_2020/WINDS/T_{lat:03d}{latUnits}_{lon:03d}{lonUnits}_COARE3p5_2013_2020_2hrMeanVar_AS_Matchup.nc'\n",
    "    #deployFileName = f'../../downloads/Buoy/extractedGZ/WINDS/T_{lat:02d}{latUnits}_{lon:03d}{lonUnits}/T_{lat:02d}{latUnits}_{lon:03d}{lonUnits}_DeploymentDates.nc'\n",
    "    \n",
    "    if os.path.isfile(matchFname):\n",
    "        print(f'T_{lat:03d}{latUnits}_{lon:03d}{lonUnits}_COARE3p5_2013_2020_2hrMeanVar_AS_Matchup.nc')\n",
    "        rds = xr.open_dataset(matchFname)\n",
    "        ds = getSubDF(rds, LAT, LON)\n",
    "        AS_TIME = ds['AS_TIME'].to_numpy()\n",
    "        ds = ds.rename({'AS_TIME':'count'})\n",
    "        dataLen = len(ds['count'])\n",
    "        print(dataCount, dataCount+dataLen)\n",
    "        ds['count'] = xr.DataArray(pd.Series(np.arange(dataCount, dataCount+dataLen)), \n",
    "                                   dims = ['count'])\n",
    "        ds['AS_TIME'] = xr.DataArray(AS_TIME, \n",
    "                                   dims = ['count'])\n",
    "        dataCount += dataLen\n",
    "        if fileCount == 0:\n",
    "            allDS = ds\n",
    "        else:\n",
    "            allDS = xr.concat((allDS, ds), dim='count')\n",
    "        fileCount += 1\n",
    "        "
   ]
  },
  {
   "cell_type": "code",
   "execution_count": 26,
   "id": "76df6b60-a38d-4405-b9a7-c534163c4ae3",
   "metadata": {},
   "outputs": [],
   "source": [
    "allDS = allDS.drop_vars(['HEIGHT','DEPTH','NUMCELLS'])"
   ]
  },
  {
   "cell_type": "code",
   "execution_count": 27,
   "id": "31f6540c-451c-4df0-ac8a-ee7ed153c17a",
   "metadata": {
    "scrolled": true
   },
   "outputs": [
    {
     "data": {
      "text/html": [
       "<div><svg style=\"position: absolute; width: 0; height: 0; overflow: hidden\">\n",
       "<defs>\n",
       "<symbol id=\"icon-database\" viewBox=\"0 0 32 32\">\n",
       "<path d=\"M16 0c-8.837 0-16 2.239-16 5v4c0 2.761 7.163 5 16 5s16-2.239 16-5v-4c0-2.761-7.163-5-16-5z\"></path>\n",
       "<path d=\"M16 17c-8.837 0-16-2.239-16-5v6c0 2.761 7.163 5 16 5s16-2.239 16-5v-6c0 2.761-7.163 5-16 5z\"></path>\n",
       "<path d=\"M16 26c-8.837 0-16-2.239-16-5v6c0 2.761 7.163 5 16 5s16-2.239 16-5v-6c0 2.761-7.163 5-16 5z\"></path>\n",
       "</symbol>\n",
       "<symbol id=\"icon-file-text2\" viewBox=\"0 0 32 32\">\n",
       "<path d=\"M28.681 7.159c-0.694-0.947-1.662-2.053-2.724-3.116s-2.169-2.030-3.116-2.724c-1.612-1.182-2.393-1.319-2.841-1.319h-15.5c-1.378 0-2.5 1.121-2.5 2.5v27c0 1.378 1.122 2.5 2.5 2.5h23c1.378 0 2.5-1.122 2.5-2.5v-19.5c0-0.448-0.137-1.23-1.319-2.841zM24.543 5.457c0.959 0.959 1.712 1.825 2.268 2.543h-4.811v-4.811c0.718 0.556 1.584 1.309 2.543 2.268zM28 29.5c0 0.271-0.229 0.5-0.5 0.5h-23c-0.271 0-0.5-0.229-0.5-0.5v-27c0-0.271 0.229-0.5 0.5-0.5 0 0 15.499-0 15.5 0v7c0 0.552 0.448 1 1 1h7v19.5z\"></path>\n",
       "<path d=\"M23 26h-14c-0.552 0-1-0.448-1-1s0.448-1 1-1h14c0.552 0 1 0.448 1 1s-0.448 1-1 1z\"></path>\n",
       "<path d=\"M23 22h-14c-0.552 0-1-0.448-1-1s0.448-1 1-1h14c0.552 0 1 0.448 1 1s-0.448 1-1 1z\"></path>\n",
       "<path d=\"M23 18h-14c-0.552 0-1-0.448-1-1s0.448-1 1-1h14c0.552 0 1 0.448 1 1s-0.448 1-1 1z\"></path>\n",
       "</symbol>\n",
       "</defs>\n",
       "</svg>\n",
       "<style>/* CSS stylesheet for displaying xarray objects in jupyterlab.\n",
       " *\n",
       " */\n",
       "\n",
       ":root {\n",
       "  --xr-font-color0: var(--jp-content-font-color0, rgba(0, 0, 0, 1));\n",
       "  --xr-font-color2: var(--jp-content-font-color2, rgba(0, 0, 0, 0.54));\n",
       "  --xr-font-color3: var(--jp-content-font-color3, rgba(0, 0, 0, 0.38));\n",
       "  --xr-border-color: var(--jp-border-color2, #e0e0e0);\n",
       "  --xr-disabled-color: var(--jp-layout-color3, #bdbdbd);\n",
       "  --xr-background-color: var(--jp-layout-color0, white);\n",
       "  --xr-background-color-row-even: var(--jp-layout-color1, white);\n",
       "  --xr-background-color-row-odd: var(--jp-layout-color2, #eeeeee);\n",
       "}\n",
       "\n",
       "html[theme=dark],\n",
       "body[data-theme=dark],\n",
       "body.vscode-dark {\n",
       "  --xr-font-color0: rgba(255, 255, 255, 1);\n",
       "  --xr-font-color2: rgba(255, 255, 255, 0.54);\n",
       "  --xr-font-color3: rgba(255, 255, 255, 0.38);\n",
       "  --xr-border-color: #1F1F1F;\n",
       "  --xr-disabled-color: #515151;\n",
       "  --xr-background-color: #111111;\n",
       "  --xr-background-color-row-even: #111111;\n",
       "  --xr-background-color-row-odd: #313131;\n",
       "}\n",
       "\n",
       ".xr-wrap {\n",
       "  display: block !important;\n",
       "  min-width: 300px;\n",
       "  max-width: 700px;\n",
       "}\n",
       "\n",
       ".xr-text-repr-fallback {\n",
       "  /* fallback to plain text repr when CSS is not injected (untrusted notebook) */\n",
       "  display: none;\n",
       "}\n",
       "\n",
       ".xr-header {\n",
       "  padding-top: 6px;\n",
       "  padding-bottom: 6px;\n",
       "  margin-bottom: 4px;\n",
       "  border-bottom: solid 1px var(--xr-border-color);\n",
       "}\n",
       "\n",
       ".xr-header > div,\n",
       ".xr-header > ul {\n",
       "  display: inline;\n",
       "  margin-top: 0;\n",
       "  margin-bottom: 0;\n",
       "}\n",
       "\n",
       ".xr-obj-type,\n",
       ".xr-array-name {\n",
       "  margin-left: 2px;\n",
       "  margin-right: 10px;\n",
       "}\n",
       "\n",
       ".xr-obj-type {\n",
       "  color: var(--xr-font-color2);\n",
       "}\n",
       "\n",
       ".xr-sections {\n",
       "  padding-left: 0 !important;\n",
       "  display: grid;\n",
       "  grid-template-columns: 150px auto auto 1fr 20px 20px;\n",
       "}\n",
       "\n",
       ".xr-section-item {\n",
       "  display: contents;\n",
       "}\n",
       "\n",
       ".xr-section-item input {\n",
       "  display: none;\n",
       "}\n",
       "\n",
       ".xr-section-item input + label {\n",
       "  color: var(--xr-disabled-color);\n",
       "}\n",
       "\n",
       ".xr-section-item input:enabled + label {\n",
       "  cursor: pointer;\n",
       "  color: var(--xr-font-color2);\n",
       "}\n",
       "\n",
       ".xr-section-item input:enabled + label:hover {\n",
       "  color: var(--xr-font-color0);\n",
       "}\n",
       "\n",
       ".xr-section-summary {\n",
       "  grid-column: 1;\n",
       "  color: var(--xr-font-color2);\n",
       "  font-weight: 500;\n",
       "}\n",
       "\n",
       ".xr-section-summary > span {\n",
       "  display: inline-block;\n",
       "  padding-left: 0.5em;\n",
       "}\n",
       "\n",
       ".xr-section-summary-in:disabled + label {\n",
       "  color: var(--xr-font-color2);\n",
       "}\n",
       "\n",
       ".xr-section-summary-in + label:before {\n",
       "  display: inline-block;\n",
       "  content: '►';\n",
       "  font-size: 11px;\n",
       "  width: 15px;\n",
       "  text-align: center;\n",
       "}\n",
       "\n",
       ".xr-section-summary-in:disabled + label:before {\n",
       "  color: var(--xr-disabled-color);\n",
       "}\n",
       "\n",
       ".xr-section-summary-in:checked + label:before {\n",
       "  content: '▼';\n",
       "}\n",
       "\n",
       ".xr-section-summary-in:checked + label > span {\n",
       "  display: none;\n",
       "}\n",
       "\n",
       ".xr-section-summary,\n",
       ".xr-section-inline-details {\n",
       "  padding-top: 4px;\n",
       "  padding-bottom: 4px;\n",
       "}\n",
       "\n",
       ".xr-section-inline-details {\n",
       "  grid-column: 2 / -1;\n",
       "}\n",
       "\n",
       ".xr-section-details {\n",
       "  display: none;\n",
       "  grid-column: 1 / -1;\n",
       "  margin-bottom: 5px;\n",
       "}\n",
       "\n",
       ".xr-section-summary-in:checked ~ .xr-section-details {\n",
       "  display: contents;\n",
       "}\n",
       "\n",
       ".xr-array-wrap {\n",
       "  grid-column: 1 / -1;\n",
       "  display: grid;\n",
       "  grid-template-columns: 20px auto;\n",
       "}\n",
       "\n",
       ".xr-array-wrap > label {\n",
       "  grid-column: 1;\n",
       "  vertical-align: top;\n",
       "}\n",
       "\n",
       ".xr-preview {\n",
       "  color: var(--xr-font-color3);\n",
       "}\n",
       "\n",
       ".xr-array-preview,\n",
       ".xr-array-data {\n",
       "  padding: 0 5px !important;\n",
       "  grid-column: 2;\n",
       "}\n",
       "\n",
       ".xr-array-data,\n",
       ".xr-array-in:checked ~ .xr-array-preview {\n",
       "  display: none;\n",
       "}\n",
       "\n",
       ".xr-array-in:checked ~ .xr-array-data,\n",
       ".xr-array-preview {\n",
       "  display: inline-block;\n",
       "}\n",
       "\n",
       ".xr-dim-list {\n",
       "  display: inline-block !important;\n",
       "  list-style: none;\n",
       "  padding: 0 !important;\n",
       "  margin: 0;\n",
       "}\n",
       "\n",
       ".xr-dim-list li {\n",
       "  display: inline-block;\n",
       "  padding: 0;\n",
       "  margin: 0;\n",
       "}\n",
       "\n",
       ".xr-dim-list:before {\n",
       "  content: '(';\n",
       "}\n",
       "\n",
       ".xr-dim-list:after {\n",
       "  content: ')';\n",
       "}\n",
       "\n",
       ".xr-dim-list li:not(:last-child):after {\n",
       "  content: ',';\n",
       "  padding-right: 5px;\n",
       "}\n",
       "\n",
       ".xr-has-index {\n",
       "  font-weight: bold;\n",
       "}\n",
       "\n",
       ".xr-var-list,\n",
       ".xr-var-item {\n",
       "  display: contents;\n",
       "}\n",
       "\n",
       ".xr-var-item > div,\n",
       ".xr-var-item label,\n",
       ".xr-var-item > .xr-var-name span {\n",
       "  background-color: var(--xr-background-color-row-even);\n",
       "  margin-bottom: 0;\n",
       "}\n",
       "\n",
       ".xr-var-item > .xr-var-name:hover span {\n",
       "  padding-right: 5px;\n",
       "}\n",
       "\n",
       ".xr-var-list > li:nth-child(odd) > div,\n",
       ".xr-var-list > li:nth-child(odd) > label,\n",
       ".xr-var-list > li:nth-child(odd) > .xr-var-name span {\n",
       "  background-color: var(--xr-background-color-row-odd);\n",
       "}\n",
       "\n",
       ".xr-var-name {\n",
       "  grid-column: 1;\n",
       "}\n",
       "\n",
       ".xr-var-dims {\n",
       "  grid-column: 2;\n",
       "}\n",
       "\n",
       ".xr-var-dtype {\n",
       "  grid-column: 3;\n",
       "  text-align: right;\n",
       "  color: var(--xr-font-color2);\n",
       "}\n",
       "\n",
       ".xr-var-preview {\n",
       "  grid-column: 4;\n",
       "}\n",
       "\n",
       ".xr-index-preview {\n",
       "  grid-column: 2 / 5;\n",
       "  color: var(--xr-font-color2);\n",
       "}\n",
       "\n",
       ".xr-var-name,\n",
       ".xr-var-dims,\n",
       ".xr-var-dtype,\n",
       ".xr-preview,\n",
       ".xr-attrs dt {\n",
       "  white-space: nowrap;\n",
       "  overflow: hidden;\n",
       "  text-overflow: ellipsis;\n",
       "  padding-right: 10px;\n",
       "}\n",
       "\n",
       ".xr-var-name:hover,\n",
       ".xr-var-dims:hover,\n",
       ".xr-var-dtype:hover,\n",
       ".xr-attrs dt:hover {\n",
       "  overflow: visible;\n",
       "  width: auto;\n",
       "  z-index: 1;\n",
       "}\n",
       "\n",
       ".xr-var-attrs,\n",
       ".xr-var-data,\n",
       ".xr-index-data {\n",
       "  display: none;\n",
       "  background-color: var(--xr-background-color) !important;\n",
       "  padding-bottom: 5px !important;\n",
       "}\n",
       "\n",
       ".xr-var-attrs-in:checked ~ .xr-var-attrs,\n",
       ".xr-var-data-in:checked ~ .xr-var-data,\n",
       ".xr-index-data-in:checked ~ .xr-index-data {\n",
       "  display: block;\n",
       "}\n",
       "\n",
       ".xr-var-data > table {\n",
       "  float: right;\n",
       "}\n",
       "\n",
       ".xr-var-name span,\n",
       ".xr-var-data,\n",
       ".xr-index-name div,\n",
       ".xr-index-data,\n",
       ".xr-attrs {\n",
       "  padding-left: 25px !important;\n",
       "}\n",
       "\n",
       ".xr-attrs,\n",
       ".xr-var-attrs,\n",
       ".xr-var-data,\n",
       ".xr-index-data {\n",
       "  grid-column: 1 / -1;\n",
       "}\n",
       "\n",
       "dl.xr-attrs {\n",
       "  padding: 0;\n",
       "  margin: 0;\n",
       "  display: grid;\n",
       "  grid-template-columns: 125px auto;\n",
       "}\n",
       "\n",
       ".xr-attrs dt,\n",
       ".xr-attrs dd {\n",
       "  padding: 0;\n",
       "  margin: 0;\n",
       "  float: left;\n",
       "  padding-right: 10px;\n",
       "  width: auto;\n",
       "}\n",
       "\n",
       ".xr-attrs dt {\n",
       "  font-weight: normal;\n",
       "  grid-column: 1;\n",
       "}\n",
       "\n",
       ".xr-attrs dt:hover span {\n",
       "  display: inline-block;\n",
       "  background: var(--xr-background-color);\n",
       "  padding-right: 10px;\n",
       "}\n",
       "\n",
       ".xr-attrs dd {\n",
       "  grid-column: 2;\n",
       "  white-space: pre-wrap;\n",
       "  word-break: break-all;\n",
       "}\n",
       "\n",
       ".xr-icon-database,\n",
       ".xr-icon-file-text2,\n",
       ".xr-no-icon {\n",
       "  display: inline-block;\n",
       "  vertical-align: middle;\n",
       "  width: 1em;\n",
       "  height: 1.5em !important;\n",
       "  stroke-width: 0;\n",
       "  stroke: currentColor;\n",
       "  fill: currentColor;\n",
       "}\n",
       "</style><pre class='xr-text-repr-fallback'>&lt;xarray.Dataset&gt;\n",
       "Dimensions:            (count: 31025)\n",
       "Coordinates:\n",
       "  * count              (count) int64 0 1 2 3 4 ... 31020 31021 31022 31023 31024\n",
       "Data variables: (12/47)\n",
       "    WDIR               (count) float32 120.0 130.0 110.0 ... 131.0 226.0 199.0\n",
       "    WDIR_QC            (count) float32 2.0 2.0 2.0 2.0 2.0 ... 1.0 1.0 1.0 1.0\n",
       "    WDIR_DM            (count) |S1 b&#x27;D&#x27; b&#x27;D&#x27; b&#x27;D&#x27; b&#x27;D&#x27; ... b&#x27;D&#x27; b&#x27;D&#x27; b&#x27;D&#x27; b&#x27;D&#x27;\n",
       "    WSPD               (count) float32 6.65 6.93 5.07 6.84 ... 2.68 7.46 8.54\n",
       "    WSPD_QC            (count) float32 2.0 2.0 2.0 2.0 2.0 ... 1.0 1.0 1.0 1.0\n",
       "    WSPD_DM            (count) |S1 b&#x27;D&#x27; b&#x27;D&#x27; b&#x27;D&#x27; b&#x27;D&#x27; ... b&#x27;D&#x27; b&#x27;D&#x27; b&#x27;D&#x27; b&#x27;D&#x27;\n",
       "    ...                 ...\n",
       "    wvc_quality_flag   (count) float64 0.0 0.0 0.0 0.0 ... 0.0 2.048e+03 0.0 0.0\n",
       "    model_speed        (count) float64 6.03 6.75 5.5 6.69 ... 3.09 6.11 9.33\n",
       "    model_dir          (count) float64 316.2 297.5 321.0 ... 305.2 253.2 250.7\n",
       "    bs_distance        (count) float64 0.2 0.0 0.5 0.0 -0.3 ... 0.0 0.1 0.1 -1.2\n",
       "    dist_from_TAO_pos  (count) float64 10.74 11.18 11.44 ... 10.53 12.62 12.56\n",
       "    AS_TIME            (count) datetime64[ns] 2014-03-28T03:27:07 ... 2020-11...</pre><div class='xr-wrap' style='display:none'><div class='xr-header'><div class='xr-obj-type'>xarray.Dataset</div></div><ul class='xr-sections'><li class='xr-section-item'><input id='section-4185d5e4-6fe9-4882-b7fa-492fd451b6ca' class='xr-section-summary-in' type='checkbox' disabled ><label for='section-4185d5e4-6fe9-4882-b7fa-492fd451b6ca' class='xr-section-summary'  title='Expand/collapse section'>Dimensions:</label><div class='xr-section-inline-details'><ul class='xr-dim-list'><li><span class='xr-has-index'>count</span>: 31025</li></ul></div><div class='xr-section-details'></div></li><li class='xr-section-item'><input id='section-d24e5d64-55d8-4733-b698-62ebfce929f7' class='xr-section-summary-in' type='checkbox'  checked><label for='section-d24e5d64-55d8-4733-b698-62ebfce929f7' class='xr-section-summary' >Coordinates: <span>(1)</span></label><div class='xr-section-inline-details'></div><div class='xr-section-details'><ul class='xr-var-list'><li class='xr-var-item'><div class='xr-var-name'><span class='xr-has-index'>count</span></div><div class='xr-var-dims'>(count)</div><div class='xr-var-dtype'>int64</div><div class='xr-var-preview xr-preview'>0 1 2 3 ... 31021 31022 31023 31024</div><input id='attrs-3addc536-0b62-4d29-bb7a-8ec3f216f917' class='xr-var-attrs-in' type='checkbox' disabled><label for='attrs-3addc536-0b62-4d29-bb7a-8ec3f216f917' title='Show/Hide attributes'><svg class='icon xr-icon-file-text2'><use xlink:href='#icon-file-text2'></use></svg></label><input id='data-db3b5d9b-5f62-4143-87a1-d2b320248657' class='xr-var-data-in' type='checkbox'><label for='data-db3b5d9b-5f62-4143-87a1-d2b320248657' title='Show/Hide data repr'><svg class='icon xr-icon-database'><use xlink:href='#icon-database'></use></svg></label><div class='xr-var-attrs'><dl class='xr-attrs'></dl></div><div class='xr-var-data'><pre>array([    0,     1,     2, ..., 31022, 31023, 31024])</pre></div></li></ul></div></li><li class='xr-section-item'><input id='section-17dcb796-da00-4ed6-912f-44a168985a9b' class='xr-section-summary-in' type='checkbox'  ><label for='section-17dcb796-da00-4ed6-912f-44a168985a9b' class='xr-section-summary' >Data variables: <span>(47)</span></label><div class='xr-section-inline-details'></div><div class='xr-section-details'><ul class='xr-var-list'><li class='xr-var-item'><div class='xr-var-name'><span>WDIR</span></div><div class='xr-var-dims'>(count)</div><div class='xr-var-dtype'>float32</div><div class='xr-var-preview xr-preview'>120.0 130.0 110.0 ... 226.0 199.0</div><input id='attrs-e33c6167-fd69-4867-8372-68822046aeda' class='xr-var-attrs-in' type='checkbox' disabled><label for='attrs-e33c6167-fd69-4867-8372-68822046aeda' title='Show/Hide attributes'><svg class='icon xr-icon-file-text2'><use xlink:href='#icon-file-text2'></use></svg></label><input id='data-2198c179-e901-416e-b0e7-ec5496833e24' class='xr-var-data-in' type='checkbox'><label for='data-2198c179-e901-416e-b0e7-ec5496833e24' title='Show/Hide data repr'><svg class='icon xr-icon-database'><use xlink:href='#icon-database'></use></svg></label><div class='xr-var-attrs'><dl class='xr-attrs'></dl></div><div class='xr-var-data'><pre>array([120., 130., 110., ..., 131., 226., 199.], dtype=float32)</pre></div></li><li class='xr-var-item'><div class='xr-var-name'><span>WDIR_QC</span></div><div class='xr-var-dims'>(count)</div><div class='xr-var-dtype'>float32</div><div class='xr-var-preview xr-preview'>2.0 2.0 2.0 2.0 ... 1.0 1.0 1.0 1.0</div><input id='attrs-03274024-efdd-41e6-9b93-ae6badb35978' class='xr-var-attrs-in' type='checkbox' ><label for='attrs-03274024-efdd-41e6-9b93-ae6badb35978' title='Show/Hide attributes'><svg class='icon xr-icon-file-text2'><use xlink:href='#icon-file-text2'></use></svg></label><input id='data-3ed21472-1d2a-4779-8200-240347057bad' class='xr-var-data-in' type='checkbox'><label for='data-3ed21472-1d2a-4779-8200-240347057bad' title='Show/Hide data repr'><svg class='icon xr-icon-database'><use xlink:href='#icon-database'></use></svg></label><div class='xr-var-attrs'><dl class='xr-attrs'><dt><span>long_name :</span></dt><dd>quality flag</dd><dt><span>valid_min :</span></dt><dd>0</dd><dt><span>valid_max :</span></dt><dd>9</dd><dt><span>flag_values :</span></dt><dd>[0 1 2 3 4 5 9]</dd><dt><span>flag_meanings :</span></dt><dd>unknown good_data probably_good_data questionable_data bad_data adjusted_data missing_data</dd><dt><span>coordinates :</span></dt><dd>TIME HEIGHT LATITUDE LONGITUDE</dd></dl></div><div class='xr-var-data'><pre>array([2., 2., 2., ..., 1., 1., 1.], dtype=float32)</pre></div></li><li class='xr-var-item'><div class='xr-var-name'><span>WDIR_DM</span></div><div class='xr-var-dims'>(count)</div><div class='xr-var-dtype'>|S1</div><div class='xr-var-preview xr-preview'>b&#x27;D&#x27; b&#x27;D&#x27; b&#x27;D&#x27; ... b&#x27;D&#x27; b&#x27;D&#x27; b&#x27;D&#x27;</div><input id='attrs-54c1a542-1361-4f5e-92e5-dc0152c97eaa' class='xr-var-attrs-in' type='checkbox' ><label for='attrs-54c1a542-1361-4f5e-92e5-dc0152c97eaa' title='Show/Hide attributes'><svg class='icon xr-icon-file-text2'><use xlink:href='#icon-file-text2'></use></svg></label><input id='data-e543502c-bf23-47d8-b720-deda663bf30e' class='xr-var-data-in' type='checkbox'><label for='data-e543502c-bf23-47d8-b720-deda663bf30e' title='Show/Hide data repr'><svg class='icon xr-icon-database'><use xlink:href='#icon-database'></use></svg></label><div class='xr-var-attrs'><dl class='xr-attrs'><dt><span>long_name :</span></dt><dd>data mode</dd><dt><span>flag_values :</span></dt><dd>R, D</dd><dt><span>flag_meanings :</span></dt><dd>real-time delayed-mode</dd><dt><span>coordinates :</span></dt><dd>TIME HEIGHT LATITUDE LONGITUDE</dd></dl></div><div class='xr-var-data'><pre>array([b&#x27;D&#x27;, b&#x27;D&#x27;, b&#x27;D&#x27;, ..., b&#x27;D&#x27;, b&#x27;D&#x27;, b&#x27;D&#x27;], dtype=&#x27;|S1&#x27;)</pre></div></li><li class='xr-var-item'><div class='xr-var-name'><span>WSPD</span></div><div class='xr-var-dims'>(count)</div><div class='xr-var-dtype'>float32</div><div class='xr-var-preview xr-preview'>6.65 6.93 5.07 ... 2.68 7.46 8.54</div><input id='attrs-6f8a1902-7318-4d28-b116-05384fbcd2d0' class='xr-var-attrs-in' type='checkbox' ><label for='attrs-6f8a1902-7318-4d28-b116-05384fbcd2d0' title='Show/Hide attributes'><svg class='icon xr-icon-file-text2'><use xlink:href='#icon-file-text2'></use></svg></label><input id='data-a8edd406-d106-46bf-b346-20d16c306665' class='xr-var-data-in' type='checkbox'><label for='data-a8edd406-d106-46bf-b346-20d16c306665' title='Show/Hide data repr'><svg class='icon xr-icon-database'><use xlink:href='#icon-database'></use></svg></label><div class='xr-var-attrs'><dl class='xr-attrs'><dt><span>standard_name :</span></dt><dd>wind_speed</dd><dt><span>long_name :</span></dt><dd>Wind Speed</dd><dt><span>units :</span></dt><dd>meters/second</dd><dt><span>valid_min :</span></dt><dd>0.0</dd><dt><span>valid_max :</span></dt><dd>35.0</dd><dt><span>accuracy :</span></dt><dd>0.3 meters/second or 3%</dd><dt><span>resolution :</span></dt><dd>0.2</dd><dt><span>sensor_name :</span></dt><dd>Wind Propeller [R.M. Young/05103]</dd><dt><span>sensor_serial_number :</span></dt><dd>109887</dd><dt><span>ancillary_variables :</span></dt><dd>WSPD_QC WSPD_DM</dd><dt><span>cell_methods :</span></dt><dd>TIME: mean (interval: 2 minutes) HEIGHT:point LATITUDE:point LONGITUDE:point</dd><dt><span>coordinates :</span></dt><dd>TIME HEIGHT LATITUDE LONGITUDE</dd></dl></div><div class='xr-var-data'><pre>array([6.65, 6.93, 5.07, ..., 2.68, 7.46, 8.54], dtype=float32)</pre></div></li><li class='xr-var-item'><div class='xr-var-name'><span>WSPD_QC</span></div><div class='xr-var-dims'>(count)</div><div class='xr-var-dtype'>float32</div><div class='xr-var-preview xr-preview'>2.0 2.0 2.0 2.0 ... 1.0 1.0 1.0 1.0</div><input id='attrs-ec5440d6-ce0e-4831-a994-31bc73f12330' class='xr-var-attrs-in' type='checkbox' ><label for='attrs-ec5440d6-ce0e-4831-a994-31bc73f12330' title='Show/Hide attributes'><svg class='icon xr-icon-file-text2'><use xlink:href='#icon-file-text2'></use></svg></label><input id='data-39ceb9fc-2b0e-46b8-95ee-456c905f586f' class='xr-var-data-in' type='checkbox'><label for='data-39ceb9fc-2b0e-46b8-95ee-456c905f586f' title='Show/Hide data repr'><svg class='icon xr-icon-database'><use xlink:href='#icon-database'></use></svg></label><div class='xr-var-attrs'><dl class='xr-attrs'><dt><span>long_name :</span></dt><dd>quality flag</dd><dt><span>valid_min :</span></dt><dd>0</dd><dt><span>valid_max :</span></dt><dd>9</dd><dt><span>flag_values :</span></dt><dd>[0 1 2 3 4 5 9]</dd><dt><span>flag_meanings :</span></dt><dd>unknown good_data probably_good_data questionable_data bad_data adjusted_data missing_data</dd><dt><span>coordinates :</span></dt><dd>TIME HEIGHT LATITUDE LONGITUDE</dd></dl></div><div class='xr-var-data'><pre>array([2., 2., 2., ..., 1., 1., 1.], dtype=float32)</pre></div></li><li class='xr-var-item'><div class='xr-var-name'><span>WSPD_DM</span></div><div class='xr-var-dims'>(count)</div><div class='xr-var-dtype'>|S1</div><div class='xr-var-preview xr-preview'>b&#x27;D&#x27; b&#x27;D&#x27; b&#x27;D&#x27; ... b&#x27;D&#x27; b&#x27;D&#x27; b&#x27;D&#x27;</div><input id='attrs-c515f47b-a45f-4296-89f5-23287c1ba881' class='xr-var-attrs-in' type='checkbox' ><label for='attrs-c515f47b-a45f-4296-89f5-23287c1ba881' title='Show/Hide attributes'><svg class='icon xr-icon-file-text2'><use xlink:href='#icon-file-text2'></use></svg></label><input id='data-7fc23448-796b-4e1c-8652-9bb4c54aa241' class='xr-var-data-in' type='checkbox'><label for='data-7fc23448-796b-4e1c-8652-9bb4c54aa241' title='Show/Hide data repr'><svg class='icon xr-icon-database'><use xlink:href='#icon-database'></use></svg></label><div class='xr-var-attrs'><dl class='xr-attrs'><dt><span>long_name :</span></dt><dd>data mode</dd><dt><span>flag_values :</span></dt><dd>R, D</dd><dt><span>flag_meanings :</span></dt><dd>real-time delayed-mode</dd><dt><span>coordinates :</span></dt><dd>TIME HEIGHT LATITUDE LONGITUDE</dd></dl></div><div class='xr-var-data'><pre>array([b&#x27;D&#x27;, b&#x27;D&#x27;, b&#x27;D&#x27;, ..., b&#x27;D&#x27;, b&#x27;D&#x27;, b&#x27;D&#x27;], dtype=&#x27;|S1&#x27;)</pre></div></li><li class='xr-var-item'><div class='xr-var-name'><span>UWND</span></div><div class='xr-var-dims'>(count)</div><div class='xr-var-dtype'>float32</div><div class='xr-var-preview xr-preview'>-3.33 -4.45 -1.74 ... -5.18 -8.07</div><input id='attrs-46e95a63-f2a7-4fa7-8916-cc8a908d6fcc' class='xr-var-attrs-in' type='checkbox' ><label for='attrs-46e95a63-f2a7-4fa7-8916-cc8a908d6fcc' title='Show/Hide attributes'><svg class='icon xr-icon-file-text2'><use xlink:href='#icon-file-text2'></use></svg></label><input id='data-b2d4f4fc-eb42-4a3c-8add-0acd58c417a0' class='xr-var-data-in' type='checkbox'><label for='data-b2d4f4fc-eb42-4a3c-8add-0acd58c417a0' title='Show/Hide data repr'><svg class='icon xr-icon-database'><use xlink:href='#icon-database'></use></svg></label><div class='xr-var-attrs'><dl class='xr-attrs'><dt><span>standard_name :</span></dt><dd>eastward_wind</dd><dt><span>long_name :</span></dt><dd>Wind Speed U Component</dd><dt><span>units :</span></dt><dd>meters/second</dd><dt><span>valid_min :</span></dt><dd>0.0</dd><dt><span>valid_max :</span></dt><dd>35.0</dd><dt><span>accuracy :</span></dt><dd>0.3 meters/second or 3%</dd><dt><span>resolution :</span></dt><dd>0.2</dd><dt><span>sensor_name :</span></dt><dd>Wind Propeller [R.M. Young/05103]</dd><dt><span>sensor_serial_number :</span></dt><dd>109887</dd><dt><span>ancillary_variables :</span></dt><dd>WDIR_QC WDIR_DM WSPD_QC WSPD_DM</dd><dt><span>cell_methods :</span></dt><dd>TIME: mean (interval: 2 minutes) HEIGHT:point LATITUDE:point LONGITUDE:point</dd><dt><span>coordinates :</span></dt><dd>TIME HEIGHT LATITUDE LONGITUDE</dd></dl></div><div class='xr-var-data'><pre>array([-3.33, -4.45, -1.74, ..., -1.76, -5.18, -8.07], dtype=float32)</pre></div></li><li class='xr-var-item'><div class='xr-var-name'><span>VWND</span></div><div class='xr-var-dims'>(count)</div><div class='xr-var-dtype'>float32</div><div class='xr-var-preview xr-preview'>5.76 5.31 4.77 ... 2.03 -5.37 -2.78</div><input id='attrs-48c00661-8d7f-41a6-9926-7aa06b7a641a' class='xr-var-attrs-in' type='checkbox' ><label for='attrs-48c00661-8d7f-41a6-9926-7aa06b7a641a' title='Show/Hide attributes'><svg class='icon xr-icon-file-text2'><use xlink:href='#icon-file-text2'></use></svg></label><input id='data-cc5ccac2-b7a1-4a87-8dca-307eb4690d0e' class='xr-var-data-in' type='checkbox'><label for='data-cc5ccac2-b7a1-4a87-8dca-307eb4690d0e' title='Show/Hide data repr'><svg class='icon xr-icon-database'><use xlink:href='#icon-database'></use></svg></label><div class='xr-var-attrs'><dl class='xr-attrs'><dt><span>standard_name :</span></dt><dd>northward_wind</dd><dt><span>long_name :</span></dt><dd>Wind Speed V Component</dd><dt><span>units :</span></dt><dd>meters/second</dd><dt><span>valid_min :</span></dt><dd>0.0</dd><dt><span>valid_max :</span></dt><dd>35.0</dd><dt><span>accuracy :</span></dt><dd>0.3 meters/second or 3%</dd><dt><span>resolution :</span></dt><dd>0.2</dd><dt><span>sensor_name :</span></dt><dd>Wind Propeller [R.M. Young/05103]</dd><dt><span>sensor_serial_number :</span></dt><dd>109887</dd><dt><span>ancillary_variables :</span></dt><dd>WDIR_QC WDIR_DM WSPD_QC WSPD_DM</dd><dt><span>cell_methods :</span></dt><dd>TIME: mean (interval: 2 minutes) HEIGHT:point LATITUDE:point LONGITUDE:point</dd><dt><span>coordinates :</span></dt><dd>TIME HEIGHT LATITUDE LONGITUDE</dd></dl></div><div class='xr-var-data'><pre>array([ 5.76,  5.31,  4.77, ...,  2.03, -5.37, -2.78], dtype=float32)</pre></div></li><li class='xr-var-item'><div class='xr-var-name'><span>SST</span></div><div class='xr-var-dims'>(count)</div><div class='xr-var-dtype'>float32</div><div class='xr-var-preview xr-preview'>27.17 27.15 27.22 ... 28.16 28.07</div><input id='attrs-911ca888-f1a1-477e-9877-f3ad288dbae2' class='xr-var-attrs-in' type='checkbox' ><label for='attrs-911ca888-f1a1-477e-9877-f3ad288dbae2' title='Show/Hide attributes'><svg class='icon xr-icon-file-text2'><use xlink:href='#icon-file-text2'></use></svg></label><input id='data-c23d9c0c-89a1-440c-a409-bdc5eea39a87' class='xr-var-data-in' type='checkbox'><label for='data-c23d9c0c-89a1-440c-a409-bdc5eea39a87' title='Show/Hide data repr'><svg class='icon xr-icon-database'><use xlink:href='#icon-database'></use></svg></label><div class='xr-var-attrs'><dl class='xr-attrs'><dt><span>standard_name :</span></dt><dd>sea_surface_temperature</dd><dt><span>long_name :</span></dt><dd>Sea Surface Temperature</dd><dt><span>units :</span></dt><dd>degree_Celsius</dd><dt><span>valid_min :</span></dt><dd>-5.0</dd><dt><span>valid_max :</span></dt><dd>35.0</dd><dt><span>accuracy :</span></dt><dd>0.003</dd><dt><span>resolution :</span></dt><dd>0.001</dd><dt><span>sensor_name :</span></dt><dd>Thermistor [Seabird/SBE 16/37]</dd><dt><span>sensor_serial_number :</span></dt><dd>5795/1m </dd><dt><span>ancillary_variables :</span></dt><dd>SST_QC SST_DM</dd><dt><span>cell_methods :</span></dt><dd>TIME:point DEPTH:point LATITUDE:point LONGITUDE:point</dd><dt><span>reference_scale :</span></dt><dd>ITS-90</dd><dt><span>coordinates :</span></dt><dd>TIME DEPTH LATITUDE LONGITUDE</dd></dl></div><div class='xr-var-data'><pre>array([27.165, 27.145, 27.22 , ..., 28.103, 28.155, 28.072], dtype=float32)</pre></div></li><li class='xr-var-item'><div class='xr-var-name'><span>SST_QC</span></div><div class='xr-var-dims'>(count)</div><div class='xr-var-dtype'>float32</div><div class='xr-var-preview xr-preview'>2.0 2.0 2.0 2.0 ... 1.0 1.0 1.0 1.0</div><input id='attrs-2c34e899-1ab7-4c09-a9bf-f261047e4b08' class='xr-var-attrs-in' type='checkbox' ><label for='attrs-2c34e899-1ab7-4c09-a9bf-f261047e4b08' title='Show/Hide attributes'><svg class='icon xr-icon-file-text2'><use xlink:href='#icon-file-text2'></use></svg></label><input id='data-4a0718df-e59d-4926-9737-e2c5c48b40aa' class='xr-var-data-in' type='checkbox'><label for='data-4a0718df-e59d-4926-9737-e2c5c48b40aa' title='Show/Hide data repr'><svg class='icon xr-icon-database'><use xlink:href='#icon-database'></use></svg></label><div class='xr-var-attrs'><dl class='xr-attrs'><dt><span>long_name :</span></dt><dd>quality flag</dd><dt><span>valid_min :</span></dt><dd>0</dd><dt><span>valid_max :</span></dt><dd>9</dd><dt><span>flag_values :</span></dt><dd>[0 1 2 3 4 5 9]</dd><dt><span>flag_meanings :</span></dt><dd>unknown good_data probably_good_data questionable_data bad_data adjusted_data missing_data</dd><dt><span>coordinates :</span></dt><dd>TIME DEPTH LATITUDE LONGITUDE</dd></dl></div><div class='xr-var-data'><pre>array([2., 2., 2., ..., 1., 1., 1.], dtype=float32)</pre></div></li><li class='xr-var-item'><div class='xr-var-name'><span>SST_DM</span></div><div class='xr-var-dims'>(count)</div><div class='xr-var-dtype'>|S1</div><div class='xr-var-preview xr-preview'>b&#x27;D&#x27; b&#x27;D&#x27; b&#x27;D&#x27; ... b&#x27;D&#x27; b&#x27;D&#x27; b&#x27;D&#x27;</div><input id='attrs-6b4dd9b6-ed2c-4387-8cac-5e9c794ba945' class='xr-var-attrs-in' type='checkbox' ><label for='attrs-6b4dd9b6-ed2c-4387-8cac-5e9c794ba945' title='Show/Hide attributes'><svg class='icon xr-icon-file-text2'><use xlink:href='#icon-file-text2'></use></svg></label><input id='data-31f9f864-e584-4303-9351-958f8d9f80e3' class='xr-var-data-in' type='checkbox'><label for='data-31f9f864-e584-4303-9351-958f8d9f80e3' title='Show/Hide data repr'><svg class='icon xr-icon-database'><use xlink:href='#icon-database'></use></svg></label><div class='xr-var-attrs'><dl class='xr-attrs'><dt><span>long_name :</span></dt><dd>data mode</dd><dt><span>flag_values :</span></dt><dd>R, D</dd><dt><span>flag_meanings :</span></dt><dd>real-time delayed-mode</dd><dt><span>coordinates :</span></dt><dd>TIME DEPTH LATITUDE LONGITUDE</dd></dl></div><div class='xr-var-data'><pre>array([b&#x27;D&#x27;, b&#x27;D&#x27;, b&#x27;D&#x27;, ..., b&#x27;D&#x27;, b&#x27;D&#x27;, b&#x27;D&#x27;], dtype=&#x27;|S1&#x27;)</pre></div></li><li class='xr-var-item'><div class='xr-var-name'><span>RELH</span></div><div class='xr-var-dims'>(count)</div><div class='xr-var-dtype'>float32</div><div class='xr-var-preview xr-preview'>79.17 76.2 77.73 ... 89.9 88.04</div><input id='attrs-27db63c5-9e7e-44d0-839c-ebe3d4daa143' class='xr-var-attrs-in' type='checkbox' ><label for='attrs-27db63c5-9e7e-44d0-839c-ebe3d4daa143' title='Show/Hide attributes'><svg class='icon xr-icon-file-text2'><use xlink:href='#icon-file-text2'></use></svg></label><input id='data-d597a408-8fd0-4ff5-bd02-a8e6cde0dd88' class='xr-var-data-in' type='checkbox'><label for='data-d597a408-8fd0-4ff5-bd02-a8e6cde0dd88' title='Show/Hide data repr'><svg class='icon xr-icon-database'><use xlink:href='#icon-database'></use></svg></label><div class='xr-var-attrs'><dl class='xr-attrs'><dt><span>standard_name :</span></dt><dd>relative_humidity</dd><dt><span>long_name :</span></dt><dd>Relative Humidity</dd><dt><span>units :</span></dt><dd>1</dd><dt><span>valid_min :</span></dt><dd>0.0</dd><dt><span>valid_max :</span></dt><dd>100.0</dd><dt><span>accuracy :</span></dt><dd>2.0</dd><dt><span>sensor_name :</span></dt><dd>Humidity-temperature Hygromer C94 [Rotronics/MP101A]</dd><dt><span>sensor_serial_number :</span></dt><dd>149999</dd><dt><span>ancillary_variables :</span></dt><dd>RELH_QC RELH_DM</dd><dt><span>cell_methods :</span></dt><dd>TIME: mean (interval: 2 minutes) HEIGHT:point LATITUDE:point LONGITUDE:point</dd><dt><span>coordinates :</span></dt><dd>TIME HEIGHT LATITUDE LONGITUDE</dd></dl></div><div class='xr-var-data'><pre>array([79.17, 76.2 , 77.73, ..., 81.39, 89.9 , 88.04], dtype=float32)</pre></div></li><li class='xr-var-item'><div class='xr-var-name'><span>RELH_QC</span></div><div class='xr-var-dims'>(count)</div><div class='xr-var-dtype'>float32</div><div class='xr-var-preview xr-preview'>2.0 2.0 2.0 2.0 ... 1.0 1.0 1.0 1.0</div><input id='attrs-758fba33-8467-4d9b-9b2f-966d603ea9cd' class='xr-var-attrs-in' type='checkbox' ><label for='attrs-758fba33-8467-4d9b-9b2f-966d603ea9cd' title='Show/Hide attributes'><svg class='icon xr-icon-file-text2'><use xlink:href='#icon-file-text2'></use></svg></label><input id='data-b1280466-c28b-4df4-8580-407265c414f7' class='xr-var-data-in' type='checkbox'><label for='data-b1280466-c28b-4df4-8580-407265c414f7' title='Show/Hide data repr'><svg class='icon xr-icon-database'><use xlink:href='#icon-database'></use></svg></label><div class='xr-var-attrs'><dl class='xr-attrs'><dt><span>long_name :</span></dt><dd>quality flag</dd><dt><span>valid_min :</span></dt><dd>0</dd><dt><span>valid_max :</span></dt><dd>9</dd><dt><span>flag_values :</span></dt><dd>[0 1 2 3 4 5 9]</dd><dt><span>flag_meanings :</span></dt><dd>unknown good_data probably_good_data questionable_data bad_data adjusted_data missing_data</dd><dt><span>coordinates :</span></dt><dd>TIME HEIGHT LATITUDE LONGITUDE</dd></dl></div><div class='xr-var-data'><pre>array([2., 2., 2., ..., 1., 1., 1.], dtype=float32)</pre></div></li><li class='xr-var-item'><div class='xr-var-name'><span>RELH_DM</span></div><div class='xr-var-dims'>(count)</div><div class='xr-var-dtype'>|S1</div><div class='xr-var-preview xr-preview'>b&#x27;D&#x27; b&#x27;D&#x27; b&#x27;D&#x27; ... b&#x27;D&#x27; b&#x27;D&#x27; b&#x27;D&#x27;</div><input id='attrs-9b1d8570-1bb9-4eb4-bd3b-ae11b3ecc033' class='xr-var-attrs-in' type='checkbox' ><label for='attrs-9b1d8570-1bb9-4eb4-bd3b-ae11b3ecc033' title='Show/Hide attributes'><svg class='icon xr-icon-file-text2'><use xlink:href='#icon-file-text2'></use></svg></label><input id='data-41593d21-c58c-454f-8cc7-dad4e36dd525' class='xr-var-data-in' type='checkbox'><label for='data-41593d21-c58c-454f-8cc7-dad4e36dd525' title='Show/Hide data repr'><svg class='icon xr-icon-database'><use xlink:href='#icon-database'></use></svg></label><div class='xr-var-attrs'><dl class='xr-attrs'><dt><span>long_name :</span></dt><dd>data mode</dd><dt><span>flag_values :</span></dt><dd>R, D</dd><dt><span>flag_meanings :</span></dt><dd>real-time delayed-mode</dd><dt><span>coordinates :</span></dt><dd>TIME HEIGHT LATITUDE LONGITUDE</dd></dl></div><div class='xr-var-data'><pre>array([b&#x27;D&#x27;, b&#x27;D&#x27;, b&#x27;D&#x27;, ..., b&#x27;D&#x27;, b&#x27;D&#x27;, b&#x27;D&#x27;], dtype=&#x27;|S1&#x27;)</pre></div></li><li class='xr-var-item'><div class='xr-var-name'><span>AIRT</span></div><div class='xr-var-dims'>(count)</div><div class='xr-var-dtype'>float32</div><div class='xr-var-preview xr-preview'>26.65 26.9 26.46 ... 26.77 27.05</div><input id='attrs-b0adf79e-1cde-4ca4-b3c9-5c4bc3bb79f7' class='xr-var-attrs-in' type='checkbox' ><label for='attrs-b0adf79e-1cde-4ca4-b3c9-5c4bc3bb79f7' title='Show/Hide attributes'><svg class='icon xr-icon-file-text2'><use xlink:href='#icon-file-text2'></use></svg></label><input id='data-b52a8459-21c1-47b8-90f5-735f629e87c3' class='xr-var-data-in' type='checkbox'><label for='data-b52a8459-21c1-47b8-90f5-735f629e87c3' title='Show/Hide data repr'><svg class='icon xr-icon-database'><use xlink:href='#icon-database'></use></svg></label><div class='xr-var-attrs'><dl class='xr-attrs'><dt><span>standard_name :</span></dt><dd>air_temperature</dd><dt><span>long_name :</span></dt><dd>Air Temperature</dd><dt><span>units :</span></dt><dd>degree_Celsius</dd><dt><span>valid_min :</span></dt><dd>-40.0</dd><dt><span>valid_max :</span></dt><dd>60.0</dd><dt><span>accuracy :</span></dt><dd>0.2</dd><dt><span>resolution :</span></dt><dd>0.01</dd><dt><span>sensor_name :</span></dt><dd>Humidity-temperature Pt100 RTD [Rotronics/MP101A]</dd><dt><span>sensor_serial_number :</span></dt><dd>149999</dd><dt><span>ancillary_variables :</span></dt><dd>AIRT_QC AIRT_DM</dd><dt><span>cell_methods :</span></dt><dd>TIME: mean (interval: 2 minutes) HEIGHT:point LATITUDE:point LONGITUDE:point</dd><dt><span>coordinates :</span></dt><dd>TIME HEIGHT LATITUDE LONGITUDE</dd></dl></div><div class='xr-var-data'><pre>array([26.65, 26.9 , 26.46, ..., 27.38, 26.77, 27.05], dtype=float32)</pre></div></li><li class='xr-var-item'><div class='xr-var-name'><span>AIRT_QC</span></div><div class='xr-var-dims'>(count)</div><div class='xr-var-dtype'>float32</div><div class='xr-var-preview xr-preview'>2.0 2.0 2.0 2.0 ... 1.0 1.0 1.0 1.0</div><input id='attrs-6d1cfc60-4337-4dd3-ad90-4b47baa48543' class='xr-var-attrs-in' type='checkbox' ><label for='attrs-6d1cfc60-4337-4dd3-ad90-4b47baa48543' title='Show/Hide attributes'><svg class='icon xr-icon-file-text2'><use xlink:href='#icon-file-text2'></use></svg></label><input id='data-e8967edc-c853-4043-bdeb-f41d7900550b' class='xr-var-data-in' type='checkbox'><label for='data-e8967edc-c853-4043-bdeb-f41d7900550b' title='Show/Hide data repr'><svg class='icon xr-icon-database'><use xlink:href='#icon-database'></use></svg></label><div class='xr-var-attrs'><dl class='xr-attrs'><dt><span>long_name :</span></dt><dd>quality flag</dd><dt><span>valid_min :</span></dt><dd>0</dd><dt><span>valid_max :</span></dt><dd>9</dd><dt><span>flag_values :</span></dt><dd>[0 1 2 3 4 5 9]</dd><dt><span>flag_meanings :</span></dt><dd>unknown good_data probably_good_data questionable_data bad_data adjusted_data missing_data</dd><dt><span>coordinates :</span></dt><dd>TIME HEIGHT LATITUDE LONGITUDE</dd></dl></div><div class='xr-var-data'><pre>array([2., 2., 2., ..., 1., 1., 1.], dtype=float32)</pre></div></li><li class='xr-var-item'><div class='xr-var-name'><span>AIRT_DM</span></div><div class='xr-var-dims'>(count)</div><div class='xr-var-dtype'>|S1</div><div class='xr-var-preview xr-preview'>b&#x27;D&#x27; b&#x27;D&#x27; b&#x27;D&#x27; ... b&#x27;D&#x27; b&#x27;D&#x27; b&#x27;D&#x27;</div><input id='attrs-a2925e71-3a17-4207-aa71-0e3e1f7725a4' class='xr-var-attrs-in' type='checkbox' ><label for='attrs-a2925e71-3a17-4207-aa71-0e3e1f7725a4' title='Show/Hide attributes'><svg class='icon xr-icon-file-text2'><use xlink:href='#icon-file-text2'></use></svg></label><input id='data-f12925a3-06ea-40dc-b136-cce4e856b25f' class='xr-var-data-in' type='checkbox'><label for='data-f12925a3-06ea-40dc-b136-cce4e856b25f' title='Show/Hide data repr'><svg class='icon xr-icon-database'><use xlink:href='#icon-database'></use></svg></label><div class='xr-var-attrs'><dl class='xr-attrs'><dt><span>long_name :</span></dt><dd>data mode</dd><dt><span>flag_values :</span></dt><dd>R, D</dd><dt><span>flag_meanings :</span></dt><dd>real-time delayed-mode</dd><dt><span>coordinates :</span></dt><dd>TIME HEIGHT LATITUDE LONGITUDE</dd></dl></div><div class='xr-var-data'><pre>array([b&#x27;D&#x27;, b&#x27;D&#x27;, b&#x27;D&#x27;, ..., b&#x27;D&#x27;, b&#x27;D&#x27;, b&#x27;D&#x27;], dtype=&#x27;|S1&#x27;)</pre></div></li><li class='xr-var-item'><div class='xr-var-name'><span>WSPD_10N</span></div><div class='xr-var-dims'>(count)</div><div class='xr-var-dtype'>float64</div><div class='xr-var-preview xr-preview'>7.267 7.56 5.579 ... 8.193 9.368</div><input id='attrs-0fbb3624-7259-4a0f-8416-ca9b58b0974c' class='xr-var-attrs-in' type='checkbox' ><label for='attrs-0fbb3624-7259-4a0f-8416-ca9b58b0974c' title='Show/Hide attributes'><svg class='icon xr-icon-file-text2'><use xlink:href='#icon-file-text2'></use></svg></label><input id='data-ce26fef8-6cc7-44d3-ac02-454a6d4e371e' class='xr-var-data-in' type='checkbox'><label for='data-ce26fef8-6cc7-44d3-ac02-454a6d4e371e' title='Show/Hide data repr'><svg class='icon xr-icon-database'><use xlink:href='#icon-database'></use></svg></label><div class='xr-var-attrs'><dl class='xr-attrs'><dt><span>units :</span></dt><dd>m/s</dd><dt><span>long_name :</span></dt><dd>10 m neutral winds from COARE3.5</dd><dt><span>vars_used_to_calculate :</span></dt><dd>SST RH AIRT WSPD</dd></dl></div><div class='xr-var-data'><pre>array([7.26686016, 7.56011539, 5.57868752, ..., 3.02119546, 8.19300213,\n",
       "       9.36846554])</pre></div></li><li class='xr-var-item'><div class='xr-var-name'><span>WSPD_10</span></div><div class='xr-var-dims'>(count)</div><div class='xr-var-dtype'>float64</div><div class='xr-var-preview xr-preview'>7.116 7.437 5.362 ... 7.994 9.223</div><input id='attrs-5bcda6d6-dac5-4989-a572-c736b07a03df' class='xr-var-attrs-in' type='checkbox' ><label for='attrs-5bcda6d6-dac5-4989-a572-c736b07a03df' title='Show/Hide attributes'><svg class='icon xr-icon-file-text2'><use xlink:href='#icon-file-text2'></use></svg></label><input id='data-0fc32093-216f-47b9-b92c-db396a6f7fb7' class='xr-var-data-in' type='checkbox'><label for='data-0fc32093-216f-47b9-b92c-db396a6f7fb7' title='Show/Hide data repr'><svg class='icon xr-icon-database'><use xlink:href='#icon-database'></use></svg></label><div class='xr-var-attrs'><dl class='xr-attrs'><dt><span>units :</span></dt><dd>m/s</dd><dt><span>long_name :</span></dt><dd>10 m winds from COARE3.5</dd><dt><span>vars_used_to_calculate :</span></dt><dd>SST RH AIRT WSPD</dd></dl></div><div class='xr-var-data'><pre>array([7.11553475, 7.43726824, 5.36229939, ..., 2.80114609, 7.99444832,\n",
       "       9.22280328])</pre></div></li><li class='xr-var-item'><div class='xr-var-name'><span>mean_WSPD</span></div><div class='xr-var-dims'>(count)</div><div class='xr-var-dtype'>float64</div><div class='xr-var-preview xr-preview'>6.444 7.256 5.193 ... 7.429 8.579</div><input id='attrs-c78e3ad1-3e66-459b-b743-b8ce0d1fbceb' class='xr-var-attrs-in' type='checkbox' ><label for='attrs-c78e3ad1-3e66-459b-b743-b8ce0d1fbceb' title='Show/Hide attributes'><svg class='icon xr-icon-file-text2'><use xlink:href='#icon-file-text2'></use></svg></label><input id='data-f18c1358-482a-45a5-8784-558ea6e72bce' class='xr-var-data-in' type='checkbox'><label for='data-f18c1358-482a-45a5-8784-558ea6e72bce' title='Show/Hide data repr'><svg class='icon xr-icon-database'><use xlink:href='#icon-database'></use></svg></label><div class='xr-var-attrs'><dl class='xr-attrs'><dt><span>statistic :</span></dt><dd>Running mean over 120 min</dd></dl></div><div class='xr-var-data'><pre>array([6.4441667 , 7.25583335, 5.19333335, ..., 2.14583334, 7.42916667,\n",
       "       8.57916673])</pre></div></li><li class='xr-var-item'><div class='xr-var-name'><span>std_WSPD</span></div><div class='xr-var-dims'>(count)</div><div class='xr-var-dtype'>float64</div><div class='xr-var-preview xr-preview'>0.2495 0.3441 ... 0.8194 0.8054</div><input id='attrs-3073ccca-037c-495b-9f02-c053c1e58196' class='xr-var-attrs-in' type='checkbox' ><label for='attrs-3073ccca-037c-495b-9f02-c053c1e58196' title='Show/Hide attributes'><svg class='icon xr-icon-file-text2'><use xlink:href='#icon-file-text2'></use></svg></label><input id='data-fd8a5b01-2477-44f3-8eed-65aae58fce0d' class='xr-var-data-in' type='checkbox'><label for='data-fd8a5b01-2477-44f3-8eed-65aae58fce0d' title='Show/Hide data repr'><svg class='icon xr-icon-database'><use xlink:href='#icon-database'></use></svg></label><div class='xr-var-attrs'><dl class='xr-attrs'><dt><span>statistic :</span></dt><dd>Running std dev over 120 min</dd></dl></div><div class='xr-var-data'><pre>array([0.24954788, 0.34412855, 0.42542811, ..., 0.50423965, 0.81941496,\n",
       "       0.80537253])</pre></div></li><li class='xr-var-item'><div class='xr-var-name'><span>mean_WSPD_10N</span></div><div class='xr-var-dims'>(count)</div><div class='xr-var-dtype'>float64</div><div class='xr-var-preview xr-preview'>7.038 7.926 5.709 ... 8.147 9.415</div><input id='attrs-75c14196-69c3-442f-9d9a-b41556fd2b51' class='xr-var-attrs-in' type='checkbox' ><label for='attrs-75c14196-69c3-442f-9d9a-b41556fd2b51' title='Show/Hide attributes'><svg class='icon xr-icon-file-text2'><use xlink:href='#icon-file-text2'></use></svg></label><input id='data-00142218-683c-408a-9ad4-0bdf179927c7' class='xr-var-data-in' type='checkbox'><label for='data-00142218-683c-408a-9ad4-0bdf179927c7' title='Show/Hide data repr'><svg class='icon xr-icon-database'><use xlink:href='#icon-database'></use></svg></label><div class='xr-var-attrs'><dl class='xr-attrs'><dt><span>statistic :</span></dt><dd>Running mean over 120 min</dd></dl></div><div class='xr-var-data'><pre>array([7.0382915 , 7.9255059 , 5.70942516, ..., 2.44825832, 8.14722272,\n",
       "       9.41481324])</pre></div></li><li class='xr-var-item'><div class='xr-var-name'><span>std_WSPD_10N</span></div><div class='xr-var-dims'>(count)</div><div class='xr-var-dtype'>float64</div><div class='xr-var-preview xr-preview'>0.2742 0.3834 ... 0.9121 0.8991</div><input id='attrs-28c6dc0d-ccc9-46f8-a095-6f31119a36ac' class='xr-var-attrs-in' type='checkbox' ><label for='attrs-28c6dc0d-ccc9-46f8-a095-6f31119a36ac' title='Show/Hide attributes'><svg class='icon xr-icon-file-text2'><use xlink:href='#icon-file-text2'></use></svg></label><input id='data-f05e103c-21be-454c-b229-4892497faf87' class='xr-var-data-in' type='checkbox'><label for='data-f05e103c-21be-454c-b229-4892497faf87' title='Show/Hide data repr'><svg class='icon xr-icon-database'><use xlink:href='#icon-database'></use></svg></label><div class='xr-var-attrs'><dl class='xr-attrs'><dt><span>statistic :</span></dt><dd>Running std dev over 120 min</dd></dl></div><div class='xr-var-data'><pre>array([0.27417468, 0.38342288, 0.45607212, ..., 0.53222386, 0.91207414,\n",
       "       0.89907246])</pre></div></li><li class='xr-var-item'><div class='xr-var-name'><span>mean_SST</span></div><div class='xr-var-dims'>(count)</div><div class='xr-var-dtype'>float64</div><div class='xr-var-preview xr-preview'>27.17 27.15 27.22 ... 28.16 28.07</div><input id='attrs-173ac496-f65c-4017-a239-2ede0f696a31' class='xr-var-attrs-in' type='checkbox' ><label for='attrs-173ac496-f65c-4017-a239-2ede0f696a31' title='Show/Hide attributes'><svg class='icon xr-icon-file-text2'><use xlink:href='#icon-file-text2'></use></svg></label><input id='data-e9cd0991-c0ec-4f17-ad5e-f0d9420ed42f' class='xr-var-data-in' type='checkbox'><label for='data-e9cd0991-c0ec-4f17-ad5e-f0d9420ed42f' title='Show/Hide data repr'><svg class='icon xr-icon-database'><use xlink:href='#icon-database'></use></svg></label><div class='xr-var-attrs'><dl class='xr-attrs'><dt><span>statistic :</span></dt><dd>Running mean over 120 min</dd></dl></div><div class='xr-var-data'><pre>array([27.16900015, 27.14891704, 27.22116645, ..., 28.06049999,\n",
       "       28.15591685, 28.07108323])</pre></div></li><li class='xr-var-item'><div class='xr-var-name'><span>std_SST</span></div><div class='xr-var-dims'>(count)</div><div class='xr-var-dtype'>float64</div><div class='xr-var-preview xr-preview'>0.006944 0.005871 ... 0.006308</div><input id='attrs-1caf27b4-1b13-421d-8716-6f63e3a105c8' class='xr-var-attrs-in' type='checkbox' ><label for='attrs-1caf27b4-1b13-421d-8716-6f63e3a105c8' title='Show/Hide attributes'><svg class='icon xr-icon-file-text2'><use xlink:href='#icon-file-text2'></use></svg></label><input id='data-213d0ecb-3221-455e-adb1-536f17aaabf9' class='xr-var-data-in' type='checkbox'><label for='data-213d0ecb-3221-455e-adb1-536f17aaabf9' title='Show/Hide data repr'><svg class='icon xr-icon-database'><use xlink:href='#icon-database'></use></svg></label><div class='xr-var-attrs'><dl class='xr-attrs'><dt><span>statistic :</span></dt><dd>Running std dev over 120 min</dd></dl></div><div class='xr-var-data'><pre>array([0.00694446, 0.00587132, 0.0121316 , ..., 0.05051089, 0.00942017,\n",
       "       0.00630837])</pre></div></li><li class='xr-var-item'><div class='xr-var-name'><span>mean_AIRT</span></div><div class='xr-var-dims'>(count)</div><div class='xr-var-dtype'>float64</div><div class='xr-var-preview xr-preview'>26.68 26.73 26.47 ... 27.1 27.07</div><input id='attrs-f8e6dca6-9217-4e0f-a38c-029631752c27' class='xr-var-attrs-in' type='checkbox' ><label for='attrs-f8e6dca6-9217-4e0f-a38c-029631752c27' title='Show/Hide attributes'><svg class='icon xr-icon-file-text2'><use xlink:href='#icon-file-text2'></use></svg></label><input id='data-97f581d1-d26a-4158-a5d1-b66ad72ee0bf' class='xr-var-data-in' type='checkbox'><label for='data-97f581d1-d26a-4158-a5d1-b66ad72ee0bf' title='Show/Hide data repr'><svg class='icon xr-icon-database'><use xlink:href='#icon-database'></use></svg></label><div class='xr-var-attrs'><dl class='xr-attrs'><dt><span>statistic :</span></dt><dd>Running mean over 120 min</dd></dl></div><div class='xr-var-data'><pre>array([26.67749961, 26.72916667, 26.46999963, ..., 27.42333349,\n",
       "       27.10499986, 27.0733331 ])</pre></div></li><li class='xr-var-item'><div class='xr-var-name'><span>std_AIRT</span></div><div class='xr-var-dims'>(count)</div><div class='xr-var-dtype'>float64</div><div class='xr-var-preview xr-preview'>0.04693 0.1228 ... 0.2659 0.2189</div><input id='attrs-7053ed2f-d221-4c4b-901d-a11c59568d25' class='xr-var-attrs-in' type='checkbox' ><label for='attrs-7053ed2f-d221-4c4b-901d-a11c59568d25' title='Show/Hide attributes'><svg class='icon xr-icon-file-text2'><use xlink:href='#icon-file-text2'></use></svg></label><input id='data-862b27b4-8318-418f-92e7-023112eb2fc5' class='xr-var-data-in' type='checkbox'><label for='data-862b27b4-8318-418f-92e7-023112eb2fc5' title='Show/Hide data repr'><svg class='icon xr-icon-database'><use xlink:href='#icon-database'></use></svg></label><div class='xr-var-attrs'><dl class='xr-attrs'><dt><span>statistic :</span></dt><dd>Running std dev over 120 min</dd></dl></div><div class='xr-var-data'><pre>array([0.04692529, 0.12279688, 0.04964734, ..., 0.09041194, 0.2659458 ,\n",
       "       0.21894107])</pre></div></li><li class='xr-var-item'><div class='xr-var-name'><span>mean_RELH</span></div><div class='xr-var-dims'>(count)</div><div class='xr-var-dtype'>float64</div><div class='xr-var-preview xr-preview'>80.23 79.05 78.46 ... 86.4 87.3</div><input id='attrs-3feb6632-a660-4297-967d-8950b80954ee' class='xr-var-attrs-in' type='checkbox' ><label for='attrs-3feb6632-a660-4297-967d-8950b80954ee' title='Show/Hide attributes'><svg class='icon xr-icon-file-text2'><use xlink:href='#icon-file-text2'></use></svg></label><input id='data-18962850-a77f-4816-98ae-a13cbe380eed' class='xr-var-data-in' type='checkbox'><label for='data-18962850-a77f-4816-98ae-a13cbe380eed' title='Show/Hide data repr'><svg class='icon xr-icon-database'><use xlink:href='#icon-database'></use></svg></label><div class='xr-var-attrs'><dl class='xr-attrs'><dt><span>statistic :</span></dt><dd>Running mean over 120 min</dd></dl></div><div class='xr-var-data'><pre>array([80.23083305, 79.05416616, 78.46083323, ..., 80.17583148,\n",
       "       86.40416654, 87.30416616])</pre></div></li><li class='xr-var-item'><div class='xr-var-name'><span>std_RELH</span></div><div class='xr-var-dims'>(count)</div><div class='xr-var-dtype'>float64</div><div class='xr-var-preview xr-preview'>1.172 1.855 1.226 ... 2.599 1.937</div><input id='attrs-2547d901-6f9a-43e4-b9f9-1f676dd992e4' class='xr-var-attrs-in' type='checkbox' ><label for='attrs-2547d901-6f9a-43e4-b9f9-1f676dd992e4' title='Show/Hide attributes'><svg class='icon xr-icon-file-text2'><use xlink:href='#icon-file-text2'></use></svg></label><input id='data-b1ac5d28-b7e5-4962-886f-08e93bccaaf5' class='xr-var-data-in' type='checkbox'><label for='data-b1ac5d28-b7e5-4962-886f-08e93bccaaf5' title='Show/Hide data repr'><svg class='icon xr-icon-database'><use xlink:href='#icon-database'></use></svg></label><div class='xr-var-attrs'><dl class='xr-attrs'><dt><span>statistic :</span></dt><dd>Running std dev over 120 min</dd></dl></div><div class='xr-var-data'><pre>array([1.1722915 , 1.85450243, 1.22585091, ..., 0.96706193, 2.59851809,\n",
       "       1.93685595])</pre></div></li><li class='xr-var-item'><div class='xr-var-name'><span>mean_SST - AIRT</span></div><div class='xr-var-dims'>(count)</div><div class='xr-var-dtype'>float64</div><div class='xr-var-preview xr-preview'>0.4915 0.4198 ... 1.051 0.9978</div><input id='attrs-5d42e6ec-509e-45f0-8fbf-23ddc36b3aa5' class='xr-var-attrs-in' type='checkbox' ><label for='attrs-5d42e6ec-509e-45f0-8fbf-23ddc36b3aa5' title='Show/Hide attributes'><svg class='icon xr-icon-file-text2'><use xlink:href='#icon-file-text2'></use></svg></label><input id='data-22c0e66d-0a3e-4287-aba5-fe3721ac647b' class='xr-var-data-in' type='checkbox'><label for='data-22c0e66d-0a3e-4287-aba5-fe3721ac647b' title='Show/Hide data repr'><svg class='icon xr-icon-database'><use xlink:href='#icon-database'></use></svg></label><div class='xr-var-attrs'><dl class='xr-attrs'><dt><span>statistic :</span></dt><dd>Running mean over 120 min</dd></dl></div><div class='xr-var-data'><pre>array([0.49150054, 0.41975037, 0.75116682, ..., 0.6371665 , 1.05091699,\n",
       "       0.99775012])</pre></div></li><li class='xr-var-item'><div class='xr-var-name'><span>std_SST - AIRT</span></div><div class='xr-var-dims'>(count)</div><div class='xr-var-dtype'>float64</div><div class='xr-var-preview xr-preview'>0.04493 0.1207 ... 0.2706 0.2176</div><input id='attrs-81ced275-aea5-4095-bc45-47e4a23ff301' class='xr-var-attrs-in' type='checkbox' ><label for='attrs-81ced275-aea5-4095-bc45-47e4a23ff301' title='Show/Hide attributes'><svg class='icon xr-icon-file-text2'><use xlink:href='#icon-file-text2'></use></svg></label><input id='data-1a90438f-ffe0-483c-946a-c20291af9ded' class='xr-var-data-in' type='checkbox'><label for='data-1a90438f-ffe0-483c-946a-c20291af9ded' title='Show/Hide data repr'><svg class='icon xr-icon-database'><use xlink:href='#icon-database'></use></svg></label><div class='xr-var-attrs'><dl class='xr-attrs'><dt><span>statistic :</span></dt><dd>Running std dev over 120 min</dd></dl></div><div class='xr-var-data'><pre>array([0.0449286 , 0.1207232 , 0.05200453, ..., 0.13111893, 0.27064071,\n",
       "       0.21756854])</pre></div></li><li class='xr-var-item'><div class='xr-var-name'><span>mean_cosWDIR</span></div><div class='xr-var-dims'>(count)</div><div class='xr-var-dtype'>float64</div><div class='xr-var-preview xr-preview'>-0.5131 -0.5775 ... -0.7974 -0.9343</div><input id='attrs-34c7d25b-b87c-432b-b0d1-a03145af5fab' class='xr-var-attrs-in' type='checkbox' ><label for='attrs-34c7d25b-b87c-432b-b0d1-a03145af5fab' title='Show/Hide attributes'><svg class='icon xr-icon-file-text2'><use xlink:href='#icon-file-text2'></use></svg></label><input id='data-cb9de9b4-7c17-43d7-b944-dc5594e3ae73' class='xr-var-data-in' type='checkbox'><label for='data-cb9de9b4-7c17-43d7-b944-dc5594e3ae73' title='Show/Hide data repr'><svg class='icon xr-icon-database'><use xlink:href='#icon-database'></use></svg></label><div class='xr-var-attrs'><dl class='xr-attrs'><dt><span>statistic :</span></dt><dd>Running mean over 120 min</dd></dl></div><div class='xr-var-data'><pre>array([-0.51306209, -0.57749044, -0.24853839, ..., -0.77833392,\n",
       "       -0.79735469, -0.93430639])</pre></div></li><li class='xr-var-item'><div class='xr-var-name'><span>std_cosWDIR</span></div><div class='xr-var-dims'>(count)</div><div class='xr-var-dtype'>float64</div><div class='xr-var-preview xr-preview'>0.04615 0.04297 ... 0.09358 0.02474</div><input id='attrs-0a35dde4-53d7-4fff-a0f3-3f0d322ce417' class='xr-var-attrs-in' type='checkbox' ><label for='attrs-0a35dde4-53d7-4fff-a0f3-3f0d322ce417' title='Show/Hide attributes'><svg class='icon xr-icon-file-text2'><use xlink:href='#icon-file-text2'></use></svg></label><input id='data-0c2806ce-ea30-4a8b-bcf4-50a5aa92798e' class='xr-var-data-in' type='checkbox'><label for='data-0c2806ce-ea30-4a8b-bcf4-50a5aa92798e' title='Show/Hide data repr'><svg class='icon xr-icon-database'><use xlink:href='#icon-database'></use></svg></label><div class='xr-var-attrs'><dl class='xr-attrs'><dt><span>statistic :</span></dt><dd>Running std dev over 120 min</dd></dl></div><div class='xr-var-data'><pre>array([0.046149  , 0.04296559, 0.05847172, ..., 0.1364668 , 0.09358233,\n",
       "       0.02473621])</pre></div></li><li class='xr-var-item'><div class='xr-var-name'><span>mean_sinWDIR</span></div><div class='xr-var-dims'>(count)</div><div class='xr-var-dtype'>float64</div><div class='xr-var-preview xr-preview'>0.8567 0.8146 ... -0.5768 -0.3493</div><input id='attrs-1777e67d-d566-472b-af49-a3e523f412c7' class='xr-var-attrs-in' type='checkbox' ><label for='attrs-1777e67d-d566-472b-af49-a3e523f412c7' title='Show/Hide attributes'><svg class='icon xr-icon-file-text2'><use xlink:href='#icon-file-text2'></use></svg></label><input id='data-add82b8f-5ee5-46e5-acc7-e527665ec153' class='xr-var-data-in' type='checkbox'><label for='data-add82b8f-5ee5-46e5-acc7-e527665ec153' title='Show/Hide data repr'><svg class='icon xr-icon-database'><use xlink:href='#icon-database'></use></svg></label><div class='xr-var-attrs'><dl class='xr-attrs'><dt><span>statistic :</span></dt><dd>Running mean over 120 min</dd></dl></div><div class='xr-var-data'><pre>array([ 0.85668196,  0.81464639,  0.96675076, ...,  0.58488966,\n",
       "       -0.57676339, -0.34932944])</pre></div></li><li class='xr-var-item'><div class='xr-var-name'><span>std_sinWDIR</span></div><div class='xr-var-dims'>(count)</div><div class='xr-var-dtype'>float64</div><div class='xr-var-preview xr-preview'>0.02708 0.03178 ... 0.151 0.06655</div><input id='attrs-cbf89a3a-b0f5-4ac1-9d9f-56cb42073466' class='xr-var-attrs-in' type='checkbox' ><label for='attrs-cbf89a3a-b0f5-4ac1-9d9f-56cb42073466' title='Show/Hide attributes'><svg class='icon xr-icon-file-text2'><use xlink:href='#icon-file-text2'></use></svg></label><input id='data-870460ff-c0a1-4360-a5ff-440a9b2b59ba' class='xr-var-data-in' type='checkbox'><label for='data-870460ff-c0a1-4360-a5ff-440a9b2b59ba' title='Show/Hide data repr'><svg class='icon xr-icon-database'><use xlink:href='#icon-database'></use></svg></label><div class='xr-var-attrs'><dl class='xr-attrs'><dt><span>statistic :</span></dt><dd>Running std dev over 120 min</dd></dl></div><div class='xr-var-data'><pre>array([0.02708455, 0.03178069, 0.01423591, ..., 0.18296785, 0.15103586,\n",
       "       0.06654793])</pre></div></li><li class='xr-var-item'><div class='xr-var-name'><span>LATITUDE</span></div><div class='xr-var-dims'>(count)</div><div class='xr-var-dtype'>float64</div><div class='xr-var-preview xr-preview'>-8.0 -8.0 -8.0 -8.0 ... 9.0 9.0 9.0</div><input id='attrs-8c5d6712-0d96-4d5e-85a2-32de77959af1' class='xr-var-attrs-in' type='checkbox' disabled><label for='attrs-8c5d6712-0d96-4d5e-85a2-32de77959af1' title='Show/Hide attributes'><svg class='icon xr-icon-file-text2'><use xlink:href='#icon-file-text2'></use></svg></label><input id='data-6cec1371-ccbd-4038-88d3-846e32627b6e' class='xr-var-data-in' type='checkbox'><label for='data-6cec1371-ccbd-4038-88d3-846e32627b6e' title='Show/Hide data repr'><svg class='icon xr-icon-database'><use xlink:href='#icon-database'></use></svg></label><div class='xr-var-attrs'><dl class='xr-attrs'></dl></div><div class='xr-var-data'><pre>array([-8., -8., -8., ...,  9.,  9.,  9.])</pre></div></li><li class='xr-var-item'><div class='xr-var-name'><span>LONGITUDE</span></div><div class='xr-var-dims'>(count)</div><div class='xr-var-dtype'>float64</div><div class='xr-var-preview xr-preview'>265.0 265.0 265.0 ... 220.0 220.0</div><input id='attrs-f0a733a1-0b0e-4b3e-9e82-26e3288b8f5d' class='xr-var-attrs-in' type='checkbox' disabled><label for='attrs-f0a733a1-0b0e-4b3e-9e82-26e3288b8f5d' title='Show/Hide attributes'><svg class='icon xr-icon-file-text2'><use xlink:href='#icon-file-text2'></use></svg></label><input id='data-df61f8a9-e9ee-43c0-8ff2-55a2ab5d1d50' class='xr-var-data-in' type='checkbox'><label for='data-df61f8a9-e9ee-43c0-8ff2-55a2ab5d1d50' title='Show/Hide data repr'><svg class='icon xr-icon-database'><use xlink:href='#icon-database'></use></svg></label><div class='xr-var-attrs'><dl class='xr-attrs'></dl></div><div class='xr-var-data'><pre>array([265., 265., 265., ..., 220., 220., 220.])</pre></div></li><li class='xr-var-item'><div class='xr-var-name'><span>TAO_TIME</span></div><div class='xr-var-dims'>(count)</div><div class='xr-var-dtype'>datetime64[ns]</div><div class='xr-var-preview xr-preview'>2014-03-28T03:20:00 ... 2020-11-...</div><input id='attrs-b714768c-91b9-45ae-b40d-60dd41bcb044' class='xr-var-attrs-in' type='checkbox' disabled><label for='attrs-b714768c-91b9-45ae-b40d-60dd41bcb044' title='Show/Hide attributes'><svg class='icon xr-icon-file-text2'><use xlink:href='#icon-file-text2'></use></svg></label><input id='data-985fd384-6502-42d2-9629-b394ad4471c5' class='xr-var-data-in' type='checkbox'><label for='data-985fd384-6502-42d2-9629-b394ad4471c5' title='Show/Hide data repr'><svg class='icon xr-icon-database'><use xlink:href='#icon-database'></use></svg></label><div class='xr-var-attrs'><dl class='xr-attrs'></dl></div><div class='xr-var-data'><pre>array([&#x27;2014-03-28T03:20:00.000000000&#x27;, &#x27;2014-03-28T16:09:59.000000000&#x27;,\n",
       "       &#x27;2014-03-30T04:20:00.000000000&#x27;, ...,\n",
       "       &#x27;2020-11-10T18:30:00.000000000&#x27;, &#x27;2020-11-13T19:09:59.000000000&#x27;,\n",
       "       &#x27;2020-11-14T06:20:00.000000000&#x27;], dtype=&#x27;datetime64[ns]&#x27;)</pre></div></li><li class='xr-var-item'><div class='xr-var-name'><span>Deployment index</span></div><div class='xr-var-dims'>(count)</div><div class='xr-var-dtype'>int64</div><div class='xr-var-preview xr-preview'>1 1 1 1 1 2 2 2 ... 7 7 7 7 7 7 7 7</div><input id='attrs-f9d68a92-2ae8-43c8-9000-60cdf1fad00e' class='xr-var-attrs-in' type='checkbox' disabled><label for='attrs-f9d68a92-2ae8-43c8-9000-60cdf1fad00e' title='Show/Hide attributes'><svg class='icon xr-icon-file-text2'><use xlink:href='#icon-file-text2'></use></svg></label><input id='data-d3b52a30-1c51-406b-9543-0bb5f3f60392' class='xr-var-data-in' type='checkbox'><label for='data-d3b52a30-1c51-406b-9543-0bb5f3f60392' title='Show/Hide data repr'><svg class='icon xr-icon-database'><use xlink:href='#icon-database'></use></svg></label><div class='xr-var-attrs'><dl class='xr-attrs'></dl></div><div class='xr-var-data'><pre>array([1, 1, 1, ..., 7, 7, 7])</pre></div></li><li class='xr-var-item'><div class='xr-var-name'><span>wind_speed</span></div><div class='xr-var-dims'>(count)</div><div class='xr-var-dtype'>float64</div><div class='xr-var-preview xr-preview'>6.65 7.94 5.47 ... 2.75 7.34 9.42</div><input id='attrs-000bfe20-72e2-4e7f-9e52-ab694d0020a8' class='xr-var-attrs-in' type='checkbox' ><label for='attrs-000bfe20-72e2-4e7f-9e52-ab694d0020a8' title='Show/Hide attributes'><svg class='icon xr-icon-file-text2'><use xlink:href='#icon-file-text2'></use></svg></label><input id='data-cf6129d7-cbf5-4048-aac4-b8578133c334' class='xr-var-data-in' type='checkbox'><label for='data-cf6129d7-cbf5-4048-aac4-b8578133c334' title='Show/Hide data repr'><svg class='icon xr-icon-database'><use xlink:href='#icon-database'></use></svg></label><div class='xr-var-attrs'><dl class='xr-attrs'><dt><span>valid_min :</span></dt><dd>0</dd><dt><span>valid_max :</span></dt><dd>5000</dd><dt><span>long_name :</span></dt><dd>wind speed at 10 m</dd><dt><span>units :</span></dt><dd>m s-1</dd></dl></div><div class='xr-var-data'><pre>array([6.6500001 , 7.94000006, 5.46999979, ..., 2.75      , 7.34000015,\n",
       "       9.42000008])</pre></div></li><li class='xr-var-item'><div class='xr-var-name'><span>wind_dir</span></div><div class='xr-var-dims'>(count)</div><div class='xr-var-dtype'>float64</div><div class='xr-var-preview xr-preview'>320.6 322.3 334.4 ... 230.2 256.3</div><input id='attrs-1e78301d-c65d-49ba-b777-6dbfa94ebae2' class='xr-var-attrs-in' type='checkbox' ><label for='attrs-1e78301d-c65d-49ba-b777-6dbfa94ebae2' title='Show/Hide attributes'><svg class='icon xr-icon-file-text2'><use xlink:href='#icon-file-text2'></use></svg></label><input id='data-e818f585-5bf1-43b2-8812-feb988ed3fcb' class='xr-var-data-in' type='checkbox'><label for='data-e818f585-5bf1-43b2-8812-feb988ed3fcb' title='Show/Hide data repr'><svg class='icon xr-icon-database'><use xlink:href='#icon-database'></use></svg></label><div class='xr-var-attrs'><dl class='xr-attrs'><dt><span>valid_min :</span></dt><dd>0</dd><dt><span>valid_max :</span></dt><dd>3600</dd><dt><span>long_name :</span></dt><dd>wind direction at 10 m</dd><dt><span>units :</span></dt><dd>degree</dd></dl></div><div class='xr-var-data'><pre>array([320.6000061 , 322.29998779, 334.3999939 , ..., 352.29998779,\n",
       "       230.19999695, 256.29998779])</pre></div></li><li class='xr-var-item'><div class='xr-var-name'><span>wvc_quality_flag</span></div><div class='xr-var-dims'>(count)</div><div class='xr-var-dtype'>float64</div><div class='xr-var-preview xr-preview'>0.0 0.0 0.0 ... 2.048e+03 0.0 0.0</div><input id='attrs-8fbf9e77-1367-4b6a-b296-bc89d755ebee' class='xr-var-attrs-in' type='checkbox' ><label for='attrs-8fbf9e77-1367-4b6a-b296-bc89d755ebee' title='Show/Hide attributes'><svg class='icon xr-icon-file-text2'><use xlink:href='#icon-file-text2'></use></svg></label><input id='data-35f2f1dd-b697-4395-b226-92b0f8af66c3' class='xr-var-data-in' type='checkbox'><label for='data-35f2f1dd-b697-4395-b226-92b0f8af66c3' title='Show/Hide data repr'><svg class='icon xr-icon-database'><use xlink:href='#icon-database'></use></svg></label><div class='xr-var-attrs'><dl class='xr-attrs'><dt><span>valid_min :</span></dt><dd>0</dd><dt><span>valid_max :</span></dt><dd>8388607</dd><dt><span>long_name :</span></dt><dd>wind vector cell quality</dd><dt><span>flag_masks :</span></dt><dd>[     64     128     256     512    1024    2048    4096    8192   16384\n",
       "   32768   65536  131072  262144  524288 1048576 2097152 4194304]</dd><dt><span>flag_meanings :</span></dt><dd>distance_to_gmf_too_large data_are_redundant no_meteorological_background_used rain_detected rain_flag_not_usable small_wind_less_than_or_equal_to_3_m_s large_wind_greater_than_30_m_s wind_inversion_not_successful some_portion_of_wvc_is_over_ice some_portion_of_wvc_is_over_land variational_quality_control_fails knmi_quality_control_fails product_monitoring_event_flag product_monitoring_not_used any_beam_noise_content_above_threshold poor_azimuth_diversity not_enough_good_sigma0_for_wind_retrieval</dd></dl></div><div class='xr-var-data'><pre>array([   0.,    0.,    0., ..., 2048.,    0.,    0.])</pre></div></li><li class='xr-var-item'><div class='xr-var-name'><span>model_speed</span></div><div class='xr-var-dims'>(count)</div><div class='xr-var-dtype'>float64</div><div class='xr-var-preview xr-preview'>6.03 6.75 5.5 ... 3.09 6.11 9.33</div><input id='attrs-e9b84776-d46a-4caa-80ee-b59949c4482c' class='xr-var-attrs-in' type='checkbox' ><label for='attrs-e9b84776-d46a-4caa-80ee-b59949c4482c' title='Show/Hide attributes'><svg class='icon xr-icon-file-text2'><use xlink:href='#icon-file-text2'></use></svg></label><input id='data-f89e4362-7b4d-40ac-b133-546f8573e05f' class='xr-var-data-in' type='checkbox'><label for='data-f89e4362-7b4d-40ac-b133-546f8573e05f' title='Show/Hide data repr'><svg class='icon xr-icon-database'><use xlink:href='#icon-database'></use></svg></label><div class='xr-var-attrs'><dl class='xr-attrs'><dt><span>valid_min :</span></dt><dd>0</dd><dt><span>valid_max :</span></dt><dd>5000</dd><dt><span>long_name :</span></dt><dd>model wind speed at 10 m</dd><dt><span>units :</span></dt><dd>m s-1</dd></dl></div><div class='xr-var-data'><pre>array([6.03000021, 6.75      , 5.5       , ..., 3.08999991, 6.11000013,\n",
       "       9.32999992])</pre></div></li><li class='xr-var-item'><div class='xr-var-name'><span>model_dir</span></div><div class='xr-var-dims'>(count)</div><div class='xr-var-dtype'>float64</div><div class='xr-var-preview xr-preview'>316.2 297.5 321.0 ... 253.2 250.7</div><input id='attrs-c7a4b859-c392-49ef-a04b-df936f6d70b9' class='xr-var-attrs-in' type='checkbox' ><label for='attrs-c7a4b859-c392-49ef-a04b-df936f6d70b9' title='Show/Hide attributes'><svg class='icon xr-icon-file-text2'><use xlink:href='#icon-file-text2'></use></svg></label><input id='data-33582339-a41e-439f-b599-f5250d0b086e' class='xr-var-data-in' type='checkbox'><label for='data-33582339-a41e-439f-b599-f5250d0b086e' title='Show/Hide data repr'><svg class='icon xr-icon-database'><use xlink:href='#icon-database'></use></svg></label><div class='xr-var-attrs'><dl class='xr-attrs'><dt><span>valid_min :</span></dt><dd>0</dd><dt><span>valid_max :</span></dt><dd>3600</dd><dt><span>long_name :</span></dt><dd>model wind direction at 10 m</dd><dt><span>units :</span></dt><dd>degree</dd></dl></div><div class='xr-var-data'><pre>array([316.20001221, 297.5       , 321.        , ..., 305.20001221,\n",
       "       253.19999695, 250.69999695])</pre></div></li><li class='xr-var-item'><div class='xr-var-name'><span>bs_distance</span></div><div class='xr-var-dims'>(count)</div><div class='xr-var-dtype'>float64</div><div class='xr-var-preview xr-preview'>0.2 0.0 0.5 0.0 ... 0.1 0.1 -1.2</div><input id='attrs-f4ebc537-b1e0-42fc-a27c-87b37f509818' class='xr-var-attrs-in' type='checkbox' ><label for='attrs-f4ebc537-b1e0-42fc-a27c-87b37f509818' title='Show/Hide attributes'><svg class='icon xr-icon-file-text2'><use xlink:href='#icon-file-text2'></use></svg></label><input id='data-0b461781-6fba-4c02-9cfb-e309e9f32c12' class='xr-var-data-in' type='checkbox'><label for='data-0b461781-6fba-4c02-9cfb-e309e9f32c12' title='Show/Hide data repr'><svg class='icon xr-icon-database'><use xlink:href='#icon-database'></use></svg></label><div class='xr-var-attrs'><dl class='xr-attrs'><dt><span>valid_min :</span></dt><dd>-500</dd><dt><span>valid_max :</span></dt><dd>500</dd><dt><span>long_name :</span></dt><dd>backscatter distance</dd><dt><span>units :</span></dt><dd>1</dd></dl></div><div class='xr-var-data'><pre>array([ 0.2       ,  0.        ,  0.5       , ...,  0.1       ,\n",
       "        0.1       , -1.20000005])</pre></div></li><li class='xr-var-item'><div class='xr-var-name'><span>dist_from_TAO_pos</span></div><div class='xr-var-dims'>(count)</div><div class='xr-var-dtype'>float64</div><div class='xr-var-preview xr-preview'>10.74 11.18 11.44 ... 12.62 12.56</div><input id='attrs-d3eac01b-9e40-4b9c-a68f-588c9d786086' class='xr-var-attrs-in' type='checkbox' ><label for='attrs-d3eac01b-9e40-4b9c-a68f-588c9d786086' title='Show/Hide attributes'><svg class='icon xr-icon-file-text2'><use xlink:href='#icon-file-text2'></use></svg></label><input id='data-02dab256-0cb6-44d5-a26a-a3fc3f6b8cac' class='xr-var-data-in' type='checkbox'><label for='data-02dab256-0cb6-44d5-a26a-a3fc3f6b8cac' title='Show/Hide data repr'><svg class='icon xr-icon-database'><use xlink:href='#icon-database'></use></svg></label><div class='xr-var-attrs'><dl class='xr-attrs'><dt><span>units :</span></dt><dd>kilometers</dd><dt><span>long_name :</span></dt><dd>great circle distance from TAO position</dd></dl></div><div class='xr-var-data'><pre>array([10.74267101, 11.17858791, 11.44282055, ..., 10.53099823,\n",
       "       12.62330151, 12.55554199])</pre></div></li><li class='xr-var-item'><div class='xr-var-name'><span>AS_TIME</span></div><div class='xr-var-dims'>(count)</div><div class='xr-var-dtype'>datetime64[ns]</div><div class='xr-var-preview xr-preview'>2014-03-28T03:27:07 ... 2020-11-...</div><input id='attrs-25a2748b-ae91-4427-bf3e-e15ba8f858e6' class='xr-var-attrs-in' type='checkbox' disabled><label for='attrs-25a2748b-ae91-4427-bf3e-e15ba8f858e6' title='Show/Hide attributes'><svg class='icon xr-icon-file-text2'><use xlink:href='#icon-file-text2'></use></svg></label><input id='data-345c7fbf-21dc-4ace-8f8f-c414c5662b15' class='xr-var-data-in' type='checkbox'><label for='data-345c7fbf-21dc-4ace-8f8f-c414c5662b15' title='Show/Hide data repr'><svg class='icon xr-icon-database'><use xlink:href='#icon-database'></use></svg></label><div class='xr-var-attrs'><dl class='xr-attrs'></dl></div><div class='xr-var-data'><pre>array([&#x27;2014-03-28T03:27:07.000000000&#x27;, &#x27;2014-03-28T16:10:56.000000000&#x27;,\n",
       "       &#x27;2014-03-30T04:25:37.000000000&#x27;, ...,\n",
       "       &#x27;2020-11-10T18:38:56.000000000&#x27;, &#x27;2020-11-13T19:16:16.000000000&#x27;,\n",
       "       &#x27;2020-11-14T06:20:48.000000000&#x27;], dtype=&#x27;datetime64[ns]&#x27;)</pre></div></li></ul></div></li><li class='xr-section-item'><input id='section-5d355177-c9ce-4d58-95dc-03045aed4ddc' class='xr-section-summary-in' type='checkbox'  ><label for='section-5d355177-c9ce-4d58-95dc-03045aed4ddc' class='xr-section-summary' >Indexes: <span>(1)</span></label><div class='xr-section-inline-details'></div><div class='xr-section-details'><ul class='xr-var-list'><li class='xr-var-item'><div class='xr-index-name'><div>count</div></div><div class='xr-index-preview'>PandasIndex</div><div></div><input id='index-d3bd27fc-a2ac-4ee2-ba30-3be9ba753b6d' class='xr-index-data-in' type='checkbox'/><label for='index-d3bd27fc-a2ac-4ee2-ba30-3be9ba753b6d' title='Show/Hide index repr'><svg class='icon xr-icon-database'><use xlink:href='#icon-database'></use></svg></label><div class='xr-index-data'><pre>PandasIndex(Index([    0,     1,     2,     3,     4,     5,     6,     7,     8,     9,\n",
       "       ...\n",
       "       31015, 31016, 31017, 31018, 31019, 31020, 31021, 31022, 31023, 31024],\n",
       "      dtype=&#x27;int64&#x27;, name=&#x27;count&#x27;, length=31025))</pre></div></li></ul></div></li><li class='xr-section-item'><input id='section-f0f01ec8-85ed-437b-b39e-ac57ea1a6019' class='xr-section-summary-in' type='checkbox' disabled ><label for='section-f0f01ec8-85ed-437b-b39e-ac57ea1a6019' class='xr-section-summary'  title='Expand/collapse section'>Attributes: <span>(0)</span></label><div class='xr-section-inline-details'></div><div class='xr-section-details'><dl class='xr-attrs'></dl></div></li></ul></div></div>"
      ],
      "text/plain": [
       "<xarray.Dataset>\n",
       "Dimensions:            (count: 31025)\n",
       "Coordinates:\n",
       "  * count              (count) int64 0 1 2 3 4 ... 31020 31021 31022 31023 31024\n",
       "Data variables: (12/47)\n",
       "    WDIR               (count) float32 120.0 130.0 110.0 ... 131.0 226.0 199.0\n",
       "    WDIR_QC            (count) float32 2.0 2.0 2.0 2.0 2.0 ... 1.0 1.0 1.0 1.0\n",
       "    WDIR_DM            (count) |S1 b'D' b'D' b'D' b'D' ... b'D' b'D' b'D' b'D'\n",
       "    WSPD               (count) float32 6.65 6.93 5.07 6.84 ... 2.68 7.46 8.54\n",
       "    WSPD_QC            (count) float32 2.0 2.0 2.0 2.0 2.0 ... 1.0 1.0 1.0 1.0\n",
       "    WSPD_DM            (count) |S1 b'D' b'D' b'D' b'D' ... b'D' b'D' b'D' b'D'\n",
       "    ...                 ...\n",
       "    wvc_quality_flag   (count) float64 0.0 0.0 0.0 0.0 ... 0.0 2.048e+03 0.0 0.0\n",
       "    model_speed        (count) float64 6.03 6.75 5.5 6.69 ... 3.09 6.11 9.33\n",
       "    model_dir          (count) float64 316.2 297.5 321.0 ... 305.2 253.2 250.7\n",
       "    bs_distance        (count) float64 0.2 0.0 0.5 0.0 -0.3 ... 0.0 0.1 0.1 -1.2\n",
       "    dist_from_TAO_pos  (count) float64 10.74 11.18 11.44 ... 10.53 12.62 12.56\n",
       "    AS_TIME            (count) datetime64[ns] 2014-03-28T03:27:07 ... 2020-11..."
      ]
     },
     "execution_count": 27,
     "metadata": {},
     "output_type": "execute_result"
    }
   ],
   "source": [
    "allDS"
   ]
  },
  {
   "cell_type": "code",
   "execution_count": 28,
   "id": "7e342613-535e-49b5-a9c2-c89119ae7424",
   "metadata": {},
   "outputs": [
    {
     "data": {
      "text/plain": [
       "{'distance_to_gmf_too_large                ': '00000000000000001000000',\n",
       " 'data_are_redundant                       ': '00000000000000010000000',\n",
       " 'no_meteorological_background_used        ': '00000000000000100000000',\n",
       " 'rain_detected                            ': '00000000000001000000000',\n",
       " 'rain_flag_not_usable                     ': '00000000000010000000000',\n",
       " 'small_wind_less_than_or_equal_to_3_m_s   ': '00000000000100000000000',\n",
       " 'large_wind_greater_than_30_m_s           ': '00000000001000000000000',\n",
       " 'wind_inversion_not_successful            ': '00000000010000000000000',\n",
       " 'some_portion_of_wvc_is_over_ice          ': '00000000100000000000000',\n",
       " 'some_portion_of_wvc_is_over_land         ': '00000001000000000000000',\n",
       " 'variational_quality_control_fails        ': '00000010000000000000000',\n",
       " 'knmi_quality_control_fails               ': '00000100000000000000000',\n",
       " 'product_monitoring_event_flag            ': '00001000000000000000000',\n",
       " 'product_monitoring_not_used              ': '00010000000000000000000',\n",
       " 'any_beam_noise_content_above_threshold   ': '00100000000000000000000',\n",
       " 'poor_azimuth_diversity                   ': '01000000000000000000000',\n",
       " 'not_enough_good_sigma0_for_wind_retrieval': '10000000000000000000000'}"
      ]
     },
     "execution_count": 28,
     "metadata": {},
     "output_type": "execute_result"
    }
   ],
   "source": [
    "flag_dict = {\n",
    "    f'{meaning:41s}': bin(mask)[2:].zfill(23)\n",
    "    for meaning, mask in zip(ds.wvc_quality_flag.flag_meanings.split(), ds.wvc_quality_flag.flag_masks)\n",
    "}\n",
    "flag_dict"
   ]
  },
  {
   "cell_type": "code",
   "execution_count": 68,
   "id": "60464f25-0cc6-4c8d-82c3-e242466f322d",
   "metadata": {},
   "outputs": [],
   "source": [
    "flags = np.array(allDS['wvc_quality_flag'].to_numpy(), dtype=int)\n",
    "eflags = np.array(['{:023b}'.format(val) for val in flags])\n",
    "\n",
    "rain_detected = np.array([val[3] == '1' for val in eflags])\n",
    "beam_noise_content_above_threshold = np.array([val[14] == '1' for val in eflags])\n",
    "not_enough_good_sigma0_for_wind_retrieval = np.array([val[16] == '1' for val in eflags])\n",
    "\n",
    "rainMask = np.logical_or(rain_detected, beam_noise_content_above_threshold)\n",
    "rainMask = np.logical_or(rainMask, not_enough_good_sigma0_for_wind_retrieval)\n"
   ]
  },
  {
   "cell_type": "code",
   "execution_count": 69,
   "id": "78d54c5a-a10b-4d79-ab60-a3f668dea5ef",
   "metadata": {},
   "outputs": [],
   "source": [
    "noRainMask = ~rainMask\n",
    "mask1 = allDS['WSPD_QC'].isin([1,2]).to_numpy()\n",
    "mask2 = allDS['WDIR_QC'].isin([1,2]).to_numpy()\n",
    "mask3 = allDS['SST_QC'].isin([1,2]).to_numpy()\n",
    "mask4 = allDS['RELH_QC'].isin([1,2]).to_numpy()\n",
    "mask5 = allDS['AIRT_QC'].isin([1,2]).to_numpy()"
   ]
  },
  {
   "cell_type": "code",
   "execution_count": 70,
   "id": "7a88d5d3-c48e-4346-9a07-eb4932e6b9c2",
   "metadata": {},
   "outputs": [],
   "source": [
    "selectMask = np.logical_and(noRainMask, mask1)\n",
    "selectMask = np.logical_and(selectMask, mask2)\n",
    "selectMask = np.logical_and(selectMask, mask3)\n",
    "selectMask = np.logical_and(selectMask, mask4)\n",
    "selectMask = np.logical_and(selectMask, mask5)"
   ]
  },
  {
   "cell_type": "code",
   "execution_count": 71,
   "id": "1032e618-8b59-45a2-9ee1-1783290c1337",
   "metadata": {},
   "outputs": [],
   "source": [
    "for var in ['WSPD', 'WDIR', 'RELH', 'SST', 'AIRT', 'WSPD_10N', 'wind_speed', 'wind_dir']:\n",
    "    selectMask = np.logical_and(selectMask, ~np.isnan(allDS[var].to_numpy()))"
   ]
  },
  {
   "cell_type": "code",
   "execution_count": 72,
   "id": "f1f3efb0-7b02-4299-907b-6db50bf98157",
   "metadata": {},
   "outputs": [],
   "source": [
    "indices = selectMask.nonzero()[0]"
   ]
  },
  {
   "cell_type": "code",
   "execution_count": 73,
   "id": "4fd96e3e-5632-4bb2-873c-00f2d56c3b8d",
   "metadata": {},
   "outputs": [],
   "source": [
    "goodDataSet = allDS.sel(count=indices)"
   ]
  },
  {
   "cell_type": "code",
   "execution_count": 74,
   "id": "1735d6ac-b618-4cb8-85ab-38da48659269",
   "metadata": {},
   "outputs": [],
   "source": [
    "goodDataSet = goodDataSet.rename_vars({'WSPD':'Wind Speed (TAO)',\n",
    "                  'WDIR':'Wind Direction (TAO)',\n",
    "                  'UWND': 'Zonal Wind Speed (TAO)',\n",
    "                  'VWND': 'Meridional Wind Speed (TAO)',\n",
    "                  'SST': 'Sea Surface Temperature (TAO)',\n",
    "                  'RELH': 'Relative Humidity (TAO)',\n",
    "                  'AIRT': 'Air Temperature (TAO)',\n",
    "                  'WSPD_10N': 'Neutral Wind Speed at 10m (TAO)',\n",
    "                  'WSPD_10': 'Wind Speed at 10m (TAO)',\n",
    "                  'wind_speed': 'Wind Speed (ASCAT)',\n",
    "                  'wind_dir': 'Wind Direction (ASCAT)'})"
   ]
  },
  {
   "cell_type": "code",
   "execution_count": 75,
   "id": "733ff62e-abab-4198-acb2-92d3cc621c6b",
   "metadata": {},
   "outputs": [],
   "source": [
    "goodDataSet.to_netcdf('goodData_ASwithTAO.nc')"
   ]
  },
  {
   "cell_type": "code",
   "execution_count": 76,
   "id": "9c5e4ee3-859e-4cd1-a47c-eceac8b924e0",
   "metadata": {},
   "outputs": [
    {
     "name": "stdout",
     "output_type": "stream",
     "text": [
      "30837\n"
     ]
    }
   ],
   "source": [
    "print(len(goodDataSet['count']))"
   ]
  },
  {
   "cell_type": "code",
   "execution_count": 77,
   "id": "5b78a68c-48e6-47b6-99c2-df499e43fd31",
   "metadata": {},
   "outputs": [],
   "source": [
    "df = goodDataSet.copy()"
   ]
  },
  {
   "cell_type": "code",
   "execution_count": 78,
   "id": "91e79112-1dfd-4e2b-bb12-1600b8220928",
   "metadata": {},
   "outputs": [],
   "source": [
    "df['Speed Difference (ASCAT - TAO)'] = df['Wind Speed (ASCAT)'] - df['Neutral Wind Speed at 10m (TAO)']\n",
    "\n",
    "## change true degrees to degrees where 0 deg mean east and 90 deg mean north \n",
    "##df['Wind Direction (TAO)'] = (-(df['Wind Direction (TAO)'] - 90.0) + 360)%360\n",
    "df['Wind Direction (ASCAT)'] = (-(df['Wind Direction (ASCAT)'] - 90.0) + 360)%360\n",
    "\n",
    "## calculate zonal and meridional winds \n",
    "df['Zonal Neutral Wind Speed (TAO)'] = df['Neutral Wind Speed at 10m (TAO)'] * np.cos(np.deg2rad(df['Wind Direction (TAO)']))\n",
    "df['Meridional Neutral Wind Speed (TAO)'] = df['Neutral Wind Speed at 10m (TAO)'] * np.sin(np.deg2rad(df['Wind Direction (TAO)']))\n",
    "\n",
    "df['Zonal Wind Speed (ASCAT)'] = df['Wind Speed (ASCAT)'] * np.cos(np.deg2rad(df['Wind Direction (ASCAT)']))\n",
    "df['Meridional Wind Speed (ASCAT)'] = df['Wind Speed (ASCAT)'] * np.sin(np.deg2rad(df['Wind Direction (ASCAT)']))\n",
    "\n",
    "## direction diff in range (-180,180)\n",
    "dirDiff = ((df['Wind Direction (ASCAT)'] - df['Wind Direction (TAO)'])+360)%360\n",
    "dirDiff = xr.where(dirDiff > 180, dirDiff-360, dirDiff)\n",
    "df['Direction Difference (ASCAT - TAO)'] = dirDiff\n",
    "df['cos(Direction Difference (ASCAT - TAO))'] = np.cos(np.deg2rad(dirDiff))\n",
    "df['sin(Direction Difference (ASCAT - TAO))'] = np.sin(np.deg2rad(dirDiff))\n",
    "\n",
    "df['Zonal Wind Speed Difference (ASCAT - TAO)'] = df['Zonal Wind Speed (ASCAT)'] - df['Zonal Neutral Wind Speed (TAO)']\n",
    "df['Meridional Wind Speed Difference (ASCAT - TAO)'] = df['Meridional Wind Speed (ASCAT)'] - df['Meridional Neutral Wind Speed (TAO)']\n"
   ]
  },
  {
   "cell_type": "code",
   "execution_count": 79,
   "id": "143a1155-dbac-492c-b82a-132bb5941781",
   "metadata": {},
   "outputs": [],
   "source": [
    "df.to_netcdf('rainFlagRemovedBuoyDataBadQualityRemovedMatchup.nc')"
   ]
  },
  {
   "cell_type": "code",
   "execution_count": null,
   "id": "dbdf9a7b-2038-4ec5-b9bc-a1fbd8ae976f",
   "metadata": {},
   "outputs": [],
   "source": []
  }
 ],
 "metadata": {
  "kernelspec": {
   "display_name": "Python 3 (ipykernel)",
   "language": "python",
   "name": "python3"
  },
  "language_info": {
   "codemirror_mode": {
    "name": "ipython",
    "version": 3
   },
   "file_extension": ".py",
   "mimetype": "text/x-python",
   "name": "python",
   "nbconvert_exporter": "python",
   "pygments_lexer": "ipython3",
   "version": "3.11.6"
  }
 },
 "nbformat": 4,
 "nbformat_minor": 5
}
