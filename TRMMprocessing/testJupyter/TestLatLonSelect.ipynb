{
 "cells": [
  {
   "cell_type": "code",
   "execution_count": 1,
   "id": "1c814c70-b042-4a86-90ba-ef213f208ca3",
   "metadata": {},
   "outputs": [],
   "source": [
    "from netCDF4 import Dataset, date2num, num2date\n",
    "import numpy as np\n",
    "import matplotlib.pyplot as plt\n",
    "import xarray as xr\n",
    "%matplotlib inline"
   ]
  },
  {
   "cell_type": "code",
   "execution_count": 36,
   "id": "a7b24e61-f438-49d4-8bf1-166cff1d421b",
   "metadata": {},
   "outputs": [],
   "source": [
    "import glob\n",
    "readDir = '/srv/data2/srai_poseidon/srai_poseidon/observation/SatelliteVsBuoy/downloads/TRMM_data/downloaded/'\n",
    "fileList = glob.glob(readDir + '*/dateFixed*.nc')"
   ]
  },
  {
   "cell_type": "code",
   "execution_count": 38,
   "id": "ffdb5596-fd7c-4635-aa33-74d79981643b",
   "metadata": {},
   "outputs": [
    {
     "data": {
      "text/plain": [
       "39670"
      ]
     },
     "execution_count": 38,
     "metadata": {},
     "output_type": "execute_result"
    }
   ],
   "source": [
    "len(fileList)"
   ]
  },
  {
   "cell_type": "code",
   "execution_count": 14,
   "id": "0be5dfd3-4b2d-4573-b646-60efcb875387",
   "metadata": {},
   "outputs": [
    {
     "data": {
      "text/html": [
       "<div><svg style=\"position: absolute; width: 0; height: 0; overflow: hidden\">\n",
       "<defs>\n",
       "<symbol id=\"icon-database\" viewBox=\"0 0 32 32\">\n",
       "<path d=\"M16 0c-8.837 0-16 2.239-16 5v4c0 2.761 7.163 5 16 5s16-2.239 16-5v-4c0-2.761-7.163-5-16-5z\"></path>\n",
       "<path d=\"M16 17c-8.837 0-16-2.239-16-5v6c0 2.761 7.163 5 16 5s16-2.239 16-5v-6c0 2.761-7.163 5-16 5z\"></path>\n",
       "<path d=\"M16 26c-8.837 0-16-2.239-16-5v6c0 2.761 7.163 5 16 5s16-2.239 16-5v-6c0 2.761-7.163 5-16 5z\"></path>\n",
       "</symbol>\n",
       "<symbol id=\"icon-file-text2\" viewBox=\"0 0 32 32\">\n",
       "<path d=\"M28.681 7.159c-0.694-0.947-1.662-2.053-2.724-3.116s-2.169-2.030-3.116-2.724c-1.612-1.182-2.393-1.319-2.841-1.319h-15.5c-1.378 0-2.5 1.121-2.5 2.5v27c0 1.378 1.122 2.5 2.5 2.5h23c1.378 0 2.5-1.122 2.5-2.5v-19.5c0-0.448-0.137-1.23-1.319-2.841zM24.543 5.457c0.959 0.959 1.712 1.825 2.268 2.543h-4.811v-4.811c0.718 0.556 1.584 1.309 2.543 2.268zM28 29.5c0 0.271-0.229 0.5-0.5 0.5h-23c-0.271 0-0.5-0.229-0.5-0.5v-27c0-0.271 0.229-0.5 0.5-0.5 0 0 15.499-0 15.5 0v7c0 0.552 0.448 1 1 1h7v19.5z\"></path>\n",
       "<path d=\"M23 26h-14c-0.552 0-1-0.448-1-1s0.448-1 1-1h14c0.552 0 1 0.448 1 1s-0.448 1-1 1z\"></path>\n",
       "<path d=\"M23 22h-14c-0.552 0-1-0.448-1-1s0.448-1 1-1h14c0.552 0 1 0.448 1 1s-0.448 1-1 1z\"></path>\n",
       "<path d=\"M23 18h-14c-0.552 0-1-0.448-1-1s0.448-1 1-1h14c0.552 0 1 0.448 1 1s-0.448 1-1 1z\"></path>\n",
       "</symbol>\n",
       "</defs>\n",
       "</svg>\n",
       "<style>/* CSS stylesheet for displaying xarray objects in jupyterlab.\n",
       " *\n",
       " */\n",
       "\n",
       ":root {\n",
       "  --xr-font-color0: var(--jp-content-font-color0, rgba(0, 0, 0, 1));\n",
       "  --xr-font-color2: var(--jp-content-font-color2, rgba(0, 0, 0, 0.54));\n",
       "  --xr-font-color3: var(--jp-content-font-color3, rgba(0, 0, 0, 0.38));\n",
       "  --xr-border-color: var(--jp-border-color2, #e0e0e0);\n",
       "  --xr-disabled-color: var(--jp-layout-color3, #bdbdbd);\n",
       "  --xr-background-color: var(--jp-layout-color0, white);\n",
       "  --xr-background-color-row-even: var(--jp-layout-color1, white);\n",
       "  --xr-background-color-row-odd: var(--jp-layout-color2, #eeeeee);\n",
       "}\n",
       "\n",
       "html[theme=dark],\n",
       "body[data-theme=dark],\n",
       "body.vscode-dark {\n",
       "  --xr-font-color0: rgba(255, 255, 255, 1);\n",
       "  --xr-font-color2: rgba(255, 255, 255, 0.54);\n",
       "  --xr-font-color3: rgba(255, 255, 255, 0.38);\n",
       "  --xr-border-color: #1F1F1F;\n",
       "  --xr-disabled-color: #515151;\n",
       "  --xr-background-color: #111111;\n",
       "  --xr-background-color-row-even: #111111;\n",
       "  --xr-background-color-row-odd: #313131;\n",
       "}\n",
       "\n",
       ".xr-wrap {\n",
       "  display: block !important;\n",
       "  min-width: 300px;\n",
       "  max-width: 700px;\n",
       "}\n",
       "\n",
       ".xr-text-repr-fallback {\n",
       "  /* fallback to plain text repr when CSS is not injected (untrusted notebook) */\n",
       "  display: none;\n",
       "}\n",
       "\n",
       ".xr-header {\n",
       "  padding-top: 6px;\n",
       "  padding-bottom: 6px;\n",
       "  margin-bottom: 4px;\n",
       "  border-bottom: solid 1px var(--xr-border-color);\n",
       "}\n",
       "\n",
       ".xr-header > div,\n",
       ".xr-header > ul {\n",
       "  display: inline;\n",
       "  margin-top: 0;\n",
       "  margin-bottom: 0;\n",
       "}\n",
       "\n",
       ".xr-obj-type,\n",
       ".xr-array-name {\n",
       "  margin-left: 2px;\n",
       "  margin-right: 10px;\n",
       "}\n",
       "\n",
       ".xr-obj-type {\n",
       "  color: var(--xr-font-color2);\n",
       "}\n",
       "\n",
       ".xr-sections {\n",
       "  padding-left: 0 !important;\n",
       "  display: grid;\n",
       "  grid-template-columns: 150px auto auto 1fr 20px 20px;\n",
       "}\n",
       "\n",
       ".xr-section-item {\n",
       "  display: contents;\n",
       "}\n",
       "\n",
       ".xr-section-item input {\n",
       "  display: none;\n",
       "}\n",
       "\n",
       ".xr-section-item input + label {\n",
       "  color: var(--xr-disabled-color);\n",
       "}\n",
       "\n",
       ".xr-section-item input:enabled + label {\n",
       "  cursor: pointer;\n",
       "  color: var(--xr-font-color2);\n",
       "}\n",
       "\n",
       ".xr-section-item input:enabled + label:hover {\n",
       "  color: var(--xr-font-color0);\n",
       "}\n",
       "\n",
       ".xr-section-summary {\n",
       "  grid-column: 1;\n",
       "  color: var(--xr-font-color2);\n",
       "  font-weight: 500;\n",
       "}\n",
       "\n",
       ".xr-section-summary > span {\n",
       "  display: inline-block;\n",
       "  padding-left: 0.5em;\n",
       "}\n",
       "\n",
       ".xr-section-summary-in:disabled + label {\n",
       "  color: var(--xr-font-color2);\n",
       "}\n",
       "\n",
       ".xr-section-summary-in + label:before {\n",
       "  display: inline-block;\n",
       "  content: '►';\n",
       "  font-size: 11px;\n",
       "  width: 15px;\n",
       "  text-align: center;\n",
       "}\n",
       "\n",
       ".xr-section-summary-in:disabled + label:before {\n",
       "  color: var(--xr-disabled-color);\n",
       "}\n",
       "\n",
       ".xr-section-summary-in:checked + label:before {\n",
       "  content: '▼';\n",
       "}\n",
       "\n",
       ".xr-section-summary-in:checked + label > span {\n",
       "  display: none;\n",
       "}\n",
       "\n",
       ".xr-section-summary,\n",
       ".xr-section-inline-details {\n",
       "  padding-top: 4px;\n",
       "  padding-bottom: 4px;\n",
       "}\n",
       "\n",
       ".xr-section-inline-details {\n",
       "  grid-column: 2 / -1;\n",
       "}\n",
       "\n",
       ".xr-section-details {\n",
       "  display: none;\n",
       "  grid-column: 1 / -1;\n",
       "  margin-bottom: 5px;\n",
       "}\n",
       "\n",
       ".xr-section-summary-in:checked ~ .xr-section-details {\n",
       "  display: contents;\n",
       "}\n",
       "\n",
       ".xr-array-wrap {\n",
       "  grid-column: 1 / -1;\n",
       "  display: grid;\n",
       "  grid-template-columns: 20px auto;\n",
       "}\n",
       "\n",
       ".xr-array-wrap > label {\n",
       "  grid-column: 1;\n",
       "  vertical-align: top;\n",
       "}\n",
       "\n",
       ".xr-preview {\n",
       "  color: var(--xr-font-color3);\n",
       "}\n",
       "\n",
       ".xr-array-preview,\n",
       ".xr-array-data {\n",
       "  padding: 0 5px !important;\n",
       "  grid-column: 2;\n",
       "}\n",
       "\n",
       ".xr-array-data,\n",
       ".xr-array-in:checked ~ .xr-array-preview {\n",
       "  display: none;\n",
       "}\n",
       "\n",
       ".xr-array-in:checked ~ .xr-array-data,\n",
       ".xr-array-preview {\n",
       "  display: inline-block;\n",
       "}\n",
       "\n",
       ".xr-dim-list {\n",
       "  display: inline-block !important;\n",
       "  list-style: none;\n",
       "  padding: 0 !important;\n",
       "  margin: 0;\n",
       "}\n",
       "\n",
       ".xr-dim-list li {\n",
       "  display: inline-block;\n",
       "  padding: 0;\n",
       "  margin: 0;\n",
       "}\n",
       "\n",
       ".xr-dim-list:before {\n",
       "  content: '(';\n",
       "}\n",
       "\n",
       ".xr-dim-list:after {\n",
       "  content: ')';\n",
       "}\n",
       "\n",
       ".xr-dim-list li:not(:last-child):after {\n",
       "  content: ',';\n",
       "  padding-right: 5px;\n",
       "}\n",
       "\n",
       ".xr-has-index {\n",
       "  font-weight: bold;\n",
       "}\n",
       "\n",
       ".xr-var-list,\n",
       ".xr-var-item {\n",
       "  display: contents;\n",
       "}\n",
       "\n",
       ".xr-var-item > div,\n",
       ".xr-var-item label,\n",
       ".xr-var-item > .xr-var-name span {\n",
       "  background-color: var(--xr-background-color-row-even);\n",
       "  margin-bottom: 0;\n",
       "}\n",
       "\n",
       ".xr-var-item > .xr-var-name:hover span {\n",
       "  padding-right: 5px;\n",
       "}\n",
       "\n",
       ".xr-var-list > li:nth-child(odd) > div,\n",
       ".xr-var-list > li:nth-child(odd) > label,\n",
       ".xr-var-list > li:nth-child(odd) > .xr-var-name span {\n",
       "  background-color: var(--xr-background-color-row-odd);\n",
       "}\n",
       "\n",
       ".xr-var-name {\n",
       "  grid-column: 1;\n",
       "}\n",
       "\n",
       ".xr-var-dims {\n",
       "  grid-column: 2;\n",
       "}\n",
       "\n",
       ".xr-var-dtype {\n",
       "  grid-column: 3;\n",
       "  text-align: right;\n",
       "  color: var(--xr-font-color2);\n",
       "}\n",
       "\n",
       ".xr-var-preview {\n",
       "  grid-column: 4;\n",
       "}\n",
       "\n",
       ".xr-index-preview {\n",
       "  grid-column: 2 / 5;\n",
       "  color: var(--xr-font-color2);\n",
       "}\n",
       "\n",
       ".xr-var-name,\n",
       ".xr-var-dims,\n",
       ".xr-var-dtype,\n",
       ".xr-preview,\n",
       ".xr-attrs dt {\n",
       "  white-space: nowrap;\n",
       "  overflow: hidden;\n",
       "  text-overflow: ellipsis;\n",
       "  padding-right: 10px;\n",
       "}\n",
       "\n",
       ".xr-var-name:hover,\n",
       ".xr-var-dims:hover,\n",
       ".xr-var-dtype:hover,\n",
       ".xr-attrs dt:hover {\n",
       "  overflow: visible;\n",
       "  width: auto;\n",
       "  z-index: 1;\n",
       "}\n",
       "\n",
       ".xr-var-attrs,\n",
       ".xr-var-data,\n",
       ".xr-index-data {\n",
       "  display: none;\n",
       "  background-color: var(--xr-background-color) !important;\n",
       "  padding-bottom: 5px !important;\n",
       "}\n",
       "\n",
       ".xr-var-attrs-in:checked ~ .xr-var-attrs,\n",
       ".xr-var-data-in:checked ~ .xr-var-data,\n",
       ".xr-index-data-in:checked ~ .xr-index-data {\n",
       "  display: block;\n",
       "}\n",
       "\n",
       ".xr-var-data > table {\n",
       "  float: right;\n",
       "}\n",
       "\n",
       ".xr-var-name span,\n",
       ".xr-var-data,\n",
       ".xr-index-name div,\n",
       ".xr-index-data,\n",
       ".xr-attrs {\n",
       "  padding-left: 25px !important;\n",
       "}\n",
       "\n",
       ".xr-attrs,\n",
       ".xr-var-attrs,\n",
       ".xr-var-data,\n",
       ".xr-index-data {\n",
       "  grid-column: 1 / -1;\n",
       "}\n",
       "\n",
       "dl.xr-attrs {\n",
       "  padding: 0;\n",
       "  margin: 0;\n",
       "  display: grid;\n",
       "  grid-template-columns: 125px auto;\n",
       "}\n",
       "\n",
       ".xr-attrs dt,\n",
       ".xr-attrs dd {\n",
       "  padding: 0;\n",
       "  margin: 0;\n",
       "  float: left;\n",
       "  padding-right: 10px;\n",
       "  width: auto;\n",
       "}\n",
       "\n",
       ".xr-attrs dt {\n",
       "  font-weight: normal;\n",
       "  grid-column: 1;\n",
       "}\n",
       "\n",
       ".xr-attrs dt:hover span {\n",
       "  display: inline-block;\n",
       "  background: var(--xr-background-color);\n",
       "  padding-right: 10px;\n",
       "}\n",
       "\n",
       ".xr-attrs dd {\n",
       "  grid-column: 2;\n",
       "  white-space: pre-wrap;\n",
       "  word-break: break-all;\n",
       "}\n",
       "\n",
       ".xr-icon-database,\n",
       ".xr-icon-file-text2,\n",
       ".xr-no-icon {\n",
       "  display: inline-block;\n",
       "  vertical-align: middle;\n",
       "  width: 1em;\n",
       "  height: 1.5em !important;\n",
       "  stroke-width: 0;\n",
       "  stroke: currentColor;\n",
       "  fill: currentColor;\n",
       "}\n",
       "</style><pre class='xr-text-repr-fallback'>&lt;xarray.Dataset&gt;\n",
       "Dimensions:       (time: 9140, nray: 49, fakeDim8: 2, ncell1: 80)\n",
       "Coordinates:\n",
       "  * time          (time) datetime64[ns] 2000-02-09T09:13:13.000443 ... 2000-0...\n",
       "Dimensions without coordinates: nray, fakeDim8, ncell1\n",
       "Data variables:\n",
       "    nearSurfRain  (time, nray) float32 ...\n",
       "    e_SurfRain    (time, nray) float32 ...\n",
       "    rainAve       (time, nray, fakeDim8) float32 ...\n",
       "    rainFlag      (time, nray) int16 ...\n",
       "    rainType      (time, nray) int16 ...\n",
       "    rain          (time, nray, ncell1) int16 ...\n",
       "    Latitude      (time, nray) float32 -36.12 -36.08 -36.03 ... -34.2 -34.16\n",
       "    Longitude     (time, nray) float32 343.9 343.9 343.9 ... 320.6 320.6 320.6</pre><div class='xr-wrap' style='display:none'><div class='xr-header'><div class='xr-obj-type'>xarray.Dataset</div></div><ul class='xr-sections'><li class='xr-section-item'><input id='section-f4e126cb-4633-45be-9373-3044cff08b8c' class='xr-section-summary-in' type='checkbox' disabled ><label for='section-f4e126cb-4633-45be-9373-3044cff08b8c' class='xr-section-summary'  title='Expand/collapse section'>Dimensions:</label><div class='xr-section-inline-details'><ul class='xr-dim-list'><li><span class='xr-has-index'>time</span>: 9140</li><li><span>nray</span>: 49</li><li><span>fakeDim8</span>: 2</li><li><span>ncell1</span>: 80</li></ul></div><div class='xr-section-details'></div></li><li class='xr-section-item'><input id='section-3ad0e147-fa17-4237-a160-2a2bd2228354' class='xr-section-summary-in' type='checkbox'  checked><label for='section-3ad0e147-fa17-4237-a160-2a2bd2228354' class='xr-section-summary' >Coordinates: <span>(1)</span></label><div class='xr-section-inline-details'></div><div class='xr-section-details'><ul class='xr-var-list'><li class='xr-var-item'><div class='xr-var-name'><span class='xr-has-index'>time</span></div><div class='xr-var-dims'>(time)</div><div class='xr-var-dtype'>datetime64[ns]</div><div class='xr-var-preview xr-preview'>2000-02-09T09:13:13.000443 ... 2...</div><input id='attrs-4b68298f-a5c1-4a17-9cf2-07dac20f1c9c' class='xr-var-attrs-in' type='checkbox' disabled><label for='attrs-4b68298f-a5c1-4a17-9cf2-07dac20f1c9c' title='Show/Hide attributes'><svg class='icon xr-icon-file-text2'><use xlink:href='#icon-file-text2'></use></svg></label><input id='data-1cff22f8-8399-46a0-ab45-99d36bb15930' class='xr-var-data-in' type='checkbox'><label for='data-1cff22f8-8399-46a0-ab45-99d36bb15930' title='Show/Hide data repr'><svg class='icon xr-icon-database'><use xlink:href='#icon-database'></use></svg></label><div class='xr-var-attrs'><dl class='xr-attrs'></dl></div><div class='xr-var-data'><pre>array([&#x27;2000-02-09T09:13:13.000443000&#x27;, &#x27;2000-02-09T09:13:14.000042000&#x27;,\n",
       "       &#x27;2000-02-09T09:13:14.000642000&#x27;, ..., &#x27;2000-02-09T10:44:30.000531000&#x27;,\n",
       "       &#x27;2000-02-09T10:44:31.000130000&#x27;, &#x27;2000-02-09T10:44:31.000729000&#x27;],\n",
       "      dtype=&#x27;datetime64[ns]&#x27;)</pre></div></li></ul></div></li><li class='xr-section-item'><input id='section-213ad50c-8718-45a1-8513-d0fca6757698' class='xr-section-summary-in' type='checkbox'  checked><label for='section-213ad50c-8718-45a1-8513-d0fca6757698' class='xr-section-summary' >Data variables: <span>(8)</span></label><div class='xr-section-inline-details'></div><div class='xr-section-details'><ul class='xr-var-list'><li class='xr-var-item'><div class='xr-var-name'><span>nearSurfRain</span></div><div class='xr-var-dims'>(time, nray)</div><div class='xr-var-dtype'>float32</div><div class='xr-var-preview xr-preview'>...</div><input id='attrs-bdb19dac-876b-4556-b511-2b299e316e31' class='xr-var-attrs-in' type='checkbox' ><label for='attrs-bdb19dac-876b-4556-b511-2b299e316e31' title='Show/Hide attributes'><svg class='icon xr-icon-file-text2'><use xlink:href='#icon-file-text2'></use></svg></label><input id='data-b9f546e8-2a4a-4346-bace-79e0a7f7b079' class='xr-var-data-in' type='checkbox'><label for='data-b9f546e8-2a4a-4346-bace-79e0a7f7b079' title='Show/Hide data repr'><svg class='icon xr-icon-database'><use xlink:href='#icon-database'></use></svg></label><div class='xr-var-attrs'><dl class='xr-attrs'><dt><span>units :</span></dt><dd>mm/hr</dd></dl></div><div class='xr-var-data'><pre>[447860 values with dtype=float32]</pre></div></li><li class='xr-var-item'><div class='xr-var-name'><span>e_SurfRain</span></div><div class='xr-var-dims'>(time, nray)</div><div class='xr-var-dtype'>float32</div><div class='xr-var-preview xr-preview'>...</div><input id='attrs-5d1da9b5-c531-4372-a6c7-3ceba2bdbb2e' class='xr-var-attrs-in' type='checkbox' ><label for='attrs-5d1da9b5-c531-4372-a6c7-3ceba2bdbb2e' title='Show/Hide attributes'><svg class='icon xr-icon-file-text2'><use xlink:href='#icon-file-text2'></use></svg></label><input id='data-a21d651e-7976-4c98-b855-2c085ce48ba1' class='xr-var-data-in' type='checkbox'><label for='data-a21d651e-7976-4c98-b855-2c085ce48ba1' title='Show/Hide data repr'><svg class='icon xr-icon-database'><use xlink:href='#icon-database'></use></svg></label><div class='xr-var-attrs'><dl class='xr-attrs'><dt><span>units :</span></dt><dd>mm/hr</dd></dl></div><div class='xr-var-data'><pre>[447860 values with dtype=float32]</pre></div></li><li class='xr-var-item'><div class='xr-var-name'><span>rainAve</span></div><div class='xr-var-dims'>(time, nray, fakeDim8)</div><div class='xr-var-dtype'>float32</div><div class='xr-var-preview xr-preview'>...</div><input id='attrs-24e91d24-ca77-4bbb-b66d-214468f9e3b8' class='xr-var-attrs-in' type='checkbox' ><label for='attrs-24e91d24-ca77-4bbb-b66d-214468f9e3b8' title='Show/Hide attributes'><svg class='icon xr-icon-file-text2'><use xlink:href='#icon-file-text2'></use></svg></label><input id='data-f9de761a-369f-461f-a2ff-5c1d810de612' class='xr-var-data-in' type='checkbox'><label for='data-f9de761a-369f-461f-a2ff-5c1d810de612' title='Show/Hide data repr'><svg class='icon xr-icon-database'><use xlink:href='#icon-database'></use></svg></label><div class='xr-var-attrs'><dl class='xr-attrs'><dt><span>units :</span></dt><dd>mm/hr</dd></dl></div><div class='xr-var-data'><pre>[895720 values with dtype=float32]</pre></div></li><li class='xr-var-item'><div class='xr-var-name'><span>rainFlag</span></div><div class='xr-var-dims'>(time, nray)</div><div class='xr-var-dtype'>int16</div><div class='xr-var-preview xr-preview'>...</div><input id='attrs-e2449e13-c30c-4690-994c-8c7a97969ebb' class='xr-var-attrs-in' type='checkbox' disabled><label for='attrs-e2449e13-c30c-4690-994c-8c7a97969ebb' title='Show/Hide attributes'><svg class='icon xr-icon-file-text2'><use xlink:href='#icon-file-text2'></use></svg></label><input id='data-6bfdeb57-279a-4ea8-8e1b-5a6afe12f3a1' class='xr-var-data-in' type='checkbox'><label for='data-6bfdeb57-279a-4ea8-8e1b-5a6afe12f3a1' title='Show/Hide data repr'><svg class='icon xr-icon-database'><use xlink:href='#icon-database'></use></svg></label><div class='xr-var-attrs'><dl class='xr-attrs'></dl></div><div class='xr-var-data'><pre>[447860 values with dtype=int16]</pre></div></li><li class='xr-var-item'><div class='xr-var-name'><span>rainType</span></div><div class='xr-var-dims'>(time, nray)</div><div class='xr-var-dtype'>int16</div><div class='xr-var-preview xr-preview'>...</div><input id='attrs-7056c74e-8d7c-4424-97b6-60a80ef2b4c3' class='xr-var-attrs-in' type='checkbox' disabled><label for='attrs-7056c74e-8d7c-4424-97b6-60a80ef2b4c3' title='Show/Hide attributes'><svg class='icon xr-icon-file-text2'><use xlink:href='#icon-file-text2'></use></svg></label><input id='data-26e1c1e9-f734-42e0-a53f-cfc645f5f6eb' class='xr-var-data-in' type='checkbox'><label for='data-26e1c1e9-f734-42e0-a53f-cfc645f5f6eb' title='Show/Hide data repr'><svg class='icon xr-icon-database'><use xlink:href='#icon-database'></use></svg></label><div class='xr-var-attrs'><dl class='xr-attrs'></dl></div><div class='xr-var-data'><pre>[447860 values with dtype=int16]</pre></div></li><li class='xr-var-item'><div class='xr-var-name'><span>rain</span></div><div class='xr-var-dims'>(time, nray, ncell1)</div><div class='xr-var-dtype'>int16</div><div class='xr-var-preview xr-preview'>...</div><input id='attrs-fda6a35a-afc1-4e51-b0b0-d38688578fa8' class='xr-var-attrs-in' type='checkbox' ><label for='attrs-fda6a35a-afc1-4e51-b0b0-d38688578fa8' title='Show/Hide attributes'><svg class='icon xr-icon-file-text2'><use xlink:href='#icon-file-text2'></use></svg></label><input id='data-120478b1-4434-40e6-a20a-87a6b96417d0' class='xr-var-data-in' type='checkbox'><label for='data-120478b1-4434-40e6-a20a-87a6b96417d0' title='Show/Hide data repr'><svg class='icon xr-icon-database'><use xlink:href='#icon-database'></use></svg></label><div class='xr-var-attrs'><dl class='xr-attrs'><dt><span>units :</span></dt><dd>mm/hr</dd></dl></div><div class='xr-var-data'><pre>[35828800 values with dtype=int16]</pre></div></li><li class='xr-var-item'><div class='xr-var-name'><span>Latitude</span></div><div class='xr-var-dims'>(time, nray)</div><div class='xr-var-dtype'>float32</div><div class='xr-var-preview xr-preview'>-36.12 -36.08 ... -34.2 -34.16</div><input id='attrs-ea7198b2-1f84-4a56-ab8f-22a7a4f60594' class='xr-var-attrs-in' type='checkbox' ><label for='attrs-ea7198b2-1f84-4a56-ab8f-22a7a4f60594' title='Show/Hide attributes'><svg class='icon xr-icon-file-text2'><use xlink:href='#icon-file-text2'></use></svg></label><input id='data-f4f6faff-4eb8-432a-ba46-281d39d53817' class='xr-var-data-in' type='checkbox'><label for='data-f4f6faff-4eb8-432a-ba46-281d39d53817' title='Show/Hide data repr'><svg class='icon xr-icon-database'><use xlink:href='#icon-database'></use></svg></label><div class='xr-var-attrs'><dl class='xr-attrs'><dt><span>units :</span></dt><dd>degrees</dd></dl></div><div class='xr-var-data'><pre>array([[-36.120487, -36.077198, -36.03406 , ..., -34.243614, -34.200176,\n",
       "        -34.157043],\n",
       "       [-36.12049 , -36.0772  , -36.034065, ..., -34.2436  , -34.20016 ,\n",
       "        -34.15703 ],\n",
       "       [-36.120243, -36.076954, -36.03382 , ..., -34.243336, -34.199898,\n",
       "        -34.15676 ],\n",
       "       ...,\n",
       "       [-36.119946, -36.07668 , -36.03357 , ..., -34.24402 , -34.200603,\n",
       "        -34.15749 ],\n",
       "       [-36.119972, -36.076702, -36.033592, ..., -34.244026, -34.200607,\n",
       "        -34.157494],\n",
       "       [-36.119934, -36.076664, -36.033554, ..., -34.24397 , -34.20055 ,\n",
       "        -34.157436]], dtype=float32)</pre></div></li><li class='xr-var-item'><div class='xr-var-name'><span>Longitude</span></div><div class='xr-var-dims'>(time, nray)</div><div class='xr-var-dtype'>float32</div><div class='xr-var-preview xr-preview'>343.9 343.9 343.9 ... 320.6 320.6</div><input id='attrs-bd1c165a-f0ed-4758-9177-ee76db81cfeb' class='xr-var-attrs-in' type='checkbox' disabled><label for='attrs-bd1c165a-f0ed-4758-9177-ee76db81cfeb' title='Show/Hide attributes'><svg class='icon xr-icon-file-text2'><use xlink:href='#icon-file-text2'></use></svg></label><input id='data-f42c9ca3-8964-4cb1-bc45-6669da8a011c' class='xr-var-data-in' type='checkbox'><label for='data-f42c9ca3-8964-4cb1-bc45-6669da8a011c' title='Show/Hide data repr'><svg class='icon xr-icon-database'><use xlink:href='#icon-database'></use></svg></label><div class='xr-var-attrs'><dl class='xr-attrs'></dl></div><div class='xr-var-data'><pre>array([[343.9165 , 343.91858, 343.9206 , ..., 343.96323, 343.96317,\n",
       "        343.96307],\n",
       "       [343.9624 , 343.96445, 343.96646, ..., 344.00803, 344.00793,\n",
       "        344.00784],\n",
       "       [344.00842, 344.01044, 344.0124 , ..., 344.05292, 344.05283,\n",
       "        344.05267],\n",
       "       ...,\n",
       "       [320.45667, 320.4588 , 320.4609 , ..., 320.50662, 320.50665,\n",
       "        320.50665],\n",
       "       [320.5027 , 320.50482, 320.50687, ..., 320.55157, 320.55157,\n",
       "        320.5515 ],\n",
       "       [320.54877, 320.55087, 320.55292, ..., 320.59656, 320.59653,\n",
       "        320.59647]], dtype=float32)</pre></div></li></ul></div></li><li class='xr-section-item'><input id='section-1440dab6-086c-4a96-9709-45a38e25d04f' class='xr-section-summary-in' type='checkbox'  ><label for='section-1440dab6-086c-4a96-9709-45a38e25d04f' class='xr-section-summary' >Indexes: <span>(1)</span></label><div class='xr-section-inline-details'></div><div class='xr-section-details'><ul class='xr-var-list'><li class='xr-var-item'><div class='xr-index-name'><div>time</div></div><div class='xr-index-preview'>PandasIndex</div><div></div><input id='index-0e15e6e7-f717-4b7e-86bb-76597b99d6e0' class='xr-index-data-in' type='checkbox'/><label for='index-0e15e6e7-f717-4b7e-86bb-76597b99d6e0' title='Show/Hide index repr'><svg class='icon xr-icon-database'><use xlink:href='#icon-database'></use></svg></label><div class='xr-index-data'><pre>PandasIndex(DatetimeIndex([&#x27;2000-02-09 09:13:13.000443&#x27;, &#x27;2000-02-09 09:13:14.000042&#x27;,\n",
       "               &#x27;2000-02-09 09:13:14.000642&#x27;, &#x27;2000-02-09 09:13:15.000242&#x27;,\n",
       "               &#x27;2000-02-09 09:13:15.000841&#x27;, &#x27;2000-02-09 09:13:16.000441&#x27;,\n",
       "               &#x27;2000-02-09 09:13:17.000040&#x27;, &#x27;2000-02-09 09:13:17.000639&#x27;,\n",
       "               &#x27;2000-02-09 09:13:18.000239&#x27;, &#x27;2000-02-09 09:13:18.000838&#x27;,\n",
       "               ...\n",
       "               &#x27;2000-02-09 10:44:26.000335&#x27;, &#x27;2000-02-09 10:44:26.000934&#x27;,\n",
       "               &#x27;2000-02-09 10:44:27.000533&#x27;, &#x27;2000-02-09 10:44:28.000133&#x27;,\n",
       "               &#x27;2000-02-09 10:44:28.000732&#x27;, &#x27;2000-02-09 10:44:29.000332&#x27;,\n",
       "               &#x27;2000-02-09 10:44:29.000931&#x27;, &#x27;2000-02-09 10:44:30.000531&#x27;,\n",
       "               &#x27;2000-02-09 10:44:31.000130&#x27;, &#x27;2000-02-09 10:44:31.000729&#x27;],\n",
       "              dtype=&#x27;datetime64[ns]&#x27;, name=&#x27;time&#x27;, length=9140, freq=None))</pre></div></li></ul></div></li><li class='xr-section-item'><input id='section-a1d41f96-b76e-4c8b-aea1-3acdb90052cb' class='xr-section-summary-in' type='checkbox' disabled ><label for='section-a1d41f96-b76e-4c8b-aea1-3acdb90052cb' class='xr-section-summary'  title='Expand/collapse section'>Attributes: <span>(0)</span></label><div class='xr-section-inline-details'></div><div class='xr-section-details'><dl class='xr-attrs'></dl></div></li></ul></div></div>"
      ],
      "text/plain": [
       "<xarray.Dataset>\n",
       "Dimensions:       (time: 9140, nray: 49, fakeDim8: 2, ncell1: 80)\n",
       "Coordinates:\n",
       "  * time          (time) datetime64[ns] 2000-02-09T09:13:13.000443 ... 2000-0...\n",
       "Dimensions without coordinates: nray, fakeDim8, ncell1\n",
       "Data variables:\n",
       "    nearSurfRain  (time, nray) float32 ...\n",
       "    e_SurfRain    (time, nray) float32 ...\n",
       "    rainAve       (time, nray, fakeDim8) float32 ...\n",
       "    rainFlag      (time, nray) int16 ...\n",
       "    rainType      (time, nray) int16 ...\n",
       "    rain          (time, nray, ncell1) int16 ...\n",
       "    Latitude      (time, nray) float32 -36.12 -36.08 -36.03 ... -34.2 -34.16\n",
       "    Longitude     (time, nray) float32 343.9 343.9 343.9 ... 320.6 320.6 320.6"
      ]
     },
     "execution_count": 14,
     "metadata": {},
     "output_type": "execute_result"
    }
   ],
   "source": [
    "ds"
   ]
  },
  {
   "cell_type": "code",
   "execution_count": 13,
   "id": "7a11cdb9-8f99-4763-ac9b-8f7241a282fe",
   "metadata": {},
   "outputs": [],
   "source": [
    "ds= xr.open_dataset('/srv/data2/srai_poseidon/srai_poseidon/observation/SatelliteVsBuoy/downloads/TRMM_data/downloaded/TRMM_nc_2000/dateFixed_2A25.20000209.12671.7.nc')\n",
    "\n",
    "tol = 0.1\n",
    "count = 0\n",
    "rank = 0\n",
    "\n",
    "thisLat = 0\n",
    "thisLon = -140\n",
    "\n",
    "ds = ds.rename({'Time':'time'})\n",
    "\n",
    "ds['Longitude'] = (ds['Longitude'] + 360)%360\n",
    "\n",
    "if thisLat < 0:\n",
    "    latUnit = 'S'\n",
    "else:\n",
    "    latUnit = 'N'\n",
    "\n",
    "if thisLon < 0:\n",
    "    lonUnit = 'W'\n",
    "else:\n",
    "    lonUnit = 'E'\n",
    "\n",
    "wFile = f'T_{abs(thisLat):03.0f}{latUnit:s}_{abs(thisLon):03.0f}{lonUnit:s}_TRMM_fileNumber{count:06d}_rank{rank:02d}.nc'\n",
    "thisLon = (thisLon + 360)%360\n",
    "\n",
    "mask = np.logical_and((abs(ds['Latitude'] - thisLat) < tol), (abs(ds['Longitude'] - thisLon) < tol))\n",
    "if np.sum(mask) > 0:\n",
    "    sub_ds = ds.where(mask, drop=True)\n",
    "    tlen = len(sub_ds['time'])\n",
    "    wds = xr.Dataset()\n",
    "    \n",
    "    #### ALL THIS LENGTHY PROCESS JUST TO MAKE THE ARRAY SIZE IS SAME EXCEPT FOR THE APPENDING DIMENSION\n",
    "    for var in list(sub_ds.keys()):\n",
    "        if var not in ['rainAve', 'rain']:\n",
    "            newArr = np.zeros((tlen, 3)) * np.nan\n",
    "            for t in range(tlen):\n",
    "                for i in range(min(len(sub_ds[var][t,:]), 3)):\n",
    "                    newArr[t,i] = sub_ds[var][t,i]\n",
    "            wds[var] = xr.DataArray(newArr, \n",
    "                                    dims = ['time', 'nray'],\n",
    "                                    coords = {'time':sub_ds['time'],\n",
    "                                              'nray':np.arange(3)},\n",
    "                                    attrs = sub_ds[var].attrs)\n",
    "        elif var == 'rainAve':\n",
    "            newArr = np.zeros((tlen, 3, 2)) * np.nan\n",
    "            for t in range(tlen):\n",
    "                for i in range(min(len(sub_ds[var][t,:]), 3)):\n",
    "                    newArr[t,i] = sub_ds[var][t,i]\n",
    "            wds[var] = xr.DataArray(newArr, \n",
    "                                    dims = ['time', 'nray', 'fakeDim8'],\n",
    "                                    coords = {'time':sub_ds['time'],\n",
    "                                              'nray':np.arange(3),\n",
    "                                              'fakeDim8':np.arange(2)},\n",
    "                                    attrs = sub_ds[var].attrs)\n",
    "            \n",
    "        elif var == 'rain':\n",
    "            newArr = np.zeros((tlen, 3, 80)) * np.nan\n",
    "            for t in range(tlen):\n",
    "                for i in range(len(sub_ds[var][t,:])):\n",
    "                    newArr[t,i,:] = sub_ds[var][t,i,:]\n",
    "            wds[var] = xr.DataArray(newArr, \n",
    "                                    dims = ['time', 'nray', 'ncell1'],\n",
    "                                    coords = {'time':sub_ds['time'],\n",
    "                                              'nray':np.arange(3),\n",
    "                                              'ncell1':np.arange(2)},\n",
    "                                    attrs = sub_ds[var].attrs)"
   ]
  },
  {
   "cell_type": "code",
   "execution_count": 8,
   "id": "3f567337-e60b-47bd-9bce-37523a1b0041",
   "metadata": {},
   "outputs": [],
   "source": [
    "dates = num2date(np.array(ds.variables['Time']), ds.variables['Time'].units)\n"
   ]
  },
  {
   "cell_type": "code",
   "execution_count": 13,
   "id": "8fa85362-030c-4e74-b3bb-c5561d0f23f7",
   "metadata": {},
   "outputs": [
    {
     "data": {
      "text/plain": [
       "array([cftime.DatetimeGregorian(2000, 8, 11, 19, 1, 38, 177, has_year_zero=False),\n",
       "       cftime.DatetimeGregorian(2000, 8, 11, 19, 1, 38, 776, has_year_zero=False),\n",
       "       cftime.DatetimeGregorian(2000, 8, 11, 19, 1, 39, 376, has_year_zero=False),\n",
       "       ...,\n",
       "       cftime.DatetimeGregorian(2000, 8, 11, 20, 32, 54, 670, has_year_zero=False),\n",
       "       cftime.DatetimeGregorian(2000, 8, 11, 20, 32, 55, 270, has_year_zero=False),\n",
       "       cftime.DatetimeGregorian(2000, 8, 11, 20, 32, 55, 869, has_year_zero=False)],\n",
       "      dtype=object)"
      ]
     },
     "execution_count": 13,
     "metadata": {},
     "output_type": "execute_result"
    }
   ],
   "source": [
    "dates"
   ]
  },
  {
   "cell_type": "code",
   "execution_count": 16,
   "id": "cf53b068-92cc-42bd-819c-e6fc96d8e468",
   "metadata": {},
   "outputs": [
    {
     "data": {
      "text/plain": [
       "<matplotlib.colorbar.Colorbar at 0x7f04094b1750>"
      ]
     },
     "execution_count": 16,
     "metadata": {},
     "output_type": "execute_result"
    },
    {
     "data": {
      "image/png": "[encoded data removed]",
      "text/plain": [
       "<Figure size 640x480 with 2 Axes>"
      ]
     },
     "metadata": {},
     "output_type": "display_data"
    }
   ],
   "source": [
    "plt.pcolormesh(ds['Longitude'])\n",
    "plt.colorbar()"
   ]
  },
  {
   "cell_type": "code",
   "execution_count": 17,
   "id": "689ad6cb-4091-4919-9829-7f9c3a519da2",
   "metadata": {},
   "outputs": [
    {
     "data": {
      "text/plain": [
       "<matplotlib.colorbar.Colorbar at 0x7f04012f9ad0>"
      ]
     },
     "execution_count": 17,
     "metadata": {},
     "output_type": "execute_result"
    },
    {
     "data": {
      "image/png": "[encoded data removed]",
      "text/plain": [
       "<Figure size 640x480 with 2 Axes>"
      ]
     },
     "metadata": {},
     "output_type": "display_data"
    }
   ],
   "source": [
    "plt.pcolormesh(ds['Latitude'])\n",
    "plt.colorbar()"
   ]
  },
  {
   "cell_type": "code",
   "execution_count": 18,
   "id": "9f44217d-6d04-4dce-8800-62e38f683b37",
   "metadata": {},
   "outputs": [
    {
     "data": {
      "text/plain": [
       "[<matplotlib.lines.Line2D at 0x7f04012c70d0>,\n",
       " <matplotlib.lines.Line2D at 0x7f04011bd310>,\n",
       " <matplotlib.lines.Line2D at 0x7f040136ac50>,\n",
       " <matplotlib.lines.Line2D at 0x7f04011e6210>,\n",
       " <matplotlib.lines.Line2D at 0x7f04011e5f50>,\n",
       " <matplotlib.lines.Line2D at 0x7f04011e5bd0>,\n",
       " <matplotlib.lines.Line2D at 0x7f04011e60d0>,\n",
       " <matplotlib.lines.Line2D at 0x7f04011e6650>,\n",
       " <matplotlib.lines.Line2D at 0x7f04011e67d0>,\n",
       " <matplotlib.lines.Line2D at 0x7f04011cf510>,\n",
       " <matplotlib.lines.Line2D at 0x7f04011e6850>,\n",
       " <matplotlib.lines.Line2D at 0x7f0401288590>,\n",
       " <matplotlib.lines.Line2D at 0x7f040117fb10>,\n",
       " <matplotlib.lines.Line2D at 0x7f04011be850>,\n",
       " <matplotlib.lines.Line2D at 0x7f04011f40d0>,\n",
       " <matplotlib.lines.Line2D at 0x7f04012cc490>,\n",
       " <matplotlib.lines.Line2D at 0x7f04011cc810>,\n",
       " <matplotlib.lines.Line2D at 0x7f04012c4b90>,\n",
       " <matplotlib.lines.Line2D at 0x7f04011f4e10>,\n",
       " <matplotlib.lines.Line2D at 0x7f04011cd2d0>,\n",
       " <matplotlib.lines.Line2D at 0x7f04011f5550>,\n",
       " <matplotlib.lines.Line2D at 0x7f04011f5910>,\n",
       " <matplotlib.lines.Line2D at 0x7f04011f5c90>,\n",
       " <matplotlib.lines.Line2D at 0x7f04011f6050>,\n",
       " <matplotlib.lines.Line2D at 0x7f04011f6410>,\n",
       " <matplotlib.lines.Line2D at 0x7f04011f67d0>,\n",
       " <matplotlib.lines.Line2D at 0x7f04011f6b90>,\n",
       " <matplotlib.lines.Line2D at 0x7f04011f6f50>,\n",
       " <matplotlib.lines.Line2D at 0x7f04011f7310>,\n",
       " <matplotlib.lines.Line2D at 0x7f04011f76d0>,\n",
       " <matplotlib.lines.Line2D at 0x7f04012e9350>,\n",
       " <matplotlib.lines.Line2D at 0x7f04011f7dd0>,\n",
       " <matplotlib.lines.Line2D at 0x7f04011f81d0>,\n",
       " <matplotlib.lines.Line2D at 0x7f04011f8590>,\n",
       " <matplotlib.lines.Line2D at 0x7f04011f8950>,\n",
       " <matplotlib.lines.Line2D at 0x7f04011f8d10>,\n",
       " <matplotlib.lines.Line2D at 0x7f04011f90d0>,\n",
       " <matplotlib.lines.Line2D at 0x7f04011f9490>,\n",
       " <matplotlib.lines.Line2D at 0x7f04011f9590>,\n",
       " <matplotlib.lines.Line2D at 0x7f04011f9bd0>,\n",
       " <matplotlib.lines.Line2D at 0x7f040135c890>,\n",
       " <matplotlib.lines.Line2D at 0x7f04011fa310>,\n",
       " <matplotlib.lines.Line2D at 0x7f04011fa6d0>,\n",
       " <matplotlib.lines.Line2D at 0x7f04011dab90>,\n",
       " <matplotlib.lines.Line2D at 0x7f04011fae10>,\n",
       " <matplotlib.lines.Line2D at 0x7f0401305a90>,\n",
       " <matplotlib.lines.Line2D at 0x7f04011fb510>,\n",
       " <matplotlib.lines.Line2D at 0x7f04011fb8d0>,\n",
       " <matplotlib.lines.Line2D at 0x7f04011fbc90>]"
      ]
     },
     "execution_count": 18,
     "metadata": {},
     "output_type": "execute_result"
    },
    {
     "data": {
      "image/png": "[encoded data removed]",
      "text/plain": [
       "<Figure size 640x480 with 1 Axes>"
      ]
     },
     "metadata": {},
     "output_type": "display_data"
    }
   ],
   "source": [
    "plt.plot(ds['time'], ds['Longitude'])"
   ]
  },
  {
   "cell_type": "code",
   "execution_count": 22,
   "id": "dc58ea65-99a8-4f02-bfa1-ae95c467d6b3",
   "metadata": {},
   "outputs": [
    {
     "name": "stderr",
     "output_type": "stream",
     "text": [
      "/tmp/ipykernel_539122/3516081027.py:1: UserWarning: The input coordinates to pcolormesh are interpreted as cell centers, but are not monotonically increasing or decreasing. This may lead to incorrectly calculated cell edges, in which case, please supply explicit cell edges to pcolormesh.\n",
      "  plt.pcolormesh(ds['Longitude'], ds['Latitude'], ds['nearSurfRain'])\n"
     ]
    },
    {
     "data": {
      "text/plain": [
       "<matplotlib.collections.QuadMesh at 0x7f0401161b10>"
      ]
     },
     "execution_count": 22,
     "metadata": {},
     "output_type": "execute_result"
    },
    {
     "data": {
      "image/png": "[encoded data removed]",
      "text/plain": [
       "<Figure size 640x480 with 1 Axes>"
      ]
     },
     "metadata": {},
     "output_type": "display_data"
    }
   ],
   "source": [
    "plt.pcolormesh(ds['Longitude'], ds['Latitude'], ds['nearSurfRain'])"
   ]
  },
  {
   "cell_type": "code",
   "execution_count": 35,
   "id": "eb1e1abd-798d-4295-b8d8-7a169c6f9d50",
   "metadata": {},
   "outputs": [
    {
     "name": "stderr",
     "output_type": "stream",
     "text": [
      "/tmp/ipykernel_539122/2313949082.py:1: UserWarning: The input coordinates to pcolormesh are interpreted as cell centers, but are not monotonically increasing or decreasing. This may lead to incorrectly calculated cell edges, in which case, please supply explicit cell edges to pcolormesh.\n",
      "  plt.pcolormesh(ds['Longitude'], ds['Latitude'], mask)\n"
     ]
    },
    {
     "data": {
      "text/plain": [
       "<matplotlib.collections.QuadMesh at 0x7f0400bae910>"
      ]
     },
     "execution_count": 35,
     "metadata": {},
     "output_type": "execute_result"
    },
    {
     "data": {
      "image/png": "[encoded data removed]",
      "text/plain": [
       "<Figure size 640x480 with 1 Axes>"
      ]
     },
     "metadata": {},
     "output_type": "display_data"
    }
   ],
   "source": [
    "plt.pcolormesh(ds['Longitude'], ds['Latitude'], mask)\n",
    "#plt.colorbar()"
   ]
  },
  {
   "cell_type": "code",
   "execution_count": 33,
   "id": "1b6d1c2a-e230-416f-abc8-f11bef489d7e",
   "metadata": {},
   "outputs": [],
   "source": [
    "thisLat = 0\n",
    "thisLon = 50\n",
    "tol = 20\n",
    "mask = np.logical_and((abs(ds['Latitude'] - thisLat) < tol), (abs(ds['Longitude'] - thisLon) < tol))"
   ]
  },
  {
   "cell_type": "code",
   "execution_count": 34,
   "id": "2446097e-56ca-4411-a4f2-c5e0ed76dd73",
   "metadata": {},
   "outputs": [
    {
     "data": {
      "text/plain": [
       "48500"
      ]
     },
     "execution_count": 34,
     "metadata": {},
     "output_type": "execute_result"
    }
   ],
   "source": [
    "np.sum(mask.to_numpy())"
   ]
  },
  {
   "cell_type": "code",
   "execution_count": null,
   "id": "2909f08a-9d3d-4ecf-a3b8-33d2d1632787",
   "metadata": {},
   "outputs": [],
   "source": []
  }
 ],
 "metadata": {
  "kernelspec": {
   "display_name": "Python 3 (ipykernel)",
   "language": "python",
   "name": "python3"
  },
  "language_info": {
   "codemirror_mode": {
    "name": "ipython",
    "version": 3
   },
   "file_extension": ".py",
   "mimetype": "text/x-python",
   "name": "python",
   "nbconvert_exporter": "python",
   "pygments_lexer": "ipython3",
   "version": "3.11.6"
  }
 },
 "nbformat": 4,
 "nbformat_minor": 5
}
