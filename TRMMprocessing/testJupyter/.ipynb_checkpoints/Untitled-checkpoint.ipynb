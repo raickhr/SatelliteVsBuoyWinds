{
 "cells": [
  {
   "cell_type": "code",
   "execution_count": 1,
   "id": "40a420ca-39a1-41f7-83aa-60a445fc7d75",
   "metadata": {},
   "outputs": [],
   "source": [
    "import xarray as xr\n",
    "import matplotlib.pyplot as plt\n",
    "import numpy as np\n",
    "from netCDF4 import Dataset\n",
    "from datetime import datetime, timedelta\n",
    "import pandas as pd\n",
    "from pyhdf.SD import SD, SDC\n",
    "%matplotlib inline"
   ]
  },
  {
   "cell_type": "code",
   "execution_count": 2,
   "id": "87ef8e41-7695-4c7c-8e19-776ea21f5067",
   "metadata": {},
   "outputs": [],
   "source": [
    "dir = '/srv/seolab/srai/observation/SatelliteVsBuoy/downloads/TRMM_data/downloaded/TRMM_2000'\n",
    "file = '/2A25.20000111.12218.7.HDF'"
   ]
  },
  {
   "cell_type": "code",
   "execution_count": 3,
   "id": "c55b0fce-3227-4b4f-9a6d-5a97096c767a",
   "metadata": {},
   "outputs": [],
   "source": [
    "ds = SD(dir + file, SDC.READ)\n",
    "\n",
    "Year = np.array(ds.select('Year'))\n",
    "\n",
    "Month = np.array(ds.select('Month'))\n",
    "\n",
    "DayOfMonth = np.array(ds.select('DayOfMonth'))\n",
    "\n",
    "Hour = np.array(ds.select('Hour'))\n",
    "\n",
    "Minute = np.array(ds.select('Minute'))\n",
    "\n",
    "Second = np.array(ds.select('Second'))\n",
    "\n",
    "MilliSecond = np.array(ds.select('MilliSecond'))\n",
    "\n",
    "DayOfYear = np.array(ds.select('DayOfYear'))\n",
    "\n",
    "scanTime_sec = np.array(ds.select('scanTime_sec'))\n",
    "\n",
    "lat = np.array(ds.select('Latitude'))\n",
    "lon = np.array(ds.select('Longitude'))\n",
    "\n",
    "data = np.array(ds.select('nearSurfRain'))\n",
    "\n",
    "ds.end()"
   ]
  },
  {
   "cell_type": "code",
   "execution_count": 4,
   "id": "8a70c6e5-1519-4e16-a54d-b07946c7f2ac",
   "metadata": {},
   "outputs": [],
   "source": [
    "dateTimeArr = []\n",
    "for i in range(len(Year)):\n",
    "    dateTimeArr.append(datetime(Year[i],Month[i],DayOfMonth[i],Hour[i],Minute[i],Second[i],MilliSecond[i]))\n",
    "dateTimeArr = np.array(dateTimeArr)"
   ]
  },
  {
   "cell_type": "code",
   "execution_count": 5,
   "id": "91d4ecf9-3c66-424e-9b5d-c77a61f27361",
   "metadata": {},
   "outputs": [
    {
     "ename": "SyntaxError",
     "evalue": "':' expected after dictionary key (3269639889.py, line 24)",
     "output_type": "error",
     "traceback": [
      "\u001b[0;36m  Cell \u001b[0;32mIn[5], line 24\u001b[0;36m\u001b[0m\n\u001b[0;31m    coords={\u001b[0m\n\u001b[0m         ^\u001b[0m\n\u001b[0;31mSyntaxError\u001b[0m\u001b[0;31m:\u001b[0m ':' expected after dictionary key\n"
     ]
    }
   ],
   "source": [
    "xds = xr.Dataset(\n",
    "    {\n",
    "        \"nearSurfRain\": xr.DataArray(\n",
    "            data,\n",
    "            dims=[\"Time\", \"nray\"],\n",
    "            attrs={\n",
    "                \"units\": \"mm/hr\",\n",
    "            },\n",
    "        ),\n",
    "        \"Latitude\": xr.DataArray(\n",
    "            lat,\n",
    "            dims=[\"Time\", \"nray\"],\n",
    "            attrs={\n",
    "                \"units\": \"degrees\",\n",
    "            },\n",
    "        ),\n",
    "        \"Longitude\": xr.DataArray(\n",
    "            lon,\n",
    "            dims=[\"Time\", \"nray\"],\n",
    "            attrs={\n",
    "                \"units\": \"degrees\",\n",
    "            },\n",
    "        ),\n",
    "    },\n",
    "        coords={\n",
    "                \"Time\": dateTimeArr,\n",
    "            },\n",
    ")"
   ]
  },
  {
   "cell_type": "code",
   "execution_count": null,
   "id": "59cad3b0-4043-4201-bbf5-44993c782db1",
   "metadata": {},
   "outputs": [],
   "source": [
    "xds.to_netcdf('test.nc')"
   ]
  },
  {
   "cell_type": "code",
   "execution_count": null,
   "id": "965c154a-0d5b-4eca-ad96-c040e654ed51",
   "metadata": {},
   "outputs": [],
   "source": []
  }
 ],
 "metadata": {
  "kernelspec": {
   "display_name": "Python 3 (ipykernel)",
   "language": "python",
   "name": "python3"
  },
  "language_info": {
   "codemirror_mode": {
    "name": "ipython",
    "version": 3
   },
   "file_extension": ".py",
   "mimetype": "text/x-python",
   "name": "python",
   "nbconvert_exporter": "python",
   "pygments_lexer": "ipython3",
   "version": "3.11.5"
  }
 },
 "nbformat": 4,
 "nbformat_minor": 5
}
