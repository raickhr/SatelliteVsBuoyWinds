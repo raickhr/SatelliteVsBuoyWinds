{
 "cells": [
  {
   "cell_type": "code",
   "execution_count": 9,
   "id": "40a420ca-39a1-41f7-83aa-60a445fc7d75",
   "metadata": {},
   "outputs": [],
   "source": [
    "import xarray as xr\n",
    "import matplotlib.pyplot as plt\n",
    "import numpy as np\n",
    "from netCDF4 import Dataset\n",
    "from datetime import datetime, timedelta\n",
    "import pandas as pd\n",
    "from pyhdf.SD import SD, SDC\n",
    "import h5py\n",
    "%matplotlib inline"
   ]
  },
  {
   "cell_type": "code",
   "execution_count": 12,
   "id": "87ef8e41-7695-4c7c-8e19-776ea21f5067",
   "metadata": {},
   "outputs": [],
   "source": [
    "dirLoc = '/srv/data2/srai_poseidon/srai_poseidon/observation/SatelliteVsBuoy/downloads/TRMM_data/downloaded/TRMM_2000'\n",
    "file = '/2A25.20000111.12218.7.HDF'"
   ]
  },
  {
   "cell_type": "code",
   "execution_count": 5,
   "id": "8619f8ff-28e8-47c9-b1dc-415d416404b2",
   "metadata": {},
   "outputs": [],
   "source": [
    "ds = SD(dir + file, SDC.READ)"
   ]
  },
  {
   "cell_type": "code",
   "execution_count": 15,
   "id": "73eac1c3-d0f7-4ad7-a031-8576140cd02d",
   "metadata": {},
   "outputs": [
    {
     "data": {
      "text/plain": [
       "{'mainlobeEdge': (('nray',), (49,), 20, 0),\n",
       " 'sidelobeRange': (('nray', 'fakeDim1'), (49, 3), 20, 1),\n",
       " 'Year': (('nscan',), (9140,), 22, 2),\n",
       " 'Month': (('nscan',), (9140,), 20, 3),\n",
       " 'DayOfMonth': (('nscan',), (9140,), 20, 4),\n",
       " 'Hour': (('nscan',), (9140,), 20, 5),\n",
       " 'Minute': (('nscan',), (9140,), 20, 6),\n",
       " 'Second': (('nscan',), (9140,), 20, 7),\n",
       " 'MilliSecond': (('nscan',), (9140,), 22, 8),\n",
       " 'DayOfYear': (('nscan',), (9140,), 22, 9),\n",
       " 'scanTime_sec': (('nscan',), (9140,), 6, 10),\n",
       " 'Latitude': (('nscan', 'nray'), (9140, 49), 5, 11),\n",
       " 'Longitude': (('nscan', 'nray'), (9140, 49), 5, 12),\n",
       " 'missing': (('nscan',), (9140,), 20, 13),\n",
       " 'validity': (('nscan',), (9140,), 20, 14),\n",
       " 'qac': (('nscan',), (9140,), 20, 15),\n",
       " 'geoQuality': (('nscan',), (9140,), 20, 16),\n",
       " 'dataQuality': (('nscan',), (9140,), 20, 17),\n",
       " 'SCorientation': (('nscan',), (9140,), 22, 18),\n",
       " 'acsMode': (('nscan',), (9140,), 20, 19),\n",
       " 'yawUpdateS': (('nscan',), (9140,), 20, 20),\n",
       " 'prMode': (('nscan',), (9140,), 20, 21),\n",
       " 'prStatus1': (('nscan',), (9140,), 20, 22),\n",
       " 'prStatus2': (('nscan',), (9140,), 20, 23),\n",
       " 'FractionalGranuleNumber': (('nscan',), (9140,), 6, 24),\n",
       " 'scPosX': (('nscan',), (9140,), 5, 25),\n",
       " 'scPosY': (('nscan',), (9140,), 5, 26),\n",
       " 'scPosZ': (('nscan',), (9140,), 5, 27),\n",
       " 'scVelX': (('nscan',), (9140,), 5, 28),\n",
       " 'scVelY': (('nscan',), (9140,), 5, 29),\n",
       " 'scVelZ': (('nscan',), (9140,), 5, 30),\n",
       " 'scLat': (('nscan',), (9140,), 5, 31),\n",
       " 'scLon': (('nscan',), (9140,), 5, 32),\n",
       " 'scAlt': (('nscan',), (9140,), 5, 33),\n",
       " 'scAttRoll': (('nscan',), (9140,), 5, 34),\n",
       " 'scAttPitch': (('nscan',), (9140,), 5, 35),\n",
       " 'scAttYaw': (('nscan',), (9140,), 5, 36),\n",
       " 'SensorOrientationMatrix': (('nscan', 'fakeDim3', 'fakeDim4'),\n",
       "  (9140, 3, 3),\n",
       "  5,\n",
       "  37),\n",
       " 'greenHourAng': (('nscan',), (9140,), 5, 38),\n",
       " 'scLocalZenith': (('nscan', 'nray'), (9140, 49), 5, 39),\n",
       " 'rain': (('nscan', 'nray', 'ncell1'), (9140, 49, 80), 22, 40),\n",
       " 'reliab': (('nscan', 'nray', 'ncell1'), (9140, 49, 80), 20, 41),\n",
       " 'correctZFactor': (('nscan', 'nray', 'ncell1'), (9140, 49, 80), 22, 42),\n",
       " 'attenParmAlpha': (('nscan', 'nray', 'ncell2'), (9140, 49, 5), 5, 43),\n",
       " 'attenParmBeta': (('nscan', 'nray'), (9140, 49), 5, 44),\n",
       " 'parmNode': (('nscan', 'nray', 'ncell2'), (9140, 49, 5), 22, 45),\n",
       " 'precipWaterParmA': (('nscan', 'nray', 'ncell2'), (9140, 49, 5), 5, 46),\n",
       " 'precipWaterParmB': (('nscan', 'nray', 'ncell2'), (9140, 49, 5), 5, 47),\n",
       " 'ZRParmA': (('nscan', 'nray', 'ncell2'), (9140, 49, 5), 5, 48),\n",
       " 'ZRParmB': (('nscan', 'nray', 'ncell2'), (9140, 49, 5), 5, 49),\n",
       " 'zmmax': (('nscan', 'nray'), (9140, 49), 5, 50),\n",
       " 'rainFlag': (('nscan', 'nray'), (9140, 49), 22, 51),\n",
       " 'rangeBinNum': (('nscan', 'nray', 'fakeDim7'), (9140, 49, 7), 22, 52),\n",
       " 'rainAve': (('nscan', 'nray', 'fakeDim8'), (9140, 49, 2), 5, 53),\n",
       " 'precipWaterSum': (('nscan', 'nray', 'fakeDim9'), (9140, 49, 2), 5, 54),\n",
       " 'epsilon_0': (('nscan', 'nray'), (9140, 49), 5, 55),\n",
       " 'method': (('nscan', 'nray'), (9140, 49), 22, 56),\n",
       " 'epsilon': (('nscan', 'nray'), (9140, 49), 5, 57),\n",
       " 'epsilon_alpha': (('nscan', 'nray'), (9140, 49), 5, 58),\n",
       " 'epsilon_nubf': (('nscan', 'nray'), (9140, 49), 5, 59),\n",
       " 'zeta': (('nscan', 'nray', 'nmeth'), (9140, 49, 2), 5, 60),\n",
       " 'zeta_mn': (('nscan', 'nray', 'nmeth'), (9140, 49, 2), 5, 61),\n",
       " 'zeta_sd': (('nscan', 'nray', 'nmeth'), (9140, 49, 2), 5, 62),\n",
       " 'sigmaZero': (('nscan', 'nray'), (9140, 49), 5, 63),\n",
       " 'freezH': (('nscan', 'nray'), (9140, 49), 5, 64),\n",
       " 'nubfCorrectFactor': (('nscan', 'nray', 'fakeDim11'), (9140, 49, 3), 5, 65),\n",
       " 'stddev_zeta': (('nscan', 'nray'), (9140, 49), 5, 66),\n",
       " 'stddev_PIAsrt': (('nscan', 'nray'), (9140, 49), 5, 67),\n",
       " 'stddev_alpha': (('nscan', 'nray'), (9140, 49), 5, 68),\n",
       " 'stddev_Zm': (('nscan', 'nray'), (9140, 49), 5, 69),\n",
       " 'qualityFlag': (('nscan', 'nray'), (9140, 49), 22, 70),\n",
       " 'nearSurfRain': (('nscan', 'nray'), (9140, 49), 5, 71),\n",
       " 'nearSurfZ': (('nscan', 'nray'), (9140, 49), 5, 72),\n",
       " 'e_SurfRain': (('nscan', 'nray'), (9140, 49), 5, 73),\n",
       " 'pia': (('nscan', 'nray', 'fakeDim12'), (9140, 49, 3), 5, 74),\n",
       " 'pia_srt': (('nscan', 'nray', 'nestmeth'), (9140, 49, 6), 5, 75),\n",
       " 'stddev_srt': (('nscan', 'nray', 'nestmeth'), (9140, 49, 6), 5, 76),\n",
       " 'errorRain': (('nscan', 'nray'), (9140, 49), 5, 77),\n",
       " 'errorZ': (('nscan', 'nray'), (9140, 49), 5, 78),\n",
       " 'spare': (('nscan', 'nray', 'fakeDim14'), (9140, 49, 2), 5, 79),\n",
       " 'rainType': (('nscan', 'nray'), (9140, 49), 22, 80)}"
      ]
     },
     "execution_count": 15,
     "metadata": {},
     "output_type": "execute_result"
    }
   ],
   "source": [
    "ds.datasets()"
   ]
  },
  {
   "cell_type": "code",
   "execution_count": 3,
   "id": "c55b0fce-3227-4b4f-9a6d-5a97096c767a",
   "metadata": {},
   "outputs": [],
   "source": [
    "\n",
    "\n",
    "Year = np.array(ds.select('Year'))\n",
    "\n",
    "Month = np.array(ds.select('Month'))\n",
    "\n",
    "DayOfMonth = np.array(ds.select('DayOfMonth'))\n",
    "\n",
    "Hour = np.array(ds.select('Hour'))\n",
    "\n",
    "Minute = np.array(ds.select('Minute'))\n",
    "\n",
    "Second = np.array(ds.select('Second'))\n",
    "\n",
    "MilliSecond = np.array(ds.select('MilliSecond'))\n",
    "\n",
    "DayOfYear = np.array(ds.select('DayOfYear'))\n",
    "\n",
    "scanTime_sec = np.array(ds.select('scanTime_sec'))\n",
    "\n",
    "lat = np.array(ds.select('Latitude'))\n",
    "lon = np.array(ds.select('Longitude'))\n",
    "\n",
    "data = np.array(ds.select('nearSurfRain'))\n",
    "\n",
    "ds.end()"
   ]
  },
  {
   "cell_type": "code",
   "execution_count": 4,
   "id": "8a70c6e5-1519-4e16-a54d-b07946c7f2ac",
   "metadata": {},
   "outputs": [],
   "source": [
    "dateTimeArr = []\n",
    "for i in range(len(Year)):\n",
    "    dateTimeArr.append(datetime(Year[i],Month[i],DayOfMonth[i],Hour[i],Minute[i],Second[i],MilliSecond[i]))\n",
    "dateTimeArr = np.array(dateTimeArr)"
   ]
  },
  {
   "cell_type": "code",
   "execution_count": 5,
   "id": "91d4ecf9-3c66-424e-9b5d-c77a61f27361",
   "metadata": {},
   "outputs": [],
   "source": [
    "xds = xr.Dataset(\n",
    "    {\n",
    "        \"nearSurfRain\": xr.DataArray(\n",
    "            data,\n",
    "            dims=[\"Time\", \"nray\"],\n",
    "            attrs={\n",
    "                \"units\": \"mm/hr\",\n",
    "            },\n",
    "        ),\n",
    "        \"Latitude\": xr.DataArray(\n",
    "            lat,\n",
    "            dims=[\"Time\", \"nray\"],\n",
    "            attrs={\n",
    "                \"units\": \"degrees\",\n",
    "            },\n",
    "        ),\n",
    "        \"Longitude\": xr.DataArray(\n",
    "            lon,\n",
    "            dims=[\"Time\", \"nray\"],\n",
    "            attrs={\n",
    "                \"units\": \"degrees\",\n",
    "            },\n",
    "        ),\n",
    "    },\n",
    "        coords={\n",
    "                \"Time\": dateTimeArr,\n",
    "            },\n",
    ")\n",
    "\n",
    "reference_time = pd.to_datetime('1900-01-01 00:00:00')\n",
    "xds['Time'].encoding['units'] = f'microseconds since {reference_time}'"
   ]
  },
  {
   "cell_type": "code",
   "execution_count": 6,
   "id": "59cad3b0-4043-4201-bbf5-44993c782db1",
   "metadata": {},
   "outputs": [],
   "source": [
    "xds.to_netcdf('test.nc')"
   ]
  },
  {
   "cell_type": "code",
   "execution_count": 7,
   "id": "965c154a-0d5b-4eca-ad96-c040e654ed51",
   "metadata": {},
   "outputs": [
    {
     "data": {
      "text/plain": [
       "<class 'netCDF4._netCDF4.Variable'>\n",
       "int64 Time(Time)\n",
       "    units: microseconds since 1900-01-01\n",
       "    calendar: proleptic_gregorian\n",
       "unlimited dimensions: \n",
       "current shape = (9140,)\n",
       "filling on, default _FillValue of -9223372036854775806 used"
      ]
     },
     "execution_count": 7,
     "metadata": {},
     "output_type": "execute_result"
    }
   ],
   "source": [
    "ncDS = Dataset('test.nc')\n",
    "ncDS.variables['Time']"
   ]
  },
  {
   "cell_type": "code",
   "execution_count": 8,
   "id": "9c8cb140-188a-43be-abd9-2d0b2d7acf40",
   "metadata": {},
   "outputs": [],
   "source": [
    "from netCDF4 import date2num, num2date"
   ]
  },
  {
   "cell_type": "code",
   "execution_count": 9,
   "id": "13333eb6-c415-4f3e-8cea-e8e1a82c864b",
   "metadata": {},
   "outputs": [],
   "source": [
    "v = np.array(ncDS.variables['Time'])\n",
    "timeUnits = ncDS.variables['Time'].units\n",
    "cdfTime = num2date(v, timeUnits)"
   ]
  },
  {
   "cell_type": "code",
   "execution_count": 10,
   "id": "1b2fd0ef-f0e3-4110-866b-583fbbf529c4",
   "metadata": {},
   "outputs": [
    {
     "data": {
      "text/plain": [
       "array([cftime.DatetimeGregorian(2000, 1, 11, 15, 46, 51, 156, has_year_zero=False),\n",
       "       cftime.DatetimeGregorian(2000, 1, 11, 15, 46, 51, 755, has_year_zero=False),\n",
       "       cftime.DatetimeGregorian(2000, 1, 11, 15, 46, 52, 355, has_year_zero=False),\n",
       "       ...,\n",
       "       cftime.DatetimeGregorian(2000, 1, 11, 17, 18, 8, 249, has_year_zero=False),\n",
       "       cftime.DatetimeGregorian(2000, 1, 11, 17, 18, 8, 848, has_year_zero=False),\n",
       "       cftime.DatetimeGregorian(2000, 1, 11, 17, 18, 9, 448, has_year_zero=False)],\n",
       "      dtype=object)"
      ]
     },
     "execution_count": 10,
     "metadata": {},
     "output_type": "execute_result"
    }
   ],
   "source": [
    "cdfTime"
   ]
  },
  {
   "cell_type": "code",
   "execution_count": 11,
   "id": "bc71bb8b-713f-4a06-b76a-23b637a05e5c",
   "metadata": {},
   "outputs": [
    {
     "data": {
      "text/plain": [
       "(-36.123108, 36.10421)"
      ]
     },
     "execution_count": 11,
     "metadata": {},
     "output_type": "execute_result"
    }
   ],
   "source": [
    "np.min(lat), np.max(lat)"
   ]
  },
  {
   "cell_type": "code",
   "execution_count": 12,
   "id": "19488576-b9b1-4262-a046-766be71633e1",
   "metadata": {},
   "outputs": [
    {
     "data": {
      "text/plain": [
       "(-179.99982, 179.99965)"
      ]
     },
     "execution_count": 12,
     "metadata": {},
     "output_type": "execute_result"
    }
   ],
   "source": [
    "np.min(lon), np.max(lon)"
   ]
  },
  {
   "cell_type": "code",
   "execution_count": 13,
   "id": "7f2b3b9e-093c-485d-ad0f-72e0ba897fe7",
   "metadata": {},
   "outputs": [
    {
     "data": {
      "text/plain": [
       "(9140, 49)"
      ]
     },
     "execution_count": 13,
     "metadata": {},
     "output_type": "execute_result"
    }
   ],
   "source": [
    "lat.shape"
   ]
  },
  {
   "cell_type": "code",
   "execution_count": 14,
   "id": "ac9e8c52-92a1-4479-9af8-5b5544ba14e8",
   "metadata": {},
   "outputs": [
    {
     "data": {
      "text/plain": [
       "<class 'netCDF4._netCDF4.Dataset'>\n",
       "root group (NETCDF4 data model, file format HDF5):\n",
       "    dimensions(sizes): Time(9140), nray(49)\n",
       "    variables(dimensions): int64 Time(Time), float32 nearSurfRain(Time, nray), float32 Latitude(Time, nray), float32 Longitude(Time, nray)\n",
       "    groups: "
      ]
     },
     "execution_count": 14,
     "metadata": {},
     "output_type": "execute_result"
    }
   ],
   "source": [
    "ncDS"
   ]
  },
  {
   "cell_type": "code",
   "execution_count": null,
   "id": "c4053843-3ce9-49db-868c-d21ae111db15",
   "metadata": {},
   "outputs": [],
   "source": []
  }
 ],
 "metadata": {
  "kernelspec": {
   "display_name": "Python 3 (ipykernel)",
   "language": "python",
   "name": "python3"
  },
  "language_info": {
   "codemirror_mode": {
    "name": "ipython",
    "version": 3
   },
   "file_extension": ".py",
   "mimetype": "text/x-python",
   "name": "python",
   "nbconvert_exporter": "python",
   "pygments_lexer": "ipython3",
   "version": "3.11.6"
  }
 },
 "nbformat": 4,
 "nbformat_minor": 5
}
