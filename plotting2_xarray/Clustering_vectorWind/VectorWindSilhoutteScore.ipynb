{
 "cells": [
  {
   "cell_type": "code",
   "execution_count": 1,
   "id": "b2f05aca-9e64-46ad-af1d-4baa9e2fa9fc",
   "metadata": {},
   "outputs": [],
   "source": [
    "import numpy as np\n",
    "import pandas as pd\n",
    "import matplotlib.pyplot as plt\n",
    "from sklearn.cluster import KMeans\n",
    "from sklearn.metrics import silhouette_score\n",
    "from sklearn.metrics import pairwise_distances\n",
    "#import tensorflow as tf\n",
    "from joblib import Parallel, delayed\n",
    "\n",
    "from matplotlib import cm\n",
    "import matplotlib.cbook as cbook\n",
    "import matplotlib.colors as colors\n",
    "\n",
    "import pandas as pd\n",
    "import xarray as xr\n",
    "from netCDF4 import Dataset, num2date, date2num\n",
    "from datetime import datetime, timedelta\n",
    "import os\n",
    "\n",
    "import seaborn as sns\n",
    "import cmocean as cmocn\n",
    "\n",
    "%matplotlib inline"
   ]
  },
  {
   "cell_type": "code",
   "execution_count": 2,
   "id": "955fc5ae-3535-41ac-be64-a55b2f3cc6a4",
   "metadata": {},
   "outputs": [],
   "source": [
    "ds = xr.open_dataset('../rainFlagRemovedBuoyDataBadQualityRemovedMatchup.nc')\n",
    "df = ds.to_dataframe()\n",
    "df_orig = df.copy()"
   ]
  },
  {
   "cell_type": "code",
   "execution_count": 3,
   "id": "d0ec57e1-b791-4b2f-98e7-0118f4a53ef7",
   "metadata": {},
   "outputs": [],
   "source": [
    "df['Speed Difference (QuikSCAT - TAO)'] = df['Wind Speed (QuikSCAT)'] - df['Wind Speed (TAO)']\n",
    "\n",
    "df['Wind Direction (TAO)'] = (-(df['Wind Direction (TAO)'] - 90.0) + 360)%360\n",
    "df['Wind Direction (QuikSCAT)'] = (-(df['Wind Direction (QuikSCAT)'] - 90.0) + 360)%360\n",
    "df['mean WDIR 30min'] = (-(df['mean WDIR 30min'] - 90.0) + 360)%360\n",
    "df['mean WDIR 60min'] = (-(df['mean WDIR 60min'] - 90.0) + 360)%360\n",
    "df['mean WDIR 120min'] = (-(df['mean WDIR 120min'] - 90.0) + 360)%360\n",
    "\n",
    "df['Direction Difference (QuikSCAT - TAO)'] = ((df['Wind Direction (QuikSCAT)'] - df['Wind Direction (TAO)'])+360)%360\n",
    "dirDiff = np.array(df['Direction Difference (QuikSCAT - TAO)'])\n",
    "dirDiff[dirDiff > 180] -= 360\n",
    "df['Direction Difference (QuikSCAT - TAO)'] = dirDiff\n",
    "\n",
    "df['Speed Difference (QuikSCAT - TAO 30 min mean)'] = df['Wind Speed (QuikSCAT)'] - df['mean WSPD 30min']\n",
    "df['Direction Difference (QuikSCAT - TAO 30 min mean)'] = ((df['Wind Direction (QuikSCAT)'] - df['mean WDIR 30min'])+360)%360\n",
    "dirDiff = np.array(df['Direction Difference (QuikSCAT - TAO 30 min mean)'])\n",
    "dirDiff[dirDiff > 180] -= 360\n",
    "df['Direction Difference (QuikSCAT - TAO 30 min mean)'] = dirDiff\n",
    "\n",
    "df['Speed Difference (QuikSCAT - TAO 1 hr mean)'] = df['Wind Speed (QuikSCAT)'] - df['mean WSPD 60min']\n",
    "df['Direction Difference (QuikSCAT - TAO 1 hr mean)'] = ((df['Wind Direction (QuikSCAT)'] - df['mean WDIR 60min'])+360)%360\n",
    "dirDiff = np.array(df['Direction Difference (QuikSCAT - TAO 1 hr mean)'])\n",
    "dirDiff[dirDiff > 180] -= 360\n",
    "df['Direction Difference (QuikSCAT - TAO 1 hr mean)'] = dirDiff\n",
    "\n",
    "df['Speed Difference (QuikSCAT - TAO 2 hr mean)'] = df['Wind Speed (QuikSCAT)'] - df['mean WSPD 120min']\n",
    "df['Direction Difference (QuikSCAT - TAO 2 hr mean)'] = ((df['Wind Direction (QuikSCAT)'] - df['mean WDIR 120min'])+360)%360\n",
    "dirDiff = np.array(df['Direction Difference (QuikSCAT - TAO 2 hr mean)'])\n",
    "dirDiff[dirDiff > 180] -= 360\n",
    "df['Direction Difference (QuikSCAT - TAO 2 hr mean)'] = dirDiff\n",
    "\n",
    "\n",
    "df['Zonal Neutral Wind Speed at 10m (TAO)'] = df['Neutral Wind Speed at 10m (TAO)']*np.cos(np.deg2rad(df['Wind Direction (TAO)']))\n",
    "df['Meridional Neutral Wind Speed at 10m (TAO)'] = df['Neutral Wind Speed at 10m (TAO)']*np.sin(np.deg2rad(df['Wind Direction (TAO)']))\n",
    "\n",
    "df['Zonal Neutral Wind Speed at 10m (QuikSCAT)'] = df['Wind Speed (QuikSCAT)']*np.cos(np.deg2rad(df['Wind Direction (QuikSCAT)']))\n",
    "df['Meridional Neutral Wind Speed at 10m (QuikSCAT)'] = df['Wind Speed (QuikSCAT)']*np.sin(np.deg2rad(df['Wind Direction (QuikSCAT)']))\n",
    "\n",
    "df['Zonal Wind Speed Difference (QuikSCAT - TAO)'] = df['Zonal Neutral Wind Speed at 10m (QuikSCAT)'] - df['Zonal Neutral Wind Speed at 10m (TAO)']\n",
    "df['Meridional Wind Speed Difference (QuikSCAT - TAO)'] = df['Meridional Neutral Wind Speed at 10m (QuikSCAT)'] - df['Meridional Neutral Wind Speed at 10m (TAO)']\n"
   ]
  },
  {
   "cell_type": "code",
   "execution_count": 5,
   "id": "f5b55e26-f49c-4a0f-88dc-3b2a68c6d858",
   "metadata": {},
   "outputs": [],
   "source": [
    "selectX = ['Zonal Wind Speed Difference (QuikSCAT - TAO)',\n",
    "           'Meridional Wind Speed Difference (QuikSCAT - TAO)']\n",
    "X = df[selectX]\n",
    "#normX = (X - X.mean(axis=0))/ X.std(axis=0)\n",
    "\n",
    "\n",
    "# Function to compute silhouette score for one sample\n",
    "def silhouette_score_sample(i, X, labels, metric='euclidean'):\n",
    "    mask = np.ones(len(X), dtype=bool)\n",
    "    mask[i] = False\n",
    "    current_label = labels[i]\n",
    "    \n",
    "    # Calculate a(i)\n",
    "    a_i = np.mean(pairwise_distances([X[i]], X[labels == current_label], metric=metric)[0])\n",
    "    \n",
    "    # Calculate b(i)\n",
    "    b_i = np.inf\n",
    "    for label in np.unique(labels):\n",
    "        if label == current_label:\n",
    "            continue\n",
    "        b_i = min(b_i, np.mean(pairwise_distances([X[i]], X[labels == label], metric=metric)[0]))\n",
    "    \n",
    "    return (b_i - a_i) / max(a_i, b_i)\n",
    "    \n",
    "def getScore(n_cluster, X):\n",
    "    # Fit KMeans\n",
    "    kmeans = KMeans(n_clusters=n_cluster, random_state=42, n_init='auto').fit(X)\n",
    "    labels = kmeans.labels_\n",
    "    \n",
    "    # Calculate silhouette scores in parallel\n",
    "    n_jobs = -1  # Use all available cores\n",
    "    silhouette_scores = Parallel(n_jobs=n_jobs)(\n",
    "        delayed(silhouette_score_sample)(i, X, labels) for i in range(len(X))\n",
    "    )  \n",
    "    # Calculate the average silhouette score\n",
    "    average_silhouette_score = np.mean(silhouette_scores)\n",
    "\n",
    "    return average_silhouette_score\n",
    "\n"
   ]
  },
  {
   "cell_type": "code",
   "execution_count": 6,
   "id": "a2117232-2bed-4ac7-9374-198d32d0a727",
   "metadata": {},
   "outputs": [
    {
     "name": "stdout",
     "output_type": "stream",
     "text": [
      "cluster : 2\n",
      "cluster : 3\n",
      "cluster : 4\n",
      "cluster : 5\n",
      "cluster : 6\n",
      "cluster : 7\n",
      "cluster : 8\n",
      "cluster : 9\n"
     ]
    },
    {
     "ename": "NameError",
     "evalue": "name 'sihouette_scores' is not defined",
     "output_type": "error",
     "traceback": [
      "\u001b[0;31m---------------------------------------------------------------------------\u001b[0m",
      "\u001b[0;31mNameError\u001b[0m                                 Traceback (most recent call last)",
      "Cell \u001b[0;32mIn[6], line 10\u001b[0m\n\u001b[1;32m      8\u001b[0m index \u001b[38;5;241m=\u001b[39m np\u001b[38;5;241m.\u001b[39margmax(silhouette_scores)\n\u001b[1;32m      9\u001b[0m best_n_clusters \u001b[38;5;241m=\u001b[39m range_n_clusters[index]\n\u001b[0;32m---> 10\u001b[0m best_score \u001b[38;5;241m=\u001b[39m \u001b[43msihouette_scores\u001b[49m[index]\n",
      "\u001b[0;31mNameError\u001b[0m: name 'sihouette_scores' is not defined"
     ]
    }
   ],
   "source": [
    "range_n_clusters = np.arange(2,10)\n",
    "silhouette_scores = []\n",
    "for n_cluster in range_n_clusters:\n",
    "    print(f'cluster : {n_cluster}')\n",
    "    silhouette_scores.append(getScore(n_cluster, X.to_numpy()))\n",
    "\n",
    "silhouette_scores = np.array(silhouette_scores)\n",
    "index = np.argmax(silhouette_scores)\n",
    "best_n_clusters = range_n_clusters[index]\n",
    "best_score = silhouette_scores[index]"
   ]
  },
  {
   "cell_type": "code",
   "execution_count": 7,
   "id": "55773747-5292-41e5-903d-a9584065006b",
   "metadata": {},
   "outputs": [],
   "source": [
    "best_score = silhouette_scores[index]"
   ]
  },
  {
   "cell_type": "code",
   "execution_count": 8,
   "id": "413a443d-4b1f-4fca-8a06-933024f0f8aa",
   "metadata": {},
   "outputs": [
    {
     "name": "stdout",
     "output_type": "stream",
     "text": [
      "The optimal number of clusters is: 2 with a silhouette score of 0.6239323045228572\n"
     ]
    },
    {
     "data": {
      "image/png": "[encoded data removed]",
      "text/plain": [
       "<Figure size 1000x600 with 1 Axes>"
      ]
     },
     "metadata": {},
     "output_type": "display_data"
    }
   ],
   "source": [
    "# Plot the silhouette scores\n",
    "plt.figure(figsize=(10, 6))\n",
    "plt.plot(range_n_clusters, silhouette_scores, marker='o')\n",
    "plt.title('Silhouette Score vs. Number of Clusters')\n",
    "plt.xlabel('Number of Clusters')\n",
    "plt.ylabel('Silhouette Score')\n",
    "plt.xticks(range_n_clusters)\n",
    "plt.grid(True)\n",
    "#plt.show()\n",
    "\n",
    "print(f'The optimal number of clusters is: {best_n_clusters} with a silhouette score of {best_score}')"
   ]
  },
  {
   "cell_type": "code",
   "execution_count": null,
   "id": "9a28a411-29a9-473a-8b9f-ee8ba7de7589",
   "metadata": {},
   "outputs": [],
   "source": []
  }
 ],
 "metadata": {
  "kernelspec": {
   "display_name": "Python 3 (ipykernel)",
   "language": "python",
   "name": "python3"
  },
  "language_info": {
   "codemirror_mode": {
    "name": "ipython",
    "version": 3
   },
   "file_extension": ".py",
   "mimetype": "text/x-python",
   "name": "python",
   "nbconvert_exporter": "python",
   "pygments_lexer": "ipython3",
   "version": "3.11.6"
  }
 },
 "nbformat": 4,
 "nbformat_minor": 5
}
