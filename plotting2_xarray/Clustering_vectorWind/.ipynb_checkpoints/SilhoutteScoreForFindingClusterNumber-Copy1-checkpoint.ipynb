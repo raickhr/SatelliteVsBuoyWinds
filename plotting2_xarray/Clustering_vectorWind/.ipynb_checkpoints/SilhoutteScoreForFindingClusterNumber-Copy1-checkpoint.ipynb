{
 "cells": [
  {
   "cell_type": "code",
   "execution_count": 1,
   "id": "b2f05aca-9e64-46ad-af1d-4baa9e2fa9fc",
   "metadata": {},
   "outputs": [
    {
     "name": "stderr",
     "output_type": "stream",
     "text": [
      "2024-08-03 16:30:01.539194: I tensorflow/core/util/port.cc:113] oneDNN custom operations are on. You may see slightly different numerical results due to floating-point round-off errors from different computation orders. To turn them off, set the environment variable `TF_ENABLE_ONEDNN_OPTS=0`.\n",
      "2024-08-03 16:30:01.571315: E external/local_xla/xla/stream_executor/cuda/cuda_dnn.cc:10575] Unable to register cuDNN factory: Attempting to register factory for plugin cuDNN when one has already been registered\n",
      "2024-08-03 16:30:01.571346: E external/local_xla/xla/stream_executor/cuda/cuda_fft.cc:479] Unable to register cuFFT factory: Attempting to register factory for plugin cuFFT when one has already been registered\n",
      "2024-08-03 16:30:01.572853: E external/local_xla/xla/stream_executor/cuda/cuda_blas.cc:1442] Unable to register cuBLAS factory: Attempting to register factory for plugin cuBLAS when one has already been registered\n",
      "2024-08-03 16:30:01.578419: I tensorflow/core/platform/cpu_feature_guard.cc:210] This TensorFlow binary is optimized to use available CPU instructions in performance-critical operations.\n",
      "To enable the following instructions: SSE4.1 SSE4.2 AVX AVX2 AVX512F AVX512_VNNI FMA, in other operations, rebuild TensorFlow with the appropriate compiler flags.\n"
     ]
    }
   ],
   "source": [
    "import numpy as np\n",
    "import pandas as pd\n",
    "import matplotlib.pyplot as plt\n",
    "from sklearn.cluster import KMeans\n",
    "from sklearn.metrics import silhouette_score\n",
    "import tensorflow as tf\n",
    "\n",
    "from matplotlib import cm\n",
    "import matplotlib.cbook as cbook\n",
    "import matplotlib.colors as colors\n",
    "\n",
    "import pandas as pd\n",
    "import xarray as xr\n",
    "from netCDF4 import Dataset, num2date, date2num\n",
    "from datetime import datetime, timedelta\n",
    "import os\n",
    "\n",
    "import seaborn as sns\n",
    "import cmocean as cmocn\n",
    "\n",
    "%matplotlib inline"
   ]
  },
  {
   "cell_type": "code",
   "execution_count": 2,
   "id": "955fc5ae-3535-41ac-be64-a55b2f3cc6a4",
   "metadata": {},
   "outputs": [],
   "source": [
    "ds = xr.open_dataset('../rainFlagRemovedBuoyDataBadQualityRemovedMatchup.nc')\n",
    "df = ds.to_dataframe()\n",
    "df_orig = df.copy()"
   ]
  },
  {
   "cell_type": "code",
   "execution_count": 3,
   "id": "d0ec57e1-b791-4b2f-98e7-0118f4a53ef7",
   "metadata": {},
   "outputs": [],
   "source": [
    "df['Speed Difference (QuikSCAT - TAO)'] = df['Wind Speed (QuikSCAT)'] - df['Wind Speed (TAO)']\n",
    "\n",
    "df['Wind Direction (TAO)'] = (-(df['Wind Direction (TAO)'] - 90.0) + 360)%360\n",
    "df['Wind Direction (QuikSCAT)'] = (-(df['Wind Direction (QuikSCAT)'] - 90.0) + 360)%360\n",
    "df['mean WDIR 30min'] = (-(df['mean WDIR 30min'] - 90.0) + 360)%360\n",
    "df['mean WDIR 60min'] = (-(df['mean WDIR 60min'] - 90.0) + 360)%360\n",
    "df['mean WDIR 120min'] = (-(df['mean WDIR 120min'] - 90.0) + 360)%360\n",
    "\n",
    "df['Direction Difference (QuikSCAT - TAO)'] = ((df['Wind Direction (QuikSCAT)'] - df['Wind Direction (TAO)'])+360)%360\n",
    "dirDiff = np.array(df['Direction Difference (QuikSCAT - TAO)'])\n",
    "dirDiff[dirDiff > 180] -= 360\n",
    "df['Direction Difference (QuikSCAT - TAO)'] = dirDiff\n",
    "\n",
    "df['Speed Difference (QuikSCAT - TAO 30 min mean)'] = df['Wind Speed (QuikSCAT)'] - df['mean WSPD 30min']\n",
    "df['Direction Difference (QuikSCAT - TAO 30 min mean)'] = ((df['Wind Direction (QuikSCAT)'] - df['mean WDIR 30min'])+360)%360\n",
    "dirDiff = np.array(df['Direction Difference (QuikSCAT - TAO 30 min mean)'])\n",
    "dirDiff[dirDiff > 180] -= 360\n",
    "df['Direction Difference (QuikSCAT - TAO 30 min mean)'] = dirDiff\n",
    "\n",
    "df['Speed Difference (QuikSCAT - TAO 1 hr mean)'] = df['Wind Speed (QuikSCAT)'] - df['mean WSPD 60min']\n",
    "df['Direction Difference (QuikSCAT - TAO 1 hr mean)'] = ((df['Wind Direction (QuikSCAT)'] - df['mean WDIR 60min'])+360)%360\n",
    "dirDiff = np.array(df['Direction Difference (QuikSCAT - TAO 1 hr mean)'])\n",
    "dirDiff[dirDiff > 180] -= 360\n",
    "df['Direction Difference (QuikSCAT - TAO 1 hr mean)'] = dirDiff\n",
    "\n",
    "df['Speed Difference (QuikSCAT - TAO 2 hr mean)'] = df['Wind Speed (QuikSCAT)'] - df['mean WSPD 120min']\n",
    "df['Direction Difference (QuikSCAT - TAO 2 hr mean)'] = ((df['Wind Direction (QuikSCAT)'] - df['mean WDIR 120min'])+360)%360\n",
    "dirDiff = np.array(df['Direction Difference (QuikSCAT - TAO 2 hr mean)'])\n",
    "dirDiff[dirDiff > 180] -= 360\n",
    "df['Direction Difference (QuikSCAT - TAO 2 hr mean)'] = dirDiff\n",
    "\n",
    "\n",
    "df['Zonal Neutral Wind Speed at 10m (TAO)'] = df['Neutral Wind Speed at 10m (TAO)']*np.cos(np.deg2rad(df['Wind Direction (TAO)']))\n",
    "df['Meridional Neutral Wind Speed at 10m (TAO)'] = df['Neutral Wind Speed at 10m (TAO)']*np.sin(np.deg2rad(df['Wind Direction (TAO)']))\n",
    "\n",
    "df['Zonal Neutral Wind Speed at 10m (QuikSCAT)'] = df['Wind Speed (QuikSCAT)']*np.cos(np.deg2rad(df['Wind Direction (QuikSCAT)']))\n",
    "df['Meridional Neutral Wind Speed at 10m (QuikSCAT)'] = df['Wind Speed (QuikSCAT)']*np.sin(np.deg2rad(df['Wind Direction (QuikSCAT)']))\n",
    "\n",
    "df['Zonal Wind Speed Difference (QuikSCAT - TAO)'] = df['Zonal Neutral Wind Speed at 10m (QuikSCAT)'] - df['Zonal Neutral Wind Speed at 10m (TAO)']\n",
    "df['Meridional Wind Speed Difference (QuikSCAT - TAO)'] = df['Meridional Neutral Wind Speed at 10m (QuikSCAT)'] - df['Meridional Neutral Wind Speed at 10m (TAO)']\n"
   ]
  },
  {
   "cell_type": "code",
   "execution_count": null,
   "id": "f5b55e26-f49c-4a0f-88dc-3b2a68c6d858",
   "metadata": {},
   "outputs": [
    {
     "name": "stderr",
     "output_type": "stream",
     "text": [
      "2024-08-03 16:30:14.705935: I tensorflow/core/common_runtime/gpu/gpu_device.cc:1928] Created device /job:localhost/replica:0/task:0/device:GPU:0 with 13224 MB memory:  -> device: 0, name: NVIDIA RTX A4000, pci bus id: 0000:65:00.0, compute capability: 8.6\n"
     ]
    }
   ],
   "source": [
    "selectX = ['Zonal Wind Speed Difference (QuikSCAT - TAO)',\n",
    "           'Meridional Wind Speed Difference (QuikSCAT - TAO)']\n",
    "X = df[selectX]\n",
    "normX = (X - X.mean(axis=0))/ X.std(axis=0)\n",
    "\n",
    "# Range of clusters to try\n",
    "range_n_clusters = list(range(2, 100))\n",
    "\n",
    "# Define a function to compute the Silhouette Score for a given number of clusters\n",
    "def compute_silhouette(n_clusters, data):\n",
    "    n_clusters = int(n_clusters)\n",
    "    kmeans = KMeans(n_clusters=n_clusters, random_state=42, n_init='auto')\n",
    "    labels = kmeans.fit_predict(data)\n",
    "    score = silhouette_score(data, labels)\n",
    "    return score\n",
    "\n",
    "# Create a dataset of the cluster numbers\n",
    "cluster_dataset = tf.data.Dataset.from_tensor_slices(range_n_clusters)\n",
    "\n",
    "# Function to map over the dataset\n",
    "def map_fn(n_clusters):\n",
    "    score = tf.py_function(compute_silhouette, [n_clusters, normX], tf.double)\n",
    "    return n_clusters, score\n",
    "\n",
    "# Apply the map function in parallel\n",
    "results = cluster_dataset.map(map_fn, num_parallel_calls=tf.data.experimental.AUTOTUNE)\n",
    "\n",
    "# Collect the results\n",
    "best_score = -1\n",
    "best_n_clusters = 2\n",
    "silhouette_scores = []\n",
    "\n",
    "for n_clusters, score in results:\n",
    "    silhouette_scores.append(score.numpy())\n",
    "    if score > best_score:\n",
    "        best_score = score\n",
    "        best_n_clusters = n_clusters\n"
   ]
  },
  {
   "cell_type": "code",
   "execution_count": null,
   "id": "413a443d-4b1f-4fca-8a06-933024f0f8aa",
   "metadata": {},
   "outputs": [],
   "source": [
    "# Plot the silhouette scores\n",
    "plt.figure(figsize=(10, 6))\n",
    "plt.plot(range_n_clusters, silhouette_scores, marker='o')\n",
    "plt.title('Silhouette Score vs. Number of Clusters')\n",
    "plt.xlabel('Number of Clusters')\n",
    "plt.ylabel('Silhouette Score')\n",
    "plt.xticks(range_n_clusters)\n",
    "plt.grid(True)\n",
    "#plt.show()\n",
    "\n",
    "print(f'The optimal number of clusters is: {best_n_clusters} with a silhouette score of {best_score}')"
   ]
  },
  {
   "cell_type": "code",
   "execution_count": null,
   "id": "4c79372d-6408-444c-a9aa-fcfda9db5ee6",
   "metadata": {},
   "outputs": [],
   "source": []
  }
 ],
 "metadata": {
  "kernelspec": {
   "display_name": "Python 3 (ipykernel)",
   "language": "python",
   "name": "python3"
  },
  "language_info": {
   "codemirror_mode": {
    "name": "ipython",
    "version": 3
   },
   "file_extension": ".py",
   "mimetype": "text/x-python",
   "name": "python",
   "nbconvert_exporter": "python",
   "pygments_lexer": "ipython3",
   "version": "3.11.6"
  }
 },
 "nbformat": 4,
 "nbformat_minor": 5
}
