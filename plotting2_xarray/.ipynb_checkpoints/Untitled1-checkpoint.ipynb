{
 "cells": [
  {
   "cell_type": "code",
   "execution_count": 26,
   "id": "f527b903-4fdd-47eb-b016-0b66a04d94ed",
   "metadata": {},
   "outputs": [],
   "source": [
    "import xarray as xr\n",
    "import numpy as np\n",
    "import pandas as pd\n",
    "from datetime import datetime, timedelta\n",
    "import matplotlib.pyplot as plt\n",
    "from netCDF4 import Dataset\n",
    "%matplotlib inline"
   ]
  },
  {
   "cell_type": "code",
   "execution_count": 27,
   "id": "4acd0ce0-69f7-4a2d-9505-0549c430f1f4",
   "metadata": {},
   "outputs": [],
   "source": [
    "fileName = '/srv/data2/srai_poseidon/srai_poseidon/observation/SatelliteVsBuoy/downloads/QS_data/qs_l2b_v4p1/qs_l2b_33345_v4.1_200511131602.nc'\n",
    "xds = xr.open_dataset(fileName)"
   ]
  },
  {
   "cell_type": "code",
   "execution_count": 29,
   "id": "7f99aac4-9539-4091-bde7-8761bdb81bd8",
   "metadata": {},
   "outputs": [
    {
     "ename": "SyntaxError",
     "evalue": "invalid syntax. Perhaps you forgot a comma? (115557296.py, line 2)",
     "output_type": "error",
     "traceback": [
      "\u001b[0;36m  Cell \u001b[0;32mIn[29], line 2\u001b[0;36m\u001b[0m\n\u001b[0;31m    adequate_sigma0_flag\u001b[0m\n\u001b[0m    ^\u001b[0m\n\u001b[0;31mSyntaxError\u001b[0m\u001b[0;31m:\u001b[0m invalid syntax. Perhaps you forgot a comma?\n"
     ]
    }
   ],
   "source": [
    "flag_meaning = [\n",
    "    'adequate_sigma0_flag',\n",
    "    'adequate_azimuth_diversity_flag',\n",
    "    'poor_coastal_processing_flag',\n",
    "    'wind_retrieval_likely_corrupted_flag',\n",
    "    'coastal_flag',\n",
    "    'ice_edge_flag',\n",
    "    'winds_not_retrieved_flag',\n",
    "    'high_wind_speed_flag',\n",
    "    'low_wind_speed_flag',\n",
    "    'rain_impact_flag_not_usable_flag',\n",
    "    'rain_impact_flag',\n",
    "    'missing_look_flag']\n"
   ]
  },
  {
   "cell_type": "code",
   "execution_count": 3,
   "id": "c55fdf60-aff9-42c5-9dbd-bb48a10f5388",
   "metadata": {
    "scrolled": true
   },
   "outputs": [],
   "source": [
    "ds = Dataset(fileName)"
   ]
  },
  {
   "cell_type": "code",
   "execution_count": 19,
   "id": "b05df189-17a8-43e1-9025-0d52103b83cd",
   "metadata": {},
   "outputs": [],
   "source": [
    "eflags = np.unique(np.array(ds['eflags']))"
   ]
  },
  {
   "cell_type": "code",
   "execution_count": 20,
   "id": "ac7c3c18-0aba-42f2-9f06-883935324014",
   "metadata": {},
   "outputs": [
    {
     "data": {
      "text/plain": [
       "array([   1,    5,   21, 2052, 4097, 4101, 4113, 4117, 4119, 4177, 4181,\n",
       "       4183, 4353, 4357, 4369, 4373, 4375, 4417, 4421, 4433, 4437, 4439,\n",
       "       4609, 4613, 4625, 4629, 4631, 4695, 4865, 4869, 4881, 4885, 4887,\n",
       "       6164, 6404, 6660, 6916, 7172, 7180, 7188, 7196, 7198, 7252, 7260,\n",
       "       7262, 7428, 7436, 7438, 7444, 7452, 7454, 7684, 7692, 7700, 7708,\n",
       "       7940, 7948, 7964], dtype=int16)"
      ]
     },
     "execution_count": 20,
     "metadata": {},
     "output_type": "execute_result"
    }
   ],
   "source": [
    "eflags"
   ]
  },
  {
   "cell_type": "code",
   "execution_count": 24,
   "id": "7c8f03ae-c367-4904-a8c2-1192335a12d1",
   "metadata": {},
   "outputs": [],
   "source": [
    "xeflags = ['{:015b}'.format(val) for val in eflags]"
   ]
  },
  {
   "cell_type": "code",
   "execution_count": 25,
   "id": "926f0620-d209-435d-bcbd-89ca6095bc70",
   "metadata": {},
   "outputs": [
    {
     "data": {
      "text/plain": [
       "['000000000000001',\n",
       " '000000000000101',\n",
       " '000000000010101',\n",
       " '000100000000100',\n",
       " '001000000000001',\n",
       " '001000000000101',\n",
       " '001000000010001',\n",
       " '001000000010101',\n",
       " '001000000010111',\n",
       " '001000001010001',\n",
       " '001000001010101',\n",
       " '001000001010111',\n",
       " '001000100000001',\n",
       " '001000100000101',\n",
       " '001000100010001',\n",
       " '001000100010101',\n",
       " '001000100010111',\n",
       " '001000101000001',\n",
       " '001000101000101',\n",
       " '001000101010001',\n",
       " '001000101010101',\n",
       " '001000101010111',\n",
       " '001001000000001',\n",
       " '001001000000101',\n",
       " '001001000010001',\n",
       " '001001000010101',\n",
       " '001001000010111',\n",
       " '001001001010111',\n",
       " '001001100000001',\n",
       " '001001100000101',\n",
       " '001001100010001',\n",
       " '001001100010101',\n",
       " '001001100010111',\n",
       " '001100000010100',\n",
       " '001100100000100',\n",
       " '001101000000100',\n",
       " '001101100000100',\n",
       " '001110000000100',\n",
       " '001110000001100',\n",
       " '001110000010100',\n",
       " '001110000011100',\n",
       " '001110000011110',\n",
       " '001110001010100',\n",
       " '001110001011100',\n",
       " '001110001011110',\n",
       " '001110100000100',\n",
       " '001110100001100',\n",
       " '001110100001110',\n",
       " '001110100010100',\n",
       " '001110100011100',\n",
       " '001110100011110',\n",
       " '001111000000100',\n",
       " '001111000001100',\n",
       " '001111000010100',\n",
       " '001111000011100',\n",
       " '001111100000100',\n",
       " '001111100001100',\n",
       " '001111100011100']"
      ]
     },
     "execution_count": 25,
     "metadata": {},
     "output_type": "execute_result"
    }
   ],
   "source": [
    "xeflags"
   ]
  },
  {
   "cell_type": "code",
   "execution_count": 18,
   "id": "f0330105-100d-456d-a224-251d3b6008fd",
   "metadata": {},
   "outputs": [
    {
     "data": {
      "text/plain": [
       "<matplotlib.colorbar.Colorbar at 0x7f89e61f3110>"
      ]
     },
     "execution_count": 18,
     "metadata": {},
     "output_type": "execute_result"
    },
    {
     "data": {
      "image/png": "[encoded data removed]",
      "text/plain": [
       "<Figure size 640x480 with 2 Axes>"
      ]
     },
     "metadata": {},
     "output_type": "display_data"
    }
   ],
   "source": [
    "plt.pcolormesh(eflags - xeflags)\n",
    "plt.colorbar()"
   ]
  },
  {
   "cell_type": "code",
   "execution_count": null,
   "id": "110b07e4-f93d-45e0-9154-5ffcd495a4e8",
   "metadata": {},
   "outputs": [],
   "source": [
    "np.log(extended_flags)/np.log(2)"
   ]
  }
 ],
 "metadata": {
  "kernelspec": {
   "display_name": "Python 3 (ipykernel)",
   "language": "python",
   "name": "python3"
  },
  "language_info": {
   "codemirror_mode": {
    "name": "ipython",
    "version": 3
   },
   "file_extension": ".py",
   "mimetype": "text/x-python",
   "name": "python",
   "nbconvert_exporter": "python",
   "pygments_lexer": "ipython3",
   "version": "3.11.0"
  }
 },
 "nbformat": 4,
 "nbformat_minor": 5
}
