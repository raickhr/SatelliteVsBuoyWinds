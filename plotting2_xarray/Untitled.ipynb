{
 "cells": [
  {
   "cell_type": "code",
   "execution_count": 1,
   "id": "5aed60b5-fb4a-4515-b619-b6f7ecb3bda9",
   "metadata": {},
   "outputs": [],
   "source": [
    "import xarray as xr\n",
    "import numpy as np\n",
    "import pandas as pd\n",
    "from datetime import datetime, timedelta\n",
    "import matplotlib.pyplot as plt\n",
    "%matplotlib inline"
   ]
  },
  {
   "cell_type": "code",
   "execution_count": 2,
   "id": "d7adc87c-2d21-4c9a-850c-87e91396ae64",
   "metadata": {},
   "outputs": [],
   "source": [
    "ds = xr.open_dataset('/srv/seolab/srai/testKelvinWithWinds/Run/roms_avg.nc')\n",
    "u = ds['u_eastward'].to_numpy()\n",
    "v = ds['v_northward'].to_numpy()\n",
    "ke = 0.5 * np.sqrt(u**2 +v**2)\n"
   ]
  },
  {
   "cell_type": "code",
   "execution_count": 3,
   "id": "2bdd71c0-318a-4731-9bbc-03f55bc0475f",
   "metadata": {},
   "outputs": [
    {
     "name": "stderr",
     "output_type": "stream",
     "text": [
      "IOStream.flush timed out\n",
      "IOStream.flush timed out\n"
     ]
    }
   ],
   "source": [
    "ds['ke'] = xr.DataArray(ke, dims=['ocean_time', 's_rho', 'eta_rho', 'xi_rho'])\n",
    "ds.to_netcdf('/srv/seolab/srai/testKelvinWithWinds/Run/roms_avg_withKE.nc')"
   ]
  },
  {
   "cell_type": "code",
   "execution_count": null,
   "id": "261b17d9-f31b-41d9-859e-5f0d80f3ac1a",
   "metadata": {},
   "outputs": [],
   "source": []
  }
 ],
 "metadata": {
  "kernelspec": {
   "display_name": "Python 3 (ipykernel)",
   "language": "python",
   "name": "python3"
  },
  "language_info": {
   "codemirror_mode": {
    "name": "ipython",
    "version": 3
   },
   "file_extension": ".py",
   "mimetype": "text/x-python",
   "name": "python",
   "nbconvert_exporter": "python",
   "pygments_lexer": "ipython3",
   "version": "3.11.6"
  }
 },
 "nbformat": 4,
 "nbformat_minor": 5
}
