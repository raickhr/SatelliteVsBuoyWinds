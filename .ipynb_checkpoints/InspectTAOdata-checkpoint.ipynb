{
 "cells": [
  {
   "cell_type": "code",
   "execution_count": 5,
   "id": "1c8d562f",
   "metadata": {},
   "outputs": [],
   "source": [
    "from netCDF4 import Dataset\n",
    "import numpy as np\n",
    "import matplotlib.pyplot as plt\n",
    "import pandas as pd\n",
    "import xarray as xr\n",
    "%matplotlib inline"
   ]
  },
  {
   "cell_type": "code",
   "execution_count": 3,
   "id": "643dd200",
   "metadata": {},
   "outputs": [],
   "source": [
    "ds = Dataset('/home/shikhar.rai/WHOI/SatelliteVsBuoy/downloads/Buoy/mergedTAO_Bouy2000/T0N140W_2000.nc')"
   ]
  },
  {
   "cell_type": "code",
   "execution_count": 4,
   "id": "52be89f4",
   "metadata": {},
   "outputs": [
    {
     "data": {
      "text/plain": [
       "dict_keys(['TIME', 'HEIGHT', 'LATITUDE', 'LONGITUDE', 'WDIR', 'WDIR_QC', 'WDIR_DM', 'WSPD', 'WSPD_QC', 'WSPD_DM', 'UWND', 'VWND'])"
      ]
     },
     "execution_count": 4,
     "metadata": {},
     "output_type": "execute_result"
    }
   ],
   "source": [
    "ds.variables.keys()"
   ]
  },
  {
   "cell_type": "code",
   "execution_count": null,
   "id": "e79605a1",
   "metadata": {},
   "outputs": [],
   "source": []
  }
 ],
 "metadata": {
  "kernelspec": {
   "display_name": "Python 3 (ipykernel)",
   "language": "python",
   "name": "python3"
  },
  "language_info": {
   "codemirror_mode": {
    "name": "ipython",
    "version": 3
   },
   "file_extension": ".py",
   "mimetype": "text/x-python",
   "name": "python",
   "nbconvert_exporter": "python",
   "pygments_lexer": "ipython3",
   "version": "3.11.4"
  }
 },
 "nbformat": 4,
 "nbformat_minor": 5
}
