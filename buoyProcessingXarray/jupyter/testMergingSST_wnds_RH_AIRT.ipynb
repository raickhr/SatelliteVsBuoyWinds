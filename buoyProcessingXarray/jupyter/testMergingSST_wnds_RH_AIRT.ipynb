{
 "cells": [
  {
   "cell_type": "code",
   "execution_count": 1,
   "id": "52dd30dd-37ae-4aca-8b12-41bfa21859f4",
   "metadata": {},
   "outputs": [],
   "source": [
    "import xarray as xr\n",
    "import numpy as np\n",
    "import pandas as pd\n",
    "from datetime import datetime, timedelta\n",
    "import time\n",
    "import sys\n",
    "sys.path.append(\"/srv/data2/srai_poseidon/srai_poseidon/observation/SatelliteVsBuoy/codes/COARE3p5/COAREalgorithm/Python/COARE3p5\")\n",
    "from coare35vn import *"
   ]
  },
  {
   "cell_type": "code",
   "execution_count": 2,
   "id": "f957b7c1-d8ec-4459-bd46-e942a3acba64",
   "metadata": {},
   "outputs": [],
   "source": [
    "def converttoDatetimeList(ds, timeVar='TIME'):\n",
    "    timeArr = ds[timeVar].to_numpy()\n",
    "    tval = pd.to_datetime(timeArr)\n",
    "    timeSeries = np.array([datetime(dtm.year, dtm.month, dtm.day, dtm.hour, dtm.minute, dtm.second) for dtm in tval])\n",
    "    ds['TIME'] = timeSeries\n",
    "    return ds"
   ]
  },
  {
   "cell_type": "code",
   "execution_count": 3,
   "id": "23539fe7-cc09-4d61-93c2-2c0546e1646e",
   "metadata": {},
   "outputs": [],
   "source": [
    "def selectMatchingTime(ds1, ds2, ds3, ds4, timeVar1 = 'TIME', timeVar2='TIME', timeVar3 = 'TIME', timeVar4='TIME'):\n",
    "    time1 = ds1[timeVar1].to_numpy()\n",
    "    time2 = ds2[timeVar2].to_numpy()\n",
    "    time3 = ds3[timeVar3].to_numpy()\n",
    "    time4 = ds4[timeVar4].to_numpy()\n",
    "\n",
    "    i = 0 \n",
    "    j = 0\n",
    "    k = 0\n",
    "    l = 0 \n",
    "    loop = True\n",
    "    indices = []\n",
    "    while loop:\n",
    "        if time1[i] == time2[j] and time1[i] == time3[k] and time1[i] == time4[l]:\n",
    "            indices.append([i,j,k,l])\n",
    "            i+=1\n",
    "            j+=1\n",
    "            k+=1\n",
    "            l+=1\n",
    "        else:\n",
    "            lowest = np.argmin([time1[i], time2[j], time3[k], time4[l]])\n",
    "            #print(time1[i], time2[j], time3[k], time4[l])\n",
    "            if lowest == 0:\n",
    "                i += 1\n",
    "            elif lowest == 1:\n",
    "                j += 1\n",
    "            elif lowest == 2:\n",
    "                k += 1\n",
    "            elif lowest == 3:\n",
    "                l += 1\n",
    "        \n",
    "        if i == len(time1) or j==len(time2) or k == len(time3) or l == len(time4):\n",
    "            loop = False\n",
    "            \n",
    "    indices = np.array(indices, dtype=int)\n",
    "    sel_ds1 = ds1.isel(TIME = indices[:,0])\n",
    "    sel_ds2 = ds2.isel(TIME = indices[:,1])\n",
    "    sel_ds3 = ds3.isel(TIME = indices[:,2])\n",
    "    sel_ds4 = ds4.isel(TIME = indices[:,3])\n",
    "\n",
    "    return sel_ds1, sel_ds2, sel_ds3, sel_ds4"
   ]
  },
  {
   "cell_type": "code",
   "execution_count": 6,
   "id": "358625a9-a875-42bc-9920-f9d71ef4a73b",
   "metadata": {},
   "outputs": [],
   "source": [
    "lat = 0\n",
    "lon = -140\n",
    "\n",
    "if lat < 0:\n",
    "    latUnits = 'S'\n",
    "else:\n",
    "    latUnits = 'N'\n",
    "\n",
    "if lon < 0:\n",
    "    lonUnits = 'W'\n",
    "else:\n",
    "    lonUnits = 'E'\n",
    "\n",
    "lat=abs(lat)\n",
    "lon=abs(lon)\n",
    "\n",
    "bWinds = f'../../../downloads/Buoy/extractedGZ/WINDS/T_{lat:02d}{latUnits}_{lon:03d}{lonUnits}_WINDS_2000.nc'\n",
    "bAirT = f'../../../downloads/Buoy/extractedGZ/AIRT/T_{lat:02d}{latUnits}_{lon:03d}{lonUnits}_AIRT_2000.nc'\n",
    "bSST = f'../../../downloads/Buoy/extractedGZ/SST/T_{lat:02d}{latUnits}_{lon:03d}{lonUnits}_SST_2000.nc'\n",
    "bRH = f'../../../downloads/Buoy/extractedGZ/RH/T_{lat:02d}{latUnits}_{lon:03d}{lonUnits}_RH_2000.nc'"
   ]
  },
  {
   "cell_type": "code",
   "execution_count": 7,
   "id": "6d9c3861-ce35-478d-b67b-a42fc1d3726c",
   "metadata": {},
   "outputs": [],
   "source": [
    "ds_WIND = xr.open_dataset(bWinds)\n",
    "ds_SST = xr.open_dataset(bSST)\n",
    "ds_AIRT = xr.open_dataset(bAirT)\n",
    "ds_RH = xr.open_dataset(bRH)\n",
    "\n",
    "ds_WIND = ds_WIND.sortby('TIME', ascending=True)\n",
    "ds_SST = ds_SST.sortby('TIME', ascending=True)\n",
    "ds_AIRT = ds_AIRT.sortby('TIME', ascending=True)\n",
    "ds_RH = ds_RH.sortby('TIME', ascending=True)\n",
    "\n",
    "ds_WIND = converttoDatetimeList(ds_WIND)#, timeVar='TIME')\n",
    "ds_SST = converttoDatetimeList(ds_SST)#, timeVar='TIME')\n",
    "ds_AIRT = converttoDatetimeList(ds_AIRT)#, timeVar='TIME')\n",
    "ds_RH = converttoDatetimeList(ds_RH)#, timeVar='TIME')"
   ]
  },
  {
   "cell_type": "code",
   "execution_count": null,
   "id": "537c6ab6-1de4-43c5-a7e2-a70540184973",
   "metadata": {},
   "outputs": [],
   "source": [
    "st = time.time()\n",
    "ds1, ds2 , ds3, ds4= selectMatchingTime(ds_WIND, ds_SST, ds_AIRT, ds_RH)\n",
    "et = time.time()\n",
    "print(et- st)"
   ]
  },
  {
   "cell_type": "code",
   "execution_count": null,
   "id": "2d1dc41c-47ff-4582-926d-9fe3f70a28ad",
   "metadata": {},
   "outputs": [],
   "source": [
    "st = time.time()\n",
    "allDS = xr.merge((ds1, ds2, ds3, ds4))\n",
    "et = time.time()\n",
    "print(et- st)"
   ]
  },
  {
   "cell_type": "code",
   "execution_count": null,
   "id": "b827b936-6886-4890-a223-222ec2f53932",
   "metadata": {},
   "outputs": [],
   "source": [
    "allDS"
   ]
  },
  {
   "cell_type": "code",
   "execution_count": null,
   "id": "b2e397eb-e330-427c-9190-c2e8fb122ce4",
   "metadata": {},
   "outputs": [],
   "source": [
    "speed = allDS['WSPD'].sel(HEIGHT=4.0).to_numpy()\n",
    "rh = allDS['RELH'].sel(HEIGHT=3.0).to_numpy()\n",
    "sst = allDS['SST'].sel(DEPTH=1.0).to_numpy()\n",
    "airt = allDS['AIRT'].sel(HEIGHT=3.0).to_numpy()"
   ]
  },
  {
   "cell_type": "code",
   "execution_count": null,
   "id": "93b55b8a-2c97-4d21-b370-c450501899a7",
   "metadata": {},
   "outputs": [],
   "source": [
    "coareOutPutArr = coare35vn(speed, airt, rh, sst, zu=4.0, zt = 3, zq = 3)"
   ]
  },
  {
   "cell_type": "code",
   "execution_count": null,
   "id": "51cb138e-57ae-4284-8ccd-998c2881948e",
   "metadata": {},
   "outputs": [],
   "source": [
    "U10N = coareOutPutArr[0,:]\n",
    "u10 = coareOutPutArr[1,:]"
   ]
  },
  {
   "cell_type": "code",
   "execution_count": null,
   "id": "a7cb4432-4ad9-463a-bfcd-573bcf9ca24c",
   "metadata": {},
   "outputs": [],
   "source": [
    "allDS"
   ]
  },
  {
   "cell_type": "code",
   "execution_count": null,
   "id": "ec230ded-ff58-47c3-8c83-4f4d8c281bf8",
   "metadata": {},
   "outputs": [],
   "source": [
    "WSPD_10N = xr.DataArray(np.array([U10N]).T, dims = ['TIME','HEIGHT'],\n",
    "                                coords = {'TIME': allDS['TIME'],\n",
    "                                         'HEIGHT': [10.0]},\n",
    "                                attrs = {'units': 'meters/second',\n",
    "                                         'long_name': '10 m neutral winds from COARE3.5',\n",
    "                                         'vars_used_to_calculate': 'SST RH AIRT WSPD'})\n",
    "WSPD_10 = xr.DataArray(np.array([u10]).T, dims = ['TIME','HEIGHT'],\n",
    "                                coords = {'TIME': allDS['TIME'],\n",
    "                                         'HEIGHT': [10.0]},\n",
    "                                attrs = {'units': 'meters/second',\n",
    "                                         'long_name': '10 m winds from COARE3.5',\n",
    "                                         'vars_used_to_calculate': 'SST RH AIRT WSPD'})"
   ]
  },
  {
   "cell_type": "code",
   "execution_count": null,
   "id": "e372ca1a-aad9-49be-87d8-05178791d9ab",
   "metadata": {},
   "outputs": [],
   "source": [
    "nds = xr.Dataset()\n",
    "nds['WSPD_10N'] = WSPD_10N\n",
    "nds['WSPD_10'] = WSPD_10"
   ]
  },
  {
   "cell_type": "code",
   "execution_count": null,
   "id": "07996108-b538-40c8-b9ac-194d20f65999",
   "metadata": {},
   "outputs": [],
   "source": [
    "nds"
   ]
  },
  {
   "cell_type": "code",
   "execution_count": null,
   "id": "4e904198-6e6d-4fe9-b1ab-c33be7f54d3a",
   "metadata": {},
   "outputs": [],
   "source": [
    "alllDS = xr.merge((allDS, nds))"
   ]
  },
  {
   "cell_type": "code",
   "execution_count": null,
   "id": "3f127ffb-46ae-4201-bf8d-9184197daf77",
   "metadata": {},
   "outputs": [],
   "source": [
    "alllDS"
   ]
  },
  {
   "cell_type": "code",
   "execution_count": 8,
   "id": "e5b5827c-66e3-466f-96ab-a4d3e5151285",
   "metadata": {},
   "outputs": [],
   "source": [
    "time1 = ds_WIND['TIME'].to_numpy()"
   ]
  },
  {
   "cell_type": "code",
   "execution_count": 15,
   "id": "f0b5801e-2f3b-4d26-b204-678b5eb029e1",
   "metadata": {},
   "outputs": [
    {
     "data": {
      "text/plain": [
       "array(600, dtype='timedelta64[s]')"
      ]
     },
     "execution_count": 15,
     "metadata": {},
     "output_type": "execute_result"
    }
   ],
   "source": [
    "np.array(abs(time1[0]- time1[1]), dtype='timedelta64[s]')"
   ]
  },
  {
   "cell_type": "code",
   "execution_count": null,
   "id": "2c22d7d1-4a49-4dab-b862-bf3e91bc7b25",
   "metadata": {},
   "outputs": [],
   "source": []
  }
 ],
 "metadata": {
  "kernelspec": {
   "display_name": "Python 3 (ipykernel)",
   "language": "python",
   "name": "python3"
  },
  "language_info": {
   "codemirror_mode": {
    "name": "ipython",
    "version": 3
   },
   "file_extension": ".py",
   "mimetype": "text/x-python",
   "name": "python",
   "nbconvert_exporter": "python",
   "pygments_lexer": "ipython3",
   "version": "3.11.6"
  }
 },
 "nbformat": 4,
 "nbformat_minor": 5
}
