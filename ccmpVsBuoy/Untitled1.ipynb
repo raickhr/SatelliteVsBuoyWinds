{
 "cells": [
  {
   "cell_type": "code",
   "execution_count": 1,
   "id": "dbaf7257-86f5-4162-bc8b-ac573ecd1617",
   "metadata": {},
   "outputs": [],
   "source": [
    "import pandas as pd\n",
    "from sklearn.model_selection import train_test_split\n",
    "from sklearn.ensemble import RandomForestClassifier\n",
    "from sklearn.metrics import classification_report, accuracy_score\n",
    "import xarray as xr\n",
    "import numpy as np\n",
    "import matplotlib.pyplot as plt\n",
    "from datetime import datetime, timedelta\n",
    "from glob import glob\n",
    "%matplotlib inline"
   ]
  },
  {
   "cell_type": "code",
   "execution_count": 2,
   "id": "9449fd71-2fa8-4a53-805d-a5449fda0049",
   "metadata": {},
   "outputs": [],
   "source": [
    "ds = xr.open_dataset('CCMPandBuoyDataBadQualityRemovedMatchup.nc')\n",
    "df = ds.to_dataframe()\n",
    "df_orig = df.copy()"
   ]
  },
  {
   "cell_type": "code",
   "execution_count": 3,
   "id": "ee2bb69c-915c-423f-97fd-fd329cbac465",
   "metadata": {},
   "outputs": [],
   "source": [
    "df['cos(Direction Difference (CCMP - TAO))'] = np.cos(np.deg2rad(df['Direction Difference (CCMP - TAO)']))\n",
    "df['sin(Direction Difference (CCMP - TAO))'] = np.sin(np.deg2rad(df['Direction Difference (CCMP - TAO)']))\n",
    "\n",
    "\n",
    "for timeWindow in range(20,130,10):\n",
    "    df[f'cos(Direction Difference (CCMP - TAO {timeWindow} min mean))'] = np.cos(np.deg2rad(df[f'Direction Difference (CCMP - TAO {timeWindow} min mean)']))\n",
    "    df[f'sin(Direction Difference (CCMP - TAO {timeWindow} min mean))'] = np.sin(np.deg2rad(df[f'Direction Difference (CCMP - TAO {timeWindow} min mean)']))"
   ]
  },
  {
   "cell_type": "code",
   "execution_count": null,
   "id": "76b8bb2b-44aa-498c-88d4-565754408e8e",
   "metadata": {},
   "outputs": [],
   "source": [
    "data = allDF\n",
    "data['RAIN_LABEL'] = data['mean_RAIN'].apply(lambda x: 1 if x > 1 else 0)\n",
    "\n",
    "# Features to use for classification\n",
    "features = ['mean_WSPD', 'mean_SST', 'mean_AIRT', 'mean_RELH', 'std_WSPD', 'std_cosWDIR', 'std_sinWDIR', 'std_SST', 'std_AIRT', 'std_RELH']\n",
    "\n",
    "# Split the dataset into features (X) and target (y)\n",
    "X = data[features]\n",
    "y = data['RAIN_LABEL']\n",
    "\n",
    "# Split the data into training and testing sets\n",
    "X_train, X_test, y_train, y_test = train_test_split(X, y, test_size=0.2, random_state=42)\n",
    "\n",
    "# Initialize and train a RandomForest Classifier\n",
    "classifier = RandomForestClassifier(random_state=42, n_jobs=-1)\n",
    "classifier.fit(X_train, y_train)\n",
    "\n",
    "# Make predictions on the test set\n",
    "y_pred = classifier.predict(X_test)\n",
    "\n",
    "# Evaluate the classifier performance\n",
    "print(\"Accuracy:\", accuracy_score(y_test, y_pred))\n",
    "print(\"\\nClassification Report:\\n\", classification_report(y_test, y_pred))"
   ]
  }
 ],
 "metadata": {
  "kernelspec": {
   "display_name": "Python 3 (ipykernel)",
   "language": "python",
   "name": "python3"
  },
  "language_info": {
   "codemirror_mode": {
    "name": "ipython",
    "version": 3
   },
   "file_extension": ".py",
   "mimetype": "text/x-python",
   "name": "python",
   "nbconvert_exporter": "python",
   "pygments_lexer": "ipython3",
   "version": "3.11.6"
  }
 },
 "nbformat": 4,
 "nbformat_minor": 5
}
