{
 "cells": [
  {
   "cell_type": "code",
   "execution_count": 1,
   "id": "4a0bb63a-ef7c-402d-b0b4-3cfa7d6002c0",
   "metadata": {},
   "outputs": [],
   "source": [
    "from sklearn.cluster import KMeans\n",
    "import numpy as np\n",
    "import matplotlib.pyplot as plt\n",
    "\n",
    "from matplotlib import cm\n",
    "import matplotlib.cbook as cbook\n",
    "import matplotlib.colors as colors\n",
    "\n",
    "import pandas as pd\n",
    "import xarray as xr\n",
    "from netCDF4 import Dataset, num2date, date2num\n",
    "from datetime import datetime, timedelta\n",
    "import os\n",
    "\n",
    "import seaborn as sns\n",
    "import cmocean as cmocn\n",
    "\n",
    "%matplotlib inline"
   ]
  },
  {
   "cell_type": "code",
   "execution_count": 2,
   "id": "72b80663-359d-4c5b-a1ee-7dbbb98d3f24",
   "metadata": {
    "scrolled": true
   },
   "outputs": [
    {
     "data": {
      "text/html": [
       "<div><svg style=\"position: absolute; width: 0; height: 0; overflow: hidden\">\n",
       "<defs>\n",
       "<symbol id=\"icon-database\" viewBox=\"0 0 32 32\">\n",
       "<path d=\"M16 0c-8.837 0-16 2.239-16 5v4c0 2.761 7.163 5 16 5s16-2.239 16-5v-4c0-2.761-7.163-5-16-5z\"></path>\n",
       "<path d=\"M16 17c-8.837 0-16-2.239-16-5v6c0 2.761 7.163 5 16 5s16-2.239 16-5v-6c0 2.761-7.163 5-16 5z\"></path>\n",
       "<path d=\"M16 26c-8.837 0-16-2.239-16-5v6c0 2.761 7.163 5 16 5s16-2.239 16-5v-6c0 2.761-7.163 5-16 5z\"></path>\n",
       "</symbol>\n",
       "<symbol id=\"icon-file-text2\" viewBox=\"0 0 32 32\">\n",
       "<path d=\"M28.681 7.159c-0.694-0.947-1.662-2.053-2.724-3.116s-2.169-2.030-3.116-2.724c-1.612-1.182-2.393-1.319-2.841-1.319h-15.5c-1.378 0-2.5 1.121-2.5 2.5v27c0 1.378 1.122 2.5 2.5 2.5h23c1.378 0 2.5-1.122 2.5-2.5v-19.5c0-0.448-0.137-1.23-1.319-2.841zM24.543 5.457c0.959 0.959 1.712 1.825 2.268 2.543h-4.811v-4.811c0.718 0.556 1.584 1.309 2.543 2.268zM28 29.5c0 0.271-0.229 0.5-0.5 0.5h-23c-0.271 0-0.5-0.229-0.5-0.5v-27c0-0.271 0.229-0.5 0.5-0.5 0 0 15.499-0 15.5 0v7c0 0.552 0.448 1 1 1h7v19.5z\"></path>\n",
       "<path d=\"M23 26h-14c-0.552 0-1-0.448-1-1s0.448-1 1-1h14c0.552 0 1 0.448 1 1s-0.448 1-1 1z\"></path>\n",
       "<path d=\"M23 22h-14c-0.552 0-1-0.448-1-1s0.448-1 1-1h14c0.552 0 1 0.448 1 1s-0.448 1-1 1z\"></path>\n",
       "<path d=\"M23 18h-14c-0.552 0-1-0.448-1-1s0.448-1 1-1h14c0.552 0 1 0.448 1 1s-0.448 1-1 1z\"></path>\n",
       "</symbol>\n",
       "</defs>\n",
       "</svg>\n",
       "<style>/* CSS stylesheet for displaying xarray objects in jupyterlab.\n",
       " *\n",
       " */\n",
       "\n",
       ":root {\n",
       "  --xr-font-color0: var(--jp-content-font-color0, rgba(0, 0, 0, 1));\n",
       "  --xr-font-color2: var(--jp-content-font-color2, rgba(0, 0, 0, 0.54));\n",
       "  --xr-font-color3: var(--jp-content-font-color3, rgba(0, 0, 0, 0.38));\n",
       "  --xr-border-color: var(--jp-border-color2, #e0e0e0);\n",
       "  --xr-disabled-color: var(--jp-layout-color3, #bdbdbd);\n",
       "  --xr-background-color: var(--jp-layout-color0, white);\n",
       "  --xr-background-color-row-even: var(--jp-layout-color1, white);\n",
       "  --xr-background-color-row-odd: var(--jp-layout-color2, #eeeeee);\n",
       "}\n",
       "\n",
       "html[theme=dark],\n",
       "body[data-theme=dark],\n",
       "body.vscode-dark {\n",
       "  --xr-font-color0: rgba(255, 255, 255, 1);\n",
       "  --xr-font-color2: rgba(255, 255, 255, 0.54);\n",
       "  --xr-font-color3: rgba(255, 255, 255, 0.38);\n",
       "  --xr-border-color: #1F1F1F;\n",
       "  --xr-disabled-color: #515151;\n",
       "  --xr-background-color: #111111;\n",
       "  --xr-background-color-row-even: #111111;\n",
       "  --xr-background-color-row-odd: #313131;\n",
       "}\n",
       "\n",
       ".xr-wrap {\n",
       "  display: block !important;\n",
       "  min-width: 300px;\n",
       "  max-width: 700px;\n",
       "}\n",
       "\n",
       ".xr-text-repr-fallback {\n",
       "  /* fallback to plain text repr when CSS is not injected (untrusted notebook) */\n",
       "  display: none;\n",
       "}\n",
       "\n",
       ".xr-header {\n",
       "  padding-top: 6px;\n",
       "  padding-bottom: 6px;\n",
       "  margin-bottom: 4px;\n",
       "  border-bottom: solid 1px var(--xr-border-color);\n",
       "}\n",
       "\n",
       ".xr-header > div,\n",
       ".xr-header > ul {\n",
       "  display: inline;\n",
       "  margin-top: 0;\n",
       "  margin-bottom: 0;\n",
       "}\n",
       "\n",
       ".xr-obj-type,\n",
       ".xr-array-name {\n",
       "  margin-left: 2px;\n",
       "  margin-right: 10px;\n",
       "}\n",
       "\n",
       ".xr-obj-type {\n",
       "  color: var(--xr-font-color2);\n",
       "}\n",
       "\n",
       ".xr-sections {\n",
       "  padding-left: 0 !important;\n",
       "  display: grid;\n",
       "  grid-template-columns: 150px auto auto 1fr 20px 20px;\n",
       "}\n",
       "\n",
       ".xr-section-item {\n",
       "  display: contents;\n",
       "}\n",
       "\n",
       ".xr-section-item input {\n",
       "  display: none;\n",
       "}\n",
       "\n",
       ".xr-section-item input + label {\n",
       "  color: var(--xr-disabled-color);\n",
       "}\n",
       "\n",
       ".xr-section-item input:enabled + label {\n",
       "  cursor: pointer;\n",
       "  color: var(--xr-font-color2);\n",
       "}\n",
       "\n",
       ".xr-section-item input:enabled + label:hover {\n",
       "  color: var(--xr-font-color0);\n",
       "}\n",
       "\n",
       ".xr-section-summary {\n",
       "  grid-column: 1;\n",
       "  color: var(--xr-font-color2);\n",
       "  font-weight: 500;\n",
       "}\n",
       "\n",
       ".xr-section-summary > span {\n",
       "  display: inline-block;\n",
       "  padding-left: 0.5em;\n",
       "}\n",
       "\n",
       ".xr-section-summary-in:disabled + label {\n",
       "  color: var(--xr-font-color2);\n",
       "}\n",
       "\n",
       ".xr-section-summary-in + label:before {\n",
       "  display: inline-block;\n",
       "  content: '►';\n",
       "  font-size: 11px;\n",
       "  width: 15px;\n",
       "  text-align: center;\n",
       "}\n",
       "\n",
       ".xr-section-summary-in:disabled + label:before {\n",
       "  color: var(--xr-disabled-color);\n",
       "}\n",
       "\n",
       ".xr-section-summary-in:checked + label:before {\n",
       "  content: '▼';\n",
       "}\n",
       "\n",
       ".xr-section-summary-in:checked + label > span {\n",
       "  display: none;\n",
       "}\n",
       "\n",
       ".xr-section-summary,\n",
       ".xr-section-inline-details {\n",
       "  padding-top: 4px;\n",
       "  padding-bottom: 4px;\n",
       "}\n",
       "\n",
       ".xr-section-inline-details {\n",
       "  grid-column: 2 / -1;\n",
       "}\n",
       "\n",
       ".xr-section-details {\n",
       "  display: none;\n",
       "  grid-column: 1 / -1;\n",
       "  margin-bottom: 5px;\n",
       "}\n",
       "\n",
       ".xr-section-summary-in:checked ~ .xr-section-details {\n",
       "  display: contents;\n",
       "}\n",
       "\n",
       ".xr-array-wrap {\n",
       "  grid-column: 1 / -1;\n",
       "  display: grid;\n",
       "  grid-template-columns: 20px auto;\n",
       "}\n",
       "\n",
       ".xr-array-wrap > label {\n",
       "  grid-column: 1;\n",
       "  vertical-align: top;\n",
       "}\n",
       "\n",
       ".xr-preview {\n",
       "  color: var(--xr-font-color3);\n",
       "}\n",
       "\n",
       ".xr-array-preview,\n",
       ".xr-array-data {\n",
       "  padding: 0 5px !important;\n",
       "  grid-column: 2;\n",
       "}\n",
       "\n",
       ".xr-array-data,\n",
       ".xr-array-in:checked ~ .xr-array-preview {\n",
       "  display: none;\n",
       "}\n",
       "\n",
       ".xr-array-in:checked ~ .xr-array-data,\n",
       ".xr-array-preview {\n",
       "  display: inline-block;\n",
       "}\n",
       "\n",
       ".xr-dim-list {\n",
       "  display: inline-block !important;\n",
       "  list-style: none;\n",
       "  padding: 0 !important;\n",
       "  margin: 0;\n",
       "}\n",
       "\n",
       ".xr-dim-list li {\n",
       "  display: inline-block;\n",
       "  padding: 0;\n",
       "  margin: 0;\n",
       "}\n",
       "\n",
       ".xr-dim-list:before {\n",
       "  content: '(';\n",
       "}\n",
       "\n",
       ".xr-dim-list:after {\n",
       "  content: ')';\n",
       "}\n",
       "\n",
       ".xr-dim-list li:not(:last-child):after {\n",
       "  content: ',';\n",
       "  padding-right: 5px;\n",
       "}\n",
       "\n",
       ".xr-has-index {\n",
       "  font-weight: bold;\n",
       "}\n",
       "\n",
       ".xr-var-list,\n",
       ".xr-var-item {\n",
       "  display: contents;\n",
       "}\n",
       "\n",
       ".xr-var-item > div,\n",
       ".xr-var-item label,\n",
       ".xr-var-item > .xr-var-name span {\n",
       "  background-color: var(--xr-background-color-row-even);\n",
       "  margin-bottom: 0;\n",
       "}\n",
       "\n",
       ".xr-var-item > .xr-var-name:hover span {\n",
       "  padding-right: 5px;\n",
       "}\n",
       "\n",
       ".xr-var-list > li:nth-child(odd) > div,\n",
       ".xr-var-list > li:nth-child(odd) > label,\n",
       ".xr-var-list > li:nth-child(odd) > .xr-var-name span {\n",
       "  background-color: var(--xr-background-color-row-odd);\n",
       "}\n",
       "\n",
       ".xr-var-name {\n",
       "  grid-column: 1;\n",
       "}\n",
       "\n",
       ".xr-var-dims {\n",
       "  grid-column: 2;\n",
       "}\n",
       "\n",
       ".xr-var-dtype {\n",
       "  grid-column: 3;\n",
       "  text-align: right;\n",
       "  color: var(--xr-font-color2);\n",
       "}\n",
       "\n",
       ".xr-var-preview {\n",
       "  grid-column: 4;\n",
       "}\n",
       "\n",
       ".xr-index-preview {\n",
       "  grid-column: 2 / 5;\n",
       "  color: var(--xr-font-color2);\n",
       "}\n",
       "\n",
       ".xr-var-name,\n",
       ".xr-var-dims,\n",
       ".xr-var-dtype,\n",
       ".xr-preview,\n",
       ".xr-attrs dt {\n",
       "  white-space: nowrap;\n",
       "  overflow: hidden;\n",
       "  text-overflow: ellipsis;\n",
       "  padding-right: 10px;\n",
       "}\n",
       "\n",
       ".xr-var-name:hover,\n",
       ".xr-var-dims:hover,\n",
       ".xr-var-dtype:hover,\n",
       ".xr-attrs dt:hover {\n",
       "  overflow: visible;\n",
       "  width: auto;\n",
       "  z-index: 1;\n",
       "}\n",
       "\n",
       ".xr-var-attrs,\n",
       ".xr-var-data,\n",
       ".xr-index-data {\n",
       "  display: none;\n",
       "  background-color: var(--xr-background-color) !important;\n",
       "  padding-bottom: 5px !important;\n",
       "}\n",
       "\n",
       ".xr-var-attrs-in:checked ~ .xr-var-attrs,\n",
       ".xr-var-data-in:checked ~ .xr-var-data,\n",
       ".xr-index-data-in:checked ~ .xr-index-data {\n",
       "  display: block;\n",
       "}\n",
       "\n",
       ".xr-var-data > table {\n",
       "  float: right;\n",
       "}\n",
       "\n",
       ".xr-var-name span,\n",
       ".xr-var-data,\n",
       ".xr-index-name div,\n",
       ".xr-index-data,\n",
       ".xr-attrs {\n",
       "  padding-left: 25px !important;\n",
       "}\n",
       "\n",
       ".xr-attrs,\n",
       ".xr-var-attrs,\n",
       ".xr-var-data,\n",
       ".xr-index-data {\n",
       "  grid-column: 1 / -1;\n",
       "}\n",
       "\n",
       "dl.xr-attrs {\n",
       "  padding: 0;\n",
       "  margin: 0;\n",
       "  display: grid;\n",
       "  grid-template-columns: 125px auto;\n",
       "}\n",
       "\n",
       ".xr-attrs dt,\n",
       ".xr-attrs dd {\n",
       "  padding: 0;\n",
       "  margin: 0;\n",
       "  float: left;\n",
       "  padding-right: 10px;\n",
       "  width: auto;\n",
       "}\n",
       "\n",
       ".xr-attrs dt {\n",
       "  font-weight: normal;\n",
       "  grid-column: 1;\n",
       "}\n",
       "\n",
       ".xr-attrs dt:hover span {\n",
       "  display: inline-block;\n",
       "  background: var(--xr-background-color);\n",
       "  padding-right: 10px;\n",
       "}\n",
       "\n",
       ".xr-attrs dd {\n",
       "  grid-column: 2;\n",
       "  white-space: pre-wrap;\n",
       "  word-break: break-all;\n",
       "}\n",
       "\n",
       ".xr-icon-database,\n",
       ".xr-icon-file-text2,\n",
       ".xr-no-icon {\n",
       "  display: inline-block;\n",
       "  vertical-align: middle;\n",
       "  width: 1em;\n",
       "  height: 1.5em !important;\n",
       "  stroke-width: 0;\n",
       "  stroke: currentColor;\n",
       "  fill: currentColor;\n",
       "}\n",
       "</style><pre class='xr-text-repr-fallback'>&lt;xarray.Dataset&gt;\n",
       "Dimensions:                           (QS_TIME: 4989, cross_track: 3,\n",
       "                                       ambiguities: 4, TIME: 6762, HEIGHT: 3,\n",
       "                                       DEPTH: 1)\n",
       "Coordinates:\n",
       "  * QS_TIME                           (QS_TIME) datetime64[ns] 2000-01-01T03:...\n",
       "  * cross_track                       (cross_track) int64 0 1 2\n",
       "  * ambiguities                       (ambiguities) int64 0 1 2 3\n",
       "  * TIME                              (TIME) datetime64[ns] 2000-01-01T03:51:...\n",
       "  * HEIGHT                            (HEIGHT) float32 3.0 4.0 10.0\n",
       "  * DEPTH                             (DEPTH) float32 1.0\n",
       "Data variables: (12/63)\n",
       "    retrieved_wind_speed              (QS_TIME, cross_track) float64 ...\n",
       "    retrieved_wind_direction          (QS_TIME, cross_track) float64 ...\n",
       "    rain_impact                       (QS_TIME, cross_track) float64 ...\n",
       "    flags                             (QS_TIME, cross_track) float64 ...\n",
       "    eflags                            (QS_TIME, cross_track) float64 ...\n",
       "    nudge_wind_speed                  (QS_TIME, cross_track) float64 ...\n",
       "    ...                                ...\n",
       "    std_U10N_y                        (QS_TIME) float64 ...\n",
       "    mean_cosWDIR                      (QS_TIME) float64 ...\n",
       "    std_cosWDIR                       (QS_TIME) float64 ...\n",
       "    mean_sinWDIR                      (QS_TIME) float64 ...\n",
       "    std_sinWDIR                       (QS_TIME) float64 ...\n",
       "    TAO_TIME                          (QS_TIME) datetime64[ns] ...</pre><div class='xr-wrap' style='display:none'><div class='xr-header'><div class='xr-obj-type'>xarray.Dataset</div></div><ul class='xr-sections'><li class='xr-section-item'><input id='section-7ef29830-f754-4206-8d98-8502b32deac8' class='xr-section-summary-in' type='checkbox' disabled ><label for='section-7ef29830-f754-4206-8d98-8502b32deac8' class='xr-section-summary'  title='Expand/collapse section'>Dimensions:</label><div class='xr-section-inline-details'><ul class='xr-dim-list'><li><span class='xr-has-index'>QS_TIME</span>: 4989</li><li><span class='xr-has-index'>cross_track</span>: 3</li><li><span class='xr-has-index'>ambiguities</span>: 4</li><li><span class='xr-has-index'>TIME</span>: 6762</li><li><span class='xr-has-index'>HEIGHT</span>: 3</li><li><span class='xr-has-index'>DEPTH</span>: 1</li></ul></div><div class='xr-section-details'></div></li><li class='xr-section-item'><input id='section-7f2e8cfb-2590-4796-9300-cd37f7b10c62' class='xr-section-summary-in' type='checkbox'  checked><label for='section-7f2e8cfb-2590-4796-9300-cd37f7b10c62' class='xr-section-summary' >Coordinates: <span>(6)</span></label><div class='xr-section-inline-details'></div><div class='xr-section-details'><ul class='xr-var-list'><li class='xr-var-item'><div class='xr-var-name'><span class='xr-has-index'>QS_TIME</span></div><div class='xr-var-dims'>(QS_TIME)</div><div class='xr-var-dtype'>datetime64[ns]</div><div class='xr-var-preview xr-preview'>2000-01-01T03:51:47.710247688 .....</div><input id='attrs-0d24799e-48c8-4320-bae4-a61e2d2c68ee' class='xr-var-attrs-in' type='checkbox' ><label for='attrs-0d24799e-48c8-4320-bae4-a61e2d2c68ee' title='Show/Hide attributes'><svg class='icon xr-icon-file-text2'><use xlink:href='#icon-file-text2'></use></svg></label><input id='data-3b678d63-5425-4ee3-b52b-fedc5442e188' class='xr-var-data-in' type='checkbox'><label for='data-3b678d63-5425-4ee3-b52b-fedc5442e188' title='Show/Hide data repr'><svg class='icon xr-icon-database'><use xlink:href='#icon-database'></use></svg></label><div class='xr-var-attrs'><dl class='xr-attrs'><dt><span>long_name :</span></dt><dd>date and time</dd><dt><span>featureType :</span></dt><dd>trajectory</dd></dl></div><div class='xr-var-data'><pre>array([&#x27;2000-01-01T03:51:47.710247688&#x27;, &#x27;2000-01-01T03:51:49.577488348&#x27;,\n",
       "       &#x27;2000-01-03T03:01:44.439731404&#x27;, ..., &#x27;2006-12-31T03:41:26.024466272&#x27;,\n",
       "       &#x27;2006-12-31T14:43:25.589127008&#x27;, &#x27;2006-12-31T14:43:27.455223232&#x27;],\n",
       "      dtype=&#x27;datetime64[ns]&#x27;)</pre></div></li><li class='xr-var-item'><div class='xr-var-name'><span class='xr-has-index'>cross_track</span></div><div class='xr-var-dims'>(cross_track)</div><div class='xr-var-dtype'>int64</div><div class='xr-var-preview xr-preview'>0 1 2</div><input id='attrs-ea2d4827-ee05-42a5-856e-3e7707c8a077' class='xr-var-attrs-in' type='checkbox' disabled><label for='attrs-ea2d4827-ee05-42a5-856e-3e7707c8a077' title='Show/Hide attributes'><svg class='icon xr-icon-file-text2'><use xlink:href='#icon-file-text2'></use></svg></label><input id='data-01120ca2-d851-4008-9f6a-c377418afb3c' class='xr-var-data-in' type='checkbox'><label for='data-01120ca2-d851-4008-9f6a-c377418afb3c' title='Show/Hide data repr'><svg class='icon xr-icon-database'><use xlink:href='#icon-database'></use></svg></label><div class='xr-var-attrs'><dl class='xr-attrs'></dl></div><div class='xr-var-data'><pre>array([0, 1, 2])</pre></div></li><li class='xr-var-item'><div class='xr-var-name'><span class='xr-has-index'>ambiguities</span></div><div class='xr-var-dims'>(ambiguities)</div><div class='xr-var-dtype'>int64</div><div class='xr-var-preview xr-preview'>0 1 2 3</div><input id='attrs-be2184a9-c1c1-4194-a07b-a5d444537695' class='xr-var-attrs-in' type='checkbox' disabled><label for='attrs-be2184a9-c1c1-4194-a07b-a5d444537695' title='Show/Hide attributes'><svg class='icon xr-icon-file-text2'><use xlink:href='#icon-file-text2'></use></svg></label><input id='data-ac2c577e-bd7a-4086-9afd-d1459d55101f' class='xr-var-data-in' type='checkbox'><label for='data-ac2c577e-bd7a-4086-9afd-d1459d55101f' title='Show/Hide data repr'><svg class='icon xr-icon-database'><use xlink:href='#icon-database'></use></svg></label><div class='xr-var-attrs'><dl class='xr-attrs'></dl></div><div class='xr-var-data'><pre>array([0, 1, 2, 3])</pre></div></li><li class='xr-var-item'><div class='xr-var-name'><span class='xr-has-index'>TIME</span></div><div class='xr-var-dims'>(TIME)</div><div class='xr-var-dtype'>datetime64[ns]</div><div class='xr-var-preview xr-preview'>2000-01-01T03:51:47 ... 2006-12-...</div><input id='attrs-fa607a54-43f7-4b8a-bfd6-30425a865cf1' class='xr-var-attrs-in' type='checkbox' disabled><label for='attrs-fa607a54-43f7-4b8a-bfd6-30425a865cf1' title='Show/Hide attributes'><svg class='icon xr-icon-file-text2'><use xlink:href='#icon-file-text2'></use></svg></label><input id='data-6016c4a6-3b63-4c76-b056-36b65fd96af1' class='xr-var-data-in' type='checkbox'><label for='data-6016c4a6-3b63-4c76-b056-36b65fd96af1' title='Show/Hide data repr'><svg class='icon xr-icon-database'><use xlink:href='#icon-database'></use></svg></label><div class='xr-var-attrs'><dl class='xr-attrs'></dl></div><div class='xr-var-data'><pre>array([&#x27;2000-01-01T03:51:47.000000000&#x27;, &#x27;2000-01-01T03:51:49.000000000&#x27;,\n",
       "       &#x27;2000-01-03T03:01:44.000000000&#x27;, ..., &#x27;2006-12-31T03:41:26.000000000&#x27;,\n",
       "       &#x27;2006-12-31T14:43:25.000000000&#x27;, &#x27;2006-12-31T14:43:27.000000000&#x27;],\n",
       "      dtype=&#x27;datetime64[ns]&#x27;)</pre></div></li><li class='xr-var-item'><div class='xr-var-name'><span class='xr-has-index'>HEIGHT</span></div><div class='xr-var-dims'>(HEIGHT)</div><div class='xr-var-dtype'>float32</div><div class='xr-var-preview xr-preview'>3.0 4.0 10.0</div><input id='attrs-2318f4c5-4c30-4b9e-8900-41b12499a469' class='xr-var-attrs-in' type='checkbox' ><label for='attrs-2318f4c5-4c30-4b9e-8900-41b12499a469' title='Show/Hide attributes'><svg class='icon xr-icon-file-text2'><use xlink:href='#icon-file-text2'></use></svg></label><input id='data-57250484-700e-4f56-ace1-53de6ca9a278' class='xr-var-data-in' type='checkbox'><label for='data-57250484-700e-4f56-ace1-53de6ca9a278' title='Show/Hide data repr'><svg class='icon xr-icon-database'><use xlink:href='#icon-database'></use></svg></label><div class='xr-var-attrs'><dl class='xr-attrs'><dt><span>standard_name :</span></dt><dd>height</dd><dt><span>long_name :</span></dt><dd>Nominal height of each measurement</dd><dt><span>units :</span></dt><dd>meters</dd><dt><span>valid_min :</span></dt><dd>0.0</dd><dt><span>valid_max :</span></dt><dd>4.0</dd><dt><span>axis :</span></dt><dd>Z</dd><dt><span>positive :</span></dt><dd>up</dd><dt><span>reference :</span></dt><dd>sea_level</dd><dt><span>coordinate_reference_frame :</span></dt><dd>urn:ogc:crs:EPSG::5829</dd></dl></div><div class='xr-var-data'><pre>array([ 3.,  4., 10.], dtype=float32)</pre></div></li><li class='xr-var-item'><div class='xr-var-name'><span class='xr-has-index'>DEPTH</span></div><div class='xr-var-dims'>(DEPTH)</div><div class='xr-var-dtype'>float32</div><div class='xr-var-preview xr-preview'>1.0</div><input id='attrs-063fe0e7-bfeb-406b-b37c-6bb304cc5e12' class='xr-var-attrs-in' type='checkbox' ><label for='attrs-063fe0e7-bfeb-406b-b37c-6bb304cc5e12' title='Show/Hide attributes'><svg class='icon xr-icon-file-text2'><use xlink:href='#icon-file-text2'></use></svg></label><input id='data-51bafc74-4e42-432b-9b48-67675f23956e' class='xr-var-data-in' type='checkbox'><label for='data-51bafc74-4e42-432b-9b48-67675f23956e' title='Show/Hide data repr'><svg class='icon xr-icon-database'><use xlink:href='#icon-database'></use></svg></label><div class='xr-var-attrs'><dl class='xr-attrs'><dt><span>standard_name :</span></dt><dd>depth</dd><dt><span>long_name :</span></dt><dd>Nominal depth of each measurement</dd><dt><span>units :</span></dt><dd>meters</dd><dt><span>valid_min :</span></dt><dd>0.0</dd><dt><span>valid_max :</span></dt><dd>500.0</dd><dt><span>axis :</span></dt><dd>Z</dd><dt><span>positive :</span></dt><dd>down</dd><dt><span>reference :</span></dt><dd>sea_level</dd><dt><span>coordinate_reference_frame :</span></dt><dd>urn:ogc:crs:EPSG::5831</dd></dl></div><div class='xr-var-data'><pre>array([1.], dtype=float32)</pre></div></li></ul></div></li><li class='xr-section-item'><input id='section-eaa28952-f521-45cf-ad8b-049514463b5f' class='xr-section-summary-in' type='checkbox'  ><label for='section-eaa28952-f521-45cf-ad8b-049514463b5f' class='xr-section-summary' >Data variables: <span>(63)</span></label><div class='xr-section-inline-details'></div><div class='xr-section-details'><ul class='xr-var-list'><li class='xr-var-item'><div class='xr-var-name'><span>retrieved_wind_speed</span></div><div class='xr-var-dims'>(QS_TIME, cross_track)</div><div class='xr-var-dtype'>float64</div><div class='xr-var-preview xr-preview'>...</div><input id='attrs-4e26e9b2-9272-4115-a4b3-5626f02a4121' class='xr-var-attrs-in' type='checkbox' ><label for='attrs-4e26e9b2-9272-4115-a4b3-5626f02a4121' title='Show/Hide attributes'><svg class='icon xr-icon-file-text2'><use xlink:href='#icon-file-text2'></use></svg></label><input id='data-2076a3ed-49db-45d2-802c-1f43fd50d24b' class='xr-var-data-in' type='checkbox'><label for='data-2076a3ed-49db-45d2-802c-1f43fd50d24b' title='Show/Hide data repr'><svg class='icon xr-icon-database'><use xlink:href='#icon-database'></use></svg></label><div class='xr-var-attrs'><dl class='xr-attrs'><dt><span>valid_min :</span></dt><dd>0.0</dd><dt><span>valid_max :</span></dt><dd>100.0</dd><dt><span>long_name :</span></dt><dd>equivalent neutral wind speed at 10 m</dd><dt><span>standard_name :</span></dt><dd>wind_speed</dd><dt><span>units :</span></dt><dd>m s-1</dd></dl></div><div class='xr-var-data'><pre>[14967 values with dtype=float64]</pre></div></li><li class='xr-var-item'><div class='xr-var-name'><span>retrieved_wind_direction</span></div><div class='xr-var-dims'>(QS_TIME, cross_track)</div><div class='xr-var-dtype'>float64</div><div class='xr-var-preview xr-preview'>...</div><input id='attrs-6093188c-e39d-427d-9112-75937ccf5c90' class='xr-var-attrs-in' type='checkbox' ><label for='attrs-6093188c-e39d-427d-9112-75937ccf5c90' title='Show/Hide attributes'><svg class='icon xr-icon-file-text2'><use xlink:href='#icon-file-text2'></use></svg></label><input id='data-b1cf889e-995f-449e-9396-8661d16f931d' class='xr-var-data-in' type='checkbox'><label for='data-b1cf889e-995f-449e-9396-8661d16f931d' title='Show/Hide data repr'><svg class='icon xr-icon-database'><use xlink:href='#icon-database'></use></svg></label><div class='xr-var-attrs'><dl class='xr-attrs'><dt><span>valid_min :</span></dt><dd>0.0</dd><dt><span>valid_max :</span></dt><dd>360.0</dd><dt><span>long_name :</span></dt><dd>equivalent neutral wind direction at 10 m</dd><dt><span>standard_name :</span></dt><dd>wind_to_direction</dd><dt><span>units :</span></dt><dd>degrees</dd></dl></div><div class='xr-var-data'><pre>[14967 values with dtype=float64]</pre></div></li><li class='xr-var-item'><div class='xr-var-name'><span>rain_impact</span></div><div class='xr-var-dims'>(QS_TIME, cross_track)</div><div class='xr-var-dtype'>float64</div><div class='xr-var-preview xr-preview'>...</div><input id='attrs-0806d28d-284f-42aa-b0f0-39bdf98abf40' class='xr-var-attrs-in' type='checkbox' ><label for='attrs-0806d28d-284f-42aa-b0f0-39bdf98abf40' title='Show/Hide attributes'><svg class='icon xr-icon-file-text2'><use xlink:href='#icon-file-text2'></use></svg></label><input id='data-74852704-1766-4324-b750-a15c2126dc2f' class='xr-var-data-in' type='checkbox'><label for='data-74852704-1766-4324-b750-a15c2126dc2f' title='Show/Hide data repr'><svg class='icon xr-icon-database'><use xlink:href='#icon-database'></use></svg></label><div class='xr-var-attrs'><dl class='xr-attrs'><dt><span>valid_min :</span></dt><dd>0.0</dd><dt><span>valid_max :</span></dt><dd>100.0</dd><dt><span>long_name :</span></dt><dd>impact of rain upon wind vector retrieval</dd><dt><span>units :</span></dt><dd>1</dd></dl></div><div class='xr-var-data'><pre>[14967 values with dtype=float64]</pre></div></li><li class='xr-var-item'><div class='xr-var-name'><span>flags</span></div><div class='xr-var-dims'>(QS_TIME, cross_track)</div><div class='xr-var-dtype'>float64</div><div class='xr-var-preview xr-preview'>...</div><input id='attrs-d3075b48-465b-40c6-bbe4-77457c8c4468' class='xr-var-attrs-in' type='checkbox' ><label for='attrs-d3075b48-465b-40c6-bbe4-77457c8c4468' title='Show/Hide attributes'><svg class='icon xr-icon-file-text2'><use xlink:href='#icon-file-text2'></use></svg></label><input id='data-0a1e8f91-6395-480b-a2f3-90449189087e' class='xr-var-data-in' type='checkbox'><label for='data-0a1e8f91-6395-480b-a2f3-90449189087e' title='Show/Hide data repr'><svg class='icon xr-icon-database'><use xlink:href='#icon-database'></use></svg></label><div class='xr-var-attrs'><dl class='xr-attrs'><dt><span>valid_min :</span></dt><dd>0</dd><dt><span>long_name :</span></dt><dd>wind vector cell quality flags</dd><dt><span>units :</span></dt><dd>bit</dd><dt><span>flag_masks :</span></dt><dd>1s, 2s, 32s, 64s, 128s, 256s, 512s, 1024s, 2048s, 4096s, 8192s, 16384s</dd><dt><span>flag_meanings :</span></dt><dd>adequate_sigma0_flag adequate_azimuth_diversity_flag poor_coastal_processing_flag wind_retrieval_likely_corrupted_flag coastal_flag ice_edge_flag winds_not_retrieved_flag high_wind_speed_flag low_wind_speed_flag rain_impact_flag_not_usable_flag rain_impact_flag missing_look_flag </dd><dt><span>valid_max :</span></dt><dd>32739.0</dd></dl></div><div class='xr-var-data'><pre>[14967 values with dtype=float64]</pre></div></li><li class='xr-var-item'><div class='xr-var-name'><span>eflags</span></div><div class='xr-var-dims'>(QS_TIME, cross_track)</div><div class='xr-var-dtype'>float64</div><div class='xr-var-preview xr-preview'>...</div><input id='attrs-ab08357d-af2a-42a0-a11f-b61baeb1dbe6' class='xr-var-attrs-in' type='checkbox' ><label for='attrs-ab08357d-af2a-42a0-a11f-b61baeb1dbe6' title='Show/Hide attributes'><svg class='icon xr-icon-file-text2'><use xlink:href='#icon-file-text2'></use></svg></label><input id='data-6d48c0cd-f365-4658-9dd6-ca230740b0ff' class='xr-var-data-in' type='checkbox'><label for='data-6d48c0cd-f365-4658-9dd6-ca230740b0ff' title='Show/Hide data repr'><svg class='icon xr-icon-database'><use xlink:href='#icon-database'></use></svg></label><div class='xr-var-attrs'><dl class='xr-attrs'><dt><span>valid_min :</span></dt><dd>0</dd><dt><span>long_name :</span></dt><dd>extended wind vector cell quality flags</dd><dt><span>units :</span></dt><dd>bit</dd><dt><span>flag_masks :</span></dt><dd>1s, 2s, 4s, 8s, 16s, 64s, 256s, 512s, 1024s, 2048s, 4096s</dd><dt><span>flag_meanings :</span></dt><dd>rain_correction_not_applied_flag correction_produced_negative_spd_flag all_ambiguities_contribute_to_nudging_flag large_rain_correction_flag coastal_processing_applied_flag lake_winds_flag rain_nearby_flag ice_nearby_flag significant_rain_correction_flag rain_correction_applied_flag wind_retrieval_possibly_corrupted_flag </dd><dt><span>valid_max :</span></dt><dd>7967.0</dd></dl></div><div class='xr-var-data'><pre>[14967 values with dtype=float64]</pre></div></li><li class='xr-var-item'><div class='xr-var-name'><span>nudge_wind_speed</span></div><div class='xr-var-dims'>(QS_TIME, cross_track)</div><div class='xr-var-dtype'>float64</div><div class='xr-var-preview xr-preview'>...</div><input id='attrs-a23ac5d7-b27e-4f83-8764-3469bf6b11b0' class='xr-var-attrs-in' type='checkbox' ><label for='attrs-a23ac5d7-b27e-4f83-8764-3469bf6b11b0' title='Show/Hide attributes'><svg class='icon xr-icon-file-text2'><use xlink:href='#icon-file-text2'></use></svg></label><input id='data-3d31ee60-bc0e-42e9-a97e-b5c06562eb63' class='xr-var-data-in' type='checkbox'><label for='data-3d31ee60-bc0e-42e9-a97e-b5c06562eb63' title='Show/Hide data repr'><svg class='icon xr-icon-database'><use xlink:href='#icon-database'></use></svg></label><div class='xr-var-attrs'><dl class='xr-attrs'><dt><span>valid_min :</span></dt><dd>0.0</dd><dt><span>valid_max :</span></dt><dd>100.0</dd><dt><span>long_name :</span></dt><dd>model wind speed</dd><dt><span>standard_name :</span></dt><dd>wind_speed</dd><dt><span>units :</span></dt><dd>m s-1</dd></dl></div><div class='xr-var-data'><pre>[14967 values with dtype=float64]</pre></div></li><li class='xr-var-item'><div class='xr-var-name'><span>nudge_wind_direction</span></div><div class='xr-var-dims'>(QS_TIME, cross_track)</div><div class='xr-var-dtype'>float64</div><div class='xr-var-preview xr-preview'>...</div><input id='attrs-c2365dbf-db51-4a62-8a49-9bc99fe19356' class='xr-var-attrs-in' type='checkbox' ><label for='attrs-c2365dbf-db51-4a62-8a49-9bc99fe19356' title='Show/Hide attributes'><svg class='icon xr-icon-file-text2'><use xlink:href='#icon-file-text2'></use></svg></label><input id='data-775eb52f-2b6c-48fe-93a2-f117761c0c58' class='xr-var-data-in' type='checkbox'><label for='data-775eb52f-2b6c-48fe-93a2-f117761c0c58' title='Show/Hide data repr'><svg class='icon xr-icon-database'><use xlink:href='#icon-database'></use></svg></label><div class='xr-var-attrs'><dl class='xr-attrs'><dt><span>valid_min :</span></dt><dd>0.0</dd><dt><span>valid_max :</span></dt><dd>360.0</dd><dt><span>long_name :</span></dt><dd>model wind direction</dd><dt><span>standard_name :</span></dt><dd>wind_to_direction</dd><dt><span>units :</span></dt><dd>degrees</dd></dl></div><div class='xr-var-data'><pre>[14967 values with dtype=float64]</pre></div></li><li class='xr-var-item'><div class='xr-var-name'><span>retrieved_wind_speed_uncorrected</span></div><div class='xr-var-dims'>(QS_TIME, cross_track)</div><div class='xr-var-dtype'>float64</div><div class='xr-var-preview xr-preview'>...</div><input id='attrs-b8e4cdf9-569e-48e8-83a0-edba40960918' class='xr-var-attrs-in' type='checkbox' ><label for='attrs-b8e4cdf9-569e-48e8-83a0-edba40960918' title='Show/Hide attributes'><svg class='icon xr-icon-file-text2'><use xlink:href='#icon-file-text2'></use></svg></label><input id='data-6a6a884b-6dab-4e7a-b455-1fb26fbc8864' class='xr-var-data-in' type='checkbox'><label for='data-6a6a884b-6dab-4e7a-b455-1fb26fbc8864' title='Show/Hide data repr'><svg class='icon xr-icon-database'><use xlink:href='#icon-database'></use></svg></label><div class='xr-var-attrs'><dl class='xr-attrs'><dt><span>valid_min :</span></dt><dd>0.0</dd><dt><span>valid_max :</span></dt><dd>100.0</dd><dt><span>long_name :</span></dt><dd>wind speed without rain correction</dd><dt><span>standard_name :</span></dt><dd>wind_speed</dd><dt><span>units :</span></dt><dd>m s-1</dd></dl></div><div class='xr-var-data'><pre>[14967 values with dtype=float64]</pre></div></li><li class='xr-var-item'><div class='xr-var-name'><span>cross_track_wind_speed_bias</span></div><div class='xr-var-dims'>(QS_TIME, cross_track)</div><div class='xr-var-dtype'>float64</div><div class='xr-var-preview xr-preview'>...</div><input id='attrs-1e2ad1ff-9d3a-41d0-a122-283eaf9c50c3' class='xr-var-attrs-in' type='checkbox' ><label for='attrs-1e2ad1ff-9d3a-41d0-a122-283eaf9c50c3' title='Show/Hide attributes'><svg class='icon xr-icon-file-text2'><use xlink:href='#icon-file-text2'></use></svg></label><input id='data-7c7d9c1c-3552-47b7-8737-b1eda18eccb5' class='xr-var-data-in' type='checkbox'><label for='data-7c7d9c1c-3552-47b7-8737-b1eda18eccb5' title='Show/Hide data repr'><svg class='icon xr-icon-database'><use xlink:href='#icon-database'></use></svg></label><div class='xr-var-attrs'><dl class='xr-attrs'><dt><span>valid_min :</span></dt><dd>-100.0</dd><dt><span>valid_max :</span></dt><dd>100.0</dd><dt><span>long_name :</span></dt><dd>relative wind speed bias with respect to sweet spot</dd><dt><span>units :</span></dt><dd>m s-1</dd></dl></div><div class='xr-var-data'><pre>[14967 values with dtype=float64]</pre></div></li><li class='xr-var-item'><div class='xr-var-name'><span>atmospheric_speed_bias</span></div><div class='xr-var-dims'>(QS_TIME, cross_track)</div><div class='xr-var-dtype'>float64</div><div class='xr-var-preview xr-preview'>...</div><input id='attrs-10e17075-fbbd-4ff3-a7f9-37df439a1031' class='xr-var-attrs-in' type='checkbox' ><label for='attrs-10e17075-fbbd-4ff3-a7f9-37df439a1031' title='Show/Hide attributes'><svg class='icon xr-icon-file-text2'><use xlink:href='#icon-file-text2'></use></svg></label><input id='data-d98bf96e-e8a7-486a-8826-4e1ff1b6234b' class='xr-var-data-in' type='checkbox'><label for='data-d98bf96e-e8a7-486a-8826-4e1ff1b6234b' title='Show/Hide data repr'><svg class='icon xr-icon-database'><use xlink:href='#icon-database'></use></svg></label><div class='xr-var-attrs'><dl class='xr-attrs'><dt><span>valid_min :</span></dt><dd>-100.0</dd><dt><span>valid_max :</span></dt><dd>100.0</dd><dt><span>long_name :</span></dt><dd>atmospheric speed bias</dd><dt><span>units :</span></dt><dd>m s-1</dd></dl></div><div class='xr-var-data'><pre>[14967 values with dtype=float64]</pre></div></li><li class='xr-var-item'><div class='xr-var-name'><span>wind_obj</span></div><div class='xr-var-dims'>(QS_TIME, cross_track)</div><div class='xr-var-dtype'>float64</div><div class='xr-var-preview xr-preview'>...</div><input id='attrs-a9d24aa1-35a5-4199-8ea8-9fcdfabff712' class='xr-var-attrs-in' type='checkbox' ><label for='attrs-a9d24aa1-35a5-4199-8ea8-9fcdfabff712' title='Show/Hide attributes'><svg class='icon xr-icon-file-text2'><use xlink:href='#icon-file-text2'></use></svg></label><input id='data-46dbb64c-7ee6-4dca-bc9e-8ab1c54b1795' class='xr-var-data-in' type='checkbox'><label for='data-46dbb64c-7ee6-4dca-bc9e-8ab1c54b1795' title='Show/Hide data repr'><svg class='icon xr-icon-database'><use xlink:href='#icon-database'></use></svg></label><div class='xr-var-attrs'><dl class='xr-attrs'><dt><span>valid_min :</span></dt><dd>-199.0</dd><dt><span>valid_max :</span></dt><dd>0.0</dd><dt><span>long_name :</span></dt><dd>retrieved wind objective function value</dd><dt><span>units :</span></dt><dd>1</dd></dl></div><div class='xr-var-data'><pre>[14967 values with dtype=float64]</pre></div></li><li class='xr-var-item'><div class='xr-var-name'><span>ambiguity_speed</span></div><div class='xr-var-dims'>(QS_TIME, cross_track, ambiguities)</div><div class='xr-var-dtype'>float64</div><div class='xr-var-preview xr-preview'>...</div><input id='attrs-be773d82-ae5d-429b-a97b-d2af2fa6df4c' class='xr-var-attrs-in' type='checkbox' ><label for='attrs-be773d82-ae5d-429b-a97b-d2af2fa6df4c' title='Show/Hide attributes'><svg class='icon xr-icon-file-text2'><use xlink:href='#icon-file-text2'></use></svg></label><input id='data-b586af00-18ab-4c59-8c1c-aa7d32daadd8' class='xr-var-data-in' type='checkbox'><label for='data-b586af00-18ab-4c59-8c1c-aa7d32daadd8' title='Show/Hide data repr'><svg class='icon xr-icon-database'><use xlink:href='#icon-database'></use></svg></label><div class='xr-var-attrs'><dl class='xr-attrs'><dt><span>valid_min :</span></dt><dd>0.0</dd><dt><span>valid_max :</span></dt><dd>100.0</dd><dt><span>long_name :</span></dt><dd>wind speed ambiguity</dd><dt><span>standard_name :</span></dt><dd>wind_speed</dd><dt><span>units :</span></dt><dd>m s-1</dd></dl></div><div class='xr-var-data'><pre>[59868 values with dtype=float64]</pre></div></li><li class='xr-var-item'><div class='xr-var-name'><span>ambiguity_direction</span></div><div class='xr-var-dims'>(QS_TIME, cross_track, ambiguities)</div><div class='xr-var-dtype'>float64</div><div class='xr-var-preview xr-preview'>...</div><input id='attrs-c68be445-36d0-449a-9d8c-2dcafecb883f' class='xr-var-attrs-in' type='checkbox' ><label for='attrs-c68be445-36d0-449a-9d8c-2dcafecb883f' title='Show/Hide attributes'><svg class='icon xr-icon-file-text2'><use xlink:href='#icon-file-text2'></use></svg></label><input id='data-5907058a-5b2a-4e6b-83f9-d5e934501acd' class='xr-var-data-in' type='checkbox'><label for='data-5907058a-5b2a-4e6b-83f9-d5e934501acd' title='Show/Hide data repr'><svg class='icon xr-icon-database'><use xlink:href='#icon-database'></use></svg></label><div class='xr-var-attrs'><dl class='xr-attrs'><dt><span>valid_min :</span></dt><dd>0.0</dd><dt><span>valid_max :</span></dt><dd>360.0</dd><dt><span>long_name :</span></dt><dd>wind direction ambiguity</dd><dt><span>standard_name :</span></dt><dd>wind_to_direction</dd><dt><span>units :</span></dt><dd>degrees</dd></dl></div><div class='xr-var-data'><pre>[59868 values with dtype=float64]</pre></div></li><li class='xr-var-item'><div class='xr-var-name'><span>ambiguity_obj</span></div><div class='xr-var-dims'>(QS_TIME, cross_track, ambiguities)</div><div class='xr-var-dtype'>float64</div><div class='xr-var-preview xr-preview'>...</div><input id='attrs-4ca20a38-06e9-425b-9940-03d6ad5af6ef' class='xr-var-attrs-in' type='checkbox' ><label for='attrs-4ca20a38-06e9-425b-9940-03d6ad5af6ef' title='Show/Hide attributes'><svg class='icon xr-icon-file-text2'><use xlink:href='#icon-file-text2'></use></svg></label><input id='data-d812d9e4-2a4e-463b-89d3-891b0e697445' class='xr-var-data-in' type='checkbox'><label for='data-d812d9e4-2a4e-463b-89d3-891b0e697445' title='Show/Hide data repr'><svg class='icon xr-icon-database'><use xlink:href='#icon-database'></use></svg></label><div class='xr-var-attrs'><dl class='xr-attrs'><dt><span>valid_min :</span></dt><dd>-199.0</dd><dt><span>valid_max :</span></dt><dd>0.0</dd><dt><span>long_name :</span></dt><dd>wind objective function values</dd><dt><span>units :</span></dt><dd>1</dd></dl></div><div class='xr-var-data'><pre>[59868 values with dtype=float64]</pre></div></li><li class='xr-var-item'><div class='xr-var-name'><span>number_in_fore</span></div><div class='xr-var-dims'>(QS_TIME, cross_track)</div><div class='xr-var-dtype'>float64</div><div class='xr-var-preview xr-preview'>...</div><input id='attrs-07e3383a-b62d-40e3-99e1-1ad4e507eace' class='xr-var-attrs-in' type='checkbox' ><label for='attrs-07e3383a-b62d-40e3-99e1-1ad4e507eace' title='Show/Hide attributes'><svg class='icon xr-icon-file-text2'><use xlink:href='#icon-file-text2'></use></svg></label><input id='data-1d4de5c7-6b2d-49a0-9f2b-90bff99db58b' class='xr-var-data-in' type='checkbox'><label for='data-1d4de5c7-6b2d-49a0-9f2b-90bff99db58b' title='Show/Hide data repr'><svg class='icon xr-icon-database'><use xlink:href='#icon-database'></use></svg></label><div class='xr-var-attrs'><dl class='xr-attrs'><dt><span>valid_min :</span></dt><dd>1</dd><dt><span>valid_max :</span></dt><dd>127</dd><dt><span>long_name :</span></dt><dd>number of inner forward looks in wind vector cell</dd><dt><span>units :</span></dt><dd>1</dd></dl></div><div class='xr-var-data'><pre>[14967 values with dtype=float64]</pre></div></li><li class='xr-var-item'><div class='xr-var-name'><span>number_in_aft</span></div><div class='xr-var-dims'>(QS_TIME, cross_track)</div><div class='xr-var-dtype'>float64</div><div class='xr-var-preview xr-preview'>...</div><input id='attrs-c5cca750-2d4d-4c5f-ba67-a3d5d469c6d6' class='xr-var-attrs-in' type='checkbox' ><label for='attrs-c5cca750-2d4d-4c5f-ba67-a3d5d469c6d6' title='Show/Hide attributes'><svg class='icon xr-icon-file-text2'><use xlink:href='#icon-file-text2'></use></svg></label><input id='data-89a59f67-1dd4-4667-a741-7e542f13963d' class='xr-var-data-in' type='checkbox'><label for='data-89a59f67-1dd4-4667-a741-7e542f13963d' title='Show/Hide data repr'><svg class='icon xr-icon-database'><use xlink:href='#icon-database'></use></svg></label><div class='xr-var-attrs'><dl class='xr-attrs'><dt><span>valid_min :</span></dt><dd>1</dd><dt><span>valid_max :</span></dt><dd>127</dd><dt><span>long_name :</span></dt><dd>number of inner aft looks in wind vector cell</dd><dt><span>units :</span></dt><dd>1</dd></dl></div><div class='xr-var-data'><pre>[14967 values with dtype=float64]</pre></div></li><li class='xr-var-item'><div class='xr-var-name'><span>number_out_fore</span></div><div class='xr-var-dims'>(QS_TIME, cross_track)</div><div class='xr-var-dtype'>float64</div><div class='xr-var-preview xr-preview'>...</div><input id='attrs-0a8a8738-7f35-434f-b5ee-1e43325c07c1' class='xr-var-attrs-in' type='checkbox' ><label for='attrs-0a8a8738-7f35-434f-b5ee-1e43325c07c1' title='Show/Hide attributes'><svg class='icon xr-icon-file-text2'><use xlink:href='#icon-file-text2'></use></svg></label><input id='data-ec9c7de3-e257-4fb6-bfe6-0d8a0ee0d31c' class='xr-var-data-in' type='checkbox'><label for='data-ec9c7de3-e257-4fb6-bfe6-0d8a0ee0d31c' title='Show/Hide data repr'><svg class='icon xr-icon-database'><use xlink:href='#icon-database'></use></svg></label><div class='xr-var-attrs'><dl class='xr-attrs'><dt><span>valid_min :</span></dt><dd>1</dd><dt><span>valid_max :</span></dt><dd>127</dd><dt><span>long_name :</span></dt><dd>number of outer forward looks in wind vector cell</dd><dt><span>units :</span></dt><dd>1</dd></dl></div><div class='xr-var-data'><pre>[14967 values with dtype=float64]</pre></div></li><li class='xr-var-item'><div class='xr-var-name'><span>number_out_aft</span></div><div class='xr-var-dims'>(QS_TIME, cross_track)</div><div class='xr-var-dtype'>float64</div><div class='xr-var-preview xr-preview'>...</div><input id='attrs-c804ccc5-dbf4-46d8-b004-f307db8c6aab' class='xr-var-attrs-in' type='checkbox' ><label for='attrs-c804ccc5-dbf4-46d8-b004-f307db8c6aab' title='Show/Hide attributes'><svg class='icon xr-icon-file-text2'><use xlink:href='#icon-file-text2'></use></svg></label><input id='data-56aaf417-3aea-4721-af50-cfad2adb4742' class='xr-var-data-in' type='checkbox'><label for='data-56aaf417-3aea-4721-af50-cfad2adb4742' title='Show/Hide data repr'><svg class='icon xr-icon-database'><use xlink:href='#icon-database'></use></svg></label><div class='xr-var-attrs'><dl class='xr-attrs'><dt><span>valid_min :</span></dt><dd>1</dd><dt><span>valid_max :</span></dt><dd>127</dd><dt><span>long_name :</span></dt><dd>number of outer aft looks in wind vector cell</dd><dt><span>units :</span></dt><dd>1</dd></dl></div><div class='xr-var-data'><pre>[14967 values with dtype=float64]</pre></div></li><li class='xr-var-item'><div class='xr-var-name'><span>gmf_sst</span></div><div class='xr-var-dims'>(QS_TIME, cross_track)</div><div class='xr-var-dtype'>float64</div><div class='xr-var-preview xr-preview'>...</div><input id='attrs-d2103509-49ba-47ce-9ea2-99b7b70f2360' class='xr-var-attrs-in' type='checkbox' ><label for='attrs-d2103509-49ba-47ce-9ea2-99b7b70f2360' title='Show/Hide attributes'><svg class='icon xr-icon-file-text2'><use xlink:href='#icon-file-text2'></use></svg></label><input id='data-ef373305-6ff6-4159-96b0-acc248af8632' class='xr-var-data-in' type='checkbox'><label for='data-ef373305-6ff6-4159-96b0-acc248af8632' title='Show/Hide data repr'><svg class='icon xr-icon-database'><use xlink:href='#icon-database'></use></svg></label><div class='xr-var-attrs'><dl class='xr-attrs'><dt><span>valid_min :</span></dt><dd>-1000.0</dd><dt><span>valid_max :</span></dt><dd>1000.0</dd><dt><span>long_name :</span></dt><dd>Sea Surface Temperature Used in Geophysical Model Function</dd><dt><span>comment :</span></dt><dd>Sea Surface Temperature from NCAR Optimum Interpolation V2 product used during wind retrieval.</dd><dt><span>units :</span></dt><dd>Degrees Celsius</dd></dl></div><div class='xr-var-data'><pre>[14967 values with dtype=float64]</pre></div></li><li class='xr-var-item'><div class='xr-var-name'><span>distance_from_coast</span></div><div class='xr-var-dims'>(QS_TIME, cross_track)</div><div class='xr-var-dtype'>float64</div><div class='xr-var-preview xr-preview'>...</div><input id='attrs-045d7027-fc5f-48e3-81cc-ea5cae2408be' class='xr-var-attrs-in' type='checkbox' ><label for='attrs-045d7027-fc5f-48e3-81cc-ea5cae2408be' title='Show/Hide attributes'><svg class='icon xr-icon-file-text2'><use xlink:href='#icon-file-text2'></use></svg></label><input id='data-dddb7b76-d8db-4e6a-ade0-cb6ef843e3b3' class='xr-var-data-in' type='checkbox'><label for='data-dddb7b76-d8db-4e6a-ade0-cb6ef843e3b3' title='Show/Hide data repr'><svg class='icon xr-icon-database'><use xlink:href='#icon-database'></use></svg></label><div class='xr-var-attrs'><dl class='xr-attrs'><dt><span>valid_min :</span></dt><dd>-25000.0</dd><dt><span>valid_max :</span></dt><dd>25000.0</dd><dt><span>long_name :</span></dt><dd>Distance from nearest coastline</dd><dt><span>units :</span></dt><dd>km</dd></dl></div><div class='xr-var-data'><pre>[14967 values with dtype=float64]</pre></div></li><li class='xr-var-item'><div class='xr-var-name'><span>exp_bias_wrt_oceanward_neighbors</span></div><div class='xr-var-dims'>(QS_TIME, cross_track)</div><div class='xr-var-dtype'>float64</div><div class='xr-var-preview xr-preview'>...</div><input id='attrs-094da03d-b6e6-4d38-945e-ab37bb0bc6f5' class='xr-var-attrs-in' type='checkbox' ><label for='attrs-094da03d-b6e6-4d38-945e-ab37bb0bc6f5' title='Show/Hide attributes'><svg class='icon xr-icon-file-text2'><use xlink:href='#icon-file-text2'></use></svg></label><input id='data-93ac5ffe-f14f-4b3e-9a4e-48c6121229a0' class='xr-var-data-in' type='checkbox'><label for='data-93ac5ffe-f14f-4b3e-9a4e-48c6121229a0' title='Show/Hide data repr'><svg class='icon xr-icon-database'><use xlink:href='#icon-database'></use></svg></label><div class='xr-var-attrs'><dl class='xr-attrs'><dt><span>valid_min :</span></dt><dd>-1000.0</dd><dt><span>valid_max :</span></dt><dd>1000.0</dd><dt><span>long_name :</span></dt><dd>expected bias with respect to oceanward neighboring cells</dd><dt><span>comment :</span></dt><dd>Expected bias between the current cell and geographically oceanward neighboring cells.</dd><dt><span>units :</span></dt><dd>m s-1</dd></dl></div><div class='xr-var-data'><pre>[14967 values with dtype=float64]</pre></div></li><li class='xr-var-item'><div class='xr-var-name'><span>WDIR</span></div><div class='xr-var-dims'>(QS_TIME, HEIGHT)</div><div class='xr-var-dtype'>float32</div><div class='xr-var-preview xr-preview'>...</div><input id='attrs-d41727e3-74b5-482f-9fb0-0392dfa3e544' class='xr-var-attrs-in' type='checkbox' disabled><label for='attrs-d41727e3-74b5-482f-9fb0-0392dfa3e544' title='Show/Hide attributes'><svg class='icon xr-icon-file-text2'><use xlink:href='#icon-file-text2'></use></svg></label><input id='data-227ca508-a547-4095-a7ad-e46cdc0a1752' class='xr-var-data-in' type='checkbox'><label for='data-227ca508-a547-4095-a7ad-e46cdc0a1752' title='Show/Hide data repr'><svg class='icon xr-icon-database'><use xlink:href='#icon-database'></use></svg></label><div class='xr-var-attrs'><dl class='xr-attrs'></dl></div><div class='xr-var-data'><pre>[14967 values with dtype=float32]</pre></div></li><li class='xr-var-item'><div class='xr-var-name'><span>WDIR_QC</span></div><div class='xr-var-dims'>(QS_TIME, HEIGHT)</div><div class='xr-var-dtype'>float32</div><div class='xr-var-preview xr-preview'>...</div><input id='attrs-650004c2-1cab-4c9b-83ba-d7481f3b3956' class='xr-var-attrs-in' type='checkbox' ><label for='attrs-650004c2-1cab-4c9b-83ba-d7481f3b3956' title='Show/Hide attributes'><svg class='icon xr-icon-file-text2'><use xlink:href='#icon-file-text2'></use></svg></label><input id='data-a4871d5c-47f5-4bd8-ab8d-ef18c53c9f6d' class='xr-var-data-in' type='checkbox'><label for='data-a4871d5c-47f5-4bd8-ab8d-ef18c53c9f6d' title='Show/Hide data repr'><svg class='icon xr-icon-database'><use xlink:href='#icon-database'></use></svg></label><div class='xr-var-attrs'><dl class='xr-attrs'><dt><span>long_name :</span></dt><dd>quality flag</dd><dt><span>valid_min :</span></dt><dd>0</dd><dt><span>valid_max :</span></dt><dd>9</dd><dt><span>flag_values :</span></dt><dd>[0 1 2 3 4 5 9]</dd><dt><span>flag_meanings :</span></dt><dd>unknown good_data probably_good_data questionable_data bad_data adjusted_data missing_data</dd><dt><span>coordinates :</span></dt><dd>TIME HEIGHT LATITUDE LONGITUDE</dd></dl></div><div class='xr-var-data'><pre>[14967 values with dtype=float32]</pre></div></li><li class='xr-var-item'><div class='xr-var-name'><span>WDIR_DM</span></div><div class='xr-var-dims'>(QS_TIME, HEIGHT)</div><div class='xr-var-dtype'>|S1</div><div class='xr-var-preview xr-preview'>...</div><input id='attrs-07c6f561-8221-4c9f-9930-d156a678de63' class='xr-var-attrs-in' type='checkbox' ><label for='attrs-07c6f561-8221-4c9f-9930-d156a678de63' title='Show/Hide attributes'><svg class='icon xr-icon-file-text2'><use xlink:href='#icon-file-text2'></use></svg></label><input id='data-876a60dc-a47e-4e9d-b0fd-b034fff70821' class='xr-var-data-in' type='checkbox'><label for='data-876a60dc-a47e-4e9d-b0fd-b034fff70821' title='Show/Hide data repr'><svg class='icon xr-icon-database'><use xlink:href='#icon-database'></use></svg></label><div class='xr-var-attrs'><dl class='xr-attrs'><dt><span>long_name :</span></dt><dd>data mode</dd><dt><span>flag_values :</span></dt><dd>R, P, D, M</dd><dt><span>flag_meanings :</span></dt><dd>real-time provisional delayed-mode mixed</dd><dt><span>coordinates :</span></dt><dd>TIME HEIGHT LATITUDE LONGITUDE</dd></dl></div><div class='xr-var-data'><pre>[14967 values with dtype=|S1]</pre></div></li><li class='xr-var-item'><div class='xr-var-name'><span>WSPD</span></div><div class='xr-var-dims'>(QS_TIME, HEIGHT)</div><div class='xr-var-dtype'>float32</div><div class='xr-var-preview xr-preview'>...</div><input id='attrs-fa08b5cf-3a81-4a14-8e0b-839164e2beac' class='xr-var-attrs-in' type='checkbox' ><label for='attrs-fa08b5cf-3a81-4a14-8e0b-839164e2beac' title='Show/Hide attributes'><svg class='icon xr-icon-file-text2'><use xlink:href='#icon-file-text2'></use></svg></label><input id='data-eb64e9b5-abc4-4bdf-a4a6-40004c6dcfea' class='xr-var-data-in' type='checkbox'><label for='data-eb64e9b5-abc4-4bdf-a4a6-40004c6dcfea' title='Show/Hide data repr'><svg class='icon xr-icon-database'><use xlink:href='#icon-database'></use></svg></label><div class='xr-var-attrs'><dl class='xr-attrs'><dt><span>standard_name :</span></dt><dd>wind_speed</dd><dt><span>long_name :</span></dt><dd>Wind Speed</dd><dt><span>units :</span></dt><dd>meters/second</dd><dt><span>valid_min :</span></dt><dd>0.0</dd><dt><span>valid_max :</span></dt><dd>20.0</dd><dt><span>accuracy :</span></dt><dd>0.3 meters/second or 3%</dd><dt><span>resolution :</span></dt><dd>0.2</dd><dt><span>sensor_name :</span></dt><dd>Wind Propeller [R.M. Young/05103]</dd><dt><span>sensor_serial_number :</span></dt><dd>WIND-25651</dd><dt><span>ancillary_variables :</span></dt><dd>WSPD_QC WSPD_DM</dd><dt><span>cell_methods :</span></dt><dd>TIME: mean (interval: 2 minutes) HEIGHT:point LATITUDE:point LONGITUDE:point</dd><dt><span>coordinates :</span></dt><dd>TIME HEIGHT LATITUDE LONGITUDE</dd></dl></div><div class='xr-var-data'><pre>[14967 values with dtype=float32]</pre></div></li><li class='xr-var-item'><div class='xr-var-name'><span>WSPD_QC</span></div><div class='xr-var-dims'>(QS_TIME, HEIGHT)</div><div class='xr-var-dtype'>float32</div><div class='xr-var-preview xr-preview'>...</div><input id='attrs-7895cdbb-7824-4dc9-a3a8-8d2ac55bbcd6' class='xr-var-attrs-in' type='checkbox' ><label for='attrs-7895cdbb-7824-4dc9-a3a8-8d2ac55bbcd6' title='Show/Hide attributes'><svg class='icon xr-icon-file-text2'><use xlink:href='#icon-file-text2'></use></svg></label><input id='data-a6bcd85a-8c3c-4050-8edb-d6c2e0530860' class='xr-var-data-in' type='checkbox'><label for='data-a6bcd85a-8c3c-4050-8edb-d6c2e0530860' title='Show/Hide data repr'><svg class='icon xr-icon-database'><use xlink:href='#icon-database'></use></svg></label><div class='xr-var-attrs'><dl class='xr-attrs'><dt><span>long_name :</span></dt><dd>quality flag</dd><dt><span>valid_min :</span></dt><dd>0</dd><dt><span>valid_max :</span></dt><dd>9</dd><dt><span>flag_values :</span></dt><dd>[0 1 2 3 4 5 9]</dd><dt><span>flag_meanings :</span></dt><dd>unknown good_data probably_good_data questionable_data bad_data adjusted_data missing_data</dd><dt><span>coordinates :</span></dt><dd>TIME HEIGHT LATITUDE LONGITUDE</dd></dl></div><div class='xr-var-data'><pre>[14967 values with dtype=float32]</pre></div></li><li class='xr-var-item'><div class='xr-var-name'><span>WSPD_DM</span></div><div class='xr-var-dims'>(QS_TIME, HEIGHT)</div><div class='xr-var-dtype'>|S1</div><div class='xr-var-preview xr-preview'>...</div><input id='attrs-f403c252-316e-4b09-837f-6d9adcea545a' class='xr-var-attrs-in' type='checkbox' ><label for='attrs-f403c252-316e-4b09-837f-6d9adcea545a' title='Show/Hide attributes'><svg class='icon xr-icon-file-text2'><use xlink:href='#icon-file-text2'></use></svg></label><input id='data-9ea176d3-c6fe-4c2b-9a33-bf3030c516a8' class='xr-var-data-in' type='checkbox'><label for='data-9ea176d3-c6fe-4c2b-9a33-bf3030c516a8' title='Show/Hide data repr'><svg class='icon xr-icon-database'><use xlink:href='#icon-database'></use></svg></label><div class='xr-var-attrs'><dl class='xr-attrs'><dt><span>long_name :</span></dt><dd>data mode</dd><dt><span>flag_values :</span></dt><dd>R, P, D, M</dd><dt><span>flag_meanings :</span></dt><dd>real-time provisional delayed-mode mixed</dd><dt><span>coordinates :</span></dt><dd>TIME HEIGHT LATITUDE LONGITUDE</dd></dl></div><div class='xr-var-data'><pre>[14967 values with dtype=|S1]</pre></div></li><li class='xr-var-item'><div class='xr-var-name'><span>UWND</span></div><div class='xr-var-dims'>(QS_TIME, HEIGHT)</div><div class='xr-var-dtype'>float32</div><div class='xr-var-preview xr-preview'>...</div><input id='attrs-aad9354a-4d27-46f3-808e-f92d8009a2f1' class='xr-var-attrs-in' type='checkbox' ><label for='attrs-aad9354a-4d27-46f3-808e-f92d8009a2f1' title='Show/Hide attributes'><svg class='icon xr-icon-file-text2'><use xlink:href='#icon-file-text2'></use></svg></label><input id='data-b7e0be27-ab24-4c7d-bfa8-c5325536b289' class='xr-var-data-in' type='checkbox'><label for='data-b7e0be27-ab24-4c7d-bfa8-c5325536b289' title='Show/Hide data repr'><svg class='icon xr-icon-database'><use xlink:href='#icon-database'></use></svg></label><div class='xr-var-attrs'><dl class='xr-attrs'><dt><span>standard_name :</span></dt><dd>eastward_wind</dd><dt><span>long_name :</span></dt><dd>Wind Speed U Component</dd><dt><span>units :</span></dt><dd>meters/second</dd><dt><span>valid_min :</span></dt><dd>0.0</dd><dt><span>valid_max :</span></dt><dd>20.0</dd><dt><span>accuracy :</span></dt><dd>0.3 meters/second or 3%</dd><dt><span>resolution :</span></dt><dd>0.2</dd><dt><span>sensor_name :</span></dt><dd>Wind Propeller [R.M. Young/05103]</dd><dt><span>sensor_serial_number :</span></dt><dd>WIND-25651</dd><dt><span>ancillary_variables :</span></dt><dd>WDIR_QC WDIR_DM WSPD_QC WSPD_DM</dd><dt><span>cell_methods :</span></dt><dd>TIME: mean (interval: 2 minutes) HEIGHT:point LATITUDE:point LONGITUDE:point</dd><dt><span>coordinates :</span></dt><dd>TIME HEIGHT LATITUDE LONGITUDE</dd></dl></div><div class='xr-var-data'><pre>[14967 values with dtype=float32]</pre></div></li><li class='xr-var-item'><div class='xr-var-name'><span>VWND</span></div><div class='xr-var-dims'>(QS_TIME, HEIGHT)</div><div class='xr-var-dtype'>float32</div><div class='xr-var-preview xr-preview'>...</div><input id='attrs-cbec05e8-dcdc-4733-917a-65c21c039295' class='xr-var-attrs-in' type='checkbox' ><label for='attrs-cbec05e8-dcdc-4733-917a-65c21c039295' title='Show/Hide attributes'><svg class='icon xr-icon-file-text2'><use xlink:href='#icon-file-text2'></use></svg></label><input id='data-9d8c4627-10e3-4f55-b5a7-4d5f487f78fa' class='xr-var-data-in' type='checkbox'><label for='data-9d8c4627-10e3-4f55-b5a7-4d5f487f78fa' title='Show/Hide data repr'><svg class='icon xr-icon-database'><use xlink:href='#icon-database'></use></svg></label><div class='xr-var-attrs'><dl class='xr-attrs'><dt><span>standard_name :</span></dt><dd>northward_wind</dd><dt><span>long_name :</span></dt><dd>Wind Speed V Component</dd><dt><span>units :</span></dt><dd>meters/second</dd><dt><span>valid_min :</span></dt><dd>0.0</dd><dt><span>valid_max :</span></dt><dd>20.0</dd><dt><span>accuracy :</span></dt><dd>0.3 meters/second or 3%</dd><dt><span>resolution :</span></dt><dd>0.2</dd><dt><span>sensor_name :</span></dt><dd>Wind Propeller [R.M. Young/05103]</dd><dt><span>sensor_serial_number :</span></dt><dd>WIND-25651</dd><dt><span>ancillary_variables :</span></dt><dd>WDIR_QC WDIR_DM WSPD_QC WSPD_DM</dd><dt><span>cell_methods :</span></dt><dd>TIME: mean (interval: 2 minutes) HEIGHT:point LATITUDE:point LONGITUDE:point</dd><dt><span>coordinates :</span></dt><dd>TIME HEIGHT LATITUDE LONGITUDE</dd></dl></div><div class='xr-var-data'><pre>[14967 values with dtype=float32]</pre></div></li><li class='xr-var-item'><div class='xr-var-name'><span>SST</span></div><div class='xr-var-dims'>(QS_TIME, DEPTH)</div><div class='xr-var-dtype'>float32</div><div class='xr-var-preview xr-preview'>...</div><input id='attrs-b185dd00-ac70-409e-af91-3b9d380182f6' class='xr-var-attrs-in' type='checkbox' ><label for='attrs-b185dd00-ac70-409e-af91-3b9d380182f6' title='Show/Hide attributes'><svg class='icon xr-icon-file-text2'><use xlink:href='#icon-file-text2'></use></svg></label><input id='data-1bf1239f-d688-4f7a-a22b-518b5e94a0af' class='xr-var-data-in' type='checkbox'><label for='data-1bf1239f-d688-4f7a-a22b-518b5e94a0af' title='Show/Hide data repr'><svg class='icon xr-icon-database'><use xlink:href='#icon-database'></use></svg></label><div class='xr-var-attrs'><dl class='xr-attrs'><dt><span>standard_name :</span></dt><dd>sea_surface_temperature</dd><dt><span>long_name :</span></dt><dd>Sea Surface Temperature</dd><dt><span>units :</span></dt><dd>degree_Celsius</dd><dt><span>valid_min :</span></dt><dd>-5.0</dd><dt><span>valid_max :</span></dt><dd>35.0</dd><dt><span>accuracy :</span></dt><dd>0.003</dd><dt><span>resolution :</span></dt><dd>0.001</dd><dt><span>sensor_name :</span></dt><dd>Thermistor [Seabird/SBE 16/37]</dd><dt><span>sensor_serial_number :</span></dt><dd>SST-11928/1m </dd><dt><span>ancillary_variables :</span></dt><dd>SST_QC SST_DM</dd><dt><span>cell_methods :</span></dt><dd>TIME:point DEPTH:point LATITUDE:point LONGITUDE:point</dd><dt><span>reference_scale :</span></dt><dd>ITS-90</dd><dt><span>coordinates :</span></dt><dd>TIME DEPTH LATITUDE LONGITUDE</dd></dl></div><div class='xr-var-data'><pre>[4989 values with dtype=float32]</pre></div></li><li class='xr-var-item'><div class='xr-var-name'><span>SST_QC</span></div><div class='xr-var-dims'>(QS_TIME, DEPTH)</div><div class='xr-var-dtype'>float32</div><div class='xr-var-preview xr-preview'>...</div><input id='attrs-e35524a1-dc12-479e-b6d3-56bb787468f2' class='xr-var-attrs-in' type='checkbox' ><label for='attrs-e35524a1-dc12-479e-b6d3-56bb787468f2' title='Show/Hide attributes'><svg class='icon xr-icon-file-text2'><use xlink:href='#icon-file-text2'></use></svg></label><input id='data-fbd7e713-122d-479d-a568-ad5470d3584b' class='xr-var-data-in' type='checkbox'><label for='data-fbd7e713-122d-479d-a568-ad5470d3584b' title='Show/Hide data repr'><svg class='icon xr-icon-database'><use xlink:href='#icon-database'></use></svg></label><div class='xr-var-attrs'><dl class='xr-attrs'><dt><span>long_name :</span></dt><dd>quality flag</dd><dt><span>valid_min :</span></dt><dd>0</dd><dt><span>valid_max :</span></dt><dd>9</dd><dt><span>flag_values :</span></dt><dd>[0 1 2 3 4 5 9]</dd><dt><span>flag_meanings :</span></dt><dd>unknown good_data probably_good_data questionable_data bad_data adjusted_data missing_data</dd><dt><span>coordinates :</span></dt><dd>TIME DEPTH LATITUDE LONGITUDE</dd></dl></div><div class='xr-var-data'><pre>[4989 values with dtype=float32]</pre></div></li><li class='xr-var-item'><div class='xr-var-name'><span>SST_DM</span></div><div class='xr-var-dims'>(QS_TIME, DEPTH)</div><div class='xr-var-dtype'>|S1</div><div class='xr-var-preview xr-preview'>...</div><input id='attrs-55d7c5aa-5ef8-4591-9c65-d7772cd4ef44' class='xr-var-attrs-in' type='checkbox' ><label for='attrs-55d7c5aa-5ef8-4591-9c65-d7772cd4ef44' title='Show/Hide attributes'><svg class='icon xr-icon-file-text2'><use xlink:href='#icon-file-text2'></use></svg></label><input id='data-6b039fd3-e3e0-4eeb-aec0-9fcfa742f6b6' class='xr-var-data-in' type='checkbox'><label for='data-6b039fd3-e3e0-4eeb-aec0-9fcfa742f6b6' title='Show/Hide data repr'><svg class='icon xr-icon-database'><use xlink:href='#icon-database'></use></svg></label><div class='xr-var-attrs'><dl class='xr-attrs'><dt><span>long_name :</span></dt><dd>data mode</dd><dt><span>flag_values :</span></dt><dd>R, P, D, M</dd><dt><span>flag_meanings :</span></dt><dd>real-time provisional delayed-mode mixed</dd><dt><span>coordinates :</span></dt><dd>TIME DEPTH LATITUDE LONGITUDE</dd></dl></div><div class='xr-var-data'><pre>[4989 values with dtype=|S1]</pre></div></li><li class='xr-var-item'><div class='xr-var-name'><span>AIRT</span></div><div class='xr-var-dims'>(QS_TIME, HEIGHT)</div><div class='xr-var-dtype'>float32</div><div class='xr-var-preview xr-preview'>...</div><input id='attrs-88650335-a342-4224-9e7a-ec030436be6e' class='xr-var-attrs-in' type='checkbox' ><label for='attrs-88650335-a342-4224-9e7a-ec030436be6e' title='Show/Hide attributes'><svg class='icon xr-icon-file-text2'><use xlink:href='#icon-file-text2'></use></svg></label><input id='data-87a00f6c-a06a-4e41-b5d3-89b09c81d9aa' class='xr-var-data-in' type='checkbox'><label for='data-87a00f6c-a06a-4e41-b5d3-89b09c81d9aa' title='Show/Hide data repr'><svg class='icon xr-icon-database'><use xlink:href='#icon-database'></use></svg></label><div class='xr-var-attrs'><dl class='xr-attrs'><dt><span>standard_name :</span></dt><dd>air_temperature</dd><dt><span>long_name :</span></dt><dd>Air Temperature</dd><dt><span>units :</span></dt><dd>degree_Celsius</dd><dt><span>valid_min :</span></dt><dd>0.0</dd><dt><span>valid_max :</span></dt><dd>40.0</dd><dt><span>accuracy :</span></dt><dd>0.2 Degree C in range of 14-32 Degrees C</dd><dt><span>resolution :</span></dt><dd>0.01</dd><dt><span>sensor_name :</span></dt><dd>Humidity-temperature Pt100 RTD [Rotronics/MP101A]</dd><dt><span>sensor_serial_number :</span></dt><dd>AIR-56588</dd><dt><span>ancillary_variables :</span></dt><dd>AIRT_QC AIRT_DM</dd><dt><span>cell_methods :</span></dt><dd>TIME: mean (interval: 2 minutes) HEIGHT:point LATITUDE:point LONGITUDE:point</dd><dt><span>coordinates :</span></dt><dd>TIME HEIGHT LATITUDE LONGITUDE</dd></dl></div><div class='xr-var-data'><pre>[14967 values with dtype=float32]</pre></div></li><li class='xr-var-item'><div class='xr-var-name'><span>AIRT_QC</span></div><div class='xr-var-dims'>(QS_TIME, HEIGHT)</div><div class='xr-var-dtype'>float32</div><div class='xr-var-preview xr-preview'>...</div><input id='attrs-68631447-a349-4c98-b225-34f07fc857a4' class='xr-var-attrs-in' type='checkbox' ><label for='attrs-68631447-a349-4c98-b225-34f07fc857a4' title='Show/Hide attributes'><svg class='icon xr-icon-file-text2'><use xlink:href='#icon-file-text2'></use></svg></label><input id='data-35c038ca-47c0-4b95-8228-2c8ba9dae85a' class='xr-var-data-in' type='checkbox'><label for='data-35c038ca-47c0-4b95-8228-2c8ba9dae85a' title='Show/Hide data repr'><svg class='icon xr-icon-database'><use xlink:href='#icon-database'></use></svg></label><div class='xr-var-attrs'><dl class='xr-attrs'><dt><span>long_name :</span></dt><dd>quality flag</dd><dt><span>valid_min :</span></dt><dd>0</dd><dt><span>valid_max :</span></dt><dd>9</dd><dt><span>flag_values :</span></dt><dd>[0 1 2 3 4 5 9]</dd><dt><span>flag_meanings :</span></dt><dd>unknown good_data probably_good_data questionable_data bad_data adjusted_data missing_data</dd><dt><span>coordinates :</span></dt><dd>TIME HEIGHT LATITUDE LONGITUDE</dd></dl></div><div class='xr-var-data'><pre>[14967 values with dtype=float32]</pre></div></li><li class='xr-var-item'><div class='xr-var-name'><span>AIRT_DM</span></div><div class='xr-var-dims'>(QS_TIME, HEIGHT)</div><div class='xr-var-dtype'>|S1</div><div class='xr-var-preview xr-preview'>...</div><input id='attrs-fb81c2ba-a3fb-4804-b352-bbb8f8c57db6' class='xr-var-attrs-in' type='checkbox' ><label for='attrs-fb81c2ba-a3fb-4804-b352-bbb8f8c57db6' title='Show/Hide attributes'><svg class='icon xr-icon-file-text2'><use xlink:href='#icon-file-text2'></use></svg></label><input id='data-5b686ff3-f073-4949-a34c-4f77649b72ae' class='xr-var-data-in' type='checkbox'><label for='data-5b686ff3-f073-4949-a34c-4f77649b72ae' title='Show/Hide data repr'><svg class='icon xr-icon-database'><use xlink:href='#icon-database'></use></svg></label><div class='xr-var-attrs'><dl class='xr-attrs'><dt><span>long_name :</span></dt><dd>data mode</dd><dt><span>flag_values :</span></dt><dd>R, P, D, M</dd><dt><span>flag_meanings :</span></dt><dd>real-time provisional delayed-mode mixed</dd><dt><span>coordinates :</span></dt><dd>TIME HEIGHT LATITUDE LONGITUDE</dd></dl></div><div class='xr-var-data'><pre>[14967 values with dtype=|S1]</pre></div></li><li class='xr-var-item'><div class='xr-var-name'><span>RELH</span></div><div class='xr-var-dims'>(QS_TIME, HEIGHT)</div><div class='xr-var-dtype'>float32</div><div class='xr-var-preview xr-preview'>...</div><input id='attrs-2de1ede9-5550-4b98-9434-71d954fabd73' class='xr-var-attrs-in' type='checkbox' ><label for='attrs-2de1ede9-5550-4b98-9434-71d954fabd73' title='Show/Hide attributes'><svg class='icon xr-icon-file-text2'><use xlink:href='#icon-file-text2'></use></svg></label><input id='data-da58f678-705d-430c-bdc5-ed39de30f7e1' class='xr-var-data-in' type='checkbox'><label for='data-da58f678-705d-430c-bdc5-ed39de30f7e1' title='Show/Hide data repr'><svg class='icon xr-icon-database'><use xlink:href='#icon-database'></use></svg></label><div class='xr-var-attrs'><dl class='xr-attrs'><dt><span>standard_name :</span></dt><dd>relative_humidity</dd><dt><span>long_name :</span></dt><dd>Relative Humidity</dd><dt><span>units :</span></dt><dd>1</dd><dt><span>valid_min :</span></dt><dd>0.0</dd><dt><span>valid_max :</span></dt><dd>100.0</dd><dt><span>accuracy :</span></dt><dd>2.7%RH in range of 55-95 %RH</dd><dt><span>resolution :</span></dt><dd>0.4</dd><dt><span>sensor_name :</span></dt><dd>Humidity-temperature Capacitance [Rotronics/MP101A]</dd><dt><span>sensor_serial_number :</span></dt><dd>RH-56588</dd><dt><span>ancillary_variables :</span></dt><dd>RELH_QC RELH_DM</dd><dt><span>cell_methods :</span></dt><dd>TIME: mean (interval: 2 minutes) HEIGHT:point LATITUDE:point LONGITUDE:point</dd><dt><span>coordinates :</span></dt><dd>TIME HEIGHT LATITUDE LONGITUDE</dd></dl></div><div class='xr-var-data'><pre>[14967 values with dtype=float32]</pre></div></li><li class='xr-var-item'><div class='xr-var-name'><span>RELH_QC</span></div><div class='xr-var-dims'>(QS_TIME, HEIGHT)</div><div class='xr-var-dtype'>float32</div><div class='xr-var-preview xr-preview'>...</div><input id='attrs-effeb54c-1a2c-4fcf-8b2e-fe13c452d6de' class='xr-var-attrs-in' type='checkbox' ><label for='attrs-effeb54c-1a2c-4fcf-8b2e-fe13c452d6de' title='Show/Hide attributes'><svg class='icon xr-icon-file-text2'><use xlink:href='#icon-file-text2'></use></svg></label><input id='data-afee155c-2d7d-4e56-85b5-b6773773de72' class='xr-var-data-in' type='checkbox'><label for='data-afee155c-2d7d-4e56-85b5-b6773773de72' title='Show/Hide data repr'><svg class='icon xr-icon-database'><use xlink:href='#icon-database'></use></svg></label><div class='xr-var-attrs'><dl class='xr-attrs'><dt><span>long_name :</span></dt><dd>quality flag</dd><dt><span>valid_min :</span></dt><dd>0</dd><dt><span>valid_max :</span></dt><dd>9</dd><dt><span>flag_values :</span></dt><dd>[0 1 2 3 4 5 9]</dd><dt><span>flag_meanings :</span></dt><dd>unknown good_data probably_good_data questionable_data bad_data adjusted_data missing_data</dd><dt><span>coordinates :</span></dt><dd>TIME HEIGHT LATITUDE LONGITUDE</dd></dl></div><div class='xr-var-data'><pre>[14967 values with dtype=float32]</pre></div></li><li class='xr-var-item'><div class='xr-var-name'><span>RELH_DM</span></div><div class='xr-var-dims'>(QS_TIME, HEIGHT)</div><div class='xr-var-dtype'>|S1</div><div class='xr-var-preview xr-preview'>...</div><input id='attrs-c33b1c6d-91d5-4bea-8c66-24c196d5e3b4' class='xr-var-attrs-in' type='checkbox' ><label for='attrs-c33b1c6d-91d5-4bea-8c66-24c196d5e3b4' title='Show/Hide attributes'><svg class='icon xr-icon-file-text2'><use xlink:href='#icon-file-text2'></use></svg></label><input id='data-30d5657e-5e84-4774-a9c6-861b87a65578' class='xr-var-data-in' type='checkbox'><label for='data-30d5657e-5e84-4774-a9c6-861b87a65578' title='Show/Hide data repr'><svg class='icon xr-icon-database'><use xlink:href='#icon-database'></use></svg></label><div class='xr-var-attrs'><dl class='xr-attrs'><dt><span>long_name :</span></dt><dd>data mode</dd><dt><span>flag_values :</span></dt><dd>R, P, D, M</dd><dt><span>flag_meanings :</span></dt><dd>real-time provisional delayed-mode mixed</dd><dt><span>coordinates :</span></dt><dd>TIME HEIGHT LATITUDE LONGITUDE</dd></dl></div><div class='xr-var-data'><pre>[14967 values with dtype=|S1]</pre></div></li><li class='xr-var-item'><div class='xr-var-name'><span>WSPD_10N</span></div><div class='xr-var-dims'>(QS_TIME, HEIGHT)</div><div class='xr-var-dtype'>float64</div><div class='xr-var-preview xr-preview'>...</div><input id='attrs-5d3719f6-98df-49f9-8eae-610eb6dab8fc' class='xr-var-attrs-in' type='checkbox' ><label for='attrs-5d3719f6-98df-49f9-8eae-610eb6dab8fc' title='Show/Hide attributes'><svg class='icon xr-icon-file-text2'><use xlink:href='#icon-file-text2'></use></svg></label><input id='data-3bb0e78a-b134-41a9-9ef6-e071520248ee' class='xr-var-data-in' type='checkbox'><label for='data-3bb0e78a-b134-41a9-9ef6-e071520248ee' title='Show/Hide data repr'><svg class='icon xr-icon-database'><use xlink:href='#icon-database'></use></svg></label><div class='xr-var-attrs'><dl class='xr-attrs'><dt><span>units :</span></dt><dd>meters/second</dd><dt><span>long_name :</span></dt><dd>10 m neutral winds from COARE3.5</dd><dt><span>vars_used_to_calculate :</span></dt><dd>SST RH AIRT WSPD</dd></dl></div><div class='xr-var-data'><pre>[14967 values with dtype=float64]</pre></div></li><li class='xr-var-item'><div class='xr-var-name'><span>WSPD_10</span></div><div class='xr-var-dims'>(QS_TIME, HEIGHT)</div><div class='xr-var-dtype'>float64</div><div class='xr-var-preview xr-preview'>...</div><input id='attrs-98fe7af5-4dfb-4010-b70d-70ec4476af59' class='xr-var-attrs-in' type='checkbox' ><label for='attrs-98fe7af5-4dfb-4010-b70d-70ec4476af59' title='Show/Hide attributes'><svg class='icon xr-icon-file-text2'><use xlink:href='#icon-file-text2'></use></svg></label><input id='data-9b76a1bb-737a-40f9-b5bb-146f5b058533' class='xr-var-data-in' type='checkbox'><label for='data-9b76a1bb-737a-40f9-b5bb-146f5b058533' title='Show/Hide data repr'><svg class='icon xr-icon-database'><use xlink:href='#icon-database'></use></svg></label><div class='xr-var-attrs'><dl class='xr-attrs'><dt><span>units :</span></dt><dd>meters/second</dd><dt><span>long_name :</span></dt><dd>10 m winds from COARE3.5</dd><dt><span>vars_used_to_calculate :</span></dt><dd>SST RH AIRT WSPD</dd></dl></div><div class='xr-var-data'><pre>[14967 values with dtype=float64]</pre></div></li><li class='xr-var-item'><div class='xr-var-name'><span>cosWDIR</span></div><div class='xr-var-dims'>(QS_TIME, HEIGHT)</div><div class='xr-var-dtype'>float32</div><div class='xr-var-preview xr-preview'>...</div><input id='attrs-2540f458-a26c-4d13-9a45-b4c93a7ecff7' class='xr-var-attrs-in' type='checkbox' disabled><label for='attrs-2540f458-a26c-4d13-9a45-b4c93a7ecff7' title='Show/Hide attributes'><svg class='icon xr-icon-file-text2'><use xlink:href='#icon-file-text2'></use></svg></label><input id='data-d376b0d7-14df-4586-95fd-0628c0724d4d' class='xr-var-data-in' type='checkbox'><label for='data-d376b0d7-14df-4586-95fd-0628c0724d4d' title='Show/Hide data repr'><svg class='icon xr-icon-database'><use xlink:href='#icon-database'></use></svg></label><div class='xr-var-attrs'><dl class='xr-attrs'></dl></div><div class='xr-var-data'><pre>[14967 values with dtype=float32]</pre></div></li><li class='xr-var-item'><div class='xr-var-name'><span>sinWDIR</span></div><div class='xr-var-dims'>(QS_TIME, HEIGHT)</div><div class='xr-var-dtype'>float32</div><div class='xr-var-preview xr-preview'>...</div><input id='attrs-4c4c1ae9-650e-43d5-b0b9-2da10e20543d' class='xr-var-attrs-in' type='checkbox' disabled><label for='attrs-4c4c1ae9-650e-43d5-b0b9-2da10e20543d' title='Show/Hide attributes'><svg class='icon xr-icon-file-text2'><use xlink:href='#icon-file-text2'></use></svg></label><input id='data-bf8ee328-cf41-4f5b-8c83-939f80dadb7a' class='xr-var-data-in' type='checkbox'><label for='data-bf8ee328-cf41-4f5b-8c83-939f80dadb7a' title='Show/Hide data repr'><svg class='icon xr-icon-database'><use xlink:href='#icon-database'></use></svg></label><div class='xr-var-attrs'><dl class='xr-attrs'></dl></div><div class='xr-var-data'><pre>[14967 values with dtype=float32]</pre></div></li><li class='xr-var-item'><div class='xr-var-name'><span>U10N_x</span></div><div class='xr-var-dims'>(QS_TIME, HEIGHT)</div><div class='xr-var-dtype'>float64</div><div class='xr-var-preview xr-preview'>...</div><input id='attrs-13b33822-3d55-492e-8589-0001f4d1831a' class='xr-var-attrs-in' type='checkbox' disabled><label for='attrs-13b33822-3d55-492e-8589-0001f4d1831a' title='Show/Hide attributes'><svg class='icon xr-icon-file-text2'><use xlink:href='#icon-file-text2'></use></svg></label><input id='data-6d1504fe-7943-445f-949d-92ef76e68907' class='xr-var-data-in' type='checkbox'><label for='data-6d1504fe-7943-445f-949d-92ef76e68907' title='Show/Hide data repr'><svg class='icon xr-icon-database'><use xlink:href='#icon-database'></use></svg></label><div class='xr-var-attrs'><dl class='xr-attrs'></dl></div><div class='xr-var-data'><pre>[14967 values with dtype=float64]</pre></div></li><li class='xr-var-item'><div class='xr-var-name'><span>U10N_y</span></div><div class='xr-var-dims'>(QS_TIME, HEIGHT)</div><div class='xr-var-dtype'>float64</div><div class='xr-var-preview xr-preview'>...</div><input id='attrs-e9e4cc67-c689-40ae-8332-49359a52eef0' class='xr-var-attrs-in' type='checkbox' disabled><label for='attrs-e9e4cc67-c689-40ae-8332-49359a52eef0' title='Show/Hide attributes'><svg class='icon xr-icon-file-text2'><use xlink:href='#icon-file-text2'></use></svg></label><input id='data-9a7b8f26-9707-4171-874d-ba4c0ddeec0d' class='xr-var-data-in' type='checkbox'><label for='data-9a7b8f26-9707-4171-874d-ba4c0ddeec0d' title='Show/Hide data repr'><svg class='icon xr-icon-database'><use xlink:href='#icon-database'></use></svg></label><div class='xr-var-attrs'><dl class='xr-attrs'></dl></div><div class='xr-var-data'><pre>[14967 values with dtype=float64]</pre></div></li><li class='xr-var-item'><div class='xr-var-name'><span>mean_WSPD</span></div><div class='xr-var-dims'>(QS_TIME)</div><div class='xr-var-dtype'>float64</div><div class='xr-var-preview xr-preview'>...</div><input id='attrs-35ddfc20-673f-4234-8a00-9bf343e07b17' class='xr-var-attrs-in' type='checkbox' ><label for='attrs-35ddfc20-673f-4234-8a00-9bf343e07b17' title='Show/Hide attributes'><svg class='icon xr-icon-file-text2'><use xlink:href='#icon-file-text2'></use></svg></label><input id='data-dec24f5c-b0c6-4b93-9ff2-76b1ecaaa060' class='xr-var-data-in' type='checkbox'><label for='data-dec24f5c-b0c6-4b93-9ff2-76b1ecaaa060' title='Show/Hide data repr'><svg class='icon xr-icon-database'><use xlink:href='#icon-database'></use></svg></label><div class='xr-var-attrs'><dl class='xr-attrs'><dt><span>statistic :</span></dt><dd>running mean with 12*10 minutes using convolution</dd></dl></div><div class='xr-var-data'><pre>[4989 values with dtype=float64]</pre></div></li><li class='xr-var-item'><div class='xr-var-name'><span>std_WSPD</span></div><div class='xr-var-dims'>(QS_TIME)</div><div class='xr-var-dtype'>float64</div><div class='xr-var-preview xr-preview'>...</div><input id='attrs-20bfff0b-4c4d-4f01-b894-02cc1fa34df5' class='xr-var-attrs-in' type='checkbox' ><label for='attrs-20bfff0b-4c4d-4f01-b894-02cc1fa34df5' title='Show/Hide attributes'><svg class='icon xr-icon-file-text2'><use xlink:href='#icon-file-text2'></use></svg></label><input id='data-b3a62eb7-1c40-4f58-a212-7fd69c29e1a0' class='xr-var-data-in' type='checkbox'><label for='data-b3a62eb7-1c40-4f58-a212-7fd69c29e1a0' title='Show/Hide data repr'><svg class='icon xr-icon-database'><use xlink:href='#icon-database'></use></svg></label><div class='xr-var-attrs'><dl class='xr-attrs'><dt><span>statistic :</span></dt><dd>running std. dev with 12*10 minutes using convolution</dd></dl></div><div class='xr-var-data'><pre>[4989 values with dtype=float64]</pre></div></li><li class='xr-var-item'><div class='xr-var-name'><span>mean_WSPD_10N</span></div><div class='xr-var-dims'>(QS_TIME)</div><div class='xr-var-dtype'>float64</div><div class='xr-var-preview xr-preview'>...</div><input id='attrs-42f34b47-6c4e-4749-ad21-c85605819a4d' class='xr-var-attrs-in' type='checkbox' ><label for='attrs-42f34b47-6c4e-4749-ad21-c85605819a4d' title='Show/Hide attributes'><svg class='icon xr-icon-file-text2'><use xlink:href='#icon-file-text2'></use></svg></label><input id='data-15a8a2a3-7a7a-481f-b745-6a5f9619dd94' class='xr-var-data-in' type='checkbox'><label for='data-15a8a2a3-7a7a-481f-b745-6a5f9619dd94' title='Show/Hide data repr'><svg class='icon xr-icon-database'><use xlink:href='#icon-database'></use></svg></label><div class='xr-var-attrs'><dl class='xr-attrs'><dt><span>statistic :</span></dt><dd>running mean with 12*10 minutes using convolution</dd></dl></div><div class='xr-var-data'><pre>[4989 values with dtype=float64]</pre></div></li><li class='xr-var-item'><div class='xr-var-name'><span>std_WSPD_10N</span></div><div class='xr-var-dims'>(QS_TIME)</div><div class='xr-var-dtype'>float64</div><div class='xr-var-preview xr-preview'>...</div><input id='attrs-161243a1-a9ed-42e9-9101-4c4cf37e7158' class='xr-var-attrs-in' type='checkbox' ><label for='attrs-161243a1-a9ed-42e9-9101-4c4cf37e7158' title='Show/Hide attributes'><svg class='icon xr-icon-file-text2'><use xlink:href='#icon-file-text2'></use></svg></label><input id='data-271e7d83-b8af-4f41-9b20-a04f6cf14370' class='xr-var-data-in' type='checkbox'><label for='data-271e7d83-b8af-4f41-9b20-a04f6cf14370' title='Show/Hide data repr'><svg class='icon xr-icon-database'><use xlink:href='#icon-database'></use></svg></label><div class='xr-var-attrs'><dl class='xr-attrs'><dt><span>statistic :</span></dt><dd>running std. dev with 12*10 minutes using convolution</dd></dl></div><div class='xr-var-data'><pre>[4989 values with dtype=float64]</pre></div></li><li class='xr-var-item'><div class='xr-var-name'><span>mean_SST</span></div><div class='xr-var-dims'>(QS_TIME)</div><div class='xr-var-dtype'>float64</div><div class='xr-var-preview xr-preview'>...</div><input id='attrs-90360a61-3372-41d4-bb70-3e549ff6dff0' class='xr-var-attrs-in' type='checkbox' ><label for='attrs-90360a61-3372-41d4-bb70-3e549ff6dff0' title='Show/Hide attributes'><svg class='icon xr-icon-file-text2'><use xlink:href='#icon-file-text2'></use></svg></label><input id='data-8f2f5e07-7ccb-4d72-9a21-a8acdcf5ff58' class='xr-var-data-in' type='checkbox'><label for='data-8f2f5e07-7ccb-4d72-9a21-a8acdcf5ff58' title='Show/Hide data repr'><svg class='icon xr-icon-database'><use xlink:href='#icon-database'></use></svg></label><div class='xr-var-attrs'><dl class='xr-attrs'><dt><span>statistic :</span></dt><dd>running mean with 12*10 minutes using convolution</dd></dl></div><div class='xr-var-data'><pre>[4989 values with dtype=float64]</pre></div></li><li class='xr-var-item'><div class='xr-var-name'><span>std_SST</span></div><div class='xr-var-dims'>(QS_TIME)</div><div class='xr-var-dtype'>float64</div><div class='xr-var-preview xr-preview'>...</div><input id='attrs-11037841-bcab-447b-9914-5e14e993337d' class='xr-var-attrs-in' type='checkbox' ><label for='attrs-11037841-bcab-447b-9914-5e14e993337d' title='Show/Hide attributes'><svg class='icon xr-icon-file-text2'><use xlink:href='#icon-file-text2'></use></svg></label><input id='data-c3a8d90d-3def-4377-b0aa-424c7da0ec30' class='xr-var-data-in' type='checkbox'><label for='data-c3a8d90d-3def-4377-b0aa-424c7da0ec30' title='Show/Hide data repr'><svg class='icon xr-icon-database'><use xlink:href='#icon-database'></use></svg></label><div class='xr-var-attrs'><dl class='xr-attrs'><dt><span>statistic :</span></dt><dd>running std. dev with 12*10 minutes using convolution</dd></dl></div><div class='xr-var-data'><pre>[4989 values with dtype=float64]</pre></div></li><li class='xr-var-item'><div class='xr-var-name'><span>mean_AIRT</span></div><div class='xr-var-dims'>(QS_TIME)</div><div class='xr-var-dtype'>float64</div><div class='xr-var-preview xr-preview'>...</div><input id='attrs-ed9f7f43-431e-410e-b4ba-408bad1e0551' class='xr-var-attrs-in' type='checkbox' ><label for='attrs-ed9f7f43-431e-410e-b4ba-408bad1e0551' title='Show/Hide attributes'><svg class='icon xr-icon-file-text2'><use xlink:href='#icon-file-text2'></use></svg></label><input id='data-563b79b1-bd8c-44b3-814c-565d13cfcf3a' class='xr-var-data-in' type='checkbox'><label for='data-563b79b1-bd8c-44b3-814c-565d13cfcf3a' title='Show/Hide data repr'><svg class='icon xr-icon-database'><use xlink:href='#icon-database'></use></svg></label><div class='xr-var-attrs'><dl class='xr-attrs'><dt><span>statistic :</span></dt><dd>running mean with 12*10 minutes using convolution</dd></dl></div><div class='xr-var-data'><pre>[4989 values with dtype=float64]</pre></div></li><li class='xr-var-item'><div class='xr-var-name'><span>std_AIRT</span></div><div class='xr-var-dims'>(QS_TIME)</div><div class='xr-var-dtype'>float64</div><div class='xr-var-preview xr-preview'>...</div><input id='attrs-c733dc91-2646-4ada-8f78-3f7c1568feac' class='xr-var-attrs-in' type='checkbox' ><label for='attrs-c733dc91-2646-4ada-8f78-3f7c1568feac' title='Show/Hide attributes'><svg class='icon xr-icon-file-text2'><use xlink:href='#icon-file-text2'></use></svg></label><input id='data-f06c8fd0-2f4f-41aa-9c87-2200964d1709' class='xr-var-data-in' type='checkbox'><label for='data-f06c8fd0-2f4f-41aa-9c87-2200964d1709' title='Show/Hide data repr'><svg class='icon xr-icon-database'><use xlink:href='#icon-database'></use></svg></label><div class='xr-var-attrs'><dl class='xr-attrs'><dt><span>statistic :</span></dt><dd>running std. dev with 12*10 minutes using convolution</dd></dl></div><div class='xr-var-data'><pre>[4989 values with dtype=float64]</pre></div></li><li class='xr-var-item'><div class='xr-var-name'><span>mean_RELH</span></div><div class='xr-var-dims'>(QS_TIME)</div><div class='xr-var-dtype'>float64</div><div class='xr-var-preview xr-preview'>...</div><input id='attrs-6f10b69b-4df2-42c8-a41e-4d322559c2f2' class='xr-var-attrs-in' type='checkbox' ><label for='attrs-6f10b69b-4df2-42c8-a41e-4d322559c2f2' title='Show/Hide attributes'><svg class='icon xr-icon-file-text2'><use xlink:href='#icon-file-text2'></use></svg></label><input id='data-13379502-fddb-418b-8592-ad8a199df2ea' class='xr-var-data-in' type='checkbox'><label for='data-13379502-fddb-418b-8592-ad8a199df2ea' title='Show/Hide data repr'><svg class='icon xr-icon-database'><use xlink:href='#icon-database'></use></svg></label><div class='xr-var-attrs'><dl class='xr-attrs'><dt><span>statistic :</span></dt><dd>running mean with 12*10 minutes using convolution</dd></dl></div><div class='xr-var-data'><pre>[4989 values with dtype=float64]</pre></div></li><li class='xr-var-item'><div class='xr-var-name'><span>std_RELH</span></div><div class='xr-var-dims'>(QS_TIME)</div><div class='xr-var-dtype'>float64</div><div class='xr-var-preview xr-preview'>...</div><input id='attrs-3dec73dc-ca4f-49d8-9db1-b84e1ccad78b' class='xr-var-attrs-in' type='checkbox' ><label for='attrs-3dec73dc-ca4f-49d8-9db1-b84e1ccad78b' title='Show/Hide attributes'><svg class='icon xr-icon-file-text2'><use xlink:href='#icon-file-text2'></use></svg></label><input id='data-72ced794-75a7-4d59-a59e-9f045e7e50b7' class='xr-var-data-in' type='checkbox'><label for='data-72ced794-75a7-4d59-a59e-9f045e7e50b7' title='Show/Hide data repr'><svg class='icon xr-icon-database'><use xlink:href='#icon-database'></use></svg></label><div class='xr-var-attrs'><dl class='xr-attrs'><dt><span>statistic :</span></dt><dd>running std. dev with 12*10 minutes using convolution</dd></dl></div><div class='xr-var-data'><pre>[4989 values with dtype=float64]</pre></div></li><li class='xr-var-item'><div class='xr-var-name'><span>mean_U10N_x</span></div><div class='xr-var-dims'>(QS_TIME)</div><div class='xr-var-dtype'>float64</div><div class='xr-var-preview xr-preview'>...</div><input id='attrs-f1bcc519-01d8-4509-8769-717ea347e39b' class='xr-var-attrs-in' type='checkbox' ><label for='attrs-f1bcc519-01d8-4509-8769-717ea347e39b' title='Show/Hide attributes'><svg class='icon xr-icon-file-text2'><use xlink:href='#icon-file-text2'></use></svg></label><input id='data-b9c0186f-50ab-4f5f-a79c-01f164da51f4' class='xr-var-data-in' type='checkbox'><label for='data-b9c0186f-50ab-4f5f-a79c-01f164da51f4' title='Show/Hide data repr'><svg class='icon xr-icon-database'><use xlink:href='#icon-database'></use></svg></label><div class='xr-var-attrs'><dl class='xr-attrs'><dt><span>statistic :</span></dt><dd>running mean with 12*10 minutes using convolution</dd></dl></div><div class='xr-var-data'><pre>[4989 values with dtype=float64]</pre></div></li><li class='xr-var-item'><div class='xr-var-name'><span>std_U10N_x</span></div><div class='xr-var-dims'>(QS_TIME)</div><div class='xr-var-dtype'>float64</div><div class='xr-var-preview xr-preview'>...</div><input id='attrs-dbafd67f-6582-4e08-993b-d397993cba6c' class='xr-var-attrs-in' type='checkbox' ><label for='attrs-dbafd67f-6582-4e08-993b-d397993cba6c' title='Show/Hide attributes'><svg class='icon xr-icon-file-text2'><use xlink:href='#icon-file-text2'></use></svg></label><input id='data-a9e4d82c-9436-4c12-ba00-08c8f0f0aa41' class='xr-var-data-in' type='checkbox'><label for='data-a9e4d82c-9436-4c12-ba00-08c8f0f0aa41' title='Show/Hide data repr'><svg class='icon xr-icon-database'><use xlink:href='#icon-database'></use></svg></label><div class='xr-var-attrs'><dl class='xr-attrs'><dt><span>statistic :</span></dt><dd>running std. dev with 12*10 minutes using convolution</dd></dl></div><div class='xr-var-data'><pre>[4989 values with dtype=float64]</pre></div></li><li class='xr-var-item'><div class='xr-var-name'><span>mean_U10N_y</span></div><div class='xr-var-dims'>(QS_TIME)</div><div class='xr-var-dtype'>float64</div><div class='xr-var-preview xr-preview'>...</div><input id='attrs-a1662f5f-8773-48f3-b7c3-00afcb0e58c4' class='xr-var-attrs-in' type='checkbox' ><label for='attrs-a1662f5f-8773-48f3-b7c3-00afcb0e58c4' title='Show/Hide attributes'><svg class='icon xr-icon-file-text2'><use xlink:href='#icon-file-text2'></use></svg></label><input id='data-5cf66e31-1a6b-4dd9-b6a4-8490d1091d61' class='xr-var-data-in' type='checkbox'><label for='data-5cf66e31-1a6b-4dd9-b6a4-8490d1091d61' title='Show/Hide data repr'><svg class='icon xr-icon-database'><use xlink:href='#icon-database'></use></svg></label><div class='xr-var-attrs'><dl class='xr-attrs'><dt><span>statistic :</span></dt><dd>running mean with 12*10 minutes using convolution</dd></dl></div><div class='xr-var-data'><pre>[4989 values with dtype=float64]</pre></div></li><li class='xr-var-item'><div class='xr-var-name'><span>std_U10N_y</span></div><div class='xr-var-dims'>(QS_TIME)</div><div class='xr-var-dtype'>float64</div><div class='xr-var-preview xr-preview'>...</div><input id='attrs-60c65e97-f73e-41da-97b1-018ca5af8523' class='xr-var-attrs-in' type='checkbox' ><label for='attrs-60c65e97-f73e-41da-97b1-018ca5af8523' title='Show/Hide attributes'><svg class='icon xr-icon-file-text2'><use xlink:href='#icon-file-text2'></use></svg></label><input id='data-76dbe740-8818-4857-b273-0906dfade5ec' class='xr-var-data-in' type='checkbox'><label for='data-76dbe740-8818-4857-b273-0906dfade5ec' title='Show/Hide data repr'><svg class='icon xr-icon-database'><use xlink:href='#icon-database'></use></svg></label><div class='xr-var-attrs'><dl class='xr-attrs'><dt><span>statistic :</span></dt><dd>running std. dev with 12*10 minutes using convolution</dd></dl></div><div class='xr-var-data'><pre>[4989 values with dtype=float64]</pre></div></li><li class='xr-var-item'><div class='xr-var-name'><span>mean_cosWDIR</span></div><div class='xr-var-dims'>(QS_TIME)</div><div class='xr-var-dtype'>float64</div><div class='xr-var-preview xr-preview'>...</div><input id='attrs-67071cdf-4b84-42f6-b426-d6d7135af971' class='xr-var-attrs-in' type='checkbox' ><label for='attrs-67071cdf-4b84-42f6-b426-d6d7135af971' title='Show/Hide attributes'><svg class='icon xr-icon-file-text2'><use xlink:href='#icon-file-text2'></use></svg></label><input id='data-6b997b6c-8ead-421d-a2fd-ed7e5ff6a668' class='xr-var-data-in' type='checkbox'><label for='data-6b997b6c-8ead-421d-a2fd-ed7e5ff6a668' title='Show/Hide data repr'><svg class='icon xr-icon-database'><use xlink:href='#icon-database'></use></svg></label><div class='xr-var-attrs'><dl class='xr-attrs'><dt><span>statistic :</span></dt><dd>running mean with 12*10 minutes using convolution</dd></dl></div><div class='xr-var-data'><pre>[4989 values with dtype=float64]</pre></div></li><li class='xr-var-item'><div class='xr-var-name'><span>std_cosWDIR</span></div><div class='xr-var-dims'>(QS_TIME)</div><div class='xr-var-dtype'>float64</div><div class='xr-var-preview xr-preview'>...</div><input id='attrs-caa78830-996c-43b5-994a-a7387b09ed3e' class='xr-var-attrs-in' type='checkbox' ><label for='attrs-caa78830-996c-43b5-994a-a7387b09ed3e' title='Show/Hide attributes'><svg class='icon xr-icon-file-text2'><use xlink:href='#icon-file-text2'></use></svg></label><input id='data-60dc6820-3c0c-4a9d-ace8-b49d711471be' class='xr-var-data-in' type='checkbox'><label for='data-60dc6820-3c0c-4a9d-ace8-b49d711471be' title='Show/Hide data repr'><svg class='icon xr-icon-database'><use xlink:href='#icon-database'></use></svg></label><div class='xr-var-attrs'><dl class='xr-attrs'><dt><span>statistic :</span></dt><dd>running std. dev with 12*10 minutes using convolution</dd></dl></div><div class='xr-var-data'><pre>[4989 values with dtype=float64]</pre></div></li><li class='xr-var-item'><div class='xr-var-name'><span>mean_sinWDIR</span></div><div class='xr-var-dims'>(QS_TIME)</div><div class='xr-var-dtype'>float64</div><div class='xr-var-preview xr-preview'>...</div><input id='attrs-5b9b3fb1-716c-402b-a0cd-bbbc88ec0002' class='xr-var-attrs-in' type='checkbox' ><label for='attrs-5b9b3fb1-716c-402b-a0cd-bbbc88ec0002' title='Show/Hide attributes'><svg class='icon xr-icon-file-text2'><use xlink:href='#icon-file-text2'></use></svg></label><input id='data-52b0b357-1c0d-46cc-8fce-ec591768d796' class='xr-var-data-in' type='checkbox'><label for='data-52b0b357-1c0d-46cc-8fce-ec591768d796' title='Show/Hide data repr'><svg class='icon xr-icon-database'><use xlink:href='#icon-database'></use></svg></label><div class='xr-var-attrs'><dl class='xr-attrs'><dt><span>statistic :</span></dt><dd>running mean with 12*10 minutes using convolution</dd></dl></div><div class='xr-var-data'><pre>[4989 values with dtype=float64]</pre></div></li><li class='xr-var-item'><div class='xr-var-name'><span>std_sinWDIR</span></div><div class='xr-var-dims'>(QS_TIME)</div><div class='xr-var-dtype'>float64</div><div class='xr-var-preview xr-preview'>...</div><input id='attrs-c6125eda-003c-4fd3-a537-4185766c1f09' class='xr-var-attrs-in' type='checkbox' ><label for='attrs-c6125eda-003c-4fd3-a537-4185766c1f09' title='Show/Hide attributes'><svg class='icon xr-icon-file-text2'><use xlink:href='#icon-file-text2'></use></svg></label><input id='data-abb90efc-3b25-4cc9-adad-d24a1c41e0a4' class='xr-var-data-in' type='checkbox'><label for='data-abb90efc-3b25-4cc9-adad-d24a1c41e0a4' title='Show/Hide data repr'><svg class='icon xr-icon-database'><use xlink:href='#icon-database'></use></svg></label><div class='xr-var-attrs'><dl class='xr-attrs'><dt><span>statistic :</span></dt><dd>running std. dev with 12*10 minutes using convolution</dd></dl></div><div class='xr-var-data'><pre>[4989 values with dtype=float64]</pre></div></li><li class='xr-var-item'><div class='xr-var-name'><span>TAO_TIME</span></div><div class='xr-var-dims'>(QS_TIME)</div><div class='xr-var-dtype'>datetime64[ns]</div><div class='xr-var-preview xr-preview'>...</div><input id='attrs-b0a852de-68bc-46fc-b900-5b7e25f53ced' class='xr-var-attrs-in' type='checkbox' disabled><label for='attrs-b0a852de-68bc-46fc-b900-5b7e25f53ced' title='Show/Hide attributes'><svg class='icon xr-icon-file-text2'><use xlink:href='#icon-file-text2'></use></svg></label><input id='data-238f3f0f-d3a1-421c-9a56-aba1d59e6607' class='xr-var-data-in' type='checkbox'><label for='data-238f3f0f-d3a1-421c-9a56-aba1d59e6607' title='Show/Hide data repr'><svg class='icon xr-icon-database'><use xlink:href='#icon-database'></use></svg></label><div class='xr-var-attrs'><dl class='xr-attrs'></dl></div><div class='xr-var-data'><pre>[4989 values with dtype=datetime64[ns]]</pre></div></li></ul></div></li><li class='xr-section-item'><input id='section-8a40b900-d57f-4224-90e5-699ccb91c51c' class='xr-section-summary-in' type='checkbox'  ><label for='section-8a40b900-d57f-4224-90e5-699ccb91c51c' class='xr-section-summary' >Indexes: <span>(6)</span></label><div class='xr-section-inline-details'></div><div class='xr-section-details'><ul class='xr-var-list'><li class='xr-var-item'><div class='xr-index-name'><div>QS_TIME</div></div><div class='xr-index-preview'>PandasIndex</div><div></div><input id='index-d6f1e0c1-2a4a-4e54-9279-65d9fd85be79' class='xr-index-data-in' type='checkbox'/><label for='index-d6f1e0c1-2a4a-4e54-9279-65d9fd85be79' title='Show/Hide index repr'><svg class='icon xr-icon-database'><use xlink:href='#icon-database'></use></svg></label><div class='xr-index-data'><pre>PandasIndex(DatetimeIndex([&#x27;2000-01-01 03:51:47.710247688&#x27;,\n",
       "               &#x27;2000-01-01 03:51:49.577488348&#x27;,\n",
       "               &#x27;2000-01-03 03:01:44.439731404&#x27;,\n",
       "               &#x27;2000-01-03 03:01:46.307003476&#x27;,\n",
       "               &#x27;2000-01-03 15:44:08.299688116&#x27;,\n",
       "               &#x27;2000-01-03 15:44:10.166933088&#x27;,\n",
       "               &#x27;2000-01-04 15:19:04.753677772&#x27;,\n",
       "               &#x27;2000-01-04 15:19:06.620910420&#x27;,\n",
       "               &#x27;2000-01-05 03:51:36.782497912&#x27;,\n",
       "               &#x27;2000-01-05 03:51:38.649749352&#x27;,\n",
       "               ...\n",
       "               &#x27;2006-12-28 03:19:16.237029696&#x27;,\n",
       "               &#x27;2006-12-29 02:53:17.809706624&#x27;,\n",
       "               &#x27;2006-12-29 02:53:19.675807136&#x27;,\n",
       "               &#x27;2006-12-29 15:35:13.125647776&#x27;,\n",
       "               &#x27;2006-12-29 15:35:14.991728608&#x27;,\n",
       "               &#x27;2006-12-30 15:09:18.411133120&#x27;,\n",
       "               &#x27;2006-12-30 15:09:20.277216992&#x27;,\n",
       "               &#x27;2006-12-31 03:41:26.024466272&#x27;,\n",
       "               &#x27;2006-12-31 14:43:25.589127008&#x27;,\n",
       "               &#x27;2006-12-31 14:43:27.455223232&#x27;],\n",
       "              dtype=&#x27;datetime64[ns]&#x27;, name=&#x27;QS_TIME&#x27;, length=4989, freq=None))</pre></div></li><li class='xr-var-item'><div class='xr-index-name'><div>cross_track</div></div><div class='xr-index-preview'>PandasIndex</div><div></div><input id='index-76142cb5-2399-495a-84dc-bb2bb706ce95' class='xr-index-data-in' type='checkbox'/><label for='index-76142cb5-2399-495a-84dc-bb2bb706ce95' title='Show/Hide index repr'><svg class='icon xr-icon-database'><use xlink:href='#icon-database'></use></svg></label><div class='xr-index-data'><pre>PandasIndex(Index([0, 1, 2], dtype=&#x27;int64&#x27;, name=&#x27;cross_track&#x27;))</pre></div></li><li class='xr-var-item'><div class='xr-index-name'><div>ambiguities</div></div><div class='xr-index-preview'>PandasIndex</div><div></div><input id='index-13d20a55-67b3-41f6-8789-8aded74d438e' class='xr-index-data-in' type='checkbox'/><label for='index-13d20a55-67b3-41f6-8789-8aded74d438e' title='Show/Hide index repr'><svg class='icon xr-icon-database'><use xlink:href='#icon-database'></use></svg></label><div class='xr-index-data'><pre>PandasIndex(Index([0, 1, 2, 3], dtype=&#x27;int64&#x27;, name=&#x27;ambiguities&#x27;))</pre></div></li><li class='xr-var-item'><div class='xr-index-name'><div>TIME</div></div><div class='xr-index-preview'>PandasIndex</div><div></div><input id='index-c5dd6f0e-9005-4bc2-9bd2-adf546b5340e' class='xr-index-data-in' type='checkbox'/><label for='index-c5dd6f0e-9005-4bc2-9bd2-adf546b5340e' title='Show/Hide index repr'><svg class='icon xr-icon-database'><use xlink:href='#icon-database'></use></svg></label><div class='xr-index-data'><pre>PandasIndex(DatetimeIndex([&#x27;2000-01-01 03:51:47&#x27;, &#x27;2000-01-01 03:51:49&#x27;,\n",
       "               &#x27;2000-01-03 03:01:44&#x27;, &#x27;2000-01-03 03:01:46&#x27;,\n",
       "               &#x27;2000-01-03 15:44:08&#x27;, &#x27;2000-01-03 15:44:10&#x27;,\n",
       "               &#x27;2000-01-04 15:19:04&#x27;, &#x27;2000-01-04 15:19:06&#x27;,\n",
       "               &#x27;2000-01-05 03:51:36&#x27;, &#x27;2000-01-05 03:51:38&#x27;,\n",
       "               ...\n",
       "               &#x27;2006-12-28 03:19:16&#x27;, &#x27;2006-12-29 02:53:17&#x27;,\n",
       "               &#x27;2006-12-29 02:53:19&#x27;, &#x27;2006-12-29 15:35:13&#x27;,\n",
       "               &#x27;2006-12-29 15:35:14&#x27;, &#x27;2006-12-30 15:09:18&#x27;,\n",
       "               &#x27;2006-12-30 15:09:20&#x27;, &#x27;2006-12-31 03:41:26&#x27;,\n",
       "               &#x27;2006-12-31 14:43:25&#x27;, &#x27;2006-12-31 14:43:27&#x27;],\n",
       "              dtype=&#x27;datetime64[ns]&#x27;, name=&#x27;TIME&#x27;, length=6762, freq=None))</pre></div></li><li class='xr-var-item'><div class='xr-index-name'><div>HEIGHT</div></div><div class='xr-index-preview'>PandasIndex</div><div></div><input id='index-203b413e-417f-4771-87fb-227129fa664d' class='xr-index-data-in' type='checkbox'/><label for='index-203b413e-417f-4771-87fb-227129fa664d' title='Show/Hide index repr'><svg class='icon xr-icon-database'><use xlink:href='#icon-database'></use></svg></label><div class='xr-index-data'><pre>PandasIndex(Index([3.0, 4.0, 10.0], dtype=&#x27;float32&#x27;, name=&#x27;HEIGHT&#x27;))</pre></div></li><li class='xr-var-item'><div class='xr-index-name'><div>DEPTH</div></div><div class='xr-index-preview'>PandasIndex</div><div></div><input id='index-19c7aecd-1230-412e-b6d9-3025faa1242b' class='xr-index-data-in' type='checkbox'/><label for='index-19c7aecd-1230-412e-b6d9-3025faa1242b' title='Show/Hide index repr'><svg class='icon xr-icon-database'><use xlink:href='#icon-database'></use></svg></label><div class='xr-index-data'><pre>PandasIndex(Index([1.0], dtype=&#x27;float32&#x27;, name=&#x27;DEPTH&#x27;))</pre></div></li></ul></div></li><li class='xr-section-item'><input id='section-aeecb564-6c53-46f2-98a0-181725c8f573' class='xr-section-summary-in' type='checkbox' disabled ><label for='section-aeecb564-6c53-46f2-98a0-181725c8f573' class='xr-section-summary'  title='Expand/collapse section'>Attributes: <span>(0)</span></label><div class='xr-section-inline-details'></div><div class='xr-section-details'><dl class='xr-attrs'></dl></div></li></ul></div></div>"
      ],
      "text/plain": [
       "<xarray.Dataset>\n",
       "Dimensions:                           (QS_TIME: 4989, cross_track: 3,\n",
       "                                       ambiguities: 4, TIME: 6762, HEIGHT: 3,\n",
       "                                       DEPTH: 1)\n",
       "Coordinates:\n",
       "  * QS_TIME                           (QS_TIME) datetime64[ns] 2000-01-01T03:...\n",
       "  * cross_track                       (cross_track) int64 0 1 2\n",
       "  * ambiguities                       (ambiguities) int64 0 1 2 3\n",
       "  * TIME                              (TIME) datetime64[ns] 2000-01-01T03:51:...\n",
       "  * HEIGHT                            (HEIGHT) float32 3.0 4.0 10.0\n",
       "  * DEPTH                             (DEPTH) float32 1.0\n",
       "Data variables: (12/63)\n",
       "    retrieved_wind_speed              (QS_TIME, cross_track) float64 ...\n",
       "    retrieved_wind_direction          (QS_TIME, cross_track) float64 ...\n",
       "    rain_impact                       (QS_TIME, cross_track) float64 ...\n",
       "    flags                             (QS_TIME, cross_track) float64 ...\n",
       "    eflags                            (QS_TIME, cross_track) float64 ...\n",
       "    nudge_wind_speed                  (QS_TIME, cross_track) float64 ...\n",
       "    ...                                ...\n",
       "    std_U10N_y                        (QS_TIME) float64 ...\n",
       "    mean_cosWDIR                      (QS_TIME) float64 ...\n",
       "    std_cosWDIR                       (QS_TIME) float64 ...\n",
       "    mean_sinWDIR                      (QS_TIME) float64 ...\n",
       "    std_sinWDIR                       (QS_TIME) float64 ...\n",
       "    TAO_TIME                          (QS_TIME) datetime64[ns] ..."
      ]
     },
     "execution_count": 2,
     "metadata": {},
     "output_type": "execute_result"
    }
   ],
   "source": [
    "ds= xr.open_dataset('/srv/data2/srai_poseidon/srai_poseidon/observation/SatelliteVsBuoy/downloads/Buoy/extractedGZ/WINDS/T_09N_140W_xrr_MatchUp_2hrMeanVar.nc')\n",
    "ds"
   ]
  },
  {
   "cell_type": "code",
   "execution_count": 3,
   "id": "e03e0c5d-bd13-4755-979e-dc34f1d4dd2c",
   "metadata": {},
   "outputs": [],
   "source": [
    "ds.close()"
   ]
  },
  {
   "cell_type": "code",
   "execution_count": 4,
   "id": "c56b37ef-992b-490a-afc8-c75791f3cb3f",
   "metadata": {},
   "outputs": [
    {
     "data": {
      "text/plain": [
       "['retrieved_wind_speed',\n",
       " 'retrieved_wind_direction',\n",
       " 'rain_impact',\n",
       " 'flags',\n",
       " 'eflags',\n",
       " 'nudge_wind_speed',\n",
       " 'nudge_wind_direction',\n",
       " 'retrieved_wind_speed_uncorrected',\n",
       " 'cross_track_wind_speed_bias',\n",
       " 'atmospheric_speed_bias',\n",
       " 'wind_obj',\n",
       " 'ambiguity_speed',\n",
       " 'ambiguity_direction',\n",
       " 'ambiguity_obj',\n",
       " 'number_in_fore',\n",
       " 'number_in_aft',\n",
       " 'number_out_fore',\n",
       " 'number_out_aft',\n",
       " 'gmf_sst',\n",
       " 'distance_from_coast',\n",
       " 'exp_bias_wrt_oceanward_neighbors',\n",
       " 'WDIR',\n",
       " 'WDIR_QC',\n",
       " 'WDIR_DM',\n",
       " 'WSPD',\n",
       " 'WSPD_QC',\n",
       " 'WSPD_DM',\n",
       " 'UWND',\n",
       " 'VWND',\n",
       " 'SST',\n",
       " 'SST_QC',\n",
       " 'SST_DM',\n",
       " 'AIRT',\n",
       " 'AIRT_QC',\n",
       " 'AIRT_DM',\n",
       " 'RELH',\n",
       " 'RELH_QC',\n",
       " 'RELH_DM',\n",
       " 'WSPD_10N',\n",
       " 'WSPD_10',\n",
       " 'cosWDIR',\n",
       " 'sinWDIR',\n",
       " 'U10N_x',\n",
       " 'U10N_y',\n",
       " 'mean_WSPD',\n",
       " 'std_WSPD',\n",
       " 'mean_WSPD_10N',\n",
       " 'std_WSPD_10N',\n",
       " 'mean_SST',\n",
       " 'std_SST',\n",
       " 'mean_AIRT',\n",
       " 'std_AIRT',\n",
       " 'mean_RELH',\n",
       " 'std_RELH',\n",
       " 'mean_U10N_x',\n",
       " 'std_U10N_x',\n",
       " 'mean_U10N_y',\n",
       " 'std_U10N_y',\n",
       " 'mean_cosWDIR',\n",
       " 'std_cosWDIR',\n",
       " 'mean_sinWDIR',\n",
       " 'std_sinWDIR',\n",
       " 'TAO_TIME']"
      ]
     },
     "execution_count": 4,
     "metadata": {},
     "output_type": "execute_result"
    }
   ],
   "source": [
    "list(ds.keys())"
   ]
  },
  {
   "cell_type": "code",
   "execution_count": 5,
   "id": "c7d274fe-7908-40a7-aa18-462238240a6f",
   "metadata": {},
   "outputs": [],
   "source": [
    "statVars = ['mean_WSPD',\n",
    "             'std_WSPD',\n",
    "             'mean_WSPD_10N',\n",
    "             'std_WSPD_10N',\n",
    "             'mean_SST',\n",
    "             'std_SST',\n",
    "             'mean_AIRT',\n",
    "             'std_AIRT',\n",
    "             'mean_RELH',\n",
    "             'std_RELH',\n",
    "             'mean_U10N_x',\n",
    "             'std_U10N_x',\n",
    "             'mean_U10N_y',\n",
    "             'std_U10N_y',\n",
    "             'mean_cosWDIR',\n",
    "             'std_cosWDIR',\n",
    "             'mean_sinWDIR',\n",
    "             'std_sinWDIR']"
   ]
  },
  {
   "cell_type": "code",
   "execution_count": 6,
   "id": "b11fb193-3b5a-414b-87a6-dcc940407366",
   "metadata": {},
   "outputs": [],
   "source": [
    "def getSubDF(ds, LAT, LON):\n",
    "    subds = xr.Dataset()\n",
    "\n",
    "    taoTimeVar = ['TAO_TIME']\n",
    "    \n",
    "    windVars = ['WDIR',\n",
    "         'WDIR_QC',\n",
    "         'WDIR_DM',\n",
    "         'WSPD',\n",
    "         'WSPD_QC',\n",
    "         'WSPD_DM',\n",
    "         'UWND',\n",
    "         'VWND']\n",
    "\n",
    "    sstVars = ['SST',\n",
    "             'SST_QC',\n",
    "             'SST_DM']\n",
    "    \n",
    "    airtVars = ['AIRT',\n",
    "             'AIRT_QC',\n",
    "             'AIRT_DM']\n",
    "    \n",
    "    rhVars = ['RELH',\n",
    "             'RELH_QC',\n",
    "             'RELH_DM']\n",
    "    \n",
    "    u10Vars =['WSPD_10N',\n",
    "             'WSPD_10']\n",
    "\n",
    "    statVars = ['mean_WSPD',\n",
    "             'std_WSPD',\n",
    "             'mean_WSPD_10N',\n",
    "             'std_WSPD_10N',\n",
    "             'mean_SST',\n",
    "             'std_SST',\n",
    "             'mean_AIRT',\n",
    "             'std_AIRT',\n",
    "             'mean_RELH',\n",
    "             'std_RELH',\n",
    "             'mean_U10N_x',\n",
    "             'std_U10N_x',\n",
    "             'mean_U10N_y',\n",
    "             'std_U10N_y',\n",
    "             'mean_cosWDIR',\n",
    "             'std_cosWDIR',\n",
    "             'mean_sinWDIR',\n",
    "             'std_sinWDIR']\n",
    "        \n",
    "    \n",
    "    satVars = ['retrieved_wind_speed',\n",
    "             'retrieved_wind_direction',\n",
    "             'rain_impact',\n",
    "             'flags',\n",
    "             'eflags',\n",
    "             'nudge_wind_speed',\n",
    "             'nudge_wind_direction',\n",
    "             'retrieved_wind_speed_uncorrected',\n",
    "             'cross_track_wind_speed_bias',\n",
    "             'atmospheric_speed_bias',\n",
    "             'wind_obj',\n",
    "             'ambiguity_speed',\n",
    "             'ambiguity_direction',\n",
    "             'ambiguity_obj',\n",
    "             'number_in_fore',\n",
    "             'number_in_aft',\n",
    "             'number_out_fore',\n",
    "             'number_out_aft',\n",
    "             'gmf_sst',\n",
    "             'distance_from_coast',\n",
    "             'exp_bias_wrt_oceanward_neighbors']\n",
    "\n",
    "     \n",
    "    \n",
    "    for windVar in windVars:\n",
    "        subds[windVar] = ds[windVar].sel(HEIGHT=4)\n",
    "    subds.drop_vars('HEIGHT')\n",
    "    for sstVar in sstVars:\n",
    "        subds[sstVar] = ds[sstVar].sel(DEPTH=1)\n",
    "    subds.drop_vars('DEPTH')\n",
    "    for rhVar in rhVars:\n",
    "        subds[rhVar] = ds[rhVar].sel(HEIGHT=3)\n",
    "    subds.drop_vars('HEIGHT')\n",
    "    for airtVar in airtVars:\n",
    "        subds[airtVar] = ds[airtVar].sel(HEIGHT=3)\n",
    "    subds.drop_vars('HEIGHT')\n",
    "    for u10Var in u10Vars:\n",
    "        subds[u10Var] = ds[u10Var].sel(HEIGHT=10)\n",
    "    subds.drop_vars('HEIGHT')\n",
    "\n",
    "    for statVar in statVars:\n",
    "        subds[statVar] = ds[statVar]\n",
    "\n",
    "    subds['LATITUDE'] = xr.DataArray(LAT * np.ones(len(subds['QS_TIME']), dtype = float), dims=['QS_TIME'])\n",
    "    subds['LONGITUDE'] = xr.DataArray(LON * np.ones(len(subds['QS_TIME']), dtype = float), dims=['QS_TIME'])\n",
    "    \n",
    "    subds['TAO_TIME'] = ds['TAO_TIME']\n",
    "\n",
    "    deployFileName = f'../../../downloads/Buoy/extractedGZ/WINDS/T_{lat:02d}{latUnits}_{lon:03d}{lonUnits}/T_{lat:02d}{latUnits}_{lon:03d}{lonUnits}_DeploymentDates.nc'\n",
    "    ds2 = xr.open_dataset(deployFileName)\n",
    "    startDates = np.array(ds2['startDate'])\n",
    "    endDates = np.array(ds2['endDate'])\n",
    "\n",
    "    depNum = np.zeros((len(subds['QS_TIME'])), dtype=int)\n",
    "    c = 1\n",
    "    for i in range(1,len(startDates)):\n",
    "        mask = subds['QS_TIME'] >= startDates[i]\n",
    "        mask *= subds['QS_TIME'] <= endDates[i]\n",
    "        depNum[mask] = c\n",
    "        c = c+1\n",
    "\n",
    "    subds['Deployment index'] = xr.DataArray(depNum, dims=['QS_TIME'])\n",
    "    \n",
    "    \n",
    "    satDS = ds[satVars]\n",
    "    satDS = satDS.isel(cross_track=0, ambiguities=0)\n",
    "\n",
    "    \n",
    "    \n",
    "    returnDS = xr.merge((subds, satDS))\n",
    "\n",
    "    \n",
    "    \n",
    "    return returnDS"
   ]
  },
  {
   "cell_type": "code",
   "execution_count": 7,
   "id": "ab2dd76c-6bae-467c-843c-968c0dbc3d02",
   "metadata": {},
   "outputs": [
    {
     "name": "stdout",
     "output_type": "stream",
     "text": [
      "T_08S_095W_xrr_MatchUp_2000.nc\n",
      "0 4033\n",
      "T_08S_110W_xrr_MatchUp_2000.nc\n",
      "4033 6764\n"
     ]
    },
    {
     "name": "stderr",
     "output_type": "stream",
     "text": [
      "/home/shikhar.rai/anaconda3/envs/mpiNetCDF/lib/python3.11/site-packages/xarray/core/concat.py:546: FutureWarning: unique with argument that is not not a Series, Index, ExtensionArray, or np.ndarray is deprecated and will raise in a future version.\n",
      "  common_dims = tuple(pd.unique([d for v in vars for d in v.dims]))\n",
      "/home/shikhar.rai/anaconda3/envs/mpiNetCDF/lib/python3.11/site-packages/xarray/core/concat.py:546: FutureWarning: unique with argument that is not not a Series, Index, ExtensionArray, or np.ndarray is deprecated and will raise in a future version.\n",
      "  common_dims = tuple(pd.unique([d for v in vars for d in v.dims]))\n"
     ]
    },
    {
     "name": "stdout",
     "output_type": "stream",
     "text": [
      "T_08S_125W_xrr_MatchUp_2000.nc\n",
      "6764 9758\n"
     ]
    },
    {
     "name": "stderr",
     "output_type": "stream",
     "text": [
      "/home/shikhar.rai/anaconda3/envs/mpiNetCDF/lib/python3.11/site-packages/xarray/core/concat.py:546: FutureWarning: unique with argument that is not not a Series, Index, ExtensionArray, or np.ndarray is deprecated and will raise in a future version.\n",
      "  common_dims = tuple(pd.unique([d for v in vars for d in v.dims]))\n",
      "/home/shikhar.rai/anaconda3/envs/mpiNetCDF/lib/python3.11/site-packages/xarray/core/concat.py:546: FutureWarning: unique with argument that is not not a Series, Index, ExtensionArray, or np.ndarray is deprecated and will raise in a future version.\n",
      "  common_dims = tuple(pd.unique([d for v in vars for d in v.dims]))\n"
     ]
    },
    {
     "name": "stdout",
     "output_type": "stream",
     "text": [
      "T_08S_155W_xrr_MatchUp_2000.nc\n",
      "9758 12737\n"
     ]
    },
    {
     "name": "stderr",
     "output_type": "stream",
     "text": [
      "/home/shikhar.rai/anaconda3/envs/mpiNetCDF/lib/python3.11/site-packages/xarray/core/concat.py:546: FutureWarning: unique with argument that is not not a Series, Index, ExtensionArray, or np.ndarray is deprecated and will raise in a future version.\n",
      "  common_dims = tuple(pd.unique([d for v in vars for d in v.dims]))\n",
      "/home/shikhar.rai/anaconda3/envs/mpiNetCDF/lib/python3.11/site-packages/xarray/core/concat.py:546: FutureWarning: unique with argument that is not not a Series, Index, ExtensionArray, or np.ndarray is deprecated and will raise in a future version.\n",
      "  common_dims = tuple(pd.unique([d for v in vars for d in v.dims]))\n"
     ]
    },
    {
     "name": "stdout",
     "output_type": "stream",
     "text": [
      "T_08S_170W_xrr_MatchUp_2000.nc\n",
      "12737 16617\n"
     ]
    },
    {
     "name": "stderr",
     "output_type": "stream",
     "text": [
      "/home/shikhar.rai/anaconda3/envs/mpiNetCDF/lib/python3.11/site-packages/xarray/core/concat.py:546: FutureWarning: unique with argument that is not not a Series, Index, ExtensionArray, or np.ndarray is deprecated and will raise in a future version.\n",
      "  common_dims = tuple(pd.unique([d for v in vars for d in v.dims]))\n",
      "/home/shikhar.rai/anaconda3/envs/mpiNetCDF/lib/python3.11/site-packages/xarray/core/concat.py:546: FutureWarning: unique with argument that is not not a Series, Index, ExtensionArray, or np.ndarray is deprecated and will raise in a future version.\n",
      "  common_dims = tuple(pd.unique([d for v in vars for d in v.dims]))\n"
     ]
    },
    {
     "name": "stdout",
     "output_type": "stream",
     "text": [
      "T_08S_165E_xrr_MatchUp_2000.nc\n",
      "16617 19615\n"
     ]
    },
    {
     "name": "stderr",
     "output_type": "stream",
     "text": [
      "/home/shikhar.rai/anaconda3/envs/mpiNetCDF/lib/python3.11/site-packages/xarray/core/concat.py:546: FutureWarning: unique with argument that is not not a Series, Index, ExtensionArray, or np.ndarray is deprecated and will raise in a future version.\n",
      "  common_dims = tuple(pd.unique([d for v in vars for d in v.dims]))\n",
      "/home/shikhar.rai/anaconda3/envs/mpiNetCDF/lib/python3.11/site-packages/xarray/core/concat.py:546: FutureWarning: unique with argument that is not not a Series, Index, ExtensionArray, or np.ndarray is deprecated and will raise in a future version.\n",
      "  common_dims = tuple(pd.unique([d for v in vars for d in v.dims]))\n"
     ]
    },
    {
     "name": "stdout",
     "output_type": "stream",
     "text": [
      "T_05S_095W_xrr_MatchUp_2000.nc\n",
      "19615 22560\n"
     ]
    },
    {
     "name": "stderr",
     "output_type": "stream",
     "text": [
      "/home/shikhar.rai/anaconda3/envs/mpiNetCDF/lib/python3.11/site-packages/xarray/core/concat.py:546: FutureWarning: unique with argument that is not not a Series, Index, ExtensionArray, or np.ndarray is deprecated and will raise in a future version.\n",
      "  common_dims = tuple(pd.unique([d for v in vars for d in v.dims]))\n",
      "/home/shikhar.rai/anaconda3/envs/mpiNetCDF/lib/python3.11/site-packages/xarray/core/concat.py:546: FutureWarning: unique with argument that is not not a Series, Index, ExtensionArray, or np.ndarray is deprecated and will raise in a future version.\n",
      "  common_dims = tuple(pd.unique([d for v in vars for d in v.dims]))\n"
     ]
    },
    {
     "name": "stdout",
     "output_type": "stream",
     "text": [
      "T_05S_110W_xrr_MatchUp_2000.nc\n",
      "22560 27032\n"
     ]
    },
    {
     "name": "stderr",
     "output_type": "stream",
     "text": [
      "/home/shikhar.rai/anaconda3/envs/mpiNetCDF/lib/python3.11/site-packages/xarray/core/concat.py:546: FutureWarning: unique with argument that is not not a Series, Index, ExtensionArray, or np.ndarray is deprecated and will raise in a future version.\n",
      "  common_dims = tuple(pd.unique([d for v in vars for d in v.dims]))\n",
      "/home/shikhar.rai/anaconda3/envs/mpiNetCDF/lib/python3.11/site-packages/xarray/core/concat.py:546: FutureWarning: unique with argument that is not not a Series, Index, ExtensionArray, or np.ndarray is deprecated and will raise in a future version.\n",
      "  common_dims = tuple(pd.unique([d for v in vars for d in v.dims]))\n"
     ]
    },
    {
     "name": "stdout",
     "output_type": "stream",
     "text": [
      "T_05S_125W_xrr_MatchUp_2000.nc\n",
      "27032 31411\n"
     ]
    },
    {
     "name": "stderr",
     "output_type": "stream",
     "text": [
      "/home/shikhar.rai/anaconda3/envs/mpiNetCDF/lib/python3.11/site-packages/xarray/core/concat.py:546: FutureWarning: unique with argument that is not not a Series, Index, ExtensionArray, or np.ndarray is deprecated and will raise in a future version.\n",
      "  common_dims = tuple(pd.unique([d for v in vars for d in v.dims]))\n",
      "/home/shikhar.rai/anaconda3/envs/mpiNetCDF/lib/python3.11/site-packages/xarray/core/concat.py:546: FutureWarning: unique with argument that is not not a Series, Index, ExtensionArray, or np.ndarray is deprecated and will raise in a future version.\n",
      "  common_dims = tuple(pd.unique([d for v in vars for d in v.dims]))\n"
     ]
    },
    {
     "name": "stdout",
     "output_type": "stream",
     "text": [
      "T_05S_140W_xrr_MatchUp_2000.nc\n",
      "31411 36134\n"
     ]
    },
    {
     "name": "stderr",
     "output_type": "stream",
     "text": [
      "/home/shikhar.rai/anaconda3/envs/mpiNetCDF/lib/python3.11/site-packages/xarray/core/concat.py:546: FutureWarning: unique with argument that is not not a Series, Index, ExtensionArray, or np.ndarray is deprecated and will raise in a future version.\n",
      "  common_dims = tuple(pd.unique([d for v in vars for d in v.dims]))\n",
      "/home/shikhar.rai/anaconda3/envs/mpiNetCDF/lib/python3.11/site-packages/xarray/core/concat.py:546: FutureWarning: unique with argument that is not not a Series, Index, ExtensionArray, or np.ndarray is deprecated and will raise in a future version.\n",
      "  common_dims = tuple(pd.unique([d for v in vars for d in v.dims]))\n"
     ]
    },
    {
     "name": "stdout",
     "output_type": "stream",
     "text": [
      "T_05S_155W_xrr_MatchUp_2000.nc\n",
      "36134 38694\n"
     ]
    },
    {
     "name": "stderr",
     "output_type": "stream",
     "text": [
      "/home/shikhar.rai/anaconda3/envs/mpiNetCDF/lib/python3.11/site-packages/xarray/core/concat.py:546: FutureWarning: unique with argument that is not not a Series, Index, ExtensionArray, or np.ndarray is deprecated and will raise in a future version.\n",
      "  common_dims = tuple(pd.unique([d for v in vars for d in v.dims]))\n",
      "/home/shikhar.rai/anaconda3/envs/mpiNetCDF/lib/python3.11/site-packages/xarray/core/concat.py:546: FutureWarning: unique with argument that is not not a Series, Index, ExtensionArray, or np.ndarray is deprecated and will raise in a future version.\n",
      "  common_dims = tuple(pd.unique([d for v in vars for d in v.dims]))\n"
     ]
    },
    {
     "name": "stdout",
     "output_type": "stream",
     "text": [
      "T_05S_170W_xrr_MatchUp_2000.nc\n",
      "38694 42723\n"
     ]
    },
    {
     "name": "stderr",
     "output_type": "stream",
     "text": [
      "/home/shikhar.rai/anaconda3/envs/mpiNetCDF/lib/python3.11/site-packages/xarray/core/concat.py:546: FutureWarning: unique with argument that is not not a Series, Index, ExtensionArray, or np.ndarray is deprecated and will raise in a future version.\n",
      "  common_dims = tuple(pd.unique([d for v in vars for d in v.dims]))\n",
      "/home/shikhar.rai/anaconda3/envs/mpiNetCDF/lib/python3.11/site-packages/xarray/core/concat.py:546: FutureWarning: unique with argument that is not not a Series, Index, ExtensionArray, or np.ndarray is deprecated and will raise in a future version.\n",
      "  common_dims = tuple(pd.unique([d for v in vars for d in v.dims]))\n"
     ]
    },
    {
     "name": "stdout",
     "output_type": "stream",
     "text": [
      "T_05S_165E_xrr_MatchUp_2000.nc\n",
      "42723 47407\n"
     ]
    },
    {
     "name": "stderr",
     "output_type": "stream",
     "text": [
      "/home/shikhar.rai/anaconda3/envs/mpiNetCDF/lib/python3.11/site-packages/xarray/core/concat.py:546: FutureWarning: unique with argument that is not not a Series, Index, ExtensionArray, or np.ndarray is deprecated and will raise in a future version.\n",
      "  common_dims = tuple(pd.unique([d for v in vars for d in v.dims]))\n",
      "/home/shikhar.rai/anaconda3/envs/mpiNetCDF/lib/python3.11/site-packages/xarray/core/concat.py:546: FutureWarning: unique with argument that is not not a Series, Index, ExtensionArray, or np.ndarray is deprecated and will raise in a future version.\n",
      "  common_dims = tuple(pd.unique([d for v in vars for d in v.dims]))\n"
     ]
    },
    {
     "name": "stdout",
     "output_type": "stream",
     "text": [
      "T_02S_095W_xrr_MatchUp_2000.nc\n",
      "47407 48639\n"
     ]
    },
    {
     "name": "stderr",
     "output_type": "stream",
     "text": [
      "/home/shikhar.rai/anaconda3/envs/mpiNetCDF/lib/python3.11/site-packages/xarray/core/concat.py:546: FutureWarning: unique with argument that is not not a Series, Index, ExtensionArray, or np.ndarray is deprecated and will raise in a future version.\n",
      "  common_dims = tuple(pd.unique([d for v in vars for d in v.dims]))\n",
      "/home/shikhar.rai/anaconda3/envs/mpiNetCDF/lib/python3.11/site-packages/xarray/core/concat.py:546: FutureWarning: unique with argument that is not not a Series, Index, ExtensionArray, or np.ndarray is deprecated and will raise in a future version.\n",
      "  common_dims = tuple(pd.unique([d for v in vars for d in v.dims]))\n"
     ]
    },
    {
     "name": "stdout",
     "output_type": "stream",
     "text": [
      "T_02S_110W_xrr_MatchUp_2000.nc\n",
      "48639 50581\n"
     ]
    },
    {
     "name": "stderr",
     "output_type": "stream",
     "text": [
      "/home/shikhar.rai/anaconda3/envs/mpiNetCDF/lib/python3.11/site-packages/xarray/core/concat.py:546: FutureWarning: unique with argument that is not not a Series, Index, ExtensionArray, or np.ndarray is deprecated and will raise in a future version.\n",
      "  common_dims = tuple(pd.unique([d for v in vars for d in v.dims]))\n",
      "/home/shikhar.rai/anaconda3/envs/mpiNetCDF/lib/python3.11/site-packages/xarray/core/concat.py:546: FutureWarning: unique with argument that is not not a Series, Index, ExtensionArray, or np.ndarray is deprecated and will raise in a future version.\n",
      "  common_dims = tuple(pd.unique([d for v in vars for d in v.dims]))\n"
     ]
    },
    {
     "name": "stdout",
     "output_type": "stream",
     "text": [
      "T_02S_125W_xrr_MatchUp_2000.nc\n",
      "50581 54805\n"
     ]
    },
    {
     "name": "stderr",
     "output_type": "stream",
     "text": [
      "/home/shikhar.rai/anaconda3/envs/mpiNetCDF/lib/python3.11/site-packages/xarray/core/concat.py:546: FutureWarning: unique with argument that is not not a Series, Index, ExtensionArray, or np.ndarray is deprecated and will raise in a future version.\n",
      "  common_dims = tuple(pd.unique([d for v in vars for d in v.dims]))\n",
      "/home/shikhar.rai/anaconda3/envs/mpiNetCDF/lib/python3.11/site-packages/xarray/core/concat.py:546: FutureWarning: unique with argument that is not not a Series, Index, ExtensionArray, or np.ndarray is deprecated and will raise in a future version.\n",
      "  common_dims = tuple(pd.unique([d for v in vars for d in v.dims]))\n"
     ]
    },
    {
     "name": "stdout",
     "output_type": "stream",
     "text": [
      "T_02S_140W_xrr_MatchUp_2000.nc\n",
      "54805 59259\n"
     ]
    },
    {
     "name": "stderr",
     "output_type": "stream",
     "text": [
      "/home/shikhar.rai/anaconda3/envs/mpiNetCDF/lib/python3.11/site-packages/xarray/core/concat.py:546: FutureWarning: unique with argument that is not not a Series, Index, ExtensionArray, or np.ndarray is deprecated and will raise in a future version.\n",
      "  common_dims = tuple(pd.unique([d for v in vars for d in v.dims]))\n",
      "/home/shikhar.rai/anaconda3/envs/mpiNetCDF/lib/python3.11/site-packages/xarray/core/concat.py:546: FutureWarning: unique with argument that is not not a Series, Index, ExtensionArray, or np.ndarray is deprecated and will raise in a future version.\n",
      "  common_dims = tuple(pd.unique([d for v in vars for d in v.dims]))\n"
     ]
    },
    {
     "name": "stdout",
     "output_type": "stream",
     "text": [
      "T_02S_155W_xrr_MatchUp_2000.nc\n",
      "59259 63139\n"
     ]
    },
    {
     "name": "stderr",
     "output_type": "stream",
     "text": [
      "/home/shikhar.rai/anaconda3/envs/mpiNetCDF/lib/python3.11/site-packages/xarray/core/concat.py:546: FutureWarning: unique with argument that is not not a Series, Index, ExtensionArray, or np.ndarray is deprecated and will raise in a future version.\n",
      "  common_dims = tuple(pd.unique([d for v in vars for d in v.dims]))\n",
      "/home/shikhar.rai/anaconda3/envs/mpiNetCDF/lib/python3.11/site-packages/xarray/core/concat.py:546: FutureWarning: unique with argument that is not not a Series, Index, ExtensionArray, or np.ndarray is deprecated and will raise in a future version.\n",
      "  common_dims = tuple(pd.unique([d for v in vars for d in v.dims]))\n"
     ]
    },
    {
     "name": "stdout",
     "output_type": "stream",
     "text": [
      "T_02S_170W_xrr_MatchUp_2000.nc\n",
      "63139 65593\n"
     ]
    },
    {
     "name": "stderr",
     "output_type": "stream",
     "text": [
      "/home/shikhar.rai/anaconda3/envs/mpiNetCDF/lib/python3.11/site-packages/xarray/core/concat.py:546: FutureWarning: unique with argument that is not not a Series, Index, ExtensionArray, or np.ndarray is deprecated and will raise in a future version.\n",
      "  common_dims = tuple(pd.unique([d for v in vars for d in v.dims]))\n",
      "/home/shikhar.rai/anaconda3/envs/mpiNetCDF/lib/python3.11/site-packages/xarray/core/concat.py:546: FutureWarning: unique with argument that is not not a Series, Index, ExtensionArray, or np.ndarray is deprecated and will raise in a future version.\n",
      "  common_dims = tuple(pd.unique([d for v in vars for d in v.dims]))\n"
     ]
    },
    {
     "name": "stdout",
     "output_type": "stream",
     "text": [
      "T_02S_180W_xrr_MatchUp_2000.nc\n",
      "65593 70429\n"
     ]
    },
    {
     "name": "stderr",
     "output_type": "stream",
     "text": [
      "/home/shikhar.rai/anaconda3/envs/mpiNetCDF/lib/python3.11/site-packages/xarray/core/concat.py:546: FutureWarning: unique with argument that is not not a Series, Index, ExtensionArray, or np.ndarray is deprecated and will raise in a future version.\n",
      "  common_dims = tuple(pd.unique([d for v in vars for d in v.dims]))\n",
      "/home/shikhar.rai/anaconda3/envs/mpiNetCDF/lib/python3.11/site-packages/xarray/core/concat.py:546: FutureWarning: unique with argument that is not not a Series, Index, ExtensionArray, or np.ndarray is deprecated and will raise in a future version.\n",
      "  common_dims = tuple(pd.unique([d for v in vars for d in v.dims]))\n"
     ]
    },
    {
     "name": "stdout",
     "output_type": "stream",
     "text": [
      "T_02S_165E_xrr_MatchUp_2000.nc\n",
      "70429 72271\n"
     ]
    },
    {
     "name": "stderr",
     "output_type": "stream",
     "text": [
      "/home/shikhar.rai/anaconda3/envs/mpiNetCDF/lib/python3.11/site-packages/xarray/core/concat.py:546: FutureWarning: unique with argument that is not not a Series, Index, ExtensionArray, or np.ndarray is deprecated and will raise in a future version.\n",
      "  common_dims = tuple(pd.unique([d for v in vars for d in v.dims]))\n",
      "/home/shikhar.rai/anaconda3/envs/mpiNetCDF/lib/python3.11/site-packages/xarray/core/concat.py:546: FutureWarning: unique with argument that is not not a Series, Index, ExtensionArray, or np.ndarray is deprecated and will raise in a future version.\n",
      "  common_dims = tuple(pd.unique([d for v in vars for d in v.dims]))\n"
     ]
    },
    {
     "name": "stdout",
     "output_type": "stream",
     "text": [
      "T_00N_095W_xrr_MatchUp_2000.nc\n",
      "72271 75460\n"
     ]
    },
    {
     "name": "stderr",
     "output_type": "stream",
     "text": [
      "/home/shikhar.rai/anaconda3/envs/mpiNetCDF/lib/python3.11/site-packages/xarray/core/concat.py:546: FutureWarning: unique with argument that is not not a Series, Index, ExtensionArray, or np.ndarray is deprecated and will raise in a future version.\n",
      "  common_dims = tuple(pd.unique([d for v in vars for d in v.dims]))\n",
      "/home/shikhar.rai/anaconda3/envs/mpiNetCDF/lib/python3.11/site-packages/xarray/core/concat.py:546: FutureWarning: unique with argument that is not not a Series, Index, ExtensionArray, or np.ndarray is deprecated and will raise in a future version.\n",
      "  common_dims = tuple(pd.unique([d for v in vars for d in v.dims]))\n"
     ]
    },
    {
     "name": "stdout",
     "output_type": "stream",
     "text": [
      "T_00N_110W_xrr_MatchUp_2000.nc\n",
      "75460 79607\n"
     ]
    },
    {
     "name": "stderr",
     "output_type": "stream",
     "text": [
      "/home/shikhar.rai/anaconda3/envs/mpiNetCDF/lib/python3.11/site-packages/xarray/core/concat.py:546: FutureWarning: unique with argument that is not not a Series, Index, ExtensionArray, or np.ndarray is deprecated and will raise in a future version.\n",
      "  common_dims = tuple(pd.unique([d for v in vars for d in v.dims]))\n",
      "/home/shikhar.rai/anaconda3/envs/mpiNetCDF/lib/python3.11/site-packages/xarray/core/concat.py:546: FutureWarning: unique with argument that is not not a Series, Index, ExtensionArray, or np.ndarray is deprecated and will raise in a future version.\n",
      "  common_dims = tuple(pd.unique([d for v in vars for d in v.dims]))\n"
     ]
    },
    {
     "name": "stdout",
     "output_type": "stream",
     "text": [
      "T_00N_125W_xrr_MatchUp_2000.nc\n",
      "79607 82583\n"
     ]
    },
    {
     "name": "stderr",
     "output_type": "stream",
     "text": [
      "/home/shikhar.rai/anaconda3/envs/mpiNetCDF/lib/python3.11/site-packages/xarray/core/concat.py:546: FutureWarning: unique with argument that is not not a Series, Index, ExtensionArray, or np.ndarray is deprecated and will raise in a future version.\n",
      "  common_dims = tuple(pd.unique([d for v in vars for d in v.dims]))\n",
      "/home/shikhar.rai/anaconda3/envs/mpiNetCDF/lib/python3.11/site-packages/xarray/core/concat.py:546: FutureWarning: unique with argument that is not not a Series, Index, ExtensionArray, or np.ndarray is deprecated and will raise in a future version.\n",
      "  common_dims = tuple(pd.unique([d for v in vars for d in v.dims]))\n"
     ]
    },
    {
     "name": "stdout",
     "output_type": "stream",
     "text": [
      "T_00N_140W_xrr_MatchUp_2000.nc\n",
      "82583 87857\n"
     ]
    },
    {
     "name": "stderr",
     "output_type": "stream",
     "text": [
      "/home/shikhar.rai/anaconda3/envs/mpiNetCDF/lib/python3.11/site-packages/xarray/core/concat.py:546: FutureWarning: unique with argument that is not not a Series, Index, ExtensionArray, or np.ndarray is deprecated and will raise in a future version.\n",
      "  common_dims = tuple(pd.unique([d for v in vars for d in v.dims]))\n",
      "/home/shikhar.rai/anaconda3/envs/mpiNetCDF/lib/python3.11/site-packages/xarray/core/concat.py:546: FutureWarning: unique with argument that is not not a Series, Index, ExtensionArray, or np.ndarray is deprecated and will raise in a future version.\n",
      "  common_dims = tuple(pd.unique([d for v in vars for d in v.dims]))\n"
     ]
    },
    {
     "name": "stdout",
     "output_type": "stream",
     "text": [
      "T_00N_155W_xrr_MatchUp_2000.nc\n",
      "87857 92792\n"
     ]
    },
    {
     "name": "stderr",
     "output_type": "stream",
     "text": [
      "/home/shikhar.rai/anaconda3/envs/mpiNetCDF/lib/python3.11/site-packages/xarray/core/concat.py:546: FutureWarning: unique with argument that is not not a Series, Index, ExtensionArray, or np.ndarray is deprecated and will raise in a future version.\n",
      "  common_dims = tuple(pd.unique([d for v in vars for d in v.dims]))\n",
      "/home/shikhar.rai/anaconda3/envs/mpiNetCDF/lib/python3.11/site-packages/xarray/core/concat.py:546: FutureWarning: unique with argument that is not not a Series, Index, ExtensionArray, or np.ndarray is deprecated and will raise in a future version.\n",
      "  common_dims = tuple(pd.unique([d for v in vars for d in v.dims]))\n"
     ]
    },
    {
     "name": "stdout",
     "output_type": "stream",
     "text": [
      "T_00N_170W_xrr_MatchUp_2000.nc\n",
      "92792 97030\n"
     ]
    },
    {
     "name": "stderr",
     "output_type": "stream",
     "text": [
      "/home/shikhar.rai/anaconda3/envs/mpiNetCDF/lib/python3.11/site-packages/xarray/core/concat.py:546: FutureWarning: unique with argument that is not not a Series, Index, ExtensionArray, or np.ndarray is deprecated and will raise in a future version.\n",
      "  common_dims = tuple(pd.unique([d for v in vars for d in v.dims]))\n",
      "/home/shikhar.rai/anaconda3/envs/mpiNetCDF/lib/python3.11/site-packages/xarray/core/concat.py:546: FutureWarning: unique with argument that is not not a Series, Index, ExtensionArray, or np.ndarray is deprecated and will raise in a future version.\n",
      "  common_dims = tuple(pd.unique([d for v in vars for d in v.dims]))\n"
     ]
    },
    {
     "name": "stdout",
     "output_type": "stream",
     "text": [
      "T_00N_180W_xrr_MatchUp_2000.nc\n",
      "97030 99893\n"
     ]
    },
    {
     "name": "stderr",
     "output_type": "stream",
     "text": [
      "/home/shikhar.rai/anaconda3/envs/mpiNetCDF/lib/python3.11/site-packages/xarray/core/concat.py:546: FutureWarning: unique with argument that is not not a Series, Index, ExtensionArray, or np.ndarray is deprecated and will raise in a future version.\n",
      "  common_dims = tuple(pd.unique([d for v in vars for d in v.dims]))\n",
      "/home/shikhar.rai/anaconda3/envs/mpiNetCDF/lib/python3.11/site-packages/xarray/core/concat.py:546: FutureWarning: unique with argument that is not not a Series, Index, ExtensionArray, or np.ndarray is deprecated and will raise in a future version.\n",
      "  common_dims = tuple(pd.unique([d for v in vars for d in v.dims]))\n"
     ]
    },
    {
     "name": "stdout",
     "output_type": "stream",
     "text": [
      "T_00N_165E_xrr_MatchUp_2000.nc\n",
      "99893 101719\n"
     ]
    },
    {
     "name": "stderr",
     "output_type": "stream",
     "text": [
      "/home/shikhar.rai/anaconda3/envs/mpiNetCDF/lib/python3.11/site-packages/xarray/core/concat.py:546: FutureWarning: unique with argument that is not not a Series, Index, ExtensionArray, or np.ndarray is deprecated and will raise in a future version.\n",
      "  common_dims = tuple(pd.unique([d for v in vars for d in v.dims]))\n",
      "/home/shikhar.rai/anaconda3/envs/mpiNetCDF/lib/python3.11/site-packages/xarray/core/concat.py:546: FutureWarning: unique with argument that is not not a Series, Index, ExtensionArray, or np.ndarray is deprecated and will raise in a future version.\n",
      "  common_dims = tuple(pd.unique([d for v in vars for d in v.dims]))\n"
     ]
    },
    {
     "name": "stdout",
     "output_type": "stream",
     "text": [
      "T_02N_095W_xrr_MatchUp_2000.nc\n",
      "101719 104264\n"
     ]
    },
    {
     "name": "stderr",
     "output_type": "stream",
     "text": [
      "/home/shikhar.rai/anaconda3/envs/mpiNetCDF/lib/python3.11/site-packages/xarray/core/concat.py:546: FutureWarning: unique with argument that is not not a Series, Index, ExtensionArray, or np.ndarray is deprecated and will raise in a future version.\n",
      "  common_dims = tuple(pd.unique([d for v in vars for d in v.dims]))\n",
      "/home/shikhar.rai/anaconda3/envs/mpiNetCDF/lib/python3.11/site-packages/xarray/core/concat.py:546: FutureWarning: unique with argument that is not not a Series, Index, ExtensionArray, or np.ndarray is deprecated and will raise in a future version.\n",
      "  common_dims = tuple(pd.unique([d for v in vars for d in v.dims]))\n"
     ]
    },
    {
     "name": "stdout",
     "output_type": "stream",
     "text": [
      "T_02N_110W_xrr_MatchUp_2000.nc\n",
      "104264 108119\n"
     ]
    },
    {
     "name": "stderr",
     "output_type": "stream",
     "text": [
      "/home/shikhar.rai/anaconda3/envs/mpiNetCDF/lib/python3.11/site-packages/xarray/core/concat.py:546: FutureWarning: unique with argument that is not not a Series, Index, ExtensionArray, or np.ndarray is deprecated and will raise in a future version.\n",
      "  common_dims = tuple(pd.unique([d for v in vars for d in v.dims]))\n",
      "/home/shikhar.rai/anaconda3/envs/mpiNetCDF/lib/python3.11/site-packages/xarray/core/concat.py:546: FutureWarning: unique with argument that is not not a Series, Index, ExtensionArray, or np.ndarray is deprecated and will raise in a future version.\n",
      "  common_dims = tuple(pd.unique([d for v in vars for d in v.dims]))\n"
     ]
    },
    {
     "name": "stdout",
     "output_type": "stream",
     "text": [
      "T_02N_125W_xrr_MatchUp_2000.nc\n",
      "108119 111404\n"
     ]
    },
    {
     "name": "stderr",
     "output_type": "stream",
     "text": [
      "/home/shikhar.rai/anaconda3/envs/mpiNetCDF/lib/python3.11/site-packages/xarray/core/concat.py:546: FutureWarning: unique with argument that is not not a Series, Index, ExtensionArray, or np.ndarray is deprecated and will raise in a future version.\n",
      "  common_dims = tuple(pd.unique([d for v in vars for d in v.dims]))\n",
      "/home/shikhar.rai/anaconda3/envs/mpiNetCDF/lib/python3.11/site-packages/xarray/core/concat.py:546: FutureWarning: unique with argument that is not not a Series, Index, ExtensionArray, or np.ndarray is deprecated and will raise in a future version.\n",
      "  common_dims = tuple(pd.unique([d for v in vars for d in v.dims]))\n"
     ]
    },
    {
     "name": "stdout",
     "output_type": "stream",
     "text": [
      "T_02N_140W_xrr_MatchUp_2000.nc\n",
      "111404 116862\n"
     ]
    },
    {
     "name": "stderr",
     "output_type": "stream",
     "text": [
      "/home/shikhar.rai/anaconda3/envs/mpiNetCDF/lib/python3.11/site-packages/xarray/core/concat.py:546: FutureWarning: unique with argument that is not not a Series, Index, ExtensionArray, or np.ndarray is deprecated and will raise in a future version.\n",
      "  common_dims = tuple(pd.unique([d for v in vars for d in v.dims]))\n",
      "/home/shikhar.rai/anaconda3/envs/mpiNetCDF/lib/python3.11/site-packages/xarray/core/concat.py:546: FutureWarning: unique with argument that is not not a Series, Index, ExtensionArray, or np.ndarray is deprecated and will raise in a future version.\n",
      "  common_dims = tuple(pd.unique([d for v in vars for d in v.dims]))\n"
     ]
    },
    {
     "name": "stdout",
     "output_type": "stream",
     "text": [
      "T_02N_155W_xrr_MatchUp_2000.nc\n",
      "116862 121972\n"
     ]
    },
    {
     "name": "stderr",
     "output_type": "stream",
     "text": [
      "/home/shikhar.rai/anaconda3/envs/mpiNetCDF/lib/python3.11/site-packages/xarray/core/concat.py:546: FutureWarning: unique with argument that is not not a Series, Index, ExtensionArray, or np.ndarray is deprecated and will raise in a future version.\n",
      "  common_dims = tuple(pd.unique([d for v in vars for d in v.dims]))\n",
      "/home/shikhar.rai/anaconda3/envs/mpiNetCDF/lib/python3.11/site-packages/xarray/core/concat.py:546: FutureWarning: unique with argument that is not not a Series, Index, ExtensionArray, or np.ndarray is deprecated and will raise in a future version.\n",
      "  common_dims = tuple(pd.unique([d for v in vars for d in v.dims]))\n"
     ]
    },
    {
     "name": "stdout",
     "output_type": "stream",
     "text": [
      "T_02N_170W_xrr_MatchUp_2000.nc\n",
      "121972 123663\n"
     ]
    },
    {
     "name": "stderr",
     "output_type": "stream",
     "text": [
      "/home/shikhar.rai/anaconda3/envs/mpiNetCDF/lib/python3.11/site-packages/xarray/core/concat.py:546: FutureWarning: unique with argument that is not not a Series, Index, ExtensionArray, or np.ndarray is deprecated and will raise in a future version.\n",
      "  common_dims = tuple(pd.unique([d for v in vars for d in v.dims]))\n",
      "/home/shikhar.rai/anaconda3/envs/mpiNetCDF/lib/python3.11/site-packages/xarray/core/concat.py:546: FutureWarning: unique with argument that is not not a Series, Index, ExtensionArray, or np.ndarray is deprecated and will raise in a future version.\n",
      "  common_dims = tuple(pd.unique([d for v in vars for d in v.dims]))\n"
     ]
    },
    {
     "name": "stdout",
     "output_type": "stream",
     "text": [
      "T_02N_180W_xrr_MatchUp_2000.nc\n",
      "123663 127456\n"
     ]
    },
    {
     "name": "stderr",
     "output_type": "stream",
     "text": [
      "/home/shikhar.rai/anaconda3/envs/mpiNetCDF/lib/python3.11/site-packages/xarray/core/concat.py:546: FutureWarning: unique with argument that is not not a Series, Index, ExtensionArray, or np.ndarray is deprecated and will raise in a future version.\n",
      "  common_dims = tuple(pd.unique([d for v in vars for d in v.dims]))\n",
      "/home/shikhar.rai/anaconda3/envs/mpiNetCDF/lib/python3.11/site-packages/xarray/core/concat.py:546: FutureWarning: unique with argument that is not not a Series, Index, ExtensionArray, or np.ndarray is deprecated and will raise in a future version.\n",
      "  common_dims = tuple(pd.unique([d for v in vars for d in v.dims]))\n"
     ]
    },
    {
     "name": "stdout",
     "output_type": "stream",
     "text": [
      "T_02N_165E_xrr_MatchUp_2000.nc\n",
      "127456 130512\n"
     ]
    },
    {
     "name": "stderr",
     "output_type": "stream",
     "text": [
      "/home/shikhar.rai/anaconda3/envs/mpiNetCDF/lib/python3.11/site-packages/xarray/core/concat.py:546: FutureWarning: unique with argument that is not not a Series, Index, ExtensionArray, or np.ndarray is deprecated and will raise in a future version.\n",
      "  common_dims = tuple(pd.unique([d for v in vars for d in v.dims]))\n",
      "/home/shikhar.rai/anaconda3/envs/mpiNetCDF/lib/python3.11/site-packages/xarray/core/concat.py:546: FutureWarning: unique with argument that is not not a Series, Index, ExtensionArray, or np.ndarray is deprecated and will raise in a future version.\n",
      "  common_dims = tuple(pd.unique([d for v in vars for d in v.dims]))\n"
     ]
    },
    {
     "name": "stdout",
     "output_type": "stream",
     "text": [
      "T_05N_095W_xrr_MatchUp_2000.nc\n",
      "130512 134174\n"
     ]
    },
    {
     "name": "stderr",
     "output_type": "stream",
     "text": [
      "/home/shikhar.rai/anaconda3/envs/mpiNetCDF/lib/python3.11/site-packages/xarray/core/concat.py:546: FutureWarning: unique with argument that is not not a Series, Index, ExtensionArray, or np.ndarray is deprecated and will raise in a future version.\n",
      "  common_dims = tuple(pd.unique([d for v in vars for d in v.dims]))\n",
      "/home/shikhar.rai/anaconda3/envs/mpiNetCDF/lib/python3.11/site-packages/xarray/core/concat.py:546: FutureWarning: unique with argument that is not not a Series, Index, ExtensionArray, or np.ndarray is deprecated and will raise in a future version.\n",
      "  common_dims = tuple(pd.unique([d for v in vars for d in v.dims]))\n"
     ]
    },
    {
     "name": "stdout",
     "output_type": "stream",
     "text": [
      "T_05N_110W_xrr_MatchUp_2000.nc\n",
      "134174 138104\n"
     ]
    },
    {
     "name": "stderr",
     "output_type": "stream",
     "text": [
      "/home/shikhar.rai/anaconda3/envs/mpiNetCDF/lib/python3.11/site-packages/xarray/core/concat.py:546: FutureWarning: unique with argument that is not not a Series, Index, ExtensionArray, or np.ndarray is deprecated and will raise in a future version.\n",
      "  common_dims = tuple(pd.unique([d for v in vars for d in v.dims]))\n",
      "/home/shikhar.rai/anaconda3/envs/mpiNetCDF/lib/python3.11/site-packages/xarray/core/concat.py:546: FutureWarning: unique with argument that is not not a Series, Index, ExtensionArray, or np.ndarray is deprecated and will raise in a future version.\n",
      "  common_dims = tuple(pd.unique([d for v in vars for d in v.dims]))\n"
     ]
    },
    {
     "name": "stdout",
     "output_type": "stream",
     "text": [
      "T_05N_125W_xrr_MatchUp_2000.nc\n",
      "138104 141610\n"
     ]
    },
    {
     "name": "stderr",
     "output_type": "stream",
     "text": [
      "/home/shikhar.rai/anaconda3/envs/mpiNetCDF/lib/python3.11/site-packages/xarray/core/concat.py:546: FutureWarning: unique with argument that is not not a Series, Index, ExtensionArray, or np.ndarray is deprecated and will raise in a future version.\n",
      "  common_dims = tuple(pd.unique([d for v in vars for d in v.dims]))\n",
      "/home/shikhar.rai/anaconda3/envs/mpiNetCDF/lib/python3.11/site-packages/xarray/core/concat.py:546: FutureWarning: unique with argument that is not not a Series, Index, ExtensionArray, or np.ndarray is deprecated and will raise in a future version.\n",
      "  common_dims = tuple(pd.unique([d for v in vars for d in v.dims]))\n"
     ]
    },
    {
     "name": "stdout",
     "output_type": "stream",
     "text": [
      "T_05N_140W_xrr_MatchUp_2000.nc\n",
      "141610 146862\n"
     ]
    },
    {
     "name": "stderr",
     "output_type": "stream",
     "text": [
      "/home/shikhar.rai/anaconda3/envs/mpiNetCDF/lib/python3.11/site-packages/xarray/core/concat.py:546: FutureWarning: unique with argument that is not not a Series, Index, ExtensionArray, or np.ndarray is deprecated and will raise in a future version.\n",
      "  common_dims = tuple(pd.unique([d for v in vars for d in v.dims]))\n",
      "/home/shikhar.rai/anaconda3/envs/mpiNetCDF/lib/python3.11/site-packages/xarray/core/concat.py:546: FutureWarning: unique with argument that is not not a Series, Index, ExtensionArray, or np.ndarray is deprecated and will raise in a future version.\n",
      "  common_dims = tuple(pd.unique([d for v in vars for d in v.dims]))\n"
     ]
    },
    {
     "name": "stdout",
     "output_type": "stream",
     "text": [
      "T_05N_155W_xrr_MatchUp_2000.nc\n",
      "146862 149844\n"
     ]
    },
    {
     "name": "stderr",
     "output_type": "stream",
     "text": [
      "/home/shikhar.rai/anaconda3/envs/mpiNetCDF/lib/python3.11/site-packages/xarray/core/concat.py:546: FutureWarning: unique with argument that is not not a Series, Index, ExtensionArray, or np.ndarray is deprecated and will raise in a future version.\n",
      "  common_dims = tuple(pd.unique([d for v in vars for d in v.dims]))\n",
      "/home/shikhar.rai/anaconda3/envs/mpiNetCDF/lib/python3.11/site-packages/xarray/core/concat.py:546: FutureWarning: unique with argument that is not not a Series, Index, ExtensionArray, or np.ndarray is deprecated and will raise in a future version.\n",
      "  common_dims = tuple(pd.unique([d for v in vars for d in v.dims]))\n"
     ]
    },
    {
     "name": "stdout",
     "output_type": "stream",
     "text": [
      "T_05N_170W_xrr_MatchUp_2000.nc\n",
      "149844 153490\n"
     ]
    },
    {
     "name": "stderr",
     "output_type": "stream",
     "text": [
      "/home/shikhar.rai/anaconda3/envs/mpiNetCDF/lib/python3.11/site-packages/xarray/core/concat.py:546: FutureWarning: unique with argument that is not not a Series, Index, ExtensionArray, or np.ndarray is deprecated and will raise in a future version.\n",
      "  common_dims = tuple(pd.unique([d for v in vars for d in v.dims]))\n",
      "/home/shikhar.rai/anaconda3/envs/mpiNetCDF/lib/python3.11/site-packages/xarray/core/concat.py:546: FutureWarning: unique with argument that is not not a Series, Index, ExtensionArray, or np.ndarray is deprecated and will raise in a future version.\n",
      "  common_dims = tuple(pd.unique([d for v in vars for d in v.dims]))\n"
     ]
    },
    {
     "name": "stdout",
     "output_type": "stream",
     "text": [
      "T_05N_165E_xrr_MatchUp_2000.nc\n",
      "153490 156406\n"
     ]
    },
    {
     "name": "stderr",
     "output_type": "stream",
     "text": [
      "/home/shikhar.rai/anaconda3/envs/mpiNetCDF/lib/python3.11/site-packages/xarray/core/concat.py:546: FutureWarning: unique with argument that is not not a Series, Index, ExtensionArray, or np.ndarray is deprecated and will raise in a future version.\n",
      "  common_dims = tuple(pd.unique([d for v in vars for d in v.dims]))\n",
      "/home/shikhar.rai/anaconda3/envs/mpiNetCDF/lib/python3.11/site-packages/xarray/core/concat.py:546: FutureWarning: unique with argument that is not not a Series, Index, ExtensionArray, or np.ndarray is deprecated and will raise in a future version.\n",
      "  common_dims = tuple(pd.unique([d for v in vars for d in v.dims]))\n"
     ]
    },
    {
     "name": "stdout",
     "output_type": "stream",
     "text": [
      "T_08N_095W_xrr_MatchUp_2000.nc\n",
      "156406 158825\n"
     ]
    },
    {
     "name": "stderr",
     "output_type": "stream",
     "text": [
      "/home/shikhar.rai/anaconda3/envs/mpiNetCDF/lib/python3.11/site-packages/xarray/core/concat.py:546: FutureWarning: unique with argument that is not not a Series, Index, ExtensionArray, or np.ndarray is deprecated and will raise in a future version.\n",
      "  common_dims = tuple(pd.unique([d for v in vars for d in v.dims]))\n",
      "/home/shikhar.rai/anaconda3/envs/mpiNetCDF/lib/python3.11/site-packages/xarray/core/concat.py:546: FutureWarning: unique with argument that is not not a Series, Index, ExtensionArray, or np.ndarray is deprecated and will raise in a future version.\n",
      "  common_dims = tuple(pd.unique([d for v in vars for d in v.dims]))\n"
     ]
    },
    {
     "name": "stdout",
     "output_type": "stream",
     "text": [
      "T_08N_110W_xrr_MatchUp_2000.nc\n",
      "158825 163936\n"
     ]
    },
    {
     "name": "stderr",
     "output_type": "stream",
     "text": [
      "/home/shikhar.rai/anaconda3/envs/mpiNetCDF/lib/python3.11/site-packages/xarray/core/concat.py:546: FutureWarning: unique with argument that is not not a Series, Index, ExtensionArray, or np.ndarray is deprecated and will raise in a future version.\n",
      "  common_dims = tuple(pd.unique([d for v in vars for d in v.dims]))\n",
      "/home/shikhar.rai/anaconda3/envs/mpiNetCDF/lib/python3.11/site-packages/xarray/core/concat.py:546: FutureWarning: unique with argument that is not not a Series, Index, ExtensionArray, or np.ndarray is deprecated and will raise in a future version.\n",
      "  common_dims = tuple(pd.unique([d for v in vars for d in v.dims]))\n"
     ]
    },
    {
     "name": "stdout",
     "output_type": "stream",
     "text": [
      "T_08N_155W_xrr_MatchUp_2000.nc\n",
      "163936 167377\n"
     ]
    },
    {
     "name": "stderr",
     "output_type": "stream",
     "text": [
      "/home/shikhar.rai/anaconda3/envs/mpiNetCDF/lib/python3.11/site-packages/xarray/core/concat.py:546: FutureWarning: unique with argument that is not not a Series, Index, ExtensionArray, or np.ndarray is deprecated and will raise in a future version.\n",
      "  common_dims = tuple(pd.unique([d for v in vars for d in v.dims]))\n",
      "/home/shikhar.rai/anaconda3/envs/mpiNetCDF/lib/python3.11/site-packages/xarray/core/concat.py:546: FutureWarning: unique with argument that is not not a Series, Index, ExtensionArray, or np.ndarray is deprecated and will raise in a future version.\n",
      "  common_dims = tuple(pd.unique([d for v in vars for d in v.dims]))\n"
     ]
    },
    {
     "name": "stdout",
     "output_type": "stream",
     "text": [
      "T_08N_170W_xrr_MatchUp_2000.nc\n",
      "167377 172162\n"
     ]
    },
    {
     "name": "stderr",
     "output_type": "stream",
     "text": [
      "/home/shikhar.rai/anaconda3/envs/mpiNetCDF/lib/python3.11/site-packages/xarray/core/concat.py:546: FutureWarning: unique with argument that is not not a Series, Index, ExtensionArray, or np.ndarray is deprecated and will raise in a future version.\n",
      "  common_dims = tuple(pd.unique([d for v in vars for d in v.dims]))\n",
      "/home/shikhar.rai/anaconda3/envs/mpiNetCDF/lib/python3.11/site-packages/xarray/core/concat.py:546: FutureWarning: unique with argument that is not not a Series, Index, ExtensionArray, or np.ndarray is deprecated and will raise in a future version.\n",
      "  common_dims = tuple(pd.unique([d for v in vars for d in v.dims]))\n"
     ]
    },
    {
     "name": "stdout",
     "output_type": "stream",
     "text": [
      "T_08N_180W_xrr_MatchUp_2000.nc\n",
      "172162 175198\n"
     ]
    },
    {
     "name": "stderr",
     "output_type": "stream",
     "text": [
      "/home/shikhar.rai/anaconda3/envs/mpiNetCDF/lib/python3.11/site-packages/xarray/core/concat.py:546: FutureWarning: unique with argument that is not not a Series, Index, ExtensionArray, or np.ndarray is deprecated and will raise in a future version.\n",
      "  common_dims = tuple(pd.unique([d for v in vars for d in v.dims]))\n",
      "/home/shikhar.rai/anaconda3/envs/mpiNetCDF/lib/python3.11/site-packages/xarray/core/concat.py:546: FutureWarning: unique with argument that is not not a Series, Index, ExtensionArray, or np.ndarray is deprecated and will raise in a future version.\n",
      "  common_dims = tuple(pd.unique([d for v in vars for d in v.dims]))\n"
     ]
    },
    {
     "name": "stdout",
     "output_type": "stream",
     "text": [
      "T_08N_165E_xrr_MatchUp_2000.nc\n",
      "175198 179330\n"
     ]
    },
    {
     "name": "stderr",
     "output_type": "stream",
     "text": [
      "/home/shikhar.rai/anaconda3/envs/mpiNetCDF/lib/python3.11/site-packages/xarray/core/concat.py:546: FutureWarning: unique with argument that is not not a Series, Index, ExtensionArray, or np.ndarray is deprecated and will raise in a future version.\n",
      "  common_dims = tuple(pd.unique([d for v in vars for d in v.dims]))\n",
      "/home/shikhar.rai/anaconda3/envs/mpiNetCDF/lib/python3.11/site-packages/xarray/core/concat.py:546: FutureWarning: unique with argument that is not not a Series, Index, ExtensionArray, or np.ndarray is deprecated and will raise in a future version.\n",
      "  common_dims = tuple(pd.unique([d for v in vars for d in v.dims]))\n"
     ]
    },
    {
     "name": "stdout",
     "output_type": "stream",
     "text": [
      "T_09N_140W_xrr_MatchUp_2000.nc\n",
      "179330 184319\n"
     ]
    },
    {
     "name": "stderr",
     "output_type": "stream",
     "text": [
      "/home/shikhar.rai/anaconda3/envs/mpiNetCDF/lib/python3.11/site-packages/xarray/core/concat.py:546: FutureWarning: unique with argument that is not not a Series, Index, ExtensionArray, or np.ndarray is deprecated and will raise in a future version.\n",
      "  common_dims = tuple(pd.unique([d for v in vars for d in v.dims]))\n",
      "/home/shikhar.rai/anaconda3/envs/mpiNetCDF/lib/python3.11/site-packages/xarray/core/concat.py:546: FutureWarning: unique with argument that is not not a Series, Index, ExtensionArray, or np.ndarray is deprecated and will raise in a future version.\n",
      "  common_dims = tuple(pd.unique([d for v in vars for d in v.dims]))\n"
     ]
    }
   ],
   "source": [
    "latList = [-9, -8, -5, -2, 0, 2, 5, 8, 9]\n",
    "lonList = [-95, -110, -125, -140, -155, -170, -180, 165]\n",
    "\n",
    "ylen = len(latList)\n",
    "xlen = len(lonList)\n",
    "\n",
    "taskList = []\n",
    "\n",
    "for latId  in range(ylen):\n",
    "    for lonId in range(xlen):\n",
    "        taskList.append([latList[latId], lonList[lonId]])\n",
    "\n",
    "ntasks = len(taskList)\n",
    "\n",
    "\n",
    "allDS = xr.Dataset()\n",
    "dataCount = 0\n",
    "fileCount = 0\n",
    "for task in taskList:\n",
    "    lat = task[0]\n",
    "    lon = task[1]\n",
    "\n",
    "    LAT = lat\n",
    "    LON = lon\n",
    "\n",
    "    if lat < 0:\n",
    "        latUnits = 'S'\n",
    "    else:\n",
    "        latUnits = 'N'\n",
    "\n",
    "    if lon < 0:\n",
    "        lonUnits = 'W'\n",
    "    else:\n",
    "        lonUnits = 'E'\n",
    "\n",
    "    LON = (LON+360)%360\n",
    "    lat=abs(lat)\n",
    "    lon=abs(lon)\n",
    "\n",
    "    matchFname = f'../../../downloads/Buoy/extractedGZ/WINDS/T_{lat:02d}{latUnits}_{lon:03d}{lonUnits}_xrr_MatchUp_2hrMeanVar.nc'\n",
    "    #deployFileName = f'../../downloads/Buoy/extractedGZ/WINDS/T_{lat:02d}{latUnits}_{lon:03d}{lonUnits}/T_{lat:02d}{latUnits}_{lon:03d}{lonUnits}_DeploymentDates.nc'\n",
    "    \n",
    "    if os.path.isfile(matchFname):\n",
    "        print(f'T_{lat:02d}{latUnits}_{lon:03d}{lonUnits}_xrr_MatchUp_2000.nc')\n",
    "        rds = xr.open_dataset(matchFname)\n",
    "        ds = getSubDF(rds, LAT, LON)\n",
    "        QS_TIME = ds['QS_TIME'].to_numpy()\n",
    "        ds = ds.rename({'QS_TIME':'count'})\n",
    "        dataLen = len(ds['count'])\n",
    "        print(dataCount, dataCount+dataLen)\n",
    "        ds['count'] = xr.DataArray(pd.Series(np.arange(dataCount, dataCount+dataLen)), \n",
    "                                   dims = ['count'])\n",
    "        ds['QS_TIME'] = xr.DataArray(QS_TIME, \n",
    "                                   dims = ['count'])\n",
    "        dataCount += dataLen\n",
    "        if fileCount == 0:\n",
    "            allDS = ds\n",
    "        else:\n",
    "            allDS = xr.concat((allDS, ds), dim='count')\n",
    "        fileCount += 1\n",
    "        "
   ]
  },
  {
   "cell_type": "code",
   "execution_count": 8,
   "id": "76df6b60-a38d-4405-b9a7-c534163c4ae3",
   "metadata": {},
   "outputs": [],
   "source": [
    "allDS = allDS.drop_vars(['HEIGHT','DEPTH','cross_track','ambiguities'])"
   ]
  },
  {
   "cell_type": "code",
   "execution_count": 9,
   "id": "31f6540c-451c-4df0-ac8a-ee7ed153c17a",
   "metadata": {
    "scrolled": true
   },
   "outputs": [
    {
     "data": {
      "text/html": [
       "<div><svg style=\"position: absolute; width: 0; height: 0; overflow: hidden\">\n",
       "<defs>\n",
       "<symbol id=\"icon-database\" viewBox=\"0 0 32 32\">\n",
       "<path d=\"M16 0c-8.837 0-16 2.239-16 5v4c0 2.761 7.163 5 16 5s16-2.239 16-5v-4c0-2.761-7.163-5-16-5z\"></path>\n",
       "<path d=\"M16 17c-8.837 0-16-2.239-16-5v6c0 2.761 7.163 5 16 5s16-2.239 16-5v-6c0 2.761-7.163 5-16 5z\"></path>\n",
       "<path d=\"M16 26c-8.837 0-16-2.239-16-5v6c0 2.761 7.163 5 16 5s16-2.239 16-5v-6c0 2.761-7.163 5-16 5z\"></path>\n",
       "</symbol>\n",
       "<symbol id=\"icon-file-text2\" viewBox=\"0 0 32 32\">\n",
       "<path d=\"M28.681 7.159c-0.694-0.947-1.662-2.053-2.724-3.116s-2.169-2.030-3.116-2.724c-1.612-1.182-2.393-1.319-2.841-1.319h-15.5c-1.378 0-2.5 1.121-2.5 2.5v27c0 1.378 1.122 2.5 2.5 2.5h23c1.378 0 2.5-1.122 2.5-2.5v-19.5c0-0.448-0.137-1.23-1.319-2.841zM24.543 5.457c0.959 0.959 1.712 1.825 2.268 2.543h-4.811v-4.811c0.718 0.556 1.584 1.309 2.543 2.268zM28 29.5c0 0.271-0.229 0.5-0.5 0.5h-23c-0.271 0-0.5-0.229-0.5-0.5v-27c0-0.271 0.229-0.5 0.5-0.5 0 0 15.499-0 15.5 0v7c0 0.552 0.448 1 1 1h7v19.5z\"></path>\n",
       "<path d=\"M23 26h-14c-0.552 0-1-0.448-1-1s0.448-1 1-1h14c0.552 0 1 0.448 1 1s-0.448 1-1 1z\"></path>\n",
       "<path d=\"M23 22h-14c-0.552 0-1-0.448-1-1s0.448-1 1-1h14c0.552 0 1 0.448 1 1s-0.448 1-1 1z\"></path>\n",
       "<path d=\"M23 18h-14c-0.552 0-1-0.448-1-1s0.448-1 1-1h14c0.552 0 1 0.448 1 1s-0.448 1-1 1z\"></path>\n",
       "</symbol>\n",
       "</defs>\n",
       "</svg>\n",
       "<style>/* CSS stylesheet for displaying xarray objects in jupyterlab.\n",
       " *\n",
       " */\n",
       "\n",
       ":root {\n",
       "  --xr-font-color0: var(--jp-content-font-color0, rgba(0, 0, 0, 1));\n",
       "  --xr-font-color2: var(--jp-content-font-color2, rgba(0, 0, 0, 0.54));\n",
       "  --xr-font-color3: var(--jp-content-font-color3, rgba(0, 0, 0, 0.38));\n",
       "  --xr-border-color: var(--jp-border-color2, #e0e0e0);\n",
       "  --xr-disabled-color: var(--jp-layout-color3, #bdbdbd);\n",
       "  --xr-background-color: var(--jp-layout-color0, white);\n",
       "  --xr-background-color-row-even: var(--jp-layout-color1, white);\n",
       "  --xr-background-color-row-odd: var(--jp-layout-color2, #eeeeee);\n",
       "}\n",
       "\n",
       "html[theme=dark],\n",
       "body[data-theme=dark],\n",
       "body.vscode-dark {\n",
       "  --xr-font-color0: rgba(255, 255, 255, 1);\n",
       "  --xr-font-color2: rgba(255, 255, 255, 0.54);\n",
       "  --xr-font-color3: rgba(255, 255, 255, 0.38);\n",
       "  --xr-border-color: #1F1F1F;\n",
       "  --xr-disabled-color: #515151;\n",
       "  --xr-background-color: #111111;\n",
       "  --xr-background-color-row-even: #111111;\n",
       "  --xr-background-color-row-odd: #313131;\n",
       "}\n",
       "\n",
       ".xr-wrap {\n",
       "  display: block !important;\n",
       "  min-width: 300px;\n",
       "  max-width: 700px;\n",
       "}\n",
       "\n",
       ".xr-text-repr-fallback {\n",
       "  /* fallback to plain text repr when CSS is not injected (untrusted notebook) */\n",
       "  display: none;\n",
       "}\n",
       "\n",
       ".xr-header {\n",
       "  padding-top: 6px;\n",
       "  padding-bottom: 6px;\n",
       "  margin-bottom: 4px;\n",
       "  border-bottom: solid 1px var(--xr-border-color);\n",
       "}\n",
       "\n",
       ".xr-header > div,\n",
       ".xr-header > ul {\n",
       "  display: inline;\n",
       "  margin-top: 0;\n",
       "  margin-bottom: 0;\n",
       "}\n",
       "\n",
       ".xr-obj-type,\n",
       ".xr-array-name {\n",
       "  margin-left: 2px;\n",
       "  margin-right: 10px;\n",
       "}\n",
       "\n",
       ".xr-obj-type {\n",
       "  color: var(--xr-font-color2);\n",
       "}\n",
       "\n",
       ".xr-sections {\n",
       "  padding-left: 0 !important;\n",
       "  display: grid;\n",
       "  grid-template-columns: 150px auto auto 1fr 20px 20px;\n",
       "}\n",
       "\n",
       ".xr-section-item {\n",
       "  display: contents;\n",
       "}\n",
       "\n",
       ".xr-section-item input {\n",
       "  display: none;\n",
       "}\n",
       "\n",
       ".xr-section-item input + label {\n",
       "  color: var(--xr-disabled-color);\n",
       "}\n",
       "\n",
       ".xr-section-item input:enabled + label {\n",
       "  cursor: pointer;\n",
       "  color: var(--xr-font-color2);\n",
       "}\n",
       "\n",
       ".xr-section-item input:enabled + label:hover {\n",
       "  color: var(--xr-font-color0);\n",
       "}\n",
       "\n",
       ".xr-section-summary {\n",
       "  grid-column: 1;\n",
       "  color: var(--xr-font-color2);\n",
       "  font-weight: 500;\n",
       "}\n",
       "\n",
       ".xr-section-summary > span {\n",
       "  display: inline-block;\n",
       "  padding-left: 0.5em;\n",
       "}\n",
       "\n",
       ".xr-section-summary-in:disabled + label {\n",
       "  color: var(--xr-font-color2);\n",
       "}\n",
       "\n",
       ".xr-section-summary-in + label:before {\n",
       "  display: inline-block;\n",
       "  content: '►';\n",
       "  font-size: 11px;\n",
       "  width: 15px;\n",
       "  text-align: center;\n",
       "}\n",
       "\n",
       ".xr-section-summary-in:disabled + label:before {\n",
       "  color: var(--xr-disabled-color);\n",
       "}\n",
       "\n",
       ".xr-section-summary-in:checked + label:before {\n",
       "  content: '▼';\n",
       "}\n",
       "\n",
       ".xr-section-summary-in:checked + label > span {\n",
       "  display: none;\n",
       "}\n",
       "\n",
       ".xr-section-summary,\n",
       ".xr-section-inline-details {\n",
       "  padding-top: 4px;\n",
       "  padding-bottom: 4px;\n",
       "}\n",
       "\n",
       ".xr-section-inline-details {\n",
       "  grid-column: 2 / -1;\n",
       "}\n",
       "\n",
       ".xr-section-details {\n",
       "  display: none;\n",
       "  grid-column: 1 / -1;\n",
       "  margin-bottom: 5px;\n",
       "}\n",
       "\n",
       ".xr-section-summary-in:checked ~ .xr-section-details {\n",
       "  display: contents;\n",
       "}\n",
       "\n",
       ".xr-array-wrap {\n",
       "  grid-column: 1 / -1;\n",
       "  display: grid;\n",
       "  grid-template-columns: 20px auto;\n",
       "}\n",
       "\n",
       ".xr-array-wrap > label {\n",
       "  grid-column: 1;\n",
       "  vertical-align: top;\n",
       "}\n",
       "\n",
       ".xr-preview {\n",
       "  color: var(--xr-font-color3);\n",
       "}\n",
       "\n",
       ".xr-array-preview,\n",
       ".xr-array-data {\n",
       "  padding: 0 5px !important;\n",
       "  grid-column: 2;\n",
       "}\n",
       "\n",
       ".xr-array-data,\n",
       ".xr-array-in:checked ~ .xr-array-preview {\n",
       "  display: none;\n",
       "}\n",
       "\n",
       ".xr-array-in:checked ~ .xr-array-data,\n",
       ".xr-array-preview {\n",
       "  display: inline-block;\n",
       "}\n",
       "\n",
       ".xr-dim-list {\n",
       "  display: inline-block !important;\n",
       "  list-style: none;\n",
       "  padding: 0 !important;\n",
       "  margin: 0;\n",
       "}\n",
       "\n",
       ".xr-dim-list li {\n",
       "  display: inline-block;\n",
       "  padding: 0;\n",
       "  margin: 0;\n",
       "}\n",
       "\n",
       ".xr-dim-list:before {\n",
       "  content: '(';\n",
       "}\n",
       "\n",
       ".xr-dim-list:after {\n",
       "  content: ')';\n",
       "}\n",
       "\n",
       ".xr-dim-list li:not(:last-child):after {\n",
       "  content: ',';\n",
       "  padding-right: 5px;\n",
       "}\n",
       "\n",
       ".xr-has-index {\n",
       "  font-weight: bold;\n",
       "}\n",
       "\n",
       ".xr-var-list,\n",
       ".xr-var-item {\n",
       "  display: contents;\n",
       "}\n",
       "\n",
       ".xr-var-item > div,\n",
       ".xr-var-item label,\n",
       ".xr-var-item > .xr-var-name span {\n",
       "  background-color: var(--xr-background-color-row-even);\n",
       "  margin-bottom: 0;\n",
       "}\n",
       "\n",
       ".xr-var-item > .xr-var-name:hover span {\n",
       "  padding-right: 5px;\n",
       "}\n",
       "\n",
       ".xr-var-list > li:nth-child(odd) > div,\n",
       ".xr-var-list > li:nth-child(odd) > label,\n",
       ".xr-var-list > li:nth-child(odd) > .xr-var-name span {\n",
       "  background-color: var(--xr-background-color-row-odd);\n",
       "}\n",
       "\n",
       ".xr-var-name {\n",
       "  grid-column: 1;\n",
       "}\n",
       "\n",
       ".xr-var-dims {\n",
       "  grid-column: 2;\n",
       "}\n",
       "\n",
       ".xr-var-dtype {\n",
       "  grid-column: 3;\n",
       "  text-align: right;\n",
       "  color: var(--xr-font-color2);\n",
       "}\n",
       "\n",
       ".xr-var-preview {\n",
       "  grid-column: 4;\n",
       "}\n",
       "\n",
       ".xr-index-preview {\n",
       "  grid-column: 2 / 5;\n",
       "  color: var(--xr-font-color2);\n",
       "}\n",
       "\n",
       ".xr-var-name,\n",
       ".xr-var-dims,\n",
       ".xr-var-dtype,\n",
       ".xr-preview,\n",
       ".xr-attrs dt {\n",
       "  white-space: nowrap;\n",
       "  overflow: hidden;\n",
       "  text-overflow: ellipsis;\n",
       "  padding-right: 10px;\n",
       "}\n",
       "\n",
       ".xr-var-name:hover,\n",
       ".xr-var-dims:hover,\n",
       ".xr-var-dtype:hover,\n",
       ".xr-attrs dt:hover {\n",
       "  overflow: visible;\n",
       "  width: auto;\n",
       "  z-index: 1;\n",
       "}\n",
       "\n",
       ".xr-var-attrs,\n",
       ".xr-var-data,\n",
       ".xr-index-data {\n",
       "  display: none;\n",
       "  background-color: var(--xr-background-color) !important;\n",
       "  padding-bottom: 5px !important;\n",
       "}\n",
       "\n",
       ".xr-var-attrs-in:checked ~ .xr-var-attrs,\n",
       ".xr-var-data-in:checked ~ .xr-var-data,\n",
       ".xr-index-data-in:checked ~ .xr-index-data {\n",
       "  display: block;\n",
       "}\n",
       "\n",
       ".xr-var-data > table {\n",
       "  float: right;\n",
       "}\n",
       "\n",
       ".xr-var-name span,\n",
       ".xr-var-data,\n",
       ".xr-index-name div,\n",
       ".xr-index-data,\n",
       ".xr-attrs {\n",
       "  padding-left: 25px !important;\n",
       "}\n",
       "\n",
       ".xr-attrs,\n",
       ".xr-var-attrs,\n",
       ".xr-var-data,\n",
       ".xr-index-data {\n",
       "  grid-column: 1 / -1;\n",
       "}\n",
       "\n",
       "dl.xr-attrs {\n",
       "  padding: 0;\n",
       "  margin: 0;\n",
       "  display: grid;\n",
       "  grid-template-columns: 125px auto;\n",
       "}\n",
       "\n",
       ".xr-attrs dt,\n",
       ".xr-attrs dd {\n",
       "  padding: 0;\n",
       "  margin: 0;\n",
       "  float: left;\n",
       "  padding-right: 10px;\n",
       "  width: auto;\n",
       "}\n",
       "\n",
       ".xr-attrs dt {\n",
       "  font-weight: normal;\n",
       "  grid-column: 1;\n",
       "}\n",
       "\n",
       ".xr-attrs dt:hover span {\n",
       "  display: inline-block;\n",
       "  background: var(--xr-background-color);\n",
       "  padding-right: 10px;\n",
       "}\n",
       "\n",
       ".xr-attrs dd {\n",
       "  grid-column: 2;\n",
       "  white-space: pre-wrap;\n",
       "  word-break: break-all;\n",
       "}\n",
       "\n",
       ".xr-icon-database,\n",
       ".xr-icon-file-text2,\n",
       ".xr-no-icon {\n",
       "  display: inline-block;\n",
       "  vertical-align: middle;\n",
       "  width: 1em;\n",
       "  height: 1.5em !important;\n",
       "  stroke-width: 0;\n",
       "  stroke: currentColor;\n",
       "  fill: currentColor;\n",
       "}\n",
       "</style><pre class='xr-text-repr-fallback'>&lt;xarray.Dataset&gt;\n",
       "Dimensions:                           (count: 184319)\n",
       "Coordinates:\n",
       "  * count                             (count) int64 0 1 2 ... 184317 184318\n",
       "Data variables: (12/63)\n",
       "    WDIR                              (count) float32 123.6 128.2 ... 217.6\n",
       "    WDIR_QC                           (count) float32 2.0 2.0 2.0 ... 2.0 2.0\n",
       "    WDIR_DM                           (count) |S1 b&#x27;D&#x27; b&#x27;D&#x27; b&#x27;D&#x27; ... b&#x27;D&#x27; b&#x27;D&#x27;\n",
       "    WSPD                              (count) float32 5.39 5.3 ... 10.64 9.83\n",
       "    WSPD_QC                           (count) float32 2.0 2.0 2.0 ... 2.0 2.0\n",
       "    WSPD_DM                           (count) |S1 b&#x27;D&#x27; b&#x27;D&#x27; b&#x27;D&#x27; ... b&#x27;D&#x27; b&#x27;D&#x27;\n",
       "    ...                                ...\n",
       "    number_out_fore                   (count) float64 6.0 7.0 7.0 ... 16.0 14.0\n",
       "    number_out_aft                    (count) float64 8.0 7.0 9.0 ... 26.0 26.0\n",
       "    gmf_sst                           (count) float64 23.89 23.79 ... 26.45\n",
       "    distance_from_coast               (count) float64 864.0 876.0 ... 1.886e+03\n",
       "    exp_bias_wrt_oceanward_neighbors  (count) float64 0.0 0.0 0.0 ... 0.0 0.0\n",
       "    QS_TIME                           (count) datetime64[ns] 2000-01-01T00:34...</pre><div class='xr-wrap' style='display:none'><div class='xr-header'><div class='xr-obj-type'>xarray.Dataset</div></div><ul class='xr-sections'><li class='xr-section-item'><input id='section-30f602b9-d4a7-42f8-a0a3-ee38bcd034b5' class='xr-section-summary-in' type='checkbox' disabled ><label for='section-30f602b9-d4a7-42f8-a0a3-ee38bcd034b5' class='xr-section-summary'  title='Expand/collapse section'>Dimensions:</label><div class='xr-section-inline-details'><ul class='xr-dim-list'><li><span class='xr-has-index'>count</span>: 184319</li></ul></div><div class='xr-section-details'></div></li><li class='xr-section-item'><input id='section-c9fedf35-bf5d-4786-8f49-b0a6f296b493' class='xr-section-summary-in' type='checkbox'  checked><label for='section-c9fedf35-bf5d-4786-8f49-b0a6f296b493' class='xr-section-summary' >Coordinates: <span>(1)</span></label><div class='xr-section-inline-details'></div><div class='xr-section-details'><ul class='xr-var-list'><li class='xr-var-item'><div class='xr-var-name'><span class='xr-has-index'>count</span></div><div class='xr-var-dims'>(count)</div><div class='xr-var-dtype'>int64</div><div class='xr-var-preview xr-preview'>0 1 2 3 ... 184316 184317 184318</div><input id='attrs-9af69aa6-39a3-4096-9d39-dc3f4e4f19f2' class='xr-var-attrs-in' type='checkbox' disabled><label for='attrs-9af69aa6-39a3-4096-9d39-dc3f4e4f19f2' title='Show/Hide attributes'><svg class='icon xr-icon-file-text2'><use xlink:href='#icon-file-text2'></use></svg></label><input id='data-40529b03-530e-471b-82e7-07cd9e32c9b7' class='xr-var-data-in' type='checkbox'><label for='data-40529b03-530e-471b-82e7-07cd9e32c9b7' title='Show/Hide data repr'><svg class='icon xr-icon-database'><use xlink:href='#icon-database'></use></svg></label><div class='xr-var-attrs'><dl class='xr-attrs'></dl></div><div class='xr-var-data'><pre>array([     0,      1,      2, ..., 184316, 184317, 184318])</pre></div></li></ul></div></li><li class='xr-section-item'><input id='section-f88a3f87-705a-4194-9329-c049f95cce0a' class='xr-section-summary-in' type='checkbox'  ><label for='section-f88a3f87-705a-4194-9329-c049f95cce0a' class='xr-section-summary' >Data variables: <span>(63)</span></label><div class='xr-section-inline-details'></div><div class='xr-section-details'><ul class='xr-var-list'><li class='xr-var-item'><div class='xr-var-name'><span>WDIR</span></div><div class='xr-var-dims'>(count)</div><div class='xr-var-dtype'>float32</div><div class='xr-var-preview xr-preview'>123.6 128.2 128.7 ... 216.0 217.6</div><input id='attrs-67f94358-11d4-485b-8d22-d3e9393c6ffc' class='xr-var-attrs-in' type='checkbox' disabled><label for='attrs-67f94358-11d4-485b-8d22-d3e9393c6ffc' title='Show/Hide attributes'><svg class='icon xr-icon-file-text2'><use xlink:href='#icon-file-text2'></use></svg></label><input id='data-455d4c5e-e274-46f9-b6ae-c7f07b51011a' class='xr-var-data-in' type='checkbox'><label for='data-455d4c5e-e274-46f9-b6ae-c7f07b51011a' title='Show/Hide data repr'><svg class='icon xr-icon-database'><use xlink:href='#icon-database'></use></svg></label><div class='xr-var-attrs'><dl class='xr-attrs'></dl></div><div class='xr-var-data'><pre>array([123.600006, 128.20001 , 128.70001 , ..., 218.5     , 216.      ,\n",
       "       217.6     ], dtype=float32)</pre></div></li><li class='xr-var-item'><div class='xr-var-name'><span>WDIR_QC</span></div><div class='xr-var-dims'>(count)</div><div class='xr-var-dtype'>float32</div><div class='xr-var-preview xr-preview'>2.0 2.0 2.0 2.0 ... 2.0 2.0 2.0 2.0</div><input id='attrs-55032e8e-1398-4ee3-9139-4e920a42d3b0' class='xr-var-attrs-in' type='checkbox' ><label for='attrs-55032e8e-1398-4ee3-9139-4e920a42d3b0' title='Show/Hide attributes'><svg class='icon xr-icon-file-text2'><use xlink:href='#icon-file-text2'></use></svg></label><input id='data-95778e8e-3524-40a5-ace9-3033b52d43fb' class='xr-var-data-in' type='checkbox'><label for='data-95778e8e-3524-40a5-ace9-3033b52d43fb' title='Show/Hide data repr'><svg class='icon xr-icon-database'><use xlink:href='#icon-database'></use></svg></label><div class='xr-var-attrs'><dl class='xr-attrs'><dt><span>long_name :</span></dt><dd>quality flag</dd><dt><span>valid_min :</span></dt><dd>0</dd><dt><span>valid_max :</span></dt><dd>9</dd><dt><span>flag_values :</span></dt><dd>[0 1 2 3 4 5 9]</dd><dt><span>flag_meanings :</span></dt><dd>unknown good_data probably_good_data questionable_data bad_data adjusted_data missing_data</dd><dt><span>coordinates :</span></dt><dd>TIME HEIGHT LATITUDE LONGITUDE</dd></dl></div><div class='xr-var-data'><pre>array([2., 2., 2., ..., 2., 2., 2.], dtype=float32)</pre></div></li><li class='xr-var-item'><div class='xr-var-name'><span>WDIR_DM</span></div><div class='xr-var-dims'>(count)</div><div class='xr-var-dtype'>|S1</div><div class='xr-var-preview xr-preview'>b&#x27;D&#x27; b&#x27;D&#x27; b&#x27;D&#x27; ... b&#x27;D&#x27; b&#x27;D&#x27; b&#x27;D&#x27;</div><input id='attrs-ad2a2350-6ba3-4c6c-bc51-4988cd8c15e5' class='xr-var-attrs-in' type='checkbox' ><label for='attrs-ad2a2350-6ba3-4c6c-bc51-4988cd8c15e5' title='Show/Hide attributes'><svg class='icon xr-icon-file-text2'><use xlink:href='#icon-file-text2'></use></svg></label><input id='data-a57db367-c4be-4901-8e5f-fa158d9641f9' class='xr-var-data-in' type='checkbox'><label for='data-a57db367-c4be-4901-8e5f-fa158d9641f9' title='Show/Hide data repr'><svg class='icon xr-icon-database'><use xlink:href='#icon-database'></use></svg></label><div class='xr-var-attrs'><dl class='xr-attrs'><dt><span>long_name :</span></dt><dd>data mode</dd><dt><span>flag_values :</span></dt><dd>R, P, D, M</dd><dt><span>flag_meanings :</span></dt><dd>real-time provisional delayed-mode mixed</dd><dt><span>coordinates :</span></dt><dd>TIME HEIGHT LATITUDE LONGITUDE</dd></dl></div><div class='xr-var-data'><pre>array([b&#x27;D&#x27;, b&#x27;D&#x27;, b&#x27;D&#x27;, ..., b&#x27;D&#x27;, b&#x27;D&#x27;, b&#x27;D&#x27;], dtype=&#x27;|S1&#x27;)</pre></div></li><li class='xr-var-item'><div class='xr-var-name'><span>WSPD</span></div><div class='xr-var-dims'>(count)</div><div class='xr-var-dtype'>float32</div><div class='xr-var-preview xr-preview'>5.39 5.3 5.04 ... 9.7 10.64 9.83</div><input id='attrs-1eb39240-a13e-48fd-9a11-f43bf65f95d7' class='xr-var-attrs-in' type='checkbox' ><label for='attrs-1eb39240-a13e-48fd-9a11-f43bf65f95d7' title='Show/Hide attributes'><svg class='icon xr-icon-file-text2'><use xlink:href='#icon-file-text2'></use></svg></label><input id='data-4424e6d4-c2db-4136-94dc-286a75fe8bea' class='xr-var-data-in' type='checkbox'><label for='data-4424e6d4-c2db-4136-94dc-286a75fe8bea' title='Show/Hide data repr'><svg class='icon xr-icon-database'><use xlink:href='#icon-database'></use></svg></label><div class='xr-var-attrs'><dl class='xr-attrs'><dt><span>standard_name :</span></dt><dd>wind_speed</dd><dt><span>long_name :</span></dt><dd>Wind Speed</dd><dt><span>units :</span></dt><dd>meters/second</dd><dt><span>valid_min :</span></dt><dd>0.0</dd><dt><span>valid_max :</span></dt><dd>20.0</dd><dt><span>accuracy :</span></dt><dd>0.3 meters/second or 3%</dd><dt><span>resolution :</span></dt><dd>0.2</dd><dt><span>sensor_name :</span></dt><dd>Wind Propeller [R.M. Young/05103]</dd><dt><span>sensor_serial_number :</span></dt><dd>WIND-11280</dd><dt><span>ancillary_variables :</span></dt><dd>WSPD_QC WSPD_DM</dd><dt><span>cell_methods :</span></dt><dd>TIME: mean (interval: 2 minutes) HEIGHT:point LATITUDE:point LONGITUDE:point</dd><dt><span>coordinates :</span></dt><dd>TIME HEIGHT LATITUDE LONGITUDE</dd></dl></div><div class='xr-var-data'><pre>array([ 5.39,  5.3 ,  5.04, ...,  9.7 , 10.64,  9.83], dtype=float32)</pre></div></li><li class='xr-var-item'><div class='xr-var-name'><span>WSPD_QC</span></div><div class='xr-var-dims'>(count)</div><div class='xr-var-dtype'>float32</div><div class='xr-var-preview xr-preview'>2.0 2.0 2.0 2.0 ... 2.0 2.0 2.0 2.0</div><input id='attrs-8b5b85f6-dd8f-4cf8-a108-8efbbc35a70c' class='xr-var-attrs-in' type='checkbox' ><label for='attrs-8b5b85f6-dd8f-4cf8-a108-8efbbc35a70c' title='Show/Hide attributes'><svg class='icon xr-icon-file-text2'><use xlink:href='#icon-file-text2'></use></svg></label><input id='data-82e198e4-ee8e-461d-89f9-4d42e49aef58' class='xr-var-data-in' type='checkbox'><label for='data-82e198e4-ee8e-461d-89f9-4d42e49aef58' title='Show/Hide data repr'><svg class='icon xr-icon-database'><use xlink:href='#icon-database'></use></svg></label><div class='xr-var-attrs'><dl class='xr-attrs'><dt><span>long_name :</span></dt><dd>quality flag</dd><dt><span>valid_min :</span></dt><dd>0</dd><dt><span>valid_max :</span></dt><dd>9</dd><dt><span>flag_values :</span></dt><dd>[0 1 2 3 4 5 9]</dd><dt><span>flag_meanings :</span></dt><dd>unknown good_data probably_good_data questionable_data bad_data adjusted_data missing_data</dd><dt><span>coordinates :</span></dt><dd>TIME HEIGHT LATITUDE LONGITUDE</dd></dl></div><div class='xr-var-data'><pre>array([2., 2., 2., ..., 2., 2., 2.], dtype=float32)</pre></div></li><li class='xr-var-item'><div class='xr-var-name'><span>WSPD_DM</span></div><div class='xr-var-dims'>(count)</div><div class='xr-var-dtype'>|S1</div><div class='xr-var-preview xr-preview'>b&#x27;D&#x27; b&#x27;D&#x27; b&#x27;D&#x27; ... b&#x27;D&#x27; b&#x27;D&#x27; b&#x27;D&#x27;</div><input id='attrs-04503665-bbdc-4a2e-9a09-01c6500008c5' class='xr-var-attrs-in' type='checkbox' ><label for='attrs-04503665-bbdc-4a2e-9a09-01c6500008c5' title='Show/Hide attributes'><svg class='icon xr-icon-file-text2'><use xlink:href='#icon-file-text2'></use></svg></label><input id='data-6183418b-8164-46ab-8673-5fdd6b4d8eb3' class='xr-var-data-in' type='checkbox'><label for='data-6183418b-8164-46ab-8673-5fdd6b4d8eb3' title='Show/Hide data repr'><svg class='icon xr-icon-database'><use xlink:href='#icon-database'></use></svg></label><div class='xr-var-attrs'><dl class='xr-attrs'><dt><span>long_name :</span></dt><dd>data mode</dd><dt><span>flag_values :</span></dt><dd>R, P, D, M</dd><dt><span>flag_meanings :</span></dt><dd>real-time provisional delayed-mode mixed</dd><dt><span>coordinates :</span></dt><dd>TIME HEIGHT LATITUDE LONGITUDE</dd></dl></div><div class='xr-var-data'><pre>array([b&#x27;D&#x27;, b&#x27;D&#x27;, b&#x27;D&#x27;, ..., b&#x27;D&#x27;, b&#x27;D&#x27;, b&#x27;D&#x27;], dtype=&#x27;|S1&#x27;)</pre></div></li><li class='xr-var-item'><div class='xr-var-name'><span>UWND</span></div><div class='xr-var-dims'>(count)</div><div class='xr-var-dtype'>float32</div><div class='xr-var-preview xr-preview'>-2.98 -3.28 -3.15 ... -8.6 -7.78</div><input id='attrs-3168dc58-80fc-4855-be56-54bc7fa9f93a' class='xr-var-attrs-in' type='checkbox' ><label for='attrs-3168dc58-80fc-4855-be56-54bc7fa9f93a' title='Show/Hide attributes'><svg class='icon xr-icon-file-text2'><use xlink:href='#icon-file-text2'></use></svg></label><input id='data-c62c7e58-9943-4c23-b1d6-f42100308159' class='xr-var-data-in' type='checkbox'><label for='data-c62c7e58-9943-4c23-b1d6-f42100308159' title='Show/Hide data repr'><svg class='icon xr-icon-database'><use xlink:href='#icon-database'></use></svg></label><div class='xr-var-attrs'><dl class='xr-attrs'><dt><span>standard_name :</span></dt><dd>eastward_wind</dd><dt><span>long_name :</span></dt><dd>Wind Speed U Component</dd><dt><span>units :</span></dt><dd>meters/second</dd><dt><span>valid_min :</span></dt><dd>0.0</dd><dt><span>valid_max :</span></dt><dd>20.0</dd><dt><span>accuracy :</span></dt><dd>0.3 meters/second or 3%</dd><dt><span>resolution :</span></dt><dd>0.2</dd><dt><span>sensor_name :</span></dt><dd>Wind Propeller [R.M. Young/05103]</dd><dt><span>sensor_serial_number :</span></dt><dd>WIND-11280</dd><dt><span>ancillary_variables :</span></dt><dd>WDIR_QC WDIR_DM WSPD_QC WSPD_DM</dd><dt><span>cell_methods :</span></dt><dd>TIME: mean (interval: 2 minutes) HEIGHT:point LATITUDE:point LONGITUDE:point</dd><dt><span>coordinates :</span></dt><dd>TIME HEIGHT LATITUDE LONGITUDE</dd></dl></div><div class='xr-var-data'><pre>array([-2.98, -3.28, -3.15, ..., -7.59, -8.6 , -7.78], dtype=float32)</pre></div></li><li class='xr-var-item'><div class='xr-var-name'><span>VWND</span></div><div class='xr-var-dims'>(count)</div><div class='xr-var-dtype'>float32</div><div class='xr-var-preview xr-preview'>4.49 4.17 3.93 ... -6.04 -6.25 -6.0</div><input id='attrs-e35117b8-d5bb-4f3e-8e40-439fecef3a6d' class='xr-var-attrs-in' type='checkbox' ><label for='attrs-e35117b8-d5bb-4f3e-8e40-439fecef3a6d' title='Show/Hide attributes'><svg class='icon xr-icon-file-text2'><use xlink:href='#icon-file-text2'></use></svg></label><input id='data-133e185c-2e9d-4afb-a012-cfb837524bd8' class='xr-var-data-in' type='checkbox'><label for='data-133e185c-2e9d-4afb-a012-cfb837524bd8' title='Show/Hide data repr'><svg class='icon xr-icon-database'><use xlink:href='#icon-database'></use></svg></label><div class='xr-var-attrs'><dl class='xr-attrs'><dt><span>standard_name :</span></dt><dd>northward_wind</dd><dt><span>long_name :</span></dt><dd>Wind Speed V Component</dd><dt><span>units :</span></dt><dd>meters/second</dd><dt><span>valid_min :</span></dt><dd>0.0</dd><dt><span>valid_max :</span></dt><dd>20.0</dd><dt><span>accuracy :</span></dt><dd>0.3 meters/second or 3%</dd><dt><span>resolution :</span></dt><dd>0.2</dd><dt><span>sensor_name :</span></dt><dd>Wind Propeller [R.M. Young/05103]</dd><dt><span>sensor_serial_number :</span></dt><dd>WIND-11280</dd><dt><span>ancillary_variables :</span></dt><dd>WDIR_QC WDIR_DM WSPD_QC WSPD_DM</dd><dt><span>cell_methods :</span></dt><dd>TIME: mean (interval: 2 minutes) HEIGHT:point LATITUDE:point LONGITUDE:point</dd><dt><span>coordinates :</span></dt><dd>TIME HEIGHT LATITUDE LONGITUDE</dd></dl></div><div class='xr-var-data'><pre>array([ 4.49,  4.17,  3.93, ..., -6.04, -6.25, -6.  ], dtype=float32)</pre></div></li><li class='xr-var-item'><div class='xr-var-name'><span>SST</span></div><div class='xr-var-dims'>(count)</div><div class='xr-var-dtype'>float32</div><div class='xr-var-preview xr-preview'>23.75 23.74 23.94 ... 26.66 26.66</div><input id='attrs-414b3691-3f09-4f00-995a-b64f4d88ce1a' class='xr-var-attrs-in' type='checkbox' ><label for='attrs-414b3691-3f09-4f00-995a-b64f4d88ce1a' title='Show/Hide attributes'><svg class='icon xr-icon-file-text2'><use xlink:href='#icon-file-text2'></use></svg></label><input id='data-da35da01-cbc1-46a9-9aa8-4b78addb11e6' class='xr-var-data-in' type='checkbox'><label for='data-da35da01-cbc1-46a9-9aa8-4b78addb11e6' title='Show/Hide data repr'><svg class='icon xr-icon-database'><use xlink:href='#icon-database'></use></svg></label><div class='xr-var-attrs'><dl class='xr-attrs'><dt><span>standard_name :</span></dt><dd>sea_surface_temperature</dd><dt><span>long_name :</span></dt><dd>Sea Surface Temperature</dd><dt><span>units :</span></dt><dd>degree_Celsius</dd><dt><span>valid_min :</span></dt><dd>-5.0</dd><dt><span>valid_max :</span></dt><dd>35.0</dd><dt><span>accuracy :</span></dt><dd>0.003</dd><dt><span>resolution :</span></dt><dd>0.001</dd><dt><span>sensor_name :</span></dt><dd>Thermistor [Seabird/SBE 16/37]</dd><dt><span>sensor_serial_number :</span></dt><dd>SST-11736/1m </dd><dt><span>ancillary_variables :</span></dt><dd>SST_QC SST_DM</dd><dt><span>cell_methods :</span></dt><dd>TIME:point DEPTH:point LATITUDE:point LONGITUDE:point</dd><dt><span>reference_scale :</span></dt><dd>ITS-90</dd><dt><span>coordinates :</span></dt><dd>TIME DEPTH LATITUDE LONGITUDE</dd></dl></div><div class='xr-var-data'><pre>array([23.745, 23.743, 23.938, ..., 26.757, 26.661, 26.662], dtype=float32)</pre></div></li><li class='xr-var-item'><div class='xr-var-name'><span>SST_QC</span></div><div class='xr-var-dims'>(count)</div><div class='xr-var-dtype'>float32</div><div class='xr-var-preview xr-preview'>2.0 2.0 2.0 2.0 ... 2.0 2.0 2.0 2.0</div><input id='attrs-3b902395-8387-4c6a-8e57-57dd32cc1e4f' class='xr-var-attrs-in' type='checkbox' ><label for='attrs-3b902395-8387-4c6a-8e57-57dd32cc1e4f' title='Show/Hide attributes'><svg class='icon xr-icon-file-text2'><use xlink:href='#icon-file-text2'></use></svg></label><input id='data-38036f38-8dbc-4731-8f80-1b7bcaa3c5ee' class='xr-var-data-in' type='checkbox'><label for='data-38036f38-8dbc-4731-8f80-1b7bcaa3c5ee' title='Show/Hide data repr'><svg class='icon xr-icon-database'><use xlink:href='#icon-database'></use></svg></label><div class='xr-var-attrs'><dl class='xr-attrs'><dt><span>long_name :</span></dt><dd>quality flag</dd><dt><span>valid_min :</span></dt><dd>0</dd><dt><span>valid_max :</span></dt><dd>9</dd><dt><span>flag_values :</span></dt><dd>[0 1 2 3 4 5 9]</dd><dt><span>flag_meanings :</span></dt><dd>unknown good_data probably_good_data questionable_data bad_data adjusted_data missing_data</dd><dt><span>coordinates :</span></dt><dd>TIME DEPTH LATITUDE LONGITUDE</dd></dl></div><div class='xr-var-data'><pre>array([2., 2., 2., ..., 2., 2., 2.], dtype=float32)</pre></div></li><li class='xr-var-item'><div class='xr-var-name'><span>SST_DM</span></div><div class='xr-var-dims'>(count)</div><div class='xr-var-dtype'>|S1</div><div class='xr-var-preview xr-preview'>b&#x27;D&#x27; b&#x27;D&#x27; b&#x27;D&#x27; ... b&#x27;D&#x27; b&#x27;D&#x27; b&#x27;D&#x27;</div><input id='attrs-55c68107-e471-4822-b3eb-6be50b49ed7e' class='xr-var-attrs-in' type='checkbox' ><label for='attrs-55c68107-e471-4822-b3eb-6be50b49ed7e' title='Show/Hide attributes'><svg class='icon xr-icon-file-text2'><use xlink:href='#icon-file-text2'></use></svg></label><input id='data-ee845954-896a-4255-9aea-1978ca1879da' class='xr-var-data-in' type='checkbox'><label for='data-ee845954-896a-4255-9aea-1978ca1879da' title='Show/Hide data repr'><svg class='icon xr-icon-database'><use xlink:href='#icon-database'></use></svg></label><div class='xr-var-attrs'><dl class='xr-attrs'><dt><span>long_name :</span></dt><dd>data mode</dd><dt><span>flag_values :</span></dt><dd>R, P, D, M</dd><dt><span>flag_meanings :</span></dt><dd>real-time provisional delayed-mode mixed</dd><dt><span>coordinates :</span></dt><dd>TIME DEPTH LATITUDE LONGITUDE</dd></dl></div><div class='xr-var-data'><pre>array([b&#x27;D&#x27;, b&#x27;D&#x27;, b&#x27;D&#x27;, ..., b&#x27;D&#x27;, b&#x27;D&#x27;, b&#x27;D&#x27;], dtype=&#x27;|S1&#x27;)</pre></div></li><li class='xr-var-item'><div class='xr-var-name'><span>RELH</span></div><div class='xr-var-dims'>(count)</div><div class='xr-var-dtype'>float32</div><div class='xr-var-preview xr-preview'>73.83 73.3 75.73 ... 93.63 94.33</div><input id='attrs-64662dfd-68b2-4b4a-8f3b-0c407cdce482' class='xr-var-attrs-in' type='checkbox' ><label for='attrs-64662dfd-68b2-4b4a-8f3b-0c407cdce482' title='Show/Hide attributes'><svg class='icon xr-icon-file-text2'><use xlink:href='#icon-file-text2'></use></svg></label><input id='data-7796ae24-34c3-4f7c-b967-a3c1eb461a6e' class='xr-var-data-in' type='checkbox'><label for='data-7796ae24-34c3-4f7c-b967-a3c1eb461a6e' title='Show/Hide data repr'><svg class='icon xr-icon-database'><use xlink:href='#icon-database'></use></svg></label><div class='xr-var-attrs'><dl class='xr-attrs'><dt><span>standard_name :</span></dt><dd>relative_humidity</dd><dt><span>long_name :</span></dt><dd>Relative Humidity</dd><dt><span>units :</span></dt><dd>1</dd><dt><span>valid_min :</span></dt><dd>0.0</dd><dt><span>valid_max :</span></dt><dd>100.0</dd><dt><span>accuracy :</span></dt><dd>2.7%RH in range of 55-95 %RH</dd><dt><span>resolution :</span></dt><dd>0.4</dd><dt><span>sensor_name :</span></dt><dd>Humidity-temperature Capacitance [Rotronics/MP101A]</dd><dt><span>sensor_serial_number :</span></dt><dd>RH-58340</dd><dt><span>ancillary_variables :</span></dt><dd>RELH_QC RELH_DM</dd><dt><span>cell_methods :</span></dt><dd>TIME: mean (interval: 2 minutes) HEIGHT:point LATITUDE:point LONGITUDE:point</dd><dt><span>coordinates :</span></dt><dd>TIME HEIGHT LATITUDE LONGITUDE</dd></dl></div><div class='xr-var-data'><pre>array([73.83, 73.3 , 75.73, ..., 88.56, 93.63, 94.33], dtype=float32)</pre></div></li><li class='xr-var-item'><div class='xr-var-name'><span>RELH_QC</span></div><div class='xr-var-dims'>(count)</div><div class='xr-var-dtype'>float32</div><div class='xr-var-preview xr-preview'>2.0 2.0 2.0 2.0 ... 2.0 2.0 2.0 2.0</div><input id='attrs-41675dc7-c5ed-49ce-97f4-cb93b8fa56a6' class='xr-var-attrs-in' type='checkbox' ><label for='attrs-41675dc7-c5ed-49ce-97f4-cb93b8fa56a6' title='Show/Hide attributes'><svg class='icon xr-icon-file-text2'><use xlink:href='#icon-file-text2'></use></svg></label><input id='data-ed4130e6-fb3d-4297-b578-38ae49e9a4ac' class='xr-var-data-in' type='checkbox'><label for='data-ed4130e6-fb3d-4297-b578-38ae49e9a4ac' title='Show/Hide data repr'><svg class='icon xr-icon-database'><use xlink:href='#icon-database'></use></svg></label><div class='xr-var-attrs'><dl class='xr-attrs'><dt><span>long_name :</span></dt><dd>quality flag</dd><dt><span>valid_min :</span></dt><dd>0</dd><dt><span>valid_max :</span></dt><dd>9</dd><dt><span>flag_values :</span></dt><dd>[0 1 2 3 4 5 9]</dd><dt><span>flag_meanings :</span></dt><dd>unknown good_data probably_good_data questionable_data bad_data adjusted_data missing_data</dd><dt><span>coordinates :</span></dt><dd>TIME HEIGHT LATITUDE LONGITUDE</dd></dl></div><div class='xr-var-data'><pre>array([2., 2., 2., ..., 2., 2., 2.], dtype=float32)</pre></div></li><li class='xr-var-item'><div class='xr-var-name'><span>RELH_DM</span></div><div class='xr-var-dims'>(count)</div><div class='xr-var-dtype'>|S1</div><div class='xr-var-preview xr-preview'>b&#x27;D&#x27; b&#x27;D&#x27; b&#x27;D&#x27; ... b&#x27;D&#x27; b&#x27;D&#x27; b&#x27;D&#x27;</div><input id='attrs-82b20cf3-a81b-410e-ba59-912cabf9580e' class='xr-var-attrs-in' type='checkbox' ><label for='attrs-82b20cf3-a81b-410e-ba59-912cabf9580e' title='Show/Hide attributes'><svg class='icon xr-icon-file-text2'><use xlink:href='#icon-file-text2'></use></svg></label><input id='data-f890e4e0-768a-424b-a873-d8e2f2081469' class='xr-var-data-in' type='checkbox'><label for='data-f890e4e0-768a-424b-a873-d8e2f2081469' title='Show/Hide data repr'><svg class='icon xr-icon-database'><use xlink:href='#icon-database'></use></svg></label><div class='xr-var-attrs'><dl class='xr-attrs'><dt><span>long_name :</span></dt><dd>data mode</dd><dt><span>flag_values :</span></dt><dd>R, P, D, M</dd><dt><span>flag_meanings :</span></dt><dd>real-time provisional delayed-mode mixed</dd><dt><span>coordinates :</span></dt><dd>TIME HEIGHT LATITUDE LONGITUDE</dd></dl></div><div class='xr-var-data'><pre>array([b&#x27;D&#x27;, b&#x27;D&#x27;, b&#x27;D&#x27;, ..., b&#x27;D&#x27;, b&#x27;D&#x27;, b&#x27;D&#x27;], dtype=&#x27;|S1&#x27;)</pre></div></li><li class='xr-var-item'><div class='xr-var-name'><span>AIRT</span></div><div class='xr-var-dims'>(count)</div><div class='xr-var-dtype'>float32</div><div class='xr-var-preview xr-preview'>22.93 22.84 23.2 ... 25.11 25.17</div><input id='attrs-6a6f53cb-c08b-4665-bda3-c16dc99c9dde' class='xr-var-attrs-in' type='checkbox' ><label for='attrs-6a6f53cb-c08b-4665-bda3-c16dc99c9dde' title='Show/Hide attributes'><svg class='icon xr-icon-file-text2'><use xlink:href='#icon-file-text2'></use></svg></label><input id='data-0709dbb1-4a85-4035-a14a-e748ddb9d8df' class='xr-var-data-in' type='checkbox'><label for='data-0709dbb1-4a85-4035-a14a-e748ddb9d8df' title='Show/Hide data repr'><svg class='icon xr-icon-database'><use xlink:href='#icon-database'></use></svg></label><div class='xr-var-attrs'><dl class='xr-attrs'><dt><span>standard_name :</span></dt><dd>air_temperature</dd><dt><span>long_name :</span></dt><dd>Air Temperature</dd><dt><span>units :</span></dt><dd>degree_Celsius</dd><dt><span>valid_min :</span></dt><dd>0.0</dd><dt><span>valid_max :</span></dt><dd>40.0</dd><dt><span>accuracy :</span></dt><dd>0.2 Degree C in range of 14-32 Degrees C</dd><dt><span>resolution :</span></dt><dd>0.01</dd><dt><span>sensor_name :</span></dt><dd>Humidity-temperature Pt100 RTD [Rotronics/MP101A]</dd><dt><span>sensor_serial_number :</span></dt><dd>AIR-58340</dd><dt><span>ancillary_variables :</span></dt><dd>AIRT_QC AIRT_DM</dd><dt><span>cell_methods :</span></dt><dd>TIME: mean (interval: 2 minutes) HEIGHT:point LATITUDE:point LONGITUDE:point</dd><dt><span>coordinates :</span></dt><dd>TIME HEIGHT LATITUDE LONGITUDE</dd></dl></div><div class='xr-var-data'><pre>array([22.93, 22.84, 23.2 , ..., 26.26, 25.11, 25.17], dtype=float32)</pre></div></li><li class='xr-var-item'><div class='xr-var-name'><span>AIRT_QC</span></div><div class='xr-var-dims'>(count)</div><div class='xr-var-dtype'>float32</div><div class='xr-var-preview xr-preview'>2.0 2.0 2.0 2.0 ... 2.0 2.0 2.0 2.0</div><input id='attrs-d70ac50e-c657-4f23-a288-7d5186e6048a' class='xr-var-attrs-in' type='checkbox' ><label for='attrs-d70ac50e-c657-4f23-a288-7d5186e6048a' title='Show/Hide attributes'><svg class='icon xr-icon-file-text2'><use xlink:href='#icon-file-text2'></use></svg></label><input id='data-0eef80db-f2f5-484d-bea4-2e4d47bc9494' class='xr-var-data-in' type='checkbox'><label for='data-0eef80db-f2f5-484d-bea4-2e4d47bc9494' title='Show/Hide data repr'><svg class='icon xr-icon-database'><use xlink:href='#icon-database'></use></svg></label><div class='xr-var-attrs'><dl class='xr-attrs'><dt><span>long_name :</span></dt><dd>quality flag</dd><dt><span>valid_min :</span></dt><dd>0</dd><dt><span>valid_max :</span></dt><dd>9</dd><dt><span>flag_values :</span></dt><dd>[0 1 2 3 4 5 9]</dd><dt><span>flag_meanings :</span></dt><dd>unknown good_data probably_good_data questionable_data bad_data adjusted_data missing_data</dd><dt><span>coordinates :</span></dt><dd>TIME HEIGHT LATITUDE LONGITUDE</dd></dl></div><div class='xr-var-data'><pre>array([2., 2., 2., ..., 2., 2., 2.], dtype=float32)</pre></div></li><li class='xr-var-item'><div class='xr-var-name'><span>AIRT_DM</span></div><div class='xr-var-dims'>(count)</div><div class='xr-var-dtype'>|S1</div><div class='xr-var-preview xr-preview'>b&#x27;D&#x27; b&#x27;D&#x27; b&#x27;D&#x27; ... b&#x27;D&#x27; b&#x27;D&#x27; b&#x27;D&#x27;</div><input id='attrs-3ba550d2-4d2b-4c69-8209-1a4cba182aef' class='xr-var-attrs-in' type='checkbox' ><label for='attrs-3ba550d2-4d2b-4c69-8209-1a4cba182aef' title='Show/Hide attributes'><svg class='icon xr-icon-file-text2'><use xlink:href='#icon-file-text2'></use></svg></label><input id='data-dd601d91-592b-43c6-b704-7bacdbf288ff' class='xr-var-data-in' type='checkbox'><label for='data-dd601d91-592b-43c6-b704-7bacdbf288ff' title='Show/Hide data repr'><svg class='icon xr-icon-database'><use xlink:href='#icon-database'></use></svg></label><div class='xr-var-attrs'><dl class='xr-attrs'><dt><span>long_name :</span></dt><dd>data mode</dd><dt><span>flag_values :</span></dt><dd>R, P, D, M</dd><dt><span>flag_meanings :</span></dt><dd>real-time provisional delayed-mode mixed</dd><dt><span>coordinates :</span></dt><dd>TIME HEIGHT LATITUDE LONGITUDE</dd></dl></div><div class='xr-var-data'><pre>array([b&#x27;D&#x27;, b&#x27;D&#x27;, b&#x27;D&#x27;, ..., b&#x27;D&#x27;, b&#x27;D&#x27;, b&#x27;D&#x27;], dtype=&#x27;|S1&#x27;)</pre></div></li><li class='xr-var-item'><div class='xr-var-name'><span>WSPD_10N</span></div><div class='xr-var-dims'>(count)</div><div class='xr-var-dtype'>float64</div><div class='xr-var-preview xr-preview'>5.926 5.837 5.542 ... 11.74 10.82</div><input id='attrs-24a25556-7ab6-41c2-8214-446bb837618f' class='xr-var-attrs-in' type='checkbox' ><label for='attrs-24a25556-7ab6-41c2-8214-446bb837618f' title='Show/Hide attributes'><svg class='icon xr-icon-file-text2'><use xlink:href='#icon-file-text2'></use></svg></label><input id='data-96eac61f-c2f1-46ef-8c82-16e487e23a49' class='xr-var-data-in' type='checkbox'><label for='data-96eac61f-c2f1-46ef-8c82-16e487e23a49' title='Show/Hide data repr'><svg class='icon xr-icon-database'><use xlink:href='#icon-database'></use></svg></label><div class='xr-var-attrs'><dl class='xr-attrs'><dt><span>units :</span></dt><dd>meters/second</dd><dt><span>long_name :</span></dt><dd>10 m neutral winds from COARE3.5</dd><dt><span>vars_used_to_calculate :</span></dt><dd>SST RH AIRT WSPD</dd></dl></div><div class='xr-var-data'><pre>array([ 5.92616114,  5.83692496,  5.54152742, ..., 10.63778828,\n",
       "       11.73990277, 10.82380597])</pre></div></li><li class='xr-var-item'><div class='xr-var-name'><span>WSPD_10</span></div><div class='xr-var-dims'>(count)</div><div class='xr-var-dtype'>float64</div><div class='xr-var-preview xr-preview'>5.71 5.608 5.332 ... 11.6 10.68</div><input id='attrs-de02e2ad-f23c-463e-9c8e-44a1f68d010f' class='xr-var-attrs-in' type='checkbox' ><label for='attrs-de02e2ad-f23c-463e-9c8e-44a1f68d010f' title='Show/Hide attributes'><svg class='icon xr-icon-file-text2'><use xlink:href='#icon-file-text2'></use></svg></label><input id='data-c3c1ea76-55e2-4b41-9c9a-abd33f6c7c89' class='xr-var-data-in' type='checkbox'><label for='data-c3c1ea76-55e2-4b41-9c9a-abd33f6c7c89' title='Show/Hide data repr'><svg class='icon xr-icon-database'><use xlink:href='#icon-database'></use></svg></label><div class='xr-var-attrs'><dl class='xr-attrs'><dt><span>units :</span></dt><dd>meters/second</dd><dt><span>long_name :</span></dt><dd>10 m winds from COARE3.5</dd><dt><span>vars_used_to_calculate :</span></dt><dd>SST RH AIRT WSPD</dd></dl></div><div class='xr-var-data'><pre>array([ 5.70954285,  5.60758902,  5.33155489, ..., 10.56418869,\n",
       "       11.60119697, 10.67700556])</pre></div></li><li class='xr-var-item'><div class='xr-var-name'><span>mean_WSPD</span></div><div class='xr-var-dims'>(count)</div><div class='xr-var-dtype'>float64</div><div class='xr-var-preview xr-preview'>nan nan 5.543 ... 9.763 10.44 10.48</div><input id='attrs-71f3b969-418e-46ef-be88-db1c684fc737' class='xr-var-attrs-in' type='checkbox' ><label for='attrs-71f3b969-418e-46ef-be88-db1c684fc737' title='Show/Hide attributes'><svg class='icon xr-icon-file-text2'><use xlink:href='#icon-file-text2'></use></svg></label><input id='data-b0b0c333-31c3-498e-bf02-e7b2553dc33a' class='xr-var-data-in' type='checkbox'><label for='data-b0b0c333-31c3-498e-bf02-e7b2553dc33a' title='Show/Hide data repr'><svg class='icon xr-icon-database'><use xlink:href='#icon-database'></use></svg></label><div class='xr-var-attrs'><dl class='xr-attrs'><dt><span>statistic :</span></dt><dd>running mean with 12*10 minutes using convolution</dd></dl></div><div class='xr-var-data'><pre>array([        nan,         nan,  5.54250002, ...,  9.7633334 ,\n",
       "       10.44166668, 10.48333335])</pre></div></li><li class='xr-var-item'><div class='xr-var-name'><span>std_WSPD</span></div><div class='xr-var-dims'>(count)</div><div class='xr-var-dtype'>float64</div><div class='xr-var-preview xr-preview'>nan nan 0.4685 ... 0.6479 0.7015</div><input id='attrs-2d704d99-1ef0-4826-9873-efb483f280a2' class='xr-var-attrs-in' type='checkbox' ><label for='attrs-2d704d99-1ef0-4826-9873-efb483f280a2' title='Show/Hide attributes'><svg class='icon xr-icon-file-text2'><use xlink:href='#icon-file-text2'></use></svg></label><input id='data-dd711608-0674-4046-be02-eb09e445702e' class='xr-var-data-in' type='checkbox'><label for='data-dd711608-0674-4046-be02-eb09e445702e' title='Show/Hide data repr'><svg class='icon xr-icon-database'><use xlink:href='#icon-database'></use></svg></label><div class='xr-var-attrs'><dl class='xr-attrs'><dt><span>statistic :</span></dt><dd>running std. dev with 12*10 minutes using convolution</dd></dl></div><div class='xr-var-data'><pre>array([       nan,        nan, 0.46849189, ..., 0.43930458, 0.64793028,\n",
       "       0.70150274])</pre></div></li><li class='xr-var-item'><div class='xr-var-name'><span>mean_WSPD_10N</span></div><div class='xr-var-dims'>(count)</div><div class='xr-var-dtype'>float64</div><div class='xr-var-preview xr-preview'>nan nan 6.083 ... 10.71 11.51 11.56</div><input id='attrs-daa61af3-9f9a-4390-8791-3f8181872b58' class='xr-var-attrs-in' type='checkbox' ><label for='attrs-daa61af3-9f9a-4390-8791-3f8181872b58' title='Show/Hide attributes'><svg class='icon xr-icon-file-text2'><use xlink:href='#icon-file-text2'></use></svg></label><input id='data-3d2e0d3a-1f50-42a9-b966-d2c664ccb0b2' class='xr-var-data-in' type='checkbox'><label for='data-3d2e0d3a-1f50-42a9-b966-d2c664ccb0b2' title='Show/Hide data repr'><svg class='icon xr-icon-database'><use xlink:href='#icon-database'></use></svg></label><div class='xr-var-attrs'><dl class='xr-attrs'><dt><span>statistic :</span></dt><dd>running mean with 12*10 minutes using convolution</dd></dl></div><div class='xr-var-data'><pre>array([        nan,         nan,  6.08281355, ..., 10.71003456,\n",
       "       11.51475487, 11.56160688])</pre></div></li><li class='xr-var-item'><div class='xr-var-name'><span>std_WSPD_10N</span></div><div class='xr-var-dims'>(count)</div><div class='xr-var-dtype'>float64</div><div class='xr-var-preview xr-preview'>nan nan 0.5073 ... 0.7341 0.794</div><input id='attrs-b5ad81b8-655d-4afa-b57c-61e14a5e01ce' class='xr-var-attrs-in' type='checkbox' ><label for='attrs-b5ad81b8-655d-4afa-b57c-61e14a5e01ce' title='Show/Hide attributes'><svg class='icon xr-icon-file-text2'><use xlink:href='#icon-file-text2'></use></svg></label><input id='data-f226e837-03ed-4211-adb0-9ae571c048d1' class='xr-var-data-in' type='checkbox'><label for='data-f226e837-03ed-4211-adb0-9ae571c048d1' title='Show/Hide data repr'><svg class='icon xr-icon-database'><use xlink:href='#icon-database'></use></svg></label><div class='xr-var-attrs'><dl class='xr-attrs'><dt><span>statistic :</span></dt><dd>running std. dev with 12*10 minutes using convolution</dd></dl></div><div class='xr-var-data'><pre>array([       nan,        nan, 0.50726429, ..., 0.49449757, 0.73409726,\n",
       "       0.79398251])</pre></div></li><li class='xr-var-item'><div class='xr-var-name'><span>mean_SST</span></div><div class='xr-var-dims'>(count)</div><div class='xr-var-dtype'>float64</div><div class='xr-var-preview xr-preview'>nan nan 23.96 ... 26.76 26.66 26.66</div><input id='attrs-96ef6c78-1c09-4ce3-8270-a565b6f10953' class='xr-var-attrs-in' type='checkbox' ><label for='attrs-96ef6c78-1c09-4ce3-8270-a565b6f10953' title='Show/Hide attributes'><svg class='icon xr-icon-file-text2'><use xlink:href='#icon-file-text2'></use></svg></label><input id='data-7a4b832c-6948-47c0-9ec1-da9583273d18' class='xr-var-data-in' type='checkbox'><label for='data-7a4b832c-6948-47c0-9ec1-da9583273d18' title='Show/Hide data repr'><svg class='icon xr-icon-database'><use xlink:href='#icon-database'></use></svg></label><div class='xr-var-attrs'><dl class='xr-attrs'><dt><span>statistic :</span></dt><dd>running mean with 12*10 minutes using convolution</dd></dl></div><div class='xr-var-data'><pre>array([        nan,         nan, 23.95991659, ..., 26.75683339,\n",
       "       26.66216675, 26.6596667 ])</pre></div></li><li class='xr-var-item'><div class='xr-var-name'><span>std_SST</span></div><div class='xr-var-dims'>(count)</div><div class='xr-var-dtype'>float64</div><div class='xr-var-preview xr-preview'>nan nan ... 0.005831 0.006778</div><input id='attrs-61c45414-9231-44b1-ae3c-99d3f16f356b' class='xr-var-attrs-in' type='checkbox' ><label for='attrs-61c45414-9231-44b1-ae3c-99d3f16f356b' title='Show/Hide attributes'><svg class='icon xr-icon-file-text2'><use xlink:href='#icon-file-text2'></use></svg></label><input id='data-d2a70764-882b-4ead-b722-181a3a47eade' class='xr-var-data-in' type='checkbox'><label for='data-d2a70764-882b-4ead-b722-181a3a47eade' title='Show/Hide data repr'><svg class='icon xr-icon-database'><use xlink:href='#icon-database'></use></svg></label><div class='xr-var-attrs'><dl class='xr-attrs'><dt><span>statistic :</span></dt><dd>running std. dev with 12*10 minutes using convolution</dd></dl></div><div class='xr-var-data'><pre>array([       nan,        nan, 0.04636298, ..., 0.0017017 , 0.00583132,\n",
       "       0.0067782 ])</pre></div></li><li class='xr-var-item'><div class='xr-var-name'><span>mean_AIRT</span></div><div class='xr-var-dims'>(count)</div><div class='xr-var-dtype'>float64</div><div class='xr-var-preview xr-preview'>nan nan 23.23 ... 26.26 25.16 25.17</div><input id='attrs-c5cd0f7b-51d3-4429-b0de-597d79d14ff4' class='xr-var-attrs-in' type='checkbox' ><label for='attrs-c5cd0f7b-51d3-4429-b0de-597d79d14ff4' title='Show/Hide attributes'><svg class='icon xr-icon-file-text2'><use xlink:href='#icon-file-text2'></use></svg></label><input id='data-6235fdef-eb3c-41af-9c9b-cc9ed4f295d9' class='xr-var-data-in' type='checkbox'><label for='data-6235fdef-eb3c-41af-9c9b-cc9ed4f295d9' title='Show/Hide data repr'><svg class='icon xr-icon-database'><use xlink:href='#icon-database'></use></svg></label><div class='xr-var-attrs'><dl class='xr-attrs'><dt><span>statistic :</span></dt><dd>running mean with 12*10 minutes using convolution</dd></dl></div><div class='xr-var-data'><pre>array([        nan,         nan, 23.22750044, ..., 26.25916656,\n",
       "       25.16416677, 25.17416684])</pre></div></li><li class='xr-var-item'><div class='xr-var-name'><span>std_AIRT</span></div><div class='xr-var-dims'>(count)</div><div class='xr-var-dtype'>float64</div><div class='xr-var-preview xr-preview'>nan nan 0.04324 ... 0.1168 0.1275</div><input id='attrs-4d7d0b56-9623-4e7e-b784-f6beff76f002' class='xr-var-attrs-in' type='checkbox' ><label for='attrs-4d7d0b56-9623-4e7e-b784-f6beff76f002' title='Show/Hide attributes'><svg class='icon xr-icon-file-text2'><use xlink:href='#icon-file-text2'></use></svg></label><input id='data-3707d2d5-3535-4209-bea3-776385cbbae1' class='xr-var-data-in' type='checkbox'><label for='data-3707d2d5-3535-4209-bea3-776385cbbae1' title='Show/Hide data repr'><svg class='icon xr-icon-database'><use xlink:href='#icon-database'></use></svg></label><div class='xr-var-attrs'><dl class='xr-attrs'><dt><span>statistic :</span></dt><dd>running std. dev with 12*10 minutes using convolution</dd></dl></div><div class='xr-var-data'><pre>array([       nan,        nan, 0.043239  , ..., 0.10893222, 0.11684567,\n",
       "       0.12754546])</pre></div></li><li class='xr-var-item'><div class='xr-var-name'><span>mean_RELH</span></div><div class='xr-var-dims'>(count)</div><div class='xr-var-dtype'>float64</div><div class='xr-var-preview xr-preview'>nan nan 75.38 ... 88.67 94.33 94.43</div><input id='attrs-3de137d1-8fa7-40b7-a42c-6993ecece4d0' class='xr-var-attrs-in' type='checkbox' ><label for='attrs-3de137d1-8fa7-40b7-a42c-6993ecece4d0' title='Show/Hide attributes'><svg class='icon xr-icon-file-text2'><use xlink:href='#icon-file-text2'></use></svg></label><input id='data-0a7764c4-3135-4aa1-a876-a5c09308ba36' class='xr-var-data-in' type='checkbox'><label for='data-0a7764c4-3135-4aa1-a876-a5c09308ba36' title='Show/Hide data repr'><svg class='icon xr-icon-database'><use xlink:href='#icon-database'></use></svg></label><div class='xr-var-attrs'><dl class='xr-attrs'><dt><span>statistic :</span></dt><dd>running mean with 12*10 minutes using convolution</dd></dl></div><div class='xr-var-data'><pre>array([        nan,         nan, 75.37833341, ..., 88.66583252,\n",
       "       94.3283329 , 94.43083318])</pre></div></li><li class='xr-var-item'><div class='xr-var-name'><span>std_RELH</span></div><div class='xr-var-dims'>(count)</div><div class='xr-var-dtype'>float64</div><div class='xr-var-preview xr-preview'>nan nan 0.9694 ... 0.6008 0.6102</div><input id='attrs-f802adc1-9be7-4206-8668-ea2cd663731c' class='xr-var-attrs-in' type='checkbox' ><label for='attrs-f802adc1-9be7-4206-8668-ea2cd663731c' title='Show/Hide attributes'><svg class='icon xr-icon-file-text2'><use xlink:href='#icon-file-text2'></use></svg></label><input id='data-720d529c-36c4-48b9-8094-d807bed7ebdc' class='xr-var-data-in' type='checkbox'><label for='data-720d529c-36c4-48b9-8094-d807bed7ebdc' title='Show/Hide data repr'><svg class='icon xr-icon-database'><use xlink:href='#icon-database'></use></svg></label><div class='xr-var-attrs'><dl class='xr-attrs'><dt><span>statistic :</span></dt><dd>running std. dev with 12*10 minutes using convolution</dd></dl></div><div class='xr-var-data'><pre>array([       nan,        nan, 0.9694219 , ..., 0.95254101, 0.60083775,\n",
       "       0.61020563])</pre></div></li><li class='xr-var-item'><div class='xr-var-name'><span>mean_U10N_x</span></div><div class='xr-var-dims'>(count)</div><div class='xr-var-dtype'>float64</div><div class='xr-var-preview xr-preview'>nan nan -3.909 ... -9.33 -9.417</div><input id='attrs-dcc30ef8-01df-4084-8c74-5bffde94cb36' class='xr-var-attrs-in' type='checkbox' ><label for='attrs-dcc30ef8-01df-4084-8c74-5bffde94cb36' title='Show/Hide attributes'><svg class='icon xr-icon-file-text2'><use xlink:href='#icon-file-text2'></use></svg></label><input id='data-0001aa1b-b125-4339-b0af-b26849e46c7a' class='xr-var-data-in' type='checkbox'><label for='data-0001aa1b-b125-4339-b0af-b26849e46c7a' title='Show/Hide data repr'><svg class='icon xr-icon-database'><use xlink:href='#icon-database'></use></svg></label><div class='xr-var-attrs'><dl class='xr-attrs'><dt><span>statistic :</span></dt><dd>running mean with 12*10 minutes using convolution</dd></dl></div><div class='xr-var-data'><pre>array([        nan,         nan, -3.9088721 , ..., -8.74841134,\n",
       "       -9.33012894, -9.41684482])</pre></div></li><li class='xr-var-item'><div class='xr-var-name'><span>std_U10N_x</span></div><div class='xr-var-dims'>(count)</div><div class='xr-var-dtype'>float64</div><div class='xr-var-preview xr-preview'>nan nan 0.5038 ... 0.8238 0.8614</div><input id='attrs-7e3101d7-e35a-4e24-9734-e4dda9400228' class='xr-var-attrs-in' type='checkbox' ><label for='attrs-7e3101d7-e35a-4e24-9734-e4dda9400228' title='Show/Hide attributes'><svg class='icon xr-icon-file-text2'><use xlink:href='#icon-file-text2'></use></svg></label><input id='data-0213539f-75b5-41d4-b840-eb2eff758744' class='xr-var-data-in' type='checkbox'><label for='data-0213539f-75b5-41d4-b840-eb2eff758744' title='Show/Hide data repr'><svg class='icon xr-icon-database'><use xlink:href='#icon-database'></use></svg></label><div class='xr-var-attrs'><dl class='xr-attrs'><dt><span>statistic :</span></dt><dd>running std. dev with 12*10 minutes using convolution</dd></dl></div><div class='xr-var-data'><pre>array([       nan,        nan, 0.50382105, ..., 0.62807643, 0.82375405,\n",
       "       0.86138494])</pre></div></li><li class='xr-var-item'><div class='xr-var-name'><span>mean_U10N_y</span></div><div class='xr-var-dims'>(count)</div><div class='xr-var-dtype'>float64</div><div class='xr-var-preview xr-preview'>nan nan 4.645 ... -6.668 -6.635</div><input id='attrs-51845b77-4b57-4cee-909d-294ce41721c6' class='xr-var-attrs-in' type='checkbox' ><label for='attrs-51845b77-4b57-4cee-909d-294ce41721c6' title='Show/Hide attributes'><svg class='icon xr-icon-file-text2'><use xlink:href='#icon-file-text2'></use></svg></label><input id='data-4276d87f-19ee-4856-b060-6fb4e1cce483' class='xr-var-data-in' type='checkbox'><label for='data-4276d87f-19ee-4856-b060-6fb4e1cce483' title='Show/Hide data repr'><svg class='icon xr-icon-database'><use xlink:href='#icon-database'></use></svg></label><div class='xr-var-attrs'><dl class='xr-attrs'><dt><span>statistic :</span></dt><dd>running mean with 12*10 minutes using convolution</dd></dl></div><div class='xr-var-data'><pre>array([        nan,         nan,  4.64546955, ..., -6.14749234,\n",
       "       -6.66832284, -6.6354092 ])</pre></div></li><li class='xr-var-item'><div class='xr-var-name'><span>std_U10N_y</span></div><div class='xr-var-dims'>(count)</div><div class='xr-var-dtype'>float64</div><div class='xr-var-preview xr-preview'>nan nan 0.38 ... 0.9654 0.9239</div><input id='attrs-a36b5121-756c-43cb-b124-7e2e14fd419a' class='xr-var-attrs-in' type='checkbox' ><label for='attrs-a36b5121-756c-43cb-b124-7e2e14fd419a' title='Show/Hide attributes'><svg class='icon xr-icon-file-text2'><use xlink:href='#icon-file-text2'></use></svg></label><input id='data-1c682924-7e04-40b4-bc26-175e035023d5' class='xr-var-data-in' type='checkbox'><label for='data-1c682924-7e04-40b4-bc26-175e035023d5' title='Show/Hide data repr'><svg class='icon xr-icon-database'><use xlink:href='#icon-database'></use></svg></label><div class='xr-var-attrs'><dl class='xr-attrs'><dt><span>statistic :</span></dt><dd>running std. dev with 12*10 minutes using convolution</dd></dl></div><div class='xr-var-data'><pre>array([       nan,        nan, 0.38004436, ..., 0.47804559, 0.96543855,\n",
       "       0.92388102])</pre></div></li><li class='xr-var-item'><div class='xr-var-name'><span>mean_cosWDIR</span></div><div class='xr-var-dims'>(count)</div><div class='xr-var-dtype'>float64</div><div class='xr-var-preview xr-preview'>nan nan -0.6411 ... -0.8104 -0.8144</div><input id='attrs-36d09213-9ec2-49b5-a874-9598ae15b6e7' class='xr-var-attrs-in' type='checkbox' ><label for='attrs-36d09213-9ec2-49b5-a874-9598ae15b6e7' title='Show/Hide attributes'><svg class='icon xr-icon-file-text2'><use xlink:href='#icon-file-text2'></use></svg></label><input id='data-158ded96-8e81-464a-9b31-3710ad02cd89' class='xr-var-data-in' type='checkbox'><label for='data-158ded96-8e81-464a-9b31-3710ad02cd89' title='Show/Hide data repr'><svg class='icon xr-icon-database'><use xlink:href='#icon-database'></use></svg></label><div class='xr-var-attrs'><dl class='xr-attrs'><dt><span>statistic :</span></dt><dd>running mean with 12*10 minutes using convolution</dd></dl></div><div class='xr-var-data'><pre>array([        nan,         nan, -0.64109273, ..., -0.81630263,\n",
       "       -0.81042451, -0.8144422 ])</pre></div></li><li class='xr-var-item'><div class='xr-var-name'><span>std_cosWDIR</span></div><div class='xr-var-dims'>(count)</div><div class='xr-var-dtype'>float64</div><div class='xr-var-preview xr-preview'>nan nan 0.0471 ... 0.05175 0.04898</div><input id='attrs-a1ad184e-7cd7-4c35-8cc4-1f16cf832e74' class='xr-var-attrs-in' type='checkbox' ><label for='attrs-a1ad184e-7cd7-4c35-8cc4-1f16cf832e74' title='Show/Hide attributes'><svg class='icon xr-icon-file-text2'><use xlink:href='#icon-file-text2'></use></svg></label><input id='data-5daea681-e8b3-47d5-b409-a807eccf7428' class='xr-var-data-in' type='checkbox'><label for='data-5daea681-e8b3-47d5-b409-a807eccf7428' title='Show/Hide data repr'><svg class='icon xr-icon-database'><use xlink:href='#icon-database'></use></svg></label><div class='xr-var-attrs'><dl class='xr-attrs'><dt><span>statistic :</span></dt><dd>running std. dev with 12*10 minutes using convolution</dd></dl></div><div class='xr-var-data'><pre>array([       nan,        nan, 0.04710006, ..., 0.03290813, 0.05174885,\n",
       "       0.04897555])</pre></div></li><li class='xr-var-item'><div class='xr-var-name'><span>mean_sinWDIR</span></div><div class='xr-var-dims'>(count)</div><div class='xr-var-dtype'>float64</div><div class='xr-var-preview xr-preview'>nan nan 0.765 ... -0.579 -0.574</div><input id='attrs-f9cf4deb-184c-47fb-97a4-5bb754a5c374' class='xr-var-attrs-in' type='checkbox' ><label for='attrs-f9cf4deb-184c-47fb-97a4-5bb754a5c374' title='Show/Hide attributes'><svg class='icon xr-icon-file-text2'><use xlink:href='#icon-file-text2'></use></svg></label><input id='data-44c81fcd-67a3-499b-95c5-cbb95270865a' class='xr-var-data-in' type='checkbox'><label for='data-44c81fcd-67a3-499b-95c5-cbb95270865a' title='Show/Hide data repr'><svg class='icon xr-icon-database'><use xlink:href='#icon-database'></use></svg></label><div class='xr-var-attrs'><dl class='xr-attrs'><dt><span>statistic :</span></dt><dd>running mean with 12*10 minutes using convolution</dd></dl></div><div class='xr-var-data'><pre>array([        nan,         nan,  0.76495054, ..., -0.57477475,\n",
       "       -0.5789722 , -0.57399301])</pre></div></li><li class='xr-var-item'><div class='xr-var-name'><span>std_sinWDIR</span></div><div class='xr-var-dims'>(count)</div><div class='xr-var-dtype'>float64</div><div class='xr-var-preview xr-preview'>nan nan 0.0404 ... 0.07298 0.06941</div><input id='attrs-d5cd0258-b709-4767-b1cf-9abdcb9960a4' class='xr-var-attrs-in' type='checkbox' ><label for='attrs-d5cd0258-b709-4767-b1cf-9abdcb9960a4' title='Show/Hide attributes'><svg class='icon xr-icon-file-text2'><use xlink:href='#icon-file-text2'></use></svg></label><input id='data-9394485c-fe2e-4c85-930f-5da2d99798bf' class='xr-var-data-in' type='checkbox'><label for='data-9394485c-fe2e-4c85-930f-5da2d99798bf' title='Show/Hide data repr'><svg class='icon xr-icon-database'><use xlink:href='#icon-database'></use></svg></label><div class='xr-var-attrs'><dl class='xr-attrs'><dt><span>statistic :</span></dt><dd>running std. dev with 12*10 minutes using convolution</dd></dl></div><div class='xr-var-data'><pre>array([       nan,        nan, 0.04040255, ..., 0.04691573, 0.07297512,\n",
       "       0.0694069 ])</pre></div></li><li class='xr-var-item'><div class='xr-var-name'><span>LATITUDE</span></div><div class='xr-var-dims'>(count)</div><div class='xr-var-dtype'>float64</div><div class='xr-var-preview xr-preview'>-8.0 -8.0 -8.0 -8.0 ... 9.0 9.0 9.0</div><input id='attrs-9743246d-c332-4b55-8d76-a0ef4684d417' class='xr-var-attrs-in' type='checkbox' disabled><label for='attrs-9743246d-c332-4b55-8d76-a0ef4684d417' title='Show/Hide attributes'><svg class='icon xr-icon-file-text2'><use xlink:href='#icon-file-text2'></use></svg></label><input id='data-c1023717-e344-460a-9ee6-af75d3a44414' class='xr-var-data-in' type='checkbox'><label for='data-c1023717-e344-460a-9ee6-af75d3a44414' title='Show/Hide data repr'><svg class='icon xr-icon-database'><use xlink:href='#icon-database'></use></svg></label><div class='xr-var-attrs'><dl class='xr-attrs'></dl></div><div class='xr-var-data'><pre>array([-8., -8., -8., ...,  9.,  9.,  9.])</pre></div></li><li class='xr-var-item'><div class='xr-var-name'><span>LONGITUDE</span></div><div class='xr-var-dims'>(count)</div><div class='xr-var-dtype'>float64</div><div class='xr-var-preview xr-preview'>265.0 265.0 265.0 ... 220.0 220.0</div><input id='attrs-e4f82ebd-4e02-4924-85cc-b6e8981b29f6' class='xr-var-attrs-in' type='checkbox' disabled><label for='attrs-e4f82ebd-4e02-4924-85cc-b6e8981b29f6' title='Show/Hide attributes'><svg class='icon xr-icon-file-text2'><use xlink:href='#icon-file-text2'></use></svg></label><input id='data-0580bbdf-d6ba-4106-86ed-535759da21e3' class='xr-var-data-in' type='checkbox'><label for='data-0580bbdf-d6ba-4106-86ed-535759da21e3' title='Show/Hide data repr'><svg class='icon xr-icon-database'><use xlink:href='#icon-database'></use></svg></label><div class='xr-var-attrs'><dl class='xr-attrs'></dl></div><div class='xr-var-data'><pre>array([265., 265., 265., ..., 220., 220., 220.])</pre></div></li><li class='xr-var-item'><div class='xr-var-name'><span>TAO_TIME</span></div><div class='xr-var-dims'>(count)</div><div class='xr-var-dtype'>datetime64[ns]</div><div class='xr-var-preview xr-preview'>2000-01-01T00:30:00 ... 2006-12-...</div><input id='attrs-96fae64a-ea91-4a64-9e0f-7768cd5598c4' class='xr-var-attrs-in' type='checkbox' disabled><label for='attrs-96fae64a-ea91-4a64-9e0f-7768cd5598c4' title='Show/Hide attributes'><svg class='icon xr-icon-file-text2'><use xlink:href='#icon-file-text2'></use></svg></label><input id='data-df4e9414-3a75-4df9-90eb-b148ec448204' class='xr-var-data-in' type='checkbox'><label for='data-df4e9414-3a75-4df9-90eb-b148ec448204' title='Show/Hide data repr'><svg class='icon xr-icon-database'><use xlink:href='#icon-database'></use></svg></label><div class='xr-var-attrs'><dl class='xr-attrs'></dl></div><div class='xr-var-data'><pre>array([&#x27;2000-01-01T00:30:00.000000000&#x27;, &#x27;2000-01-01T00:40:00.000000000&#x27;,\n",
       "       &#x27;2000-01-02T23:39:59.000000000&#x27;, ...,\n",
       "       &#x27;2006-12-31T03:40:00.000000000&#x27;, &#x27;2006-12-31T14:39:59.000000000&#x27;,\n",
       "       &#x27;2006-12-31T14:50:00.000000000&#x27;], dtype=&#x27;datetime64[ns]&#x27;)</pre></div></li><li class='xr-var-item'><div class='xr-var-name'><span>Deployment index</span></div><div class='xr-var-dims'>(count)</div><div class='xr-var-dtype'>int64</div><div class='xr-var-preview xr-preview'>0 0 0 0 0 0 0 ... 10 10 10 10 10 10</div><input id='attrs-505f0c3f-0616-4b49-a855-841512ac5f1d' class='xr-var-attrs-in' type='checkbox' disabled><label for='attrs-505f0c3f-0616-4b49-a855-841512ac5f1d' title='Show/Hide attributes'><svg class='icon xr-icon-file-text2'><use xlink:href='#icon-file-text2'></use></svg></label><input id='data-ab5fcbfc-6fed-43cd-b53a-05a06c1276e3' class='xr-var-data-in' type='checkbox'><label for='data-ab5fcbfc-6fed-43cd-b53a-05a06c1276e3' title='Show/Hide data repr'><svg class='icon xr-icon-database'><use xlink:href='#icon-database'></use></svg></label><div class='xr-var-attrs'><dl class='xr-attrs'></dl></div><div class='xr-var-data'><pre>array([ 0,  0,  0, ..., 10, 10, 10])</pre></div></li><li class='xr-var-item'><div class='xr-var-name'><span>retrieved_wind_speed</span></div><div class='xr-var-dims'>(count)</div><div class='xr-var-dtype'>float64</div><div class='xr-var-preview xr-preview'>5.747 5.668 6.113 ... 10.72 10.4</div><input id='attrs-239bbce9-3bee-41e7-9b1e-e097f4343a56' class='xr-var-attrs-in' type='checkbox' ><label for='attrs-239bbce9-3bee-41e7-9b1e-e097f4343a56' title='Show/Hide attributes'><svg class='icon xr-icon-file-text2'><use xlink:href='#icon-file-text2'></use></svg></label><input id='data-d6ca9d50-d55a-40a7-b0cb-979fd420cb72' class='xr-var-data-in' type='checkbox'><label for='data-d6ca9d50-d55a-40a7-b0cb-979fd420cb72' title='Show/Hide data repr'><svg class='icon xr-icon-database'><use xlink:href='#icon-database'></use></svg></label><div class='xr-var-attrs'><dl class='xr-attrs'><dt><span>valid_min :</span></dt><dd>0.0</dd><dt><span>valid_max :</span></dt><dd>100.0</dd><dt><span>long_name :</span></dt><dd>equivalent neutral wind speed at 10 m</dd><dt><span>standard_name :</span></dt><dd>wind_speed</dd><dt><span>units :</span></dt><dd>m s-1</dd></dl></div><div class='xr-var-data'><pre>array([ 5.74713993,  5.66831589,  6.11264515, ..., 11.34207726,\n",
       "       10.7228632 , 10.39846039])</pre></div></li><li class='xr-var-item'><div class='xr-var-name'><span>retrieved_wind_direction</span></div><div class='xr-var-dims'>(count)</div><div class='xr-var-dtype'>float64</div><div class='xr-var-preview xr-preview'>325.6 324.5 323.7 ... 245.0 245.2</div><input id='attrs-b95d4228-a9a1-46f6-ab5e-4e009fdcfc94' class='xr-var-attrs-in' type='checkbox' ><label for='attrs-b95d4228-a9a1-46f6-ab5e-4e009fdcfc94' title='Show/Hide attributes'><svg class='icon xr-icon-file-text2'><use xlink:href='#icon-file-text2'></use></svg></label><input id='data-f0c79d62-2203-4a31-a64c-147aa8061aa4' class='xr-var-data-in' type='checkbox'><label for='data-f0c79d62-2203-4a31-a64c-147aa8061aa4' title='Show/Hide data repr'><svg class='icon xr-icon-database'><use xlink:href='#icon-database'></use></svg></label><div class='xr-var-attrs'><dl class='xr-attrs'><dt><span>valid_min :</span></dt><dd>0.0</dd><dt><span>valid_max :</span></dt><dd>360.0</dd><dt><span>long_name :</span></dt><dd>equivalent neutral wind direction at 10 m</dd><dt><span>standard_name :</span></dt><dd>wind_to_direction</dd><dt><span>units :</span></dt><dd>degrees</dd></dl></div><div class='xr-var-data'><pre>array([325.64883423, 324.49713135, 323.7119751 , ..., 239.64068604,\n",
       "       244.9931488 , 245.19697571])</pre></div></li><li class='xr-var-item'><div class='xr-var-name'><span>rain_impact</span></div><div class='xr-var-dims'>(count)</div><div class='xr-var-dtype'>float64</div><div class='xr-var-preview xr-preview'>1.072 1.078 0.499 ... 1.705 nan nan</div><input id='attrs-23aab0e6-cbdd-4490-906e-80fbbf6e5a95' class='xr-var-attrs-in' type='checkbox' ><label for='attrs-23aab0e6-cbdd-4490-906e-80fbbf6e5a95' title='Show/Hide attributes'><svg class='icon xr-icon-file-text2'><use xlink:href='#icon-file-text2'></use></svg></label><input id='data-f7e0ffc5-87fa-4077-854b-02592c4a0c0a' class='xr-var-data-in' type='checkbox'><label for='data-f7e0ffc5-87fa-4077-854b-02592c4a0c0a' title='Show/Hide data repr'><svg class='icon xr-icon-database'><use xlink:href='#icon-database'></use></svg></label><div class='xr-var-attrs'><dl class='xr-attrs'><dt><span>valid_min :</span></dt><dd>0.0</dd><dt><span>valid_max :</span></dt><dd>100.0</dd><dt><span>long_name :</span></dt><dd>impact of rain upon wind vector retrieval</dd><dt><span>units :</span></dt><dd>1</dd></dl></div><div class='xr-var-data'><pre>array([1.07222676, 1.07760262, 0.49902362, ..., 1.70458293,        nan,\n",
       "              nan])</pre></div></li><li class='xr-var-item'><div class='xr-var-name'><span>flags</span></div><div class='xr-var-dims'>(count)</div><div class='xr-var-dtype'>float64</div><div class='xr-var-preview xr-preview'>0.0 0.0 0.0 ... 1.638e+04 1.638e+04</div><input id='attrs-7e33ba73-88f1-48b4-a924-0fa7d0c29d2d' class='xr-var-attrs-in' type='checkbox' ><label for='attrs-7e33ba73-88f1-48b4-a924-0fa7d0c29d2d' title='Show/Hide attributes'><svg class='icon xr-icon-file-text2'><use xlink:href='#icon-file-text2'></use></svg></label><input id='data-d8898f79-cc4a-407f-8e3a-34b5445d7a45' class='xr-var-data-in' type='checkbox'><label for='data-d8898f79-cc4a-407f-8e3a-34b5445d7a45' title='Show/Hide data repr'><svg class='icon xr-icon-database'><use xlink:href='#icon-database'></use></svg></label><div class='xr-var-attrs'><dl class='xr-attrs'><dt><span>valid_min :</span></dt><dd>0</dd><dt><span>long_name :</span></dt><dd>wind vector cell quality flags</dd><dt><span>units :</span></dt><dd>bit</dd><dt><span>flag_masks :</span></dt><dd>1s, 2s, 32s, 64s, 128s, 256s, 512s, 1024s, 2048s, 4096s, 8192s, 16384s</dd><dt><span>flag_meanings :</span></dt><dd>adequate_sigma0_flag adequate_azimuth_diversity_flag poor_coastal_processing_flag wind_retrieval_likely_corrupted_flag coastal_flag ice_edge_flag winds_not_retrieved_flag high_wind_speed_flag low_wind_speed_flag rain_impact_flag_not_usable_flag rain_impact_flag missing_look_flag </dd><dt><span>valid_max :</span></dt><dd>32739.0</dd></dl></div><div class='xr-var-data'><pre>array([    0.,     0.,     0., ...,     0., 16384., 16384.])</pre></div></li><li class='xr-var-item'><div class='xr-var-name'><span>eflags</span></div><div class='xr-var-dims'>(count)</div><div class='xr-var-dtype'>float64</div><div class='xr-var-preview xr-preview'>5.0 5.0 5.0 ... 4.357e+03 5.0 5.0</div><input id='attrs-9e9dfe75-c445-4e02-9bfa-b51a62f3e769' class='xr-var-attrs-in' type='checkbox' ><label for='attrs-9e9dfe75-c445-4e02-9bfa-b51a62f3e769' title='Show/Hide attributes'><svg class='icon xr-icon-file-text2'><use xlink:href='#icon-file-text2'></use></svg></label><input id='data-45394033-4944-4262-b006-2600c4c0ea17' class='xr-var-data-in' type='checkbox'><label for='data-45394033-4944-4262-b006-2600c4c0ea17' title='Show/Hide data repr'><svg class='icon xr-icon-database'><use xlink:href='#icon-database'></use></svg></label><div class='xr-var-attrs'><dl class='xr-attrs'><dt><span>valid_min :</span></dt><dd>0</dd><dt><span>long_name :</span></dt><dd>extended wind vector cell quality flags</dd><dt><span>units :</span></dt><dd>bit</dd><dt><span>flag_masks :</span></dt><dd>1s, 2s, 4s, 8s, 16s, 64s, 256s, 512s, 1024s, 2048s, 4096s</dd><dt><span>flag_meanings :</span></dt><dd>rain_correction_not_applied_flag correction_produced_negative_spd_flag all_ambiguities_contribute_to_nudging_flag large_rain_correction_flag coastal_processing_applied_flag lake_winds_flag rain_nearby_flag ice_nearby_flag significant_rain_correction_flag rain_correction_applied_flag wind_retrieval_possibly_corrupted_flag </dd><dt><span>valid_max :</span></dt><dd>7967.0</dd></dl></div><div class='xr-var-data'><pre>array([   5.,    5.,    5., ..., 4357.,    5.,    5.])</pre></div></li><li class='xr-var-item'><div class='xr-var-name'><span>nudge_wind_speed</span></div><div class='xr-var-dims'>(count)</div><div class='xr-var-dtype'>float64</div><div class='xr-var-preview xr-preview'>6.523 6.494 6.912 ... 14.83 14.73</div><input id='attrs-617ba981-4fd9-4d3d-b975-aa3bc48bec54' class='xr-var-attrs-in' type='checkbox' ><label for='attrs-617ba981-4fd9-4d3d-b975-aa3bc48bec54' title='Show/Hide attributes'><svg class='icon xr-icon-file-text2'><use xlink:href='#icon-file-text2'></use></svg></label><input id='data-70692bf5-0448-47af-a4cf-74544d33091b' class='xr-var-data-in' type='checkbox'><label for='data-70692bf5-0448-47af-a4cf-74544d33091b' title='Show/Hide data repr'><svg class='icon xr-icon-database'><use xlink:href='#icon-database'></use></svg></label><div class='xr-var-attrs'><dl class='xr-attrs'><dt><span>valid_min :</span></dt><dd>0.0</dd><dt><span>valid_max :</span></dt><dd>100.0</dd><dt><span>long_name :</span></dt><dd>model wind speed</dd><dt><span>standard_name :</span></dt><dd>wind_speed</dd><dt><span>units :</span></dt><dd>m s-1</dd></dl></div><div class='xr-var-data'><pre>array([ 6.52293968,  6.4937892 ,  6.91178417, ..., 13.18385124,\n",
       "       14.82970619, 14.7305584 ])</pre></div></li><li class='xr-var-item'><div class='xr-var-name'><span>nudge_wind_direction</span></div><div class='xr-var-dims'>(count)</div><div class='xr-var-dtype'>float64</div><div class='xr-var-preview xr-preview'>320.2 319.8 314.1 ... 238.9 239.7</div><input id='attrs-afac34db-975e-4a65-ba1b-46f6c2f79cb8' class='xr-var-attrs-in' type='checkbox' ><label for='attrs-afac34db-975e-4a65-ba1b-46f6c2f79cb8' title='Show/Hide attributes'><svg class='icon xr-icon-file-text2'><use xlink:href='#icon-file-text2'></use></svg></label><input id='data-79badc6d-6c17-4547-b999-2157e1e41210' class='xr-var-data-in' type='checkbox'><label for='data-79badc6d-6c17-4547-b999-2157e1e41210' title='Show/Hide data repr'><svg class='icon xr-icon-database'><use xlink:href='#icon-database'></use></svg></label><div class='xr-var-attrs'><dl class='xr-attrs'><dt><span>valid_min :</span></dt><dd>0.0</dd><dt><span>valid_max :</span></dt><dd>360.0</dd><dt><span>long_name :</span></dt><dd>model wind direction</dd><dt><span>standard_name :</span></dt><dd>wind_to_direction</dd><dt><span>units :</span></dt><dd>degrees</dd></dl></div><div class='xr-var-data'><pre>array([320.18499756, 319.81256104, 314.10400391, ..., 241.25445557,\n",
       "       238.90667725, 239.68109131])</pre></div></li><li class='xr-var-item'><div class='xr-var-name'><span>retrieved_wind_speed_uncorrected</span></div><div class='xr-var-dims'>(count)</div><div class='xr-var-dtype'>float64</div><div class='xr-var-preview xr-preview'>5.731 5.652 6.062 ... 10.8 10.47</div><input id='attrs-27b2bd05-eb12-4d68-9115-84c777ba8e39' class='xr-var-attrs-in' type='checkbox' ><label for='attrs-27b2bd05-eb12-4d68-9115-84c777ba8e39' title='Show/Hide attributes'><svg class='icon xr-icon-file-text2'><use xlink:href='#icon-file-text2'></use></svg></label><input id='data-a4922aff-7311-46f4-8ed1-7e3fcd081e6d' class='xr-var-data-in' type='checkbox'><label for='data-a4922aff-7311-46f4-8ed1-7e3fcd081e6d' title='Show/Hide data repr'><svg class='icon xr-icon-database'><use xlink:href='#icon-database'></use></svg></label><div class='xr-var-attrs'><dl class='xr-attrs'><dt><span>valid_min :</span></dt><dd>0.0</dd><dt><span>valid_max :</span></dt><dd>100.0</dd><dt><span>long_name :</span></dt><dd>wind speed without rain correction</dd><dt><span>standard_name :</span></dt><dd>wind_speed</dd><dt><span>units :</span></dt><dd>m s-1</dd></dl></div><div class='xr-var-data'><pre>array([ 5.73101044,  5.65238953,  6.06196022, ..., 11.37376404,\n",
       "       10.80009842, 10.46974468])</pre></div></li><li class='xr-var-item'><div class='xr-var-name'><span>cross_track_wind_speed_bias</span></div><div class='xr-var-dims'>(count)</div><div class='xr-var-dtype'>float64</div><div class='xr-var-preview xr-preview'>-0.01613 -0.01593 ... 0.07128</div><input id='attrs-d04c201a-8561-4f23-8c36-477c3a27c8a8' class='xr-var-attrs-in' type='checkbox' ><label for='attrs-d04c201a-8561-4f23-8c36-477c3a27c8a8' title='Show/Hide attributes'><svg class='icon xr-icon-file-text2'><use xlink:href='#icon-file-text2'></use></svg></label><input id='data-21f7873d-64ce-4a34-a874-cc64a7f94a17' class='xr-var-data-in' type='checkbox'><label for='data-21f7873d-64ce-4a34-a874-cc64a7f94a17' title='Show/Hide data repr'><svg class='icon xr-icon-database'><use xlink:href='#icon-database'></use></svg></label><div class='xr-var-attrs'><dl class='xr-attrs'><dt><span>valid_min :</span></dt><dd>-100.0</dd><dt><span>valid_max :</span></dt><dd>100.0</dd><dt><span>long_name :</span></dt><dd>relative wind speed bias with respect to sweet spot</dd><dt><span>units :</span></dt><dd>m s-1</dd></dl></div><div class='xr-var-data'><pre>array([-0.01612943, -0.01592638, -0.05068475, ...,  0.03168708,\n",
       "        0.077235  ,  0.07128464])</pre></div></li><li class='xr-var-item'><div class='xr-var-name'><span>atmospheric_speed_bias</span></div><div class='xr-var-dims'>(count)</div><div class='xr-var-dtype'>float64</div><div class='xr-var-preview xr-preview'>0.0 0.0 ... 2.235e-07 -3.502e-07</div><input id='attrs-a86cf32e-260a-4e79-8126-48b9b6898e88' class='xr-var-attrs-in' type='checkbox' ><label for='attrs-a86cf32e-260a-4e79-8126-48b9b6898e88' title='Show/Hide attributes'><svg class='icon xr-icon-file-text2'><use xlink:href='#icon-file-text2'></use></svg></label><input id='data-f914e815-f3fd-4155-8a2a-18f323f7d506' class='xr-var-data-in' type='checkbox'><label for='data-f914e815-f3fd-4155-8a2a-18f323f7d506' title='Show/Hide data repr'><svg class='icon xr-icon-database'><use xlink:href='#icon-database'></use></svg></label><div class='xr-var-attrs'><dl class='xr-attrs'><dt><span>valid_min :</span></dt><dd>-100.0</dd><dt><span>valid_max :</span></dt><dd>100.0</dd><dt><span>long_name :</span></dt><dd>atmospheric speed bias</dd><dt><span>units :</span></dt><dd>m s-1</dd></dl></div><div class='xr-var-data'><pre>array([ 0.00000000e+00,  0.00000000e+00,  0.00000000e+00, ...,\n",
       "        0.00000000e+00,  2.23517418e-07, -3.50177288e-07])</pre></div></li><li class='xr-var-item'><div class='xr-var-name'><span>wind_obj</span></div><div class='xr-var-dims'>(count)</div><div class='xr-var-dtype'>float64</div><div class='xr-var-preview xr-preview'>0.1073 0.087 ... 0.01674 0.01587</div><input id='attrs-a9fb87ec-f418-4708-95d7-f2e0e9598dc3' class='xr-var-attrs-in' type='checkbox' ><label for='attrs-a9fb87ec-f418-4708-95d7-f2e0e9598dc3' title='Show/Hide attributes'><svg class='icon xr-icon-file-text2'><use xlink:href='#icon-file-text2'></use></svg></label><input id='data-18379e1f-2d44-4c96-8e23-606e9ca96d99' class='xr-var-data-in' type='checkbox'><label for='data-18379e1f-2d44-4c96-8e23-606e9ca96d99' title='Show/Hide data repr'><svg class='icon xr-icon-database'><use xlink:href='#icon-database'></use></svg></label><div class='xr-var-attrs'><dl class='xr-attrs'><dt><span>valid_min :</span></dt><dd>-199.0</dd><dt><span>valid_max :</span></dt><dd>0.0</dd><dt><span>long_name :</span></dt><dd>retrieved wind objective function value</dd><dt><span>units :</span></dt><dd>1</dd></dl></div><div class='xr-var-data'><pre>array([0.10725126, 0.08699517, 0.0497636 , ..., 0.09845505, 0.01673897,\n",
       "       0.01586828])</pre></div></li><li class='xr-var-item'><div class='xr-var-name'><span>ambiguity_speed</span></div><div class='xr-var-dims'>(count)</div><div class='xr-var-dtype'>float64</div><div class='xr-var-preview xr-preview'>5.767 5.494 5.977 ... 17.1 9.071</div><input id='attrs-341a9fc9-294e-4408-ac5e-f38c5388d519' class='xr-var-attrs-in' type='checkbox' ><label for='attrs-341a9fc9-294e-4408-ac5e-f38c5388d519' title='Show/Hide attributes'><svg class='icon xr-icon-file-text2'><use xlink:href='#icon-file-text2'></use></svg></label><input id='data-1eab0c25-ab0e-4151-aeec-60d1681f7483' class='xr-var-data-in' type='checkbox'><label for='data-1eab0c25-ab0e-4151-aeec-60d1681f7483' title='Show/Hide data repr'><svg class='icon xr-icon-database'><use xlink:href='#icon-database'></use></svg></label><div class='xr-var-attrs'><dl class='xr-attrs'><dt><span>valid_min :</span></dt><dd>0.0</dd><dt><span>valid_max :</span></dt><dd>100.0</dd><dt><span>long_name :</span></dt><dd>wind speed ambiguity</dd><dt><span>standard_name :</span></dt><dd>wind_speed</dd><dt><span>units :</span></dt><dd>m s-1</dd></dl></div><div class='xr-var-data'><pre>array([ 5.76710033,  5.49435282,  5.9770298 , ..., 11.25006771,\n",
       "       17.10026169,  9.07145119])</pre></div></li><li class='xr-var-item'><div class='xr-var-name'><span>ambiguity_direction</span></div><div class='xr-var-dims'>(count)</div><div class='xr-var-dtype'>float64</div><div class='xr-var-preview xr-preview'>327.7 317.2 318.8 ... 173.3 78.11</div><input id='attrs-8d8d2b8c-9f4e-4b72-baf5-47c93ba9b9d8' class='xr-var-attrs-in' type='checkbox' ><label for='attrs-8d8d2b8c-9f4e-4b72-baf5-47c93ba9b9d8' title='Show/Hide attributes'><svg class='icon xr-icon-file-text2'><use xlink:href='#icon-file-text2'></use></svg></label><input id='data-71f58e67-554b-4b90-a473-7acca56328d2' class='xr-var-data-in' type='checkbox'><label for='data-71f58e67-554b-4b90-a473-7acca56328d2' title='Show/Hide data repr'><svg class='icon xr-icon-database'><use xlink:href='#icon-database'></use></svg></label><div class='xr-var-attrs'><dl class='xr-attrs'><dt><span>valid_min :</span></dt><dd>0.0</dd><dt><span>valid_max :</span></dt><dd>360.0</dd><dt><span>long_name :</span></dt><dd>wind direction ambiguity</dd><dt><span>standard_name :</span></dt><dd>wind_to_direction</dd><dt><span>units :</span></dt><dd>degrees</dd></dl></div><div class='xr-var-data'><pre>array([327.68600464, 317.24383545, 318.76495361, ..., 236.1322937 ,\n",
       "       173.269104  ,  78.11132812])</pre></div></li><li class='xr-var-item'><div class='xr-var-name'><span>ambiguity_obj</span></div><div class='xr-var-dims'>(count)</div><div class='xr-var-dtype'>float64</div><div class='xr-var-preview xr-preview'>-7.794 -5.386 ... -3.435 -3.088</div><input id='attrs-14b55193-9f80-4f93-bd89-f99a126cac7e' class='xr-var-attrs-in' type='checkbox' ><label for='attrs-14b55193-9f80-4f93-bd89-f99a126cac7e' title='Show/Hide attributes'><svg class='icon xr-icon-file-text2'><use xlink:href='#icon-file-text2'></use></svg></label><input id='data-d0e7c359-a296-4cd7-ad72-64faf81cd964' class='xr-var-data-in' type='checkbox'><label for='data-d0e7c359-a296-4cd7-ad72-64faf81cd964' title='Show/Hide data repr'><svg class='icon xr-icon-database'><use xlink:href='#icon-database'></use></svg></label><div class='xr-var-attrs'><dl class='xr-attrs'><dt><span>valid_min :</span></dt><dd>-199.0</dd><dt><span>valid_max :</span></dt><dd>0.0</dd><dt><span>long_name :</span></dt><dd>wind objective function values</dd><dt><span>units :</span></dt><dd>1</dd></dl></div><div class='xr-var-data'><pre>array([-7.79444647, -5.38567495, -5.76894426, ..., -4.03175211,\n",
       "       -3.43475318, -3.08847713])</pre></div></li><li class='xr-var-item'><div class='xr-var-name'><span>number_in_fore</span></div><div class='xr-var-dims'>(count)</div><div class='xr-var-dtype'>float64</div><div class='xr-var-preview xr-preview'>17.0 19.0 18.0 19.0 ... 8.0 nan nan</div><input id='attrs-b895f1f8-3a2c-4a5d-a5e6-95d68ec982c1' class='xr-var-attrs-in' type='checkbox' ><label for='attrs-b895f1f8-3a2c-4a5d-a5e6-95d68ec982c1' title='Show/Hide attributes'><svg class='icon xr-icon-file-text2'><use xlink:href='#icon-file-text2'></use></svg></label><input id='data-cc2555aa-a78c-4d9e-a45f-9759de0f396a' class='xr-var-data-in' type='checkbox'><label for='data-cc2555aa-a78c-4d9e-a45f-9759de0f396a' title='Show/Hide data repr'><svg class='icon xr-icon-database'><use xlink:href='#icon-database'></use></svg></label><div class='xr-var-attrs'><dl class='xr-attrs'><dt><span>valid_min :</span></dt><dd>1</dd><dt><span>valid_max :</span></dt><dd>127</dd><dt><span>long_name :</span></dt><dd>number of inner forward looks in wind vector cell</dd><dt><span>units :</span></dt><dd>1</dd></dl></div><div class='xr-var-data'><pre>array([17., 19., 18., ...,  8., nan, nan])</pre></div></li><li class='xr-var-item'><div class='xr-var-name'><span>number_in_aft</span></div><div class='xr-var-dims'>(count)</div><div class='xr-var-dtype'>float64</div><div class='xr-var-preview xr-preview'>17.0 17.0 29.0 27.0 ... 9.0 nan nan</div><input id='attrs-1507904d-b17f-45db-aa0e-bff21480ef4c' class='xr-var-attrs-in' type='checkbox' ><label for='attrs-1507904d-b17f-45db-aa0e-bff21480ef4c' title='Show/Hide attributes'><svg class='icon xr-icon-file-text2'><use xlink:href='#icon-file-text2'></use></svg></label><input id='data-986f6c15-cf45-4377-8564-25363d04f44e' class='xr-var-data-in' type='checkbox'><label for='data-986f6c15-cf45-4377-8564-25363d04f44e' title='Show/Hide data repr'><svg class='icon xr-icon-database'><use xlink:href='#icon-database'></use></svg></label><div class='xr-var-attrs'><dl class='xr-attrs'><dt><span>valid_min :</span></dt><dd>1</dd><dt><span>valid_max :</span></dt><dd>127</dd><dt><span>long_name :</span></dt><dd>number of inner aft looks in wind vector cell</dd><dt><span>units :</span></dt><dd>1</dd></dl></div><div class='xr-var-data'><pre>array([17., 17., 29., ...,  9., nan, nan])</pre></div></li><li class='xr-var-item'><div class='xr-var-name'><span>number_out_fore</span></div><div class='xr-var-dims'>(count)</div><div class='xr-var-dtype'>float64</div><div class='xr-var-preview xr-preview'>6.0 7.0 7.0 7.0 ... 6.0 16.0 14.0</div><input id='attrs-44239978-2231-4066-9659-494bd7d2857f' class='xr-var-attrs-in' type='checkbox' ><label for='attrs-44239978-2231-4066-9659-494bd7d2857f' title='Show/Hide attributes'><svg class='icon xr-icon-file-text2'><use xlink:href='#icon-file-text2'></use></svg></label><input id='data-e0ea43eb-d0a2-49dc-9a74-85083dbe3dba' class='xr-var-data-in' type='checkbox'><label for='data-e0ea43eb-d0a2-49dc-9a74-85083dbe3dba' title='Show/Hide data repr'><svg class='icon xr-icon-database'><use xlink:href='#icon-database'></use></svg></label><div class='xr-var-attrs'><dl class='xr-attrs'><dt><span>valid_min :</span></dt><dd>1</dd><dt><span>valid_max :</span></dt><dd>127</dd><dt><span>long_name :</span></dt><dd>number of outer forward looks in wind vector cell</dd><dt><span>units :</span></dt><dd>1</dd></dl></div><div class='xr-var-data'><pre>array([ 6.,  7.,  7., ...,  6., 16., 14.])</pre></div></li><li class='xr-var-item'><div class='xr-var-name'><span>number_out_aft</span></div><div class='xr-var-dims'>(count)</div><div class='xr-var-dtype'>float64</div><div class='xr-var-preview xr-preview'>8.0 7.0 9.0 9.0 ... 6.0 26.0 26.0</div><input id='attrs-4b2e89e0-85c3-428e-8d8d-ac9b4225b4cb' class='xr-var-attrs-in' type='checkbox' ><label for='attrs-4b2e89e0-85c3-428e-8d8d-ac9b4225b4cb' title='Show/Hide attributes'><svg class='icon xr-icon-file-text2'><use xlink:href='#icon-file-text2'></use></svg></label><input id='data-f591e790-9726-4761-a7b2-296459a6ec4f' class='xr-var-data-in' type='checkbox'><label for='data-f591e790-9726-4761-a7b2-296459a6ec4f' title='Show/Hide data repr'><svg class='icon xr-icon-database'><use xlink:href='#icon-database'></use></svg></label><div class='xr-var-attrs'><dl class='xr-attrs'><dt><span>valid_min :</span></dt><dd>1</dd><dt><span>valid_max :</span></dt><dd>127</dd><dt><span>long_name :</span></dt><dd>number of outer aft looks in wind vector cell</dd><dt><span>units :</span></dt><dd>1</dd></dl></div><div class='xr-var-data'><pre>array([ 8.,  7.,  9., ...,  6., 26., 26.])</pre></div></li><li class='xr-var-item'><div class='xr-var-name'><span>gmf_sst</span></div><div class='xr-var-dims'>(count)</div><div class='xr-var-dtype'>float64</div><div class='xr-var-preview xr-preview'>23.89 23.79 23.97 ... 27.22 26.45</div><input id='attrs-014815e5-0d9b-4caa-aff0-7ff08b7b9cd6' class='xr-var-attrs-in' type='checkbox' ><label for='attrs-014815e5-0d9b-4caa-aff0-7ff08b7b9cd6' title='Show/Hide attributes'><svg class='icon xr-icon-file-text2'><use xlink:href='#icon-file-text2'></use></svg></label><input id='data-dea25c1f-2cf0-43d0-a3e5-d2f5a3886bd1' class='xr-var-data-in' type='checkbox'><label for='data-dea25c1f-2cf0-43d0-a3e5-d2f5a3886bd1' title='Show/Hide data repr'><svg class='icon xr-icon-database'><use xlink:href='#icon-database'></use></svg></label><div class='xr-var-attrs'><dl class='xr-attrs'><dt><span>valid_min :</span></dt><dd>-1000.0</dd><dt><span>valid_max :</span></dt><dd>1000.0</dd><dt><span>long_name :</span></dt><dd>Sea Surface Temperature Used in Geophysical Model Function</dd><dt><span>comment :</span></dt><dd>Sea Surface Temperature from NCAR Optimum Interpolation V2 product used during wind retrieval.</dd><dt><span>units :</span></dt><dd>Degrees Celsius</dd></dl></div><div class='xr-var-data'><pre>array([23.89356995, 23.79214096, 23.96500015, ..., 27.27500153,\n",
       "       27.21500015, 26.45499992])</pre></div></li><li class='xr-var-item'><div class='xr-var-name'><span>distance_from_coast</span></div><div class='xr-var-dims'>(count)</div><div class='xr-var-dtype'>float64</div><div class='xr-var-preview xr-preview'>864.0 876.0 ... 1.874e+03 1.886e+03</div><input id='attrs-ddc08afe-f1f6-4864-81fb-02e41dc18e28' class='xr-var-attrs-in' type='checkbox' ><label for='attrs-ddc08afe-f1f6-4864-81fb-02e41dc18e28' title='Show/Hide attributes'><svg class='icon xr-icon-file-text2'><use xlink:href='#icon-file-text2'></use></svg></label><input id='data-d075d06a-4aee-44b7-8187-eecd374b30ec' class='xr-var-data-in' type='checkbox'><label for='data-d075d06a-4aee-44b7-8187-eecd374b30ec' title='Show/Hide data repr'><svg class='icon xr-icon-database'><use xlink:href='#icon-database'></use></svg></label><div class='xr-var-attrs'><dl class='xr-attrs'><dt><span>valid_min :</span></dt><dd>-25000.0</dd><dt><span>valid_max :</span></dt><dd>25000.0</dd><dt><span>long_name :</span></dt><dd>Distance from nearest coastline</dd><dt><span>units :</span></dt><dd>km</dd></dl></div><div class='xr-var-data'><pre>array([ 864.,  876.,  862., ..., 1873., 1874., 1886.])</pre></div></li><li class='xr-var-item'><div class='xr-var-name'><span>exp_bias_wrt_oceanward_neighbors</span></div><div class='xr-var-dims'>(count)</div><div class='xr-var-dtype'>float64</div><div class='xr-var-preview xr-preview'>0.0 0.0 0.0 0.0 ... 0.0 0.0 0.0 0.0</div><input id='attrs-17c354ac-51bd-42f7-87bf-9d9908bee28c' class='xr-var-attrs-in' type='checkbox' ><label for='attrs-17c354ac-51bd-42f7-87bf-9d9908bee28c' title='Show/Hide attributes'><svg class='icon xr-icon-file-text2'><use xlink:href='#icon-file-text2'></use></svg></label><input id='data-38592df6-be74-4587-a6e5-4457612a83d9' class='xr-var-data-in' type='checkbox'><label for='data-38592df6-be74-4587-a6e5-4457612a83d9' title='Show/Hide data repr'><svg class='icon xr-icon-database'><use xlink:href='#icon-database'></use></svg></label><div class='xr-var-attrs'><dl class='xr-attrs'><dt><span>valid_min :</span></dt><dd>-1000.0</dd><dt><span>valid_max :</span></dt><dd>1000.0</dd><dt><span>long_name :</span></dt><dd>expected bias with respect to oceanward neighboring cells</dd><dt><span>comment :</span></dt><dd>Expected bias between the current cell and geographically oceanward neighboring cells.</dd><dt><span>units :</span></dt><dd>m s-1</dd></dl></div><div class='xr-var-data'><pre>array([0., 0., 0., ..., 0., 0., 0.])</pre></div></li><li class='xr-var-item'><div class='xr-var-name'><span>QS_TIME</span></div><div class='xr-var-dims'>(count)</div><div class='xr-var-dtype'>datetime64[ns]</div><div class='xr-var-preview xr-preview'>2000-01-01T00:34:36.702752664 .....</div><input id='attrs-62d20c18-34b2-41ec-9ddd-ada8fa5ded31' class='xr-var-attrs-in' type='checkbox' disabled><label for='attrs-62d20c18-34b2-41ec-9ddd-ada8fa5ded31' title='Show/Hide attributes'><svg class='icon xr-icon-file-text2'><use xlink:href='#icon-file-text2'></use></svg></label><input id='data-87a8b415-7981-4226-badf-766325778fec' class='xr-var-data-in' type='checkbox'><label for='data-87a8b415-7981-4226-badf-766325778fec' title='Show/Hide data repr'><svg class='icon xr-icon-database'><use xlink:href='#icon-database'></use></svg></label><div class='xr-var-attrs'><dl class='xr-attrs'></dl></div><div class='xr-var-data'><pre>array([&#x27;2000-01-01T00:34:36.702752664&#x27;, &#x27;2000-01-01T00:34:38.570027512&#x27;,\n",
       "       &#x27;2000-01-02T23:44:31.511134320&#x27;, ...,\n",
       "       &#x27;2006-12-31T03:41:26.024466272&#x27;, &#x27;2006-12-31T14:43:25.589127008&#x27;,\n",
       "       &#x27;2006-12-31T14:43:27.455223232&#x27;], dtype=&#x27;datetime64[ns]&#x27;)</pre></div></li></ul></div></li><li class='xr-section-item'><input id='section-4ba84814-cfa0-4df3-bdcb-6cba7961bcec' class='xr-section-summary-in' type='checkbox'  ><label for='section-4ba84814-cfa0-4df3-bdcb-6cba7961bcec' class='xr-section-summary' >Indexes: <span>(1)</span></label><div class='xr-section-inline-details'></div><div class='xr-section-details'><ul class='xr-var-list'><li class='xr-var-item'><div class='xr-index-name'><div>count</div></div><div class='xr-index-preview'>PandasIndex</div><div></div><input id='index-07f092a5-c719-44bc-bc1a-3e4c42577e5e' class='xr-index-data-in' type='checkbox'/><label for='index-07f092a5-c719-44bc-bc1a-3e4c42577e5e' title='Show/Hide index repr'><svg class='icon xr-icon-database'><use xlink:href='#icon-database'></use></svg></label><div class='xr-index-data'><pre>PandasIndex(Index([     0,      1,      2,      3,      4,      5,      6,      7,      8,\n",
       "            9,\n",
       "       ...\n",
       "       184309, 184310, 184311, 184312, 184313, 184314, 184315, 184316, 184317,\n",
       "       184318],\n",
       "      dtype=&#x27;int64&#x27;, name=&#x27;count&#x27;, length=184319))</pre></div></li></ul></div></li><li class='xr-section-item'><input id='section-772ead61-1642-40c8-91ae-682bb36f7ebb' class='xr-section-summary-in' type='checkbox' disabled ><label for='section-772ead61-1642-40c8-91ae-682bb36f7ebb' class='xr-section-summary'  title='Expand/collapse section'>Attributes: <span>(0)</span></label><div class='xr-section-inline-details'></div><div class='xr-section-details'><dl class='xr-attrs'></dl></div></li></ul></div></div>"
      ],
      "text/plain": [
       "<xarray.Dataset>\n",
       "Dimensions:                           (count: 184319)\n",
       "Coordinates:\n",
       "  * count                             (count) int64 0 1 2 ... 184317 184318\n",
       "Data variables: (12/63)\n",
       "    WDIR                              (count) float32 123.6 128.2 ... 217.6\n",
       "    WDIR_QC                           (count) float32 2.0 2.0 2.0 ... 2.0 2.0\n",
       "    WDIR_DM                           (count) |S1 b'D' b'D' b'D' ... b'D' b'D'\n",
       "    WSPD                              (count) float32 5.39 5.3 ... 10.64 9.83\n",
       "    WSPD_QC                           (count) float32 2.0 2.0 2.0 ... 2.0 2.0\n",
       "    WSPD_DM                           (count) |S1 b'D' b'D' b'D' ... b'D' b'D'\n",
       "    ...                                ...\n",
       "    number_out_fore                   (count) float64 6.0 7.0 7.0 ... 16.0 14.0\n",
       "    number_out_aft                    (count) float64 8.0 7.0 9.0 ... 26.0 26.0\n",
       "    gmf_sst                           (count) float64 23.89 23.79 ... 26.45\n",
       "    distance_from_coast               (count) float64 864.0 876.0 ... 1.886e+03\n",
       "    exp_bias_wrt_oceanward_neighbors  (count) float64 0.0 0.0 0.0 ... 0.0 0.0\n",
       "    QS_TIME                           (count) datetime64[ns] 2000-01-01T00:34..."
      ]
     },
     "execution_count": 9,
     "metadata": {},
     "output_type": "execute_result"
    }
   ],
   "source": [
    "allDS"
   ]
  },
  {
   "cell_type": "code",
   "execution_count": 10,
   "id": "60464f25-0cc6-4c8d-82c3-e242466f322d",
   "metadata": {},
   "outputs": [],
   "source": [
    "extended_flag_meaning = ['rain_correction_not_applied_flag',\n",
    "'correction_produced_negative_spd_flag',\n",
    "'all_ambiguities_contribute_to_nudging_flag',\n",
    "'large_rain_correction_flag',\n",
    "'coastal_processing_applied_flag',\n",
    "'lake_winds_flag',\n",
    "'rain_nearby_flag',\n",
    "'ice_nearby_flag',\n",
    "'significant_rain_correction_flag',\n",
    "'rain_correction_applied_flag',\n",
    "'wind_retrieval_possibly_corrupted_flag']\n",
    "\n",
    "extended_flags = np.array(allDS['eflags'].to_numpy(), dtype=int)\n",
    "eflags = np.array(['{:016b}'.format(val) for val in extended_flags])\n",
    "rainCorrectionNotApplied = np.array([val[15] == '0' for val in eflags])\n",
    "rainCorrectionApplied = np.array([val[4] == '1' for val in eflags])\n",
    "significantRainCorrectionApplied = np.array([val[5] == '1' for val in eflags])\n",
    "largeRainCorrectionApplied = np.array([val[12] == '1' for val in eflags])\n",
    "rainMask = np.logical_or(rainCorrectionApplied, significantRainCorrectionApplied)\n",
    "rainMask = np.logical_or(rainMask, largeRainCorrectionApplied)\n",
    "rainMask = np.logical_or(rainMask, rainCorrectionNotApplied)"
   ]
  },
  {
   "cell_type": "code",
   "execution_count": 11,
   "id": "bff0032c-c0ee-4435-b97d-eafdf9c3af29",
   "metadata": {},
   "outputs": [
    {
     "data": {
      "text/plain": [
       "27364"
      ]
     },
     "execution_count": 11,
     "metadata": {},
     "output_type": "execute_result"
    }
   ],
   "source": [
    "np.sum(rainMask)"
   ]
  },
  {
   "cell_type": "code",
   "execution_count": 12,
   "id": "78d54c5a-a10b-4d79-ab60-a3f668dea5ef",
   "metadata": {},
   "outputs": [],
   "source": [
    "noRainMask = ~rainMask\n",
    "mask1 = np.isnan(allDS['mean_WSPD'].to_numpy())\n",
    "# mask2 = np.isnan(allDS['mean_WDIR'].to_numpy())\n",
    "# mask3 = np.isnan(allDS['mean_SST'].to_numpy())\n",
    "# mask4 = np.isnan(allDS['mean_RELH'].to_numpy())\n",
    "# mask5 = np.isnan(allDS['mean_AIRT'].to_numpy())"
   ]
  },
  {
   "cell_type": "code",
   "execution_count": 13,
   "id": "7a88d5d3-c48e-4346-9a07-eb4932e6b9c2",
   "metadata": {},
   "outputs": [],
   "source": [
    "selectMask = np.logical_and(noRainMask, ~mask1)"
   ]
  },
  {
   "cell_type": "code",
   "execution_count": 14,
   "id": "1032e618-8b59-45a2-9ee1-1783290c1337",
   "metadata": {},
   "outputs": [
    {
     "data": {
      "text/plain": [
       "(156955, 156437)"
      ]
     },
     "execution_count": 14,
     "metadata": {},
     "output_type": "execute_result"
    }
   ],
   "source": [
    "np.sum(noRainMask), np.sum(selectMask)"
   ]
  },
  {
   "cell_type": "code",
   "execution_count": 15,
   "id": "f1f3efb0-7b02-4299-907b-6db50bf98157",
   "metadata": {},
   "outputs": [],
   "source": [
    "indices = selectMask.nonzero()[0]"
   ]
  },
  {
   "cell_type": "code",
   "execution_count": 16,
   "id": "4fd96e3e-5632-4bb2-873c-00f2d56c3b8d",
   "metadata": {},
   "outputs": [],
   "source": [
    "goodDataSet = allDS.sel(count=indices)"
   ]
  },
  {
   "cell_type": "code",
   "execution_count": 17,
   "id": "b1f31d47-baff-4d9b-ad4e-4110ea2862fb",
   "metadata": {},
   "outputs": [
    {
     "name": "stdout",
     "output_type": "stream",
     "text": [
      "std_WSPD 0\n",
      "std_cosWDIR 5\n",
      "std_sinWDIR 0\n",
      "std_SST 1035\n",
      "std_AIRT 0\n",
      "std_RELH 5\n"
     ]
    }
   ],
   "source": [
    "stdLabels = ['std_WSPD', 'std_cosWDIR', 'std_sinWDIR', 'std_SST', 'std_AIRT', 'std_RELH']\n",
    "for label in stdLabels:\n",
    "    mask = np.isnan(goodDataSet[label].to_numpy())\n",
    "    print(label, np.sum(mask))\n",
    "    goodDataSet[label] = xr.where(mask, 0.0, goodDataSet[label])"
   ]
  },
  {
   "cell_type": "code",
   "execution_count": 18,
   "id": "1735d6ac-b618-4cb8-85ab-38da48659269",
   "metadata": {},
   "outputs": [],
   "source": [
    "goodDataSet = goodDataSet.rename_vars({'WSPD':'Wind Speed (TAO)',\n",
    "                  'WDIR':'Wind Direction (TAO)',\n",
    "                  'UWND': 'Zonal Wind Speed (TAO)',\n",
    "                  'VWND': 'Meridional Wind Speed (TAO)',\n",
    "                  'SST': 'Sea Surface Temperature (TAO)',\n",
    "                  'RELH': 'Relative Humidity (TAO)',\n",
    "                  'AIRT': 'Air Temperature (TAO)',\n",
    "                  'WSPD_10N': 'Neutral Wind Speed at 10m (TAO)',\n",
    "                  'WSPD_10': 'Wind Speed at 10m (TAO)',\n",
    "                  'retrieved_wind_speed': 'Wind Speed (QuikSCAT)',\n",
    "                  'retrieved_wind_direction': 'Wind Direction (QuikSCAT)'})"
   ]
  },
  {
   "cell_type": "code",
   "execution_count": 19,
   "id": "faa78525-5a84-4808-bd21-1e547f602bbf",
   "metadata": {},
   "outputs": [],
   "source": [
    "df = goodDataSet.copy()"
   ]
  },
  {
   "cell_type": "code",
   "execution_count": 20,
   "id": "5bbc9741-dc28-423c-8853-1b1e1e361576",
   "metadata": {},
   "outputs": [],
   "source": [
    "df['Speed Difference (QuikSCAT - TAO)'] = df['Wind Speed (QuikSCAT)'] - df['Neutral Wind Speed at 10m (TAO)']\n",
    "\n",
    "## change true degrees to degrees where 0 deg mean east and 90 deg mean north \n",
    "#df['Wind Direction (TAO)'] = (-(df['Wind Direction (TAO)'] - 90.0) + 360)%360  ## TAO wind direction already fixed\n",
    "df['Wind Direction (QuikSCAT)'] = (-(df['Wind Direction (QuikSCAT)'] - 90.0) + 360)%360\n",
    "\n",
    "## calculate zonal and meridional winds \n",
    "df['Zonal Neutral Wind Speed (TAO)'] = df['Neutral Wind Speed at 10m (TAO)'] * np.cos(np.deg2rad(df['Wind Direction (TAO)']))\n",
    "df['Meridional Neutral Wind Speed (TAO)'] = df['Neutral Wind Speed at 10m (TAO)'] * np.sin(np.deg2rad(df['Wind Direction (TAO)']))\n",
    "\n",
    "df['Zonal Wind Speed (QuikSCAT)'] = df['Wind Speed (QuikSCAT)'] * np.cos(np.deg2rad(df['Wind Direction (QuikSCAT)']))\n",
    "df['Meridional Wind Speed (QuikSCAT)'] = df['Wind Speed (QuikSCAT)'] * np.sin(np.deg2rad(df['Wind Direction (QuikSCAT)']))\n",
    "\n",
    "## direction diff in range (-180,180)\n",
    "dirDiff = ((df['Wind Direction (QuikSCAT)'] - df['Wind Direction (TAO)'])+360)%360\n",
    "dirDiff = xr.where(dirDiff > 180, dirDiff-360, dirDiff)\n",
    "df['Direction Difference (QuikSCAT - TAO)'] = dirDiff\n",
    "\n",
    "df['Zonal Wind Speed Difference (QuikSCAT - TAO)'] = df['Zonal Wind Speed (QuikSCAT)'] - df['Zonal Neutral Wind Speed (TAO)']\n",
    "df['Meridional Wind Speed Difference (QuikSCAT - TAO)'] = df['Meridional Wind Speed (QuikSCAT)'] - df['Meridional Neutral Wind Speed (TAO)']\n",
    "\n",
    "# for timeWindow in range(20,730,10):\n",
    "#     df[f'Speed Difference (QuikSCAT - TAO {timeWindow} min mean)'] = df['Wind Speed (QuikSCAT)'] - df[f'mean WSPD_10N {timeWindow}min']\n",
    "\n",
    "#     ## change true degrees to degrees where 0 deg mean east and 90 deg mean north \n",
    "#     df[f'mean WDIR {timeWindow}min'] = (-(df[f'mean WDIR {timeWindow}min'] - 90.0) + 360)%360\n",
    "\n",
    "#     ## direction diff in range (-180,180)\n",
    "#     dirDiff = ((df['Wind Direction (QuikSCAT)'] - df[f'mean WDIR {timeWindow}min'])+360)%360\n",
    "#     dirDiff = xr.where(dirDiff > 180, dirDiff-360, dirDiff)\n",
    "#     df[f'Direction Difference (QuikSCAT - TAO {timeWindow} min mean)'] = dirDiff\n",
    "\n",
    "#     ### \n",
    "#     df[f'Zonal Wind Speed Difference (QuikSCAT - TAO {timeWindow} min mean)'] = df['Zonal Wind Speed (QuikSCAT)'] - df[f'mean Ux_10N {timeWindow}min']\n",
    "#     df[f'Meridional Wind Speed Difference (QuikSCAT - TAO {timeWindow} min mean)'] = df['Zonal Wind Speed (QuikSCAT)'] - df[f'mean Vy_10N {timeWindow}min']"
   ]
  },
  {
   "cell_type": "code",
   "execution_count": 21,
   "id": "6222fe6e-6812-4562-879c-2a0c95a5d316",
   "metadata": {},
   "outputs": [],
   "source": [
    "df['mean Vector Neutral Wind Speed (TAO)'] = np.sqrt(df['mean_U10N_x']**2 + df['mean_U10N_y']**2)"
   ]
  },
  {
   "cell_type": "code",
   "execution_count": 22,
   "id": "205793f6-a153-4388-8e67-682040a3cfd4",
   "metadata": {},
   "outputs": [
    {
     "data": {
      "text/plain": [
       "['Wind Direction (TAO)',\n",
       " 'WDIR_QC',\n",
       " 'WDIR_DM',\n",
       " 'Wind Speed (TAO)',\n",
       " 'WSPD_QC',\n",
       " 'WSPD_DM',\n",
       " 'Zonal Wind Speed (TAO)',\n",
       " 'Meridional Wind Speed (TAO)',\n",
       " 'Sea Surface Temperature (TAO)',\n",
       " 'SST_QC',\n",
       " 'SST_DM',\n",
       " 'Relative Humidity (TAO)',\n",
       " 'RELH_QC',\n",
       " 'RELH_DM',\n",
       " 'Air Temperature (TAO)',\n",
       " 'AIRT_QC',\n",
       " 'AIRT_DM',\n",
       " 'Neutral Wind Speed at 10m (TAO)',\n",
       " 'Wind Speed at 10m (TAO)',\n",
       " 'mean_WSPD',\n",
       " 'std_WSPD',\n",
       " 'mean_WSPD_10N',\n",
       " 'std_WSPD_10N',\n",
       " 'mean_SST',\n",
       " 'std_SST',\n",
       " 'mean_AIRT',\n",
       " 'std_AIRT',\n",
       " 'mean_RELH',\n",
       " 'std_RELH',\n",
       " 'mean_U10N_x',\n",
       " 'std_U10N_x',\n",
       " 'mean_U10N_y',\n",
       " 'std_U10N_y',\n",
       " 'mean_cosWDIR',\n",
       " 'std_cosWDIR',\n",
       " 'mean_sinWDIR',\n",
       " 'std_sinWDIR',\n",
       " 'LATITUDE',\n",
       " 'LONGITUDE',\n",
       " 'TAO_TIME',\n",
       " 'Deployment index',\n",
       " 'Wind Speed (QuikSCAT)',\n",
       " 'Wind Direction (QuikSCAT)',\n",
       " 'rain_impact',\n",
       " 'flags',\n",
       " 'eflags',\n",
       " 'nudge_wind_speed',\n",
       " 'nudge_wind_direction',\n",
       " 'retrieved_wind_speed_uncorrected',\n",
       " 'cross_track_wind_speed_bias',\n",
       " 'atmospheric_speed_bias',\n",
       " 'wind_obj',\n",
       " 'ambiguity_speed',\n",
       " 'ambiguity_direction',\n",
       " 'ambiguity_obj',\n",
       " 'number_in_fore',\n",
       " 'number_in_aft',\n",
       " 'number_out_fore',\n",
       " 'number_out_aft',\n",
       " 'gmf_sst',\n",
       " 'distance_from_coast',\n",
       " 'exp_bias_wrt_oceanward_neighbors',\n",
       " 'QS_TIME',\n",
       " 'Speed Difference (QuikSCAT - TAO)',\n",
       " 'Zonal Neutral Wind Speed (TAO)',\n",
       " 'Meridional Neutral Wind Speed (TAO)',\n",
       " 'Zonal Wind Speed (QuikSCAT)',\n",
       " 'Meridional Wind Speed (QuikSCAT)',\n",
       " 'Direction Difference (QuikSCAT - TAO)',\n",
       " 'Zonal Wind Speed Difference (QuikSCAT - TAO)',\n",
       " 'Meridional Wind Speed Difference (QuikSCAT - TAO)',\n",
       " 'mean Vector Neutral Wind Speed (TAO)']"
      ]
     },
     "execution_count": 22,
     "metadata": {},
     "output_type": "execute_result"
    }
   ],
   "source": [
    "list(df.keys())"
   ]
  },
  {
   "cell_type": "code",
   "execution_count": 23,
   "id": "cadaa77f-db2d-453e-bfb5-e3e50edefd0d",
   "metadata": {},
   "outputs": [],
   "source": [
    "df['Speed Difference (QuikSCAT - TAO 2hr mean)'] = df['Wind Speed (QuikSCAT)'] - df['mean_WSPD_10N']\n",
    "df['mean Wind Direction (TAO)'] = np.rad2deg(np.arctan2(df['mean_U10N_y'],df['mean_U10N_x']))\n",
    "df['Direction Difference (QuikSCAT - TAO 2hr mean)'] = df['Wind Direction (QuikSCAT)'] - df['mean Wind Direction (TAO)']\n",
    "\n",
    "df['Zonal Wind Speed Difference (QuikSCAT - TAO 2hr mean)'] = df['Zonal Wind Speed (QuikSCAT)'] - df['mean_U10N_x']\n",
    "df['Meridional Wind Speed Difference (QuikSCAT - TAO 2hr mean)'] = df['Meridional Wind Speed (QuikSCAT)'] - df['mean_U10N_y']"
   ]
  },
  {
   "cell_type": "code",
   "execution_count": 25,
   "id": "733ff62e-abab-4198-acb2-92d3cc621c6b",
   "metadata": {},
   "outputs": [],
   "source": [
    "df.to_netcdf('goodData_QSwithTAO_with2hrStatsConv.nc')"
   ]
  },
  {
   "cell_type": "code",
   "execution_count": null,
   "id": "f45e622d-b062-4603-80ce-dcda0e35db47",
   "metadata": {},
   "outputs": [],
   "source": []
  }
 ],
 "metadata": {
  "kernelspec": {
   "display_name": "Python 3 (ipykernel)",
   "language": "python",
   "name": "python3"
  },
  "language_info": {
   "codemirror_mode": {
    "name": "ipython",
    "version": 3
   },
   "file_extension": ".py",
   "mimetype": "text/x-python",
   "name": "python",
   "nbconvert_exporter": "python",
   "pygments_lexer": "ipython3",
   "version": "3.11.6"
  }
 },
 "nbformat": 4,
 "nbformat_minor": 5
}
