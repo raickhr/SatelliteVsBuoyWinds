{
 "cells": [
  {
   "cell_type": "code",
   "execution_count": null,
   "id": "195f83b1-ddbb-469c-beca-fadb422f4663",
   "metadata": {},
   "outputs": [],
   "source": [
    "import pandas as pd\n",
    "from sklearn.model_selection import train_test_split\n",
    "from sklearn.ensemble import RandomForestClassifier\n",
    "from sklearn.metrics import classification_report, accuracy_score\n",
    "import xarray as xr\n",
    "import numpy as np\n",
    "import matplotlib.pyplot as plt\n",
    "from datetime import datetime, timedelta\n",
    "from glob import glob\n",
    "%matplotlib inline"
   ]
  },
  {
   "cell_type": "code",
   "execution_count": null,
   "id": "c08d2a74-3ab2-4d07-9508-2b1e1c63e2ce",
   "metadata": {},
   "outputs": [],
   "source": [
    "folderLoc ='/srv/data2/srai_poseidon/srai_poseidon/observation/SatelliteVsBuoy/downloads/Buoy/extractedGZ/WINDS/'\n",
    "fileList = glob(folderLoc + '*_xrr_COARE3p5_2000_withRAIN_2hrMeanVar.nc')"
   ]
  },
  {
   "cell_type": "code",
   "execution_count": null,
   "id": "316e55a0-a61f-443e-bdfd-c80a836196c2",
   "metadata": {},
   "outputs": [],
   "source": [
    "count = 0\n",
    "for fname in fileList:\n",
    "    print(fname.lstrip(folderLoc).rstrip('_xrr_COARE3p5_2000_withRAIN_2hrMeanVar.nc'))\n",
    "    ds = xr.open_dataset(fname)\n",
    "    ds['mean_WVEL'] = np.sqrt(ds['mean_U10N_x'] **2 + ds['mean_U10N_y']**2)\n",
    "    selectLabels = ['mean_WVEL', 'mean_WSPD', 'std_WSPD', \n",
    "                'std_cosWDIR' , 'std_sinWDIR', \n",
    "                'mean_SST', 'std_SST', \n",
    "                'mean_AIRT', 'std_AIRT',\n",
    "                'mean_RELH', 'std_RELH',\n",
    "                'mean_RAIN']\n",
    "    subDS = ds[selectLabels]\n",
    "    selectMask = ~np.isnan(subDS['mean_WVEL'].to_numpy())\n",
    "    subDS = subDS.isel(TIME=selectMask)\n",
    "    stdLabels = ['std_WSPD', 'std_cosWDIR', 'std_sinWDIR', 'std_SST', 'std_AIRT', 'std_RELH']\n",
    "    for label in stdLabels:\n",
    "        mask = np.isnan(subDS[label].to_numpy())\n",
    "        #print(label, np.sum(mask))\n",
    "        subDS[label] = xr.where(mask, 0.0, subDS[label])\n",
    "    data = subDS.to_dataframe()\n",
    "    if count == 0:\n",
    "        allDF = data\n",
    "    else:\n",
    "        allDF = pd.concat([allDF, data])\n",
    "    ds.close()\n",
    "    count+= 1\n",
    "    \n",
    "            "
   ]
  },
  {
   "cell_type": "code",
   "execution_count": null,
   "id": "109749f0-9905-4ca1-8d07-24b4c6cdc9b3",
   "metadata": {},
   "outputs": [],
   "source": [
    "\n",
    "fname = 'T_09N_140W_xrr_COARE3p5_2000_withRAIN_2hrMeanVar.nc'\n",
    "fname2 = 'T_09N_140W_xrr_MatchUp_720_mins_2000.nc'\n",
    "ds = xr.open_dataset(folderLoc + fname)\n",
    "ds\n",
    "\n",
    "ds2 = xr.open_dataset(folderLoc + fname2)"
   ]
  },
  {
   "cell_type": "code",
   "execution_count": null,
   "id": "42a595dc-efea-4623-a739-bb643dc544af",
   "metadata": {},
   "outputs": [],
   "source": [
    "ds['mean_WVEL'] = np.sqrt(ds['mean_U10N_x'] **2 + ds['mean_U10N_y']**2)"
   ]
  },
  {
   "cell_type": "code",
   "execution_count": null,
   "id": "2651e1c2-c194-48bf-a988-da5372cc4d87",
   "metadata": {},
   "outputs": [],
   "source": [
    "selectLabels = ['mean_WVEL', 'mean_WSPD', 'std_WSPD', \n",
    "                'std_cosWDIR' , 'std_sinWDIR', \n",
    "                'mean_SST', 'std_SST', \n",
    "                'mean_AIRT', 'std_AIRT',\n",
    "                'mean_RELH', 'std_RELH',\n",
    "                'mean_RAIN']\n",
    "subDS = ds[selectLabels]"
   ]
  },
  {
   "cell_type": "code",
   "execution_count": null,
   "id": "963583ef-e0d6-4a01-81c9-0914b953dd6a",
   "metadata": {},
   "outputs": [],
   "source": [
    "selectMask = ~np.isnan(subDS['mean_WVEL'].to_numpy())\n",
    "subDS = subDS.isel(TIME=selectMask)\n",
    "stdLabels = ['std_WSPD', 'std_cosWDIR', 'std_sinWDIR', 'std_SST', 'std_AIRT', 'std_RELH']\n",
    "for label in stdLabels:\n",
    "    mask = np.isnan(subDS[label].to_numpy())\n",
    "    print(label, np.sum(mask))\n",
    "    subDS[label] = xr.where(mask, 0.0, subDS[label])\n",
    "    "
   ]
  },
  {
   "cell_type": "code",
   "execution_count": null,
   "id": "07425b77-f39c-475e-bd99-727d9648e7a3",
   "metadata": {},
   "outputs": [],
   "source": [
    "plt.figure(figsize=(20,5))\n",
    "# ds.WSPD_10N.sel(HEIGHT=10).isel(TIME=slice(1,2000)).plot(x='TIME')\n",
    "# ds.mean_WSPD_10N.isel(TIME=slice(1,2000)).plot(x='TIME', alpha = 0.5)\n",
    "# ds.mean_WVEL.isel(TIME=slice(1,2000)).plot(x='TIME', alpha = 0.5)\n",
    "ds.mean_RAIN.isel(TIME=slice(1,2000)).plot(x='TIME', alpha = 0.5)\n",
    "ds.std_WSPD.isel(TIME=slice(1,2000)).plot(x='TIME', alpha = 0.5)\n",
    "#ds.mean_RELH.isel(TIME=slice(1,2000)).plot(x='TIME', alpha = 0.5)\n",
    "ds.mean_SST.isel(TIME=slice(1,2000)).plot(x='TIME', alpha = 0.5)"
   ]
  },
  {
   "cell_type": "code",
   "execution_count": null,
   "id": "575b3f51-20c6-48b9-9200-74efb4e0421a",
   "metadata": {},
   "outputs": [],
   "source": [
    "data = subDS.to_dataframe()"
   ]
  },
  {
   "cell_type": "code",
   "execution_count": null,
   "id": "6fc480f0-03c7-440f-8bd4-11427ef5c58a",
   "metadata": {},
   "outputs": [],
   "source": [
    "data"
   ]
  },
  {
   "cell_type": "code",
   "execution_count": null,
   "id": "05cb324c-4f9d-46e6-bc0a-6757de5ad9c3",
   "metadata": {},
   "outputs": [],
   "source": [
    "# Define the RAIN label based on the meanRAIN column and the threshold of 5mm/hr\n",
    "data['RAIN_LABEL'] = data['mean_RAIN'].apply(lambda x: 1 if x > 5 else 0)\n",
    "\n",
    "# Features to use for classification\n",
    "features = ['mean_WSPD', 'mean_SST', 'mean_AIRT', 'mean_RELH', 'std_WSPD', 'std_cosWDIR', 'std_sinWDIR', 'std_SST', 'std_AIRT', 'std_RELH']\n",
    "\n",
    "# Split the dataset into features (X) and target (y)\n",
    "X = data[features]\n",
    "y = data['RAIN_LABEL']\n",
    "\n",
    "# Split the data into training and testing sets\n",
    "X_train, X_test, y_train, y_test = train_test_split(X, y, test_size=0.2, random_state=42)\n",
    "\n",
    "# Initialize and train a RandomForest Classifier\n",
    "classifier = RandomForestClassifier(random_state=42)\n",
    "classifier.fit(X_train, y_train)\n",
    "\n",
    "# Make predictions on the test set\n",
    "y_pred = classifier.predict(X_test)\n",
    "\n",
    "# Evaluate the classifier performance\n",
    "print(\"Accuracy:\", accuracy_score(y_test, y_pred))\n",
    "print(\"\\nClassification Report:\\n\", classification_report(y_test, y_pred))"
   ]
  },
  {
   "cell_type": "code",
   "execution_count": null,
   "id": "7b27655b-be51-46e1-83d3-a5975a29cdeb",
   "metadata": {},
   "outputs": [],
   "source": [
    "len(y_t"
   ]
  },
  {
   "cell_type": "code",
   "execution_count": null,
   "id": "fd1e31e6-e6e5-437f-a869-28850564e43f",
   "metadata": {},
   "outputs": [],
   "source": [
    "falsePos = np.logical_and(y_test ==0, y_pred == 1)\n",
    "falseNeg = np.logical_and(y_test ==1, y_pred == 0)"
   ]
  },
  {
   "cell_type": "code",
   "execution_count": null,
   "id": "4a25dece-832e-4fd8-95a1-b19c5d7f1c84",
   "metadata": {},
   "outputs": [],
   "source": [
    "np.sum(falsePos)"
   ]
  },
  {
   "cell_type": "code",
   "execution_count": null,
   "id": "483a0825-da7d-4974-af44-fd45b38698c6",
   "metadata": {},
   "outputs": [],
   "source": [
    "np.sum(falseNeg)"
   ]
  },
  {
   "cell_type": "code",
   "execution_count": null,
   "id": "c7fa7f7e-dcb8-46e6-b067-3b000d759ee1",
   "metadata": {},
   "outputs": [],
   "source": [
    "len(y_test)"
   ]
  },
  {
   "cell_type": "code",
   "execution_count": null,
   "id": "6d6189b2-a781-46f7-968b-4a85b7a56f94",
   "metadata": {},
   "outputs": [],
   "source": [
    "(30+283)/51317*100"
   ]
  },
  {
   "cell_type": "code",
   "execution_count": null,
   "id": "22b23913-eaaf-468f-ac87-5b52de954140",
   "metadata": {},
   "outputs": [],
   "source": [
    "WSPD2_std = ds2['std. dev. WSPD_10N 120min']\n",
    "WSPD2_mean = ds2['mean WSPD_10N 120min']"
   ]
  },
  {
   "cell_type": "code",
   "execution_count": null,
   "id": "d4a36314-3bee-4be6-b13d-32e9f5499f01",
   "metadata": {},
   "outputs": [],
   "source": [
    "WSPD_mean = ds['mean_WSPD_10N']\n",
    "WSPD_std = ds['std_WSPD_10N']"
   ]
  },
  {
   "cell_type": "code",
   "execution_count": null,
   "id": "06ddbe1d-f897-48f9-8d5c-5690664fcd27",
   "metadata": {},
   "outputs": [],
   "source": [
    "plt.figure(figsize=(20,5))\n",
    "timeArr = ds2.QS_TIME.sel(QS_TIME = slice(datetime(2000,1,1), datetime(2000,5,31)))\n",
    "WSPD2_std.sel(QS_TIME = timeArr, method='nearest').plot(x='QS_TIME')\n",
    "WSPD_std.sel(TIME = timeArr, method='nearest').plot(x='TIME')"
   ]
  },
  {
   "cell_type": "code",
   "execution_count": null,
   "id": "4c6bf924-bb2b-4409-9164-fe4b48de1a53",
   "metadata": {},
   "outputs": [],
   "source": []
  }
 ],
 "metadata": {
  "kernelspec": {
   "display_name": "Python 3 (ipykernel)",
   "language": "python",
   "name": "python3"
  },
  "language_info": {
   "codemirror_mode": {
    "name": "ipython",
    "version": 3
   },
   "file_extension": ".py",
   "mimetype": "text/x-python",
   "name": "python",
   "nbconvert_exporter": "python",
   "pygments_lexer": "ipython3",
   "version": "3.11.6"
  }
 },
 "nbformat": 4,
 "nbformat_minor": 5
}
