{
 "cells": [
  {
   "cell_type": "code",
   "execution_count": 1,
   "id": "4a0bb63a-ef7c-402d-b0b4-3cfa7d6002c0",
   "metadata": {},
   "outputs": [],
   "source": [
    "from sklearn.cluster import KMeans\n",
    "import numpy as np\n",
    "import matplotlib.pyplot as plt\n",
    "\n",
    "from matplotlib import cm\n",
    "import matplotlib.cbook as cbook\n",
    "import matplotlib.colors as colors\n",
    "\n",
    "import pandas as pd\n",
    "import xarray as xr\n",
    "from netCDF4 import Dataset, num2date, date2num\n",
    "from datetime import datetime, timedelta\n",
    "import os\n",
    "\n",
    "import seaborn as sns\n",
    "import cmocean as cmocn\n",
    "\n",
    "%matplotlib inline"
   ]
  },
  {
   "cell_type": "code",
   "execution_count": 2,
   "id": "72b80663-359d-4c5b-a1ee-7dbbb98d3f24",
   "metadata": {
    "scrolled": true
   },
   "outputs": [
    {
     "data": {
      "text/html": [
       "<div><svg style=\"position: absolute; width: 0; height: 0; overflow: hidden\">\n",
       "<defs>\n",
       "<symbol id=\"icon-database\" viewBox=\"0 0 32 32\">\n",
       "<path d=\"M16 0c-8.837 0-16 2.239-16 5v4c0 2.761 7.163 5 16 5s16-2.239 16-5v-4c0-2.761-7.163-5-16-5z\"></path>\n",
       "<path d=\"M16 17c-8.837 0-16-2.239-16-5v6c0 2.761 7.163 5 16 5s16-2.239 16-5v-6c0 2.761-7.163 5-16 5z\"></path>\n",
       "<path d=\"M16 26c-8.837 0-16-2.239-16-5v6c0 2.761 7.163 5 16 5s16-2.239 16-5v-6c0 2.761-7.163 5-16 5z\"></path>\n",
       "</symbol>\n",
       "<symbol id=\"icon-file-text2\" viewBox=\"0 0 32 32\">\n",
       "<path d=\"M28.681 7.159c-0.694-0.947-1.662-2.053-2.724-3.116s-2.169-2.030-3.116-2.724c-1.612-1.182-2.393-1.319-2.841-1.319h-15.5c-1.378 0-2.5 1.121-2.5 2.5v27c0 1.378 1.122 2.5 2.5 2.5h23c1.378 0 2.5-1.122 2.5-2.5v-19.5c0-0.448-0.137-1.23-1.319-2.841zM24.543 5.457c0.959 0.959 1.712 1.825 2.268 2.543h-4.811v-4.811c0.718 0.556 1.584 1.309 2.543 2.268zM28 29.5c0 0.271-0.229 0.5-0.5 0.5h-23c-0.271 0-0.5-0.229-0.5-0.5v-27c0-0.271 0.229-0.5 0.5-0.5 0 0 15.499-0 15.5 0v7c0 0.552 0.448 1 1 1h7v19.5z\"></path>\n",
       "<path d=\"M23 26h-14c-0.552 0-1-0.448-1-1s0.448-1 1-1h14c0.552 0 1 0.448 1 1s-0.448 1-1 1z\"></path>\n",
       "<path d=\"M23 22h-14c-0.552 0-1-0.448-1-1s0.448-1 1-1h14c0.552 0 1 0.448 1 1s-0.448 1-1 1z\"></path>\n",
       "<path d=\"M23 18h-14c-0.552 0-1-0.448-1-1s0.448-1 1-1h14c0.552 0 1 0.448 1 1s-0.448 1-1 1z\"></path>\n",
       "</symbol>\n",
       "</defs>\n",
       "</svg>\n",
       "<style>/* CSS stylesheet for displaying xarray objects in jupyterlab.\n",
       " *\n",
       " */\n",
       "\n",
       ":root {\n",
       "  --xr-font-color0: var(--jp-content-font-color0, rgba(0, 0, 0, 1));\n",
       "  --xr-font-color2: var(--jp-content-font-color2, rgba(0, 0, 0, 0.54));\n",
       "  --xr-font-color3: var(--jp-content-font-color3, rgba(0, 0, 0, 0.38));\n",
       "  --xr-border-color: var(--jp-border-color2, #e0e0e0);\n",
       "  --xr-disabled-color: var(--jp-layout-color3, #bdbdbd);\n",
       "  --xr-background-color: var(--jp-layout-color0, white);\n",
       "  --xr-background-color-row-even: var(--jp-layout-color1, white);\n",
       "  --xr-background-color-row-odd: var(--jp-layout-color2, #eeeeee);\n",
       "}\n",
       "\n",
       "html[theme=dark],\n",
       "body[data-theme=dark],\n",
       "body.vscode-dark {\n",
       "  --xr-font-color0: rgba(255, 255, 255, 1);\n",
       "  --xr-font-color2: rgba(255, 255, 255, 0.54);\n",
       "  --xr-font-color3: rgba(255, 255, 255, 0.38);\n",
       "  --xr-border-color: #1F1F1F;\n",
       "  --xr-disabled-color: #515151;\n",
       "  --xr-background-color: #111111;\n",
       "  --xr-background-color-row-even: #111111;\n",
       "  --xr-background-color-row-odd: #313131;\n",
       "}\n",
       "\n",
       ".xr-wrap {\n",
       "  display: block !important;\n",
       "  min-width: 300px;\n",
       "  max-width: 700px;\n",
       "}\n",
       "\n",
       ".xr-text-repr-fallback {\n",
       "  /* fallback to plain text repr when CSS is not injected (untrusted notebook) */\n",
       "  display: none;\n",
       "}\n",
       "\n",
       ".xr-header {\n",
       "  padding-top: 6px;\n",
       "  padding-bottom: 6px;\n",
       "  margin-bottom: 4px;\n",
       "  border-bottom: solid 1px var(--xr-border-color);\n",
       "}\n",
       "\n",
       ".xr-header > div,\n",
       ".xr-header > ul {\n",
       "  display: inline;\n",
       "  margin-top: 0;\n",
       "  margin-bottom: 0;\n",
       "}\n",
       "\n",
       ".xr-obj-type,\n",
       ".xr-array-name {\n",
       "  margin-left: 2px;\n",
       "  margin-right: 10px;\n",
       "}\n",
       "\n",
       ".xr-obj-type {\n",
       "  color: var(--xr-font-color2);\n",
       "}\n",
       "\n",
       ".xr-sections {\n",
       "  padding-left: 0 !important;\n",
       "  display: grid;\n",
       "  grid-template-columns: 150px auto auto 1fr 20px 20px;\n",
       "}\n",
       "\n",
       ".xr-section-item {\n",
       "  display: contents;\n",
       "}\n",
       "\n",
       ".xr-section-item input {\n",
       "  display: none;\n",
       "}\n",
       "\n",
       ".xr-section-item input + label {\n",
       "  color: var(--xr-disabled-color);\n",
       "}\n",
       "\n",
       ".xr-section-item input:enabled + label {\n",
       "  cursor: pointer;\n",
       "  color: var(--xr-font-color2);\n",
       "}\n",
       "\n",
       ".xr-section-item input:enabled + label:hover {\n",
       "  color: var(--xr-font-color0);\n",
       "}\n",
       "\n",
       ".xr-section-summary {\n",
       "  grid-column: 1;\n",
       "  color: var(--xr-font-color2);\n",
       "  font-weight: 500;\n",
       "}\n",
       "\n",
       ".xr-section-summary > span {\n",
       "  display: inline-block;\n",
       "  padding-left: 0.5em;\n",
       "}\n",
       "\n",
       ".xr-section-summary-in:disabled + label {\n",
       "  color: var(--xr-font-color2);\n",
       "}\n",
       "\n",
       ".xr-section-summary-in + label:before {\n",
       "  display: inline-block;\n",
       "  content: '►';\n",
       "  font-size: 11px;\n",
       "  width: 15px;\n",
       "  text-align: center;\n",
       "}\n",
       "\n",
       ".xr-section-summary-in:disabled + label:before {\n",
       "  color: var(--xr-disabled-color);\n",
       "}\n",
       "\n",
       ".xr-section-summary-in:checked + label:before {\n",
       "  content: '▼';\n",
       "}\n",
       "\n",
       ".xr-section-summary-in:checked + label > span {\n",
       "  display: none;\n",
       "}\n",
       "\n",
       ".xr-section-summary,\n",
       ".xr-section-inline-details {\n",
       "  padding-top: 4px;\n",
       "  padding-bottom: 4px;\n",
       "}\n",
       "\n",
       ".xr-section-inline-details {\n",
       "  grid-column: 2 / -1;\n",
       "}\n",
       "\n",
       ".xr-section-details {\n",
       "  display: none;\n",
       "  grid-column: 1 / -1;\n",
       "  margin-bottom: 5px;\n",
       "}\n",
       "\n",
       ".xr-section-summary-in:checked ~ .xr-section-details {\n",
       "  display: contents;\n",
       "}\n",
       "\n",
       ".xr-array-wrap {\n",
       "  grid-column: 1 / -1;\n",
       "  display: grid;\n",
       "  grid-template-columns: 20px auto;\n",
       "}\n",
       "\n",
       ".xr-array-wrap > label {\n",
       "  grid-column: 1;\n",
       "  vertical-align: top;\n",
       "}\n",
       "\n",
       ".xr-preview {\n",
       "  color: var(--xr-font-color3);\n",
       "}\n",
       "\n",
       ".xr-array-preview,\n",
       ".xr-array-data {\n",
       "  padding: 0 5px !important;\n",
       "  grid-column: 2;\n",
       "}\n",
       "\n",
       ".xr-array-data,\n",
       ".xr-array-in:checked ~ .xr-array-preview {\n",
       "  display: none;\n",
       "}\n",
       "\n",
       ".xr-array-in:checked ~ .xr-array-data,\n",
       ".xr-array-preview {\n",
       "  display: inline-block;\n",
       "}\n",
       "\n",
       ".xr-dim-list {\n",
       "  display: inline-block !important;\n",
       "  list-style: none;\n",
       "  padding: 0 !important;\n",
       "  margin: 0;\n",
       "}\n",
       "\n",
       ".xr-dim-list li {\n",
       "  display: inline-block;\n",
       "  padding: 0;\n",
       "  margin: 0;\n",
       "}\n",
       "\n",
       ".xr-dim-list:before {\n",
       "  content: '(';\n",
       "}\n",
       "\n",
       ".xr-dim-list:after {\n",
       "  content: ')';\n",
       "}\n",
       "\n",
       ".xr-dim-list li:not(:last-child):after {\n",
       "  content: ',';\n",
       "  padding-right: 5px;\n",
       "}\n",
       "\n",
       ".xr-has-index {\n",
       "  font-weight: bold;\n",
       "}\n",
       "\n",
       ".xr-var-list,\n",
       ".xr-var-item {\n",
       "  display: contents;\n",
       "}\n",
       "\n",
       ".xr-var-item > div,\n",
       ".xr-var-item label,\n",
       ".xr-var-item > .xr-var-name span {\n",
       "  background-color: var(--xr-background-color-row-even);\n",
       "  margin-bottom: 0;\n",
       "}\n",
       "\n",
       ".xr-var-item > .xr-var-name:hover span {\n",
       "  padding-right: 5px;\n",
       "}\n",
       "\n",
       ".xr-var-list > li:nth-child(odd) > div,\n",
       ".xr-var-list > li:nth-child(odd) > label,\n",
       ".xr-var-list > li:nth-child(odd) > .xr-var-name span {\n",
       "  background-color: var(--xr-background-color-row-odd);\n",
       "}\n",
       "\n",
       ".xr-var-name {\n",
       "  grid-column: 1;\n",
       "}\n",
       "\n",
       ".xr-var-dims {\n",
       "  grid-column: 2;\n",
       "}\n",
       "\n",
       ".xr-var-dtype {\n",
       "  grid-column: 3;\n",
       "  text-align: right;\n",
       "  color: var(--xr-font-color2);\n",
       "}\n",
       "\n",
       ".xr-var-preview {\n",
       "  grid-column: 4;\n",
       "}\n",
       "\n",
       ".xr-index-preview {\n",
       "  grid-column: 2 / 5;\n",
       "  color: var(--xr-font-color2);\n",
       "}\n",
       "\n",
       ".xr-var-name,\n",
       ".xr-var-dims,\n",
       ".xr-var-dtype,\n",
       ".xr-preview,\n",
       ".xr-attrs dt {\n",
       "  white-space: nowrap;\n",
       "  overflow: hidden;\n",
       "  text-overflow: ellipsis;\n",
       "  padding-right: 10px;\n",
       "}\n",
       "\n",
       ".xr-var-name:hover,\n",
       ".xr-var-dims:hover,\n",
       ".xr-var-dtype:hover,\n",
       ".xr-attrs dt:hover {\n",
       "  overflow: visible;\n",
       "  width: auto;\n",
       "  z-index: 1;\n",
       "}\n",
       "\n",
       ".xr-var-attrs,\n",
       ".xr-var-data,\n",
       ".xr-index-data {\n",
       "  display: none;\n",
       "  background-color: var(--xr-background-color) !important;\n",
       "  padding-bottom: 5px !important;\n",
       "}\n",
       "\n",
       ".xr-var-attrs-in:checked ~ .xr-var-attrs,\n",
       ".xr-var-data-in:checked ~ .xr-var-data,\n",
       ".xr-index-data-in:checked ~ .xr-index-data {\n",
       "  display: block;\n",
       "}\n",
       "\n",
       ".xr-var-data > table {\n",
       "  float: right;\n",
       "}\n",
       "\n",
       ".xr-var-name span,\n",
       ".xr-var-data,\n",
       ".xr-index-name div,\n",
       ".xr-index-data,\n",
       ".xr-attrs {\n",
       "  padding-left: 25px !important;\n",
       "}\n",
       "\n",
       ".xr-attrs,\n",
       ".xr-var-attrs,\n",
       ".xr-var-data,\n",
       ".xr-index-data {\n",
       "  grid-column: 1 / -1;\n",
       "}\n",
       "\n",
       "dl.xr-attrs {\n",
       "  padding: 0;\n",
       "  margin: 0;\n",
       "  display: grid;\n",
       "  grid-template-columns: 125px auto;\n",
       "}\n",
       "\n",
       ".xr-attrs dt,\n",
       ".xr-attrs dd {\n",
       "  padding: 0;\n",
       "  margin: 0;\n",
       "  float: left;\n",
       "  padding-right: 10px;\n",
       "  width: auto;\n",
       "}\n",
       "\n",
       ".xr-attrs dt {\n",
       "  font-weight: normal;\n",
       "  grid-column: 1;\n",
       "}\n",
       "\n",
       ".xr-attrs dt:hover span {\n",
       "  display: inline-block;\n",
       "  background: var(--xr-background-color);\n",
       "  padding-right: 10px;\n",
       "}\n",
       "\n",
       ".xr-attrs dd {\n",
       "  grid-column: 2;\n",
       "  white-space: pre-wrap;\n",
       "  word-break: break-all;\n",
       "}\n",
       "\n",
       ".xr-icon-database,\n",
       ".xr-icon-file-text2,\n",
       ".xr-no-icon {\n",
       "  display: inline-block;\n",
       "  vertical-align: middle;\n",
       "  width: 1em;\n",
       "  height: 1.5em !important;\n",
       "  stroke-width: 0;\n",
       "  stroke: currentColor;\n",
       "  fill: currentColor;\n",
       "}\n",
       "</style><pre class='xr-text-repr-fallback'>&lt;xarray.Dataset&gt;\n",
       "Dimensions:                           (QS_TIME: 4989, cross_track: 3,\n",
       "                                       ambiguities: 4, TIME: 6762, HEIGHT: 3,\n",
       "                                       DEPTH: 1)\n",
       "Coordinates:\n",
       "  * QS_TIME                           (QS_TIME) datetime64[ns] 2000-01-01T03:...\n",
       "  * cross_track                       (cross_track) int64 0 1 2\n",
       "  * ambiguities                       (ambiguities) int64 0 1 2 3\n",
       "  * TIME                              (TIME) datetime64[ns] 2000-01-01T03:51:...\n",
       "  * HEIGHT                            (HEIGHT) float32 3.0 4.0 10.0\n",
       "  * DEPTH                             (DEPTH) float32 1.0\n",
       "Data variables: (12/63)\n",
       "    retrieved_wind_speed              (QS_TIME, cross_track) float64 ...\n",
       "    retrieved_wind_direction          (QS_TIME, cross_track) float64 ...\n",
       "    rain_impact                       (QS_TIME, cross_track) float64 ...\n",
       "    flags                             (QS_TIME, cross_track) float64 ...\n",
       "    eflags                            (QS_TIME, cross_track) float64 ...\n",
       "    nudge_wind_speed                  (QS_TIME, cross_track) float64 ...\n",
       "    ...                                ...\n",
       "    std_U10N_y                        (QS_TIME) float64 ...\n",
       "    mean_cosWDIR                      (QS_TIME) float64 ...\n",
       "    std_cosWDIR                       (QS_TIME) float64 ...\n",
       "    mean_sinWDIR                      (QS_TIME) float64 ...\n",
       "    std_sinWDIR                       (QS_TIME) float64 ...\n",
       "    TAO_TIME                          (QS_TIME) datetime64[ns] ...</pre><div class='xr-wrap' style='display:none'><div class='xr-header'><div class='xr-obj-type'>xarray.Dataset</div></div><ul class='xr-sections'><li class='xr-section-item'><input id='section-4b7777ac-10cf-4e7e-a242-de130ea3c955' class='xr-section-summary-in' type='checkbox' disabled ><label for='section-4b7777ac-10cf-4e7e-a242-de130ea3c955' class='xr-section-summary'  title='Expand/collapse section'>Dimensions:</label><div class='xr-section-inline-details'><ul class='xr-dim-list'><li><span class='xr-has-index'>QS_TIME</span>: 4989</li><li><span class='xr-has-index'>cross_track</span>: 3</li><li><span class='xr-has-index'>ambiguities</span>: 4</li><li><span class='xr-has-index'>TIME</span>: 6762</li><li><span class='xr-has-index'>HEIGHT</span>: 3</li><li><span class='xr-has-index'>DEPTH</span>: 1</li></ul></div><div class='xr-section-details'></div></li><li class='xr-section-item'><input id='section-417c20e0-babb-4bb4-a0a0-7afabe3ed381' class='xr-section-summary-in' type='checkbox'  checked><label for='section-417c20e0-babb-4bb4-a0a0-7afabe3ed381' class='xr-section-summary' >Coordinates: <span>(6)</span></label><div class='xr-section-inline-details'></div><div class='xr-section-details'><ul class='xr-var-list'><li class='xr-var-item'><div class='xr-var-name'><span class='xr-has-index'>QS_TIME</span></div><div class='xr-var-dims'>(QS_TIME)</div><div class='xr-var-dtype'>datetime64[ns]</div><div class='xr-var-preview xr-preview'>2000-01-01T03:51:47.710247688 .....</div><input id='attrs-2f6e3726-a6f9-4874-8dd9-f810f3a448a0' class='xr-var-attrs-in' type='checkbox' ><label for='attrs-2f6e3726-a6f9-4874-8dd9-f810f3a448a0' title='Show/Hide attributes'><svg class='icon xr-icon-file-text2'><use xlink:href='#icon-file-text2'></use></svg></label><input id='data-e68ad086-b42d-4d95-a45a-1b211a016041' class='xr-var-data-in' type='checkbox'><label for='data-e68ad086-b42d-4d95-a45a-1b211a016041' title='Show/Hide data repr'><svg class='icon xr-icon-database'><use xlink:href='#icon-database'></use></svg></label><div class='xr-var-attrs'><dl class='xr-attrs'><dt><span>long_name :</span></dt><dd>date and time</dd><dt><span>featureType :</span></dt><dd>trajectory</dd></dl></div><div class='xr-var-data'><pre>array([&#x27;2000-01-01T03:51:47.710247688&#x27;, &#x27;2000-01-01T03:51:49.577488348&#x27;,\n",
       "       &#x27;2000-01-03T03:01:44.439731404&#x27;, ..., &#x27;2006-12-31T03:41:26.024466272&#x27;,\n",
       "       &#x27;2006-12-31T14:43:25.589127008&#x27;, &#x27;2006-12-31T14:43:27.455223232&#x27;],\n",
       "      dtype=&#x27;datetime64[ns]&#x27;)</pre></div></li><li class='xr-var-item'><div class='xr-var-name'><span class='xr-has-index'>cross_track</span></div><div class='xr-var-dims'>(cross_track)</div><div class='xr-var-dtype'>int64</div><div class='xr-var-preview xr-preview'>0 1 2</div><input id='attrs-1b46e451-0375-4ec0-ac86-015960eeef75' class='xr-var-attrs-in' type='checkbox' disabled><label for='attrs-1b46e451-0375-4ec0-ac86-015960eeef75' title='Show/Hide attributes'><svg class='icon xr-icon-file-text2'><use xlink:href='#icon-file-text2'></use></svg></label><input id='data-6a81392a-cc27-4fa9-a0cc-713e6e7fe5f9' class='xr-var-data-in' type='checkbox'><label for='data-6a81392a-cc27-4fa9-a0cc-713e6e7fe5f9' title='Show/Hide data repr'><svg class='icon xr-icon-database'><use xlink:href='#icon-database'></use></svg></label><div class='xr-var-attrs'><dl class='xr-attrs'></dl></div><div class='xr-var-data'><pre>array([0, 1, 2])</pre></div></li><li class='xr-var-item'><div class='xr-var-name'><span class='xr-has-index'>ambiguities</span></div><div class='xr-var-dims'>(ambiguities)</div><div class='xr-var-dtype'>int64</div><div class='xr-var-preview xr-preview'>0 1 2 3</div><input id='attrs-076b7ebe-07e6-4d16-968b-565e3a9c832e' class='xr-var-attrs-in' type='checkbox' disabled><label for='attrs-076b7ebe-07e6-4d16-968b-565e3a9c832e' title='Show/Hide attributes'><svg class='icon xr-icon-file-text2'><use xlink:href='#icon-file-text2'></use></svg></label><input id='data-06f4e585-de4b-4c21-96c7-8550a0b2f1a5' class='xr-var-data-in' type='checkbox'><label for='data-06f4e585-de4b-4c21-96c7-8550a0b2f1a5' title='Show/Hide data repr'><svg class='icon xr-icon-database'><use xlink:href='#icon-database'></use></svg></label><div class='xr-var-attrs'><dl class='xr-attrs'></dl></div><div class='xr-var-data'><pre>array([0, 1, 2, 3])</pre></div></li><li class='xr-var-item'><div class='xr-var-name'><span class='xr-has-index'>TIME</span></div><div class='xr-var-dims'>(TIME)</div><div class='xr-var-dtype'>datetime64[ns]</div><div class='xr-var-preview xr-preview'>2000-01-01T03:51:47 ... 2006-12-...</div><input id='attrs-6a4032a1-9aa3-401b-aae5-2b77582eadbb' class='xr-var-attrs-in' type='checkbox' disabled><label for='attrs-6a4032a1-9aa3-401b-aae5-2b77582eadbb' title='Show/Hide attributes'><svg class='icon xr-icon-file-text2'><use xlink:href='#icon-file-text2'></use></svg></label><input id='data-32b274bd-91c6-45fd-825a-b90c00d43117' class='xr-var-data-in' type='checkbox'><label for='data-32b274bd-91c6-45fd-825a-b90c00d43117' title='Show/Hide data repr'><svg class='icon xr-icon-database'><use xlink:href='#icon-database'></use></svg></label><div class='xr-var-attrs'><dl class='xr-attrs'></dl></div><div class='xr-var-data'><pre>array([&#x27;2000-01-01T03:51:47.000000000&#x27;, &#x27;2000-01-01T03:51:49.000000000&#x27;,\n",
       "       &#x27;2000-01-03T03:01:44.000000000&#x27;, ..., &#x27;2006-12-31T03:41:26.000000000&#x27;,\n",
       "       &#x27;2006-12-31T14:43:25.000000000&#x27;, &#x27;2006-12-31T14:43:27.000000000&#x27;],\n",
       "      dtype=&#x27;datetime64[ns]&#x27;)</pre></div></li><li class='xr-var-item'><div class='xr-var-name'><span class='xr-has-index'>HEIGHT</span></div><div class='xr-var-dims'>(HEIGHT)</div><div class='xr-var-dtype'>float32</div><div class='xr-var-preview xr-preview'>3.0 4.0 10.0</div><input id='attrs-eb2f0c6a-8ea9-4348-acee-27bf9e8e4abf' class='xr-var-attrs-in' type='checkbox' ><label for='attrs-eb2f0c6a-8ea9-4348-acee-27bf9e8e4abf' title='Show/Hide attributes'><svg class='icon xr-icon-file-text2'><use xlink:href='#icon-file-text2'></use></svg></label><input id='data-55505582-30a1-4afb-b91b-520057256c00' class='xr-var-data-in' type='checkbox'><label for='data-55505582-30a1-4afb-b91b-520057256c00' title='Show/Hide data repr'><svg class='icon xr-icon-database'><use xlink:href='#icon-database'></use></svg></label><div class='xr-var-attrs'><dl class='xr-attrs'><dt><span>standard_name :</span></dt><dd>height</dd><dt><span>long_name :</span></dt><dd>Nominal height of each measurement</dd><dt><span>units :</span></dt><dd>meters</dd><dt><span>valid_min :</span></dt><dd>0.0</dd><dt><span>valid_max :</span></dt><dd>4.0</dd><dt><span>axis :</span></dt><dd>Z</dd><dt><span>positive :</span></dt><dd>up</dd><dt><span>reference :</span></dt><dd>sea_level</dd><dt><span>coordinate_reference_frame :</span></dt><dd>urn:ogc:crs:EPSG::5829</dd></dl></div><div class='xr-var-data'><pre>array([ 3.,  4., 10.], dtype=float32)</pre></div></li><li class='xr-var-item'><div class='xr-var-name'><span class='xr-has-index'>DEPTH</span></div><div class='xr-var-dims'>(DEPTH)</div><div class='xr-var-dtype'>float32</div><div class='xr-var-preview xr-preview'>1.0</div><input id='attrs-57eb4f9e-47af-46c6-9d6f-8f0098b4e270' class='xr-var-attrs-in' type='checkbox' ><label for='attrs-57eb4f9e-47af-46c6-9d6f-8f0098b4e270' title='Show/Hide attributes'><svg class='icon xr-icon-file-text2'><use xlink:href='#icon-file-text2'></use></svg></label><input id='data-78628c21-005a-49a2-a7fb-4262de1ecb9d' class='xr-var-data-in' type='checkbox'><label for='data-78628c21-005a-49a2-a7fb-4262de1ecb9d' title='Show/Hide data repr'><svg class='icon xr-icon-database'><use xlink:href='#icon-database'></use></svg></label><div class='xr-var-attrs'><dl class='xr-attrs'><dt><span>standard_name :</span></dt><dd>depth</dd><dt><span>long_name :</span></dt><dd>Nominal depth of each measurement</dd><dt><span>units :</span></dt><dd>meters</dd><dt><span>valid_min :</span></dt><dd>0.0</dd><dt><span>valid_max :</span></dt><dd>500.0</dd><dt><span>axis :</span></dt><dd>Z</dd><dt><span>positive :</span></dt><dd>down</dd><dt><span>reference :</span></dt><dd>sea_level</dd><dt><span>coordinate_reference_frame :</span></dt><dd>urn:ogc:crs:EPSG::5831</dd></dl></div><div class='xr-var-data'><pre>array([1.], dtype=float32)</pre></div></li></ul></div></li><li class='xr-section-item'><input id='section-80e659ab-5ef0-4b94-9415-cacdb678f02a' class='xr-section-summary-in' type='checkbox'  ><label for='section-80e659ab-5ef0-4b94-9415-cacdb678f02a' class='xr-section-summary' >Data variables: <span>(63)</span></label><div class='xr-section-inline-details'></div><div class='xr-section-details'><ul class='xr-var-list'><li class='xr-var-item'><div class='xr-var-name'><span>retrieved_wind_speed</span></div><div class='xr-var-dims'>(QS_TIME, cross_track)</div><div class='xr-var-dtype'>float64</div><div class='xr-var-preview xr-preview'>...</div><input id='attrs-e7c51014-8434-41b4-8f05-8853395046ec' class='xr-var-attrs-in' type='checkbox' ><label for='attrs-e7c51014-8434-41b4-8f05-8853395046ec' title='Show/Hide attributes'><svg class='icon xr-icon-file-text2'><use xlink:href='#icon-file-text2'></use></svg></label><input id='data-02bf38cb-2b2d-4034-97c2-9fb8b4d5e374' class='xr-var-data-in' type='checkbox'><label for='data-02bf38cb-2b2d-4034-97c2-9fb8b4d5e374' title='Show/Hide data repr'><svg class='icon xr-icon-database'><use xlink:href='#icon-database'></use></svg></label><div class='xr-var-attrs'><dl class='xr-attrs'><dt><span>valid_min :</span></dt><dd>0.0</dd><dt><span>valid_max :</span></dt><dd>100.0</dd><dt><span>long_name :</span></dt><dd>equivalent neutral wind speed at 10 m</dd><dt><span>standard_name :</span></dt><dd>wind_speed</dd><dt><span>units :</span></dt><dd>m s-1</dd></dl></div><div class='xr-var-data'><pre>[14967 values with dtype=float64]</pre></div></li><li class='xr-var-item'><div class='xr-var-name'><span>retrieved_wind_direction</span></div><div class='xr-var-dims'>(QS_TIME, cross_track)</div><div class='xr-var-dtype'>float64</div><div class='xr-var-preview xr-preview'>...</div><input id='attrs-bd3b36e6-440e-4089-9f53-80842c3c86a7' class='xr-var-attrs-in' type='checkbox' ><label for='attrs-bd3b36e6-440e-4089-9f53-80842c3c86a7' title='Show/Hide attributes'><svg class='icon xr-icon-file-text2'><use xlink:href='#icon-file-text2'></use></svg></label><input id='data-e798f3e8-f010-47be-ba05-275da2148626' class='xr-var-data-in' type='checkbox'><label for='data-e798f3e8-f010-47be-ba05-275da2148626' title='Show/Hide data repr'><svg class='icon xr-icon-database'><use xlink:href='#icon-database'></use></svg></label><div class='xr-var-attrs'><dl class='xr-attrs'><dt><span>valid_min :</span></dt><dd>0.0</dd><dt><span>valid_max :</span></dt><dd>360.0</dd><dt><span>long_name :</span></dt><dd>equivalent neutral wind direction at 10 m</dd><dt><span>standard_name :</span></dt><dd>wind_to_direction</dd><dt><span>units :</span></dt><dd>degrees</dd></dl></div><div class='xr-var-data'><pre>[14967 values with dtype=float64]</pre></div></li><li class='xr-var-item'><div class='xr-var-name'><span>rain_impact</span></div><div class='xr-var-dims'>(QS_TIME, cross_track)</div><div class='xr-var-dtype'>float64</div><div class='xr-var-preview xr-preview'>...</div><input id='attrs-27ce55ef-6edb-4fbe-9275-65722172929b' class='xr-var-attrs-in' type='checkbox' ><label for='attrs-27ce55ef-6edb-4fbe-9275-65722172929b' title='Show/Hide attributes'><svg class='icon xr-icon-file-text2'><use xlink:href='#icon-file-text2'></use></svg></label><input id='data-a73531f5-4229-4715-bc55-699ff88b8373' class='xr-var-data-in' type='checkbox'><label for='data-a73531f5-4229-4715-bc55-699ff88b8373' title='Show/Hide data repr'><svg class='icon xr-icon-database'><use xlink:href='#icon-database'></use></svg></label><div class='xr-var-attrs'><dl class='xr-attrs'><dt><span>valid_min :</span></dt><dd>0.0</dd><dt><span>valid_max :</span></dt><dd>100.0</dd><dt><span>long_name :</span></dt><dd>impact of rain upon wind vector retrieval</dd><dt><span>units :</span></dt><dd>1</dd></dl></div><div class='xr-var-data'><pre>[14967 values with dtype=float64]</pre></div></li><li class='xr-var-item'><div class='xr-var-name'><span>flags</span></div><div class='xr-var-dims'>(QS_TIME, cross_track)</div><div class='xr-var-dtype'>float64</div><div class='xr-var-preview xr-preview'>...</div><input id='attrs-7c957dfa-be27-47c7-a0a5-f3b9974b8646' class='xr-var-attrs-in' type='checkbox' ><label for='attrs-7c957dfa-be27-47c7-a0a5-f3b9974b8646' title='Show/Hide attributes'><svg class='icon xr-icon-file-text2'><use xlink:href='#icon-file-text2'></use></svg></label><input id='data-c619f936-2e0b-4213-a502-cbbef82ae551' class='xr-var-data-in' type='checkbox'><label for='data-c619f936-2e0b-4213-a502-cbbef82ae551' title='Show/Hide data repr'><svg class='icon xr-icon-database'><use xlink:href='#icon-database'></use></svg></label><div class='xr-var-attrs'><dl class='xr-attrs'><dt><span>valid_min :</span></dt><dd>0</dd><dt><span>long_name :</span></dt><dd>wind vector cell quality flags</dd><dt><span>units :</span></dt><dd>bit</dd><dt><span>flag_masks :</span></dt><dd>1s, 2s, 32s, 64s, 128s, 256s, 512s, 1024s, 2048s, 4096s, 8192s, 16384s</dd><dt><span>flag_meanings :</span></dt><dd>adequate_sigma0_flag adequate_azimuth_diversity_flag poor_coastal_processing_flag wind_retrieval_likely_corrupted_flag coastal_flag ice_edge_flag winds_not_retrieved_flag high_wind_speed_flag low_wind_speed_flag rain_impact_flag_not_usable_flag rain_impact_flag missing_look_flag </dd><dt><span>valid_max :</span></dt><dd>32739.0</dd></dl></div><div class='xr-var-data'><pre>[14967 values with dtype=float64]</pre></div></li><li class='xr-var-item'><div class='xr-var-name'><span>eflags</span></div><div class='xr-var-dims'>(QS_TIME, cross_track)</div><div class='xr-var-dtype'>float64</div><div class='xr-var-preview xr-preview'>...</div><input id='attrs-02ca0ab8-f372-4ce6-8959-d0f5665d1340' class='xr-var-attrs-in' type='checkbox' ><label for='attrs-02ca0ab8-f372-4ce6-8959-d0f5665d1340' title='Show/Hide attributes'><svg class='icon xr-icon-file-text2'><use xlink:href='#icon-file-text2'></use></svg></label><input id='data-0b343a15-509a-469c-a670-421fd3aca6f7' class='xr-var-data-in' type='checkbox'><label for='data-0b343a15-509a-469c-a670-421fd3aca6f7' title='Show/Hide data repr'><svg class='icon xr-icon-database'><use xlink:href='#icon-database'></use></svg></label><div class='xr-var-attrs'><dl class='xr-attrs'><dt><span>valid_min :</span></dt><dd>0</dd><dt><span>long_name :</span></dt><dd>extended wind vector cell quality flags</dd><dt><span>units :</span></dt><dd>bit</dd><dt><span>flag_masks :</span></dt><dd>1s, 2s, 4s, 8s, 16s, 64s, 256s, 512s, 1024s, 2048s, 4096s</dd><dt><span>flag_meanings :</span></dt><dd>rain_correction_not_applied_flag correction_produced_negative_spd_flag all_ambiguities_contribute_to_nudging_flag large_rain_correction_flag coastal_processing_applied_flag lake_winds_flag rain_nearby_flag ice_nearby_flag significant_rain_correction_flag rain_correction_applied_flag wind_retrieval_possibly_corrupted_flag </dd><dt><span>valid_max :</span></dt><dd>7967.0</dd></dl></div><div class='xr-var-data'><pre>[14967 values with dtype=float64]</pre></div></li><li class='xr-var-item'><div class='xr-var-name'><span>nudge_wind_speed</span></div><div class='xr-var-dims'>(QS_TIME, cross_track)</div><div class='xr-var-dtype'>float64</div><div class='xr-var-preview xr-preview'>...</div><input id='attrs-b3c30ac9-05d9-4cd0-9ed2-fd441bd34a5a' class='xr-var-attrs-in' type='checkbox' ><label for='attrs-b3c30ac9-05d9-4cd0-9ed2-fd441bd34a5a' title='Show/Hide attributes'><svg class='icon xr-icon-file-text2'><use xlink:href='#icon-file-text2'></use></svg></label><input id='data-aec1725c-5005-4a62-be02-2e711c7d8f56' class='xr-var-data-in' type='checkbox'><label for='data-aec1725c-5005-4a62-be02-2e711c7d8f56' title='Show/Hide data repr'><svg class='icon xr-icon-database'><use xlink:href='#icon-database'></use></svg></label><div class='xr-var-attrs'><dl class='xr-attrs'><dt><span>valid_min :</span></dt><dd>0.0</dd><dt><span>valid_max :</span></dt><dd>100.0</dd><dt><span>long_name :</span></dt><dd>model wind speed</dd><dt><span>standard_name :</span></dt><dd>wind_speed</dd><dt><span>units :</span></dt><dd>m s-1</dd></dl></div><div class='xr-var-data'><pre>[14967 values with dtype=float64]</pre></div></li><li class='xr-var-item'><div class='xr-var-name'><span>nudge_wind_direction</span></div><div class='xr-var-dims'>(QS_TIME, cross_track)</div><div class='xr-var-dtype'>float64</div><div class='xr-var-preview xr-preview'>...</div><input id='attrs-48e4fbca-8e90-4de0-8f8f-f180b2b45e45' class='xr-var-attrs-in' type='checkbox' ><label for='attrs-48e4fbca-8e90-4de0-8f8f-f180b2b45e45' title='Show/Hide attributes'><svg class='icon xr-icon-file-text2'><use xlink:href='#icon-file-text2'></use></svg></label><input id='data-5b732ab6-58a8-473a-90ec-9001767e30c1' class='xr-var-data-in' type='checkbox'><label for='data-5b732ab6-58a8-473a-90ec-9001767e30c1' title='Show/Hide data repr'><svg class='icon xr-icon-database'><use xlink:href='#icon-database'></use></svg></label><div class='xr-var-attrs'><dl class='xr-attrs'><dt><span>valid_min :</span></dt><dd>0.0</dd><dt><span>valid_max :</span></dt><dd>360.0</dd><dt><span>long_name :</span></dt><dd>model wind direction</dd><dt><span>standard_name :</span></dt><dd>wind_to_direction</dd><dt><span>units :</span></dt><dd>degrees</dd></dl></div><div class='xr-var-data'><pre>[14967 values with dtype=float64]</pre></div></li><li class='xr-var-item'><div class='xr-var-name'><span>retrieved_wind_speed_uncorrected</span></div><div class='xr-var-dims'>(QS_TIME, cross_track)</div><div class='xr-var-dtype'>float64</div><div class='xr-var-preview xr-preview'>...</div><input id='attrs-50ce9fe5-6421-43c7-88f8-52a324fdfa37' class='xr-var-attrs-in' type='checkbox' ><label for='attrs-50ce9fe5-6421-43c7-88f8-52a324fdfa37' title='Show/Hide attributes'><svg class='icon xr-icon-file-text2'><use xlink:href='#icon-file-text2'></use></svg></label><input id='data-4be4c6be-e649-4ab2-bd71-0dea32e49c37' class='xr-var-data-in' type='checkbox'><label for='data-4be4c6be-e649-4ab2-bd71-0dea32e49c37' title='Show/Hide data repr'><svg class='icon xr-icon-database'><use xlink:href='#icon-database'></use></svg></label><div class='xr-var-attrs'><dl class='xr-attrs'><dt><span>valid_min :</span></dt><dd>0.0</dd><dt><span>valid_max :</span></dt><dd>100.0</dd><dt><span>long_name :</span></dt><dd>wind speed without rain correction</dd><dt><span>standard_name :</span></dt><dd>wind_speed</dd><dt><span>units :</span></dt><dd>m s-1</dd></dl></div><div class='xr-var-data'><pre>[14967 values with dtype=float64]</pre></div></li><li class='xr-var-item'><div class='xr-var-name'><span>cross_track_wind_speed_bias</span></div><div class='xr-var-dims'>(QS_TIME, cross_track)</div><div class='xr-var-dtype'>float64</div><div class='xr-var-preview xr-preview'>...</div><input id='attrs-041b6dc0-b1fe-4693-bb6d-2a4d17dfaaf7' class='xr-var-attrs-in' type='checkbox' ><label for='attrs-041b6dc0-b1fe-4693-bb6d-2a4d17dfaaf7' title='Show/Hide attributes'><svg class='icon xr-icon-file-text2'><use xlink:href='#icon-file-text2'></use></svg></label><input id='data-e288a441-4896-414e-b594-8d2f3cf24b71' class='xr-var-data-in' type='checkbox'><label for='data-e288a441-4896-414e-b594-8d2f3cf24b71' title='Show/Hide data repr'><svg class='icon xr-icon-database'><use xlink:href='#icon-database'></use></svg></label><div class='xr-var-attrs'><dl class='xr-attrs'><dt><span>valid_min :</span></dt><dd>-100.0</dd><dt><span>valid_max :</span></dt><dd>100.0</dd><dt><span>long_name :</span></dt><dd>relative wind speed bias with respect to sweet spot</dd><dt><span>units :</span></dt><dd>m s-1</dd></dl></div><div class='xr-var-data'><pre>[14967 values with dtype=float64]</pre></div></li><li class='xr-var-item'><div class='xr-var-name'><span>atmospheric_speed_bias</span></div><div class='xr-var-dims'>(QS_TIME, cross_track)</div><div class='xr-var-dtype'>float64</div><div class='xr-var-preview xr-preview'>...</div><input id='attrs-82975d4c-7b0c-4bf4-8753-96e604bb919d' class='xr-var-attrs-in' type='checkbox' ><label for='attrs-82975d4c-7b0c-4bf4-8753-96e604bb919d' title='Show/Hide attributes'><svg class='icon xr-icon-file-text2'><use xlink:href='#icon-file-text2'></use></svg></label><input id='data-f10da8f5-6b92-41ba-975f-45b4d9b9457c' class='xr-var-data-in' type='checkbox'><label for='data-f10da8f5-6b92-41ba-975f-45b4d9b9457c' title='Show/Hide data repr'><svg class='icon xr-icon-database'><use xlink:href='#icon-database'></use></svg></label><div class='xr-var-attrs'><dl class='xr-attrs'><dt><span>valid_min :</span></dt><dd>-100.0</dd><dt><span>valid_max :</span></dt><dd>100.0</dd><dt><span>long_name :</span></dt><dd>atmospheric speed bias</dd><dt><span>units :</span></dt><dd>m s-1</dd></dl></div><div class='xr-var-data'><pre>[14967 values with dtype=float64]</pre></div></li><li class='xr-var-item'><div class='xr-var-name'><span>wind_obj</span></div><div class='xr-var-dims'>(QS_TIME, cross_track)</div><div class='xr-var-dtype'>float64</div><div class='xr-var-preview xr-preview'>...</div><input id='attrs-2a75e09d-9e47-4ddb-8c99-196439c32d66' class='xr-var-attrs-in' type='checkbox' ><label for='attrs-2a75e09d-9e47-4ddb-8c99-196439c32d66' title='Show/Hide attributes'><svg class='icon xr-icon-file-text2'><use xlink:href='#icon-file-text2'></use></svg></label><input id='data-e6afaeda-2599-4ddd-8461-912d43a8a1a7' class='xr-var-data-in' type='checkbox'><label for='data-e6afaeda-2599-4ddd-8461-912d43a8a1a7' title='Show/Hide data repr'><svg class='icon xr-icon-database'><use xlink:href='#icon-database'></use></svg></label><div class='xr-var-attrs'><dl class='xr-attrs'><dt><span>valid_min :</span></dt><dd>-199.0</dd><dt><span>valid_max :</span></dt><dd>0.0</dd><dt><span>long_name :</span></dt><dd>retrieved wind objective function value</dd><dt><span>units :</span></dt><dd>1</dd></dl></div><div class='xr-var-data'><pre>[14967 values with dtype=float64]</pre></div></li><li class='xr-var-item'><div class='xr-var-name'><span>ambiguity_speed</span></div><div class='xr-var-dims'>(QS_TIME, cross_track, ambiguities)</div><div class='xr-var-dtype'>float64</div><div class='xr-var-preview xr-preview'>...</div><input id='attrs-73907aea-10ef-4cdb-b519-21783d44befc' class='xr-var-attrs-in' type='checkbox' ><label for='attrs-73907aea-10ef-4cdb-b519-21783d44befc' title='Show/Hide attributes'><svg class='icon xr-icon-file-text2'><use xlink:href='#icon-file-text2'></use></svg></label><input id='data-5ee61857-be3c-4eac-ad43-c769cfe1e622' class='xr-var-data-in' type='checkbox'><label for='data-5ee61857-be3c-4eac-ad43-c769cfe1e622' title='Show/Hide data repr'><svg class='icon xr-icon-database'><use xlink:href='#icon-database'></use></svg></label><div class='xr-var-attrs'><dl class='xr-attrs'><dt><span>valid_min :</span></dt><dd>0.0</dd><dt><span>valid_max :</span></dt><dd>100.0</dd><dt><span>long_name :</span></dt><dd>wind speed ambiguity</dd><dt><span>standard_name :</span></dt><dd>wind_speed</dd><dt><span>units :</span></dt><dd>m s-1</dd></dl></div><div class='xr-var-data'><pre>[59868 values with dtype=float64]</pre></div></li><li class='xr-var-item'><div class='xr-var-name'><span>ambiguity_direction</span></div><div class='xr-var-dims'>(QS_TIME, cross_track, ambiguities)</div><div class='xr-var-dtype'>float64</div><div class='xr-var-preview xr-preview'>...</div><input id='attrs-02b21e46-b116-45ed-b61c-8ae6ab7426ab' class='xr-var-attrs-in' type='checkbox' ><label for='attrs-02b21e46-b116-45ed-b61c-8ae6ab7426ab' title='Show/Hide attributes'><svg class='icon xr-icon-file-text2'><use xlink:href='#icon-file-text2'></use></svg></label><input id='data-0ff350e8-6c73-4907-a59d-cec9a2ce407d' class='xr-var-data-in' type='checkbox'><label for='data-0ff350e8-6c73-4907-a59d-cec9a2ce407d' title='Show/Hide data repr'><svg class='icon xr-icon-database'><use xlink:href='#icon-database'></use></svg></label><div class='xr-var-attrs'><dl class='xr-attrs'><dt><span>valid_min :</span></dt><dd>0.0</dd><dt><span>valid_max :</span></dt><dd>360.0</dd><dt><span>long_name :</span></dt><dd>wind direction ambiguity</dd><dt><span>standard_name :</span></dt><dd>wind_to_direction</dd><dt><span>units :</span></dt><dd>degrees</dd></dl></div><div class='xr-var-data'><pre>[59868 values with dtype=float64]</pre></div></li><li class='xr-var-item'><div class='xr-var-name'><span>ambiguity_obj</span></div><div class='xr-var-dims'>(QS_TIME, cross_track, ambiguities)</div><div class='xr-var-dtype'>float64</div><div class='xr-var-preview xr-preview'>...</div><input id='attrs-04a304ac-1165-48e0-98ca-1dfee9ec65c2' class='xr-var-attrs-in' type='checkbox' ><label for='attrs-04a304ac-1165-48e0-98ca-1dfee9ec65c2' title='Show/Hide attributes'><svg class='icon xr-icon-file-text2'><use xlink:href='#icon-file-text2'></use></svg></label><input id='data-758dc636-e0b2-4914-afb7-389b1ceaadfc' class='xr-var-data-in' type='checkbox'><label for='data-758dc636-e0b2-4914-afb7-389b1ceaadfc' title='Show/Hide data repr'><svg class='icon xr-icon-database'><use xlink:href='#icon-database'></use></svg></label><div class='xr-var-attrs'><dl class='xr-attrs'><dt><span>valid_min :</span></dt><dd>-199.0</dd><dt><span>valid_max :</span></dt><dd>0.0</dd><dt><span>long_name :</span></dt><dd>wind objective function values</dd><dt><span>units :</span></dt><dd>1</dd></dl></div><div class='xr-var-data'><pre>[59868 values with dtype=float64]</pre></div></li><li class='xr-var-item'><div class='xr-var-name'><span>number_in_fore</span></div><div class='xr-var-dims'>(QS_TIME, cross_track)</div><div class='xr-var-dtype'>float64</div><div class='xr-var-preview xr-preview'>...</div><input id='attrs-a915aabf-1dde-493b-8dc3-cda2637fb851' class='xr-var-attrs-in' type='checkbox' ><label for='attrs-a915aabf-1dde-493b-8dc3-cda2637fb851' title='Show/Hide attributes'><svg class='icon xr-icon-file-text2'><use xlink:href='#icon-file-text2'></use></svg></label><input id='data-3f6d0ddf-397e-4eca-a83e-282f0b48728e' class='xr-var-data-in' type='checkbox'><label for='data-3f6d0ddf-397e-4eca-a83e-282f0b48728e' title='Show/Hide data repr'><svg class='icon xr-icon-database'><use xlink:href='#icon-database'></use></svg></label><div class='xr-var-attrs'><dl class='xr-attrs'><dt><span>valid_min :</span></dt><dd>1</dd><dt><span>valid_max :</span></dt><dd>127</dd><dt><span>long_name :</span></dt><dd>number of inner forward looks in wind vector cell</dd><dt><span>units :</span></dt><dd>1</dd></dl></div><div class='xr-var-data'><pre>[14967 values with dtype=float64]</pre></div></li><li class='xr-var-item'><div class='xr-var-name'><span>number_in_aft</span></div><div class='xr-var-dims'>(QS_TIME, cross_track)</div><div class='xr-var-dtype'>float64</div><div class='xr-var-preview xr-preview'>...</div><input id='attrs-e8694b69-4933-4029-95b9-70a04e8a3edf' class='xr-var-attrs-in' type='checkbox' ><label for='attrs-e8694b69-4933-4029-95b9-70a04e8a3edf' title='Show/Hide attributes'><svg class='icon xr-icon-file-text2'><use xlink:href='#icon-file-text2'></use></svg></label><input id='data-345b06fd-1f74-4390-95b9-419cc881fbdc' class='xr-var-data-in' type='checkbox'><label for='data-345b06fd-1f74-4390-95b9-419cc881fbdc' title='Show/Hide data repr'><svg class='icon xr-icon-database'><use xlink:href='#icon-database'></use></svg></label><div class='xr-var-attrs'><dl class='xr-attrs'><dt><span>valid_min :</span></dt><dd>1</dd><dt><span>valid_max :</span></dt><dd>127</dd><dt><span>long_name :</span></dt><dd>number of inner aft looks in wind vector cell</dd><dt><span>units :</span></dt><dd>1</dd></dl></div><div class='xr-var-data'><pre>[14967 values with dtype=float64]</pre></div></li><li class='xr-var-item'><div class='xr-var-name'><span>number_out_fore</span></div><div class='xr-var-dims'>(QS_TIME, cross_track)</div><div class='xr-var-dtype'>float64</div><div class='xr-var-preview xr-preview'>...</div><input id='attrs-51c1780d-3ece-4676-944e-2711d90dcc1a' class='xr-var-attrs-in' type='checkbox' ><label for='attrs-51c1780d-3ece-4676-944e-2711d90dcc1a' title='Show/Hide attributes'><svg class='icon xr-icon-file-text2'><use xlink:href='#icon-file-text2'></use></svg></label><input id='data-1d4ba412-b00d-4fb5-b519-4a085eedd1a8' class='xr-var-data-in' type='checkbox'><label for='data-1d4ba412-b00d-4fb5-b519-4a085eedd1a8' title='Show/Hide data repr'><svg class='icon xr-icon-database'><use xlink:href='#icon-database'></use></svg></label><div class='xr-var-attrs'><dl class='xr-attrs'><dt><span>valid_min :</span></dt><dd>1</dd><dt><span>valid_max :</span></dt><dd>127</dd><dt><span>long_name :</span></dt><dd>number of outer forward looks in wind vector cell</dd><dt><span>units :</span></dt><dd>1</dd></dl></div><div class='xr-var-data'><pre>[14967 values with dtype=float64]</pre></div></li><li class='xr-var-item'><div class='xr-var-name'><span>number_out_aft</span></div><div class='xr-var-dims'>(QS_TIME, cross_track)</div><div class='xr-var-dtype'>float64</div><div class='xr-var-preview xr-preview'>...</div><input id='attrs-48fbe06e-ffa7-426f-9d2c-95abd04cb368' class='xr-var-attrs-in' type='checkbox' ><label for='attrs-48fbe06e-ffa7-426f-9d2c-95abd04cb368' title='Show/Hide attributes'><svg class='icon xr-icon-file-text2'><use xlink:href='#icon-file-text2'></use></svg></label><input id='data-809af571-b4c6-416d-9083-29f36c3a5d1a' class='xr-var-data-in' type='checkbox'><label for='data-809af571-b4c6-416d-9083-29f36c3a5d1a' title='Show/Hide data repr'><svg class='icon xr-icon-database'><use xlink:href='#icon-database'></use></svg></label><div class='xr-var-attrs'><dl class='xr-attrs'><dt><span>valid_min :</span></dt><dd>1</dd><dt><span>valid_max :</span></dt><dd>127</dd><dt><span>long_name :</span></dt><dd>number of outer aft looks in wind vector cell</dd><dt><span>units :</span></dt><dd>1</dd></dl></div><div class='xr-var-data'><pre>[14967 values with dtype=float64]</pre></div></li><li class='xr-var-item'><div class='xr-var-name'><span>gmf_sst</span></div><div class='xr-var-dims'>(QS_TIME, cross_track)</div><div class='xr-var-dtype'>float64</div><div class='xr-var-preview xr-preview'>...</div><input id='attrs-de604282-ea8a-4ac2-97ce-f27eaeabea54' class='xr-var-attrs-in' type='checkbox' ><label for='attrs-de604282-ea8a-4ac2-97ce-f27eaeabea54' title='Show/Hide attributes'><svg class='icon xr-icon-file-text2'><use xlink:href='#icon-file-text2'></use></svg></label><input id='data-5092c140-690b-4f03-a147-ef795449da5d' class='xr-var-data-in' type='checkbox'><label for='data-5092c140-690b-4f03-a147-ef795449da5d' title='Show/Hide data repr'><svg class='icon xr-icon-database'><use xlink:href='#icon-database'></use></svg></label><div class='xr-var-attrs'><dl class='xr-attrs'><dt><span>valid_min :</span></dt><dd>-1000.0</dd><dt><span>valid_max :</span></dt><dd>1000.0</dd><dt><span>long_name :</span></dt><dd>Sea Surface Temperature Used in Geophysical Model Function</dd><dt><span>comment :</span></dt><dd>Sea Surface Temperature from NCAR Optimum Interpolation V2 product used during wind retrieval.</dd><dt><span>units :</span></dt><dd>Degrees Celsius</dd></dl></div><div class='xr-var-data'><pre>[14967 values with dtype=float64]</pre></div></li><li class='xr-var-item'><div class='xr-var-name'><span>distance_from_coast</span></div><div class='xr-var-dims'>(QS_TIME, cross_track)</div><div class='xr-var-dtype'>float64</div><div class='xr-var-preview xr-preview'>...</div><input id='attrs-78edb090-36aa-40dc-bb80-aeec892f8a3a' class='xr-var-attrs-in' type='checkbox' ><label for='attrs-78edb090-36aa-40dc-bb80-aeec892f8a3a' title='Show/Hide attributes'><svg class='icon xr-icon-file-text2'><use xlink:href='#icon-file-text2'></use></svg></label><input id='data-9ae9667e-6985-4572-9180-42f43fd9342b' class='xr-var-data-in' type='checkbox'><label for='data-9ae9667e-6985-4572-9180-42f43fd9342b' title='Show/Hide data repr'><svg class='icon xr-icon-database'><use xlink:href='#icon-database'></use></svg></label><div class='xr-var-attrs'><dl class='xr-attrs'><dt><span>valid_min :</span></dt><dd>-25000.0</dd><dt><span>valid_max :</span></dt><dd>25000.0</dd><dt><span>long_name :</span></dt><dd>Distance from nearest coastline</dd><dt><span>units :</span></dt><dd>km</dd></dl></div><div class='xr-var-data'><pre>[14967 values with dtype=float64]</pre></div></li><li class='xr-var-item'><div class='xr-var-name'><span>exp_bias_wrt_oceanward_neighbors</span></div><div class='xr-var-dims'>(QS_TIME, cross_track)</div><div class='xr-var-dtype'>float64</div><div class='xr-var-preview xr-preview'>...</div><input id='attrs-6c3c6523-ab75-44a8-a991-e67b46a0deab' class='xr-var-attrs-in' type='checkbox' ><label for='attrs-6c3c6523-ab75-44a8-a991-e67b46a0deab' title='Show/Hide attributes'><svg class='icon xr-icon-file-text2'><use xlink:href='#icon-file-text2'></use></svg></label><input id='data-ec24f841-590e-490a-ae11-2e4775a590e0' class='xr-var-data-in' type='checkbox'><label for='data-ec24f841-590e-490a-ae11-2e4775a590e0' title='Show/Hide data repr'><svg class='icon xr-icon-database'><use xlink:href='#icon-database'></use></svg></label><div class='xr-var-attrs'><dl class='xr-attrs'><dt><span>valid_min :</span></dt><dd>-1000.0</dd><dt><span>valid_max :</span></dt><dd>1000.0</dd><dt><span>long_name :</span></dt><dd>expected bias with respect to oceanward neighboring cells</dd><dt><span>comment :</span></dt><dd>Expected bias between the current cell and geographically oceanward neighboring cells.</dd><dt><span>units :</span></dt><dd>m s-1</dd></dl></div><div class='xr-var-data'><pre>[14967 values with dtype=float64]</pre></div></li><li class='xr-var-item'><div class='xr-var-name'><span>WDIR</span></div><div class='xr-var-dims'>(QS_TIME, HEIGHT)</div><div class='xr-var-dtype'>float32</div><div class='xr-var-preview xr-preview'>...</div><input id='attrs-f409af16-8081-4a52-904a-71909db48e32' class='xr-var-attrs-in' type='checkbox' disabled><label for='attrs-f409af16-8081-4a52-904a-71909db48e32' title='Show/Hide attributes'><svg class='icon xr-icon-file-text2'><use xlink:href='#icon-file-text2'></use></svg></label><input id='data-44ec98ed-901c-4238-9c33-017c14f13781' class='xr-var-data-in' type='checkbox'><label for='data-44ec98ed-901c-4238-9c33-017c14f13781' title='Show/Hide data repr'><svg class='icon xr-icon-database'><use xlink:href='#icon-database'></use></svg></label><div class='xr-var-attrs'><dl class='xr-attrs'></dl></div><div class='xr-var-data'><pre>[14967 values with dtype=float32]</pre></div></li><li class='xr-var-item'><div class='xr-var-name'><span>WDIR_QC</span></div><div class='xr-var-dims'>(QS_TIME, HEIGHT)</div><div class='xr-var-dtype'>float32</div><div class='xr-var-preview xr-preview'>...</div><input id='attrs-fafbe05e-7b93-4651-bd7e-591416db64ea' class='xr-var-attrs-in' type='checkbox' ><label for='attrs-fafbe05e-7b93-4651-bd7e-591416db64ea' title='Show/Hide attributes'><svg class='icon xr-icon-file-text2'><use xlink:href='#icon-file-text2'></use></svg></label><input id='data-80230ad9-c663-43d9-97e1-5ff08ac9ae15' class='xr-var-data-in' type='checkbox'><label for='data-80230ad9-c663-43d9-97e1-5ff08ac9ae15' title='Show/Hide data repr'><svg class='icon xr-icon-database'><use xlink:href='#icon-database'></use></svg></label><div class='xr-var-attrs'><dl class='xr-attrs'><dt><span>long_name :</span></dt><dd>quality flag</dd><dt><span>valid_min :</span></dt><dd>0</dd><dt><span>valid_max :</span></dt><dd>9</dd><dt><span>flag_values :</span></dt><dd>[0 1 2 3 4 5 9]</dd><dt><span>flag_meanings :</span></dt><dd>unknown good_data probably_good_data questionable_data bad_data adjusted_data missing_data</dd><dt><span>coordinates :</span></dt><dd>TIME HEIGHT LATITUDE LONGITUDE</dd></dl></div><div class='xr-var-data'><pre>[14967 values with dtype=float32]</pre></div></li><li class='xr-var-item'><div class='xr-var-name'><span>WDIR_DM</span></div><div class='xr-var-dims'>(QS_TIME, HEIGHT)</div><div class='xr-var-dtype'>|S1</div><div class='xr-var-preview xr-preview'>...</div><input id='attrs-33b231fa-3122-4702-bee8-fffd1d102883' class='xr-var-attrs-in' type='checkbox' ><label for='attrs-33b231fa-3122-4702-bee8-fffd1d102883' title='Show/Hide attributes'><svg class='icon xr-icon-file-text2'><use xlink:href='#icon-file-text2'></use></svg></label><input id='data-86364c17-e6e4-4395-a7e3-c6e877603770' class='xr-var-data-in' type='checkbox'><label for='data-86364c17-e6e4-4395-a7e3-c6e877603770' title='Show/Hide data repr'><svg class='icon xr-icon-database'><use xlink:href='#icon-database'></use></svg></label><div class='xr-var-attrs'><dl class='xr-attrs'><dt><span>long_name :</span></dt><dd>data mode</dd><dt><span>flag_values :</span></dt><dd>R, P, D, M</dd><dt><span>flag_meanings :</span></dt><dd>real-time provisional delayed-mode mixed</dd><dt><span>coordinates :</span></dt><dd>TIME HEIGHT LATITUDE LONGITUDE</dd></dl></div><div class='xr-var-data'><pre>[14967 values with dtype=|S1]</pre></div></li><li class='xr-var-item'><div class='xr-var-name'><span>WSPD</span></div><div class='xr-var-dims'>(QS_TIME, HEIGHT)</div><div class='xr-var-dtype'>float32</div><div class='xr-var-preview xr-preview'>...</div><input id='attrs-36e5802e-3b18-45de-81ea-ce8847ab2833' class='xr-var-attrs-in' type='checkbox' ><label for='attrs-36e5802e-3b18-45de-81ea-ce8847ab2833' title='Show/Hide attributes'><svg class='icon xr-icon-file-text2'><use xlink:href='#icon-file-text2'></use></svg></label><input id='data-b6001185-965d-4152-aeb4-488ad2c07357' class='xr-var-data-in' type='checkbox'><label for='data-b6001185-965d-4152-aeb4-488ad2c07357' title='Show/Hide data repr'><svg class='icon xr-icon-database'><use xlink:href='#icon-database'></use></svg></label><div class='xr-var-attrs'><dl class='xr-attrs'><dt><span>standard_name :</span></dt><dd>wind_speed</dd><dt><span>long_name :</span></dt><dd>Wind Speed</dd><dt><span>units :</span></dt><dd>meters/second</dd><dt><span>valid_min :</span></dt><dd>0.0</dd><dt><span>valid_max :</span></dt><dd>20.0</dd><dt><span>accuracy :</span></dt><dd>0.3 meters/second or 3%</dd><dt><span>resolution :</span></dt><dd>0.2</dd><dt><span>sensor_name :</span></dt><dd>Wind Propeller [R.M. Young/05103]</dd><dt><span>sensor_serial_number :</span></dt><dd>WIND-25651</dd><dt><span>ancillary_variables :</span></dt><dd>WSPD_QC WSPD_DM</dd><dt><span>cell_methods :</span></dt><dd>TIME: mean (interval: 2 minutes) HEIGHT:point LATITUDE:point LONGITUDE:point</dd><dt><span>coordinates :</span></dt><dd>TIME HEIGHT LATITUDE LONGITUDE</dd></dl></div><div class='xr-var-data'><pre>[14967 values with dtype=float32]</pre></div></li><li class='xr-var-item'><div class='xr-var-name'><span>WSPD_QC</span></div><div class='xr-var-dims'>(QS_TIME, HEIGHT)</div><div class='xr-var-dtype'>float32</div><div class='xr-var-preview xr-preview'>...</div><input id='attrs-fd8bc6bf-9ac7-4eff-9d79-3886eade9d36' class='xr-var-attrs-in' type='checkbox' ><label for='attrs-fd8bc6bf-9ac7-4eff-9d79-3886eade9d36' title='Show/Hide attributes'><svg class='icon xr-icon-file-text2'><use xlink:href='#icon-file-text2'></use></svg></label><input id='data-29a3b648-0b72-4c23-9c61-f3e08ef80d37' class='xr-var-data-in' type='checkbox'><label for='data-29a3b648-0b72-4c23-9c61-f3e08ef80d37' title='Show/Hide data repr'><svg class='icon xr-icon-database'><use xlink:href='#icon-database'></use></svg></label><div class='xr-var-attrs'><dl class='xr-attrs'><dt><span>long_name :</span></dt><dd>quality flag</dd><dt><span>valid_min :</span></dt><dd>0</dd><dt><span>valid_max :</span></dt><dd>9</dd><dt><span>flag_values :</span></dt><dd>[0 1 2 3 4 5 9]</dd><dt><span>flag_meanings :</span></dt><dd>unknown good_data probably_good_data questionable_data bad_data adjusted_data missing_data</dd><dt><span>coordinates :</span></dt><dd>TIME HEIGHT LATITUDE LONGITUDE</dd></dl></div><div class='xr-var-data'><pre>[14967 values with dtype=float32]</pre></div></li><li class='xr-var-item'><div class='xr-var-name'><span>WSPD_DM</span></div><div class='xr-var-dims'>(QS_TIME, HEIGHT)</div><div class='xr-var-dtype'>|S1</div><div class='xr-var-preview xr-preview'>...</div><input id='attrs-ddd8d1f6-1f1c-428e-af96-f0b9fb5f04d8' class='xr-var-attrs-in' type='checkbox' ><label for='attrs-ddd8d1f6-1f1c-428e-af96-f0b9fb5f04d8' title='Show/Hide attributes'><svg class='icon xr-icon-file-text2'><use xlink:href='#icon-file-text2'></use></svg></label><input id='data-8b19c504-a724-4620-9377-6d4b7e937be8' class='xr-var-data-in' type='checkbox'><label for='data-8b19c504-a724-4620-9377-6d4b7e937be8' title='Show/Hide data repr'><svg class='icon xr-icon-database'><use xlink:href='#icon-database'></use></svg></label><div class='xr-var-attrs'><dl class='xr-attrs'><dt><span>long_name :</span></dt><dd>data mode</dd><dt><span>flag_values :</span></dt><dd>R, P, D, M</dd><dt><span>flag_meanings :</span></dt><dd>real-time provisional delayed-mode mixed</dd><dt><span>coordinates :</span></dt><dd>TIME HEIGHT LATITUDE LONGITUDE</dd></dl></div><div class='xr-var-data'><pre>[14967 values with dtype=|S1]</pre></div></li><li class='xr-var-item'><div class='xr-var-name'><span>UWND</span></div><div class='xr-var-dims'>(QS_TIME, HEIGHT)</div><div class='xr-var-dtype'>float32</div><div class='xr-var-preview xr-preview'>...</div><input id='attrs-f151097d-4436-4448-84c3-79d283ea567b' class='xr-var-attrs-in' type='checkbox' ><label for='attrs-f151097d-4436-4448-84c3-79d283ea567b' title='Show/Hide attributes'><svg class='icon xr-icon-file-text2'><use xlink:href='#icon-file-text2'></use></svg></label><input id='data-7edeec4e-f6b4-4bb2-ac5b-914abe4108a8' class='xr-var-data-in' type='checkbox'><label for='data-7edeec4e-f6b4-4bb2-ac5b-914abe4108a8' title='Show/Hide data repr'><svg class='icon xr-icon-database'><use xlink:href='#icon-database'></use></svg></label><div class='xr-var-attrs'><dl class='xr-attrs'><dt><span>standard_name :</span></dt><dd>eastward_wind</dd><dt><span>long_name :</span></dt><dd>Wind Speed U Component</dd><dt><span>units :</span></dt><dd>meters/second</dd><dt><span>valid_min :</span></dt><dd>0.0</dd><dt><span>valid_max :</span></dt><dd>20.0</dd><dt><span>accuracy :</span></dt><dd>0.3 meters/second or 3%</dd><dt><span>resolution :</span></dt><dd>0.2</dd><dt><span>sensor_name :</span></dt><dd>Wind Propeller [R.M. Young/05103]</dd><dt><span>sensor_serial_number :</span></dt><dd>WIND-25651</dd><dt><span>ancillary_variables :</span></dt><dd>WDIR_QC WDIR_DM WSPD_QC WSPD_DM</dd><dt><span>cell_methods :</span></dt><dd>TIME: mean (interval: 2 minutes) HEIGHT:point LATITUDE:point LONGITUDE:point</dd><dt><span>coordinates :</span></dt><dd>TIME HEIGHT LATITUDE LONGITUDE</dd></dl></div><div class='xr-var-data'><pre>[14967 values with dtype=float32]</pre></div></li><li class='xr-var-item'><div class='xr-var-name'><span>VWND</span></div><div class='xr-var-dims'>(QS_TIME, HEIGHT)</div><div class='xr-var-dtype'>float32</div><div class='xr-var-preview xr-preview'>...</div><input id='attrs-7128e1f1-9b55-4877-8eaa-ad00c684f9ec' class='xr-var-attrs-in' type='checkbox' ><label for='attrs-7128e1f1-9b55-4877-8eaa-ad00c684f9ec' title='Show/Hide attributes'><svg class='icon xr-icon-file-text2'><use xlink:href='#icon-file-text2'></use></svg></label><input id='data-dd9336d6-14af-4bec-8ccb-74eca2514ad3' class='xr-var-data-in' type='checkbox'><label for='data-dd9336d6-14af-4bec-8ccb-74eca2514ad3' title='Show/Hide data repr'><svg class='icon xr-icon-database'><use xlink:href='#icon-database'></use></svg></label><div class='xr-var-attrs'><dl class='xr-attrs'><dt><span>standard_name :</span></dt><dd>northward_wind</dd><dt><span>long_name :</span></dt><dd>Wind Speed V Component</dd><dt><span>units :</span></dt><dd>meters/second</dd><dt><span>valid_min :</span></dt><dd>0.0</dd><dt><span>valid_max :</span></dt><dd>20.0</dd><dt><span>accuracy :</span></dt><dd>0.3 meters/second or 3%</dd><dt><span>resolution :</span></dt><dd>0.2</dd><dt><span>sensor_name :</span></dt><dd>Wind Propeller [R.M. Young/05103]</dd><dt><span>sensor_serial_number :</span></dt><dd>WIND-25651</dd><dt><span>ancillary_variables :</span></dt><dd>WDIR_QC WDIR_DM WSPD_QC WSPD_DM</dd><dt><span>cell_methods :</span></dt><dd>TIME: mean (interval: 2 minutes) HEIGHT:point LATITUDE:point LONGITUDE:point</dd><dt><span>coordinates :</span></dt><dd>TIME HEIGHT LATITUDE LONGITUDE</dd></dl></div><div class='xr-var-data'><pre>[14967 values with dtype=float32]</pre></div></li><li class='xr-var-item'><div class='xr-var-name'><span>SST</span></div><div class='xr-var-dims'>(QS_TIME, DEPTH)</div><div class='xr-var-dtype'>float32</div><div class='xr-var-preview xr-preview'>...</div><input id='attrs-717c3fda-9451-44b9-8cfd-895f1de34b07' class='xr-var-attrs-in' type='checkbox' ><label for='attrs-717c3fda-9451-44b9-8cfd-895f1de34b07' title='Show/Hide attributes'><svg class='icon xr-icon-file-text2'><use xlink:href='#icon-file-text2'></use></svg></label><input id='data-182644b4-2f2b-46ee-acc8-d13cce468863' class='xr-var-data-in' type='checkbox'><label for='data-182644b4-2f2b-46ee-acc8-d13cce468863' title='Show/Hide data repr'><svg class='icon xr-icon-database'><use xlink:href='#icon-database'></use></svg></label><div class='xr-var-attrs'><dl class='xr-attrs'><dt><span>standard_name :</span></dt><dd>sea_surface_temperature</dd><dt><span>long_name :</span></dt><dd>Sea Surface Temperature</dd><dt><span>units :</span></dt><dd>degree_Celsius</dd><dt><span>valid_min :</span></dt><dd>-5.0</dd><dt><span>valid_max :</span></dt><dd>35.0</dd><dt><span>accuracy :</span></dt><dd>0.003</dd><dt><span>resolution :</span></dt><dd>0.001</dd><dt><span>sensor_name :</span></dt><dd>Thermistor [Seabird/SBE 16/37]</dd><dt><span>sensor_serial_number :</span></dt><dd>SST-11928/1m </dd><dt><span>ancillary_variables :</span></dt><dd>SST_QC SST_DM</dd><dt><span>cell_methods :</span></dt><dd>TIME:point DEPTH:point LATITUDE:point LONGITUDE:point</dd><dt><span>reference_scale :</span></dt><dd>ITS-90</dd><dt><span>coordinates :</span></dt><dd>TIME DEPTH LATITUDE LONGITUDE</dd></dl></div><div class='xr-var-data'><pre>[4989 values with dtype=float32]</pre></div></li><li class='xr-var-item'><div class='xr-var-name'><span>SST_QC</span></div><div class='xr-var-dims'>(QS_TIME, DEPTH)</div><div class='xr-var-dtype'>float32</div><div class='xr-var-preview xr-preview'>...</div><input id='attrs-1ea5d201-f544-44e7-ab39-78f16808abce' class='xr-var-attrs-in' type='checkbox' ><label for='attrs-1ea5d201-f544-44e7-ab39-78f16808abce' title='Show/Hide attributes'><svg class='icon xr-icon-file-text2'><use xlink:href='#icon-file-text2'></use></svg></label><input id='data-e4dae456-dc07-467b-aec6-72881bf705ac' class='xr-var-data-in' type='checkbox'><label for='data-e4dae456-dc07-467b-aec6-72881bf705ac' title='Show/Hide data repr'><svg class='icon xr-icon-database'><use xlink:href='#icon-database'></use></svg></label><div class='xr-var-attrs'><dl class='xr-attrs'><dt><span>long_name :</span></dt><dd>quality flag</dd><dt><span>valid_min :</span></dt><dd>0</dd><dt><span>valid_max :</span></dt><dd>9</dd><dt><span>flag_values :</span></dt><dd>[0 1 2 3 4 5 9]</dd><dt><span>flag_meanings :</span></dt><dd>unknown good_data probably_good_data questionable_data bad_data adjusted_data missing_data</dd><dt><span>coordinates :</span></dt><dd>TIME DEPTH LATITUDE LONGITUDE</dd></dl></div><div class='xr-var-data'><pre>[4989 values with dtype=float32]</pre></div></li><li class='xr-var-item'><div class='xr-var-name'><span>SST_DM</span></div><div class='xr-var-dims'>(QS_TIME, DEPTH)</div><div class='xr-var-dtype'>|S1</div><div class='xr-var-preview xr-preview'>...</div><input id='attrs-f21a1768-6a94-4f8f-b8c8-7ef4bc0e4c10' class='xr-var-attrs-in' type='checkbox' ><label for='attrs-f21a1768-6a94-4f8f-b8c8-7ef4bc0e4c10' title='Show/Hide attributes'><svg class='icon xr-icon-file-text2'><use xlink:href='#icon-file-text2'></use></svg></label><input id='data-dd8d73c6-1dd6-492e-b66d-bc593c0894ff' class='xr-var-data-in' type='checkbox'><label for='data-dd8d73c6-1dd6-492e-b66d-bc593c0894ff' title='Show/Hide data repr'><svg class='icon xr-icon-database'><use xlink:href='#icon-database'></use></svg></label><div class='xr-var-attrs'><dl class='xr-attrs'><dt><span>long_name :</span></dt><dd>data mode</dd><dt><span>flag_values :</span></dt><dd>R, P, D, M</dd><dt><span>flag_meanings :</span></dt><dd>real-time provisional delayed-mode mixed</dd><dt><span>coordinates :</span></dt><dd>TIME DEPTH LATITUDE LONGITUDE</dd></dl></div><div class='xr-var-data'><pre>[4989 values with dtype=|S1]</pre></div></li><li class='xr-var-item'><div class='xr-var-name'><span>AIRT</span></div><div class='xr-var-dims'>(QS_TIME, HEIGHT)</div><div class='xr-var-dtype'>float32</div><div class='xr-var-preview xr-preview'>...</div><input id='attrs-5dab261a-3ef6-4201-b649-4883c16bd1fd' class='xr-var-attrs-in' type='checkbox' ><label for='attrs-5dab261a-3ef6-4201-b649-4883c16bd1fd' title='Show/Hide attributes'><svg class='icon xr-icon-file-text2'><use xlink:href='#icon-file-text2'></use></svg></label><input id='data-4e4f4cf8-c2d1-4f82-b7dc-efb3be03611f' class='xr-var-data-in' type='checkbox'><label for='data-4e4f4cf8-c2d1-4f82-b7dc-efb3be03611f' title='Show/Hide data repr'><svg class='icon xr-icon-database'><use xlink:href='#icon-database'></use></svg></label><div class='xr-var-attrs'><dl class='xr-attrs'><dt><span>standard_name :</span></dt><dd>air_temperature</dd><dt><span>long_name :</span></dt><dd>Air Temperature</dd><dt><span>units :</span></dt><dd>degree_Celsius</dd><dt><span>valid_min :</span></dt><dd>0.0</dd><dt><span>valid_max :</span></dt><dd>40.0</dd><dt><span>accuracy :</span></dt><dd>0.2 Degree C in range of 14-32 Degrees C</dd><dt><span>resolution :</span></dt><dd>0.01</dd><dt><span>sensor_name :</span></dt><dd>Humidity-temperature Pt100 RTD [Rotronics/MP101A]</dd><dt><span>sensor_serial_number :</span></dt><dd>AIR-56588</dd><dt><span>ancillary_variables :</span></dt><dd>AIRT_QC AIRT_DM</dd><dt><span>cell_methods :</span></dt><dd>TIME: mean (interval: 2 minutes) HEIGHT:point LATITUDE:point LONGITUDE:point</dd><dt><span>coordinates :</span></dt><dd>TIME HEIGHT LATITUDE LONGITUDE</dd></dl></div><div class='xr-var-data'><pre>[14967 values with dtype=float32]</pre></div></li><li class='xr-var-item'><div class='xr-var-name'><span>AIRT_QC</span></div><div class='xr-var-dims'>(QS_TIME, HEIGHT)</div><div class='xr-var-dtype'>float32</div><div class='xr-var-preview xr-preview'>...</div><input id='attrs-4043b932-d166-468e-9c98-53858ca2759b' class='xr-var-attrs-in' type='checkbox' ><label for='attrs-4043b932-d166-468e-9c98-53858ca2759b' title='Show/Hide attributes'><svg class='icon xr-icon-file-text2'><use xlink:href='#icon-file-text2'></use></svg></label><input id='data-5d407c68-1503-4d83-a3bc-02a1933845a8' class='xr-var-data-in' type='checkbox'><label for='data-5d407c68-1503-4d83-a3bc-02a1933845a8' title='Show/Hide data repr'><svg class='icon xr-icon-database'><use xlink:href='#icon-database'></use></svg></label><div class='xr-var-attrs'><dl class='xr-attrs'><dt><span>long_name :</span></dt><dd>quality flag</dd><dt><span>valid_min :</span></dt><dd>0</dd><dt><span>valid_max :</span></dt><dd>9</dd><dt><span>flag_values :</span></dt><dd>[0 1 2 3 4 5 9]</dd><dt><span>flag_meanings :</span></dt><dd>unknown good_data probably_good_data questionable_data bad_data adjusted_data missing_data</dd><dt><span>coordinates :</span></dt><dd>TIME HEIGHT LATITUDE LONGITUDE</dd></dl></div><div class='xr-var-data'><pre>[14967 values with dtype=float32]</pre></div></li><li class='xr-var-item'><div class='xr-var-name'><span>AIRT_DM</span></div><div class='xr-var-dims'>(QS_TIME, HEIGHT)</div><div class='xr-var-dtype'>|S1</div><div class='xr-var-preview xr-preview'>...</div><input id='attrs-99de3a08-7587-4c54-93d6-98fccd8dbb66' class='xr-var-attrs-in' type='checkbox' ><label for='attrs-99de3a08-7587-4c54-93d6-98fccd8dbb66' title='Show/Hide attributes'><svg class='icon xr-icon-file-text2'><use xlink:href='#icon-file-text2'></use></svg></label><input id='data-04c16e04-d965-4705-8952-bb6b7650a974' class='xr-var-data-in' type='checkbox'><label for='data-04c16e04-d965-4705-8952-bb6b7650a974' title='Show/Hide data repr'><svg class='icon xr-icon-database'><use xlink:href='#icon-database'></use></svg></label><div class='xr-var-attrs'><dl class='xr-attrs'><dt><span>long_name :</span></dt><dd>data mode</dd><dt><span>flag_values :</span></dt><dd>R, P, D, M</dd><dt><span>flag_meanings :</span></dt><dd>real-time provisional delayed-mode mixed</dd><dt><span>coordinates :</span></dt><dd>TIME HEIGHT LATITUDE LONGITUDE</dd></dl></div><div class='xr-var-data'><pre>[14967 values with dtype=|S1]</pre></div></li><li class='xr-var-item'><div class='xr-var-name'><span>RELH</span></div><div class='xr-var-dims'>(QS_TIME, HEIGHT)</div><div class='xr-var-dtype'>float32</div><div class='xr-var-preview xr-preview'>...</div><input id='attrs-06e66b84-44d5-46b0-99ed-8765c40a13dd' class='xr-var-attrs-in' type='checkbox' ><label for='attrs-06e66b84-44d5-46b0-99ed-8765c40a13dd' title='Show/Hide attributes'><svg class='icon xr-icon-file-text2'><use xlink:href='#icon-file-text2'></use></svg></label><input id='data-8fde8640-5e0b-4eff-8f23-96cced87ab1a' class='xr-var-data-in' type='checkbox'><label for='data-8fde8640-5e0b-4eff-8f23-96cced87ab1a' title='Show/Hide data repr'><svg class='icon xr-icon-database'><use xlink:href='#icon-database'></use></svg></label><div class='xr-var-attrs'><dl class='xr-attrs'><dt><span>standard_name :</span></dt><dd>relative_humidity</dd><dt><span>long_name :</span></dt><dd>Relative Humidity</dd><dt><span>units :</span></dt><dd>1</dd><dt><span>valid_min :</span></dt><dd>0.0</dd><dt><span>valid_max :</span></dt><dd>100.0</dd><dt><span>accuracy :</span></dt><dd>2.7%RH in range of 55-95 %RH</dd><dt><span>resolution :</span></dt><dd>0.4</dd><dt><span>sensor_name :</span></dt><dd>Humidity-temperature Capacitance [Rotronics/MP101A]</dd><dt><span>sensor_serial_number :</span></dt><dd>RH-56588</dd><dt><span>ancillary_variables :</span></dt><dd>RELH_QC RELH_DM</dd><dt><span>cell_methods :</span></dt><dd>TIME: mean (interval: 2 minutes) HEIGHT:point LATITUDE:point LONGITUDE:point</dd><dt><span>coordinates :</span></dt><dd>TIME HEIGHT LATITUDE LONGITUDE</dd></dl></div><div class='xr-var-data'><pre>[14967 values with dtype=float32]</pre></div></li><li class='xr-var-item'><div class='xr-var-name'><span>RELH_QC</span></div><div class='xr-var-dims'>(QS_TIME, HEIGHT)</div><div class='xr-var-dtype'>float32</div><div class='xr-var-preview xr-preview'>...</div><input id='attrs-8542f6ad-a4d0-4a5c-875b-1459447f19ea' class='xr-var-attrs-in' type='checkbox' ><label for='attrs-8542f6ad-a4d0-4a5c-875b-1459447f19ea' title='Show/Hide attributes'><svg class='icon xr-icon-file-text2'><use xlink:href='#icon-file-text2'></use></svg></label><input id='data-e60c4d9c-45a8-425e-8b96-97da9e420115' class='xr-var-data-in' type='checkbox'><label for='data-e60c4d9c-45a8-425e-8b96-97da9e420115' title='Show/Hide data repr'><svg class='icon xr-icon-database'><use xlink:href='#icon-database'></use></svg></label><div class='xr-var-attrs'><dl class='xr-attrs'><dt><span>long_name :</span></dt><dd>quality flag</dd><dt><span>valid_min :</span></dt><dd>0</dd><dt><span>valid_max :</span></dt><dd>9</dd><dt><span>flag_values :</span></dt><dd>[0 1 2 3 4 5 9]</dd><dt><span>flag_meanings :</span></dt><dd>unknown good_data probably_good_data questionable_data bad_data adjusted_data missing_data</dd><dt><span>coordinates :</span></dt><dd>TIME HEIGHT LATITUDE LONGITUDE</dd></dl></div><div class='xr-var-data'><pre>[14967 values with dtype=float32]</pre></div></li><li class='xr-var-item'><div class='xr-var-name'><span>RELH_DM</span></div><div class='xr-var-dims'>(QS_TIME, HEIGHT)</div><div class='xr-var-dtype'>|S1</div><div class='xr-var-preview xr-preview'>...</div><input id='attrs-53fdd286-8934-43ae-ba4f-660f757159fb' class='xr-var-attrs-in' type='checkbox' ><label for='attrs-53fdd286-8934-43ae-ba4f-660f757159fb' title='Show/Hide attributes'><svg class='icon xr-icon-file-text2'><use xlink:href='#icon-file-text2'></use></svg></label><input id='data-35026b69-e14b-4711-9381-6da48a3be690' class='xr-var-data-in' type='checkbox'><label for='data-35026b69-e14b-4711-9381-6da48a3be690' title='Show/Hide data repr'><svg class='icon xr-icon-database'><use xlink:href='#icon-database'></use></svg></label><div class='xr-var-attrs'><dl class='xr-attrs'><dt><span>long_name :</span></dt><dd>data mode</dd><dt><span>flag_values :</span></dt><dd>R, P, D, M</dd><dt><span>flag_meanings :</span></dt><dd>real-time provisional delayed-mode mixed</dd><dt><span>coordinates :</span></dt><dd>TIME HEIGHT LATITUDE LONGITUDE</dd></dl></div><div class='xr-var-data'><pre>[14967 values with dtype=|S1]</pre></div></li><li class='xr-var-item'><div class='xr-var-name'><span>WSPD_10N</span></div><div class='xr-var-dims'>(QS_TIME, HEIGHT)</div><div class='xr-var-dtype'>float64</div><div class='xr-var-preview xr-preview'>...</div><input id='attrs-cc01fa58-74a6-4adc-9f0d-750f76295af9' class='xr-var-attrs-in' type='checkbox' ><label for='attrs-cc01fa58-74a6-4adc-9f0d-750f76295af9' title='Show/Hide attributes'><svg class='icon xr-icon-file-text2'><use xlink:href='#icon-file-text2'></use></svg></label><input id='data-2c6771ba-a6dc-4c77-a6f7-a187448eacef' class='xr-var-data-in' type='checkbox'><label for='data-2c6771ba-a6dc-4c77-a6f7-a187448eacef' title='Show/Hide data repr'><svg class='icon xr-icon-database'><use xlink:href='#icon-database'></use></svg></label><div class='xr-var-attrs'><dl class='xr-attrs'><dt><span>units :</span></dt><dd>meters/second</dd><dt><span>long_name :</span></dt><dd>10 m neutral winds from COARE3.5</dd><dt><span>vars_used_to_calculate :</span></dt><dd>SST RH AIRT WSPD</dd></dl></div><div class='xr-var-data'><pre>[14967 values with dtype=float64]</pre></div></li><li class='xr-var-item'><div class='xr-var-name'><span>WSPD_10</span></div><div class='xr-var-dims'>(QS_TIME, HEIGHT)</div><div class='xr-var-dtype'>float64</div><div class='xr-var-preview xr-preview'>...</div><input id='attrs-c98da827-0ffd-4ae1-b377-d14154f5f372' class='xr-var-attrs-in' type='checkbox' ><label for='attrs-c98da827-0ffd-4ae1-b377-d14154f5f372' title='Show/Hide attributes'><svg class='icon xr-icon-file-text2'><use xlink:href='#icon-file-text2'></use></svg></label><input id='data-c5f85fd1-20a2-4ed8-8449-085890a7a43a' class='xr-var-data-in' type='checkbox'><label for='data-c5f85fd1-20a2-4ed8-8449-085890a7a43a' title='Show/Hide data repr'><svg class='icon xr-icon-database'><use xlink:href='#icon-database'></use></svg></label><div class='xr-var-attrs'><dl class='xr-attrs'><dt><span>units :</span></dt><dd>meters/second</dd><dt><span>long_name :</span></dt><dd>10 m winds from COARE3.5</dd><dt><span>vars_used_to_calculate :</span></dt><dd>SST RH AIRT WSPD</dd></dl></div><div class='xr-var-data'><pre>[14967 values with dtype=float64]</pre></div></li><li class='xr-var-item'><div class='xr-var-name'><span>cosWDIR</span></div><div class='xr-var-dims'>(QS_TIME, HEIGHT)</div><div class='xr-var-dtype'>float32</div><div class='xr-var-preview xr-preview'>...</div><input id='attrs-9d862ed0-cc77-4c06-b59a-fbb023b555a6' class='xr-var-attrs-in' type='checkbox' disabled><label for='attrs-9d862ed0-cc77-4c06-b59a-fbb023b555a6' title='Show/Hide attributes'><svg class='icon xr-icon-file-text2'><use xlink:href='#icon-file-text2'></use></svg></label><input id='data-e1118ed1-d8e3-4e1f-92b5-371dc33e80e5' class='xr-var-data-in' type='checkbox'><label for='data-e1118ed1-d8e3-4e1f-92b5-371dc33e80e5' title='Show/Hide data repr'><svg class='icon xr-icon-database'><use xlink:href='#icon-database'></use></svg></label><div class='xr-var-attrs'><dl class='xr-attrs'></dl></div><div class='xr-var-data'><pre>[14967 values with dtype=float32]</pre></div></li><li class='xr-var-item'><div class='xr-var-name'><span>sinWDIR</span></div><div class='xr-var-dims'>(QS_TIME, HEIGHT)</div><div class='xr-var-dtype'>float32</div><div class='xr-var-preview xr-preview'>...</div><input id='attrs-8dcb1337-ca36-48ab-a898-86d6f490ec21' class='xr-var-attrs-in' type='checkbox' disabled><label for='attrs-8dcb1337-ca36-48ab-a898-86d6f490ec21' title='Show/Hide attributes'><svg class='icon xr-icon-file-text2'><use xlink:href='#icon-file-text2'></use></svg></label><input id='data-d34c1eaa-107a-4961-932f-bf9ab9d7b42a' class='xr-var-data-in' type='checkbox'><label for='data-d34c1eaa-107a-4961-932f-bf9ab9d7b42a' title='Show/Hide data repr'><svg class='icon xr-icon-database'><use xlink:href='#icon-database'></use></svg></label><div class='xr-var-attrs'><dl class='xr-attrs'></dl></div><div class='xr-var-data'><pre>[14967 values with dtype=float32]</pre></div></li><li class='xr-var-item'><div class='xr-var-name'><span>U10N_x</span></div><div class='xr-var-dims'>(QS_TIME, HEIGHT)</div><div class='xr-var-dtype'>float64</div><div class='xr-var-preview xr-preview'>...</div><input id='attrs-6c737697-e43d-40f7-b907-a0743e1c2e3f' class='xr-var-attrs-in' type='checkbox' disabled><label for='attrs-6c737697-e43d-40f7-b907-a0743e1c2e3f' title='Show/Hide attributes'><svg class='icon xr-icon-file-text2'><use xlink:href='#icon-file-text2'></use></svg></label><input id='data-5da9414d-a573-4bcd-be08-e3d586eb0a8c' class='xr-var-data-in' type='checkbox'><label for='data-5da9414d-a573-4bcd-be08-e3d586eb0a8c' title='Show/Hide data repr'><svg class='icon xr-icon-database'><use xlink:href='#icon-database'></use></svg></label><div class='xr-var-attrs'><dl class='xr-attrs'></dl></div><div class='xr-var-data'><pre>[14967 values with dtype=float64]</pre></div></li><li class='xr-var-item'><div class='xr-var-name'><span>U10N_y</span></div><div class='xr-var-dims'>(QS_TIME, HEIGHT)</div><div class='xr-var-dtype'>float64</div><div class='xr-var-preview xr-preview'>...</div><input id='attrs-ec5b91b9-3630-4a67-8464-aee8afceef38' class='xr-var-attrs-in' type='checkbox' disabled><label for='attrs-ec5b91b9-3630-4a67-8464-aee8afceef38' title='Show/Hide attributes'><svg class='icon xr-icon-file-text2'><use xlink:href='#icon-file-text2'></use></svg></label><input id='data-8dd4c726-a839-4c1c-a2e5-f6a242dacf73' class='xr-var-data-in' type='checkbox'><label for='data-8dd4c726-a839-4c1c-a2e5-f6a242dacf73' title='Show/Hide data repr'><svg class='icon xr-icon-database'><use xlink:href='#icon-database'></use></svg></label><div class='xr-var-attrs'><dl class='xr-attrs'></dl></div><div class='xr-var-data'><pre>[14967 values with dtype=float64]</pre></div></li><li class='xr-var-item'><div class='xr-var-name'><span>mean_WSPD</span></div><div class='xr-var-dims'>(QS_TIME)</div><div class='xr-var-dtype'>float64</div><div class='xr-var-preview xr-preview'>...</div><input id='attrs-ff490845-bb3a-4b1c-8183-edff5fca0f06' class='xr-var-attrs-in' type='checkbox' ><label for='attrs-ff490845-bb3a-4b1c-8183-edff5fca0f06' title='Show/Hide attributes'><svg class='icon xr-icon-file-text2'><use xlink:href='#icon-file-text2'></use></svg></label><input id='data-4b071def-54c3-412a-aa29-b24d6d401b6e' class='xr-var-data-in' type='checkbox'><label for='data-4b071def-54c3-412a-aa29-b24d6d401b6e' title='Show/Hide data repr'><svg class='icon xr-icon-database'><use xlink:href='#icon-database'></use></svg></label><div class='xr-var-attrs'><dl class='xr-attrs'><dt><span>statistic :</span></dt><dd>running mean with 12*10 minutes using convolution</dd></dl></div><div class='xr-var-data'><pre>[4989 values with dtype=float64]</pre></div></li><li class='xr-var-item'><div class='xr-var-name'><span>std_WSPD</span></div><div class='xr-var-dims'>(QS_TIME)</div><div class='xr-var-dtype'>float64</div><div class='xr-var-preview xr-preview'>...</div><input id='attrs-c366c411-c665-4441-81ca-72aaee612569' class='xr-var-attrs-in' type='checkbox' ><label for='attrs-c366c411-c665-4441-81ca-72aaee612569' title='Show/Hide attributes'><svg class='icon xr-icon-file-text2'><use xlink:href='#icon-file-text2'></use></svg></label><input id='data-dae81da8-d8fe-4149-97af-99be7457a49a' class='xr-var-data-in' type='checkbox'><label for='data-dae81da8-d8fe-4149-97af-99be7457a49a' title='Show/Hide data repr'><svg class='icon xr-icon-database'><use xlink:href='#icon-database'></use></svg></label><div class='xr-var-attrs'><dl class='xr-attrs'><dt><span>statistic :</span></dt><dd>running std. dev with 12*10 minutes using convolution</dd></dl></div><div class='xr-var-data'><pre>[4989 values with dtype=float64]</pre></div></li><li class='xr-var-item'><div class='xr-var-name'><span>mean_WSPD_10N</span></div><div class='xr-var-dims'>(QS_TIME)</div><div class='xr-var-dtype'>float64</div><div class='xr-var-preview xr-preview'>...</div><input id='attrs-f9db29b9-5263-4d7c-890c-d84632eb32eb' class='xr-var-attrs-in' type='checkbox' ><label for='attrs-f9db29b9-5263-4d7c-890c-d84632eb32eb' title='Show/Hide attributes'><svg class='icon xr-icon-file-text2'><use xlink:href='#icon-file-text2'></use></svg></label><input id='data-3bd33daf-88bd-4b4a-aa3a-b10036984734' class='xr-var-data-in' type='checkbox'><label for='data-3bd33daf-88bd-4b4a-aa3a-b10036984734' title='Show/Hide data repr'><svg class='icon xr-icon-database'><use xlink:href='#icon-database'></use></svg></label><div class='xr-var-attrs'><dl class='xr-attrs'><dt><span>statistic :</span></dt><dd>running mean with 12*10 minutes using convolution</dd></dl></div><div class='xr-var-data'><pre>[4989 values with dtype=float64]</pre></div></li><li class='xr-var-item'><div class='xr-var-name'><span>std_WSPD_10N</span></div><div class='xr-var-dims'>(QS_TIME)</div><div class='xr-var-dtype'>float64</div><div class='xr-var-preview xr-preview'>...</div><input id='attrs-a37bea39-3b28-4e99-b754-83c949e52c0a' class='xr-var-attrs-in' type='checkbox' ><label for='attrs-a37bea39-3b28-4e99-b754-83c949e52c0a' title='Show/Hide attributes'><svg class='icon xr-icon-file-text2'><use xlink:href='#icon-file-text2'></use></svg></label><input id='data-4389b8f0-badb-4cf7-98ea-19c75475aa4b' class='xr-var-data-in' type='checkbox'><label for='data-4389b8f0-badb-4cf7-98ea-19c75475aa4b' title='Show/Hide data repr'><svg class='icon xr-icon-database'><use xlink:href='#icon-database'></use></svg></label><div class='xr-var-attrs'><dl class='xr-attrs'><dt><span>statistic :</span></dt><dd>running std. dev with 12*10 minutes using convolution</dd></dl></div><div class='xr-var-data'><pre>[4989 values with dtype=float64]</pre></div></li><li class='xr-var-item'><div class='xr-var-name'><span>mean_SST</span></div><div class='xr-var-dims'>(QS_TIME)</div><div class='xr-var-dtype'>float64</div><div class='xr-var-preview xr-preview'>...</div><input id='attrs-42fb22e0-cb87-482c-83cd-2dcb25bbe8f7' class='xr-var-attrs-in' type='checkbox' ><label for='attrs-42fb22e0-cb87-482c-83cd-2dcb25bbe8f7' title='Show/Hide attributes'><svg class='icon xr-icon-file-text2'><use xlink:href='#icon-file-text2'></use></svg></label><input id='data-ad8da6ad-7cb1-4581-8a26-a1b34d31802b' class='xr-var-data-in' type='checkbox'><label for='data-ad8da6ad-7cb1-4581-8a26-a1b34d31802b' title='Show/Hide data repr'><svg class='icon xr-icon-database'><use xlink:href='#icon-database'></use></svg></label><div class='xr-var-attrs'><dl class='xr-attrs'><dt><span>statistic :</span></dt><dd>running mean with 12*10 minutes using convolution</dd></dl></div><div class='xr-var-data'><pre>[4989 values with dtype=float64]</pre></div></li><li class='xr-var-item'><div class='xr-var-name'><span>std_SST</span></div><div class='xr-var-dims'>(QS_TIME)</div><div class='xr-var-dtype'>float64</div><div class='xr-var-preview xr-preview'>...</div><input id='attrs-411755b9-6db5-4bb9-8899-f32e5a9061d4' class='xr-var-attrs-in' type='checkbox' ><label for='attrs-411755b9-6db5-4bb9-8899-f32e5a9061d4' title='Show/Hide attributes'><svg class='icon xr-icon-file-text2'><use xlink:href='#icon-file-text2'></use></svg></label><input id='data-c700247d-c061-48f1-b6fc-47b040f1c35f' class='xr-var-data-in' type='checkbox'><label for='data-c700247d-c061-48f1-b6fc-47b040f1c35f' title='Show/Hide data repr'><svg class='icon xr-icon-database'><use xlink:href='#icon-database'></use></svg></label><div class='xr-var-attrs'><dl class='xr-attrs'><dt><span>statistic :</span></dt><dd>running std. dev with 12*10 minutes using convolution</dd></dl></div><div class='xr-var-data'><pre>[4989 values with dtype=float64]</pre></div></li><li class='xr-var-item'><div class='xr-var-name'><span>mean_AIRT</span></div><div class='xr-var-dims'>(QS_TIME)</div><div class='xr-var-dtype'>float64</div><div class='xr-var-preview xr-preview'>...</div><input id='attrs-16a4c2b5-8a80-47ab-a86c-1c128e6957ca' class='xr-var-attrs-in' type='checkbox' ><label for='attrs-16a4c2b5-8a80-47ab-a86c-1c128e6957ca' title='Show/Hide attributes'><svg class='icon xr-icon-file-text2'><use xlink:href='#icon-file-text2'></use></svg></label><input id='data-8f117129-ca56-4e91-b2c3-118698035089' class='xr-var-data-in' type='checkbox'><label for='data-8f117129-ca56-4e91-b2c3-118698035089' title='Show/Hide data repr'><svg class='icon xr-icon-database'><use xlink:href='#icon-database'></use></svg></label><div class='xr-var-attrs'><dl class='xr-attrs'><dt><span>statistic :</span></dt><dd>running mean with 12*10 minutes using convolution</dd></dl></div><div class='xr-var-data'><pre>[4989 values with dtype=float64]</pre></div></li><li class='xr-var-item'><div class='xr-var-name'><span>std_AIRT</span></div><div class='xr-var-dims'>(QS_TIME)</div><div class='xr-var-dtype'>float64</div><div class='xr-var-preview xr-preview'>...</div><input id='attrs-6ba3cc98-d1ca-4c9b-819a-5beafade1e1e' class='xr-var-attrs-in' type='checkbox' ><label for='attrs-6ba3cc98-d1ca-4c9b-819a-5beafade1e1e' title='Show/Hide attributes'><svg class='icon xr-icon-file-text2'><use xlink:href='#icon-file-text2'></use></svg></label><input id='data-1baa79f6-d296-4b4f-a215-a89cadd9e183' class='xr-var-data-in' type='checkbox'><label for='data-1baa79f6-d296-4b4f-a215-a89cadd9e183' title='Show/Hide data repr'><svg class='icon xr-icon-database'><use xlink:href='#icon-database'></use></svg></label><div class='xr-var-attrs'><dl class='xr-attrs'><dt><span>statistic :</span></dt><dd>running std. dev with 12*10 minutes using convolution</dd></dl></div><div class='xr-var-data'><pre>[4989 values with dtype=float64]</pre></div></li><li class='xr-var-item'><div class='xr-var-name'><span>mean_RELH</span></div><div class='xr-var-dims'>(QS_TIME)</div><div class='xr-var-dtype'>float64</div><div class='xr-var-preview xr-preview'>...</div><input id='attrs-3bb2a3fa-8fb0-4a8f-84dd-67e67b86f5bc' class='xr-var-attrs-in' type='checkbox' ><label for='attrs-3bb2a3fa-8fb0-4a8f-84dd-67e67b86f5bc' title='Show/Hide attributes'><svg class='icon xr-icon-file-text2'><use xlink:href='#icon-file-text2'></use></svg></label><input id='data-a9fe6429-dd38-449b-9b8e-e20298bfd1dc' class='xr-var-data-in' type='checkbox'><label for='data-a9fe6429-dd38-449b-9b8e-e20298bfd1dc' title='Show/Hide data repr'><svg class='icon xr-icon-database'><use xlink:href='#icon-database'></use></svg></label><div class='xr-var-attrs'><dl class='xr-attrs'><dt><span>statistic :</span></dt><dd>running mean with 12*10 minutes using convolution</dd></dl></div><div class='xr-var-data'><pre>[4989 values with dtype=float64]</pre></div></li><li class='xr-var-item'><div class='xr-var-name'><span>std_RELH</span></div><div class='xr-var-dims'>(QS_TIME)</div><div class='xr-var-dtype'>float64</div><div class='xr-var-preview xr-preview'>...</div><input id='attrs-a7b36d0b-b29d-417b-97e8-351211ed074f' class='xr-var-attrs-in' type='checkbox' ><label for='attrs-a7b36d0b-b29d-417b-97e8-351211ed074f' title='Show/Hide attributes'><svg class='icon xr-icon-file-text2'><use xlink:href='#icon-file-text2'></use></svg></label><input id='data-eb8cbec7-cb8e-4624-a469-4ad59a29b999' class='xr-var-data-in' type='checkbox'><label for='data-eb8cbec7-cb8e-4624-a469-4ad59a29b999' title='Show/Hide data repr'><svg class='icon xr-icon-database'><use xlink:href='#icon-database'></use></svg></label><div class='xr-var-attrs'><dl class='xr-attrs'><dt><span>statistic :</span></dt><dd>running std. dev with 12*10 minutes using convolution</dd></dl></div><div class='xr-var-data'><pre>[4989 values with dtype=float64]</pre></div></li><li class='xr-var-item'><div class='xr-var-name'><span>mean_U10N_x</span></div><div class='xr-var-dims'>(QS_TIME)</div><div class='xr-var-dtype'>float64</div><div class='xr-var-preview xr-preview'>...</div><input id='attrs-352c62d2-dd7e-4634-952c-b75980552b83' class='xr-var-attrs-in' type='checkbox' ><label for='attrs-352c62d2-dd7e-4634-952c-b75980552b83' title='Show/Hide attributes'><svg class='icon xr-icon-file-text2'><use xlink:href='#icon-file-text2'></use></svg></label><input id='data-6bf8ddd3-799a-4121-99e0-443f460632ee' class='xr-var-data-in' type='checkbox'><label for='data-6bf8ddd3-799a-4121-99e0-443f460632ee' title='Show/Hide data repr'><svg class='icon xr-icon-database'><use xlink:href='#icon-database'></use></svg></label><div class='xr-var-attrs'><dl class='xr-attrs'><dt><span>statistic :</span></dt><dd>running mean with 12*10 minutes using convolution</dd></dl></div><div class='xr-var-data'><pre>[4989 values with dtype=float64]</pre></div></li><li class='xr-var-item'><div class='xr-var-name'><span>std_U10N_x</span></div><div class='xr-var-dims'>(QS_TIME)</div><div class='xr-var-dtype'>float64</div><div class='xr-var-preview xr-preview'>...</div><input id='attrs-91f19c87-19d1-4ca8-b603-9d16a1dd0105' class='xr-var-attrs-in' type='checkbox' ><label for='attrs-91f19c87-19d1-4ca8-b603-9d16a1dd0105' title='Show/Hide attributes'><svg class='icon xr-icon-file-text2'><use xlink:href='#icon-file-text2'></use></svg></label><input id='data-859904ff-4045-4054-926c-a1c2759340d7' class='xr-var-data-in' type='checkbox'><label for='data-859904ff-4045-4054-926c-a1c2759340d7' title='Show/Hide data repr'><svg class='icon xr-icon-database'><use xlink:href='#icon-database'></use></svg></label><div class='xr-var-attrs'><dl class='xr-attrs'><dt><span>statistic :</span></dt><dd>running std. dev with 12*10 minutes using convolution</dd></dl></div><div class='xr-var-data'><pre>[4989 values with dtype=float64]</pre></div></li><li class='xr-var-item'><div class='xr-var-name'><span>mean_U10N_y</span></div><div class='xr-var-dims'>(QS_TIME)</div><div class='xr-var-dtype'>float64</div><div class='xr-var-preview xr-preview'>...</div><input id='attrs-e74a7a70-9da5-44a4-9bf0-6b882fb21465' class='xr-var-attrs-in' type='checkbox' ><label for='attrs-e74a7a70-9da5-44a4-9bf0-6b882fb21465' title='Show/Hide attributes'><svg class='icon xr-icon-file-text2'><use xlink:href='#icon-file-text2'></use></svg></label><input id='data-300653e7-d9f1-42d1-85e1-5da5056e6181' class='xr-var-data-in' type='checkbox'><label for='data-300653e7-d9f1-42d1-85e1-5da5056e6181' title='Show/Hide data repr'><svg class='icon xr-icon-database'><use xlink:href='#icon-database'></use></svg></label><div class='xr-var-attrs'><dl class='xr-attrs'><dt><span>statistic :</span></dt><dd>running mean with 12*10 minutes using convolution</dd></dl></div><div class='xr-var-data'><pre>[4989 values with dtype=float64]</pre></div></li><li class='xr-var-item'><div class='xr-var-name'><span>std_U10N_y</span></div><div class='xr-var-dims'>(QS_TIME)</div><div class='xr-var-dtype'>float64</div><div class='xr-var-preview xr-preview'>...</div><input id='attrs-aeb007b5-7e63-4761-acca-e2c6d8ac864b' class='xr-var-attrs-in' type='checkbox' ><label for='attrs-aeb007b5-7e63-4761-acca-e2c6d8ac864b' title='Show/Hide attributes'><svg class='icon xr-icon-file-text2'><use xlink:href='#icon-file-text2'></use></svg></label><input id='data-eb3769b5-3b90-4c29-ac66-81827daabf5f' class='xr-var-data-in' type='checkbox'><label for='data-eb3769b5-3b90-4c29-ac66-81827daabf5f' title='Show/Hide data repr'><svg class='icon xr-icon-database'><use xlink:href='#icon-database'></use></svg></label><div class='xr-var-attrs'><dl class='xr-attrs'><dt><span>statistic :</span></dt><dd>running std. dev with 12*10 minutes using convolution</dd></dl></div><div class='xr-var-data'><pre>[4989 values with dtype=float64]</pre></div></li><li class='xr-var-item'><div class='xr-var-name'><span>mean_cosWDIR</span></div><div class='xr-var-dims'>(QS_TIME)</div><div class='xr-var-dtype'>float64</div><div class='xr-var-preview xr-preview'>...</div><input id='attrs-7a92f31d-b160-42a2-bbc8-115b9d7a07b6' class='xr-var-attrs-in' type='checkbox' ><label for='attrs-7a92f31d-b160-42a2-bbc8-115b9d7a07b6' title='Show/Hide attributes'><svg class='icon xr-icon-file-text2'><use xlink:href='#icon-file-text2'></use></svg></label><input id='data-9e8b473f-788b-401d-8e08-e5ab16a2df76' class='xr-var-data-in' type='checkbox'><label for='data-9e8b473f-788b-401d-8e08-e5ab16a2df76' title='Show/Hide data repr'><svg class='icon xr-icon-database'><use xlink:href='#icon-database'></use></svg></label><div class='xr-var-attrs'><dl class='xr-attrs'><dt><span>statistic :</span></dt><dd>running mean with 12*10 minutes using convolution</dd></dl></div><div class='xr-var-data'><pre>[4989 values with dtype=float64]</pre></div></li><li class='xr-var-item'><div class='xr-var-name'><span>std_cosWDIR</span></div><div class='xr-var-dims'>(QS_TIME)</div><div class='xr-var-dtype'>float64</div><div class='xr-var-preview xr-preview'>...</div><input id='attrs-c7209ad6-a1d9-4fb7-a564-5e80abf1ee95' class='xr-var-attrs-in' type='checkbox' ><label for='attrs-c7209ad6-a1d9-4fb7-a564-5e80abf1ee95' title='Show/Hide attributes'><svg class='icon xr-icon-file-text2'><use xlink:href='#icon-file-text2'></use></svg></label><input id='data-2ad11ce0-e474-49fa-9c63-6f5781d064b1' class='xr-var-data-in' type='checkbox'><label for='data-2ad11ce0-e474-49fa-9c63-6f5781d064b1' title='Show/Hide data repr'><svg class='icon xr-icon-database'><use xlink:href='#icon-database'></use></svg></label><div class='xr-var-attrs'><dl class='xr-attrs'><dt><span>statistic :</span></dt><dd>running std. dev with 12*10 minutes using convolution</dd></dl></div><div class='xr-var-data'><pre>[4989 values with dtype=float64]</pre></div></li><li class='xr-var-item'><div class='xr-var-name'><span>mean_sinWDIR</span></div><div class='xr-var-dims'>(QS_TIME)</div><div class='xr-var-dtype'>float64</div><div class='xr-var-preview xr-preview'>...</div><input id='attrs-243c0fbe-231a-419e-9871-5d7f9cf82f42' class='xr-var-attrs-in' type='checkbox' ><label for='attrs-243c0fbe-231a-419e-9871-5d7f9cf82f42' title='Show/Hide attributes'><svg class='icon xr-icon-file-text2'><use xlink:href='#icon-file-text2'></use></svg></label><input id='data-7d189833-a345-494c-b31d-579975211e62' class='xr-var-data-in' type='checkbox'><label for='data-7d189833-a345-494c-b31d-579975211e62' title='Show/Hide data repr'><svg class='icon xr-icon-database'><use xlink:href='#icon-database'></use></svg></label><div class='xr-var-attrs'><dl class='xr-attrs'><dt><span>statistic :</span></dt><dd>running mean with 12*10 minutes using convolution</dd></dl></div><div class='xr-var-data'><pre>[4989 values with dtype=float64]</pre></div></li><li class='xr-var-item'><div class='xr-var-name'><span>std_sinWDIR</span></div><div class='xr-var-dims'>(QS_TIME)</div><div class='xr-var-dtype'>float64</div><div class='xr-var-preview xr-preview'>...</div><input id='attrs-d090f635-c957-449f-bcae-1963c0158f3b' class='xr-var-attrs-in' type='checkbox' ><label for='attrs-d090f635-c957-449f-bcae-1963c0158f3b' title='Show/Hide attributes'><svg class='icon xr-icon-file-text2'><use xlink:href='#icon-file-text2'></use></svg></label><input id='data-d1e6a909-6900-4888-a75a-671520b6bdaf' class='xr-var-data-in' type='checkbox'><label for='data-d1e6a909-6900-4888-a75a-671520b6bdaf' title='Show/Hide data repr'><svg class='icon xr-icon-database'><use xlink:href='#icon-database'></use></svg></label><div class='xr-var-attrs'><dl class='xr-attrs'><dt><span>statistic :</span></dt><dd>running std. dev with 12*10 minutes using convolution</dd></dl></div><div class='xr-var-data'><pre>[4989 values with dtype=float64]</pre></div></li><li class='xr-var-item'><div class='xr-var-name'><span>TAO_TIME</span></div><div class='xr-var-dims'>(QS_TIME)</div><div class='xr-var-dtype'>datetime64[ns]</div><div class='xr-var-preview xr-preview'>...</div><input id='attrs-90bfa513-7f3e-4ae0-861a-782508db88d5' class='xr-var-attrs-in' type='checkbox' disabled><label for='attrs-90bfa513-7f3e-4ae0-861a-782508db88d5' title='Show/Hide attributes'><svg class='icon xr-icon-file-text2'><use xlink:href='#icon-file-text2'></use></svg></label><input id='data-063dc535-bc8b-46b6-bd70-3c6ada742b69' class='xr-var-data-in' type='checkbox'><label for='data-063dc535-bc8b-46b6-bd70-3c6ada742b69' title='Show/Hide data repr'><svg class='icon xr-icon-database'><use xlink:href='#icon-database'></use></svg></label><div class='xr-var-attrs'><dl class='xr-attrs'></dl></div><div class='xr-var-data'><pre>[4989 values with dtype=datetime64[ns]]</pre></div></li></ul></div></li><li class='xr-section-item'><input id='section-ce4d974b-0b01-4ee8-b2cf-b8b400fd6933' class='xr-section-summary-in' type='checkbox'  ><label for='section-ce4d974b-0b01-4ee8-b2cf-b8b400fd6933' class='xr-section-summary' >Indexes: <span>(6)</span></label><div class='xr-section-inline-details'></div><div class='xr-section-details'><ul class='xr-var-list'><li class='xr-var-item'><div class='xr-index-name'><div>QS_TIME</div></div><div class='xr-index-preview'>PandasIndex</div><div></div><input id='index-d9eddb2a-5f27-46ea-9fdd-38af428ae35e' class='xr-index-data-in' type='checkbox'/><label for='index-d9eddb2a-5f27-46ea-9fdd-38af428ae35e' title='Show/Hide index repr'><svg class='icon xr-icon-database'><use xlink:href='#icon-database'></use></svg></label><div class='xr-index-data'><pre>PandasIndex(DatetimeIndex([&#x27;2000-01-01 03:51:47.710247688&#x27;,\n",
       "               &#x27;2000-01-01 03:51:49.577488348&#x27;,\n",
       "               &#x27;2000-01-03 03:01:44.439731404&#x27;,\n",
       "               &#x27;2000-01-03 03:01:46.307003476&#x27;,\n",
       "               &#x27;2000-01-03 15:44:08.299688116&#x27;,\n",
       "               &#x27;2000-01-03 15:44:10.166933088&#x27;,\n",
       "               &#x27;2000-01-04 15:19:04.753677772&#x27;,\n",
       "               &#x27;2000-01-04 15:19:06.620910420&#x27;,\n",
       "               &#x27;2000-01-05 03:51:36.782497912&#x27;,\n",
       "               &#x27;2000-01-05 03:51:38.649749352&#x27;,\n",
       "               ...\n",
       "               &#x27;2006-12-28 03:19:16.237029696&#x27;,\n",
       "               &#x27;2006-12-29 02:53:17.809706624&#x27;,\n",
       "               &#x27;2006-12-29 02:53:19.675807136&#x27;,\n",
       "               &#x27;2006-12-29 15:35:13.125647776&#x27;,\n",
       "               &#x27;2006-12-29 15:35:14.991728608&#x27;,\n",
       "               &#x27;2006-12-30 15:09:18.411133120&#x27;,\n",
       "               &#x27;2006-12-30 15:09:20.277216992&#x27;,\n",
       "               &#x27;2006-12-31 03:41:26.024466272&#x27;,\n",
       "               &#x27;2006-12-31 14:43:25.589127008&#x27;,\n",
       "               &#x27;2006-12-31 14:43:27.455223232&#x27;],\n",
       "              dtype=&#x27;datetime64[ns]&#x27;, name=&#x27;QS_TIME&#x27;, length=4989, freq=None))</pre></div></li><li class='xr-var-item'><div class='xr-index-name'><div>cross_track</div></div><div class='xr-index-preview'>PandasIndex</div><div></div><input id='index-55f17161-c391-472c-813c-850c8c9376d8' class='xr-index-data-in' type='checkbox'/><label for='index-55f17161-c391-472c-813c-850c8c9376d8' title='Show/Hide index repr'><svg class='icon xr-icon-database'><use xlink:href='#icon-database'></use></svg></label><div class='xr-index-data'><pre>PandasIndex(Index([0, 1, 2], dtype=&#x27;int64&#x27;, name=&#x27;cross_track&#x27;))</pre></div></li><li class='xr-var-item'><div class='xr-index-name'><div>ambiguities</div></div><div class='xr-index-preview'>PandasIndex</div><div></div><input id='index-650432ad-7e78-4865-8790-f85c4ae10eb3' class='xr-index-data-in' type='checkbox'/><label for='index-650432ad-7e78-4865-8790-f85c4ae10eb3' title='Show/Hide index repr'><svg class='icon xr-icon-database'><use xlink:href='#icon-database'></use></svg></label><div class='xr-index-data'><pre>PandasIndex(Index([0, 1, 2, 3], dtype=&#x27;int64&#x27;, name=&#x27;ambiguities&#x27;))</pre></div></li><li class='xr-var-item'><div class='xr-index-name'><div>TIME</div></div><div class='xr-index-preview'>PandasIndex</div><div></div><input id='index-59c118ee-95fa-4711-8be2-3bb3af3aa78c' class='xr-index-data-in' type='checkbox'/><label for='index-59c118ee-95fa-4711-8be2-3bb3af3aa78c' title='Show/Hide index repr'><svg class='icon xr-icon-database'><use xlink:href='#icon-database'></use></svg></label><div class='xr-index-data'><pre>PandasIndex(DatetimeIndex([&#x27;2000-01-01 03:51:47&#x27;, &#x27;2000-01-01 03:51:49&#x27;,\n",
       "               &#x27;2000-01-03 03:01:44&#x27;, &#x27;2000-01-03 03:01:46&#x27;,\n",
       "               &#x27;2000-01-03 15:44:08&#x27;, &#x27;2000-01-03 15:44:10&#x27;,\n",
       "               &#x27;2000-01-04 15:19:04&#x27;, &#x27;2000-01-04 15:19:06&#x27;,\n",
       "               &#x27;2000-01-05 03:51:36&#x27;, &#x27;2000-01-05 03:51:38&#x27;,\n",
       "               ...\n",
       "               &#x27;2006-12-28 03:19:16&#x27;, &#x27;2006-12-29 02:53:17&#x27;,\n",
       "               &#x27;2006-12-29 02:53:19&#x27;, &#x27;2006-12-29 15:35:13&#x27;,\n",
       "               &#x27;2006-12-29 15:35:14&#x27;, &#x27;2006-12-30 15:09:18&#x27;,\n",
       "               &#x27;2006-12-30 15:09:20&#x27;, &#x27;2006-12-31 03:41:26&#x27;,\n",
       "               &#x27;2006-12-31 14:43:25&#x27;, &#x27;2006-12-31 14:43:27&#x27;],\n",
       "              dtype=&#x27;datetime64[ns]&#x27;, name=&#x27;TIME&#x27;, length=6762, freq=None))</pre></div></li><li class='xr-var-item'><div class='xr-index-name'><div>HEIGHT</div></div><div class='xr-index-preview'>PandasIndex</div><div></div><input id='index-fd51e7b6-31d6-46e8-a6a4-8755a2ccb8c7' class='xr-index-data-in' type='checkbox'/><label for='index-fd51e7b6-31d6-46e8-a6a4-8755a2ccb8c7' title='Show/Hide index repr'><svg class='icon xr-icon-database'><use xlink:href='#icon-database'></use></svg></label><div class='xr-index-data'><pre>PandasIndex(Index([3.0, 4.0, 10.0], dtype=&#x27;float32&#x27;, name=&#x27;HEIGHT&#x27;))</pre></div></li><li class='xr-var-item'><div class='xr-index-name'><div>DEPTH</div></div><div class='xr-index-preview'>PandasIndex</div><div></div><input id='index-88199eb0-275e-4100-8496-07629d563af0' class='xr-index-data-in' type='checkbox'/><label for='index-88199eb0-275e-4100-8496-07629d563af0' title='Show/Hide index repr'><svg class='icon xr-icon-database'><use xlink:href='#icon-database'></use></svg></label><div class='xr-index-data'><pre>PandasIndex(Index([1.0], dtype=&#x27;float32&#x27;, name=&#x27;DEPTH&#x27;))</pre></div></li></ul></div></li><li class='xr-section-item'><input id='section-69767e4b-6c56-414d-b67f-3acdd41efb32' class='xr-section-summary-in' type='checkbox' disabled ><label for='section-69767e4b-6c56-414d-b67f-3acdd41efb32' class='xr-section-summary'  title='Expand/collapse section'>Attributes: <span>(0)</span></label><div class='xr-section-inline-details'></div><div class='xr-section-details'><dl class='xr-attrs'></dl></div></li></ul></div></div>"
      ],
      "text/plain": [
       "<xarray.Dataset>\n",
       "Dimensions:                           (QS_TIME: 4989, cross_track: 3,\n",
       "                                       ambiguities: 4, TIME: 6762, HEIGHT: 3,\n",
       "                                       DEPTH: 1)\n",
       "Coordinates:\n",
       "  * QS_TIME                           (QS_TIME) datetime64[ns] 2000-01-01T03:...\n",
       "  * cross_track                       (cross_track) int64 0 1 2\n",
       "  * ambiguities                       (ambiguities) int64 0 1 2 3\n",
       "  * TIME                              (TIME) datetime64[ns] 2000-01-01T03:51:...\n",
       "  * HEIGHT                            (HEIGHT) float32 3.0 4.0 10.0\n",
       "  * DEPTH                             (DEPTH) float32 1.0\n",
       "Data variables: (12/63)\n",
       "    retrieved_wind_speed              (QS_TIME, cross_track) float64 ...\n",
       "    retrieved_wind_direction          (QS_TIME, cross_track) float64 ...\n",
       "    rain_impact                       (QS_TIME, cross_track) float64 ...\n",
       "    flags                             (QS_TIME, cross_track) float64 ...\n",
       "    eflags                            (QS_TIME, cross_track) float64 ...\n",
       "    nudge_wind_speed                  (QS_TIME, cross_track) float64 ...\n",
       "    ...                                ...\n",
       "    std_U10N_y                        (QS_TIME) float64 ...\n",
       "    mean_cosWDIR                      (QS_TIME) float64 ...\n",
       "    std_cosWDIR                       (QS_TIME) float64 ...\n",
       "    mean_sinWDIR                      (QS_TIME) float64 ...\n",
       "    std_sinWDIR                       (QS_TIME) float64 ...\n",
       "    TAO_TIME                          (QS_TIME) datetime64[ns] ..."
      ]
     },
     "execution_count": 2,
     "metadata": {},
     "output_type": "execute_result"
    }
   ],
   "source": [
    "ds= xr.open_dataset('/srv/data2/srai_poseidon/srai_poseidon/observation/SatelliteVsBuoy/downloads/Buoy/extractedGZ/WINDS/T_09N_140W_xrr_MatchUp_2hrMeanVar.nc')\n",
    "ds"
   ]
  },
  {
   "cell_type": "code",
   "execution_count": 3,
   "id": "e03e0c5d-bd13-4755-979e-dc34f1d4dd2c",
   "metadata": {},
   "outputs": [],
   "source": [
    "ds.close()"
   ]
  },
  {
   "cell_type": "code",
   "execution_count": 4,
   "id": "c56b37ef-992b-490a-afc8-c75791f3cb3f",
   "metadata": {},
   "outputs": [
    {
     "data": {
      "text/plain": [
       "['retrieved_wind_speed',\n",
       " 'retrieved_wind_direction',\n",
       " 'rain_impact',\n",
       " 'flags',\n",
       " 'eflags',\n",
       " 'nudge_wind_speed',\n",
       " 'nudge_wind_direction',\n",
       " 'retrieved_wind_speed_uncorrected',\n",
       " 'cross_track_wind_speed_bias',\n",
       " 'atmospheric_speed_bias',\n",
       " 'wind_obj',\n",
       " 'ambiguity_speed',\n",
       " 'ambiguity_direction',\n",
       " 'ambiguity_obj',\n",
       " 'number_in_fore',\n",
       " 'number_in_aft',\n",
       " 'number_out_fore',\n",
       " 'number_out_aft',\n",
       " 'gmf_sst',\n",
       " 'distance_from_coast',\n",
       " 'exp_bias_wrt_oceanward_neighbors',\n",
       " 'WDIR',\n",
       " 'WDIR_QC',\n",
       " 'WDIR_DM',\n",
       " 'WSPD',\n",
       " 'WSPD_QC',\n",
       " 'WSPD_DM',\n",
       " 'UWND',\n",
       " 'VWND',\n",
       " 'SST',\n",
       " 'SST_QC',\n",
       " 'SST_DM',\n",
       " 'AIRT',\n",
       " 'AIRT_QC',\n",
       " 'AIRT_DM',\n",
       " 'RELH',\n",
       " 'RELH_QC',\n",
       " 'RELH_DM',\n",
       " 'WSPD_10N',\n",
       " 'WSPD_10',\n",
       " 'cosWDIR',\n",
       " 'sinWDIR',\n",
       " 'U10N_x',\n",
       " 'U10N_y',\n",
       " 'mean_WSPD',\n",
       " 'std_WSPD',\n",
       " 'mean_WSPD_10N',\n",
       " 'std_WSPD_10N',\n",
       " 'mean_SST',\n",
       " 'std_SST',\n",
       " 'mean_AIRT',\n",
       " 'std_AIRT',\n",
       " 'mean_RELH',\n",
       " 'std_RELH',\n",
       " 'mean_U10N_x',\n",
       " 'std_U10N_x',\n",
       " 'mean_U10N_y',\n",
       " 'std_U10N_y',\n",
       " 'mean_cosWDIR',\n",
       " 'std_cosWDIR',\n",
       " 'mean_sinWDIR',\n",
       " 'std_sinWDIR',\n",
       " 'TAO_TIME']"
      ]
     },
     "execution_count": 4,
     "metadata": {},
     "output_type": "execute_result"
    }
   ],
   "source": [
    "list(ds.keys())"
   ]
  },
  {
   "cell_type": "code",
   "execution_count": 5,
   "id": "c7d274fe-7908-40a7-aa18-462238240a6f",
   "metadata": {},
   "outputs": [],
   "source": [
    "statVars = ['mean_WSPD',\n",
    "             'std_WSPD',\n",
    "             'mean_WSPD_10N',\n",
    "             'std_WSPD_10N',\n",
    "             'mean_SST',\n",
    "             'std_SST',\n",
    "             'mean_AIRT',\n",
    "             'std_AIRT',\n",
    "             'mean_RELH',\n",
    "             'std_RELH',\n",
    "             'mean_U10N_x',\n",
    "             'std_U10N_x',\n",
    "             'mean_U10N_y',\n",
    "             'std_U10N_y',\n",
    "             'mean_cosWDIR',\n",
    "             'std_cosWDIR',\n",
    "             'mean_sinWDIR',\n",
    "             'std_sinWDIR']"
   ]
  },
  {
   "cell_type": "code",
   "execution_count": 6,
   "id": "b11fb193-3b5a-414b-87a6-dcc940407366",
   "metadata": {},
   "outputs": [],
   "source": [
    "def getSubDF(ds, LAT, LON):\n",
    "    subds = xr.Dataset()\n",
    "\n",
    "    taoTimeVar = ['TAO_TIME']\n",
    "    \n",
    "    windVars = ['WDIR',\n",
    "         'WDIR_QC',\n",
    "         'WDIR_DM',\n",
    "         'WSPD',\n",
    "         'WSPD_QC',\n",
    "         'WSPD_DM',\n",
    "         'UWND',\n",
    "         'VWND']\n",
    "\n",
    "    sstVars = ['SST',\n",
    "             'SST_QC',\n",
    "             'SST_DM']\n",
    "    \n",
    "    airtVars = ['AIRT',\n",
    "             'AIRT_QC',\n",
    "             'AIRT_DM']\n",
    "    \n",
    "    rhVars = ['RELH',\n",
    "             'RELH_QC',\n",
    "             'RELH_DM']\n",
    "    \n",
    "    u10Vars =['WSPD_10N',\n",
    "             'WSPD_10']\n",
    "\n",
    "    statVars = ['mean_WSPD',\n",
    "             'std_WSPD',\n",
    "             'mean_WSPD_10N',\n",
    "             'std_WSPD_10N',\n",
    "             'mean_SST',\n",
    "             'std_SST',\n",
    "             'mean_AIRT',\n",
    "             'std_AIRT',\n",
    "             'mean_RELH',\n",
    "             'std_RELH',\n",
    "             'mean_U10N_x',\n",
    "             'std_U10N_x',\n",
    "             'mean_U10N_y',\n",
    "             'std_U10N_y',\n",
    "             'mean_cosWDIR',\n",
    "             'std_cosWDIR',\n",
    "             'mean_sinWDIR',\n",
    "             'std_sinWDIR']\n",
    "        \n",
    "    \n",
    "    satVars = ['retrieved_wind_speed',\n",
    "             'retrieved_wind_direction',\n",
    "             'rain_impact',\n",
    "             'flags',\n",
    "             'eflags',\n",
    "             'nudge_wind_speed',\n",
    "             'nudge_wind_direction',\n",
    "             'retrieved_wind_speed_uncorrected',\n",
    "             'cross_track_wind_speed_bias',\n",
    "             'atmospheric_speed_bias',\n",
    "             'wind_obj',\n",
    "             'ambiguity_speed',\n",
    "             'ambiguity_direction',\n",
    "             'ambiguity_obj',\n",
    "             'number_in_fore',\n",
    "             'number_in_aft',\n",
    "             'number_out_fore',\n",
    "             'number_out_aft',\n",
    "             'gmf_sst',\n",
    "             'distance_from_coast',\n",
    "             'exp_bias_wrt_oceanward_neighbors']\n",
    "\n",
    "     \n",
    "    \n",
    "    for windVar in windVars:\n",
    "        subds[windVar] = ds[windVar].sel(HEIGHT=4)\n",
    "    subds.drop_vars('HEIGHT')\n",
    "    for sstVar in sstVars:\n",
    "        subds[sstVar] = ds[sstVar].sel(DEPTH=1)\n",
    "    subds.drop_vars('DEPTH')\n",
    "    for rhVar in rhVars:\n",
    "        subds[rhVar] = ds[rhVar].sel(HEIGHT=3)\n",
    "    subds.drop_vars('HEIGHT')\n",
    "    for airtVar in airtVars:\n",
    "        subds[airtVar] = ds[airtVar].sel(HEIGHT=3)\n",
    "    subds.drop_vars('HEIGHT')\n",
    "    for u10Var in u10Vars:\n",
    "        subds[u10Var] = ds[u10Var].sel(HEIGHT=10)\n",
    "    subds.drop_vars('HEIGHT')\n",
    "\n",
    "    for statVar in statVars:\n",
    "        subds[statVar] = ds[statVar]\n",
    "\n",
    "    subds['LATITUDE'] = xr.DataArray(LAT * np.ones(len(subds['QS_TIME']), dtype = float), dims=['QS_TIME'])\n",
    "    subds['LONGITUDE'] = xr.DataArray(LON * np.ones(len(subds['QS_TIME']), dtype = float), dims=['QS_TIME'])\n",
    "    \n",
    "    subds['TAO_TIME'] = ds['TAO_TIME']\n",
    "\n",
    "    deployFileName = f'../../../downloads/Buoy/extractedGZ/WINDS/T_{lat:02d}{latUnits}_{lon:03d}{lonUnits}/T_{lat:02d}{latUnits}_{lon:03d}{lonUnits}_DeploymentDates.nc'\n",
    "    ds2 = xr.open_dataset(deployFileName)\n",
    "    startDates = np.array(ds2['startDate'])\n",
    "    endDates = np.array(ds2['endDate'])\n",
    "\n",
    "    depNum = np.zeros((len(subds['QS_TIME'])), dtype=int)\n",
    "    c = 1\n",
    "    for i in range(1,len(startDates)):\n",
    "        mask = subds['QS_TIME'] >= startDates[i]\n",
    "        mask *= subds['QS_TIME'] <= endDates[i]\n",
    "        depNum[mask] = c\n",
    "        c = c+1\n",
    "\n",
    "    subds['Deployment index'] = xr.DataArray(depNum, dims=['QS_TIME'])\n",
    "    \n",
    "    \n",
    "    satDS = ds[satVars]\n",
    "    satDS = satDS.isel(cross_track=0, ambiguities=0)\n",
    "\n",
    "    \n",
    "    \n",
    "    returnDS = xr.merge((subds, satDS))\n",
    "\n",
    "    \n",
    "    \n",
    "    return returnDS"
   ]
  },
  {
   "cell_type": "code",
   "execution_count": 7,
   "id": "ab2dd76c-6bae-467c-843c-968c0dbc3d02",
   "metadata": {},
   "outputs": [
    {
     "name": "stdout",
     "output_type": "stream",
     "text": [
      "T_08S_095W_xrr_MatchUp_2000.nc\n",
      "0 4033\n",
      "T_08S_110W_xrr_MatchUp_2000.nc\n",
      "4033 6764\n"
     ]
    },
    {
     "name": "stderr",
     "output_type": "stream",
     "text": [
      "/home/shikhar.rai/anaconda3/envs/mpiNetCDF/lib/python3.11/site-packages/xarray/core/concat.py:546: FutureWarning: unique with argument that is not not a Series, Index, ExtensionArray, or np.ndarray is deprecated and will raise in a future version.\n",
      "  common_dims = tuple(pd.unique([d for v in vars for d in v.dims]))\n",
      "/home/shikhar.rai/anaconda3/envs/mpiNetCDF/lib/python3.11/site-packages/xarray/core/concat.py:546: FutureWarning: unique with argument that is not not a Series, Index, ExtensionArray, or np.ndarray is deprecated and will raise in a future version.\n",
      "  common_dims = tuple(pd.unique([d for v in vars for d in v.dims]))\n"
     ]
    },
    {
     "name": "stdout",
     "output_type": "stream",
     "text": [
      "T_08S_125W_xrr_MatchUp_2000.nc\n",
      "6764 9758\n"
     ]
    },
    {
     "name": "stderr",
     "output_type": "stream",
     "text": [
      "/home/shikhar.rai/anaconda3/envs/mpiNetCDF/lib/python3.11/site-packages/xarray/core/concat.py:546: FutureWarning: unique with argument that is not not a Series, Index, ExtensionArray, or np.ndarray is deprecated and will raise in a future version.\n",
      "  common_dims = tuple(pd.unique([d for v in vars for d in v.dims]))\n",
      "/home/shikhar.rai/anaconda3/envs/mpiNetCDF/lib/python3.11/site-packages/xarray/core/concat.py:546: FutureWarning: unique with argument that is not not a Series, Index, ExtensionArray, or np.ndarray is deprecated and will raise in a future version.\n",
      "  common_dims = tuple(pd.unique([d for v in vars for d in v.dims]))\n"
     ]
    },
    {
     "name": "stdout",
     "output_type": "stream",
     "text": [
      "T_08S_155W_xrr_MatchUp_2000.nc\n",
      "9758 12737\n"
     ]
    },
    {
     "name": "stderr",
     "output_type": "stream",
     "text": [
      "/home/shikhar.rai/anaconda3/envs/mpiNetCDF/lib/python3.11/site-packages/xarray/core/concat.py:546: FutureWarning: unique with argument that is not not a Series, Index, ExtensionArray, or np.ndarray is deprecated and will raise in a future version.\n",
      "  common_dims = tuple(pd.unique([d for v in vars for d in v.dims]))\n",
      "/home/shikhar.rai/anaconda3/envs/mpiNetCDF/lib/python3.11/site-packages/xarray/core/concat.py:546: FutureWarning: unique with argument that is not not a Series, Index, ExtensionArray, or np.ndarray is deprecated and will raise in a future version.\n",
      "  common_dims = tuple(pd.unique([d for v in vars for d in v.dims]))\n"
     ]
    },
    {
     "name": "stdout",
     "output_type": "stream",
     "text": [
      "T_08S_170W_xrr_MatchUp_2000.nc\n",
      "12737 16617\n"
     ]
    },
    {
     "name": "stderr",
     "output_type": "stream",
     "text": [
      "/home/shikhar.rai/anaconda3/envs/mpiNetCDF/lib/python3.11/site-packages/xarray/core/concat.py:546: FutureWarning: unique with argument that is not not a Series, Index, ExtensionArray, or np.ndarray is deprecated and will raise in a future version.\n",
      "  common_dims = tuple(pd.unique([d for v in vars for d in v.dims]))\n",
      "/home/shikhar.rai/anaconda3/envs/mpiNetCDF/lib/python3.11/site-packages/xarray/core/concat.py:546: FutureWarning: unique with argument that is not not a Series, Index, ExtensionArray, or np.ndarray is deprecated and will raise in a future version.\n",
      "  common_dims = tuple(pd.unique([d for v in vars for d in v.dims]))\n"
     ]
    },
    {
     "name": "stdout",
     "output_type": "stream",
     "text": [
      "T_08S_165E_xrr_MatchUp_2000.nc\n",
      "16617 19615\n"
     ]
    },
    {
     "name": "stderr",
     "output_type": "stream",
     "text": [
      "/home/shikhar.rai/anaconda3/envs/mpiNetCDF/lib/python3.11/site-packages/xarray/core/concat.py:546: FutureWarning: unique with argument that is not not a Series, Index, ExtensionArray, or np.ndarray is deprecated and will raise in a future version.\n",
      "  common_dims = tuple(pd.unique([d for v in vars for d in v.dims]))\n",
      "/home/shikhar.rai/anaconda3/envs/mpiNetCDF/lib/python3.11/site-packages/xarray/core/concat.py:546: FutureWarning: unique with argument that is not not a Series, Index, ExtensionArray, or np.ndarray is deprecated and will raise in a future version.\n",
      "  common_dims = tuple(pd.unique([d for v in vars for d in v.dims]))\n"
     ]
    },
    {
     "name": "stdout",
     "output_type": "stream",
     "text": [
      "T_05S_095W_xrr_MatchUp_2000.nc\n",
      "19615 22560\n"
     ]
    },
    {
     "name": "stderr",
     "output_type": "stream",
     "text": [
      "/home/shikhar.rai/anaconda3/envs/mpiNetCDF/lib/python3.11/site-packages/xarray/core/concat.py:546: FutureWarning: unique with argument that is not not a Series, Index, ExtensionArray, or np.ndarray is deprecated and will raise in a future version.\n",
      "  common_dims = tuple(pd.unique([d for v in vars for d in v.dims]))\n",
      "/home/shikhar.rai/anaconda3/envs/mpiNetCDF/lib/python3.11/site-packages/xarray/core/concat.py:546: FutureWarning: unique with argument that is not not a Series, Index, ExtensionArray, or np.ndarray is deprecated and will raise in a future version.\n",
      "  common_dims = tuple(pd.unique([d for v in vars for d in v.dims]))\n"
     ]
    },
    {
     "name": "stdout",
     "output_type": "stream",
     "text": [
      "T_05S_110W_xrr_MatchUp_2000.nc\n",
      "22560 27032\n"
     ]
    },
    {
     "name": "stderr",
     "output_type": "stream",
     "text": [
      "/home/shikhar.rai/anaconda3/envs/mpiNetCDF/lib/python3.11/site-packages/xarray/core/concat.py:546: FutureWarning: unique with argument that is not not a Series, Index, ExtensionArray, or np.ndarray is deprecated and will raise in a future version.\n",
      "  common_dims = tuple(pd.unique([d for v in vars for d in v.dims]))\n",
      "/home/shikhar.rai/anaconda3/envs/mpiNetCDF/lib/python3.11/site-packages/xarray/core/concat.py:546: FutureWarning: unique with argument that is not not a Series, Index, ExtensionArray, or np.ndarray is deprecated and will raise in a future version.\n",
      "  common_dims = tuple(pd.unique([d for v in vars for d in v.dims]))\n"
     ]
    },
    {
     "name": "stdout",
     "output_type": "stream",
     "text": [
      "T_05S_125W_xrr_MatchUp_2000.nc\n",
      "27032 31411\n"
     ]
    },
    {
     "name": "stderr",
     "output_type": "stream",
     "text": [
      "/home/shikhar.rai/anaconda3/envs/mpiNetCDF/lib/python3.11/site-packages/xarray/core/concat.py:546: FutureWarning: unique with argument that is not not a Series, Index, ExtensionArray, or np.ndarray is deprecated and will raise in a future version.\n",
      "  common_dims = tuple(pd.unique([d for v in vars for d in v.dims]))\n",
      "/home/shikhar.rai/anaconda3/envs/mpiNetCDF/lib/python3.11/site-packages/xarray/core/concat.py:546: FutureWarning: unique with argument that is not not a Series, Index, ExtensionArray, or np.ndarray is deprecated and will raise in a future version.\n",
      "  common_dims = tuple(pd.unique([d for v in vars for d in v.dims]))\n"
     ]
    },
    {
     "name": "stdout",
     "output_type": "stream",
     "text": [
      "T_05S_140W_xrr_MatchUp_2000.nc\n",
      "31411 36134\n"
     ]
    },
    {
     "name": "stderr",
     "output_type": "stream",
     "text": [
      "/home/shikhar.rai/anaconda3/envs/mpiNetCDF/lib/python3.11/site-packages/xarray/core/concat.py:546: FutureWarning: unique with argument that is not not a Series, Index, ExtensionArray, or np.ndarray is deprecated and will raise in a future version.\n",
      "  common_dims = tuple(pd.unique([d for v in vars for d in v.dims]))\n",
      "/home/shikhar.rai/anaconda3/envs/mpiNetCDF/lib/python3.11/site-packages/xarray/core/concat.py:546: FutureWarning: unique with argument that is not not a Series, Index, ExtensionArray, or np.ndarray is deprecated and will raise in a future version.\n",
      "  common_dims = tuple(pd.unique([d for v in vars for d in v.dims]))\n"
     ]
    },
    {
     "name": "stdout",
     "output_type": "stream",
     "text": [
      "T_05S_155W_xrr_MatchUp_2000.nc\n",
      "36134 38694\n"
     ]
    },
    {
     "name": "stderr",
     "output_type": "stream",
     "text": [
      "/home/shikhar.rai/anaconda3/envs/mpiNetCDF/lib/python3.11/site-packages/xarray/core/concat.py:546: FutureWarning: unique with argument that is not not a Series, Index, ExtensionArray, or np.ndarray is deprecated and will raise in a future version.\n",
      "  common_dims = tuple(pd.unique([d for v in vars for d in v.dims]))\n",
      "/home/shikhar.rai/anaconda3/envs/mpiNetCDF/lib/python3.11/site-packages/xarray/core/concat.py:546: FutureWarning: unique with argument that is not not a Series, Index, ExtensionArray, or np.ndarray is deprecated and will raise in a future version.\n",
      "  common_dims = tuple(pd.unique([d for v in vars for d in v.dims]))\n"
     ]
    },
    {
     "name": "stdout",
     "output_type": "stream",
     "text": [
      "T_05S_170W_xrr_MatchUp_2000.nc\n",
      "38694 42723\n"
     ]
    },
    {
     "name": "stderr",
     "output_type": "stream",
     "text": [
      "/home/shikhar.rai/anaconda3/envs/mpiNetCDF/lib/python3.11/site-packages/xarray/core/concat.py:546: FutureWarning: unique with argument that is not not a Series, Index, ExtensionArray, or np.ndarray is deprecated and will raise in a future version.\n",
      "  common_dims = tuple(pd.unique([d for v in vars for d in v.dims]))\n",
      "/home/shikhar.rai/anaconda3/envs/mpiNetCDF/lib/python3.11/site-packages/xarray/core/concat.py:546: FutureWarning: unique with argument that is not not a Series, Index, ExtensionArray, or np.ndarray is deprecated and will raise in a future version.\n",
      "  common_dims = tuple(pd.unique([d for v in vars for d in v.dims]))\n"
     ]
    },
    {
     "name": "stdout",
     "output_type": "stream",
     "text": [
      "T_05S_165E_xrr_MatchUp_2000.nc\n",
      "42723 47407\n"
     ]
    },
    {
     "name": "stderr",
     "output_type": "stream",
     "text": [
      "/home/shikhar.rai/anaconda3/envs/mpiNetCDF/lib/python3.11/site-packages/xarray/core/concat.py:546: FutureWarning: unique with argument that is not not a Series, Index, ExtensionArray, or np.ndarray is deprecated and will raise in a future version.\n",
      "  common_dims = tuple(pd.unique([d for v in vars for d in v.dims]))\n",
      "/home/shikhar.rai/anaconda3/envs/mpiNetCDF/lib/python3.11/site-packages/xarray/core/concat.py:546: FutureWarning: unique with argument that is not not a Series, Index, ExtensionArray, or np.ndarray is deprecated and will raise in a future version.\n",
      "  common_dims = tuple(pd.unique([d for v in vars for d in v.dims]))\n"
     ]
    },
    {
     "name": "stdout",
     "output_type": "stream",
     "text": [
      "T_02S_095W_xrr_MatchUp_2000.nc\n",
      "47407 48639\n"
     ]
    },
    {
     "name": "stderr",
     "output_type": "stream",
     "text": [
      "/home/shikhar.rai/anaconda3/envs/mpiNetCDF/lib/python3.11/site-packages/xarray/core/concat.py:546: FutureWarning: unique with argument that is not not a Series, Index, ExtensionArray, or np.ndarray is deprecated and will raise in a future version.\n",
      "  common_dims = tuple(pd.unique([d for v in vars for d in v.dims]))\n",
      "/home/shikhar.rai/anaconda3/envs/mpiNetCDF/lib/python3.11/site-packages/xarray/core/concat.py:546: FutureWarning: unique with argument that is not not a Series, Index, ExtensionArray, or np.ndarray is deprecated and will raise in a future version.\n",
      "  common_dims = tuple(pd.unique([d for v in vars for d in v.dims]))\n"
     ]
    },
    {
     "name": "stdout",
     "output_type": "stream",
     "text": [
      "T_02S_110W_xrr_MatchUp_2000.nc\n",
      "48639 50581\n"
     ]
    },
    {
     "name": "stderr",
     "output_type": "stream",
     "text": [
      "/home/shikhar.rai/anaconda3/envs/mpiNetCDF/lib/python3.11/site-packages/xarray/core/concat.py:546: FutureWarning: unique with argument that is not not a Series, Index, ExtensionArray, or np.ndarray is deprecated and will raise in a future version.\n",
      "  common_dims = tuple(pd.unique([d for v in vars for d in v.dims]))\n",
      "/home/shikhar.rai/anaconda3/envs/mpiNetCDF/lib/python3.11/site-packages/xarray/core/concat.py:546: FutureWarning: unique with argument that is not not a Series, Index, ExtensionArray, or np.ndarray is deprecated and will raise in a future version.\n",
      "  common_dims = tuple(pd.unique([d for v in vars for d in v.dims]))\n"
     ]
    },
    {
     "name": "stdout",
     "output_type": "stream",
     "text": [
      "T_02S_125W_xrr_MatchUp_2000.nc\n",
      "50581 54805\n"
     ]
    },
    {
     "name": "stderr",
     "output_type": "stream",
     "text": [
      "/home/shikhar.rai/anaconda3/envs/mpiNetCDF/lib/python3.11/site-packages/xarray/core/concat.py:546: FutureWarning: unique with argument that is not not a Series, Index, ExtensionArray, or np.ndarray is deprecated and will raise in a future version.\n",
      "  common_dims = tuple(pd.unique([d for v in vars for d in v.dims]))\n",
      "/home/shikhar.rai/anaconda3/envs/mpiNetCDF/lib/python3.11/site-packages/xarray/core/concat.py:546: FutureWarning: unique with argument that is not not a Series, Index, ExtensionArray, or np.ndarray is deprecated and will raise in a future version.\n",
      "  common_dims = tuple(pd.unique([d for v in vars for d in v.dims]))\n"
     ]
    },
    {
     "name": "stdout",
     "output_type": "stream",
     "text": [
      "T_02S_140W_xrr_MatchUp_2000.nc\n",
      "54805 59259\n"
     ]
    },
    {
     "name": "stderr",
     "output_type": "stream",
     "text": [
      "/home/shikhar.rai/anaconda3/envs/mpiNetCDF/lib/python3.11/site-packages/xarray/core/concat.py:546: FutureWarning: unique with argument that is not not a Series, Index, ExtensionArray, or np.ndarray is deprecated and will raise in a future version.\n",
      "  common_dims = tuple(pd.unique([d for v in vars for d in v.dims]))\n",
      "/home/shikhar.rai/anaconda3/envs/mpiNetCDF/lib/python3.11/site-packages/xarray/core/concat.py:546: FutureWarning: unique with argument that is not not a Series, Index, ExtensionArray, or np.ndarray is deprecated and will raise in a future version.\n",
      "  common_dims = tuple(pd.unique([d for v in vars for d in v.dims]))\n"
     ]
    },
    {
     "name": "stdout",
     "output_type": "stream",
     "text": [
      "T_02S_155W_xrr_MatchUp_2000.nc\n",
      "59259 63139\n"
     ]
    },
    {
     "name": "stderr",
     "output_type": "stream",
     "text": [
      "/home/shikhar.rai/anaconda3/envs/mpiNetCDF/lib/python3.11/site-packages/xarray/core/concat.py:546: FutureWarning: unique with argument that is not not a Series, Index, ExtensionArray, or np.ndarray is deprecated and will raise in a future version.\n",
      "  common_dims = tuple(pd.unique([d for v in vars for d in v.dims]))\n",
      "/home/shikhar.rai/anaconda3/envs/mpiNetCDF/lib/python3.11/site-packages/xarray/core/concat.py:546: FutureWarning: unique with argument that is not not a Series, Index, ExtensionArray, or np.ndarray is deprecated and will raise in a future version.\n",
      "  common_dims = tuple(pd.unique([d for v in vars for d in v.dims]))\n"
     ]
    },
    {
     "name": "stdout",
     "output_type": "stream",
     "text": [
      "T_02S_170W_xrr_MatchUp_2000.nc\n",
      "63139 65593\n"
     ]
    },
    {
     "name": "stderr",
     "output_type": "stream",
     "text": [
      "/home/shikhar.rai/anaconda3/envs/mpiNetCDF/lib/python3.11/site-packages/xarray/core/concat.py:546: FutureWarning: unique with argument that is not not a Series, Index, ExtensionArray, or np.ndarray is deprecated and will raise in a future version.\n",
      "  common_dims = tuple(pd.unique([d for v in vars for d in v.dims]))\n",
      "/home/shikhar.rai/anaconda3/envs/mpiNetCDF/lib/python3.11/site-packages/xarray/core/concat.py:546: FutureWarning: unique with argument that is not not a Series, Index, ExtensionArray, or np.ndarray is deprecated and will raise in a future version.\n",
      "  common_dims = tuple(pd.unique([d for v in vars for d in v.dims]))\n"
     ]
    },
    {
     "name": "stdout",
     "output_type": "stream",
     "text": [
      "T_02S_180W_xrr_MatchUp_2000.nc\n",
      "65593 70429\n"
     ]
    },
    {
     "name": "stderr",
     "output_type": "stream",
     "text": [
      "/home/shikhar.rai/anaconda3/envs/mpiNetCDF/lib/python3.11/site-packages/xarray/core/concat.py:546: FutureWarning: unique with argument that is not not a Series, Index, ExtensionArray, or np.ndarray is deprecated and will raise in a future version.\n",
      "  common_dims = tuple(pd.unique([d for v in vars for d in v.dims]))\n",
      "/home/shikhar.rai/anaconda3/envs/mpiNetCDF/lib/python3.11/site-packages/xarray/core/concat.py:546: FutureWarning: unique with argument that is not not a Series, Index, ExtensionArray, or np.ndarray is deprecated and will raise in a future version.\n",
      "  common_dims = tuple(pd.unique([d for v in vars for d in v.dims]))\n"
     ]
    },
    {
     "name": "stdout",
     "output_type": "stream",
     "text": [
      "T_02S_165E_xrr_MatchUp_2000.nc\n",
      "70429 72271\n"
     ]
    },
    {
     "name": "stderr",
     "output_type": "stream",
     "text": [
      "/home/shikhar.rai/anaconda3/envs/mpiNetCDF/lib/python3.11/site-packages/xarray/core/concat.py:546: FutureWarning: unique with argument that is not not a Series, Index, ExtensionArray, or np.ndarray is deprecated and will raise in a future version.\n",
      "  common_dims = tuple(pd.unique([d for v in vars for d in v.dims]))\n",
      "/home/shikhar.rai/anaconda3/envs/mpiNetCDF/lib/python3.11/site-packages/xarray/core/concat.py:546: FutureWarning: unique with argument that is not not a Series, Index, ExtensionArray, or np.ndarray is deprecated and will raise in a future version.\n",
      "  common_dims = tuple(pd.unique([d for v in vars for d in v.dims]))\n"
     ]
    },
    {
     "name": "stdout",
     "output_type": "stream",
     "text": [
      "T_00N_095W_xrr_MatchUp_2000.nc\n",
      "72271 75460\n"
     ]
    },
    {
     "name": "stderr",
     "output_type": "stream",
     "text": [
      "/home/shikhar.rai/anaconda3/envs/mpiNetCDF/lib/python3.11/site-packages/xarray/core/concat.py:546: FutureWarning: unique with argument that is not not a Series, Index, ExtensionArray, or np.ndarray is deprecated and will raise in a future version.\n",
      "  common_dims = tuple(pd.unique([d for v in vars for d in v.dims]))\n",
      "/home/shikhar.rai/anaconda3/envs/mpiNetCDF/lib/python3.11/site-packages/xarray/core/concat.py:546: FutureWarning: unique with argument that is not not a Series, Index, ExtensionArray, or np.ndarray is deprecated and will raise in a future version.\n",
      "  common_dims = tuple(pd.unique([d for v in vars for d in v.dims]))\n"
     ]
    },
    {
     "name": "stdout",
     "output_type": "stream",
     "text": [
      "T_00N_110W_xrr_MatchUp_2000.nc\n",
      "75460 79607\n"
     ]
    },
    {
     "name": "stderr",
     "output_type": "stream",
     "text": [
      "/home/shikhar.rai/anaconda3/envs/mpiNetCDF/lib/python3.11/site-packages/xarray/core/concat.py:546: FutureWarning: unique with argument that is not not a Series, Index, ExtensionArray, or np.ndarray is deprecated and will raise in a future version.\n",
      "  common_dims = tuple(pd.unique([d for v in vars for d in v.dims]))\n",
      "/home/shikhar.rai/anaconda3/envs/mpiNetCDF/lib/python3.11/site-packages/xarray/core/concat.py:546: FutureWarning: unique with argument that is not not a Series, Index, ExtensionArray, or np.ndarray is deprecated and will raise in a future version.\n",
      "  common_dims = tuple(pd.unique([d for v in vars for d in v.dims]))\n"
     ]
    },
    {
     "name": "stdout",
     "output_type": "stream",
     "text": [
      "T_00N_125W_xrr_MatchUp_2000.nc\n",
      "79607 82583\n"
     ]
    },
    {
     "name": "stderr",
     "output_type": "stream",
     "text": [
      "/home/shikhar.rai/anaconda3/envs/mpiNetCDF/lib/python3.11/site-packages/xarray/core/concat.py:546: FutureWarning: unique with argument that is not not a Series, Index, ExtensionArray, or np.ndarray is deprecated and will raise in a future version.\n",
      "  common_dims = tuple(pd.unique([d for v in vars for d in v.dims]))\n",
      "/home/shikhar.rai/anaconda3/envs/mpiNetCDF/lib/python3.11/site-packages/xarray/core/concat.py:546: FutureWarning: unique with argument that is not not a Series, Index, ExtensionArray, or np.ndarray is deprecated and will raise in a future version.\n",
      "  common_dims = tuple(pd.unique([d for v in vars for d in v.dims]))\n"
     ]
    },
    {
     "name": "stdout",
     "output_type": "stream",
     "text": [
      "T_00N_140W_xrr_MatchUp_2000.nc\n",
      "82583 87857\n"
     ]
    },
    {
     "name": "stderr",
     "output_type": "stream",
     "text": [
      "/home/shikhar.rai/anaconda3/envs/mpiNetCDF/lib/python3.11/site-packages/xarray/core/concat.py:546: FutureWarning: unique with argument that is not not a Series, Index, ExtensionArray, or np.ndarray is deprecated and will raise in a future version.\n",
      "  common_dims = tuple(pd.unique([d for v in vars for d in v.dims]))\n",
      "/home/shikhar.rai/anaconda3/envs/mpiNetCDF/lib/python3.11/site-packages/xarray/core/concat.py:546: FutureWarning: unique with argument that is not not a Series, Index, ExtensionArray, or np.ndarray is deprecated and will raise in a future version.\n",
      "  common_dims = tuple(pd.unique([d for v in vars for d in v.dims]))\n"
     ]
    },
    {
     "name": "stdout",
     "output_type": "stream",
     "text": [
      "T_00N_155W_xrr_MatchUp_2000.nc\n",
      "87857 92792\n"
     ]
    },
    {
     "name": "stderr",
     "output_type": "stream",
     "text": [
      "/home/shikhar.rai/anaconda3/envs/mpiNetCDF/lib/python3.11/site-packages/xarray/core/concat.py:546: FutureWarning: unique with argument that is not not a Series, Index, ExtensionArray, or np.ndarray is deprecated and will raise in a future version.\n",
      "  common_dims = tuple(pd.unique([d for v in vars for d in v.dims]))\n",
      "/home/shikhar.rai/anaconda3/envs/mpiNetCDF/lib/python3.11/site-packages/xarray/core/concat.py:546: FutureWarning: unique with argument that is not not a Series, Index, ExtensionArray, or np.ndarray is deprecated and will raise in a future version.\n",
      "  common_dims = tuple(pd.unique([d for v in vars for d in v.dims]))\n"
     ]
    },
    {
     "name": "stdout",
     "output_type": "stream",
     "text": [
      "T_00N_170W_xrr_MatchUp_2000.nc\n",
      "92792 97030\n"
     ]
    },
    {
     "name": "stderr",
     "output_type": "stream",
     "text": [
      "/home/shikhar.rai/anaconda3/envs/mpiNetCDF/lib/python3.11/site-packages/xarray/core/concat.py:546: FutureWarning: unique with argument that is not not a Series, Index, ExtensionArray, or np.ndarray is deprecated and will raise in a future version.\n",
      "  common_dims = tuple(pd.unique([d for v in vars for d in v.dims]))\n",
      "/home/shikhar.rai/anaconda3/envs/mpiNetCDF/lib/python3.11/site-packages/xarray/core/concat.py:546: FutureWarning: unique with argument that is not not a Series, Index, ExtensionArray, or np.ndarray is deprecated and will raise in a future version.\n",
      "  common_dims = tuple(pd.unique([d for v in vars for d in v.dims]))\n"
     ]
    },
    {
     "name": "stdout",
     "output_type": "stream",
     "text": [
      "T_00N_180W_xrr_MatchUp_2000.nc\n",
      "97030 99893\n"
     ]
    },
    {
     "name": "stderr",
     "output_type": "stream",
     "text": [
      "/home/shikhar.rai/anaconda3/envs/mpiNetCDF/lib/python3.11/site-packages/xarray/core/concat.py:546: FutureWarning: unique with argument that is not not a Series, Index, ExtensionArray, or np.ndarray is deprecated and will raise in a future version.\n",
      "  common_dims = tuple(pd.unique([d for v in vars for d in v.dims]))\n",
      "/home/shikhar.rai/anaconda3/envs/mpiNetCDF/lib/python3.11/site-packages/xarray/core/concat.py:546: FutureWarning: unique with argument that is not not a Series, Index, ExtensionArray, or np.ndarray is deprecated and will raise in a future version.\n",
      "  common_dims = tuple(pd.unique([d for v in vars for d in v.dims]))\n"
     ]
    },
    {
     "name": "stdout",
     "output_type": "stream",
     "text": [
      "T_00N_165E_xrr_MatchUp_2000.nc\n",
      "99893 101719\n"
     ]
    },
    {
     "name": "stderr",
     "output_type": "stream",
     "text": [
      "/home/shikhar.rai/anaconda3/envs/mpiNetCDF/lib/python3.11/site-packages/xarray/core/concat.py:546: FutureWarning: unique with argument that is not not a Series, Index, ExtensionArray, or np.ndarray is deprecated and will raise in a future version.\n",
      "  common_dims = tuple(pd.unique([d for v in vars for d in v.dims]))\n",
      "/home/shikhar.rai/anaconda3/envs/mpiNetCDF/lib/python3.11/site-packages/xarray/core/concat.py:546: FutureWarning: unique with argument that is not not a Series, Index, ExtensionArray, or np.ndarray is deprecated and will raise in a future version.\n",
      "  common_dims = tuple(pd.unique([d for v in vars for d in v.dims]))\n"
     ]
    },
    {
     "name": "stdout",
     "output_type": "stream",
     "text": [
      "T_02N_095W_xrr_MatchUp_2000.nc\n",
      "101719 104264\n"
     ]
    },
    {
     "name": "stderr",
     "output_type": "stream",
     "text": [
      "/home/shikhar.rai/anaconda3/envs/mpiNetCDF/lib/python3.11/site-packages/xarray/core/concat.py:546: FutureWarning: unique with argument that is not not a Series, Index, ExtensionArray, or np.ndarray is deprecated and will raise in a future version.\n",
      "  common_dims = tuple(pd.unique([d for v in vars for d in v.dims]))\n",
      "/home/shikhar.rai/anaconda3/envs/mpiNetCDF/lib/python3.11/site-packages/xarray/core/concat.py:546: FutureWarning: unique with argument that is not not a Series, Index, ExtensionArray, or np.ndarray is deprecated and will raise in a future version.\n",
      "  common_dims = tuple(pd.unique([d for v in vars for d in v.dims]))\n"
     ]
    },
    {
     "name": "stdout",
     "output_type": "stream",
     "text": [
      "T_02N_110W_xrr_MatchUp_2000.nc\n",
      "104264 108119\n"
     ]
    },
    {
     "name": "stderr",
     "output_type": "stream",
     "text": [
      "/home/shikhar.rai/anaconda3/envs/mpiNetCDF/lib/python3.11/site-packages/xarray/core/concat.py:546: FutureWarning: unique with argument that is not not a Series, Index, ExtensionArray, or np.ndarray is deprecated and will raise in a future version.\n",
      "  common_dims = tuple(pd.unique([d for v in vars for d in v.dims]))\n",
      "/home/shikhar.rai/anaconda3/envs/mpiNetCDF/lib/python3.11/site-packages/xarray/core/concat.py:546: FutureWarning: unique with argument that is not not a Series, Index, ExtensionArray, or np.ndarray is deprecated and will raise in a future version.\n",
      "  common_dims = tuple(pd.unique([d for v in vars for d in v.dims]))\n"
     ]
    },
    {
     "name": "stdout",
     "output_type": "stream",
     "text": [
      "T_02N_125W_xrr_MatchUp_2000.nc\n",
      "108119 111404\n"
     ]
    },
    {
     "name": "stderr",
     "output_type": "stream",
     "text": [
      "/home/shikhar.rai/anaconda3/envs/mpiNetCDF/lib/python3.11/site-packages/xarray/core/concat.py:546: FutureWarning: unique with argument that is not not a Series, Index, ExtensionArray, or np.ndarray is deprecated and will raise in a future version.\n",
      "  common_dims = tuple(pd.unique([d for v in vars for d in v.dims]))\n",
      "/home/shikhar.rai/anaconda3/envs/mpiNetCDF/lib/python3.11/site-packages/xarray/core/concat.py:546: FutureWarning: unique with argument that is not not a Series, Index, ExtensionArray, or np.ndarray is deprecated and will raise in a future version.\n",
      "  common_dims = tuple(pd.unique([d for v in vars for d in v.dims]))\n"
     ]
    },
    {
     "name": "stdout",
     "output_type": "stream",
     "text": [
      "T_02N_140W_xrr_MatchUp_2000.nc\n",
      "111404 116862\n"
     ]
    },
    {
     "name": "stderr",
     "output_type": "stream",
     "text": [
      "/home/shikhar.rai/anaconda3/envs/mpiNetCDF/lib/python3.11/site-packages/xarray/core/concat.py:546: FutureWarning: unique with argument that is not not a Series, Index, ExtensionArray, or np.ndarray is deprecated and will raise in a future version.\n",
      "  common_dims = tuple(pd.unique([d for v in vars for d in v.dims]))\n",
      "/home/shikhar.rai/anaconda3/envs/mpiNetCDF/lib/python3.11/site-packages/xarray/core/concat.py:546: FutureWarning: unique with argument that is not not a Series, Index, ExtensionArray, or np.ndarray is deprecated and will raise in a future version.\n",
      "  common_dims = tuple(pd.unique([d for v in vars for d in v.dims]))\n"
     ]
    },
    {
     "name": "stdout",
     "output_type": "stream",
     "text": [
      "T_02N_155W_xrr_MatchUp_2000.nc\n",
      "116862 121972\n"
     ]
    },
    {
     "name": "stderr",
     "output_type": "stream",
     "text": [
      "/home/shikhar.rai/anaconda3/envs/mpiNetCDF/lib/python3.11/site-packages/xarray/core/concat.py:546: FutureWarning: unique with argument that is not not a Series, Index, ExtensionArray, or np.ndarray is deprecated and will raise in a future version.\n",
      "  common_dims = tuple(pd.unique([d for v in vars for d in v.dims]))\n",
      "/home/shikhar.rai/anaconda3/envs/mpiNetCDF/lib/python3.11/site-packages/xarray/core/concat.py:546: FutureWarning: unique with argument that is not not a Series, Index, ExtensionArray, or np.ndarray is deprecated and will raise in a future version.\n",
      "  common_dims = tuple(pd.unique([d for v in vars for d in v.dims]))\n"
     ]
    },
    {
     "name": "stdout",
     "output_type": "stream",
     "text": [
      "T_02N_170W_xrr_MatchUp_2000.nc\n",
      "121972 123663\n"
     ]
    },
    {
     "name": "stderr",
     "output_type": "stream",
     "text": [
      "/home/shikhar.rai/anaconda3/envs/mpiNetCDF/lib/python3.11/site-packages/xarray/core/concat.py:546: FutureWarning: unique with argument that is not not a Series, Index, ExtensionArray, or np.ndarray is deprecated and will raise in a future version.\n",
      "  common_dims = tuple(pd.unique([d for v in vars for d in v.dims]))\n",
      "/home/shikhar.rai/anaconda3/envs/mpiNetCDF/lib/python3.11/site-packages/xarray/core/concat.py:546: FutureWarning: unique with argument that is not not a Series, Index, ExtensionArray, or np.ndarray is deprecated and will raise in a future version.\n",
      "  common_dims = tuple(pd.unique([d for v in vars for d in v.dims]))\n"
     ]
    },
    {
     "name": "stdout",
     "output_type": "stream",
     "text": [
      "T_02N_180W_xrr_MatchUp_2000.nc\n",
      "123663 127456\n"
     ]
    },
    {
     "name": "stderr",
     "output_type": "stream",
     "text": [
      "/home/shikhar.rai/anaconda3/envs/mpiNetCDF/lib/python3.11/site-packages/xarray/core/concat.py:546: FutureWarning: unique with argument that is not not a Series, Index, ExtensionArray, or np.ndarray is deprecated and will raise in a future version.\n",
      "  common_dims = tuple(pd.unique([d for v in vars for d in v.dims]))\n",
      "/home/shikhar.rai/anaconda3/envs/mpiNetCDF/lib/python3.11/site-packages/xarray/core/concat.py:546: FutureWarning: unique with argument that is not not a Series, Index, ExtensionArray, or np.ndarray is deprecated and will raise in a future version.\n",
      "  common_dims = tuple(pd.unique([d for v in vars for d in v.dims]))\n"
     ]
    },
    {
     "name": "stdout",
     "output_type": "stream",
     "text": [
      "T_02N_165E_xrr_MatchUp_2000.nc\n",
      "127456 130512\n"
     ]
    },
    {
     "name": "stderr",
     "output_type": "stream",
     "text": [
      "/home/shikhar.rai/anaconda3/envs/mpiNetCDF/lib/python3.11/site-packages/xarray/core/concat.py:546: FutureWarning: unique with argument that is not not a Series, Index, ExtensionArray, or np.ndarray is deprecated and will raise in a future version.\n",
      "  common_dims = tuple(pd.unique([d for v in vars for d in v.dims]))\n",
      "/home/shikhar.rai/anaconda3/envs/mpiNetCDF/lib/python3.11/site-packages/xarray/core/concat.py:546: FutureWarning: unique with argument that is not not a Series, Index, ExtensionArray, or np.ndarray is deprecated and will raise in a future version.\n",
      "  common_dims = tuple(pd.unique([d for v in vars for d in v.dims]))\n"
     ]
    },
    {
     "name": "stdout",
     "output_type": "stream",
     "text": [
      "T_05N_095W_xrr_MatchUp_2000.nc\n",
      "130512 134174\n"
     ]
    },
    {
     "name": "stderr",
     "output_type": "stream",
     "text": [
      "/home/shikhar.rai/anaconda3/envs/mpiNetCDF/lib/python3.11/site-packages/xarray/core/concat.py:546: FutureWarning: unique with argument that is not not a Series, Index, ExtensionArray, or np.ndarray is deprecated and will raise in a future version.\n",
      "  common_dims = tuple(pd.unique([d for v in vars for d in v.dims]))\n",
      "/home/shikhar.rai/anaconda3/envs/mpiNetCDF/lib/python3.11/site-packages/xarray/core/concat.py:546: FutureWarning: unique with argument that is not not a Series, Index, ExtensionArray, or np.ndarray is deprecated and will raise in a future version.\n",
      "  common_dims = tuple(pd.unique([d for v in vars for d in v.dims]))\n"
     ]
    },
    {
     "name": "stdout",
     "output_type": "stream",
     "text": [
      "T_05N_110W_xrr_MatchUp_2000.nc\n",
      "134174 138104\n"
     ]
    },
    {
     "name": "stderr",
     "output_type": "stream",
     "text": [
      "/home/shikhar.rai/anaconda3/envs/mpiNetCDF/lib/python3.11/site-packages/xarray/core/concat.py:546: FutureWarning: unique with argument that is not not a Series, Index, ExtensionArray, or np.ndarray is deprecated and will raise in a future version.\n",
      "  common_dims = tuple(pd.unique([d for v in vars for d in v.dims]))\n",
      "/home/shikhar.rai/anaconda3/envs/mpiNetCDF/lib/python3.11/site-packages/xarray/core/concat.py:546: FutureWarning: unique with argument that is not not a Series, Index, ExtensionArray, or np.ndarray is deprecated and will raise in a future version.\n",
      "  common_dims = tuple(pd.unique([d for v in vars for d in v.dims]))\n"
     ]
    },
    {
     "name": "stdout",
     "output_type": "stream",
     "text": [
      "T_05N_125W_xrr_MatchUp_2000.nc\n",
      "138104 141610\n"
     ]
    },
    {
     "name": "stderr",
     "output_type": "stream",
     "text": [
      "/home/shikhar.rai/anaconda3/envs/mpiNetCDF/lib/python3.11/site-packages/xarray/core/concat.py:546: FutureWarning: unique with argument that is not not a Series, Index, ExtensionArray, or np.ndarray is deprecated and will raise in a future version.\n",
      "  common_dims = tuple(pd.unique([d for v in vars for d in v.dims]))\n",
      "/home/shikhar.rai/anaconda3/envs/mpiNetCDF/lib/python3.11/site-packages/xarray/core/concat.py:546: FutureWarning: unique with argument that is not not a Series, Index, ExtensionArray, or np.ndarray is deprecated and will raise in a future version.\n",
      "  common_dims = tuple(pd.unique([d for v in vars for d in v.dims]))\n"
     ]
    },
    {
     "name": "stdout",
     "output_type": "stream",
     "text": [
      "T_05N_140W_xrr_MatchUp_2000.nc\n",
      "141610 146862\n"
     ]
    },
    {
     "name": "stderr",
     "output_type": "stream",
     "text": [
      "/home/shikhar.rai/anaconda3/envs/mpiNetCDF/lib/python3.11/site-packages/xarray/core/concat.py:546: FutureWarning: unique with argument that is not not a Series, Index, ExtensionArray, or np.ndarray is deprecated and will raise in a future version.\n",
      "  common_dims = tuple(pd.unique([d for v in vars for d in v.dims]))\n",
      "/home/shikhar.rai/anaconda3/envs/mpiNetCDF/lib/python3.11/site-packages/xarray/core/concat.py:546: FutureWarning: unique with argument that is not not a Series, Index, ExtensionArray, or np.ndarray is deprecated and will raise in a future version.\n",
      "  common_dims = tuple(pd.unique([d for v in vars for d in v.dims]))\n"
     ]
    },
    {
     "name": "stdout",
     "output_type": "stream",
     "text": [
      "T_05N_155W_xrr_MatchUp_2000.nc\n",
      "146862 149844\n"
     ]
    },
    {
     "name": "stderr",
     "output_type": "stream",
     "text": [
      "/home/shikhar.rai/anaconda3/envs/mpiNetCDF/lib/python3.11/site-packages/xarray/core/concat.py:546: FutureWarning: unique with argument that is not not a Series, Index, ExtensionArray, or np.ndarray is deprecated and will raise in a future version.\n",
      "  common_dims = tuple(pd.unique([d for v in vars for d in v.dims]))\n",
      "/home/shikhar.rai/anaconda3/envs/mpiNetCDF/lib/python3.11/site-packages/xarray/core/concat.py:546: FutureWarning: unique with argument that is not not a Series, Index, ExtensionArray, or np.ndarray is deprecated and will raise in a future version.\n",
      "  common_dims = tuple(pd.unique([d for v in vars for d in v.dims]))\n"
     ]
    },
    {
     "name": "stdout",
     "output_type": "stream",
     "text": [
      "T_05N_170W_xrr_MatchUp_2000.nc\n",
      "149844 153490\n"
     ]
    },
    {
     "name": "stderr",
     "output_type": "stream",
     "text": [
      "/home/shikhar.rai/anaconda3/envs/mpiNetCDF/lib/python3.11/site-packages/xarray/core/concat.py:546: FutureWarning: unique with argument that is not not a Series, Index, ExtensionArray, or np.ndarray is deprecated and will raise in a future version.\n",
      "  common_dims = tuple(pd.unique([d for v in vars for d in v.dims]))\n",
      "/home/shikhar.rai/anaconda3/envs/mpiNetCDF/lib/python3.11/site-packages/xarray/core/concat.py:546: FutureWarning: unique with argument that is not not a Series, Index, ExtensionArray, or np.ndarray is deprecated and will raise in a future version.\n",
      "  common_dims = tuple(pd.unique([d for v in vars for d in v.dims]))\n"
     ]
    },
    {
     "name": "stdout",
     "output_type": "stream",
     "text": [
      "T_05N_165E_xrr_MatchUp_2000.nc\n",
      "153490 156406\n"
     ]
    },
    {
     "name": "stderr",
     "output_type": "stream",
     "text": [
      "/home/shikhar.rai/anaconda3/envs/mpiNetCDF/lib/python3.11/site-packages/xarray/core/concat.py:546: FutureWarning: unique with argument that is not not a Series, Index, ExtensionArray, or np.ndarray is deprecated and will raise in a future version.\n",
      "  common_dims = tuple(pd.unique([d for v in vars for d in v.dims]))\n",
      "/home/shikhar.rai/anaconda3/envs/mpiNetCDF/lib/python3.11/site-packages/xarray/core/concat.py:546: FutureWarning: unique with argument that is not not a Series, Index, ExtensionArray, or np.ndarray is deprecated and will raise in a future version.\n",
      "  common_dims = tuple(pd.unique([d for v in vars for d in v.dims]))\n"
     ]
    },
    {
     "name": "stdout",
     "output_type": "stream",
     "text": [
      "T_08N_095W_xrr_MatchUp_2000.nc\n",
      "156406 158825\n"
     ]
    },
    {
     "name": "stderr",
     "output_type": "stream",
     "text": [
      "/home/shikhar.rai/anaconda3/envs/mpiNetCDF/lib/python3.11/site-packages/xarray/core/concat.py:546: FutureWarning: unique with argument that is not not a Series, Index, ExtensionArray, or np.ndarray is deprecated and will raise in a future version.\n",
      "  common_dims = tuple(pd.unique([d for v in vars for d in v.dims]))\n",
      "/home/shikhar.rai/anaconda3/envs/mpiNetCDF/lib/python3.11/site-packages/xarray/core/concat.py:546: FutureWarning: unique with argument that is not not a Series, Index, ExtensionArray, or np.ndarray is deprecated and will raise in a future version.\n",
      "  common_dims = tuple(pd.unique([d for v in vars for d in v.dims]))\n"
     ]
    },
    {
     "name": "stdout",
     "output_type": "stream",
     "text": [
      "T_08N_110W_xrr_MatchUp_2000.nc\n",
      "158825 163936\n"
     ]
    },
    {
     "name": "stderr",
     "output_type": "stream",
     "text": [
      "/home/shikhar.rai/anaconda3/envs/mpiNetCDF/lib/python3.11/site-packages/xarray/core/concat.py:546: FutureWarning: unique with argument that is not not a Series, Index, ExtensionArray, or np.ndarray is deprecated and will raise in a future version.\n",
      "  common_dims = tuple(pd.unique([d for v in vars for d in v.dims]))\n",
      "/home/shikhar.rai/anaconda3/envs/mpiNetCDF/lib/python3.11/site-packages/xarray/core/concat.py:546: FutureWarning: unique with argument that is not not a Series, Index, ExtensionArray, or np.ndarray is deprecated and will raise in a future version.\n",
      "  common_dims = tuple(pd.unique([d for v in vars for d in v.dims]))\n"
     ]
    },
    {
     "name": "stdout",
     "output_type": "stream",
     "text": [
      "T_08N_155W_xrr_MatchUp_2000.nc\n",
      "163936 167377\n"
     ]
    },
    {
     "name": "stderr",
     "output_type": "stream",
     "text": [
      "/home/shikhar.rai/anaconda3/envs/mpiNetCDF/lib/python3.11/site-packages/xarray/core/concat.py:546: FutureWarning: unique with argument that is not not a Series, Index, ExtensionArray, or np.ndarray is deprecated and will raise in a future version.\n",
      "  common_dims = tuple(pd.unique([d for v in vars for d in v.dims]))\n",
      "/home/shikhar.rai/anaconda3/envs/mpiNetCDF/lib/python3.11/site-packages/xarray/core/concat.py:546: FutureWarning: unique with argument that is not not a Series, Index, ExtensionArray, or np.ndarray is deprecated and will raise in a future version.\n",
      "  common_dims = tuple(pd.unique([d for v in vars for d in v.dims]))\n"
     ]
    },
    {
     "name": "stdout",
     "output_type": "stream",
     "text": [
      "T_08N_170W_xrr_MatchUp_2000.nc\n",
      "167377 172162\n"
     ]
    },
    {
     "name": "stderr",
     "output_type": "stream",
     "text": [
      "/home/shikhar.rai/anaconda3/envs/mpiNetCDF/lib/python3.11/site-packages/xarray/core/concat.py:546: FutureWarning: unique with argument that is not not a Series, Index, ExtensionArray, or np.ndarray is deprecated and will raise in a future version.\n",
      "  common_dims = tuple(pd.unique([d for v in vars for d in v.dims]))\n",
      "/home/shikhar.rai/anaconda3/envs/mpiNetCDF/lib/python3.11/site-packages/xarray/core/concat.py:546: FutureWarning: unique with argument that is not not a Series, Index, ExtensionArray, or np.ndarray is deprecated and will raise in a future version.\n",
      "  common_dims = tuple(pd.unique([d for v in vars for d in v.dims]))\n"
     ]
    },
    {
     "name": "stdout",
     "output_type": "stream",
     "text": [
      "T_08N_180W_xrr_MatchUp_2000.nc\n",
      "172162 175198\n"
     ]
    },
    {
     "name": "stderr",
     "output_type": "stream",
     "text": [
      "/home/shikhar.rai/anaconda3/envs/mpiNetCDF/lib/python3.11/site-packages/xarray/core/concat.py:546: FutureWarning: unique with argument that is not not a Series, Index, ExtensionArray, or np.ndarray is deprecated and will raise in a future version.\n",
      "  common_dims = tuple(pd.unique([d for v in vars for d in v.dims]))\n",
      "/home/shikhar.rai/anaconda3/envs/mpiNetCDF/lib/python3.11/site-packages/xarray/core/concat.py:546: FutureWarning: unique with argument that is not not a Series, Index, ExtensionArray, or np.ndarray is deprecated and will raise in a future version.\n",
      "  common_dims = tuple(pd.unique([d for v in vars for d in v.dims]))\n"
     ]
    },
    {
     "name": "stdout",
     "output_type": "stream",
     "text": [
      "T_08N_165E_xrr_MatchUp_2000.nc\n",
      "175198 179330\n"
     ]
    },
    {
     "name": "stderr",
     "output_type": "stream",
     "text": [
      "/home/shikhar.rai/anaconda3/envs/mpiNetCDF/lib/python3.11/site-packages/xarray/core/concat.py:546: FutureWarning: unique with argument that is not not a Series, Index, ExtensionArray, or np.ndarray is deprecated and will raise in a future version.\n",
      "  common_dims = tuple(pd.unique([d for v in vars for d in v.dims]))\n",
      "/home/shikhar.rai/anaconda3/envs/mpiNetCDF/lib/python3.11/site-packages/xarray/core/concat.py:546: FutureWarning: unique with argument that is not not a Series, Index, ExtensionArray, or np.ndarray is deprecated and will raise in a future version.\n",
      "  common_dims = tuple(pd.unique([d for v in vars for d in v.dims]))\n"
     ]
    },
    {
     "name": "stdout",
     "output_type": "stream",
     "text": [
      "T_09N_140W_xrr_MatchUp_2000.nc\n",
      "179330 184319\n"
     ]
    },
    {
     "name": "stderr",
     "output_type": "stream",
     "text": [
      "/home/shikhar.rai/anaconda3/envs/mpiNetCDF/lib/python3.11/site-packages/xarray/core/concat.py:546: FutureWarning: unique with argument that is not not a Series, Index, ExtensionArray, or np.ndarray is deprecated and will raise in a future version.\n",
      "  common_dims = tuple(pd.unique([d for v in vars for d in v.dims]))\n",
      "/home/shikhar.rai/anaconda3/envs/mpiNetCDF/lib/python3.11/site-packages/xarray/core/concat.py:546: FutureWarning: unique with argument that is not not a Series, Index, ExtensionArray, or np.ndarray is deprecated and will raise in a future version.\n",
      "  common_dims = tuple(pd.unique([d for v in vars for d in v.dims]))\n"
     ]
    }
   ],
   "source": [
    "latList = [-9, -8, -5, -2, 0, 2, 5, 8, 9]\n",
    "lonList = [-95, -110, -125, -140, -155, -170, -180, 165]\n",
    "\n",
    "ylen = len(latList)\n",
    "xlen = len(lonList)\n",
    "\n",
    "taskList = []\n",
    "\n",
    "for latId  in range(ylen):\n",
    "    for lonId in range(xlen):\n",
    "        taskList.append([latList[latId], lonList[lonId]])\n",
    "\n",
    "ntasks = len(taskList)\n",
    "\n",
    "\n",
    "allDS = xr.Dataset()\n",
    "dataCount = 0\n",
    "fileCount = 0\n",
    "for task in taskList:\n",
    "    lat = task[0]\n",
    "    lon = task[1]\n",
    "\n",
    "    LAT = lat\n",
    "    LON = lon\n",
    "\n",
    "    if lat < 0:\n",
    "        latUnits = 'S'\n",
    "    else:\n",
    "        latUnits = 'N'\n",
    "\n",
    "    if lon < 0:\n",
    "        lonUnits = 'W'\n",
    "    else:\n",
    "        lonUnits = 'E'\n",
    "\n",
    "    LON = (LON+360)%360\n",
    "    lat=abs(lat)\n",
    "    lon=abs(lon)\n",
    "\n",
    "    matchFname = f'../../../downloads/Buoy/extractedGZ/WINDS/T_{lat:02d}{latUnits}_{lon:03d}{lonUnits}_xrr_MatchUp_2hrMeanVar.nc'\n",
    "    #deployFileName = f'../../downloads/Buoy/extractedGZ/WINDS/T_{lat:02d}{latUnits}_{lon:03d}{lonUnits}/T_{lat:02d}{latUnits}_{lon:03d}{lonUnits}_DeploymentDates.nc'\n",
    "    \n",
    "    if os.path.isfile(matchFname):\n",
    "        print(f'T_{lat:02d}{latUnits}_{lon:03d}{lonUnits}_xrr_MatchUp_2000.nc')\n",
    "        rds = xr.open_dataset(matchFname)\n",
    "        ds = getSubDF(rds, LAT, LON)\n",
    "        QS_TIME = ds['QS_TIME'].to_numpy()\n",
    "        ds = ds.rename({'QS_TIME':'count'})\n",
    "        dataLen = len(ds['count'])\n",
    "        print(dataCount, dataCount+dataLen)\n",
    "        ds['count'] = xr.DataArray(pd.Series(np.arange(dataCount, dataCount+dataLen)), \n",
    "                                   dims = ['count'])\n",
    "        ds['QS_TIME'] = xr.DataArray(QS_TIME, \n",
    "                                   dims = ['count'])\n",
    "        dataCount += dataLen\n",
    "        if fileCount == 0:\n",
    "            allDS = ds\n",
    "        else:\n",
    "            allDS = xr.concat((allDS, ds), dim='count')\n",
    "        fileCount += 1\n",
    "        "
   ]
  },
  {
   "cell_type": "code",
   "execution_count": 8,
   "id": "76df6b60-a38d-4405-b9a7-c534163c4ae3",
   "metadata": {},
   "outputs": [],
   "source": [
    "allDS = allDS.drop_vars(['HEIGHT','DEPTH','cross_track','ambiguities'])"
   ]
  },
  {
   "cell_type": "code",
   "execution_count": 9,
   "id": "31f6540c-451c-4df0-ac8a-ee7ed153c17a",
   "metadata": {
    "scrolled": true
   },
   "outputs": [
    {
     "data": {
      "text/html": [
       "<div><svg style=\"position: absolute; width: 0; height: 0; overflow: hidden\">\n",
       "<defs>\n",
       "<symbol id=\"icon-database\" viewBox=\"0 0 32 32\">\n",
       "<path d=\"M16 0c-8.837 0-16 2.239-16 5v4c0 2.761 7.163 5 16 5s16-2.239 16-5v-4c0-2.761-7.163-5-16-5z\"></path>\n",
       "<path d=\"M16 17c-8.837 0-16-2.239-16-5v6c0 2.761 7.163 5 16 5s16-2.239 16-5v-6c0 2.761-7.163 5-16 5z\"></path>\n",
       "<path d=\"M16 26c-8.837 0-16-2.239-16-5v6c0 2.761 7.163 5 16 5s16-2.239 16-5v-6c0 2.761-7.163 5-16 5z\"></path>\n",
       "</symbol>\n",
       "<symbol id=\"icon-file-text2\" viewBox=\"0 0 32 32\">\n",
       "<path d=\"M28.681 7.159c-0.694-0.947-1.662-2.053-2.724-3.116s-2.169-2.030-3.116-2.724c-1.612-1.182-2.393-1.319-2.841-1.319h-15.5c-1.378 0-2.5 1.121-2.5 2.5v27c0 1.378 1.122 2.5 2.5 2.5h23c1.378 0 2.5-1.122 2.5-2.5v-19.5c0-0.448-0.137-1.23-1.319-2.841zM24.543 5.457c0.959 0.959 1.712 1.825 2.268 2.543h-4.811v-4.811c0.718 0.556 1.584 1.309 2.543 2.268zM28 29.5c0 0.271-0.229 0.5-0.5 0.5h-23c-0.271 0-0.5-0.229-0.5-0.5v-27c0-0.271 0.229-0.5 0.5-0.5 0 0 15.499-0 15.5 0v7c0 0.552 0.448 1 1 1h7v19.5z\"></path>\n",
       "<path d=\"M23 26h-14c-0.552 0-1-0.448-1-1s0.448-1 1-1h14c0.552 0 1 0.448 1 1s-0.448 1-1 1z\"></path>\n",
       "<path d=\"M23 22h-14c-0.552 0-1-0.448-1-1s0.448-1 1-1h14c0.552 0 1 0.448 1 1s-0.448 1-1 1z\"></path>\n",
       "<path d=\"M23 18h-14c-0.552 0-1-0.448-1-1s0.448-1 1-1h14c0.552 0 1 0.448 1 1s-0.448 1-1 1z\"></path>\n",
       "</symbol>\n",
       "</defs>\n",
       "</svg>\n",
       "<style>/* CSS stylesheet for displaying xarray objects in jupyterlab.\n",
       " *\n",
       " */\n",
       "\n",
       ":root {\n",
       "  --xr-font-color0: var(--jp-content-font-color0, rgba(0, 0, 0, 1));\n",
       "  --xr-font-color2: var(--jp-content-font-color2, rgba(0, 0, 0, 0.54));\n",
       "  --xr-font-color3: var(--jp-content-font-color3, rgba(0, 0, 0, 0.38));\n",
       "  --xr-border-color: var(--jp-border-color2, #e0e0e0);\n",
       "  --xr-disabled-color: var(--jp-layout-color3, #bdbdbd);\n",
       "  --xr-background-color: var(--jp-layout-color0, white);\n",
       "  --xr-background-color-row-even: var(--jp-layout-color1, white);\n",
       "  --xr-background-color-row-odd: var(--jp-layout-color2, #eeeeee);\n",
       "}\n",
       "\n",
       "html[theme=dark],\n",
       "body[data-theme=dark],\n",
       "body.vscode-dark {\n",
       "  --xr-font-color0: rgba(255, 255, 255, 1);\n",
       "  --xr-font-color2: rgba(255, 255, 255, 0.54);\n",
       "  --xr-font-color3: rgba(255, 255, 255, 0.38);\n",
       "  --xr-border-color: #1F1F1F;\n",
       "  --xr-disabled-color: #515151;\n",
       "  --xr-background-color: #111111;\n",
       "  --xr-background-color-row-even: #111111;\n",
       "  --xr-background-color-row-odd: #313131;\n",
       "}\n",
       "\n",
       ".xr-wrap {\n",
       "  display: block !important;\n",
       "  min-width: 300px;\n",
       "  max-width: 700px;\n",
       "}\n",
       "\n",
       ".xr-text-repr-fallback {\n",
       "  /* fallback to plain text repr when CSS is not injected (untrusted notebook) */\n",
       "  display: none;\n",
       "}\n",
       "\n",
       ".xr-header {\n",
       "  padding-top: 6px;\n",
       "  padding-bottom: 6px;\n",
       "  margin-bottom: 4px;\n",
       "  border-bottom: solid 1px var(--xr-border-color);\n",
       "}\n",
       "\n",
       ".xr-header > div,\n",
       ".xr-header > ul {\n",
       "  display: inline;\n",
       "  margin-top: 0;\n",
       "  margin-bottom: 0;\n",
       "}\n",
       "\n",
       ".xr-obj-type,\n",
       ".xr-array-name {\n",
       "  margin-left: 2px;\n",
       "  margin-right: 10px;\n",
       "}\n",
       "\n",
       ".xr-obj-type {\n",
       "  color: var(--xr-font-color2);\n",
       "}\n",
       "\n",
       ".xr-sections {\n",
       "  padding-left: 0 !important;\n",
       "  display: grid;\n",
       "  grid-template-columns: 150px auto auto 1fr 20px 20px;\n",
       "}\n",
       "\n",
       ".xr-section-item {\n",
       "  display: contents;\n",
       "}\n",
       "\n",
       ".xr-section-item input {\n",
       "  display: none;\n",
       "}\n",
       "\n",
       ".xr-section-item input + label {\n",
       "  color: var(--xr-disabled-color);\n",
       "}\n",
       "\n",
       ".xr-section-item input:enabled + label {\n",
       "  cursor: pointer;\n",
       "  color: var(--xr-font-color2);\n",
       "}\n",
       "\n",
       ".xr-section-item input:enabled + label:hover {\n",
       "  color: var(--xr-font-color0);\n",
       "}\n",
       "\n",
       ".xr-section-summary {\n",
       "  grid-column: 1;\n",
       "  color: var(--xr-font-color2);\n",
       "  font-weight: 500;\n",
       "}\n",
       "\n",
       ".xr-section-summary > span {\n",
       "  display: inline-block;\n",
       "  padding-left: 0.5em;\n",
       "}\n",
       "\n",
       ".xr-section-summary-in:disabled + label {\n",
       "  color: var(--xr-font-color2);\n",
       "}\n",
       "\n",
       ".xr-section-summary-in + label:before {\n",
       "  display: inline-block;\n",
       "  content: '►';\n",
       "  font-size: 11px;\n",
       "  width: 15px;\n",
       "  text-align: center;\n",
       "}\n",
       "\n",
       ".xr-section-summary-in:disabled + label:before {\n",
       "  color: var(--xr-disabled-color);\n",
       "}\n",
       "\n",
       ".xr-section-summary-in:checked + label:before {\n",
       "  content: '▼';\n",
       "}\n",
       "\n",
       ".xr-section-summary-in:checked + label > span {\n",
       "  display: none;\n",
       "}\n",
       "\n",
       ".xr-section-summary,\n",
       ".xr-section-inline-details {\n",
       "  padding-top: 4px;\n",
       "  padding-bottom: 4px;\n",
       "}\n",
       "\n",
       ".xr-section-inline-details {\n",
       "  grid-column: 2 / -1;\n",
       "}\n",
       "\n",
       ".xr-section-details {\n",
       "  display: none;\n",
       "  grid-column: 1 / -1;\n",
       "  margin-bottom: 5px;\n",
       "}\n",
       "\n",
       ".xr-section-summary-in:checked ~ .xr-section-details {\n",
       "  display: contents;\n",
       "}\n",
       "\n",
       ".xr-array-wrap {\n",
       "  grid-column: 1 / -1;\n",
       "  display: grid;\n",
       "  grid-template-columns: 20px auto;\n",
       "}\n",
       "\n",
       ".xr-array-wrap > label {\n",
       "  grid-column: 1;\n",
       "  vertical-align: top;\n",
       "}\n",
       "\n",
       ".xr-preview {\n",
       "  color: var(--xr-font-color3);\n",
       "}\n",
       "\n",
       ".xr-array-preview,\n",
       ".xr-array-data {\n",
       "  padding: 0 5px !important;\n",
       "  grid-column: 2;\n",
       "}\n",
       "\n",
       ".xr-array-data,\n",
       ".xr-array-in:checked ~ .xr-array-preview {\n",
       "  display: none;\n",
       "}\n",
       "\n",
       ".xr-array-in:checked ~ .xr-array-data,\n",
       ".xr-array-preview {\n",
       "  display: inline-block;\n",
       "}\n",
       "\n",
       ".xr-dim-list {\n",
       "  display: inline-block !important;\n",
       "  list-style: none;\n",
       "  padding: 0 !important;\n",
       "  margin: 0;\n",
       "}\n",
       "\n",
       ".xr-dim-list li {\n",
       "  display: inline-block;\n",
       "  padding: 0;\n",
       "  margin: 0;\n",
       "}\n",
       "\n",
       ".xr-dim-list:before {\n",
       "  content: '(';\n",
       "}\n",
       "\n",
       ".xr-dim-list:after {\n",
       "  content: ')';\n",
       "}\n",
       "\n",
       ".xr-dim-list li:not(:last-child):after {\n",
       "  content: ',';\n",
       "  padding-right: 5px;\n",
       "}\n",
       "\n",
       ".xr-has-index {\n",
       "  font-weight: bold;\n",
       "}\n",
       "\n",
       ".xr-var-list,\n",
       ".xr-var-item {\n",
       "  display: contents;\n",
       "}\n",
       "\n",
       ".xr-var-item > div,\n",
       ".xr-var-item label,\n",
       ".xr-var-item > .xr-var-name span {\n",
       "  background-color: var(--xr-background-color-row-even);\n",
       "  margin-bottom: 0;\n",
       "}\n",
       "\n",
       ".xr-var-item > .xr-var-name:hover span {\n",
       "  padding-right: 5px;\n",
       "}\n",
       "\n",
       ".xr-var-list > li:nth-child(odd) > div,\n",
       ".xr-var-list > li:nth-child(odd) > label,\n",
       ".xr-var-list > li:nth-child(odd) > .xr-var-name span {\n",
       "  background-color: var(--xr-background-color-row-odd);\n",
       "}\n",
       "\n",
       ".xr-var-name {\n",
       "  grid-column: 1;\n",
       "}\n",
       "\n",
       ".xr-var-dims {\n",
       "  grid-column: 2;\n",
       "}\n",
       "\n",
       ".xr-var-dtype {\n",
       "  grid-column: 3;\n",
       "  text-align: right;\n",
       "  color: var(--xr-font-color2);\n",
       "}\n",
       "\n",
       ".xr-var-preview {\n",
       "  grid-column: 4;\n",
       "}\n",
       "\n",
       ".xr-index-preview {\n",
       "  grid-column: 2 / 5;\n",
       "  color: var(--xr-font-color2);\n",
       "}\n",
       "\n",
       ".xr-var-name,\n",
       ".xr-var-dims,\n",
       ".xr-var-dtype,\n",
       ".xr-preview,\n",
       ".xr-attrs dt {\n",
       "  white-space: nowrap;\n",
       "  overflow: hidden;\n",
       "  text-overflow: ellipsis;\n",
       "  padding-right: 10px;\n",
       "}\n",
       "\n",
       ".xr-var-name:hover,\n",
       ".xr-var-dims:hover,\n",
       ".xr-var-dtype:hover,\n",
       ".xr-attrs dt:hover {\n",
       "  overflow: visible;\n",
       "  width: auto;\n",
       "  z-index: 1;\n",
       "}\n",
       "\n",
       ".xr-var-attrs,\n",
       ".xr-var-data,\n",
       ".xr-index-data {\n",
       "  display: none;\n",
       "  background-color: var(--xr-background-color) !important;\n",
       "  padding-bottom: 5px !important;\n",
       "}\n",
       "\n",
       ".xr-var-attrs-in:checked ~ .xr-var-attrs,\n",
       ".xr-var-data-in:checked ~ .xr-var-data,\n",
       ".xr-index-data-in:checked ~ .xr-index-data {\n",
       "  display: block;\n",
       "}\n",
       "\n",
       ".xr-var-data > table {\n",
       "  float: right;\n",
       "}\n",
       "\n",
       ".xr-var-name span,\n",
       ".xr-var-data,\n",
       ".xr-index-name div,\n",
       ".xr-index-data,\n",
       ".xr-attrs {\n",
       "  padding-left: 25px !important;\n",
       "}\n",
       "\n",
       ".xr-attrs,\n",
       ".xr-var-attrs,\n",
       ".xr-var-data,\n",
       ".xr-index-data {\n",
       "  grid-column: 1 / -1;\n",
       "}\n",
       "\n",
       "dl.xr-attrs {\n",
       "  padding: 0;\n",
       "  margin: 0;\n",
       "  display: grid;\n",
       "  grid-template-columns: 125px auto;\n",
       "}\n",
       "\n",
       ".xr-attrs dt,\n",
       ".xr-attrs dd {\n",
       "  padding: 0;\n",
       "  margin: 0;\n",
       "  float: left;\n",
       "  padding-right: 10px;\n",
       "  width: auto;\n",
       "}\n",
       "\n",
       ".xr-attrs dt {\n",
       "  font-weight: normal;\n",
       "  grid-column: 1;\n",
       "}\n",
       "\n",
       ".xr-attrs dt:hover span {\n",
       "  display: inline-block;\n",
       "  background: var(--xr-background-color);\n",
       "  padding-right: 10px;\n",
       "}\n",
       "\n",
       ".xr-attrs dd {\n",
       "  grid-column: 2;\n",
       "  white-space: pre-wrap;\n",
       "  word-break: break-all;\n",
       "}\n",
       "\n",
       ".xr-icon-database,\n",
       ".xr-icon-file-text2,\n",
       ".xr-no-icon {\n",
       "  display: inline-block;\n",
       "  vertical-align: middle;\n",
       "  width: 1em;\n",
       "  height: 1.5em !important;\n",
       "  stroke-width: 0;\n",
       "  stroke: currentColor;\n",
       "  fill: currentColor;\n",
       "}\n",
       "</style><pre class='xr-text-repr-fallback'>&lt;xarray.Dataset&gt;\n",
       "Dimensions:                           (count: 184319)\n",
       "Coordinates:\n",
       "  * count                             (count) int64 0 1 2 ... 184317 184318\n",
       "Data variables: (12/63)\n",
       "    WDIR                              (count) float32 123.6 128.2 ... 217.6\n",
       "    WDIR_QC                           (count) float32 2.0 2.0 2.0 ... 2.0 2.0\n",
       "    WDIR_DM                           (count) |S1 b&#x27;D&#x27; b&#x27;D&#x27; b&#x27;D&#x27; ... b&#x27;D&#x27; b&#x27;D&#x27;\n",
       "    WSPD                              (count) float32 5.39 5.3 ... 10.64 9.83\n",
       "    WSPD_QC                           (count) float32 2.0 2.0 2.0 ... 2.0 2.0\n",
       "    WSPD_DM                           (count) |S1 b&#x27;D&#x27; b&#x27;D&#x27; b&#x27;D&#x27; ... b&#x27;D&#x27; b&#x27;D&#x27;\n",
       "    ...                                ...\n",
       "    number_out_fore                   (count) float64 6.0 7.0 7.0 ... 16.0 14.0\n",
       "    number_out_aft                    (count) float64 8.0 7.0 9.0 ... 26.0 26.0\n",
       "    gmf_sst                           (count) float64 23.89 23.79 ... 26.45\n",
       "    distance_from_coast               (count) float64 864.0 876.0 ... 1.886e+03\n",
       "    exp_bias_wrt_oceanward_neighbors  (count) float64 0.0 0.0 0.0 ... 0.0 0.0\n",
       "    QS_TIME                           (count) datetime64[ns] 2000-01-01T00:34...</pre><div class='xr-wrap' style='display:none'><div class='xr-header'><div class='xr-obj-type'>xarray.Dataset</div></div><ul class='xr-sections'><li class='xr-section-item'><input id='section-49a73388-6e17-4960-ba9b-acfb2c1b1a8a' class='xr-section-summary-in' type='checkbox' disabled ><label for='section-49a73388-6e17-4960-ba9b-acfb2c1b1a8a' class='xr-section-summary'  title='Expand/collapse section'>Dimensions:</label><div class='xr-section-inline-details'><ul class='xr-dim-list'><li><span class='xr-has-index'>count</span>: 184319</li></ul></div><div class='xr-section-details'></div></li><li class='xr-section-item'><input id='section-70026eef-a7a8-4ab3-bc9a-239f65b3401b' class='xr-section-summary-in' type='checkbox'  checked><label for='section-70026eef-a7a8-4ab3-bc9a-239f65b3401b' class='xr-section-summary' >Coordinates: <span>(1)</span></label><div class='xr-section-inline-details'></div><div class='xr-section-details'><ul class='xr-var-list'><li class='xr-var-item'><div class='xr-var-name'><span class='xr-has-index'>count</span></div><div class='xr-var-dims'>(count)</div><div class='xr-var-dtype'>int64</div><div class='xr-var-preview xr-preview'>0 1 2 3 ... 184316 184317 184318</div><input id='attrs-89fce101-dfcb-4ee8-8e69-e604adebe112' class='xr-var-attrs-in' type='checkbox' disabled><label for='attrs-89fce101-dfcb-4ee8-8e69-e604adebe112' title='Show/Hide attributes'><svg class='icon xr-icon-file-text2'><use xlink:href='#icon-file-text2'></use></svg></label><input id='data-1ead2741-d6e0-46be-a113-e206d6f9440e' class='xr-var-data-in' type='checkbox'><label for='data-1ead2741-d6e0-46be-a113-e206d6f9440e' title='Show/Hide data repr'><svg class='icon xr-icon-database'><use xlink:href='#icon-database'></use></svg></label><div class='xr-var-attrs'><dl class='xr-attrs'></dl></div><div class='xr-var-data'><pre>array([     0,      1,      2, ..., 184316, 184317, 184318])</pre></div></li></ul></div></li><li class='xr-section-item'><input id='section-5343882b-453a-4ad8-98e6-1ad59ed93b6a' class='xr-section-summary-in' type='checkbox'  ><label for='section-5343882b-453a-4ad8-98e6-1ad59ed93b6a' class='xr-section-summary' >Data variables: <span>(63)</span></label><div class='xr-section-inline-details'></div><div class='xr-section-details'><ul class='xr-var-list'><li class='xr-var-item'><div class='xr-var-name'><span>WDIR</span></div><div class='xr-var-dims'>(count)</div><div class='xr-var-dtype'>float32</div><div class='xr-var-preview xr-preview'>123.6 128.2 128.7 ... 216.0 217.6</div><input id='attrs-71f9a0c4-d308-4c56-a21b-73f83ae1b543' class='xr-var-attrs-in' type='checkbox' disabled><label for='attrs-71f9a0c4-d308-4c56-a21b-73f83ae1b543' title='Show/Hide attributes'><svg class='icon xr-icon-file-text2'><use xlink:href='#icon-file-text2'></use></svg></label><input id='data-2dfdef63-f8a9-4b4f-b46d-dc37fbe1f74b' class='xr-var-data-in' type='checkbox'><label for='data-2dfdef63-f8a9-4b4f-b46d-dc37fbe1f74b' title='Show/Hide data repr'><svg class='icon xr-icon-database'><use xlink:href='#icon-database'></use></svg></label><div class='xr-var-attrs'><dl class='xr-attrs'></dl></div><div class='xr-var-data'><pre>array([123.600006, 128.20001 , 128.70001 , ..., 218.5     , 216.      ,\n",
       "       217.6     ], dtype=float32)</pre></div></li><li class='xr-var-item'><div class='xr-var-name'><span>WDIR_QC</span></div><div class='xr-var-dims'>(count)</div><div class='xr-var-dtype'>float32</div><div class='xr-var-preview xr-preview'>2.0 2.0 2.0 2.0 ... 2.0 2.0 2.0 2.0</div><input id='attrs-317155a4-b7fb-45fe-99da-27f3a0faf173' class='xr-var-attrs-in' type='checkbox' ><label for='attrs-317155a4-b7fb-45fe-99da-27f3a0faf173' title='Show/Hide attributes'><svg class='icon xr-icon-file-text2'><use xlink:href='#icon-file-text2'></use></svg></label><input id='data-df6c7d31-e1cc-44dd-9de4-4518dbcae5a4' class='xr-var-data-in' type='checkbox'><label for='data-df6c7d31-e1cc-44dd-9de4-4518dbcae5a4' title='Show/Hide data repr'><svg class='icon xr-icon-database'><use xlink:href='#icon-database'></use></svg></label><div class='xr-var-attrs'><dl class='xr-attrs'><dt><span>long_name :</span></dt><dd>quality flag</dd><dt><span>valid_min :</span></dt><dd>0</dd><dt><span>valid_max :</span></dt><dd>9</dd><dt><span>flag_values :</span></dt><dd>[0 1 2 3 4 5 9]</dd><dt><span>flag_meanings :</span></dt><dd>unknown good_data probably_good_data questionable_data bad_data adjusted_data missing_data</dd><dt><span>coordinates :</span></dt><dd>TIME HEIGHT LATITUDE LONGITUDE</dd></dl></div><div class='xr-var-data'><pre>array([2., 2., 2., ..., 2., 2., 2.], dtype=float32)</pre></div></li><li class='xr-var-item'><div class='xr-var-name'><span>WDIR_DM</span></div><div class='xr-var-dims'>(count)</div><div class='xr-var-dtype'>|S1</div><div class='xr-var-preview xr-preview'>b&#x27;D&#x27; b&#x27;D&#x27; b&#x27;D&#x27; ... b&#x27;D&#x27; b&#x27;D&#x27; b&#x27;D&#x27;</div><input id='attrs-7bf01ac1-f00f-40e4-956c-e79208a37a6c' class='xr-var-attrs-in' type='checkbox' ><label for='attrs-7bf01ac1-f00f-40e4-956c-e79208a37a6c' title='Show/Hide attributes'><svg class='icon xr-icon-file-text2'><use xlink:href='#icon-file-text2'></use></svg></label><input id='data-da103f7a-026b-4b1d-8c7f-134160fd6072' class='xr-var-data-in' type='checkbox'><label for='data-da103f7a-026b-4b1d-8c7f-134160fd6072' title='Show/Hide data repr'><svg class='icon xr-icon-database'><use xlink:href='#icon-database'></use></svg></label><div class='xr-var-attrs'><dl class='xr-attrs'><dt><span>long_name :</span></dt><dd>data mode</dd><dt><span>flag_values :</span></dt><dd>R, P, D, M</dd><dt><span>flag_meanings :</span></dt><dd>real-time provisional delayed-mode mixed</dd><dt><span>coordinates :</span></dt><dd>TIME HEIGHT LATITUDE LONGITUDE</dd></dl></div><div class='xr-var-data'><pre>array([b&#x27;D&#x27;, b&#x27;D&#x27;, b&#x27;D&#x27;, ..., b&#x27;D&#x27;, b&#x27;D&#x27;, b&#x27;D&#x27;], dtype=&#x27;|S1&#x27;)</pre></div></li><li class='xr-var-item'><div class='xr-var-name'><span>WSPD</span></div><div class='xr-var-dims'>(count)</div><div class='xr-var-dtype'>float32</div><div class='xr-var-preview xr-preview'>5.39 5.3 5.04 ... 9.7 10.64 9.83</div><input id='attrs-bf512a76-8505-4407-b3b0-43f88bc34555' class='xr-var-attrs-in' type='checkbox' ><label for='attrs-bf512a76-8505-4407-b3b0-43f88bc34555' title='Show/Hide attributes'><svg class='icon xr-icon-file-text2'><use xlink:href='#icon-file-text2'></use></svg></label><input id='data-a7ab0dea-9188-429f-9da4-3013acb5487d' class='xr-var-data-in' type='checkbox'><label for='data-a7ab0dea-9188-429f-9da4-3013acb5487d' title='Show/Hide data repr'><svg class='icon xr-icon-database'><use xlink:href='#icon-database'></use></svg></label><div class='xr-var-attrs'><dl class='xr-attrs'><dt><span>standard_name :</span></dt><dd>wind_speed</dd><dt><span>long_name :</span></dt><dd>Wind Speed</dd><dt><span>units :</span></dt><dd>meters/second</dd><dt><span>valid_min :</span></dt><dd>0.0</dd><dt><span>valid_max :</span></dt><dd>20.0</dd><dt><span>accuracy :</span></dt><dd>0.3 meters/second or 3%</dd><dt><span>resolution :</span></dt><dd>0.2</dd><dt><span>sensor_name :</span></dt><dd>Wind Propeller [R.M. Young/05103]</dd><dt><span>sensor_serial_number :</span></dt><dd>WIND-11280</dd><dt><span>ancillary_variables :</span></dt><dd>WSPD_QC WSPD_DM</dd><dt><span>cell_methods :</span></dt><dd>TIME: mean (interval: 2 minutes) HEIGHT:point LATITUDE:point LONGITUDE:point</dd><dt><span>coordinates :</span></dt><dd>TIME HEIGHT LATITUDE LONGITUDE</dd></dl></div><div class='xr-var-data'><pre>array([ 5.39,  5.3 ,  5.04, ...,  9.7 , 10.64,  9.83], dtype=float32)</pre></div></li><li class='xr-var-item'><div class='xr-var-name'><span>WSPD_QC</span></div><div class='xr-var-dims'>(count)</div><div class='xr-var-dtype'>float32</div><div class='xr-var-preview xr-preview'>2.0 2.0 2.0 2.0 ... 2.0 2.0 2.0 2.0</div><input id='attrs-f85b1eb7-9aca-422c-bbc0-e20c7ceb0133' class='xr-var-attrs-in' type='checkbox' ><label for='attrs-f85b1eb7-9aca-422c-bbc0-e20c7ceb0133' title='Show/Hide attributes'><svg class='icon xr-icon-file-text2'><use xlink:href='#icon-file-text2'></use></svg></label><input id='data-063a9b2b-2796-4927-88e1-49973d84087a' class='xr-var-data-in' type='checkbox'><label for='data-063a9b2b-2796-4927-88e1-49973d84087a' title='Show/Hide data repr'><svg class='icon xr-icon-database'><use xlink:href='#icon-database'></use></svg></label><div class='xr-var-attrs'><dl class='xr-attrs'><dt><span>long_name :</span></dt><dd>quality flag</dd><dt><span>valid_min :</span></dt><dd>0</dd><dt><span>valid_max :</span></dt><dd>9</dd><dt><span>flag_values :</span></dt><dd>[0 1 2 3 4 5 9]</dd><dt><span>flag_meanings :</span></dt><dd>unknown good_data probably_good_data questionable_data bad_data adjusted_data missing_data</dd><dt><span>coordinates :</span></dt><dd>TIME HEIGHT LATITUDE LONGITUDE</dd></dl></div><div class='xr-var-data'><pre>array([2., 2., 2., ..., 2., 2., 2.], dtype=float32)</pre></div></li><li class='xr-var-item'><div class='xr-var-name'><span>WSPD_DM</span></div><div class='xr-var-dims'>(count)</div><div class='xr-var-dtype'>|S1</div><div class='xr-var-preview xr-preview'>b&#x27;D&#x27; b&#x27;D&#x27; b&#x27;D&#x27; ... b&#x27;D&#x27; b&#x27;D&#x27; b&#x27;D&#x27;</div><input id='attrs-df2995a2-f807-432e-ba0b-228126e5c187' class='xr-var-attrs-in' type='checkbox' ><label for='attrs-df2995a2-f807-432e-ba0b-228126e5c187' title='Show/Hide attributes'><svg class='icon xr-icon-file-text2'><use xlink:href='#icon-file-text2'></use></svg></label><input id='data-2fbffb2d-28c1-4cdf-a8a9-8bc06068b959' class='xr-var-data-in' type='checkbox'><label for='data-2fbffb2d-28c1-4cdf-a8a9-8bc06068b959' title='Show/Hide data repr'><svg class='icon xr-icon-database'><use xlink:href='#icon-database'></use></svg></label><div class='xr-var-attrs'><dl class='xr-attrs'><dt><span>long_name :</span></dt><dd>data mode</dd><dt><span>flag_values :</span></dt><dd>R, P, D, M</dd><dt><span>flag_meanings :</span></dt><dd>real-time provisional delayed-mode mixed</dd><dt><span>coordinates :</span></dt><dd>TIME HEIGHT LATITUDE LONGITUDE</dd></dl></div><div class='xr-var-data'><pre>array([b&#x27;D&#x27;, b&#x27;D&#x27;, b&#x27;D&#x27;, ..., b&#x27;D&#x27;, b&#x27;D&#x27;, b&#x27;D&#x27;], dtype=&#x27;|S1&#x27;)</pre></div></li><li class='xr-var-item'><div class='xr-var-name'><span>UWND</span></div><div class='xr-var-dims'>(count)</div><div class='xr-var-dtype'>float32</div><div class='xr-var-preview xr-preview'>-2.98 -3.28 -3.15 ... -8.6 -7.78</div><input id='attrs-7fca3ea0-746e-4383-975b-14397bc256ef' class='xr-var-attrs-in' type='checkbox' ><label for='attrs-7fca3ea0-746e-4383-975b-14397bc256ef' title='Show/Hide attributes'><svg class='icon xr-icon-file-text2'><use xlink:href='#icon-file-text2'></use></svg></label><input id='data-3bc893c6-3992-42e8-89c5-d394ce0e6764' class='xr-var-data-in' type='checkbox'><label for='data-3bc893c6-3992-42e8-89c5-d394ce0e6764' title='Show/Hide data repr'><svg class='icon xr-icon-database'><use xlink:href='#icon-database'></use></svg></label><div class='xr-var-attrs'><dl class='xr-attrs'><dt><span>standard_name :</span></dt><dd>eastward_wind</dd><dt><span>long_name :</span></dt><dd>Wind Speed U Component</dd><dt><span>units :</span></dt><dd>meters/second</dd><dt><span>valid_min :</span></dt><dd>0.0</dd><dt><span>valid_max :</span></dt><dd>20.0</dd><dt><span>accuracy :</span></dt><dd>0.3 meters/second or 3%</dd><dt><span>resolution :</span></dt><dd>0.2</dd><dt><span>sensor_name :</span></dt><dd>Wind Propeller [R.M. Young/05103]</dd><dt><span>sensor_serial_number :</span></dt><dd>WIND-11280</dd><dt><span>ancillary_variables :</span></dt><dd>WDIR_QC WDIR_DM WSPD_QC WSPD_DM</dd><dt><span>cell_methods :</span></dt><dd>TIME: mean (interval: 2 minutes) HEIGHT:point LATITUDE:point LONGITUDE:point</dd><dt><span>coordinates :</span></dt><dd>TIME HEIGHT LATITUDE LONGITUDE</dd></dl></div><div class='xr-var-data'><pre>array([-2.98, -3.28, -3.15, ..., -7.59, -8.6 , -7.78], dtype=float32)</pre></div></li><li class='xr-var-item'><div class='xr-var-name'><span>VWND</span></div><div class='xr-var-dims'>(count)</div><div class='xr-var-dtype'>float32</div><div class='xr-var-preview xr-preview'>4.49 4.17 3.93 ... -6.04 -6.25 -6.0</div><input id='attrs-c68641d2-62b1-4a54-97fc-b4f3fd2a8ea0' class='xr-var-attrs-in' type='checkbox' ><label for='attrs-c68641d2-62b1-4a54-97fc-b4f3fd2a8ea0' title='Show/Hide attributes'><svg class='icon xr-icon-file-text2'><use xlink:href='#icon-file-text2'></use></svg></label><input id='data-50584dc0-5242-4495-b61f-ed42595c318f' class='xr-var-data-in' type='checkbox'><label for='data-50584dc0-5242-4495-b61f-ed42595c318f' title='Show/Hide data repr'><svg class='icon xr-icon-database'><use xlink:href='#icon-database'></use></svg></label><div class='xr-var-attrs'><dl class='xr-attrs'><dt><span>standard_name :</span></dt><dd>northward_wind</dd><dt><span>long_name :</span></dt><dd>Wind Speed V Component</dd><dt><span>units :</span></dt><dd>meters/second</dd><dt><span>valid_min :</span></dt><dd>0.0</dd><dt><span>valid_max :</span></dt><dd>20.0</dd><dt><span>accuracy :</span></dt><dd>0.3 meters/second or 3%</dd><dt><span>resolution :</span></dt><dd>0.2</dd><dt><span>sensor_name :</span></dt><dd>Wind Propeller [R.M. Young/05103]</dd><dt><span>sensor_serial_number :</span></dt><dd>WIND-11280</dd><dt><span>ancillary_variables :</span></dt><dd>WDIR_QC WDIR_DM WSPD_QC WSPD_DM</dd><dt><span>cell_methods :</span></dt><dd>TIME: mean (interval: 2 minutes) HEIGHT:point LATITUDE:point LONGITUDE:point</dd><dt><span>coordinates :</span></dt><dd>TIME HEIGHT LATITUDE LONGITUDE</dd></dl></div><div class='xr-var-data'><pre>array([ 4.49,  4.17,  3.93, ..., -6.04, -6.25, -6.  ], dtype=float32)</pre></div></li><li class='xr-var-item'><div class='xr-var-name'><span>SST</span></div><div class='xr-var-dims'>(count)</div><div class='xr-var-dtype'>float32</div><div class='xr-var-preview xr-preview'>23.75 23.74 23.94 ... 26.66 26.66</div><input id='attrs-a27bddfc-befb-45b9-bcc2-a9f2af3e7806' class='xr-var-attrs-in' type='checkbox' ><label for='attrs-a27bddfc-befb-45b9-bcc2-a9f2af3e7806' title='Show/Hide attributes'><svg class='icon xr-icon-file-text2'><use xlink:href='#icon-file-text2'></use></svg></label><input id='data-fa0b4082-3f91-4c3f-981a-9df9b2dd9275' class='xr-var-data-in' type='checkbox'><label for='data-fa0b4082-3f91-4c3f-981a-9df9b2dd9275' title='Show/Hide data repr'><svg class='icon xr-icon-database'><use xlink:href='#icon-database'></use></svg></label><div class='xr-var-attrs'><dl class='xr-attrs'><dt><span>standard_name :</span></dt><dd>sea_surface_temperature</dd><dt><span>long_name :</span></dt><dd>Sea Surface Temperature</dd><dt><span>units :</span></dt><dd>degree_Celsius</dd><dt><span>valid_min :</span></dt><dd>-5.0</dd><dt><span>valid_max :</span></dt><dd>35.0</dd><dt><span>accuracy :</span></dt><dd>0.003</dd><dt><span>resolution :</span></dt><dd>0.001</dd><dt><span>sensor_name :</span></dt><dd>Thermistor [Seabird/SBE 16/37]</dd><dt><span>sensor_serial_number :</span></dt><dd>SST-11736/1m </dd><dt><span>ancillary_variables :</span></dt><dd>SST_QC SST_DM</dd><dt><span>cell_methods :</span></dt><dd>TIME:point DEPTH:point LATITUDE:point LONGITUDE:point</dd><dt><span>reference_scale :</span></dt><dd>ITS-90</dd><dt><span>coordinates :</span></dt><dd>TIME DEPTH LATITUDE LONGITUDE</dd></dl></div><div class='xr-var-data'><pre>array([23.745, 23.743, 23.938, ..., 26.757, 26.661, 26.662], dtype=float32)</pre></div></li><li class='xr-var-item'><div class='xr-var-name'><span>SST_QC</span></div><div class='xr-var-dims'>(count)</div><div class='xr-var-dtype'>float32</div><div class='xr-var-preview xr-preview'>2.0 2.0 2.0 2.0 ... 2.0 2.0 2.0 2.0</div><input id='attrs-81baf79c-eb34-442b-bd77-f034faf73f2a' class='xr-var-attrs-in' type='checkbox' ><label for='attrs-81baf79c-eb34-442b-bd77-f034faf73f2a' title='Show/Hide attributes'><svg class='icon xr-icon-file-text2'><use xlink:href='#icon-file-text2'></use></svg></label><input id='data-d8e9d31c-d7a5-4beb-a3c4-d2e06c7778b3' class='xr-var-data-in' type='checkbox'><label for='data-d8e9d31c-d7a5-4beb-a3c4-d2e06c7778b3' title='Show/Hide data repr'><svg class='icon xr-icon-database'><use xlink:href='#icon-database'></use></svg></label><div class='xr-var-attrs'><dl class='xr-attrs'><dt><span>long_name :</span></dt><dd>quality flag</dd><dt><span>valid_min :</span></dt><dd>0</dd><dt><span>valid_max :</span></dt><dd>9</dd><dt><span>flag_values :</span></dt><dd>[0 1 2 3 4 5 9]</dd><dt><span>flag_meanings :</span></dt><dd>unknown good_data probably_good_data questionable_data bad_data adjusted_data missing_data</dd><dt><span>coordinates :</span></dt><dd>TIME DEPTH LATITUDE LONGITUDE</dd></dl></div><div class='xr-var-data'><pre>array([2., 2., 2., ..., 2., 2., 2.], dtype=float32)</pre></div></li><li class='xr-var-item'><div class='xr-var-name'><span>SST_DM</span></div><div class='xr-var-dims'>(count)</div><div class='xr-var-dtype'>|S1</div><div class='xr-var-preview xr-preview'>b&#x27;D&#x27; b&#x27;D&#x27; b&#x27;D&#x27; ... b&#x27;D&#x27; b&#x27;D&#x27; b&#x27;D&#x27;</div><input id='attrs-aae6a03d-850d-446e-800b-6f0ef76d1a89' class='xr-var-attrs-in' type='checkbox' ><label for='attrs-aae6a03d-850d-446e-800b-6f0ef76d1a89' title='Show/Hide attributes'><svg class='icon xr-icon-file-text2'><use xlink:href='#icon-file-text2'></use></svg></label><input id='data-144f2deb-77be-4729-988b-9e2a7374b2e4' class='xr-var-data-in' type='checkbox'><label for='data-144f2deb-77be-4729-988b-9e2a7374b2e4' title='Show/Hide data repr'><svg class='icon xr-icon-database'><use xlink:href='#icon-database'></use></svg></label><div class='xr-var-attrs'><dl class='xr-attrs'><dt><span>long_name :</span></dt><dd>data mode</dd><dt><span>flag_values :</span></dt><dd>R, P, D, M</dd><dt><span>flag_meanings :</span></dt><dd>real-time provisional delayed-mode mixed</dd><dt><span>coordinates :</span></dt><dd>TIME DEPTH LATITUDE LONGITUDE</dd></dl></div><div class='xr-var-data'><pre>array([b&#x27;D&#x27;, b&#x27;D&#x27;, b&#x27;D&#x27;, ..., b&#x27;D&#x27;, b&#x27;D&#x27;, b&#x27;D&#x27;], dtype=&#x27;|S1&#x27;)</pre></div></li><li class='xr-var-item'><div class='xr-var-name'><span>RELH</span></div><div class='xr-var-dims'>(count)</div><div class='xr-var-dtype'>float32</div><div class='xr-var-preview xr-preview'>73.83 73.3 75.73 ... 93.63 94.33</div><input id='attrs-1a2e0663-a59a-48c4-b764-a5e3e6d29ca9' class='xr-var-attrs-in' type='checkbox' ><label for='attrs-1a2e0663-a59a-48c4-b764-a5e3e6d29ca9' title='Show/Hide attributes'><svg class='icon xr-icon-file-text2'><use xlink:href='#icon-file-text2'></use></svg></label><input id='data-ccb018de-e5be-4a0b-9635-7ea2d0b5a121' class='xr-var-data-in' type='checkbox'><label for='data-ccb018de-e5be-4a0b-9635-7ea2d0b5a121' title='Show/Hide data repr'><svg class='icon xr-icon-database'><use xlink:href='#icon-database'></use></svg></label><div class='xr-var-attrs'><dl class='xr-attrs'><dt><span>standard_name :</span></dt><dd>relative_humidity</dd><dt><span>long_name :</span></dt><dd>Relative Humidity</dd><dt><span>units :</span></dt><dd>1</dd><dt><span>valid_min :</span></dt><dd>0.0</dd><dt><span>valid_max :</span></dt><dd>100.0</dd><dt><span>accuracy :</span></dt><dd>2.7%RH in range of 55-95 %RH</dd><dt><span>resolution :</span></dt><dd>0.4</dd><dt><span>sensor_name :</span></dt><dd>Humidity-temperature Capacitance [Rotronics/MP101A]</dd><dt><span>sensor_serial_number :</span></dt><dd>RH-58340</dd><dt><span>ancillary_variables :</span></dt><dd>RELH_QC RELH_DM</dd><dt><span>cell_methods :</span></dt><dd>TIME: mean (interval: 2 minutes) HEIGHT:point LATITUDE:point LONGITUDE:point</dd><dt><span>coordinates :</span></dt><dd>TIME HEIGHT LATITUDE LONGITUDE</dd></dl></div><div class='xr-var-data'><pre>array([73.83, 73.3 , 75.73, ..., 88.56, 93.63, 94.33], dtype=float32)</pre></div></li><li class='xr-var-item'><div class='xr-var-name'><span>RELH_QC</span></div><div class='xr-var-dims'>(count)</div><div class='xr-var-dtype'>float32</div><div class='xr-var-preview xr-preview'>2.0 2.0 2.0 2.0 ... 2.0 2.0 2.0 2.0</div><input id='attrs-9edb9a20-e770-40f8-ad7e-86b71901e907' class='xr-var-attrs-in' type='checkbox' ><label for='attrs-9edb9a20-e770-40f8-ad7e-86b71901e907' title='Show/Hide attributes'><svg class='icon xr-icon-file-text2'><use xlink:href='#icon-file-text2'></use></svg></label><input id='data-dd85a60b-9c63-48c0-a151-f2d4e26fbfa2' class='xr-var-data-in' type='checkbox'><label for='data-dd85a60b-9c63-48c0-a151-f2d4e26fbfa2' title='Show/Hide data repr'><svg class='icon xr-icon-database'><use xlink:href='#icon-database'></use></svg></label><div class='xr-var-attrs'><dl class='xr-attrs'><dt><span>long_name :</span></dt><dd>quality flag</dd><dt><span>valid_min :</span></dt><dd>0</dd><dt><span>valid_max :</span></dt><dd>9</dd><dt><span>flag_values :</span></dt><dd>[0 1 2 3 4 5 9]</dd><dt><span>flag_meanings :</span></dt><dd>unknown good_data probably_good_data questionable_data bad_data adjusted_data missing_data</dd><dt><span>coordinates :</span></dt><dd>TIME HEIGHT LATITUDE LONGITUDE</dd></dl></div><div class='xr-var-data'><pre>array([2., 2., 2., ..., 2., 2., 2.], dtype=float32)</pre></div></li><li class='xr-var-item'><div class='xr-var-name'><span>RELH_DM</span></div><div class='xr-var-dims'>(count)</div><div class='xr-var-dtype'>|S1</div><div class='xr-var-preview xr-preview'>b&#x27;D&#x27; b&#x27;D&#x27; b&#x27;D&#x27; ... b&#x27;D&#x27; b&#x27;D&#x27; b&#x27;D&#x27;</div><input id='attrs-45dc9f07-e672-4e04-a840-4d29a387772d' class='xr-var-attrs-in' type='checkbox' ><label for='attrs-45dc9f07-e672-4e04-a840-4d29a387772d' title='Show/Hide attributes'><svg class='icon xr-icon-file-text2'><use xlink:href='#icon-file-text2'></use></svg></label><input id='data-2c0dfba4-5c8a-4bb7-9236-bdbd77c9830a' class='xr-var-data-in' type='checkbox'><label for='data-2c0dfba4-5c8a-4bb7-9236-bdbd77c9830a' title='Show/Hide data repr'><svg class='icon xr-icon-database'><use xlink:href='#icon-database'></use></svg></label><div class='xr-var-attrs'><dl class='xr-attrs'><dt><span>long_name :</span></dt><dd>data mode</dd><dt><span>flag_values :</span></dt><dd>R, P, D, M</dd><dt><span>flag_meanings :</span></dt><dd>real-time provisional delayed-mode mixed</dd><dt><span>coordinates :</span></dt><dd>TIME HEIGHT LATITUDE LONGITUDE</dd></dl></div><div class='xr-var-data'><pre>array([b&#x27;D&#x27;, b&#x27;D&#x27;, b&#x27;D&#x27;, ..., b&#x27;D&#x27;, b&#x27;D&#x27;, b&#x27;D&#x27;], dtype=&#x27;|S1&#x27;)</pre></div></li><li class='xr-var-item'><div class='xr-var-name'><span>AIRT</span></div><div class='xr-var-dims'>(count)</div><div class='xr-var-dtype'>float32</div><div class='xr-var-preview xr-preview'>22.93 22.84 23.2 ... 25.11 25.17</div><input id='attrs-b913dd7c-77de-4d91-a095-1cb7fec2997c' class='xr-var-attrs-in' type='checkbox' ><label for='attrs-b913dd7c-77de-4d91-a095-1cb7fec2997c' title='Show/Hide attributes'><svg class='icon xr-icon-file-text2'><use xlink:href='#icon-file-text2'></use></svg></label><input id='data-f1087ef5-ffec-4021-94ab-7461a6b75c7a' class='xr-var-data-in' type='checkbox'><label for='data-f1087ef5-ffec-4021-94ab-7461a6b75c7a' title='Show/Hide data repr'><svg class='icon xr-icon-database'><use xlink:href='#icon-database'></use></svg></label><div class='xr-var-attrs'><dl class='xr-attrs'><dt><span>standard_name :</span></dt><dd>air_temperature</dd><dt><span>long_name :</span></dt><dd>Air Temperature</dd><dt><span>units :</span></dt><dd>degree_Celsius</dd><dt><span>valid_min :</span></dt><dd>0.0</dd><dt><span>valid_max :</span></dt><dd>40.0</dd><dt><span>accuracy :</span></dt><dd>0.2 Degree C in range of 14-32 Degrees C</dd><dt><span>resolution :</span></dt><dd>0.01</dd><dt><span>sensor_name :</span></dt><dd>Humidity-temperature Pt100 RTD [Rotronics/MP101A]</dd><dt><span>sensor_serial_number :</span></dt><dd>AIR-58340</dd><dt><span>ancillary_variables :</span></dt><dd>AIRT_QC AIRT_DM</dd><dt><span>cell_methods :</span></dt><dd>TIME: mean (interval: 2 minutes) HEIGHT:point LATITUDE:point LONGITUDE:point</dd><dt><span>coordinates :</span></dt><dd>TIME HEIGHT LATITUDE LONGITUDE</dd></dl></div><div class='xr-var-data'><pre>array([22.93, 22.84, 23.2 , ..., 26.26, 25.11, 25.17], dtype=float32)</pre></div></li><li class='xr-var-item'><div class='xr-var-name'><span>AIRT_QC</span></div><div class='xr-var-dims'>(count)</div><div class='xr-var-dtype'>float32</div><div class='xr-var-preview xr-preview'>2.0 2.0 2.0 2.0 ... 2.0 2.0 2.0 2.0</div><input id='attrs-12d2bb9a-60a1-43d1-b89e-119a7094031d' class='xr-var-attrs-in' type='checkbox' ><label for='attrs-12d2bb9a-60a1-43d1-b89e-119a7094031d' title='Show/Hide attributes'><svg class='icon xr-icon-file-text2'><use xlink:href='#icon-file-text2'></use></svg></label><input id='data-49c43bf3-64bd-40ae-ad95-c894d06aa1d2' class='xr-var-data-in' type='checkbox'><label for='data-49c43bf3-64bd-40ae-ad95-c894d06aa1d2' title='Show/Hide data repr'><svg class='icon xr-icon-database'><use xlink:href='#icon-database'></use></svg></label><div class='xr-var-attrs'><dl class='xr-attrs'><dt><span>long_name :</span></dt><dd>quality flag</dd><dt><span>valid_min :</span></dt><dd>0</dd><dt><span>valid_max :</span></dt><dd>9</dd><dt><span>flag_values :</span></dt><dd>[0 1 2 3 4 5 9]</dd><dt><span>flag_meanings :</span></dt><dd>unknown good_data probably_good_data questionable_data bad_data adjusted_data missing_data</dd><dt><span>coordinates :</span></dt><dd>TIME HEIGHT LATITUDE LONGITUDE</dd></dl></div><div class='xr-var-data'><pre>array([2., 2., 2., ..., 2., 2., 2.], dtype=float32)</pre></div></li><li class='xr-var-item'><div class='xr-var-name'><span>AIRT_DM</span></div><div class='xr-var-dims'>(count)</div><div class='xr-var-dtype'>|S1</div><div class='xr-var-preview xr-preview'>b&#x27;D&#x27; b&#x27;D&#x27; b&#x27;D&#x27; ... b&#x27;D&#x27; b&#x27;D&#x27; b&#x27;D&#x27;</div><input id='attrs-31e4d0f4-1735-4b46-b26f-f442e741803a' class='xr-var-attrs-in' type='checkbox' ><label for='attrs-31e4d0f4-1735-4b46-b26f-f442e741803a' title='Show/Hide attributes'><svg class='icon xr-icon-file-text2'><use xlink:href='#icon-file-text2'></use></svg></label><input id='data-467a7006-7f9a-4e39-b172-13daeb8fc42a' class='xr-var-data-in' type='checkbox'><label for='data-467a7006-7f9a-4e39-b172-13daeb8fc42a' title='Show/Hide data repr'><svg class='icon xr-icon-database'><use xlink:href='#icon-database'></use></svg></label><div class='xr-var-attrs'><dl class='xr-attrs'><dt><span>long_name :</span></dt><dd>data mode</dd><dt><span>flag_values :</span></dt><dd>R, P, D, M</dd><dt><span>flag_meanings :</span></dt><dd>real-time provisional delayed-mode mixed</dd><dt><span>coordinates :</span></dt><dd>TIME HEIGHT LATITUDE LONGITUDE</dd></dl></div><div class='xr-var-data'><pre>array([b&#x27;D&#x27;, b&#x27;D&#x27;, b&#x27;D&#x27;, ..., b&#x27;D&#x27;, b&#x27;D&#x27;, b&#x27;D&#x27;], dtype=&#x27;|S1&#x27;)</pre></div></li><li class='xr-var-item'><div class='xr-var-name'><span>WSPD_10N</span></div><div class='xr-var-dims'>(count)</div><div class='xr-var-dtype'>float64</div><div class='xr-var-preview xr-preview'>5.926 5.837 5.542 ... 11.74 10.82</div><input id='attrs-fcc9ed2e-4c9d-42f6-ace1-2f89fc7061e5' class='xr-var-attrs-in' type='checkbox' ><label for='attrs-fcc9ed2e-4c9d-42f6-ace1-2f89fc7061e5' title='Show/Hide attributes'><svg class='icon xr-icon-file-text2'><use xlink:href='#icon-file-text2'></use></svg></label><input id='data-dc212eb8-6bbf-4a84-9f7d-5038a3cccba2' class='xr-var-data-in' type='checkbox'><label for='data-dc212eb8-6bbf-4a84-9f7d-5038a3cccba2' title='Show/Hide data repr'><svg class='icon xr-icon-database'><use xlink:href='#icon-database'></use></svg></label><div class='xr-var-attrs'><dl class='xr-attrs'><dt><span>units :</span></dt><dd>meters/second</dd><dt><span>long_name :</span></dt><dd>10 m neutral winds from COARE3.5</dd><dt><span>vars_used_to_calculate :</span></dt><dd>SST RH AIRT WSPD</dd></dl></div><div class='xr-var-data'><pre>array([ 5.92616114,  5.83692496,  5.54152742, ..., 10.63778828,\n",
       "       11.73990277, 10.82380597])</pre></div></li><li class='xr-var-item'><div class='xr-var-name'><span>WSPD_10</span></div><div class='xr-var-dims'>(count)</div><div class='xr-var-dtype'>float64</div><div class='xr-var-preview xr-preview'>5.71 5.608 5.332 ... 11.6 10.68</div><input id='attrs-eaf0b6ce-6503-476d-8d44-93f5631a9043' class='xr-var-attrs-in' type='checkbox' ><label for='attrs-eaf0b6ce-6503-476d-8d44-93f5631a9043' title='Show/Hide attributes'><svg class='icon xr-icon-file-text2'><use xlink:href='#icon-file-text2'></use></svg></label><input id='data-25842cb1-8b2c-4b87-a508-219a65b3bdd8' class='xr-var-data-in' type='checkbox'><label for='data-25842cb1-8b2c-4b87-a508-219a65b3bdd8' title='Show/Hide data repr'><svg class='icon xr-icon-database'><use xlink:href='#icon-database'></use></svg></label><div class='xr-var-attrs'><dl class='xr-attrs'><dt><span>units :</span></dt><dd>meters/second</dd><dt><span>long_name :</span></dt><dd>10 m winds from COARE3.5</dd><dt><span>vars_used_to_calculate :</span></dt><dd>SST RH AIRT WSPD</dd></dl></div><div class='xr-var-data'><pre>array([ 5.70954285,  5.60758902,  5.33155489, ..., 10.56418869,\n",
       "       11.60119697, 10.67700556])</pre></div></li><li class='xr-var-item'><div class='xr-var-name'><span>mean_WSPD</span></div><div class='xr-var-dims'>(count)</div><div class='xr-var-dtype'>float64</div><div class='xr-var-preview xr-preview'>nan nan 5.543 ... 9.763 10.44 10.48</div><input id='attrs-2af49943-74c4-46fd-9169-a1f35278df24' class='xr-var-attrs-in' type='checkbox' ><label for='attrs-2af49943-74c4-46fd-9169-a1f35278df24' title='Show/Hide attributes'><svg class='icon xr-icon-file-text2'><use xlink:href='#icon-file-text2'></use></svg></label><input id='data-1ef27bc6-49ef-429d-b0d0-e958ac8fbdc8' class='xr-var-data-in' type='checkbox'><label for='data-1ef27bc6-49ef-429d-b0d0-e958ac8fbdc8' title='Show/Hide data repr'><svg class='icon xr-icon-database'><use xlink:href='#icon-database'></use></svg></label><div class='xr-var-attrs'><dl class='xr-attrs'><dt><span>statistic :</span></dt><dd>running mean with 12*10 minutes using convolution</dd></dl></div><div class='xr-var-data'><pre>array([        nan,         nan,  5.54250002, ...,  9.7633334 ,\n",
       "       10.44166668, 10.48333335])</pre></div></li><li class='xr-var-item'><div class='xr-var-name'><span>std_WSPD</span></div><div class='xr-var-dims'>(count)</div><div class='xr-var-dtype'>float64</div><div class='xr-var-preview xr-preview'>nan nan 0.4685 ... 0.6479 0.7015</div><input id='attrs-3a8585b5-9191-491f-83ac-747f8f7f03b8' class='xr-var-attrs-in' type='checkbox' ><label for='attrs-3a8585b5-9191-491f-83ac-747f8f7f03b8' title='Show/Hide attributes'><svg class='icon xr-icon-file-text2'><use xlink:href='#icon-file-text2'></use></svg></label><input id='data-43fdb1dc-eaa2-4c59-bd78-f83e03646b69' class='xr-var-data-in' type='checkbox'><label for='data-43fdb1dc-eaa2-4c59-bd78-f83e03646b69' title='Show/Hide data repr'><svg class='icon xr-icon-database'><use xlink:href='#icon-database'></use></svg></label><div class='xr-var-attrs'><dl class='xr-attrs'><dt><span>statistic :</span></dt><dd>running std. dev with 12*10 minutes using convolution</dd></dl></div><div class='xr-var-data'><pre>array([       nan,        nan, 0.46849189, ..., 0.43930458, 0.64793028,\n",
       "       0.70150274])</pre></div></li><li class='xr-var-item'><div class='xr-var-name'><span>mean_WSPD_10N</span></div><div class='xr-var-dims'>(count)</div><div class='xr-var-dtype'>float64</div><div class='xr-var-preview xr-preview'>nan nan 6.083 ... 10.71 11.51 11.56</div><input id='attrs-7daca1ad-1cdb-442f-ab70-6c329582cd28' class='xr-var-attrs-in' type='checkbox' ><label for='attrs-7daca1ad-1cdb-442f-ab70-6c329582cd28' title='Show/Hide attributes'><svg class='icon xr-icon-file-text2'><use xlink:href='#icon-file-text2'></use></svg></label><input id='data-bcd1d749-3a73-4c2a-890c-6e2a2a90e485' class='xr-var-data-in' type='checkbox'><label for='data-bcd1d749-3a73-4c2a-890c-6e2a2a90e485' title='Show/Hide data repr'><svg class='icon xr-icon-database'><use xlink:href='#icon-database'></use></svg></label><div class='xr-var-attrs'><dl class='xr-attrs'><dt><span>statistic :</span></dt><dd>running mean with 12*10 minutes using convolution</dd></dl></div><div class='xr-var-data'><pre>array([        nan,         nan,  6.08281355, ..., 10.71003456,\n",
       "       11.51475487, 11.56160688])</pre></div></li><li class='xr-var-item'><div class='xr-var-name'><span>std_WSPD_10N</span></div><div class='xr-var-dims'>(count)</div><div class='xr-var-dtype'>float64</div><div class='xr-var-preview xr-preview'>nan nan 0.5073 ... 0.7341 0.794</div><input id='attrs-c8c5c46c-24cd-479c-8a71-549fcd74c9ad' class='xr-var-attrs-in' type='checkbox' ><label for='attrs-c8c5c46c-24cd-479c-8a71-549fcd74c9ad' title='Show/Hide attributes'><svg class='icon xr-icon-file-text2'><use xlink:href='#icon-file-text2'></use></svg></label><input id='data-47763d1b-d317-49fa-ab05-6bf1814cb149' class='xr-var-data-in' type='checkbox'><label for='data-47763d1b-d317-49fa-ab05-6bf1814cb149' title='Show/Hide data repr'><svg class='icon xr-icon-database'><use xlink:href='#icon-database'></use></svg></label><div class='xr-var-attrs'><dl class='xr-attrs'><dt><span>statistic :</span></dt><dd>running std. dev with 12*10 minutes using convolution</dd></dl></div><div class='xr-var-data'><pre>array([       nan,        nan, 0.50726429, ..., 0.49449757, 0.73409726,\n",
       "       0.79398251])</pre></div></li><li class='xr-var-item'><div class='xr-var-name'><span>mean_SST</span></div><div class='xr-var-dims'>(count)</div><div class='xr-var-dtype'>float64</div><div class='xr-var-preview xr-preview'>nan nan 23.96 ... 26.76 26.66 26.66</div><input id='attrs-49fa0740-9cff-4b89-ad11-add1882ae2b6' class='xr-var-attrs-in' type='checkbox' ><label for='attrs-49fa0740-9cff-4b89-ad11-add1882ae2b6' title='Show/Hide attributes'><svg class='icon xr-icon-file-text2'><use xlink:href='#icon-file-text2'></use></svg></label><input id='data-6cfe7a0a-d608-4924-932d-291b1c56d7c0' class='xr-var-data-in' type='checkbox'><label for='data-6cfe7a0a-d608-4924-932d-291b1c56d7c0' title='Show/Hide data repr'><svg class='icon xr-icon-database'><use xlink:href='#icon-database'></use></svg></label><div class='xr-var-attrs'><dl class='xr-attrs'><dt><span>statistic :</span></dt><dd>running mean with 12*10 minutes using convolution</dd></dl></div><div class='xr-var-data'><pre>array([        nan,         nan, 23.95991659, ..., 26.75683339,\n",
       "       26.66216675, 26.6596667 ])</pre></div></li><li class='xr-var-item'><div class='xr-var-name'><span>std_SST</span></div><div class='xr-var-dims'>(count)</div><div class='xr-var-dtype'>float64</div><div class='xr-var-preview xr-preview'>nan nan ... 0.005831 0.006778</div><input id='attrs-a3c831cb-860d-45ca-9e46-606c39f7f3ce' class='xr-var-attrs-in' type='checkbox' ><label for='attrs-a3c831cb-860d-45ca-9e46-606c39f7f3ce' title='Show/Hide attributes'><svg class='icon xr-icon-file-text2'><use xlink:href='#icon-file-text2'></use></svg></label><input id='data-18832b15-7a18-4e47-ac69-432c10fc7fd2' class='xr-var-data-in' type='checkbox'><label for='data-18832b15-7a18-4e47-ac69-432c10fc7fd2' title='Show/Hide data repr'><svg class='icon xr-icon-database'><use xlink:href='#icon-database'></use></svg></label><div class='xr-var-attrs'><dl class='xr-attrs'><dt><span>statistic :</span></dt><dd>running std. dev with 12*10 minutes using convolution</dd></dl></div><div class='xr-var-data'><pre>array([       nan,        nan, 0.04636298, ..., 0.0017017 , 0.00583132,\n",
       "       0.0067782 ])</pre></div></li><li class='xr-var-item'><div class='xr-var-name'><span>mean_AIRT</span></div><div class='xr-var-dims'>(count)</div><div class='xr-var-dtype'>float64</div><div class='xr-var-preview xr-preview'>nan nan 23.23 ... 26.26 25.16 25.17</div><input id='attrs-c58822d4-63eb-4fa2-a232-c4c74b64ddcf' class='xr-var-attrs-in' type='checkbox' ><label for='attrs-c58822d4-63eb-4fa2-a232-c4c74b64ddcf' title='Show/Hide attributes'><svg class='icon xr-icon-file-text2'><use xlink:href='#icon-file-text2'></use></svg></label><input id='data-24ec83ce-eaee-4c25-be27-cd12538ae2ed' class='xr-var-data-in' type='checkbox'><label for='data-24ec83ce-eaee-4c25-be27-cd12538ae2ed' title='Show/Hide data repr'><svg class='icon xr-icon-database'><use xlink:href='#icon-database'></use></svg></label><div class='xr-var-attrs'><dl class='xr-attrs'><dt><span>statistic :</span></dt><dd>running mean with 12*10 minutes using convolution</dd></dl></div><div class='xr-var-data'><pre>array([        nan,         nan, 23.22750044, ..., 26.25916656,\n",
       "       25.16416677, 25.17416684])</pre></div></li><li class='xr-var-item'><div class='xr-var-name'><span>std_AIRT</span></div><div class='xr-var-dims'>(count)</div><div class='xr-var-dtype'>float64</div><div class='xr-var-preview xr-preview'>nan nan 0.04324 ... 0.1168 0.1275</div><input id='attrs-61496061-b5fa-4b04-ae7e-83d6cc06e735' class='xr-var-attrs-in' type='checkbox' ><label for='attrs-61496061-b5fa-4b04-ae7e-83d6cc06e735' title='Show/Hide attributes'><svg class='icon xr-icon-file-text2'><use xlink:href='#icon-file-text2'></use></svg></label><input id='data-3129b277-8b6d-4122-b834-c01dfe7d64c8' class='xr-var-data-in' type='checkbox'><label for='data-3129b277-8b6d-4122-b834-c01dfe7d64c8' title='Show/Hide data repr'><svg class='icon xr-icon-database'><use xlink:href='#icon-database'></use></svg></label><div class='xr-var-attrs'><dl class='xr-attrs'><dt><span>statistic :</span></dt><dd>running std. dev with 12*10 minutes using convolution</dd></dl></div><div class='xr-var-data'><pre>array([       nan,        nan, 0.043239  , ..., 0.10893222, 0.11684567,\n",
       "       0.12754546])</pre></div></li><li class='xr-var-item'><div class='xr-var-name'><span>mean_RELH</span></div><div class='xr-var-dims'>(count)</div><div class='xr-var-dtype'>float64</div><div class='xr-var-preview xr-preview'>nan nan 75.38 ... 88.67 94.33 94.43</div><input id='attrs-fa2ba931-6e0a-49a6-8381-6bf83791fe74' class='xr-var-attrs-in' type='checkbox' ><label for='attrs-fa2ba931-6e0a-49a6-8381-6bf83791fe74' title='Show/Hide attributes'><svg class='icon xr-icon-file-text2'><use xlink:href='#icon-file-text2'></use></svg></label><input id='data-f9500620-cdd2-4dc2-a2d8-89b7c02b085a' class='xr-var-data-in' type='checkbox'><label for='data-f9500620-cdd2-4dc2-a2d8-89b7c02b085a' title='Show/Hide data repr'><svg class='icon xr-icon-database'><use xlink:href='#icon-database'></use></svg></label><div class='xr-var-attrs'><dl class='xr-attrs'><dt><span>statistic :</span></dt><dd>running mean with 12*10 minutes using convolution</dd></dl></div><div class='xr-var-data'><pre>array([        nan,         nan, 75.37833341, ..., 88.66583252,\n",
       "       94.3283329 , 94.43083318])</pre></div></li><li class='xr-var-item'><div class='xr-var-name'><span>std_RELH</span></div><div class='xr-var-dims'>(count)</div><div class='xr-var-dtype'>float64</div><div class='xr-var-preview xr-preview'>nan nan 0.9694 ... 0.6008 0.6102</div><input id='attrs-cf24949f-4a2e-414d-ac20-6d3c45992da7' class='xr-var-attrs-in' type='checkbox' ><label for='attrs-cf24949f-4a2e-414d-ac20-6d3c45992da7' title='Show/Hide attributes'><svg class='icon xr-icon-file-text2'><use xlink:href='#icon-file-text2'></use></svg></label><input id='data-7633e4f2-fb64-4995-a964-7ce2244a8ef2' class='xr-var-data-in' type='checkbox'><label for='data-7633e4f2-fb64-4995-a964-7ce2244a8ef2' title='Show/Hide data repr'><svg class='icon xr-icon-database'><use xlink:href='#icon-database'></use></svg></label><div class='xr-var-attrs'><dl class='xr-attrs'><dt><span>statistic :</span></dt><dd>running std. dev with 12*10 minutes using convolution</dd></dl></div><div class='xr-var-data'><pre>array([       nan,        nan, 0.9694219 , ..., 0.95254101, 0.60083775,\n",
       "       0.61020563])</pre></div></li><li class='xr-var-item'><div class='xr-var-name'><span>mean_U10N_x</span></div><div class='xr-var-dims'>(count)</div><div class='xr-var-dtype'>float64</div><div class='xr-var-preview xr-preview'>nan nan -3.909 ... -9.33 -9.417</div><input id='attrs-42907dd9-652a-4049-95f4-228594959af6' class='xr-var-attrs-in' type='checkbox' ><label for='attrs-42907dd9-652a-4049-95f4-228594959af6' title='Show/Hide attributes'><svg class='icon xr-icon-file-text2'><use xlink:href='#icon-file-text2'></use></svg></label><input id='data-49ca0fa4-7330-4078-9c61-8db242682835' class='xr-var-data-in' type='checkbox'><label for='data-49ca0fa4-7330-4078-9c61-8db242682835' title='Show/Hide data repr'><svg class='icon xr-icon-database'><use xlink:href='#icon-database'></use></svg></label><div class='xr-var-attrs'><dl class='xr-attrs'><dt><span>statistic :</span></dt><dd>running mean with 12*10 minutes using convolution</dd></dl></div><div class='xr-var-data'><pre>array([        nan,         nan, -3.9088721 , ..., -8.74841134,\n",
       "       -9.33012894, -9.41684482])</pre></div></li><li class='xr-var-item'><div class='xr-var-name'><span>std_U10N_x</span></div><div class='xr-var-dims'>(count)</div><div class='xr-var-dtype'>float64</div><div class='xr-var-preview xr-preview'>nan nan 0.5038 ... 0.8238 0.8614</div><input id='attrs-c8ac93b5-5988-47f2-a49b-e781cd9578fc' class='xr-var-attrs-in' type='checkbox' ><label for='attrs-c8ac93b5-5988-47f2-a49b-e781cd9578fc' title='Show/Hide attributes'><svg class='icon xr-icon-file-text2'><use xlink:href='#icon-file-text2'></use></svg></label><input id='data-7eaaf4f8-cd4f-4af9-919e-8f622feedc87' class='xr-var-data-in' type='checkbox'><label for='data-7eaaf4f8-cd4f-4af9-919e-8f622feedc87' title='Show/Hide data repr'><svg class='icon xr-icon-database'><use xlink:href='#icon-database'></use></svg></label><div class='xr-var-attrs'><dl class='xr-attrs'><dt><span>statistic :</span></dt><dd>running std. dev with 12*10 minutes using convolution</dd></dl></div><div class='xr-var-data'><pre>array([       nan,        nan, 0.50382105, ..., 0.62807643, 0.82375405,\n",
       "       0.86138494])</pre></div></li><li class='xr-var-item'><div class='xr-var-name'><span>mean_U10N_y</span></div><div class='xr-var-dims'>(count)</div><div class='xr-var-dtype'>float64</div><div class='xr-var-preview xr-preview'>nan nan 4.645 ... -6.668 -6.635</div><input id='attrs-90b9341e-49ac-4067-9ae8-9a991ec8d920' class='xr-var-attrs-in' type='checkbox' ><label for='attrs-90b9341e-49ac-4067-9ae8-9a991ec8d920' title='Show/Hide attributes'><svg class='icon xr-icon-file-text2'><use xlink:href='#icon-file-text2'></use></svg></label><input id='data-f8c655b1-2d28-4a6d-8761-ff45f7a2fe6d' class='xr-var-data-in' type='checkbox'><label for='data-f8c655b1-2d28-4a6d-8761-ff45f7a2fe6d' title='Show/Hide data repr'><svg class='icon xr-icon-database'><use xlink:href='#icon-database'></use></svg></label><div class='xr-var-attrs'><dl class='xr-attrs'><dt><span>statistic :</span></dt><dd>running mean with 12*10 minutes using convolution</dd></dl></div><div class='xr-var-data'><pre>array([        nan,         nan,  4.64546955, ..., -6.14749234,\n",
       "       -6.66832284, -6.6354092 ])</pre></div></li><li class='xr-var-item'><div class='xr-var-name'><span>std_U10N_y</span></div><div class='xr-var-dims'>(count)</div><div class='xr-var-dtype'>float64</div><div class='xr-var-preview xr-preview'>nan nan 0.38 ... 0.9654 0.9239</div><input id='attrs-d16d1805-dfa1-4695-bd8b-22b0eb4797dd' class='xr-var-attrs-in' type='checkbox' ><label for='attrs-d16d1805-dfa1-4695-bd8b-22b0eb4797dd' title='Show/Hide attributes'><svg class='icon xr-icon-file-text2'><use xlink:href='#icon-file-text2'></use></svg></label><input id='data-729d562e-9156-4f68-a9f1-db7935cc92fa' class='xr-var-data-in' type='checkbox'><label for='data-729d562e-9156-4f68-a9f1-db7935cc92fa' title='Show/Hide data repr'><svg class='icon xr-icon-database'><use xlink:href='#icon-database'></use></svg></label><div class='xr-var-attrs'><dl class='xr-attrs'><dt><span>statistic :</span></dt><dd>running std. dev with 12*10 minutes using convolution</dd></dl></div><div class='xr-var-data'><pre>array([       nan,        nan, 0.38004436, ..., 0.47804559, 0.96543855,\n",
       "       0.92388102])</pre></div></li><li class='xr-var-item'><div class='xr-var-name'><span>mean_cosWDIR</span></div><div class='xr-var-dims'>(count)</div><div class='xr-var-dtype'>float64</div><div class='xr-var-preview xr-preview'>nan nan -0.6411 ... -0.8104 -0.8144</div><input id='attrs-dac3a8dc-d9dd-4893-b7c4-da57a9fd9b49' class='xr-var-attrs-in' type='checkbox' ><label for='attrs-dac3a8dc-d9dd-4893-b7c4-da57a9fd9b49' title='Show/Hide attributes'><svg class='icon xr-icon-file-text2'><use xlink:href='#icon-file-text2'></use></svg></label><input id='data-e0b8a8d7-30bc-4119-9ea8-19f244b6bb46' class='xr-var-data-in' type='checkbox'><label for='data-e0b8a8d7-30bc-4119-9ea8-19f244b6bb46' title='Show/Hide data repr'><svg class='icon xr-icon-database'><use xlink:href='#icon-database'></use></svg></label><div class='xr-var-attrs'><dl class='xr-attrs'><dt><span>statistic :</span></dt><dd>running mean with 12*10 minutes using convolution</dd></dl></div><div class='xr-var-data'><pre>array([        nan,         nan, -0.64109273, ..., -0.81630263,\n",
       "       -0.81042451, -0.8144422 ])</pre></div></li><li class='xr-var-item'><div class='xr-var-name'><span>std_cosWDIR</span></div><div class='xr-var-dims'>(count)</div><div class='xr-var-dtype'>float64</div><div class='xr-var-preview xr-preview'>nan nan 0.0471 ... 0.05175 0.04898</div><input id='attrs-13dd5a38-acc6-46bd-8a06-25673fca84a0' class='xr-var-attrs-in' type='checkbox' ><label for='attrs-13dd5a38-acc6-46bd-8a06-25673fca84a0' title='Show/Hide attributes'><svg class='icon xr-icon-file-text2'><use xlink:href='#icon-file-text2'></use></svg></label><input id='data-6fdac6bc-745c-4905-b320-56a398d701d4' class='xr-var-data-in' type='checkbox'><label for='data-6fdac6bc-745c-4905-b320-56a398d701d4' title='Show/Hide data repr'><svg class='icon xr-icon-database'><use xlink:href='#icon-database'></use></svg></label><div class='xr-var-attrs'><dl class='xr-attrs'><dt><span>statistic :</span></dt><dd>running std. dev with 12*10 minutes using convolution</dd></dl></div><div class='xr-var-data'><pre>array([       nan,        nan, 0.04710006, ..., 0.03290813, 0.05174885,\n",
       "       0.04897555])</pre></div></li><li class='xr-var-item'><div class='xr-var-name'><span>mean_sinWDIR</span></div><div class='xr-var-dims'>(count)</div><div class='xr-var-dtype'>float64</div><div class='xr-var-preview xr-preview'>nan nan 0.765 ... -0.579 -0.574</div><input id='attrs-f58c121f-0181-4ca8-8c14-65a3d26b2fbd' class='xr-var-attrs-in' type='checkbox' ><label for='attrs-f58c121f-0181-4ca8-8c14-65a3d26b2fbd' title='Show/Hide attributes'><svg class='icon xr-icon-file-text2'><use xlink:href='#icon-file-text2'></use></svg></label><input id='data-26082a01-5fe3-4902-b01b-e103149e17a2' class='xr-var-data-in' type='checkbox'><label for='data-26082a01-5fe3-4902-b01b-e103149e17a2' title='Show/Hide data repr'><svg class='icon xr-icon-database'><use xlink:href='#icon-database'></use></svg></label><div class='xr-var-attrs'><dl class='xr-attrs'><dt><span>statistic :</span></dt><dd>running mean with 12*10 minutes using convolution</dd></dl></div><div class='xr-var-data'><pre>array([        nan,         nan,  0.76495054, ..., -0.57477475,\n",
       "       -0.5789722 , -0.57399301])</pre></div></li><li class='xr-var-item'><div class='xr-var-name'><span>std_sinWDIR</span></div><div class='xr-var-dims'>(count)</div><div class='xr-var-dtype'>float64</div><div class='xr-var-preview xr-preview'>nan nan 0.0404 ... 0.07298 0.06941</div><input id='attrs-75dc26b9-642b-451d-ab62-d89086b44d18' class='xr-var-attrs-in' type='checkbox' ><label for='attrs-75dc26b9-642b-451d-ab62-d89086b44d18' title='Show/Hide attributes'><svg class='icon xr-icon-file-text2'><use xlink:href='#icon-file-text2'></use></svg></label><input id='data-d8c40268-0416-4215-a151-82f43140727b' class='xr-var-data-in' type='checkbox'><label for='data-d8c40268-0416-4215-a151-82f43140727b' title='Show/Hide data repr'><svg class='icon xr-icon-database'><use xlink:href='#icon-database'></use></svg></label><div class='xr-var-attrs'><dl class='xr-attrs'><dt><span>statistic :</span></dt><dd>running std. dev with 12*10 minutes using convolution</dd></dl></div><div class='xr-var-data'><pre>array([       nan,        nan, 0.04040255, ..., 0.04691573, 0.07297512,\n",
       "       0.0694069 ])</pre></div></li><li class='xr-var-item'><div class='xr-var-name'><span>LATITUDE</span></div><div class='xr-var-dims'>(count)</div><div class='xr-var-dtype'>float64</div><div class='xr-var-preview xr-preview'>-8.0 -8.0 -8.0 -8.0 ... 9.0 9.0 9.0</div><input id='attrs-03e19b94-53bf-497c-b559-1dae907c7139' class='xr-var-attrs-in' type='checkbox' disabled><label for='attrs-03e19b94-53bf-497c-b559-1dae907c7139' title='Show/Hide attributes'><svg class='icon xr-icon-file-text2'><use xlink:href='#icon-file-text2'></use></svg></label><input id='data-28ca09d9-2a21-4a31-9b9f-6b5e7fd8df7e' class='xr-var-data-in' type='checkbox'><label for='data-28ca09d9-2a21-4a31-9b9f-6b5e7fd8df7e' title='Show/Hide data repr'><svg class='icon xr-icon-database'><use xlink:href='#icon-database'></use></svg></label><div class='xr-var-attrs'><dl class='xr-attrs'></dl></div><div class='xr-var-data'><pre>array([-8., -8., -8., ...,  9.,  9.,  9.])</pre></div></li><li class='xr-var-item'><div class='xr-var-name'><span>LONGITUDE</span></div><div class='xr-var-dims'>(count)</div><div class='xr-var-dtype'>float64</div><div class='xr-var-preview xr-preview'>265.0 265.0 265.0 ... 220.0 220.0</div><input id='attrs-eef5f0d2-03f6-42f0-bcfb-f824a0ebd83d' class='xr-var-attrs-in' type='checkbox' disabled><label for='attrs-eef5f0d2-03f6-42f0-bcfb-f824a0ebd83d' title='Show/Hide attributes'><svg class='icon xr-icon-file-text2'><use xlink:href='#icon-file-text2'></use></svg></label><input id='data-b8e6341e-1a0a-491e-938d-1545dbb3d930' class='xr-var-data-in' type='checkbox'><label for='data-b8e6341e-1a0a-491e-938d-1545dbb3d930' title='Show/Hide data repr'><svg class='icon xr-icon-database'><use xlink:href='#icon-database'></use></svg></label><div class='xr-var-attrs'><dl class='xr-attrs'></dl></div><div class='xr-var-data'><pre>array([265., 265., 265., ..., 220., 220., 220.])</pre></div></li><li class='xr-var-item'><div class='xr-var-name'><span>TAO_TIME</span></div><div class='xr-var-dims'>(count)</div><div class='xr-var-dtype'>datetime64[ns]</div><div class='xr-var-preview xr-preview'>2000-01-01T00:30:00 ... 2006-12-...</div><input id='attrs-1b1f037c-66ec-4e78-9906-63d3194412ef' class='xr-var-attrs-in' type='checkbox' disabled><label for='attrs-1b1f037c-66ec-4e78-9906-63d3194412ef' title='Show/Hide attributes'><svg class='icon xr-icon-file-text2'><use xlink:href='#icon-file-text2'></use></svg></label><input id='data-caf0bb88-7c55-44bb-b199-64485429ff0f' class='xr-var-data-in' type='checkbox'><label for='data-caf0bb88-7c55-44bb-b199-64485429ff0f' title='Show/Hide data repr'><svg class='icon xr-icon-database'><use xlink:href='#icon-database'></use></svg></label><div class='xr-var-attrs'><dl class='xr-attrs'></dl></div><div class='xr-var-data'><pre>array([&#x27;2000-01-01T00:30:00.000000000&#x27;, &#x27;2000-01-01T00:40:00.000000000&#x27;,\n",
       "       &#x27;2000-01-02T23:39:59.000000000&#x27;, ...,\n",
       "       &#x27;2006-12-31T03:40:00.000000000&#x27;, &#x27;2006-12-31T14:39:59.000000000&#x27;,\n",
       "       &#x27;2006-12-31T14:50:00.000000000&#x27;], dtype=&#x27;datetime64[ns]&#x27;)</pre></div></li><li class='xr-var-item'><div class='xr-var-name'><span>Deployment index</span></div><div class='xr-var-dims'>(count)</div><div class='xr-var-dtype'>int64</div><div class='xr-var-preview xr-preview'>0 0 0 0 0 0 0 ... 10 10 10 10 10 10</div><input id='attrs-cf9f7cb8-8c82-4c89-898a-05ad22cbd5e3' class='xr-var-attrs-in' type='checkbox' disabled><label for='attrs-cf9f7cb8-8c82-4c89-898a-05ad22cbd5e3' title='Show/Hide attributes'><svg class='icon xr-icon-file-text2'><use xlink:href='#icon-file-text2'></use></svg></label><input id='data-dbef9cbb-6959-43a7-9d1f-79b1d48a9739' class='xr-var-data-in' type='checkbox'><label for='data-dbef9cbb-6959-43a7-9d1f-79b1d48a9739' title='Show/Hide data repr'><svg class='icon xr-icon-database'><use xlink:href='#icon-database'></use></svg></label><div class='xr-var-attrs'><dl class='xr-attrs'></dl></div><div class='xr-var-data'><pre>array([ 0,  0,  0, ..., 10, 10, 10])</pre></div></li><li class='xr-var-item'><div class='xr-var-name'><span>retrieved_wind_speed</span></div><div class='xr-var-dims'>(count)</div><div class='xr-var-dtype'>float64</div><div class='xr-var-preview xr-preview'>5.747 5.668 6.113 ... 10.72 10.4</div><input id='attrs-a37b0901-a4c5-4102-a73e-08e9c71db65f' class='xr-var-attrs-in' type='checkbox' ><label for='attrs-a37b0901-a4c5-4102-a73e-08e9c71db65f' title='Show/Hide attributes'><svg class='icon xr-icon-file-text2'><use xlink:href='#icon-file-text2'></use></svg></label><input id='data-929766c1-06cd-44ef-8209-9fa79a0f0c8b' class='xr-var-data-in' type='checkbox'><label for='data-929766c1-06cd-44ef-8209-9fa79a0f0c8b' title='Show/Hide data repr'><svg class='icon xr-icon-database'><use xlink:href='#icon-database'></use></svg></label><div class='xr-var-attrs'><dl class='xr-attrs'><dt><span>valid_min :</span></dt><dd>0.0</dd><dt><span>valid_max :</span></dt><dd>100.0</dd><dt><span>long_name :</span></dt><dd>equivalent neutral wind speed at 10 m</dd><dt><span>standard_name :</span></dt><dd>wind_speed</dd><dt><span>units :</span></dt><dd>m s-1</dd></dl></div><div class='xr-var-data'><pre>array([ 5.74713993,  5.66831589,  6.11264515, ..., 11.34207726,\n",
       "       10.7228632 , 10.39846039])</pre></div></li><li class='xr-var-item'><div class='xr-var-name'><span>retrieved_wind_direction</span></div><div class='xr-var-dims'>(count)</div><div class='xr-var-dtype'>float64</div><div class='xr-var-preview xr-preview'>325.6 324.5 323.7 ... 245.0 245.2</div><input id='attrs-4fee266a-bf46-448a-9b03-c89981a124f9' class='xr-var-attrs-in' type='checkbox' ><label for='attrs-4fee266a-bf46-448a-9b03-c89981a124f9' title='Show/Hide attributes'><svg class='icon xr-icon-file-text2'><use xlink:href='#icon-file-text2'></use></svg></label><input id='data-74b2a22b-4eb6-49eb-bd3b-16d2ae5dd63f' class='xr-var-data-in' type='checkbox'><label for='data-74b2a22b-4eb6-49eb-bd3b-16d2ae5dd63f' title='Show/Hide data repr'><svg class='icon xr-icon-database'><use xlink:href='#icon-database'></use></svg></label><div class='xr-var-attrs'><dl class='xr-attrs'><dt><span>valid_min :</span></dt><dd>0.0</dd><dt><span>valid_max :</span></dt><dd>360.0</dd><dt><span>long_name :</span></dt><dd>equivalent neutral wind direction at 10 m</dd><dt><span>standard_name :</span></dt><dd>wind_to_direction</dd><dt><span>units :</span></dt><dd>degrees</dd></dl></div><div class='xr-var-data'><pre>array([325.64883423, 324.49713135, 323.7119751 , ..., 239.64068604,\n",
       "       244.9931488 , 245.19697571])</pre></div></li><li class='xr-var-item'><div class='xr-var-name'><span>rain_impact</span></div><div class='xr-var-dims'>(count)</div><div class='xr-var-dtype'>float64</div><div class='xr-var-preview xr-preview'>1.072 1.078 0.499 ... 1.705 nan nan</div><input id='attrs-122846f2-8fce-4b5f-8e82-87a16617c868' class='xr-var-attrs-in' type='checkbox' ><label for='attrs-122846f2-8fce-4b5f-8e82-87a16617c868' title='Show/Hide attributes'><svg class='icon xr-icon-file-text2'><use xlink:href='#icon-file-text2'></use></svg></label><input id='data-d0ef2bb5-dbac-47de-a42d-82fbbe9737b1' class='xr-var-data-in' type='checkbox'><label for='data-d0ef2bb5-dbac-47de-a42d-82fbbe9737b1' title='Show/Hide data repr'><svg class='icon xr-icon-database'><use xlink:href='#icon-database'></use></svg></label><div class='xr-var-attrs'><dl class='xr-attrs'><dt><span>valid_min :</span></dt><dd>0.0</dd><dt><span>valid_max :</span></dt><dd>100.0</dd><dt><span>long_name :</span></dt><dd>impact of rain upon wind vector retrieval</dd><dt><span>units :</span></dt><dd>1</dd></dl></div><div class='xr-var-data'><pre>array([1.07222676, 1.07760262, 0.49902362, ..., 1.70458293,        nan,\n",
       "              nan])</pre></div></li><li class='xr-var-item'><div class='xr-var-name'><span>flags</span></div><div class='xr-var-dims'>(count)</div><div class='xr-var-dtype'>float64</div><div class='xr-var-preview xr-preview'>0.0 0.0 0.0 ... 1.638e+04 1.638e+04</div><input id='attrs-1da7445b-4af9-4ef9-87ac-d30bab03aeee' class='xr-var-attrs-in' type='checkbox' ><label for='attrs-1da7445b-4af9-4ef9-87ac-d30bab03aeee' title='Show/Hide attributes'><svg class='icon xr-icon-file-text2'><use xlink:href='#icon-file-text2'></use></svg></label><input id='data-8828ea11-2361-4207-9a40-83c50e4f84d6' class='xr-var-data-in' type='checkbox'><label for='data-8828ea11-2361-4207-9a40-83c50e4f84d6' title='Show/Hide data repr'><svg class='icon xr-icon-database'><use xlink:href='#icon-database'></use></svg></label><div class='xr-var-attrs'><dl class='xr-attrs'><dt><span>valid_min :</span></dt><dd>0</dd><dt><span>long_name :</span></dt><dd>wind vector cell quality flags</dd><dt><span>units :</span></dt><dd>bit</dd><dt><span>flag_masks :</span></dt><dd>1s, 2s, 32s, 64s, 128s, 256s, 512s, 1024s, 2048s, 4096s, 8192s, 16384s</dd><dt><span>flag_meanings :</span></dt><dd>adequate_sigma0_flag adequate_azimuth_diversity_flag poor_coastal_processing_flag wind_retrieval_likely_corrupted_flag coastal_flag ice_edge_flag winds_not_retrieved_flag high_wind_speed_flag low_wind_speed_flag rain_impact_flag_not_usable_flag rain_impact_flag missing_look_flag </dd><dt><span>valid_max :</span></dt><dd>32739.0</dd></dl></div><div class='xr-var-data'><pre>array([    0.,     0.,     0., ...,     0., 16384., 16384.])</pre></div></li><li class='xr-var-item'><div class='xr-var-name'><span>eflags</span></div><div class='xr-var-dims'>(count)</div><div class='xr-var-dtype'>float64</div><div class='xr-var-preview xr-preview'>5.0 5.0 5.0 ... 4.357e+03 5.0 5.0</div><input id='attrs-280be137-0d8e-4a04-934f-518d3276eb94' class='xr-var-attrs-in' type='checkbox' ><label for='attrs-280be137-0d8e-4a04-934f-518d3276eb94' title='Show/Hide attributes'><svg class='icon xr-icon-file-text2'><use xlink:href='#icon-file-text2'></use></svg></label><input id='data-c4ef9c40-0f0d-466a-a04a-c17992844968' class='xr-var-data-in' type='checkbox'><label for='data-c4ef9c40-0f0d-466a-a04a-c17992844968' title='Show/Hide data repr'><svg class='icon xr-icon-database'><use xlink:href='#icon-database'></use></svg></label><div class='xr-var-attrs'><dl class='xr-attrs'><dt><span>valid_min :</span></dt><dd>0</dd><dt><span>long_name :</span></dt><dd>extended wind vector cell quality flags</dd><dt><span>units :</span></dt><dd>bit</dd><dt><span>flag_masks :</span></dt><dd>1s, 2s, 4s, 8s, 16s, 64s, 256s, 512s, 1024s, 2048s, 4096s</dd><dt><span>flag_meanings :</span></dt><dd>rain_correction_not_applied_flag correction_produced_negative_spd_flag all_ambiguities_contribute_to_nudging_flag large_rain_correction_flag coastal_processing_applied_flag lake_winds_flag rain_nearby_flag ice_nearby_flag significant_rain_correction_flag rain_correction_applied_flag wind_retrieval_possibly_corrupted_flag </dd><dt><span>valid_max :</span></dt><dd>7967.0</dd></dl></div><div class='xr-var-data'><pre>array([   5.,    5.,    5., ..., 4357.,    5.,    5.])</pre></div></li><li class='xr-var-item'><div class='xr-var-name'><span>nudge_wind_speed</span></div><div class='xr-var-dims'>(count)</div><div class='xr-var-dtype'>float64</div><div class='xr-var-preview xr-preview'>6.523 6.494 6.912 ... 14.83 14.73</div><input id='attrs-2cf4bb46-5a70-4d63-9e2f-c1aa021711c4' class='xr-var-attrs-in' type='checkbox' ><label for='attrs-2cf4bb46-5a70-4d63-9e2f-c1aa021711c4' title='Show/Hide attributes'><svg class='icon xr-icon-file-text2'><use xlink:href='#icon-file-text2'></use></svg></label><input id='data-58f87557-4fb9-4027-ba16-36257ae3dbab' class='xr-var-data-in' type='checkbox'><label for='data-58f87557-4fb9-4027-ba16-36257ae3dbab' title='Show/Hide data repr'><svg class='icon xr-icon-database'><use xlink:href='#icon-database'></use></svg></label><div class='xr-var-attrs'><dl class='xr-attrs'><dt><span>valid_min :</span></dt><dd>0.0</dd><dt><span>valid_max :</span></dt><dd>100.0</dd><dt><span>long_name :</span></dt><dd>model wind speed</dd><dt><span>standard_name :</span></dt><dd>wind_speed</dd><dt><span>units :</span></dt><dd>m s-1</dd></dl></div><div class='xr-var-data'><pre>array([ 6.52293968,  6.4937892 ,  6.91178417, ..., 13.18385124,\n",
       "       14.82970619, 14.7305584 ])</pre></div></li><li class='xr-var-item'><div class='xr-var-name'><span>nudge_wind_direction</span></div><div class='xr-var-dims'>(count)</div><div class='xr-var-dtype'>float64</div><div class='xr-var-preview xr-preview'>320.2 319.8 314.1 ... 238.9 239.7</div><input id='attrs-66920d23-de47-471e-8351-382cde9a8339' class='xr-var-attrs-in' type='checkbox' ><label for='attrs-66920d23-de47-471e-8351-382cde9a8339' title='Show/Hide attributes'><svg class='icon xr-icon-file-text2'><use xlink:href='#icon-file-text2'></use></svg></label><input id='data-96ea7528-1c86-473c-ac34-4d6300bf1c2c' class='xr-var-data-in' type='checkbox'><label for='data-96ea7528-1c86-473c-ac34-4d6300bf1c2c' title='Show/Hide data repr'><svg class='icon xr-icon-database'><use xlink:href='#icon-database'></use></svg></label><div class='xr-var-attrs'><dl class='xr-attrs'><dt><span>valid_min :</span></dt><dd>0.0</dd><dt><span>valid_max :</span></dt><dd>360.0</dd><dt><span>long_name :</span></dt><dd>model wind direction</dd><dt><span>standard_name :</span></dt><dd>wind_to_direction</dd><dt><span>units :</span></dt><dd>degrees</dd></dl></div><div class='xr-var-data'><pre>array([320.18499756, 319.81256104, 314.10400391, ..., 241.25445557,\n",
       "       238.90667725, 239.68109131])</pre></div></li><li class='xr-var-item'><div class='xr-var-name'><span>retrieved_wind_speed_uncorrected</span></div><div class='xr-var-dims'>(count)</div><div class='xr-var-dtype'>float64</div><div class='xr-var-preview xr-preview'>5.731 5.652 6.062 ... 10.8 10.47</div><input id='attrs-29967b2b-b922-4e0b-9a02-2644a0551217' class='xr-var-attrs-in' type='checkbox' ><label for='attrs-29967b2b-b922-4e0b-9a02-2644a0551217' title='Show/Hide attributes'><svg class='icon xr-icon-file-text2'><use xlink:href='#icon-file-text2'></use></svg></label><input id='data-db7405e4-b96e-4ad8-8856-d858bd8b79fd' class='xr-var-data-in' type='checkbox'><label for='data-db7405e4-b96e-4ad8-8856-d858bd8b79fd' title='Show/Hide data repr'><svg class='icon xr-icon-database'><use xlink:href='#icon-database'></use></svg></label><div class='xr-var-attrs'><dl class='xr-attrs'><dt><span>valid_min :</span></dt><dd>0.0</dd><dt><span>valid_max :</span></dt><dd>100.0</dd><dt><span>long_name :</span></dt><dd>wind speed without rain correction</dd><dt><span>standard_name :</span></dt><dd>wind_speed</dd><dt><span>units :</span></dt><dd>m s-1</dd></dl></div><div class='xr-var-data'><pre>array([ 5.73101044,  5.65238953,  6.06196022, ..., 11.37376404,\n",
       "       10.80009842, 10.46974468])</pre></div></li><li class='xr-var-item'><div class='xr-var-name'><span>cross_track_wind_speed_bias</span></div><div class='xr-var-dims'>(count)</div><div class='xr-var-dtype'>float64</div><div class='xr-var-preview xr-preview'>-0.01613 -0.01593 ... 0.07128</div><input id='attrs-282734f5-4f95-45d0-85c6-fecba2bfe9b3' class='xr-var-attrs-in' type='checkbox' ><label for='attrs-282734f5-4f95-45d0-85c6-fecba2bfe9b3' title='Show/Hide attributes'><svg class='icon xr-icon-file-text2'><use xlink:href='#icon-file-text2'></use></svg></label><input id='data-3db76cdc-d63f-4d2a-b2a0-da31e878c5f2' class='xr-var-data-in' type='checkbox'><label for='data-3db76cdc-d63f-4d2a-b2a0-da31e878c5f2' title='Show/Hide data repr'><svg class='icon xr-icon-database'><use xlink:href='#icon-database'></use></svg></label><div class='xr-var-attrs'><dl class='xr-attrs'><dt><span>valid_min :</span></dt><dd>-100.0</dd><dt><span>valid_max :</span></dt><dd>100.0</dd><dt><span>long_name :</span></dt><dd>relative wind speed bias with respect to sweet spot</dd><dt><span>units :</span></dt><dd>m s-1</dd></dl></div><div class='xr-var-data'><pre>array([-0.01612943, -0.01592638, -0.05068475, ...,  0.03168708,\n",
       "        0.077235  ,  0.07128464])</pre></div></li><li class='xr-var-item'><div class='xr-var-name'><span>atmospheric_speed_bias</span></div><div class='xr-var-dims'>(count)</div><div class='xr-var-dtype'>float64</div><div class='xr-var-preview xr-preview'>0.0 0.0 ... 2.235e-07 -3.502e-07</div><input id='attrs-0656023d-5239-4253-a1c6-353193f875cc' class='xr-var-attrs-in' type='checkbox' ><label for='attrs-0656023d-5239-4253-a1c6-353193f875cc' title='Show/Hide attributes'><svg class='icon xr-icon-file-text2'><use xlink:href='#icon-file-text2'></use></svg></label><input id='data-c08ff402-7f46-443a-8860-750b18c4a3b7' class='xr-var-data-in' type='checkbox'><label for='data-c08ff402-7f46-443a-8860-750b18c4a3b7' title='Show/Hide data repr'><svg class='icon xr-icon-database'><use xlink:href='#icon-database'></use></svg></label><div class='xr-var-attrs'><dl class='xr-attrs'><dt><span>valid_min :</span></dt><dd>-100.0</dd><dt><span>valid_max :</span></dt><dd>100.0</dd><dt><span>long_name :</span></dt><dd>atmospheric speed bias</dd><dt><span>units :</span></dt><dd>m s-1</dd></dl></div><div class='xr-var-data'><pre>array([ 0.00000000e+00,  0.00000000e+00,  0.00000000e+00, ...,\n",
       "        0.00000000e+00,  2.23517418e-07, -3.50177288e-07])</pre></div></li><li class='xr-var-item'><div class='xr-var-name'><span>wind_obj</span></div><div class='xr-var-dims'>(count)</div><div class='xr-var-dtype'>float64</div><div class='xr-var-preview xr-preview'>0.1073 0.087 ... 0.01674 0.01587</div><input id='attrs-fe0b1179-9d44-41ee-a8b6-3875c8955900' class='xr-var-attrs-in' type='checkbox' ><label for='attrs-fe0b1179-9d44-41ee-a8b6-3875c8955900' title='Show/Hide attributes'><svg class='icon xr-icon-file-text2'><use xlink:href='#icon-file-text2'></use></svg></label><input id='data-809e0870-63f9-4794-913b-2fa9fa2d80ea' class='xr-var-data-in' type='checkbox'><label for='data-809e0870-63f9-4794-913b-2fa9fa2d80ea' title='Show/Hide data repr'><svg class='icon xr-icon-database'><use xlink:href='#icon-database'></use></svg></label><div class='xr-var-attrs'><dl class='xr-attrs'><dt><span>valid_min :</span></dt><dd>-199.0</dd><dt><span>valid_max :</span></dt><dd>0.0</dd><dt><span>long_name :</span></dt><dd>retrieved wind objective function value</dd><dt><span>units :</span></dt><dd>1</dd></dl></div><div class='xr-var-data'><pre>array([0.10725126, 0.08699517, 0.0497636 , ..., 0.09845505, 0.01673897,\n",
       "       0.01586828])</pre></div></li><li class='xr-var-item'><div class='xr-var-name'><span>ambiguity_speed</span></div><div class='xr-var-dims'>(count)</div><div class='xr-var-dtype'>float64</div><div class='xr-var-preview xr-preview'>5.767 5.494 5.977 ... 17.1 9.071</div><input id='attrs-f4dbc9d8-2f7e-43a2-bc93-f3f4039fae5e' class='xr-var-attrs-in' type='checkbox' ><label for='attrs-f4dbc9d8-2f7e-43a2-bc93-f3f4039fae5e' title='Show/Hide attributes'><svg class='icon xr-icon-file-text2'><use xlink:href='#icon-file-text2'></use></svg></label><input id='data-d3f942d2-4bfe-4fdd-9756-aa7f66277b67' class='xr-var-data-in' type='checkbox'><label for='data-d3f942d2-4bfe-4fdd-9756-aa7f66277b67' title='Show/Hide data repr'><svg class='icon xr-icon-database'><use xlink:href='#icon-database'></use></svg></label><div class='xr-var-attrs'><dl class='xr-attrs'><dt><span>valid_min :</span></dt><dd>0.0</dd><dt><span>valid_max :</span></dt><dd>100.0</dd><dt><span>long_name :</span></dt><dd>wind speed ambiguity</dd><dt><span>standard_name :</span></dt><dd>wind_speed</dd><dt><span>units :</span></dt><dd>m s-1</dd></dl></div><div class='xr-var-data'><pre>array([ 5.76710033,  5.49435282,  5.9770298 , ..., 11.25006771,\n",
       "       17.10026169,  9.07145119])</pre></div></li><li class='xr-var-item'><div class='xr-var-name'><span>ambiguity_direction</span></div><div class='xr-var-dims'>(count)</div><div class='xr-var-dtype'>float64</div><div class='xr-var-preview xr-preview'>327.7 317.2 318.8 ... 173.3 78.11</div><input id='attrs-2ce4c8eb-b650-4508-935e-271047f6361e' class='xr-var-attrs-in' type='checkbox' ><label for='attrs-2ce4c8eb-b650-4508-935e-271047f6361e' title='Show/Hide attributes'><svg class='icon xr-icon-file-text2'><use xlink:href='#icon-file-text2'></use></svg></label><input id='data-b6c4432c-d217-48b7-81c4-290bace1b9b5' class='xr-var-data-in' type='checkbox'><label for='data-b6c4432c-d217-48b7-81c4-290bace1b9b5' title='Show/Hide data repr'><svg class='icon xr-icon-database'><use xlink:href='#icon-database'></use></svg></label><div class='xr-var-attrs'><dl class='xr-attrs'><dt><span>valid_min :</span></dt><dd>0.0</dd><dt><span>valid_max :</span></dt><dd>360.0</dd><dt><span>long_name :</span></dt><dd>wind direction ambiguity</dd><dt><span>standard_name :</span></dt><dd>wind_to_direction</dd><dt><span>units :</span></dt><dd>degrees</dd></dl></div><div class='xr-var-data'><pre>array([327.68600464, 317.24383545, 318.76495361, ..., 236.1322937 ,\n",
       "       173.269104  ,  78.11132812])</pre></div></li><li class='xr-var-item'><div class='xr-var-name'><span>ambiguity_obj</span></div><div class='xr-var-dims'>(count)</div><div class='xr-var-dtype'>float64</div><div class='xr-var-preview xr-preview'>-7.794 -5.386 ... -3.435 -3.088</div><input id='attrs-837f5dc0-13c5-4a71-935f-3ce6dfc0543d' class='xr-var-attrs-in' type='checkbox' ><label for='attrs-837f5dc0-13c5-4a71-935f-3ce6dfc0543d' title='Show/Hide attributes'><svg class='icon xr-icon-file-text2'><use xlink:href='#icon-file-text2'></use></svg></label><input id='data-10abad8d-b649-4301-866b-571dd909b580' class='xr-var-data-in' type='checkbox'><label for='data-10abad8d-b649-4301-866b-571dd909b580' title='Show/Hide data repr'><svg class='icon xr-icon-database'><use xlink:href='#icon-database'></use></svg></label><div class='xr-var-attrs'><dl class='xr-attrs'><dt><span>valid_min :</span></dt><dd>-199.0</dd><dt><span>valid_max :</span></dt><dd>0.0</dd><dt><span>long_name :</span></dt><dd>wind objective function values</dd><dt><span>units :</span></dt><dd>1</dd></dl></div><div class='xr-var-data'><pre>array([-7.79444647, -5.38567495, -5.76894426, ..., -4.03175211,\n",
       "       -3.43475318, -3.08847713])</pre></div></li><li class='xr-var-item'><div class='xr-var-name'><span>number_in_fore</span></div><div class='xr-var-dims'>(count)</div><div class='xr-var-dtype'>float64</div><div class='xr-var-preview xr-preview'>17.0 19.0 18.0 19.0 ... 8.0 nan nan</div><input id='attrs-32c7805c-0680-48bf-9323-bc8a86eec2ae' class='xr-var-attrs-in' type='checkbox' ><label for='attrs-32c7805c-0680-48bf-9323-bc8a86eec2ae' title='Show/Hide attributes'><svg class='icon xr-icon-file-text2'><use xlink:href='#icon-file-text2'></use></svg></label><input id='data-45b5ec27-3c2b-4ea1-90e5-cf94045ac13a' class='xr-var-data-in' type='checkbox'><label for='data-45b5ec27-3c2b-4ea1-90e5-cf94045ac13a' title='Show/Hide data repr'><svg class='icon xr-icon-database'><use xlink:href='#icon-database'></use></svg></label><div class='xr-var-attrs'><dl class='xr-attrs'><dt><span>valid_min :</span></dt><dd>1</dd><dt><span>valid_max :</span></dt><dd>127</dd><dt><span>long_name :</span></dt><dd>number of inner forward looks in wind vector cell</dd><dt><span>units :</span></dt><dd>1</dd></dl></div><div class='xr-var-data'><pre>array([17., 19., 18., ...,  8., nan, nan])</pre></div></li><li class='xr-var-item'><div class='xr-var-name'><span>number_in_aft</span></div><div class='xr-var-dims'>(count)</div><div class='xr-var-dtype'>float64</div><div class='xr-var-preview xr-preview'>17.0 17.0 29.0 27.0 ... 9.0 nan nan</div><input id='attrs-6261a1dd-e505-4039-9f7e-8e59c4527295' class='xr-var-attrs-in' type='checkbox' ><label for='attrs-6261a1dd-e505-4039-9f7e-8e59c4527295' title='Show/Hide attributes'><svg class='icon xr-icon-file-text2'><use xlink:href='#icon-file-text2'></use></svg></label><input id='data-d71f3e9f-0c5b-4eba-a803-443d2eb59ee5' class='xr-var-data-in' type='checkbox'><label for='data-d71f3e9f-0c5b-4eba-a803-443d2eb59ee5' title='Show/Hide data repr'><svg class='icon xr-icon-database'><use xlink:href='#icon-database'></use></svg></label><div class='xr-var-attrs'><dl class='xr-attrs'><dt><span>valid_min :</span></dt><dd>1</dd><dt><span>valid_max :</span></dt><dd>127</dd><dt><span>long_name :</span></dt><dd>number of inner aft looks in wind vector cell</dd><dt><span>units :</span></dt><dd>1</dd></dl></div><div class='xr-var-data'><pre>array([17., 17., 29., ...,  9., nan, nan])</pre></div></li><li class='xr-var-item'><div class='xr-var-name'><span>number_out_fore</span></div><div class='xr-var-dims'>(count)</div><div class='xr-var-dtype'>float64</div><div class='xr-var-preview xr-preview'>6.0 7.0 7.0 7.0 ... 6.0 16.0 14.0</div><input id='attrs-da2aec4f-a910-4403-9409-9667d9b78c1f' class='xr-var-attrs-in' type='checkbox' ><label for='attrs-da2aec4f-a910-4403-9409-9667d9b78c1f' title='Show/Hide attributes'><svg class='icon xr-icon-file-text2'><use xlink:href='#icon-file-text2'></use></svg></label><input id='data-68e97709-033e-4a51-901c-68300ecdaa27' class='xr-var-data-in' type='checkbox'><label for='data-68e97709-033e-4a51-901c-68300ecdaa27' title='Show/Hide data repr'><svg class='icon xr-icon-database'><use xlink:href='#icon-database'></use></svg></label><div class='xr-var-attrs'><dl class='xr-attrs'><dt><span>valid_min :</span></dt><dd>1</dd><dt><span>valid_max :</span></dt><dd>127</dd><dt><span>long_name :</span></dt><dd>number of outer forward looks in wind vector cell</dd><dt><span>units :</span></dt><dd>1</dd></dl></div><div class='xr-var-data'><pre>array([ 6.,  7.,  7., ...,  6., 16., 14.])</pre></div></li><li class='xr-var-item'><div class='xr-var-name'><span>number_out_aft</span></div><div class='xr-var-dims'>(count)</div><div class='xr-var-dtype'>float64</div><div class='xr-var-preview xr-preview'>8.0 7.0 9.0 9.0 ... 6.0 26.0 26.0</div><input id='attrs-e22aa801-6724-46cd-9573-dbd76c489d28' class='xr-var-attrs-in' type='checkbox' ><label for='attrs-e22aa801-6724-46cd-9573-dbd76c489d28' title='Show/Hide attributes'><svg class='icon xr-icon-file-text2'><use xlink:href='#icon-file-text2'></use></svg></label><input id='data-eef58a53-2b0e-4356-bc15-afa29be976c9' class='xr-var-data-in' type='checkbox'><label for='data-eef58a53-2b0e-4356-bc15-afa29be976c9' title='Show/Hide data repr'><svg class='icon xr-icon-database'><use xlink:href='#icon-database'></use></svg></label><div class='xr-var-attrs'><dl class='xr-attrs'><dt><span>valid_min :</span></dt><dd>1</dd><dt><span>valid_max :</span></dt><dd>127</dd><dt><span>long_name :</span></dt><dd>number of outer aft looks in wind vector cell</dd><dt><span>units :</span></dt><dd>1</dd></dl></div><div class='xr-var-data'><pre>array([ 8.,  7.,  9., ...,  6., 26., 26.])</pre></div></li><li class='xr-var-item'><div class='xr-var-name'><span>gmf_sst</span></div><div class='xr-var-dims'>(count)</div><div class='xr-var-dtype'>float64</div><div class='xr-var-preview xr-preview'>23.89 23.79 23.97 ... 27.22 26.45</div><input id='attrs-be2e9e5c-666c-42df-b1c7-fcb1ff5e8f0c' class='xr-var-attrs-in' type='checkbox' ><label for='attrs-be2e9e5c-666c-42df-b1c7-fcb1ff5e8f0c' title='Show/Hide attributes'><svg class='icon xr-icon-file-text2'><use xlink:href='#icon-file-text2'></use></svg></label><input id='data-da62418f-3b52-4bbf-b205-22b62cc7bccb' class='xr-var-data-in' type='checkbox'><label for='data-da62418f-3b52-4bbf-b205-22b62cc7bccb' title='Show/Hide data repr'><svg class='icon xr-icon-database'><use xlink:href='#icon-database'></use></svg></label><div class='xr-var-attrs'><dl class='xr-attrs'><dt><span>valid_min :</span></dt><dd>-1000.0</dd><dt><span>valid_max :</span></dt><dd>1000.0</dd><dt><span>long_name :</span></dt><dd>Sea Surface Temperature Used in Geophysical Model Function</dd><dt><span>comment :</span></dt><dd>Sea Surface Temperature from NCAR Optimum Interpolation V2 product used during wind retrieval.</dd><dt><span>units :</span></dt><dd>Degrees Celsius</dd></dl></div><div class='xr-var-data'><pre>array([23.89356995, 23.79214096, 23.96500015, ..., 27.27500153,\n",
       "       27.21500015, 26.45499992])</pre></div></li><li class='xr-var-item'><div class='xr-var-name'><span>distance_from_coast</span></div><div class='xr-var-dims'>(count)</div><div class='xr-var-dtype'>float64</div><div class='xr-var-preview xr-preview'>864.0 876.0 ... 1.874e+03 1.886e+03</div><input id='attrs-6b6642ec-ea54-4c23-9f28-60cd3d3c40f5' class='xr-var-attrs-in' type='checkbox' ><label for='attrs-6b6642ec-ea54-4c23-9f28-60cd3d3c40f5' title='Show/Hide attributes'><svg class='icon xr-icon-file-text2'><use xlink:href='#icon-file-text2'></use></svg></label><input id='data-825cfe2a-6742-4dd3-99c4-22c675f0a208' class='xr-var-data-in' type='checkbox'><label for='data-825cfe2a-6742-4dd3-99c4-22c675f0a208' title='Show/Hide data repr'><svg class='icon xr-icon-database'><use xlink:href='#icon-database'></use></svg></label><div class='xr-var-attrs'><dl class='xr-attrs'><dt><span>valid_min :</span></dt><dd>-25000.0</dd><dt><span>valid_max :</span></dt><dd>25000.0</dd><dt><span>long_name :</span></dt><dd>Distance from nearest coastline</dd><dt><span>units :</span></dt><dd>km</dd></dl></div><div class='xr-var-data'><pre>array([ 864.,  876.,  862., ..., 1873., 1874., 1886.])</pre></div></li><li class='xr-var-item'><div class='xr-var-name'><span>exp_bias_wrt_oceanward_neighbors</span></div><div class='xr-var-dims'>(count)</div><div class='xr-var-dtype'>float64</div><div class='xr-var-preview xr-preview'>0.0 0.0 0.0 0.0 ... 0.0 0.0 0.0 0.0</div><input id='attrs-4b4cedca-c9bc-4681-832d-d429cfbf7d8b' class='xr-var-attrs-in' type='checkbox' ><label for='attrs-4b4cedca-c9bc-4681-832d-d429cfbf7d8b' title='Show/Hide attributes'><svg class='icon xr-icon-file-text2'><use xlink:href='#icon-file-text2'></use></svg></label><input id='data-4db2c3a6-dcdd-4b4d-b28c-b3430727387b' class='xr-var-data-in' type='checkbox'><label for='data-4db2c3a6-dcdd-4b4d-b28c-b3430727387b' title='Show/Hide data repr'><svg class='icon xr-icon-database'><use xlink:href='#icon-database'></use></svg></label><div class='xr-var-attrs'><dl class='xr-attrs'><dt><span>valid_min :</span></dt><dd>-1000.0</dd><dt><span>valid_max :</span></dt><dd>1000.0</dd><dt><span>long_name :</span></dt><dd>expected bias with respect to oceanward neighboring cells</dd><dt><span>comment :</span></dt><dd>Expected bias between the current cell and geographically oceanward neighboring cells.</dd><dt><span>units :</span></dt><dd>m s-1</dd></dl></div><div class='xr-var-data'><pre>array([0., 0., 0., ..., 0., 0., 0.])</pre></div></li><li class='xr-var-item'><div class='xr-var-name'><span>QS_TIME</span></div><div class='xr-var-dims'>(count)</div><div class='xr-var-dtype'>datetime64[ns]</div><div class='xr-var-preview xr-preview'>2000-01-01T00:34:36.702752664 .....</div><input id='attrs-2f1a52da-aa30-4e20-ae71-7012581542ab' class='xr-var-attrs-in' type='checkbox' disabled><label for='attrs-2f1a52da-aa30-4e20-ae71-7012581542ab' title='Show/Hide attributes'><svg class='icon xr-icon-file-text2'><use xlink:href='#icon-file-text2'></use></svg></label><input id='data-a7e37330-8340-4f3e-b84b-4780c36c8c07' class='xr-var-data-in' type='checkbox'><label for='data-a7e37330-8340-4f3e-b84b-4780c36c8c07' title='Show/Hide data repr'><svg class='icon xr-icon-database'><use xlink:href='#icon-database'></use></svg></label><div class='xr-var-attrs'><dl class='xr-attrs'></dl></div><div class='xr-var-data'><pre>array([&#x27;2000-01-01T00:34:36.702752664&#x27;, &#x27;2000-01-01T00:34:38.570027512&#x27;,\n",
       "       &#x27;2000-01-02T23:44:31.511134320&#x27;, ...,\n",
       "       &#x27;2006-12-31T03:41:26.024466272&#x27;, &#x27;2006-12-31T14:43:25.589127008&#x27;,\n",
       "       &#x27;2006-12-31T14:43:27.455223232&#x27;], dtype=&#x27;datetime64[ns]&#x27;)</pre></div></li></ul></div></li><li class='xr-section-item'><input id='section-23e10e46-94d7-464c-ba5a-0c03fd535c96' class='xr-section-summary-in' type='checkbox'  ><label for='section-23e10e46-94d7-464c-ba5a-0c03fd535c96' class='xr-section-summary' >Indexes: <span>(1)</span></label><div class='xr-section-inline-details'></div><div class='xr-section-details'><ul class='xr-var-list'><li class='xr-var-item'><div class='xr-index-name'><div>count</div></div><div class='xr-index-preview'>PandasIndex</div><div></div><input id='index-875f76dd-2361-4ec0-9359-3e49630c5131' class='xr-index-data-in' type='checkbox'/><label for='index-875f76dd-2361-4ec0-9359-3e49630c5131' title='Show/Hide index repr'><svg class='icon xr-icon-database'><use xlink:href='#icon-database'></use></svg></label><div class='xr-index-data'><pre>PandasIndex(Index([     0,      1,      2,      3,      4,      5,      6,      7,      8,\n",
       "            9,\n",
       "       ...\n",
       "       184309, 184310, 184311, 184312, 184313, 184314, 184315, 184316, 184317,\n",
       "       184318],\n",
       "      dtype=&#x27;int64&#x27;, name=&#x27;count&#x27;, length=184319))</pre></div></li></ul></div></li><li class='xr-section-item'><input id='section-b552ffb7-7ca3-405b-8e92-334a5dd6f80d' class='xr-section-summary-in' type='checkbox' disabled ><label for='section-b552ffb7-7ca3-405b-8e92-334a5dd6f80d' class='xr-section-summary'  title='Expand/collapse section'>Attributes: <span>(0)</span></label><div class='xr-section-inline-details'></div><div class='xr-section-details'><dl class='xr-attrs'></dl></div></li></ul></div></div>"
      ],
      "text/plain": [
       "<xarray.Dataset>\n",
       "Dimensions:                           (count: 184319)\n",
       "Coordinates:\n",
       "  * count                             (count) int64 0 1 2 ... 184317 184318\n",
       "Data variables: (12/63)\n",
       "    WDIR                              (count) float32 123.6 128.2 ... 217.6\n",
       "    WDIR_QC                           (count) float32 2.0 2.0 2.0 ... 2.0 2.0\n",
       "    WDIR_DM                           (count) |S1 b'D' b'D' b'D' ... b'D' b'D'\n",
       "    WSPD                              (count) float32 5.39 5.3 ... 10.64 9.83\n",
       "    WSPD_QC                           (count) float32 2.0 2.0 2.0 ... 2.0 2.0\n",
       "    WSPD_DM                           (count) |S1 b'D' b'D' b'D' ... b'D' b'D'\n",
       "    ...                                ...\n",
       "    number_out_fore                   (count) float64 6.0 7.0 7.0 ... 16.0 14.0\n",
       "    number_out_aft                    (count) float64 8.0 7.0 9.0 ... 26.0 26.0\n",
       "    gmf_sst                           (count) float64 23.89 23.79 ... 26.45\n",
       "    distance_from_coast               (count) float64 864.0 876.0 ... 1.886e+03\n",
       "    exp_bias_wrt_oceanward_neighbors  (count) float64 0.0 0.0 0.0 ... 0.0 0.0\n",
       "    QS_TIME                           (count) datetime64[ns] 2000-01-01T00:34..."
      ]
     },
     "execution_count": 9,
     "metadata": {},
     "output_type": "execute_result"
    }
   ],
   "source": [
    "allDS"
   ]
  },
  {
   "cell_type": "code",
   "execution_count": 10,
   "id": "60464f25-0cc6-4c8d-82c3-e242466f322d",
   "metadata": {},
   "outputs": [],
   "source": [
    "extended_flag_meaning = ['rain_correction_not_applied_flag',\n",
    "'correction_produced_negative_spd_flag',\n",
    "'all_ambiguities_contribute_to_nudging_flag',\n",
    "'large_rain_correction_flag',\n",
    "'coastal_processing_applied_flag',\n",
    "'lake_winds_flag',\n",
    "'rain_nearby_flag',\n",
    "'ice_nearby_flag',\n",
    "'significant_rain_correction_flag',\n",
    "'rain_correction_applied_flag',\n",
    "'wind_retrieval_possibly_corrupted_flag']\n",
    "\n",
    "extended_flags = np.array(allDS['eflags'].to_numpy(), dtype=int)\n",
    "eflags = np.array(['{:016b}'.format(val) for val in extended_flags])\n",
    "rainCorrectionNotApplied = np.array([val[15] == '0' for val in eflags])\n",
    "rainCorrectionApplied = np.array([val[4] == '1' for val in eflags])\n",
    "significantRainCorrectionApplied = np.array([val[5] == '1' for val in eflags])\n",
    "largeRainCorrectionApplied = np.array([val[12] == '1' for val in eflags])\n",
    "rainMask = np.logical_or(rainCorrectionApplied, significantRainCorrectionApplied)\n",
    "rainMask = np.logical_or(rainMask, largeRainCorrectionApplied)\n",
    "rainMask = np.logical_or(rainMask, rainCorrectionNotApplied)"
   ]
  },
  {
   "cell_type": "code",
   "execution_count": 11,
   "id": "bff0032c-c0ee-4435-b97d-eafdf9c3af29",
   "metadata": {},
   "outputs": [
    {
     "data": {
      "text/plain": [
       "27364"
      ]
     },
     "execution_count": 11,
     "metadata": {},
     "output_type": "execute_result"
    }
   ],
   "source": [
    "np.sum(rainMask)"
   ]
  },
  {
   "cell_type": "code",
   "execution_count": 12,
   "id": "78d54c5a-a10b-4d79-ab60-a3f668dea5ef",
   "metadata": {},
   "outputs": [],
   "source": [
    "noRainMask = ~rainMask\n",
    "mask1 = np.isnan(allDS['mean_WSPD'].to_numpy())\n",
    "mask1 = np.logical_or(mask1, np.isnan(allDS['WSPD_10N'].to_numpy()))\n",
    "mask1 = np.logical_or(mask1, np.isnan(allDS['WDIR'].to_numpy()))\n",
    "mask1 = np.logical_or(mask1, np.isnan(allDS['retrieved_wind_speed'].to_numpy()))\n",
    "mask1 = np.logical_or(mask1, np.isnan(allDS['retrieved_wind_direction'].to_numpy()))\n",
    "# mask2 = np.isnan(allDS['mean_WDIR'].to_numpy())\n",
    "# mask3 = np.isnan(allDS['mean_SST'].to_numpy())\n",
    "# mask4 = np.isnan(allDS['mean_RELH'].to_numpy())\n",
    "# mask5 = np.isnan(allDS['mean_AIRT'].to_numpy())"
   ]
  },
  {
   "cell_type": "code",
   "execution_count": 13,
   "id": "7a88d5d3-c48e-4346-9a07-eb4932e6b9c2",
   "metadata": {},
   "outputs": [],
   "source": [
    "selectMask = np.logical_and(noRainMask, ~mask1)"
   ]
  },
  {
   "cell_type": "code",
   "execution_count": 14,
   "id": "1032e618-8b59-45a2-9ee1-1783290c1337",
   "metadata": {},
   "outputs": [
    {
     "data": {
      "text/plain": [
       "(156955, 148255)"
      ]
     },
     "execution_count": 14,
     "metadata": {},
     "output_type": "execute_result"
    }
   ],
   "source": [
    "np.sum(noRainMask), np.sum(selectMask)"
   ]
  },
  {
   "cell_type": "code",
   "execution_count": 15,
   "id": "f1f3efb0-7b02-4299-907b-6db50bf98157",
   "metadata": {},
   "outputs": [],
   "source": [
    "indices = selectMask.nonzero()[0]"
   ]
  },
  {
   "cell_type": "code",
   "execution_count": 16,
   "id": "4fd96e3e-5632-4bb2-873c-00f2d56c3b8d",
   "metadata": {},
   "outputs": [],
   "source": [
    "goodDataSet = allDS.sel(count=indices)"
   ]
  },
  {
   "cell_type": "code",
   "execution_count": 17,
   "id": "b1f31d47-baff-4d9b-ad4e-4110ea2862fb",
   "metadata": {},
   "outputs": [
    {
     "name": "stdout",
     "output_type": "stream",
     "text": [
      "std_WSPD 0\n",
      "std_cosWDIR 5\n",
      "std_sinWDIR 0\n",
      "std_SST 972\n",
      "std_AIRT 0\n",
      "std_RELH 5\n"
     ]
    }
   ],
   "source": [
    "stdLabels = ['std_WSPD', 'std_cosWDIR', 'std_sinWDIR', 'std_SST', 'std_AIRT', 'std_RELH']\n",
    "for label in stdLabels:\n",
    "    mask = np.isnan(goodDataSet[label].to_numpy())\n",
    "    print(label, np.sum(mask))\n",
    "    goodDataSet[label] = xr.where(mask, 0.0, goodDataSet[label])"
   ]
  },
  {
   "cell_type": "code",
   "execution_count": 18,
   "id": "1735d6ac-b618-4cb8-85ab-38da48659269",
   "metadata": {},
   "outputs": [],
   "source": [
    "goodDataSet = goodDataSet.rename_vars({'WSPD':'Wind Speed (TAO)',\n",
    "                  'WDIR':'Wind Direction (TAO)',\n",
    "                  'UWND': 'Zonal Wind Speed (TAO)',\n",
    "                  'VWND': 'Meridional Wind Speed (TAO)',\n",
    "                  'SST': 'Sea Surface Temperature (TAO)',\n",
    "                  'RELH': 'Relative Humidity (TAO)',\n",
    "                  'AIRT': 'Air Temperature (TAO)',\n",
    "                  'WSPD_10N': 'Neutral Wind Speed at 10m (TAO)',\n",
    "                  'WSPD_10': 'Wind Speed at 10m (TAO)',\n",
    "                  'retrieved_wind_speed': 'Wind Speed (QuikSCAT)',\n",
    "                  'retrieved_wind_direction': 'Wind Direction (QuikSCAT)'})"
   ]
  },
  {
   "cell_type": "code",
   "execution_count": 19,
   "id": "faa78525-5a84-4808-bd21-1e547f602bbf",
   "metadata": {},
   "outputs": [],
   "source": [
    "df = goodDataSet.copy()"
   ]
  },
  {
   "cell_type": "code",
   "execution_count": 20,
   "id": "5bbc9741-dc28-423c-8853-1b1e1e361576",
   "metadata": {},
   "outputs": [],
   "source": [
    "df['Speed Difference (QuikSCAT - TAO)'] = df['Wind Speed (QuikSCAT)'] - df['Neutral Wind Speed at 10m (TAO)']\n",
    "\n",
    "## change true degrees to degrees where 0 deg mean east and 90 deg mean north \n",
    "#df['Wind Direction (TAO)'] = (-(df['Wind Direction (TAO)'] - 90.0) + 360)%360  ## TAO wind direction already fixed\n",
    "df['cos(Wind Direction (TAO)'] = np.cos(np.deg2rad(df['Wind Direction (TAO)']))\n",
    "df['sin(Wind Direction (TAO)'] = np.sin(np.deg2rad(df['Wind Direction (TAO)']))\n",
    "df['Wind Direction (QuikSCAT)'] = (-(df['Wind Direction (QuikSCAT)'] - 90.0) + 360)%360\n",
    "df['cos(Wind Direction (QuikSCAT)'] = np.cos(np.deg2rad(df['Wind Direction (QuikSCAT)']))\n",
    "df['sin(Wind Direction (QuikSCAT)'] = np.sin(np.deg2rad(df['Wind Direction (QuikSCAT)']))\n",
    "\n",
    "## calculate zonal and meridional winds \n",
    "df['Zonal Neutral Wind Speed (TAO)'] = df['Neutral Wind Speed at 10m (TAO)'] * np.cos(np.deg2rad(df['Wind Direction (TAO)']))\n",
    "df['Meridional Neutral Wind Speed (TAO)'] = df['Neutral Wind Speed at 10m (TAO)'] * np.sin(np.deg2rad(df['Wind Direction (TAO)']))\n",
    "\n",
    "df['Zonal Wind Speed (QuikSCAT)'] = df['Wind Speed (QuikSCAT)'] * np.cos(np.deg2rad(df['Wind Direction (QuikSCAT)']))\n",
    "df['Meridional Wind Speed (QuikSCAT)'] = df['Wind Speed (QuikSCAT)'] * np.sin(np.deg2rad(df['Wind Direction (QuikSCAT)']))\n",
    "\n",
    "## direction diff in range (-180,180)\n",
    "dirDiff = ((df['Wind Direction (QuikSCAT)'] - df['Wind Direction (TAO)'])+360)%360\n",
    "dirDiff = xr.where(dirDiff > 180, dirDiff-360, dirDiff)\n",
    "df['Direction Difference (QuikSCAT - TAO)'] = dirDiff\n",
    "df['cos(Direction Difference (QuikSCAT - TAO))'] = np.cos(np.deg2rad(dirDiff))\n",
    "df['sin(Direction Difference (QuikSCAT - TAO))'] = np.sin(np.deg2rad(dirDiff))\n",
    "\n",
    "df['Zonal Wind Speed Difference (QuikSCAT - TAO)'] = df['Zonal Wind Speed (QuikSCAT)'] - df['Zonal Neutral Wind Speed (TAO)']\n",
    "df['Meridional Wind Speed Difference (QuikSCAT - TAO)'] = df['Meridional Wind Speed (QuikSCAT)'] - df['Meridional Neutral Wind Speed (TAO)']\n",
    "\n",
    "# for timeWindow in range(20,730,10):\n",
    "#     df[f'Speed Difference (QuikSCAT - TAO {timeWindow} min mean)'] = df['Wind Speed (QuikSCAT)'] - df[f'mean WSPD_10N {timeWindow}min']\n",
    "\n",
    "#     ## change true degrees to degrees where 0 deg mean east and 90 deg mean north \n",
    "#     df[f'mean WDIR {timeWindow}min'] = (-(df[f'mean WDIR {timeWindow}min'] - 90.0) + 360)%360\n",
    "\n",
    "#     ## direction diff in range (-180,180)\n",
    "#     dirDiff = ((df['Wind Direction (QuikSCAT)'] - df[f'mean WDIR {timeWindow}min'])+360)%360\n",
    "#     dirDiff = xr.where(dirDiff > 180, dirDiff-360, dirDiff)\n",
    "#     df[f'Direction Difference (QuikSCAT - TAO {timeWindow} min mean)'] = dirDiff\n",
    "\n",
    "#     ### \n",
    "#     df[f'Zonal Wind Speed Difference (QuikSCAT - TAO {timeWindow} min mean)'] = df['Zonal Wind Speed (QuikSCAT)'] - df[f'mean Ux_10N {timeWindow}min']\n",
    "#     df[f'Meridional Wind Speed Difference (QuikSCAT - TAO {timeWindow} min mean)'] = df['Zonal Wind Speed (QuikSCAT)'] - df[f'mean Vy_10N {timeWindow}min']"
   ]
  },
  {
   "cell_type": "code",
   "execution_count": 21,
   "id": "6222fe6e-6812-4562-879c-2a0c95a5d316",
   "metadata": {},
   "outputs": [],
   "source": [
    "df['mean Vector Neutral Wind Speed (TAO)'] = np.sqrt(df['mean_U10N_x']**2 + df['mean_U10N_y']**2)"
   ]
  },
  {
   "cell_type": "code",
   "execution_count": 22,
   "id": "205793f6-a153-4388-8e67-682040a3cfd4",
   "metadata": {},
   "outputs": [
    {
     "data": {
      "text/plain": [
       "['Wind Direction (TAO)',\n",
       " 'WDIR_QC',\n",
       " 'WDIR_DM',\n",
       " 'Wind Speed (TAO)',\n",
       " 'WSPD_QC',\n",
       " 'WSPD_DM',\n",
       " 'Zonal Wind Speed (TAO)',\n",
       " 'Meridional Wind Speed (TAO)',\n",
       " 'Sea Surface Temperature (TAO)',\n",
       " 'SST_QC',\n",
       " 'SST_DM',\n",
       " 'Relative Humidity (TAO)',\n",
       " 'RELH_QC',\n",
       " 'RELH_DM',\n",
       " 'Air Temperature (TAO)',\n",
       " 'AIRT_QC',\n",
       " 'AIRT_DM',\n",
       " 'Neutral Wind Speed at 10m (TAO)',\n",
       " 'Wind Speed at 10m (TAO)',\n",
       " 'mean_WSPD',\n",
       " 'std_WSPD',\n",
       " 'mean_WSPD_10N',\n",
       " 'std_WSPD_10N',\n",
       " 'mean_SST',\n",
       " 'std_SST',\n",
       " 'mean_AIRT',\n",
       " 'std_AIRT',\n",
       " 'mean_RELH',\n",
       " 'std_RELH',\n",
       " 'mean_U10N_x',\n",
       " 'std_U10N_x',\n",
       " 'mean_U10N_y',\n",
       " 'std_U10N_y',\n",
       " 'mean_cosWDIR',\n",
       " 'std_cosWDIR',\n",
       " 'mean_sinWDIR',\n",
       " 'std_sinWDIR',\n",
       " 'LATITUDE',\n",
       " 'LONGITUDE',\n",
       " 'TAO_TIME',\n",
       " 'Deployment index',\n",
       " 'Wind Speed (QuikSCAT)',\n",
       " 'Wind Direction (QuikSCAT)',\n",
       " 'rain_impact',\n",
       " 'flags',\n",
       " 'eflags',\n",
       " 'nudge_wind_speed',\n",
       " 'nudge_wind_direction',\n",
       " 'retrieved_wind_speed_uncorrected',\n",
       " 'cross_track_wind_speed_bias',\n",
       " 'atmospheric_speed_bias',\n",
       " 'wind_obj',\n",
       " 'ambiguity_speed',\n",
       " 'ambiguity_direction',\n",
       " 'ambiguity_obj',\n",
       " 'number_in_fore',\n",
       " 'number_in_aft',\n",
       " 'number_out_fore',\n",
       " 'number_out_aft',\n",
       " 'gmf_sst',\n",
       " 'distance_from_coast',\n",
       " 'exp_bias_wrt_oceanward_neighbors',\n",
       " 'QS_TIME',\n",
       " 'Speed Difference (QuikSCAT - TAO)',\n",
       " 'cos(Wind Direction (TAO)',\n",
       " 'sin(Wind Direction (TAO)',\n",
       " 'cos(Wind Direction (QuikSCAT)',\n",
       " 'sin(Wind Direction (QuikSCAT)',\n",
       " 'Zonal Neutral Wind Speed (TAO)',\n",
       " 'Meridional Neutral Wind Speed (TAO)',\n",
       " 'Zonal Wind Speed (QuikSCAT)',\n",
       " 'Meridional Wind Speed (QuikSCAT)',\n",
       " 'Direction Difference (QuikSCAT - TAO)',\n",
       " 'cos(Direction Difference (QuikSCAT - TAO))',\n",
       " 'sin(Direction Difference (QuikSCAT - TAO))',\n",
       " 'Zonal Wind Speed Difference (QuikSCAT - TAO)',\n",
       " 'Meridional Wind Speed Difference (QuikSCAT - TAO)',\n",
       " 'mean Vector Neutral Wind Speed (TAO)']"
      ]
     },
     "execution_count": 22,
     "metadata": {},
     "output_type": "execute_result"
    }
   ],
   "source": [
    "list(df.keys())"
   ]
  },
  {
   "cell_type": "code",
   "execution_count": 25,
   "id": "cadaa77f-db2d-453e-bfb5-e3e50edefd0d",
   "metadata": {},
   "outputs": [],
   "source": [
    "df['Speed Difference (QuikSCAT - TAO 2hr mean)'] = df['Wind Speed (QuikSCAT)'] - df['mean_WSPD_10N']\n",
    "df['Wind Direction (TAO 2hr mean)'] = np.rad2deg(np.arctan2(df['mean_U10N_y'],df['mean_U10N_x']))\n",
    "dirDiff = df['Wind Direction (QuikSCAT)'] - df['Wind Direction (TAO 2hr mean)']\n",
    "dirDiff = xr.where(dirDiff > 180, dirDiff-360, dirDiff)\n",
    "df['Direction Difference (QuikSCAT - TAO 2hr mean)'] = dirDiff\n",
    "\n",
    "df['cos(Direction Difference (QuikSCAT - TAO 2hr mean))'] = np.cos(np.deg2rad(df['Wind Direction (QuikSCAT)'] - df['Wind Direction (TAO 2hr mean)']))\n",
    "df['sin(Direction Difference (QuikSCAT - TAO 2hr mean))'] = np.sin(np.deg2rad(df['Wind Direction (QuikSCAT)'] - df['Wind Direction (TAO 2hr mean)']))\n",
    "\n",
    "df['Zonal Wind Speed Difference (QuikSCAT - TAO 2hr mean)'] = df['Zonal Wind Speed (QuikSCAT)'] - df['mean_U10N_x']\n",
    "df['Meridional Wind Speed Difference (QuikSCAT - TAO 2hr mean)'] = df['Meridional Wind Speed (QuikSCAT)'] - df['mean_U10N_y']"
   ]
  },
  {
   "cell_type": "code",
   "execution_count": 26,
   "id": "733ff62e-abab-4198-acb2-92d3cc621c6b",
   "metadata": {},
   "outputs": [],
   "source": [
    "df.to_netcdf('goodData_QSwithTAO_with2hrStatsConv.nc')"
   ]
  },
  {
   "cell_type": "code",
   "execution_count": null,
   "id": "f45e622d-b062-4603-80ce-dcda0e35db47",
   "metadata": {},
   "outputs": [],
   "source": []
  }
 ],
 "metadata": {
  "kernelspec": {
   "display_name": "Python 3 (ipykernel)",
   "language": "python",
   "name": "python3"
  },
  "language_info": {
   "codemirror_mode": {
    "name": "ipython",
    "version": 3
   },
   "file_extension": ".py",
   "mimetype": "text/x-python",
   "name": "python",
   "nbconvert_exporter": "python",
   "pygments_lexer": "ipython3",
   "version": "3.11.6"
  }
 },
 "nbformat": 4,
 "nbformat_minor": 5
}
