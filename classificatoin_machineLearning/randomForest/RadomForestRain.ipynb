{
 "cells": [
  {
   "cell_type": "code",
   "execution_count": 1,
   "id": "195f83b1-ddbb-469c-beca-fadb422f4663",
   "metadata": {},
   "outputs": [],
   "source": [
    "import pandas as pd\n",
    "from sklearn.model_selection import train_test_split\n",
    "from sklearn.ensemble import RandomForestClassifier\n",
    "from sklearn.metrics import classification_report, accuracy_score\n",
    "import xarray as xr\n",
    "import numpy as np\n",
    "import matplotlib.pyplot as plt\n",
    "from datetime import datetime, timedelta\n",
    "from glob import glob\n",
    "%matplotlib inline"
   ]
  },
  {
   "cell_type": "code",
   "execution_count": 2,
   "id": "c08d2a74-3ab2-4d07-9508-2b1e1c63e2ce",
   "metadata": {},
   "outputs": [],
   "source": [
    "folderLoc ='/srv/data2/srai_poseidon/srai_poseidon/observation/SatelliteVsBuoy/downloads/Buoy/extractedGZ/WINDS/'\n",
    "fileList = glob(folderLoc + '*_xrr_COARE3p5_2000_withRAIN_2hrMeanVar.nc')"
   ]
  },
  {
   "cell_type": "code",
   "execution_count": 3,
   "id": "316e55a0-a61f-443e-bdfd-c80a836196c2",
   "metadata": {},
   "outputs": [],
   "source": [
    "# count = 0\n",
    "# for fname in fileList:\n",
    "#     print(fname.lstrip(folderLoc).rstrip('_xrr_COARE3p5_2000_withRAIN_2hrMeanVar.nc'))\n",
    "#     ds = xr.open_dataset(fname)\n",
    "#     ds['mean_WVEL'] = np.sqrt(ds['mean_U10N_x'] **2 + ds['mean_U10N_y']**2)\n",
    "#     selectLabels = ['mean_WVEL', 'mean_WSPD', 'std_WSPD', \n",
    "#                 'std_cosWDIR' , 'std_sinWDIR', \n",
    "#                 'mean_SST', 'std_SST', \n",
    "#                 'mean_AIRT', 'std_AIRT',\n",
    "#                 'mean_RELH', 'std_RELH',\n",
    "#                 'mean_RAIN']\n",
    "#     subDS = ds[selectLabels]\n",
    "#     selectMask = ~np.isnan(subDS['mean_WVEL'].to_numpy())\n",
    "#     subDS = subDS.isel(TIME=selectMask)\n",
    "#     stdLabels = ['std_WSPD', 'std_cosWDIR', 'std_sinWDIR', 'std_SST', 'std_AIRT', 'std_RELH']\n",
    "#     for label in stdLabels:\n",
    "#         mask = np.isnan(subDS[label].to_numpy())\n",
    "#         #print(label, np.sum(mask))\n",
    "#         subDS[label] = xr.where(mask, 0.0, subDS[label])\n",
    "#     data = subDS.to_dataframe()\n",
    "#     if count == 0:\n",
    "#         allDF = data\n",
    "#     else:\n",
    "#         allDF = pd.concat([allDF, data])\n",
    "#     ds.close()\n",
    "#     count+= 1\n",
    "    \n",
    "            "
   ]
  },
  {
   "cell_type": "code",
   "execution_count": 4,
   "id": "c67a6238-6e8a-43bb-828a-f11a13185505",
   "metadata": {},
   "outputs": [],
   "source": [
    "# allDF"
   ]
  },
  {
   "cell_type": "code",
   "execution_count": 5,
   "id": "3def9592-61ae-4084-a917-46943fc2aee9",
   "metadata": {},
   "outputs": [],
   "source": [
    "# allDF.to_csv('allData.csv', index=False)"
   ]
  },
  {
   "cell_type": "code",
   "execution_count": 6,
   "id": "7d6fd480-fe02-4971-b069-c91098259874",
   "metadata": {},
   "outputs": [],
   "source": [
    "allDF = pd.read_csv('allData.csv')"
   ]
  },
  {
   "cell_type": "code",
   "execution_count": 8,
   "id": "f7999263-6256-47bf-991f-d90c88801d84",
   "metadata": {},
   "outputs": [
    {
     "data": {
      "text/plain": [
       "4227846"
      ]
     },
     "execution_count": 8,
     "metadata": {},
     "output_type": "execute_result"
    }
   ],
   "source": [
    "len(allDF)"
   ]
  },
  {
   "cell_type": "code",
   "execution_count": 17,
   "id": "05cb324c-4f9d-46e6-bc0a-6757de5ad9c3",
   "metadata": {},
   "outputs": [
    {
     "name": "stdout",
     "output_type": "stream",
     "text": [
      "Accuracy: 0.9883309483543645\n",
      "\n",
      "Classification Report:\n",
      "               precision    recall  f1-score   support\n",
      "\n",
      "           0       0.99      1.00      0.99    822417\n",
      "           1       0.89      0.65      0.75     23153\n",
      "\n",
      "    accuracy                           0.99    845570\n",
      "   macro avg       0.94      0.83      0.87    845570\n",
      "weighted avg       0.99      0.99      0.99    845570\n",
      "\n"
     ]
    }
   ],
   "source": [
    "data = allDF\n",
    "data['RAIN_LABEL'] = data['mean_RAIN'].apply(lambda x: 1 if x > 1 else 0)\n",
    "\n",
    "# Features to use for classification\n",
    "features = ['mean_WSPD', 'mean_SST', 'mean_AIRT', 'mean_RELH', 'std_WSPD', 'std_cosWDIR', 'std_sinWDIR', 'std_SST', 'std_AIRT', 'std_RELH']\n",
    "\n",
    "# Split the dataset into features (X) and target (y)\n",
    "X = data[features]\n",
    "y = data['RAIN_LABEL']\n",
    "\n",
    "# Split the data into training and testing sets\n",
    "X_train, X_test, y_train, y_test = train_test_split(X, y, test_size=0.2, random_state=42)\n",
    "\n",
    "# Initialize and train a RandomForest Classifier\n",
    "classifier = RandomForestClassifier(random_state=42, n_jobs=-1)\n",
    "classifier.fit(X_train, y_train)\n",
    "\n",
    "# Make predictions on the test set\n",
    "y_pred = classifier.predict(X_test)\n",
    "\n",
    "# Evaluate the classifier performance\n",
    "print(\"Accuracy:\", accuracy_score(y_test, y_pred))\n",
    "print(\"\\nClassification Report:\\n\", classification_report(y_test, y_pred))"
   ]
  },
  {
   "cell_type": "code",
   "execution_count": 18,
   "id": "fd1e31e6-e6e5-437f-a869-28850564e43f",
   "metadata": {},
   "outputs": [],
   "source": [
    "falsePos = np.logical_and(y_test ==0, y_pred == 1)\n",
    "falseNeg = np.logical_and(y_test ==1, y_pred == 0)"
   ]
  },
  {
   "cell_type": "code",
   "execution_count": 19,
   "id": "4a25dece-832e-4fd8-95a1-b19c5d7f1c84",
   "metadata": {},
   "outputs": [
    {
     "data": {
      "text/plain": [
       "1826"
      ]
     },
     "execution_count": 19,
     "metadata": {},
     "output_type": "execute_result"
    }
   ],
   "source": [
    "np.sum(falsePos)"
   ]
  },
  {
   "cell_type": "code",
   "execution_count": 20,
   "id": "483a0825-da7d-4974-af44-fd45b38698c6",
   "metadata": {},
   "outputs": [
    {
     "data": {
      "text/plain": [
       "8041"
      ]
     },
     "execution_count": 20,
     "metadata": {},
     "output_type": "execute_result"
    }
   ],
   "source": [
    "np.sum(falseNeg)"
   ]
  },
  {
   "cell_type": "code",
   "execution_count": 21,
   "id": "f5c28e41-2ca5-437e-a8f5-f21b77dd621d",
   "metadata": {},
   "outputs": [
    {
     "data": {
      "text/plain": [
       "845570"
      ]
     },
     "execution_count": 21,
     "metadata": {},
     "output_type": "execute_result"
    }
   ],
   "source": [
    "len(y_test)"
   ]
  },
  {
   "cell_type": "code",
   "execution_count": 22,
   "id": "6d6189b2-a781-46f7-968b-4a85b7a56f94",
   "metadata": {},
   "outputs": [
    {
     "data": {
      "text/plain": [
       "1.1669051645635489"
      ]
     },
     "execution_count": 22,
     "metadata": {},
     "output_type": "execute_result"
    }
   ],
   "source": [
    "(np.sum(falsePos) + np.sum(falseNeg))/845570*100"
   ]
  },
  {
   "cell_type": "code",
   "execution_count": 23,
   "id": "84cfa29d-2284-4309-95dd-72786d4d2cc2",
   "metadata": {},
   "outputs": [
    {
     "data": {
      "text/plain": [
       "['random_forest_rainDetection.joblib']"
      ]
     },
     "execution_count": 23,
     "metadata": {},
     "output_type": "execute_result"
    }
   ],
   "source": [
    "import joblib\n",
    "# from sklearn.ensemble import RandomForestClassifier\n",
    "# # create RF\n",
    "# rf = RandomForestClassifier()\n",
    "# # fit on some data\n",
    "# rf.fit(X, y)\n",
    "\n",
    "# save\n",
    "joblib.dump(classifier, \"random_forest_rainDetection.joblib\")\n",
    "\n",
    "# # load\n",
    "# loaded_rf = joblib.load(\"my_random_forest.joblib\")"
   ]
  },
  {
   "cell_type": "code",
   "execution_count": 7,
   "id": "4c6bf924-bb2b-4409-9164-fe4b48de1a53",
   "metadata": {},
   "outputs": [
    {
     "data": {
      "text/plain": [
       "1.5331692017132643"
      ]
     },
     "execution_count": 7,
     "metadata": {},
     "output_type": "execute_result"
    }
   ],
   "source": [
    "2273/(145982 + 2273) * 100"
   ]
  },
  {
   "cell_type": "code",
   "execution_count": 9,
   "id": "07059306-51ef-433f-bcba-5a3404b6421c",
   "metadata": {},
   "outputs": [
    {
     "data": {
      "text/plain": [
       "148255"
      ]
     },
     "execution_count": 9,
     "metadata": {},
     "output_type": "execute_result"
    }
   ],
   "source": [
    "145982 + 2273"
   ]
  },
  {
   "cell_type": "code",
   "execution_count": null,
   "id": "a2fe7c94-7774-4721-b64a-6843c102cc8e",
   "metadata": {},
   "outputs": [],
   "source": []
  }
 ],
 "metadata": {
  "kernelspec": {
   "display_name": "Python 3 (ipykernel)",
   "language": "python",
   "name": "python3"
  },
  "language_info": {
   "codemirror_mode": {
    "name": "ipython",
    "version": 3
   },
   "file_extension": ".py",
   "mimetype": "text/x-python",
   "name": "python",
   "nbconvert_exporter": "python",
   "pygments_lexer": "ipython3",
   "version": "3.11.6"
  }
 },
 "nbformat": 4,
 "nbformat_minor": 5
}
