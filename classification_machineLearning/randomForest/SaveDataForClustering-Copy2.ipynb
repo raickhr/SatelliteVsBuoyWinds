{
 "cells": [
  {
   "cell_type": "code",
   "execution_count": 26,
   "id": "4a0bb63a-ef7c-402d-b0b4-3cfa7d6002c0",
   "metadata": {},
   "outputs": [],
   "source": [
    "from sklearn.cluster import KMeans\n",
    "import numpy as np\n",
    "import matplotlib.pyplot as plt\n",
    "\n",
    "from matplotlib import cm\n",
    "import matplotlib.cbook as cbook\n",
    "import matplotlib.colors as colors\n",
    "\n",
    "import pandas as pd\n",
    "import xarray as xr\n",
    "from netCDF4 import Dataset, num2date, date2num\n",
    "from datetime import datetime, timedelta\n",
    "import os\n",
    "\n",
    "import seaborn as sns\n",
    "import cmocean as cmocn\n",
    "\n",
    "%matplotlib inline"
   ]
  },
  {
   "cell_type": "code",
   "execution_count": 27,
   "id": "72b80663-359d-4c5b-a1ee-7dbbb98d3f24",
   "metadata": {
    "scrolled": true
   },
   "outputs": [
    {
     "data": {
      "text/html": [
       "<div><svg style=\"position: absolute; width: 0; height: 0; overflow: hidden\">\n",
       "<defs>\n",
       "<symbol id=\"icon-database\" viewBox=\"0 0 32 32\">\n",
       "<path d=\"M16 0c-8.837 0-16 2.239-16 5v4c0 2.761 7.163 5 16 5s16-2.239 16-5v-4c0-2.761-7.163-5-16-5z\"></path>\n",
       "<path d=\"M16 17c-8.837 0-16-2.239-16-5v6c0 2.761 7.163 5 16 5s16-2.239 16-5v-6c0 2.761-7.163 5-16 5z\"></path>\n",
       "<path d=\"M16 26c-8.837 0-16-2.239-16-5v6c0 2.761 7.163 5 16 5s16-2.239 16-5v-6c0 2.761-7.163 5-16 5z\"></path>\n",
       "</symbol>\n",
       "<symbol id=\"icon-file-text2\" viewBox=\"0 0 32 32\">\n",
       "<path d=\"M28.681 7.159c-0.694-0.947-1.662-2.053-2.724-3.116s-2.169-2.030-3.116-2.724c-1.612-1.182-2.393-1.319-2.841-1.319h-15.5c-1.378 0-2.5 1.121-2.5 2.5v27c0 1.378 1.122 2.5 2.5 2.5h23c1.378 0 2.5-1.122 2.5-2.5v-19.5c0-0.448-0.137-1.23-1.319-2.841zM24.543 5.457c0.959 0.959 1.712 1.825 2.268 2.543h-4.811v-4.811c0.718 0.556 1.584 1.309 2.543 2.268zM28 29.5c0 0.271-0.229 0.5-0.5 0.5h-23c-0.271 0-0.5-0.229-0.5-0.5v-27c0-0.271 0.229-0.5 0.5-0.5 0 0 15.499-0 15.5 0v7c0 0.552 0.448 1 1 1h7v19.5z\"></path>\n",
       "<path d=\"M23 26h-14c-0.552 0-1-0.448-1-1s0.448-1 1-1h14c0.552 0 1 0.448 1 1s-0.448 1-1 1z\"></path>\n",
       "<path d=\"M23 22h-14c-0.552 0-1-0.448-1-1s0.448-1 1-1h14c0.552 0 1 0.448 1 1s-0.448 1-1 1z\"></path>\n",
       "<path d=\"M23 18h-14c-0.552 0-1-0.448-1-1s0.448-1 1-1h14c0.552 0 1 0.448 1 1s-0.448 1-1 1z\"></path>\n",
       "</symbol>\n",
       "</defs>\n",
       "</svg>\n",
       "<style>/* CSS stylesheet for displaying xarray objects in jupyterlab.\n",
       " *\n",
       " */\n",
       "\n",
       ":root {\n",
       "  --xr-font-color0: var(--jp-content-font-color0, rgba(0, 0, 0, 1));\n",
       "  --xr-font-color2: var(--jp-content-font-color2, rgba(0, 0, 0, 0.54));\n",
       "  --xr-font-color3: var(--jp-content-font-color3, rgba(0, 0, 0, 0.38));\n",
       "  --xr-border-color: var(--jp-border-color2, #e0e0e0);\n",
       "  --xr-disabled-color: var(--jp-layout-color3, #bdbdbd);\n",
       "  --xr-background-color: var(--jp-layout-color0, white);\n",
       "  --xr-background-color-row-even: var(--jp-layout-color1, white);\n",
       "  --xr-background-color-row-odd: var(--jp-layout-color2, #eeeeee);\n",
       "}\n",
       "\n",
       "html[theme=dark],\n",
       "body[data-theme=dark],\n",
       "body.vscode-dark {\n",
       "  --xr-font-color0: rgba(255, 255, 255, 1);\n",
       "  --xr-font-color2: rgba(255, 255, 255, 0.54);\n",
       "  --xr-font-color3: rgba(255, 255, 255, 0.38);\n",
       "  --xr-border-color: #1F1F1F;\n",
       "  --xr-disabled-color: #515151;\n",
       "  --xr-background-color: #111111;\n",
       "  --xr-background-color-row-even: #111111;\n",
       "  --xr-background-color-row-odd: #313131;\n",
       "}\n",
       "\n",
       ".xr-wrap {\n",
       "  display: block !important;\n",
       "  min-width: 300px;\n",
       "  max-width: 700px;\n",
       "}\n",
       "\n",
       ".xr-text-repr-fallback {\n",
       "  /* fallback to plain text repr when CSS is not injected (untrusted notebook) */\n",
       "  display: none;\n",
       "}\n",
       "\n",
       ".xr-header {\n",
       "  padding-top: 6px;\n",
       "  padding-bottom: 6px;\n",
       "  margin-bottom: 4px;\n",
       "  border-bottom: solid 1px var(--xr-border-color);\n",
       "}\n",
       "\n",
       ".xr-header > div,\n",
       ".xr-header > ul {\n",
       "  display: inline;\n",
       "  margin-top: 0;\n",
       "  margin-bottom: 0;\n",
       "}\n",
       "\n",
       ".xr-obj-type,\n",
       ".xr-array-name {\n",
       "  margin-left: 2px;\n",
       "  margin-right: 10px;\n",
       "}\n",
       "\n",
       ".xr-obj-type {\n",
       "  color: var(--xr-font-color2);\n",
       "}\n",
       "\n",
       ".xr-sections {\n",
       "  padding-left: 0 !important;\n",
       "  display: grid;\n",
       "  grid-template-columns: 150px auto auto 1fr 20px 20px;\n",
       "}\n",
       "\n",
       ".xr-section-item {\n",
       "  display: contents;\n",
       "}\n",
       "\n",
       ".xr-section-item input {\n",
       "  display: none;\n",
       "}\n",
       "\n",
       ".xr-section-item input + label {\n",
       "  color: var(--xr-disabled-color);\n",
       "}\n",
       "\n",
       ".xr-section-item input:enabled + label {\n",
       "  cursor: pointer;\n",
       "  color: var(--xr-font-color2);\n",
       "}\n",
       "\n",
       ".xr-section-item input:enabled + label:hover {\n",
       "  color: var(--xr-font-color0);\n",
       "}\n",
       "\n",
       ".xr-section-summary {\n",
       "  grid-column: 1;\n",
       "  color: var(--xr-font-color2);\n",
       "  font-weight: 500;\n",
       "}\n",
       "\n",
       ".xr-section-summary > span {\n",
       "  display: inline-block;\n",
       "  padding-left: 0.5em;\n",
       "}\n",
       "\n",
       ".xr-section-summary-in:disabled + label {\n",
       "  color: var(--xr-font-color2);\n",
       "}\n",
       "\n",
       ".xr-section-summary-in + label:before {\n",
       "  display: inline-block;\n",
       "  content: '►';\n",
       "  font-size: 11px;\n",
       "  width: 15px;\n",
       "  text-align: center;\n",
       "}\n",
       "\n",
       ".xr-section-summary-in:disabled + label:before {\n",
       "  color: var(--xr-disabled-color);\n",
       "}\n",
       "\n",
       ".xr-section-summary-in:checked + label:before {\n",
       "  content: '▼';\n",
       "}\n",
       "\n",
       ".xr-section-summary-in:checked + label > span {\n",
       "  display: none;\n",
       "}\n",
       "\n",
       ".xr-section-summary,\n",
       ".xr-section-inline-details {\n",
       "  padding-top: 4px;\n",
       "  padding-bottom: 4px;\n",
       "}\n",
       "\n",
       ".xr-section-inline-details {\n",
       "  grid-column: 2 / -1;\n",
       "}\n",
       "\n",
       ".xr-section-details {\n",
       "  display: none;\n",
       "  grid-column: 1 / -1;\n",
       "  margin-bottom: 5px;\n",
       "}\n",
       "\n",
       ".xr-section-summary-in:checked ~ .xr-section-details {\n",
       "  display: contents;\n",
       "}\n",
       "\n",
       ".xr-array-wrap {\n",
       "  grid-column: 1 / -1;\n",
       "  display: grid;\n",
       "  grid-template-columns: 20px auto;\n",
       "}\n",
       "\n",
       ".xr-array-wrap > label {\n",
       "  grid-column: 1;\n",
       "  vertical-align: top;\n",
       "}\n",
       "\n",
       ".xr-preview {\n",
       "  color: var(--xr-font-color3);\n",
       "}\n",
       "\n",
       ".xr-array-preview,\n",
       ".xr-array-data {\n",
       "  padding: 0 5px !important;\n",
       "  grid-column: 2;\n",
       "}\n",
       "\n",
       ".xr-array-data,\n",
       ".xr-array-in:checked ~ .xr-array-preview {\n",
       "  display: none;\n",
       "}\n",
       "\n",
       ".xr-array-in:checked ~ .xr-array-data,\n",
       ".xr-array-preview {\n",
       "  display: inline-block;\n",
       "}\n",
       "\n",
       ".xr-dim-list {\n",
       "  display: inline-block !important;\n",
       "  list-style: none;\n",
       "  padding: 0 !important;\n",
       "  margin: 0;\n",
       "}\n",
       "\n",
       ".xr-dim-list li {\n",
       "  display: inline-block;\n",
       "  padding: 0;\n",
       "  margin: 0;\n",
       "}\n",
       "\n",
       ".xr-dim-list:before {\n",
       "  content: '(';\n",
       "}\n",
       "\n",
       ".xr-dim-list:after {\n",
       "  content: ')';\n",
       "}\n",
       "\n",
       ".xr-dim-list li:not(:last-child):after {\n",
       "  content: ',';\n",
       "  padding-right: 5px;\n",
       "}\n",
       "\n",
       ".xr-has-index {\n",
       "  font-weight: bold;\n",
       "}\n",
       "\n",
       ".xr-var-list,\n",
       ".xr-var-item {\n",
       "  display: contents;\n",
       "}\n",
       "\n",
       ".xr-var-item > div,\n",
       ".xr-var-item label,\n",
       ".xr-var-item > .xr-var-name span {\n",
       "  background-color: var(--xr-background-color-row-even);\n",
       "  margin-bottom: 0;\n",
       "}\n",
       "\n",
       ".xr-var-item > .xr-var-name:hover span {\n",
       "  padding-right: 5px;\n",
       "}\n",
       "\n",
       ".xr-var-list > li:nth-child(odd) > div,\n",
       ".xr-var-list > li:nth-child(odd) > label,\n",
       ".xr-var-list > li:nth-child(odd) > .xr-var-name span {\n",
       "  background-color: var(--xr-background-color-row-odd);\n",
       "}\n",
       "\n",
       ".xr-var-name {\n",
       "  grid-column: 1;\n",
       "}\n",
       "\n",
       ".xr-var-dims {\n",
       "  grid-column: 2;\n",
       "}\n",
       "\n",
       ".xr-var-dtype {\n",
       "  grid-column: 3;\n",
       "  text-align: right;\n",
       "  color: var(--xr-font-color2);\n",
       "}\n",
       "\n",
       ".xr-var-preview {\n",
       "  grid-column: 4;\n",
       "}\n",
       "\n",
       ".xr-index-preview {\n",
       "  grid-column: 2 / 5;\n",
       "  color: var(--xr-font-color2);\n",
       "}\n",
       "\n",
       ".xr-var-name,\n",
       ".xr-var-dims,\n",
       ".xr-var-dtype,\n",
       ".xr-preview,\n",
       ".xr-attrs dt {\n",
       "  white-space: nowrap;\n",
       "  overflow: hidden;\n",
       "  text-overflow: ellipsis;\n",
       "  padding-right: 10px;\n",
       "}\n",
       "\n",
       ".xr-var-name:hover,\n",
       ".xr-var-dims:hover,\n",
       ".xr-var-dtype:hover,\n",
       ".xr-attrs dt:hover {\n",
       "  overflow: visible;\n",
       "  width: auto;\n",
       "  z-index: 1;\n",
       "}\n",
       "\n",
       ".xr-var-attrs,\n",
       ".xr-var-data,\n",
       ".xr-index-data {\n",
       "  display: none;\n",
       "  background-color: var(--xr-background-color) !important;\n",
       "  padding-bottom: 5px !important;\n",
       "}\n",
       "\n",
       ".xr-var-attrs-in:checked ~ .xr-var-attrs,\n",
       ".xr-var-data-in:checked ~ .xr-var-data,\n",
       ".xr-index-data-in:checked ~ .xr-index-data {\n",
       "  display: block;\n",
       "}\n",
       "\n",
       ".xr-var-data > table {\n",
       "  float: right;\n",
       "}\n",
       "\n",
       ".xr-var-name span,\n",
       ".xr-var-data,\n",
       ".xr-index-name div,\n",
       ".xr-index-data,\n",
       ".xr-attrs {\n",
       "  padding-left: 25px !important;\n",
       "}\n",
       "\n",
       ".xr-attrs,\n",
       ".xr-var-attrs,\n",
       ".xr-var-data,\n",
       ".xr-index-data {\n",
       "  grid-column: 1 / -1;\n",
       "}\n",
       "\n",
       "dl.xr-attrs {\n",
       "  padding: 0;\n",
       "  margin: 0;\n",
       "  display: grid;\n",
       "  grid-template-columns: 125px auto;\n",
       "}\n",
       "\n",
       ".xr-attrs dt,\n",
       ".xr-attrs dd {\n",
       "  padding: 0;\n",
       "  margin: 0;\n",
       "  float: left;\n",
       "  padding-right: 10px;\n",
       "  width: auto;\n",
       "}\n",
       "\n",
       ".xr-attrs dt {\n",
       "  font-weight: normal;\n",
       "  grid-column: 1;\n",
       "}\n",
       "\n",
       ".xr-attrs dt:hover span {\n",
       "  display: inline-block;\n",
       "  background: var(--xr-background-color);\n",
       "  padding-right: 10px;\n",
       "}\n",
       "\n",
       ".xr-attrs dd {\n",
       "  grid-column: 2;\n",
       "  white-space: pre-wrap;\n",
       "  word-break: break-all;\n",
       "}\n",
       "\n",
       ".xr-icon-database,\n",
       ".xr-icon-file-text2,\n",
       ".xr-no-icon {\n",
       "  display: inline-block;\n",
       "  vertical-align: middle;\n",
       "  width: 1em;\n",
       "  height: 1.5em !important;\n",
       "  stroke-width: 0;\n",
       "  stroke: currentColor;\n",
       "  fill: currentColor;\n",
       "}\n",
       "</style><pre class='xr-text-repr-fallback'>&lt;xarray.Dataset&gt;\n",
       "Dimensions:                           (QS_TIME: 3036, cross_track: 3,\n",
       "                                       ambiguities: 4, TIME: 6690, HEIGHT: 3,\n",
       "                                       DEPTH: 1)\n",
       "Coordinates:\n",
       "  * QS_TIME                           (QS_TIME) datetime64[ns] 2001-06-25T17:...\n",
       "  * cross_track                       (cross_track) int64 0 1 2\n",
       "  * ambiguities                       (ambiguities) int64 0 1 2 3\n",
       "  * TIME                              (TIME) datetime64[ns] 2000-01-01T05:33:...\n",
       "  * HEIGHT                            (HEIGHT) float32 3.0 4.0 10.0\n",
       "  * DEPTH                             (DEPTH) float32 1.0\n",
       "Data variables: (12/66)\n",
       "    retrieved_wind_speed              (QS_TIME, cross_track) float64 ...\n",
       "    retrieved_wind_direction          (QS_TIME, cross_track) float64 ...\n",
       "    rain_impact                       (QS_TIME, cross_track) float64 ...\n",
       "    flags                             (QS_TIME, cross_track) float64 ...\n",
       "    eflags                            (QS_TIME, cross_track) float64 ...\n",
       "    nudge_wind_speed                  (QS_TIME, cross_track) float64 ...\n",
       "    ...                                ...\n",
       "    std_AIRT                          (QS_TIME) float64 ...\n",
       "    mean_RELH                         (QS_TIME) float64 ...\n",
       "    std_RELH                          (QS_TIME) float64 ...\n",
       "    mean_SST - AIRT                   (QS_TIME) float64 ...\n",
       "    std_SST - AIRT                    (QS_TIME) float64 ...\n",
       "    TAO_TIME                          (QS_TIME) datetime64[ns] ...</pre><div class='xr-wrap' style='display:none'><div class='xr-header'><div class='xr-obj-type'>xarray.Dataset</div></div><ul class='xr-sections'><li class='xr-section-item'><input id='section-21df5889-deb6-48c4-96db-ca0ee554fd70' class='xr-section-summary-in' type='checkbox' disabled ><label for='section-21df5889-deb6-48c4-96db-ca0ee554fd70' class='xr-section-summary'  title='Expand/collapse section'>Dimensions:</label><div class='xr-section-inline-details'><ul class='xr-dim-list'><li><span class='xr-has-index'>QS_TIME</span>: 3036</li><li><span class='xr-has-index'>cross_track</span>: 3</li><li><span class='xr-has-index'>ambiguities</span>: 4</li><li><span class='xr-has-index'>TIME</span>: 6690</li><li><span class='xr-has-index'>HEIGHT</span>: 3</li><li><span class='xr-has-index'>DEPTH</span>: 1</li></ul></div><div class='xr-section-details'></div></li><li class='xr-section-item'><input id='section-b0749038-5910-464c-9133-28d00bb41283' class='xr-section-summary-in' type='checkbox'  checked><label for='section-b0749038-5910-464c-9133-28d00bb41283' class='xr-section-summary' >Coordinates: <span>(6)</span></label><div class='xr-section-inline-details'></div><div class='xr-section-details'><ul class='xr-var-list'><li class='xr-var-item'><div class='xr-var-name'><span class='xr-has-index'>QS_TIME</span></div><div class='xr-var-dims'>(QS_TIME)</div><div class='xr-var-dtype'>datetime64[ns]</div><div class='xr-var-preview xr-preview'>2001-06-25T17:34:25.650508608 .....</div><input id='attrs-fbb3f576-c943-48aa-a0f4-764607182c11' class='xr-var-attrs-in' type='checkbox' ><label for='attrs-fbb3f576-c943-48aa-a0f4-764607182c11' title='Show/Hide attributes'><svg class='icon xr-icon-file-text2'><use xlink:href='#icon-file-text2'></use></svg></label><input id='data-d63e3a93-ca58-4d4a-96ce-c2295a5e3994' class='xr-var-data-in' type='checkbox'><label for='data-d63e3a93-ca58-4d4a-96ce-c2295a5e3994' title='Show/Hide data repr'><svg class='icon xr-icon-database'><use xlink:href='#icon-database'></use></svg></label><div class='xr-var-attrs'><dl class='xr-attrs'><dt><span>long_name :</span></dt><dd>date and time</dd><dt><span>featureType :</span></dt><dd>trajectory</dd></dl></div><div class='xr-var-data'><pre>array([&#x27;2001-06-25T17:34:25.650508608&#x27;, &#x27;2001-06-25T17:34:27.517318416&#x27;,\n",
       "       &#x27;2001-06-26T06:07:22.771479760&#x27;, ..., &#x27;2006-12-03T05:49:28.431828480&#x27;,\n",
       "       &#x27;2006-12-03T18:30:50.229146208&#x27;, &#x27;2006-12-03T18:30:52.095211616&#x27;],\n",
       "      dtype=&#x27;datetime64[ns]&#x27;)</pre></div></li><li class='xr-var-item'><div class='xr-var-name'><span class='xr-has-index'>cross_track</span></div><div class='xr-var-dims'>(cross_track)</div><div class='xr-var-dtype'>int64</div><div class='xr-var-preview xr-preview'>0 1 2</div><input id='attrs-1feec406-b812-4c8a-89cf-c343ba462ee7' class='xr-var-attrs-in' type='checkbox' disabled><label for='attrs-1feec406-b812-4c8a-89cf-c343ba462ee7' title='Show/Hide attributes'><svg class='icon xr-icon-file-text2'><use xlink:href='#icon-file-text2'></use></svg></label><input id='data-c22e5e2b-29ef-424e-8ed5-8d5e8e16fd48' class='xr-var-data-in' type='checkbox'><label for='data-c22e5e2b-29ef-424e-8ed5-8d5e8e16fd48' title='Show/Hide data repr'><svg class='icon xr-icon-database'><use xlink:href='#icon-database'></use></svg></label><div class='xr-var-attrs'><dl class='xr-attrs'></dl></div><div class='xr-var-data'><pre>array([0, 1, 2])</pre></div></li><li class='xr-var-item'><div class='xr-var-name'><span class='xr-has-index'>ambiguities</span></div><div class='xr-var-dims'>(ambiguities)</div><div class='xr-var-dtype'>int64</div><div class='xr-var-preview xr-preview'>0 1 2 3</div><input id='attrs-4b38ef48-b43a-41d4-9570-34acc5b93217' class='xr-var-attrs-in' type='checkbox' disabled><label for='attrs-4b38ef48-b43a-41d4-9570-34acc5b93217' title='Show/Hide attributes'><svg class='icon xr-icon-file-text2'><use xlink:href='#icon-file-text2'></use></svg></label><input id='data-6066ed2d-402d-4601-9e04-a16119c58102' class='xr-var-data-in' type='checkbox'><label for='data-6066ed2d-402d-4601-9e04-a16119c58102' title='Show/Hide data repr'><svg class='icon xr-icon-database'><use xlink:href='#icon-database'></use></svg></label><div class='xr-var-attrs'><dl class='xr-attrs'></dl></div><div class='xr-var-data'><pre>array([0, 1, 2, 3])</pre></div></li><li class='xr-var-item'><div class='xr-var-name'><span class='xr-has-index'>TIME</span></div><div class='xr-var-dims'>(TIME)</div><div class='xr-var-dtype'>datetime64[ns]</div><div class='xr-var-preview xr-preview'>2000-01-01T05:33:44 ... 2006-12-...</div><input id='attrs-3f5de931-72d6-4903-8916-1ebc2294d0cd' class='xr-var-attrs-in' type='checkbox' disabled><label for='attrs-3f5de931-72d6-4903-8916-1ebc2294d0cd' title='Show/Hide attributes'><svg class='icon xr-icon-file-text2'><use xlink:href='#icon-file-text2'></use></svg></label><input id='data-18970ca3-6c03-4524-9fbf-bd4d75ed40e7' class='xr-var-data-in' type='checkbox'><label for='data-18970ca3-6c03-4524-9fbf-bd4d75ed40e7' title='Show/Hide data repr'><svg class='icon xr-icon-database'><use xlink:href='#icon-database'></use></svg></label><div class='xr-var-attrs'><dl class='xr-attrs'></dl></div><div class='xr-var-data'><pre>array([&#x27;2000-01-01T05:33:44.000000000&#x27;, &#x27;2000-01-01T05:33:46.000000000&#x27;,\n",
       "       &#x27;2000-01-03T06:23:39.000000000&#x27;, ..., &#x27;2006-12-30T18:30:37.000000000&#x27;,\n",
       "       &#x27;2006-12-31T18:04:39.000000000&#x27;, &#x27;2006-12-31T18:04:41.000000000&#x27;],\n",
       "      dtype=&#x27;datetime64[ns]&#x27;)</pre></div></li><li class='xr-var-item'><div class='xr-var-name'><span class='xr-has-index'>HEIGHT</span></div><div class='xr-var-dims'>(HEIGHT)</div><div class='xr-var-dtype'>float32</div><div class='xr-var-preview xr-preview'>3.0 4.0 10.0</div><input id='attrs-99881241-4530-47b9-b616-d661729d994f' class='xr-var-attrs-in' type='checkbox' ><label for='attrs-99881241-4530-47b9-b616-d661729d994f' title='Show/Hide attributes'><svg class='icon xr-icon-file-text2'><use xlink:href='#icon-file-text2'></use></svg></label><input id='data-cdbada4e-9a97-4add-b7ef-8d45dfceaa91' class='xr-var-data-in' type='checkbox'><label for='data-cdbada4e-9a97-4add-b7ef-8d45dfceaa91' title='Show/Hide data repr'><svg class='icon xr-icon-database'><use xlink:href='#icon-database'></use></svg></label><div class='xr-var-attrs'><dl class='xr-attrs'><dt><span>standard_name :</span></dt><dd>height</dd><dt><span>long_name :</span></dt><dd>Nominal height of each measurement</dd><dt><span>units :</span></dt><dd>meters</dd><dt><span>valid_min :</span></dt><dd>0.0</dd><dt><span>valid_max :</span></dt><dd>4.0</dd><dt><span>axis :</span></dt><dd>Z</dd><dt><span>positive :</span></dt><dd>up</dd><dt><span>reference :</span></dt><dd>sea_level</dd><dt><span>coordinate_reference_frame :</span></dt><dd>urn:ogc:crs:EPSG::5829</dd></dl></div><div class='xr-var-data'><pre>array([ 3.,  4., 10.], dtype=float32)</pre></div></li><li class='xr-var-item'><div class='xr-var-name'><span class='xr-has-index'>DEPTH</span></div><div class='xr-var-dims'>(DEPTH)</div><div class='xr-var-dtype'>float32</div><div class='xr-var-preview xr-preview'>1.0</div><input id='attrs-bd16bfac-38aa-4db4-b1d4-cb7227f5a7d7' class='xr-var-attrs-in' type='checkbox' ><label for='attrs-bd16bfac-38aa-4db4-b1d4-cb7227f5a7d7' title='Show/Hide attributes'><svg class='icon xr-icon-file-text2'><use xlink:href='#icon-file-text2'></use></svg></label><input id='data-a2eaec96-4f17-4d8b-be4f-ed0498842602' class='xr-var-data-in' type='checkbox'><label for='data-a2eaec96-4f17-4d8b-be4f-ed0498842602' title='Show/Hide data repr'><svg class='icon xr-icon-database'><use xlink:href='#icon-database'></use></svg></label><div class='xr-var-attrs'><dl class='xr-attrs'><dt><span>standard_name :</span></dt><dd>depth</dd><dt><span>long_name :</span></dt><dd>Nominal depth of each measurement</dd><dt><span>units :</span></dt><dd>meters</dd><dt><span>valid_min :</span></dt><dd>0.0</dd><dt><span>valid_max :</span></dt><dd>500.0</dd><dt><span>axis :</span></dt><dd>Z</dd><dt><span>positive :</span></dt><dd>down</dd><dt><span>reference :</span></dt><dd>sea_level</dd><dt><span>coordinate_reference_frame :</span></dt><dd>urn:ogc:crs:EPSG::5831</dd></dl></div><div class='xr-var-data'><pre>array([1.], dtype=float32)</pre></div></li></ul></div></li><li class='xr-section-item'><input id='section-c7398bc7-a225-4f29-9b9c-5780b261e004' class='xr-section-summary-in' type='checkbox'  ><label for='section-c7398bc7-a225-4f29-9b9c-5780b261e004' class='xr-section-summary' >Data variables: <span>(66)</span></label><div class='xr-section-inline-details'></div><div class='xr-section-details'><ul class='xr-var-list'><li class='xr-var-item'><div class='xr-var-name'><span>retrieved_wind_speed</span></div><div class='xr-var-dims'>(QS_TIME, cross_track)</div><div class='xr-var-dtype'>float64</div><div class='xr-var-preview xr-preview'>...</div><input id='attrs-2edfbb9d-a795-4462-a6f0-566ad53da0b4' class='xr-var-attrs-in' type='checkbox' ><label for='attrs-2edfbb9d-a795-4462-a6f0-566ad53da0b4' title='Show/Hide attributes'><svg class='icon xr-icon-file-text2'><use xlink:href='#icon-file-text2'></use></svg></label><input id='data-813f8d55-1f85-4f45-be2f-521a942f2ede' class='xr-var-data-in' type='checkbox'><label for='data-813f8d55-1f85-4f45-be2f-521a942f2ede' title='Show/Hide data repr'><svg class='icon xr-icon-database'><use xlink:href='#icon-database'></use></svg></label><div class='xr-var-attrs'><dl class='xr-attrs'><dt><span>valid_min :</span></dt><dd>0.0</dd><dt><span>valid_max :</span></dt><dd>100.0</dd><dt><span>long_name :</span></dt><dd>equivalent neutral wind speed at 10 m</dd><dt><span>standard_name :</span></dt><dd>wind_speed</dd><dt><span>units :</span></dt><dd>m s-1</dd></dl></div><div class='xr-var-data'><pre>[9108 values with dtype=float64]</pre></div></li><li class='xr-var-item'><div class='xr-var-name'><span>retrieved_wind_direction</span></div><div class='xr-var-dims'>(QS_TIME, cross_track)</div><div class='xr-var-dtype'>float64</div><div class='xr-var-preview xr-preview'>...</div><input id='attrs-032eb998-8ff3-4179-87ab-2b361ee050ff' class='xr-var-attrs-in' type='checkbox' ><label for='attrs-032eb998-8ff3-4179-87ab-2b361ee050ff' title='Show/Hide attributes'><svg class='icon xr-icon-file-text2'><use xlink:href='#icon-file-text2'></use></svg></label><input id='data-740d7d29-8c99-41c8-bcee-d03f0a9bf882' class='xr-var-data-in' type='checkbox'><label for='data-740d7d29-8c99-41c8-bcee-d03f0a9bf882' title='Show/Hide data repr'><svg class='icon xr-icon-database'><use xlink:href='#icon-database'></use></svg></label><div class='xr-var-attrs'><dl class='xr-attrs'><dt><span>valid_min :</span></dt><dd>0.0</dd><dt><span>valid_max :</span></dt><dd>360.0</dd><dt><span>long_name :</span></dt><dd>equivalent neutral wind direction at 10 m</dd><dt><span>standard_name :</span></dt><dd>wind_to_direction</dd><dt><span>units :</span></dt><dd>degrees</dd></dl></div><div class='xr-var-data'><pre>[9108 values with dtype=float64]</pre></div></li><li class='xr-var-item'><div class='xr-var-name'><span>rain_impact</span></div><div class='xr-var-dims'>(QS_TIME, cross_track)</div><div class='xr-var-dtype'>float64</div><div class='xr-var-preview xr-preview'>...</div><input id='attrs-77f50a7f-c46f-4da6-b95f-5e1508ed5916' class='xr-var-attrs-in' type='checkbox' ><label for='attrs-77f50a7f-c46f-4da6-b95f-5e1508ed5916' title='Show/Hide attributes'><svg class='icon xr-icon-file-text2'><use xlink:href='#icon-file-text2'></use></svg></label><input id='data-5474df5c-7e4b-49d2-82a1-b99a0b326b92' class='xr-var-data-in' type='checkbox'><label for='data-5474df5c-7e4b-49d2-82a1-b99a0b326b92' title='Show/Hide data repr'><svg class='icon xr-icon-database'><use xlink:href='#icon-database'></use></svg></label><div class='xr-var-attrs'><dl class='xr-attrs'><dt><span>valid_min :</span></dt><dd>0.0</dd><dt><span>valid_max :</span></dt><dd>100.0</dd><dt><span>long_name :</span></dt><dd>impact of rain upon wind vector retrieval</dd><dt><span>units :</span></dt><dd>1</dd></dl></div><div class='xr-var-data'><pre>[9108 values with dtype=float64]</pre></div></li><li class='xr-var-item'><div class='xr-var-name'><span>flags</span></div><div class='xr-var-dims'>(QS_TIME, cross_track)</div><div class='xr-var-dtype'>float64</div><div class='xr-var-preview xr-preview'>...</div><input id='attrs-be45eb5e-f857-46c4-9d2d-cfbfe4b0cbcb' class='xr-var-attrs-in' type='checkbox' ><label for='attrs-be45eb5e-f857-46c4-9d2d-cfbfe4b0cbcb' title='Show/Hide attributes'><svg class='icon xr-icon-file-text2'><use xlink:href='#icon-file-text2'></use></svg></label><input id='data-67135066-916c-48f9-b444-86a3186d7404' class='xr-var-data-in' type='checkbox'><label for='data-67135066-916c-48f9-b444-86a3186d7404' title='Show/Hide data repr'><svg class='icon xr-icon-database'><use xlink:href='#icon-database'></use></svg></label><div class='xr-var-attrs'><dl class='xr-attrs'><dt><span>valid_min :</span></dt><dd>0</dd><dt><span>long_name :</span></dt><dd>wind vector cell quality flags</dd><dt><span>units :</span></dt><dd>bit</dd><dt><span>flag_masks :</span></dt><dd>1s, 2s, 32s, 64s, 128s, 256s, 512s, 1024s, 2048s, 4096s, 8192s, 16384s</dd><dt><span>flag_meanings :</span></dt><dd>adequate_sigma0_flag adequate_azimuth_diversity_flag poor_coastal_processing_flag wind_retrieval_likely_corrupted_flag coastal_flag ice_edge_flag winds_not_retrieved_flag high_wind_speed_flag low_wind_speed_flag rain_impact_flag_not_usable_flag rain_impact_flag missing_look_flag </dd><dt><span>valid_max :</span></dt><dd>32739.0</dd></dl></div><div class='xr-var-data'><pre>[9108 values with dtype=float64]</pre></div></li><li class='xr-var-item'><div class='xr-var-name'><span>eflags</span></div><div class='xr-var-dims'>(QS_TIME, cross_track)</div><div class='xr-var-dtype'>float64</div><div class='xr-var-preview xr-preview'>...</div><input id='attrs-1bc19e91-bbf4-4056-8759-41ec22092556' class='xr-var-attrs-in' type='checkbox' ><label for='attrs-1bc19e91-bbf4-4056-8759-41ec22092556' title='Show/Hide attributes'><svg class='icon xr-icon-file-text2'><use xlink:href='#icon-file-text2'></use></svg></label><input id='data-784a2a12-70ac-4bc5-bca2-266fbf04de02' class='xr-var-data-in' type='checkbox'><label for='data-784a2a12-70ac-4bc5-bca2-266fbf04de02' title='Show/Hide data repr'><svg class='icon xr-icon-database'><use xlink:href='#icon-database'></use></svg></label><div class='xr-var-attrs'><dl class='xr-attrs'><dt><span>valid_min :</span></dt><dd>0</dd><dt><span>long_name :</span></dt><dd>extended wind vector cell quality flags</dd><dt><span>units :</span></dt><dd>bit</dd><dt><span>flag_masks :</span></dt><dd>1s, 2s, 4s, 8s, 16s, 64s, 256s, 512s, 1024s, 2048s, 4096s</dd><dt><span>flag_meanings :</span></dt><dd>rain_correction_not_applied_flag correction_produced_negative_spd_flag all_ambiguities_contribute_to_nudging_flag large_rain_correction_flag coastal_processing_applied_flag lake_winds_flag rain_nearby_flag ice_nearby_flag significant_rain_correction_flag rain_correction_applied_flag wind_retrieval_possibly_corrupted_flag </dd><dt><span>valid_max :</span></dt><dd>7967.0</dd></dl></div><div class='xr-var-data'><pre>[9108 values with dtype=float64]</pre></div></li><li class='xr-var-item'><div class='xr-var-name'><span>nudge_wind_speed</span></div><div class='xr-var-dims'>(QS_TIME, cross_track)</div><div class='xr-var-dtype'>float64</div><div class='xr-var-preview xr-preview'>...</div><input id='attrs-95441032-2b36-49f9-8a98-f2a19fd0a242' class='xr-var-attrs-in' type='checkbox' ><label for='attrs-95441032-2b36-49f9-8a98-f2a19fd0a242' title='Show/Hide attributes'><svg class='icon xr-icon-file-text2'><use xlink:href='#icon-file-text2'></use></svg></label><input id='data-a7784cdb-ab9b-4c8e-bdd9-1947bd5b58a6' class='xr-var-data-in' type='checkbox'><label for='data-a7784cdb-ab9b-4c8e-bdd9-1947bd5b58a6' title='Show/Hide data repr'><svg class='icon xr-icon-database'><use xlink:href='#icon-database'></use></svg></label><div class='xr-var-attrs'><dl class='xr-attrs'><dt><span>valid_min :</span></dt><dd>0.0</dd><dt><span>valid_max :</span></dt><dd>100.0</dd><dt><span>long_name :</span></dt><dd>model wind speed</dd><dt><span>standard_name :</span></dt><dd>wind_speed</dd><dt><span>units :</span></dt><dd>m s-1</dd></dl></div><div class='xr-var-data'><pre>[9108 values with dtype=float64]</pre></div></li><li class='xr-var-item'><div class='xr-var-name'><span>nudge_wind_direction</span></div><div class='xr-var-dims'>(QS_TIME, cross_track)</div><div class='xr-var-dtype'>float64</div><div class='xr-var-preview xr-preview'>...</div><input id='attrs-3c770883-92ec-41fb-bfa5-d7eeaf77eb32' class='xr-var-attrs-in' type='checkbox' ><label for='attrs-3c770883-92ec-41fb-bfa5-d7eeaf77eb32' title='Show/Hide attributes'><svg class='icon xr-icon-file-text2'><use xlink:href='#icon-file-text2'></use></svg></label><input id='data-1f54b223-33bf-4bc4-8c09-e7faa931bd3c' class='xr-var-data-in' type='checkbox'><label for='data-1f54b223-33bf-4bc4-8c09-e7faa931bd3c' title='Show/Hide data repr'><svg class='icon xr-icon-database'><use xlink:href='#icon-database'></use></svg></label><div class='xr-var-attrs'><dl class='xr-attrs'><dt><span>valid_min :</span></dt><dd>0.0</dd><dt><span>valid_max :</span></dt><dd>360.0</dd><dt><span>long_name :</span></dt><dd>model wind direction</dd><dt><span>standard_name :</span></dt><dd>wind_to_direction</dd><dt><span>units :</span></dt><dd>degrees</dd></dl></div><div class='xr-var-data'><pre>[9108 values with dtype=float64]</pre></div></li><li class='xr-var-item'><div class='xr-var-name'><span>retrieved_wind_speed_uncorrected</span></div><div class='xr-var-dims'>(QS_TIME, cross_track)</div><div class='xr-var-dtype'>float64</div><div class='xr-var-preview xr-preview'>...</div><input id='attrs-ff75d066-03ed-4a74-b4ab-3591cb0cbbbc' class='xr-var-attrs-in' type='checkbox' ><label for='attrs-ff75d066-03ed-4a74-b4ab-3591cb0cbbbc' title='Show/Hide attributes'><svg class='icon xr-icon-file-text2'><use xlink:href='#icon-file-text2'></use></svg></label><input id='data-71dde82e-45d4-4083-bd85-f60df7a3386b' class='xr-var-data-in' type='checkbox'><label for='data-71dde82e-45d4-4083-bd85-f60df7a3386b' title='Show/Hide data repr'><svg class='icon xr-icon-database'><use xlink:href='#icon-database'></use></svg></label><div class='xr-var-attrs'><dl class='xr-attrs'><dt><span>valid_min :</span></dt><dd>0.0</dd><dt><span>valid_max :</span></dt><dd>100.0</dd><dt><span>long_name :</span></dt><dd>wind speed without rain correction</dd><dt><span>standard_name :</span></dt><dd>wind_speed</dd><dt><span>units :</span></dt><dd>m s-1</dd></dl></div><div class='xr-var-data'><pre>[9108 values with dtype=float64]</pre></div></li><li class='xr-var-item'><div class='xr-var-name'><span>cross_track_wind_speed_bias</span></div><div class='xr-var-dims'>(QS_TIME, cross_track)</div><div class='xr-var-dtype'>float64</div><div class='xr-var-preview xr-preview'>...</div><input id='attrs-36f17b0d-9e8f-4f15-ba44-e6b1d056dd2a' class='xr-var-attrs-in' type='checkbox' ><label for='attrs-36f17b0d-9e8f-4f15-ba44-e6b1d056dd2a' title='Show/Hide attributes'><svg class='icon xr-icon-file-text2'><use xlink:href='#icon-file-text2'></use></svg></label><input id='data-7a705604-fd03-4ba1-9c15-c0cbc73e0d02' class='xr-var-data-in' type='checkbox'><label for='data-7a705604-fd03-4ba1-9c15-c0cbc73e0d02' title='Show/Hide data repr'><svg class='icon xr-icon-database'><use xlink:href='#icon-database'></use></svg></label><div class='xr-var-attrs'><dl class='xr-attrs'><dt><span>valid_min :</span></dt><dd>-100.0</dd><dt><span>valid_max :</span></dt><dd>100.0</dd><dt><span>long_name :</span></dt><dd>relative wind speed bias with respect to sweet spot</dd><dt><span>units :</span></dt><dd>m s-1</dd></dl></div><div class='xr-var-data'><pre>[9108 values with dtype=float64]</pre></div></li><li class='xr-var-item'><div class='xr-var-name'><span>atmospheric_speed_bias</span></div><div class='xr-var-dims'>(QS_TIME, cross_track)</div><div class='xr-var-dtype'>float64</div><div class='xr-var-preview xr-preview'>...</div><input id='attrs-005f31d7-aeda-494c-a140-52d4ec578866' class='xr-var-attrs-in' type='checkbox' ><label for='attrs-005f31d7-aeda-494c-a140-52d4ec578866' title='Show/Hide attributes'><svg class='icon xr-icon-file-text2'><use xlink:href='#icon-file-text2'></use></svg></label><input id='data-3b512738-a0ab-430d-9fee-e0006464a139' class='xr-var-data-in' type='checkbox'><label for='data-3b512738-a0ab-430d-9fee-e0006464a139' title='Show/Hide data repr'><svg class='icon xr-icon-database'><use xlink:href='#icon-database'></use></svg></label><div class='xr-var-attrs'><dl class='xr-attrs'><dt><span>valid_min :</span></dt><dd>-100.0</dd><dt><span>valid_max :</span></dt><dd>100.0</dd><dt><span>long_name :</span></dt><dd>atmospheric speed bias</dd><dt><span>units :</span></dt><dd>m s-1</dd></dl></div><div class='xr-var-data'><pre>[9108 values with dtype=float64]</pre></div></li><li class='xr-var-item'><div class='xr-var-name'><span>wind_obj</span></div><div class='xr-var-dims'>(QS_TIME, cross_track)</div><div class='xr-var-dtype'>float64</div><div class='xr-var-preview xr-preview'>...</div><input id='attrs-ce6b8a10-39e1-41c2-8504-931131b38c7d' class='xr-var-attrs-in' type='checkbox' ><label for='attrs-ce6b8a10-39e1-41c2-8504-931131b38c7d' title='Show/Hide attributes'><svg class='icon xr-icon-file-text2'><use xlink:href='#icon-file-text2'></use></svg></label><input id='data-8a165008-d06f-4aa9-b1de-9543f5263ae1' class='xr-var-data-in' type='checkbox'><label for='data-8a165008-d06f-4aa9-b1de-9543f5263ae1' title='Show/Hide data repr'><svg class='icon xr-icon-database'><use xlink:href='#icon-database'></use></svg></label><div class='xr-var-attrs'><dl class='xr-attrs'><dt><span>valid_min :</span></dt><dd>-199.0</dd><dt><span>valid_max :</span></dt><dd>0.0</dd><dt><span>long_name :</span></dt><dd>retrieved wind objective function value</dd><dt><span>units :</span></dt><dd>1</dd></dl></div><div class='xr-var-data'><pre>[9108 values with dtype=float64]</pre></div></li><li class='xr-var-item'><div class='xr-var-name'><span>ambiguity_speed</span></div><div class='xr-var-dims'>(QS_TIME, cross_track, ambiguities)</div><div class='xr-var-dtype'>float64</div><div class='xr-var-preview xr-preview'>...</div><input id='attrs-348133ef-80ec-4500-8bb7-35541c74270e' class='xr-var-attrs-in' type='checkbox' ><label for='attrs-348133ef-80ec-4500-8bb7-35541c74270e' title='Show/Hide attributes'><svg class='icon xr-icon-file-text2'><use xlink:href='#icon-file-text2'></use></svg></label><input id='data-c8f36742-d0be-4669-a44d-15d23474f24d' class='xr-var-data-in' type='checkbox'><label for='data-c8f36742-d0be-4669-a44d-15d23474f24d' title='Show/Hide data repr'><svg class='icon xr-icon-database'><use xlink:href='#icon-database'></use></svg></label><div class='xr-var-attrs'><dl class='xr-attrs'><dt><span>valid_min :</span></dt><dd>0.0</dd><dt><span>valid_max :</span></dt><dd>100.0</dd><dt><span>long_name :</span></dt><dd>wind speed ambiguity</dd><dt><span>standard_name :</span></dt><dd>wind_speed</dd><dt><span>units :</span></dt><dd>m s-1</dd></dl></div><div class='xr-var-data'><pre>[36432 values with dtype=float64]</pre></div></li><li class='xr-var-item'><div class='xr-var-name'><span>ambiguity_direction</span></div><div class='xr-var-dims'>(QS_TIME, cross_track, ambiguities)</div><div class='xr-var-dtype'>float64</div><div class='xr-var-preview xr-preview'>...</div><input id='attrs-c2374830-3431-41cd-858f-a3d3933afc29' class='xr-var-attrs-in' type='checkbox' ><label for='attrs-c2374830-3431-41cd-858f-a3d3933afc29' title='Show/Hide attributes'><svg class='icon xr-icon-file-text2'><use xlink:href='#icon-file-text2'></use></svg></label><input id='data-f45287fd-6d87-4806-9d34-790d3743ccc6' class='xr-var-data-in' type='checkbox'><label for='data-f45287fd-6d87-4806-9d34-790d3743ccc6' title='Show/Hide data repr'><svg class='icon xr-icon-database'><use xlink:href='#icon-database'></use></svg></label><div class='xr-var-attrs'><dl class='xr-attrs'><dt><span>valid_min :</span></dt><dd>0.0</dd><dt><span>valid_max :</span></dt><dd>360.0</dd><dt><span>long_name :</span></dt><dd>wind direction ambiguity</dd><dt><span>standard_name :</span></dt><dd>wind_to_direction</dd><dt><span>units :</span></dt><dd>degrees</dd></dl></div><div class='xr-var-data'><pre>[36432 values with dtype=float64]</pre></div></li><li class='xr-var-item'><div class='xr-var-name'><span>ambiguity_obj</span></div><div class='xr-var-dims'>(QS_TIME, cross_track, ambiguities)</div><div class='xr-var-dtype'>float64</div><div class='xr-var-preview xr-preview'>...</div><input id='attrs-ac686720-f8f1-4ee6-b45c-69fc44321934' class='xr-var-attrs-in' type='checkbox' ><label for='attrs-ac686720-f8f1-4ee6-b45c-69fc44321934' title='Show/Hide attributes'><svg class='icon xr-icon-file-text2'><use xlink:href='#icon-file-text2'></use></svg></label><input id='data-512f62d9-c26d-42c3-8c0c-9c4e327059cc' class='xr-var-data-in' type='checkbox'><label for='data-512f62d9-c26d-42c3-8c0c-9c4e327059cc' title='Show/Hide data repr'><svg class='icon xr-icon-database'><use xlink:href='#icon-database'></use></svg></label><div class='xr-var-attrs'><dl class='xr-attrs'><dt><span>valid_min :</span></dt><dd>-199.0</dd><dt><span>valid_max :</span></dt><dd>0.0</dd><dt><span>long_name :</span></dt><dd>wind objective function values</dd><dt><span>units :</span></dt><dd>1</dd></dl></div><div class='xr-var-data'><pre>[36432 values with dtype=float64]</pre></div></li><li class='xr-var-item'><div class='xr-var-name'><span>number_in_fore</span></div><div class='xr-var-dims'>(QS_TIME, cross_track)</div><div class='xr-var-dtype'>float64</div><div class='xr-var-preview xr-preview'>...</div><input id='attrs-1a69cd71-ac4f-432a-8f3c-4df4c458e5a2' class='xr-var-attrs-in' type='checkbox' ><label for='attrs-1a69cd71-ac4f-432a-8f3c-4df4c458e5a2' title='Show/Hide attributes'><svg class='icon xr-icon-file-text2'><use xlink:href='#icon-file-text2'></use></svg></label><input id='data-641f4e5e-3d2c-469d-806e-95c6af8e92e7' class='xr-var-data-in' type='checkbox'><label for='data-641f4e5e-3d2c-469d-806e-95c6af8e92e7' title='Show/Hide data repr'><svg class='icon xr-icon-database'><use xlink:href='#icon-database'></use></svg></label><div class='xr-var-attrs'><dl class='xr-attrs'><dt><span>valid_min :</span></dt><dd>1</dd><dt><span>valid_max :</span></dt><dd>127</dd><dt><span>long_name :</span></dt><dd>number of inner forward looks in wind vector cell</dd><dt><span>units :</span></dt><dd>1</dd></dl></div><div class='xr-var-data'><pre>[9108 values with dtype=float64]</pre></div></li><li class='xr-var-item'><div class='xr-var-name'><span>number_in_aft</span></div><div class='xr-var-dims'>(QS_TIME, cross_track)</div><div class='xr-var-dtype'>float64</div><div class='xr-var-preview xr-preview'>...</div><input id='attrs-0d6ea96b-752c-4c72-a28f-6efa3aea4c5e' class='xr-var-attrs-in' type='checkbox' ><label for='attrs-0d6ea96b-752c-4c72-a28f-6efa3aea4c5e' title='Show/Hide attributes'><svg class='icon xr-icon-file-text2'><use xlink:href='#icon-file-text2'></use></svg></label><input id='data-1718f202-c2ed-4f48-9133-4cf3a214f256' class='xr-var-data-in' type='checkbox'><label for='data-1718f202-c2ed-4f48-9133-4cf3a214f256' title='Show/Hide data repr'><svg class='icon xr-icon-database'><use xlink:href='#icon-database'></use></svg></label><div class='xr-var-attrs'><dl class='xr-attrs'><dt><span>valid_min :</span></dt><dd>1</dd><dt><span>valid_max :</span></dt><dd>127</dd><dt><span>long_name :</span></dt><dd>number of inner aft looks in wind vector cell</dd><dt><span>units :</span></dt><dd>1</dd></dl></div><div class='xr-var-data'><pre>[9108 values with dtype=float64]</pre></div></li><li class='xr-var-item'><div class='xr-var-name'><span>number_out_fore</span></div><div class='xr-var-dims'>(QS_TIME, cross_track)</div><div class='xr-var-dtype'>float64</div><div class='xr-var-preview xr-preview'>...</div><input id='attrs-9d0aed6a-1b88-485e-97d1-fc3da9fe931d' class='xr-var-attrs-in' type='checkbox' ><label for='attrs-9d0aed6a-1b88-485e-97d1-fc3da9fe931d' title='Show/Hide attributes'><svg class='icon xr-icon-file-text2'><use xlink:href='#icon-file-text2'></use></svg></label><input id='data-c0302a4a-356a-4d88-94eb-58c3e7e40e71' class='xr-var-data-in' type='checkbox'><label for='data-c0302a4a-356a-4d88-94eb-58c3e7e40e71' title='Show/Hide data repr'><svg class='icon xr-icon-database'><use xlink:href='#icon-database'></use></svg></label><div class='xr-var-attrs'><dl class='xr-attrs'><dt><span>valid_min :</span></dt><dd>1</dd><dt><span>valid_max :</span></dt><dd>127</dd><dt><span>long_name :</span></dt><dd>number of outer forward looks in wind vector cell</dd><dt><span>units :</span></dt><dd>1</dd></dl></div><div class='xr-var-data'><pre>[9108 values with dtype=float64]</pre></div></li><li class='xr-var-item'><div class='xr-var-name'><span>number_out_aft</span></div><div class='xr-var-dims'>(QS_TIME, cross_track)</div><div class='xr-var-dtype'>float64</div><div class='xr-var-preview xr-preview'>...</div><input id='attrs-8495a916-8393-4fc5-9ca9-4666766d9cfd' class='xr-var-attrs-in' type='checkbox' ><label for='attrs-8495a916-8393-4fc5-9ca9-4666766d9cfd' title='Show/Hide attributes'><svg class='icon xr-icon-file-text2'><use xlink:href='#icon-file-text2'></use></svg></label><input id='data-92cb83d9-ff77-45fb-93bc-c8ba44eba092' class='xr-var-data-in' type='checkbox'><label for='data-92cb83d9-ff77-45fb-93bc-c8ba44eba092' title='Show/Hide data repr'><svg class='icon xr-icon-database'><use xlink:href='#icon-database'></use></svg></label><div class='xr-var-attrs'><dl class='xr-attrs'><dt><span>valid_min :</span></dt><dd>1</dd><dt><span>valid_max :</span></dt><dd>127</dd><dt><span>long_name :</span></dt><dd>number of outer aft looks in wind vector cell</dd><dt><span>units :</span></dt><dd>1</dd></dl></div><div class='xr-var-data'><pre>[9108 values with dtype=float64]</pre></div></li><li class='xr-var-item'><div class='xr-var-name'><span>gmf_sst</span></div><div class='xr-var-dims'>(QS_TIME, cross_track)</div><div class='xr-var-dtype'>float64</div><div class='xr-var-preview xr-preview'>...</div><input id='attrs-ab2867db-c74b-4328-92cd-91805ee069cf' class='xr-var-attrs-in' type='checkbox' ><label for='attrs-ab2867db-c74b-4328-92cd-91805ee069cf' title='Show/Hide attributes'><svg class='icon xr-icon-file-text2'><use xlink:href='#icon-file-text2'></use></svg></label><input id='data-abe1d074-e1da-48e0-bfe3-fbbfa7b934c2' class='xr-var-data-in' type='checkbox'><label for='data-abe1d074-e1da-48e0-bfe3-fbbfa7b934c2' title='Show/Hide data repr'><svg class='icon xr-icon-database'><use xlink:href='#icon-database'></use></svg></label><div class='xr-var-attrs'><dl class='xr-attrs'><dt><span>valid_min :</span></dt><dd>-1000.0</dd><dt><span>valid_max :</span></dt><dd>1000.0</dd><dt><span>long_name :</span></dt><dd>Sea Surface Temperature Used in Geophysical Model Function</dd><dt><span>comment :</span></dt><dd>Sea Surface Temperature from NCAR Optimum Interpolation V2 product used during wind retrieval.</dd><dt><span>units :</span></dt><dd>Degrees Celsius</dd></dl></div><div class='xr-var-data'><pre>[9108 values with dtype=float64]</pre></div></li><li class='xr-var-item'><div class='xr-var-name'><span>distance_from_coast</span></div><div class='xr-var-dims'>(QS_TIME, cross_track)</div><div class='xr-var-dtype'>float64</div><div class='xr-var-preview xr-preview'>...</div><input id='attrs-f51d429c-d085-4d23-b701-389478492ebe' class='xr-var-attrs-in' type='checkbox' ><label for='attrs-f51d429c-d085-4d23-b701-389478492ebe' title='Show/Hide attributes'><svg class='icon xr-icon-file-text2'><use xlink:href='#icon-file-text2'></use></svg></label><input id='data-c6d45eaa-0b78-4ccd-a89e-56c8d9095556' class='xr-var-data-in' type='checkbox'><label for='data-c6d45eaa-0b78-4ccd-a89e-56c8d9095556' title='Show/Hide data repr'><svg class='icon xr-icon-database'><use xlink:href='#icon-database'></use></svg></label><div class='xr-var-attrs'><dl class='xr-attrs'><dt><span>valid_min :</span></dt><dd>-25000.0</dd><dt><span>valid_max :</span></dt><dd>25000.0</dd><dt><span>long_name :</span></dt><dd>Distance from nearest coastline</dd><dt><span>units :</span></dt><dd>km</dd></dl></div><div class='xr-var-data'><pre>[9108 values with dtype=float64]</pre></div></li><li class='xr-var-item'><div class='xr-var-name'><span>exp_bias_wrt_oceanward_neighbors</span></div><div class='xr-var-dims'>(QS_TIME, cross_track)</div><div class='xr-var-dtype'>float64</div><div class='xr-var-preview xr-preview'>...</div><input id='attrs-90e5ca6e-a072-42c8-9bb9-991578b58d05' class='xr-var-attrs-in' type='checkbox' ><label for='attrs-90e5ca6e-a072-42c8-9bb9-991578b58d05' title='Show/Hide attributes'><svg class='icon xr-icon-file-text2'><use xlink:href='#icon-file-text2'></use></svg></label><input id='data-b7acb988-ada7-48e5-bf5d-6018dd8b7594' class='xr-var-data-in' type='checkbox'><label for='data-b7acb988-ada7-48e5-bf5d-6018dd8b7594' title='Show/Hide data repr'><svg class='icon xr-icon-database'><use xlink:href='#icon-database'></use></svg></label><div class='xr-var-attrs'><dl class='xr-attrs'><dt><span>valid_min :</span></dt><dd>-1000.0</dd><dt><span>valid_max :</span></dt><dd>1000.0</dd><dt><span>long_name :</span></dt><dd>expected bias with respect to oceanward neighboring cells</dd><dt><span>comment :</span></dt><dd>Expected bias between the current cell and geographically oceanward neighboring cells.</dd><dt><span>units :</span></dt><dd>m s-1</dd></dl></div><div class='xr-var-data'><pre>[9108 values with dtype=float64]</pre></div></li><li class='xr-var-item'><div class='xr-var-name'><span>WDIR</span></div><div class='xr-var-dims'>(QS_TIME, HEIGHT)</div><div class='xr-var-dtype'>float32</div><div class='xr-var-preview xr-preview'>...</div><input id='attrs-6a6a59ce-fc8a-4e6d-a624-3abc8a2b44ba' class='xr-var-attrs-in' type='checkbox' disabled><label for='attrs-6a6a59ce-fc8a-4e6d-a624-3abc8a2b44ba' title='Show/Hide attributes'><svg class='icon xr-icon-file-text2'><use xlink:href='#icon-file-text2'></use></svg></label><input id='data-f75de131-73e7-4ae6-9f5c-683b9cd6f676' class='xr-var-data-in' type='checkbox'><label for='data-f75de131-73e7-4ae6-9f5c-683b9cd6f676' title='Show/Hide data repr'><svg class='icon xr-icon-database'><use xlink:href='#icon-database'></use></svg></label><div class='xr-var-attrs'><dl class='xr-attrs'></dl></div><div class='xr-var-data'><pre>[9108 values with dtype=float32]</pre></div></li><li class='xr-var-item'><div class='xr-var-name'><span>WDIR_QC</span></div><div class='xr-var-dims'>(QS_TIME, HEIGHT)</div><div class='xr-var-dtype'>float32</div><div class='xr-var-preview xr-preview'>...</div><input id='attrs-8572f135-ad38-4d59-bbc3-92d1276cb22e' class='xr-var-attrs-in' type='checkbox' ><label for='attrs-8572f135-ad38-4d59-bbc3-92d1276cb22e' title='Show/Hide attributes'><svg class='icon xr-icon-file-text2'><use xlink:href='#icon-file-text2'></use></svg></label><input id='data-0d74573f-8c9a-4264-851f-eb1ae6d46a64' class='xr-var-data-in' type='checkbox'><label for='data-0d74573f-8c9a-4264-851f-eb1ae6d46a64' title='Show/Hide data repr'><svg class='icon xr-icon-database'><use xlink:href='#icon-database'></use></svg></label><div class='xr-var-attrs'><dl class='xr-attrs'><dt><span>long_name :</span></dt><dd>quality flag</dd><dt><span>valid_min :</span></dt><dd>0</dd><dt><span>valid_max :</span></dt><dd>9</dd><dt><span>flag_values :</span></dt><dd>[0 1 2 3 4 5 9]</dd><dt><span>flag_meanings :</span></dt><dd>unknown good_data probably_good_data questionable_data bad_data adjusted_data missing_data</dd><dt><span>coordinates :</span></dt><dd>TIME HEIGHT LATITUDE LONGITUDE</dd></dl></div><div class='xr-var-data'><pre>[9108 values with dtype=float32]</pre></div></li><li class='xr-var-item'><div class='xr-var-name'><span>WDIR_DM</span></div><div class='xr-var-dims'>(QS_TIME, HEIGHT)</div><div class='xr-var-dtype'>|S1</div><div class='xr-var-preview xr-preview'>...</div><input id='attrs-6d06fba8-f0ec-4b0e-86ef-fc9cce89ba84' class='xr-var-attrs-in' type='checkbox' ><label for='attrs-6d06fba8-f0ec-4b0e-86ef-fc9cce89ba84' title='Show/Hide attributes'><svg class='icon xr-icon-file-text2'><use xlink:href='#icon-file-text2'></use></svg></label><input id='data-b7132979-cc5a-495a-9742-4e9c4af79888' class='xr-var-data-in' type='checkbox'><label for='data-b7132979-cc5a-495a-9742-4e9c4af79888' title='Show/Hide data repr'><svg class='icon xr-icon-database'><use xlink:href='#icon-database'></use></svg></label><div class='xr-var-attrs'><dl class='xr-attrs'><dt><span>long_name :</span></dt><dd>data mode</dd><dt><span>flag_values :</span></dt><dd>R, P, D, M</dd><dt><span>flag_meanings :</span></dt><dd>real-time provisional delayed-mode mixed</dd><dt><span>coordinates :</span></dt><dd>TIME HEIGHT LATITUDE LONGITUDE</dd></dl></div><div class='xr-var-data'><pre>[9108 values with dtype=|S1]</pre></div></li><li class='xr-var-item'><div class='xr-var-name'><span>WSPD</span></div><div class='xr-var-dims'>(QS_TIME, HEIGHT)</div><div class='xr-var-dtype'>float32</div><div class='xr-var-preview xr-preview'>...</div><input id='attrs-04ebacf0-e72c-44b8-9e75-c4d835975867' class='xr-var-attrs-in' type='checkbox' ><label for='attrs-04ebacf0-e72c-44b8-9e75-c4d835975867' title='Show/Hide attributes'><svg class='icon xr-icon-file-text2'><use xlink:href='#icon-file-text2'></use></svg></label><input id='data-51dcec42-21e9-4490-882a-9e74a66a00a8' class='xr-var-data-in' type='checkbox'><label for='data-51dcec42-21e9-4490-882a-9e74a66a00a8' title='Show/Hide data repr'><svg class='icon xr-icon-database'><use xlink:href='#icon-database'></use></svg></label><div class='xr-var-attrs'><dl class='xr-attrs'><dt><span>standard_name :</span></dt><dd>wind_speed</dd><dt><span>long_name :</span></dt><dd>Wind Speed</dd><dt><span>units :</span></dt><dd>meters/second</dd><dt><span>valid_min :</span></dt><dd>0.0</dd><dt><span>valid_max :</span></dt><dd>20.0</dd><dt><span>accuracy :</span></dt><dd>0.3 meters/second or 3%</dd><dt><span>resolution :</span></dt><dd>0.2</dd><dt><span>sensor_name :</span></dt><dd>Wind Propeller [R.M. Young/05103]</dd><dt><span>sensor_serial_number :</span></dt><dd>WIND-37691</dd><dt><span>ancillary_variables :</span></dt><dd>WSPD_QC WSPD_DM</dd><dt><span>cell_methods :</span></dt><dd>TIME: mean (interval: 2 minutes) HEIGHT:point LATITUDE:point LONGITUDE:point</dd><dt><span>coordinates :</span></dt><dd>TIME HEIGHT LATITUDE LONGITUDE</dd></dl></div><div class='xr-var-data'><pre>[9108 values with dtype=float32]</pre></div></li><li class='xr-var-item'><div class='xr-var-name'><span>WSPD_QC</span></div><div class='xr-var-dims'>(QS_TIME, HEIGHT)</div><div class='xr-var-dtype'>float32</div><div class='xr-var-preview xr-preview'>...</div><input id='attrs-bab0660e-85a4-455c-89b2-ee6c9d4386b1' class='xr-var-attrs-in' type='checkbox' ><label for='attrs-bab0660e-85a4-455c-89b2-ee6c9d4386b1' title='Show/Hide attributes'><svg class='icon xr-icon-file-text2'><use xlink:href='#icon-file-text2'></use></svg></label><input id='data-4054945b-45d3-4cd8-a0d7-7d7cf3ec1511' class='xr-var-data-in' type='checkbox'><label for='data-4054945b-45d3-4cd8-a0d7-7d7cf3ec1511' title='Show/Hide data repr'><svg class='icon xr-icon-database'><use xlink:href='#icon-database'></use></svg></label><div class='xr-var-attrs'><dl class='xr-attrs'><dt><span>long_name :</span></dt><dd>quality flag</dd><dt><span>valid_min :</span></dt><dd>0</dd><dt><span>valid_max :</span></dt><dd>9</dd><dt><span>flag_values :</span></dt><dd>[0 1 2 3 4 5 9]</dd><dt><span>flag_meanings :</span></dt><dd>unknown good_data probably_good_data questionable_data bad_data adjusted_data missing_data</dd><dt><span>coordinates :</span></dt><dd>TIME HEIGHT LATITUDE LONGITUDE</dd></dl></div><div class='xr-var-data'><pre>[9108 values with dtype=float32]</pre></div></li><li class='xr-var-item'><div class='xr-var-name'><span>WSPD_DM</span></div><div class='xr-var-dims'>(QS_TIME, HEIGHT)</div><div class='xr-var-dtype'>|S1</div><div class='xr-var-preview xr-preview'>...</div><input id='attrs-a1aea3d5-32f5-48ce-9d09-2623d40a21ab' class='xr-var-attrs-in' type='checkbox' ><label for='attrs-a1aea3d5-32f5-48ce-9d09-2623d40a21ab' title='Show/Hide attributes'><svg class='icon xr-icon-file-text2'><use xlink:href='#icon-file-text2'></use></svg></label><input id='data-9898c63a-2802-493c-a278-999366549696' class='xr-var-data-in' type='checkbox'><label for='data-9898c63a-2802-493c-a278-999366549696' title='Show/Hide data repr'><svg class='icon xr-icon-database'><use xlink:href='#icon-database'></use></svg></label><div class='xr-var-attrs'><dl class='xr-attrs'><dt><span>long_name :</span></dt><dd>data mode</dd><dt><span>flag_values :</span></dt><dd>R, P, D, M</dd><dt><span>flag_meanings :</span></dt><dd>real-time provisional delayed-mode mixed</dd><dt><span>coordinates :</span></dt><dd>TIME HEIGHT LATITUDE LONGITUDE</dd></dl></div><div class='xr-var-data'><pre>[9108 values with dtype=|S1]</pre></div></li><li class='xr-var-item'><div class='xr-var-name'><span>UWND</span></div><div class='xr-var-dims'>(QS_TIME, HEIGHT)</div><div class='xr-var-dtype'>float32</div><div class='xr-var-preview xr-preview'>...</div><input id='attrs-2e2d2c57-225b-40db-a672-4cde19582ee2' class='xr-var-attrs-in' type='checkbox' ><label for='attrs-2e2d2c57-225b-40db-a672-4cde19582ee2' title='Show/Hide attributes'><svg class='icon xr-icon-file-text2'><use xlink:href='#icon-file-text2'></use></svg></label><input id='data-464ebde8-cf3e-4b62-b08b-bcc266207eb7' class='xr-var-data-in' type='checkbox'><label for='data-464ebde8-cf3e-4b62-b08b-bcc266207eb7' title='Show/Hide data repr'><svg class='icon xr-icon-database'><use xlink:href='#icon-database'></use></svg></label><div class='xr-var-attrs'><dl class='xr-attrs'><dt><span>standard_name :</span></dt><dd>eastward_wind</dd><dt><span>long_name :</span></dt><dd>Wind Speed U Component</dd><dt><span>units :</span></dt><dd>meters/second</dd><dt><span>valid_min :</span></dt><dd>0.0</dd><dt><span>valid_max :</span></dt><dd>20.0</dd><dt><span>accuracy :</span></dt><dd>0.3 meters/second or 3%</dd><dt><span>resolution :</span></dt><dd>0.2</dd><dt><span>sensor_name :</span></dt><dd>Wind Propeller [R.M. Young/05103]</dd><dt><span>sensor_serial_number :</span></dt><dd>WIND-37691</dd><dt><span>ancillary_variables :</span></dt><dd>WDIR_QC WDIR_DM WSPD_QC WSPD_DM</dd><dt><span>cell_methods :</span></dt><dd>TIME: mean (interval: 2 minutes) HEIGHT:point LATITUDE:point LONGITUDE:point</dd><dt><span>coordinates :</span></dt><dd>TIME HEIGHT LATITUDE LONGITUDE</dd></dl></div><div class='xr-var-data'><pre>[9108 values with dtype=float32]</pre></div></li><li class='xr-var-item'><div class='xr-var-name'><span>VWND</span></div><div class='xr-var-dims'>(QS_TIME, HEIGHT)</div><div class='xr-var-dtype'>float32</div><div class='xr-var-preview xr-preview'>...</div><input id='attrs-c15b080c-0d4c-4bca-842f-ad9ceb53af9f' class='xr-var-attrs-in' type='checkbox' ><label for='attrs-c15b080c-0d4c-4bca-842f-ad9ceb53af9f' title='Show/Hide attributes'><svg class='icon xr-icon-file-text2'><use xlink:href='#icon-file-text2'></use></svg></label><input id='data-8019a19a-1a63-4a35-bda2-631ab1193f92' class='xr-var-data-in' type='checkbox'><label for='data-8019a19a-1a63-4a35-bda2-631ab1193f92' title='Show/Hide data repr'><svg class='icon xr-icon-database'><use xlink:href='#icon-database'></use></svg></label><div class='xr-var-attrs'><dl class='xr-attrs'><dt><span>standard_name :</span></dt><dd>northward_wind</dd><dt><span>long_name :</span></dt><dd>Wind Speed V Component</dd><dt><span>units :</span></dt><dd>meters/second</dd><dt><span>valid_min :</span></dt><dd>0.0</dd><dt><span>valid_max :</span></dt><dd>20.0</dd><dt><span>accuracy :</span></dt><dd>0.3 meters/second or 3%</dd><dt><span>resolution :</span></dt><dd>0.2</dd><dt><span>sensor_name :</span></dt><dd>Wind Propeller [R.M. Young/05103]</dd><dt><span>sensor_serial_number :</span></dt><dd>WIND-37691</dd><dt><span>ancillary_variables :</span></dt><dd>WDIR_QC WDIR_DM WSPD_QC WSPD_DM</dd><dt><span>cell_methods :</span></dt><dd>TIME: mean (interval: 2 minutes) HEIGHT:point LATITUDE:point LONGITUDE:point</dd><dt><span>coordinates :</span></dt><dd>TIME HEIGHT LATITUDE LONGITUDE</dd></dl></div><div class='xr-var-data'><pre>[9108 values with dtype=float32]</pre></div></li><li class='xr-var-item'><div class='xr-var-name'><span>SST</span></div><div class='xr-var-dims'>(QS_TIME, DEPTH)</div><div class='xr-var-dtype'>float32</div><div class='xr-var-preview xr-preview'>...</div><input id='attrs-3afa2116-6b8e-4325-a93e-032e69900270' class='xr-var-attrs-in' type='checkbox' ><label for='attrs-3afa2116-6b8e-4325-a93e-032e69900270' title='Show/Hide attributes'><svg class='icon xr-icon-file-text2'><use xlink:href='#icon-file-text2'></use></svg></label><input id='data-f3fd3b97-4c9f-4b64-a9d8-f23b87e4a513' class='xr-var-data-in' type='checkbox'><label for='data-f3fd3b97-4c9f-4b64-a9d8-f23b87e4a513' title='Show/Hide data repr'><svg class='icon xr-icon-database'><use xlink:href='#icon-database'></use></svg></label><div class='xr-var-attrs'><dl class='xr-attrs'><dt><span>standard_name :</span></dt><dd>sea_surface_temperature</dd><dt><span>long_name :</span></dt><dd>Sea Surface Temperature</dd><dt><span>units :</span></dt><dd>degree_Celsius</dd><dt><span>valid_min :</span></dt><dd>-5.0</dd><dt><span>valid_max :</span></dt><dd>35.0</dd><dt><span>accuracy :</span></dt><dd>0.003</dd><dt><span>resolution :</span></dt><dd>0.001</dd><dt><span>sensor_name :</span></dt><dd>Thermistor [Seabird/SBE 16/37]</dd><dt><span>sensor_serial_number :</span></dt><dd>SST-12508/1m </dd><dt><span>ancillary_variables :</span></dt><dd>SST_QC SST_DM</dd><dt><span>cell_methods :</span></dt><dd>TIME:point DEPTH:point LATITUDE:point LONGITUDE:point</dd><dt><span>reference_scale :</span></dt><dd>ITS-90</dd><dt><span>coordinates :</span></dt><dd>TIME DEPTH LATITUDE LONGITUDE</dd></dl></div><div class='xr-var-data'><pre>[3036 values with dtype=float32]</pre></div></li><li class='xr-var-item'><div class='xr-var-name'><span>SST_QC</span></div><div class='xr-var-dims'>(QS_TIME, DEPTH)</div><div class='xr-var-dtype'>float32</div><div class='xr-var-preview xr-preview'>...</div><input id='attrs-85fb129d-dacf-473e-8f83-1a91d0acc923' class='xr-var-attrs-in' type='checkbox' ><label for='attrs-85fb129d-dacf-473e-8f83-1a91d0acc923' title='Show/Hide attributes'><svg class='icon xr-icon-file-text2'><use xlink:href='#icon-file-text2'></use></svg></label><input id='data-88b589fb-88f6-4cef-b9e7-0ca7ebe130d7' class='xr-var-data-in' type='checkbox'><label for='data-88b589fb-88f6-4cef-b9e7-0ca7ebe130d7' title='Show/Hide data repr'><svg class='icon xr-icon-database'><use xlink:href='#icon-database'></use></svg></label><div class='xr-var-attrs'><dl class='xr-attrs'><dt><span>long_name :</span></dt><dd>quality flag</dd><dt><span>valid_min :</span></dt><dd>0</dd><dt><span>valid_max :</span></dt><dd>9</dd><dt><span>flag_values :</span></dt><dd>[0 1 2 3 4 5 9]</dd><dt><span>flag_meanings :</span></dt><dd>unknown good_data probably_good_data questionable_data bad_data adjusted_data missing_data</dd><dt><span>coordinates :</span></dt><dd>TIME DEPTH LATITUDE LONGITUDE</dd></dl></div><div class='xr-var-data'><pre>[3036 values with dtype=float32]</pre></div></li><li class='xr-var-item'><div class='xr-var-name'><span>SST_DM</span></div><div class='xr-var-dims'>(QS_TIME, DEPTH)</div><div class='xr-var-dtype'>|S1</div><div class='xr-var-preview xr-preview'>...</div><input id='attrs-4e9426a8-93f4-4313-a81b-998af4aa99af' class='xr-var-attrs-in' type='checkbox' ><label for='attrs-4e9426a8-93f4-4313-a81b-998af4aa99af' title='Show/Hide attributes'><svg class='icon xr-icon-file-text2'><use xlink:href='#icon-file-text2'></use></svg></label><input id='data-91c7676e-bc03-4b94-9583-cd786a033794' class='xr-var-data-in' type='checkbox'><label for='data-91c7676e-bc03-4b94-9583-cd786a033794' title='Show/Hide data repr'><svg class='icon xr-icon-database'><use xlink:href='#icon-database'></use></svg></label><div class='xr-var-attrs'><dl class='xr-attrs'><dt><span>long_name :</span></dt><dd>data mode</dd><dt><span>flag_values :</span></dt><dd>R, P, D, M</dd><dt><span>flag_meanings :</span></dt><dd>real-time provisional delayed-mode mixed</dd><dt><span>coordinates :</span></dt><dd>TIME DEPTH LATITUDE LONGITUDE</dd></dl></div><div class='xr-var-data'><pre>[3036 values with dtype=|S1]</pre></div></li><li class='xr-var-item'><div class='xr-var-name'><span>AIRT</span></div><div class='xr-var-dims'>(QS_TIME, HEIGHT)</div><div class='xr-var-dtype'>float32</div><div class='xr-var-preview xr-preview'>...</div><input id='attrs-5a4f4179-fa7d-4a88-9eb2-3ef3c3e09c9c' class='xr-var-attrs-in' type='checkbox' ><label for='attrs-5a4f4179-fa7d-4a88-9eb2-3ef3c3e09c9c' title='Show/Hide attributes'><svg class='icon xr-icon-file-text2'><use xlink:href='#icon-file-text2'></use></svg></label><input id='data-11131463-c994-4066-ba47-d731fb008466' class='xr-var-data-in' type='checkbox'><label for='data-11131463-c994-4066-ba47-d731fb008466' title='Show/Hide data repr'><svg class='icon xr-icon-database'><use xlink:href='#icon-database'></use></svg></label><div class='xr-var-attrs'><dl class='xr-attrs'><dt><span>standard_name :</span></dt><dd>air_temperature</dd><dt><span>long_name :</span></dt><dd>Air Temperature</dd><dt><span>units :</span></dt><dd>degree_Celsius</dd><dt><span>valid_min :</span></dt><dd>0.0</dd><dt><span>valid_max :</span></dt><dd>40.0</dd><dt><span>accuracy :</span></dt><dd>0.2 Degree C in range of 14-32 Degrees C</dd><dt><span>resolution :</span></dt><dd>0.01</dd><dt><span>sensor_name :</span></dt><dd>Humidity-temperature Pt100 RTD [Rotronics/MP101A]</dd><dt><span>sensor_serial_number :</span></dt><dd>AIR-34280</dd><dt><span>ancillary_variables :</span></dt><dd>AIRT_QC AIRT_DM</dd><dt><span>cell_methods :</span></dt><dd>TIME: mean (interval: 2 minutes) HEIGHT:point LATITUDE:point LONGITUDE:point</dd><dt><span>coordinates :</span></dt><dd>TIME HEIGHT LATITUDE LONGITUDE</dd></dl></div><div class='xr-var-data'><pre>[9108 values with dtype=float32]</pre></div></li><li class='xr-var-item'><div class='xr-var-name'><span>AIRT_QC</span></div><div class='xr-var-dims'>(QS_TIME, HEIGHT)</div><div class='xr-var-dtype'>float32</div><div class='xr-var-preview xr-preview'>...</div><input id='attrs-6701d2e4-656e-49c1-92ee-b055c40f9bfb' class='xr-var-attrs-in' type='checkbox' ><label for='attrs-6701d2e4-656e-49c1-92ee-b055c40f9bfb' title='Show/Hide attributes'><svg class='icon xr-icon-file-text2'><use xlink:href='#icon-file-text2'></use></svg></label><input id='data-611c9097-c9b1-4b25-b34f-53b19aacbcc9' class='xr-var-data-in' type='checkbox'><label for='data-611c9097-c9b1-4b25-b34f-53b19aacbcc9' title='Show/Hide data repr'><svg class='icon xr-icon-database'><use xlink:href='#icon-database'></use></svg></label><div class='xr-var-attrs'><dl class='xr-attrs'><dt><span>long_name :</span></dt><dd>quality flag</dd><dt><span>valid_min :</span></dt><dd>0</dd><dt><span>valid_max :</span></dt><dd>9</dd><dt><span>flag_values :</span></dt><dd>[0 1 2 3 4 5 9]</dd><dt><span>flag_meanings :</span></dt><dd>unknown good_data probably_good_data questionable_data bad_data adjusted_data missing_data</dd><dt><span>coordinates :</span></dt><dd>TIME HEIGHT LATITUDE LONGITUDE</dd></dl></div><div class='xr-var-data'><pre>[9108 values with dtype=float32]</pre></div></li><li class='xr-var-item'><div class='xr-var-name'><span>AIRT_DM</span></div><div class='xr-var-dims'>(QS_TIME, HEIGHT)</div><div class='xr-var-dtype'>|S1</div><div class='xr-var-preview xr-preview'>...</div><input id='attrs-c28f51f8-09a5-46a9-826a-e9234245302b' class='xr-var-attrs-in' type='checkbox' ><label for='attrs-c28f51f8-09a5-46a9-826a-e9234245302b' title='Show/Hide attributes'><svg class='icon xr-icon-file-text2'><use xlink:href='#icon-file-text2'></use></svg></label><input id='data-260be747-8058-4157-bafb-fa4723963aa8' class='xr-var-data-in' type='checkbox'><label for='data-260be747-8058-4157-bafb-fa4723963aa8' title='Show/Hide data repr'><svg class='icon xr-icon-database'><use xlink:href='#icon-database'></use></svg></label><div class='xr-var-attrs'><dl class='xr-attrs'><dt><span>long_name :</span></dt><dd>data mode</dd><dt><span>flag_values :</span></dt><dd>R, P, D, M</dd><dt><span>flag_meanings :</span></dt><dd>real-time provisional delayed-mode mixed</dd><dt><span>coordinates :</span></dt><dd>TIME HEIGHT LATITUDE LONGITUDE</dd></dl></div><div class='xr-var-data'><pre>[9108 values with dtype=|S1]</pre></div></li><li class='xr-var-item'><div class='xr-var-name'><span>RELH</span></div><div class='xr-var-dims'>(QS_TIME, HEIGHT)</div><div class='xr-var-dtype'>float32</div><div class='xr-var-preview xr-preview'>...</div><input id='attrs-d1055669-2710-45cd-99e7-1c5dd24e3af2' class='xr-var-attrs-in' type='checkbox' ><label for='attrs-d1055669-2710-45cd-99e7-1c5dd24e3af2' title='Show/Hide attributes'><svg class='icon xr-icon-file-text2'><use xlink:href='#icon-file-text2'></use></svg></label><input id='data-05c197b5-6802-4a1b-bd91-3c76fb59dfdd' class='xr-var-data-in' type='checkbox'><label for='data-05c197b5-6802-4a1b-bd91-3c76fb59dfdd' title='Show/Hide data repr'><svg class='icon xr-icon-database'><use xlink:href='#icon-database'></use></svg></label><div class='xr-var-attrs'><dl class='xr-attrs'><dt><span>standard_name :</span></dt><dd>relative_humidity</dd><dt><span>long_name :</span></dt><dd>Relative Humidity</dd><dt><span>units :</span></dt><dd>1</dd><dt><span>valid_min :</span></dt><dd>0.0</dd><dt><span>valid_max :</span></dt><dd>100.0</dd><dt><span>accuracy :</span></dt><dd>2.7%RH in range of 55-95 %RH</dd><dt><span>resolution :</span></dt><dd>0.4</dd><dt><span>sensor_name :</span></dt><dd>Humidity-temperature Capacitance [Rotronics/MP101A]</dd><dt><span>sensor_serial_number :</span></dt><dd>RH-34280</dd><dt><span>ancillary_variables :</span></dt><dd>RELH_QC RELH_DM</dd><dt><span>cell_methods :</span></dt><dd>TIME: mean (interval: 2 minutes) HEIGHT:point LATITUDE:point LONGITUDE:point</dd><dt><span>coordinates :</span></dt><dd>TIME HEIGHT LATITUDE LONGITUDE</dd></dl></div><div class='xr-var-data'><pre>[9108 values with dtype=float32]</pre></div></li><li class='xr-var-item'><div class='xr-var-name'><span>RELH_QC</span></div><div class='xr-var-dims'>(QS_TIME, HEIGHT)</div><div class='xr-var-dtype'>float32</div><div class='xr-var-preview xr-preview'>...</div><input id='attrs-5f37f5ce-2484-4c93-b439-f5c670c9b19a' class='xr-var-attrs-in' type='checkbox' ><label for='attrs-5f37f5ce-2484-4c93-b439-f5c670c9b19a' title='Show/Hide attributes'><svg class='icon xr-icon-file-text2'><use xlink:href='#icon-file-text2'></use></svg></label><input id='data-948fa2e0-b460-4cda-a61e-0b0eaa02ce1c' class='xr-var-data-in' type='checkbox'><label for='data-948fa2e0-b460-4cda-a61e-0b0eaa02ce1c' title='Show/Hide data repr'><svg class='icon xr-icon-database'><use xlink:href='#icon-database'></use></svg></label><div class='xr-var-attrs'><dl class='xr-attrs'><dt><span>long_name :</span></dt><dd>quality flag</dd><dt><span>valid_min :</span></dt><dd>0</dd><dt><span>valid_max :</span></dt><dd>9</dd><dt><span>flag_values :</span></dt><dd>[0 1 2 3 4 5 9]</dd><dt><span>flag_meanings :</span></dt><dd>unknown good_data probably_good_data questionable_data bad_data adjusted_data missing_data</dd><dt><span>coordinates :</span></dt><dd>TIME HEIGHT LATITUDE LONGITUDE</dd></dl></div><div class='xr-var-data'><pre>[9108 values with dtype=float32]</pre></div></li><li class='xr-var-item'><div class='xr-var-name'><span>RELH_DM</span></div><div class='xr-var-dims'>(QS_TIME, HEIGHT)</div><div class='xr-var-dtype'>|S1</div><div class='xr-var-preview xr-preview'>...</div><input id='attrs-6954bf01-e7bf-4be3-bafe-8d226b07ccac' class='xr-var-attrs-in' type='checkbox' ><label for='attrs-6954bf01-e7bf-4be3-bafe-8d226b07ccac' title='Show/Hide attributes'><svg class='icon xr-icon-file-text2'><use xlink:href='#icon-file-text2'></use></svg></label><input id='data-9158290e-cd10-4ebe-b7b7-239ebcb2f33b' class='xr-var-data-in' type='checkbox'><label for='data-9158290e-cd10-4ebe-b7b7-239ebcb2f33b' title='Show/Hide data repr'><svg class='icon xr-icon-database'><use xlink:href='#icon-database'></use></svg></label><div class='xr-var-attrs'><dl class='xr-attrs'><dt><span>long_name :</span></dt><dd>data mode</dd><dt><span>flag_values :</span></dt><dd>R, P, D, M</dd><dt><span>flag_meanings :</span></dt><dd>real-time provisional delayed-mode mixed</dd><dt><span>coordinates :</span></dt><dd>TIME HEIGHT LATITUDE LONGITUDE</dd></dl></div><div class='xr-var-data'><pre>[9108 values with dtype=|S1]</pre></div></li><li class='xr-var-item'><div class='xr-var-name'><span>WSPD_10N</span></div><div class='xr-var-dims'>(QS_TIME, HEIGHT)</div><div class='xr-var-dtype'>float64</div><div class='xr-var-preview xr-preview'>...</div><input id='attrs-fe07ced4-782a-4600-81fd-e9cd8d9635d7' class='xr-var-attrs-in' type='checkbox' ><label for='attrs-fe07ced4-782a-4600-81fd-e9cd8d9635d7' title='Show/Hide attributes'><svg class='icon xr-icon-file-text2'><use xlink:href='#icon-file-text2'></use></svg></label><input id='data-eba724fa-1953-49d7-b377-a335b1260533' class='xr-var-data-in' type='checkbox'><label for='data-eba724fa-1953-49d7-b377-a335b1260533' title='Show/Hide data repr'><svg class='icon xr-icon-database'><use xlink:href='#icon-database'></use></svg></label><div class='xr-var-attrs'><dl class='xr-attrs'><dt><span>units :</span></dt><dd>meters/second</dd><dt><span>long_name :</span></dt><dd>10 m neutral winds from COARE3.5</dd><dt><span>vars_used_to_calculate :</span></dt><dd>SST RH AIRT WSPD</dd></dl></div><div class='xr-var-data'><pre>[9108 values with dtype=float64]</pre></div></li><li class='xr-var-item'><div class='xr-var-name'><span>WSPD_10</span></div><div class='xr-var-dims'>(QS_TIME, HEIGHT)</div><div class='xr-var-dtype'>float64</div><div class='xr-var-preview xr-preview'>...</div><input id='attrs-00fdd174-f714-417e-8367-8d767f162ae0' class='xr-var-attrs-in' type='checkbox' ><label for='attrs-00fdd174-f714-417e-8367-8d767f162ae0' title='Show/Hide attributes'><svg class='icon xr-icon-file-text2'><use xlink:href='#icon-file-text2'></use></svg></label><input id='data-1e705a0f-56c5-4445-afab-64ccb50283c1' class='xr-var-data-in' type='checkbox'><label for='data-1e705a0f-56c5-4445-afab-64ccb50283c1' title='Show/Hide data repr'><svg class='icon xr-icon-database'><use xlink:href='#icon-database'></use></svg></label><div class='xr-var-attrs'><dl class='xr-attrs'><dt><span>units :</span></dt><dd>meters/second</dd><dt><span>long_name :</span></dt><dd>10 m winds from COARE3.5</dd><dt><span>vars_used_to_calculate :</span></dt><dd>SST RH AIRT WSPD</dd></dl></div><div class='xr-var-data'><pre>[9108 values with dtype=float64]</pre></div></li><li class='xr-var-item'><div class='xr-var-name'><span>SST - AIRT</span></div><div class='xr-var-dims'>(QS_TIME)</div><div class='xr-var-dtype'>float32</div><div class='xr-var-preview xr-preview'>...</div><input id='attrs-2e119553-119b-4ab6-a2b5-ead20e7e71a1' class='xr-var-attrs-in' type='checkbox' disabled><label for='attrs-2e119553-119b-4ab6-a2b5-ead20e7e71a1' title='Show/Hide attributes'><svg class='icon xr-icon-file-text2'><use xlink:href='#icon-file-text2'></use></svg></label><input id='data-5822acae-de6a-47c4-8810-a58d015dcba8' class='xr-var-data-in' type='checkbox'><label for='data-5822acae-de6a-47c4-8810-a58d015dcba8' title='Show/Hide data repr'><svg class='icon xr-icon-database'><use xlink:href='#icon-database'></use></svg></label><div class='xr-var-attrs'><dl class='xr-attrs'></dl></div><div class='xr-var-data'><pre>[3036 values with dtype=float32]</pre></div></li><li class='xr-var-item'><div class='xr-var-name'><span>cosWDIR</span></div><div class='xr-var-dims'>(QS_TIME, HEIGHT)</div><div class='xr-var-dtype'>float32</div><div class='xr-var-preview xr-preview'>...</div><input id='attrs-57a2967c-fee1-4f31-9ce6-f1dacc409dd4' class='xr-var-attrs-in' type='checkbox' disabled><label for='attrs-57a2967c-fee1-4f31-9ce6-f1dacc409dd4' title='Show/Hide attributes'><svg class='icon xr-icon-file-text2'><use xlink:href='#icon-file-text2'></use></svg></label><input id='data-4c3837f2-89bd-4019-8bc0-0df1eb5a2c61' class='xr-var-data-in' type='checkbox'><label for='data-4c3837f2-89bd-4019-8bc0-0df1eb5a2c61' title='Show/Hide data repr'><svg class='icon xr-icon-database'><use xlink:href='#icon-database'></use></svg></label><div class='xr-var-attrs'><dl class='xr-attrs'></dl></div><div class='xr-var-data'><pre>[9108 values with dtype=float32]</pre></div></li><li class='xr-var-item'><div class='xr-var-name'><span>sinWDIR</span></div><div class='xr-var-dims'>(QS_TIME, HEIGHT)</div><div class='xr-var-dtype'>float32</div><div class='xr-var-preview xr-preview'>...</div><input id='attrs-f0d3be06-2c14-479d-92c3-dea3636d9908' class='xr-var-attrs-in' type='checkbox' disabled><label for='attrs-f0d3be06-2c14-479d-92c3-dea3636d9908' title='Show/Hide attributes'><svg class='icon xr-icon-file-text2'><use xlink:href='#icon-file-text2'></use></svg></label><input id='data-cf566c93-dd94-49b4-8fe1-b76fdc5b9f28' class='xr-var-data-in' type='checkbox'><label for='data-cf566c93-dd94-49b4-8fe1-b76fdc5b9f28' title='Show/Hide data repr'><svg class='icon xr-icon-database'><use xlink:href='#icon-database'></use></svg></label><div class='xr-var-attrs'><dl class='xr-attrs'></dl></div><div class='xr-var-data'><pre>[9108 values with dtype=float32]</pre></div></li><li class='xr-var-item'><div class='xr-var-name'><span>U10N_x</span></div><div class='xr-var-dims'>(QS_TIME, HEIGHT)</div><div class='xr-var-dtype'>float64</div><div class='xr-var-preview xr-preview'>...</div><input id='attrs-8f9ffc9f-b47e-45c2-9a19-d90ee1dbe97c' class='xr-var-attrs-in' type='checkbox' disabled><label for='attrs-8f9ffc9f-b47e-45c2-9a19-d90ee1dbe97c' title='Show/Hide attributes'><svg class='icon xr-icon-file-text2'><use xlink:href='#icon-file-text2'></use></svg></label><input id='data-8e9d9dec-2e3b-4fb1-b561-1d23e8df0491' class='xr-var-data-in' type='checkbox'><label for='data-8e9d9dec-2e3b-4fb1-b561-1d23e8df0491' title='Show/Hide data repr'><svg class='icon xr-icon-database'><use xlink:href='#icon-database'></use></svg></label><div class='xr-var-attrs'><dl class='xr-attrs'></dl></div><div class='xr-var-data'><pre>[9108 values with dtype=float64]</pre></div></li><li class='xr-var-item'><div class='xr-var-name'><span>U10N_y</span></div><div class='xr-var-dims'>(QS_TIME, HEIGHT)</div><div class='xr-var-dtype'>float64</div><div class='xr-var-preview xr-preview'>...</div><input id='attrs-c8f012b1-f07c-4d57-88c8-ef233638f883' class='xr-var-attrs-in' type='checkbox' disabled><label for='attrs-c8f012b1-f07c-4d57-88c8-ef233638f883' title='Show/Hide attributes'><svg class='icon xr-icon-file-text2'><use xlink:href='#icon-file-text2'></use></svg></label><input id='data-f66e915f-c64a-4097-b416-9b7fb2a3ea4c' class='xr-var-data-in' type='checkbox'><label for='data-f66e915f-c64a-4097-b416-9b7fb2a3ea4c' title='Show/Hide data repr'><svg class='icon xr-icon-database'><use xlink:href='#icon-database'></use></svg></label><div class='xr-var-attrs'><dl class='xr-attrs'></dl></div><div class='xr-var-data'><pre>[9108 values with dtype=float64]</pre></div></li><li class='xr-var-item'><div class='xr-var-name'><span>mean_WSPD</span></div><div class='xr-var-dims'>(QS_TIME)</div><div class='xr-var-dtype'>float64</div><div class='xr-var-preview xr-preview'>...</div><input id='attrs-83b6442a-d415-4e01-bb48-a789aca03208' class='xr-var-attrs-in' type='checkbox' ><label for='attrs-83b6442a-d415-4e01-bb48-a789aca03208' title='Show/Hide attributes'><svg class='icon xr-icon-file-text2'><use xlink:href='#icon-file-text2'></use></svg></label><input id='data-70f200b3-aa1e-4403-9133-07be6cecfbf4' class='xr-var-data-in' type='checkbox'><label for='data-70f200b3-aa1e-4403-9133-07be6cecfbf4' title='Show/Hide data repr'><svg class='icon xr-icon-database'><use xlink:href='#icon-database'></use></svg></label><div class='xr-var-attrs'><dl class='xr-attrs'><dt><span>statistic :</span></dt><dd>Running mean over 120 min</dd></dl></div><div class='xr-var-data'><pre>[3036 values with dtype=float64]</pre></div></li><li class='xr-var-item'><div class='xr-var-name'><span>std_WSPD</span></div><div class='xr-var-dims'>(QS_TIME)</div><div class='xr-var-dtype'>float64</div><div class='xr-var-preview xr-preview'>...</div><input id='attrs-19580ced-5c80-4726-9a70-c576f2896a93' class='xr-var-attrs-in' type='checkbox' ><label for='attrs-19580ced-5c80-4726-9a70-c576f2896a93' title='Show/Hide attributes'><svg class='icon xr-icon-file-text2'><use xlink:href='#icon-file-text2'></use></svg></label><input id='data-7701699d-01db-47e4-a307-5eda9987cdc1' class='xr-var-data-in' type='checkbox'><label for='data-7701699d-01db-47e4-a307-5eda9987cdc1' title='Show/Hide data repr'><svg class='icon xr-icon-database'><use xlink:href='#icon-database'></use></svg></label><div class='xr-var-attrs'><dl class='xr-attrs'><dt><span>statistic :</span></dt><dd>Running std dev over 120 min</dd></dl></div><div class='xr-var-data'><pre>[3036 values with dtype=float64]</pre></div></li><li class='xr-var-item'><div class='xr-var-name'><span>mean_cosWDIR</span></div><div class='xr-var-dims'>(QS_TIME)</div><div class='xr-var-dtype'>float64</div><div class='xr-var-preview xr-preview'>...</div><input id='attrs-49a5bd76-5a17-4443-8ec2-f313052fadb2' class='xr-var-attrs-in' type='checkbox' ><label for='attrs-49a5bd76-5a17-4443-8ec2-f313052fadb2' title='Show/Hide attributes'><svg class='icon xr-icon-file-text2'><use xlink:href='#icon-file-text2'></use></svg></label><input id='data-1cedb01d-7b0b-46dd-8295-38d660462cf5' class='xr-var-data-in' type='checkbox'><label for='data-1cedb01d-7b0b-46dd-8295-38d660462cf5' title='Show/Hide data repr'><svg class='icon xr-icon-database'><use xlink:href='#icon-database'></use></svg></label><div class='xr-var-attrs'><dl class='xr-attrs'><dt><span>statistic :</span></dt><dd>Running mean over 120 min</dd></dl></div><div class='xr-var-data'><pre>[3036 values with dtype=float64]</pre></div></li><li class='xr-var-item'><div class='xr-var-name'><span>std_cosWDIR</span></div><div class='xr-var-dims'>(QS_TIME)</div><div class='xr-var-dtype'>float64</div><div class='xr-var-preview xr-preview'>...</div><input id='attrs-40b719ca-4fc4-47b8-9e41-a071640f54af' class='xr-var-attrs-in' type='checkbox' ><label for='attrs-40b719ca-4fc4-47b8-9e41-a071640f54af' title='Show/Hide attributes'><svg class='icon xr-icon-file-text2'><use xlink:href='#icon-file-text2'></use></svg></label><input id='data-400bf144-689d-44c6-8fb3-241db35353cc' class='xr-var-data-in' type='checkbox'><label for='data-400bf144-689d-44c6-8fb3-241db35353cc' title='Show/Hide data repr'><svg class='icon xr-icon-database'><use xlink:href='#icon-database'></use></svg></label><div class='xr-var-attrs'><dl class='xr-attrs'><dt><span>statistic :</span></dt><dd>Running std dev over 120 min</dd></dl></div><div class='xr-var-data'><pre>[3036 values with dtype=float64]</pre></div></li><li class='xr-var-item'><div class='xr-var-name'><span>mean_sinWDIR</span></div><div class='xr-var-dims'>(QS_TIME)</div><div class='xr-var-dtype'>float64</div><div class='xr-var-preview xr-preview'>...</div><input id='attrs-2c447ec2-b8b9-43e1-b595-9ef64a287359' class='xr-var-attrs-in' type='checkbox' ><label for='attrs-2c447ec2-b8b9-43e1-b595-9ef64a287359' title='Show/Hide attributes'><svg class='icon xr-icon-file-text2'><use xlink:href='#icon-file-text2'></use></svg></label><input id='data-e61a2567-c1f9-49ac-bd60-091bd9d5b6b4' class='xr-var-data-in' type='checkbox'><label for='data-e61a2567-c1f9-49ac-bd60-091bd9d5b6b4' title='Show/Hide data repr'><svg class='icon xr-icon-database'><use xlink:href='#icon-database'></use></svg></label><div class='xr-var-attrs'><dl class='xr-attrs'><dt><span>statistic :</span></dt><dd>Running mean over 120 min</dd></dl></div><div class='xr-var-data'><pre>[3036 values with dtype=float64]</pre></div></li><li class='xr-var-item'><div class='xr-var-name'><span>std_sinWDIR</span></div><div class='xr-var-dims'>(QS_TIME)</div><div class='xr-var-dtype'>float64</div><div class='xr-var-preview xr-preview'>...</div><input id='attrs-9b94f0cc-44b7-4489-a13f-14b410c21d92' class='xr-var-attrs-in' type='checkbox' ><label for='attrs-9b94f0cc-44b7-4489-a13f-14b410c21d92' title='Show/Hide attributes'><svg class='icon xr-icon-file-text2'><use xlink:href='#icon-file-text2'></use></svg></label><input id='data-37b8528b-78b4-40e3-8ab0-38c4d0fb1612' class='xr-var-data-in' type='checkbox'><label for='data-37b8528b-78b4-40e3-8ab0-38c4d0fb1612' title='Show/Hide data repr'><svg class='icon xr-icon-database'><use xlink:href='#icon-database'></use></svg></label><div class='xr-var-attrs'><dl class='xr-attrs'><dt><span>statistic :</span></dt><dd>Running std dev over 120 min</dd></dl></div><div class='xr-var-data'><pre>[3036 values with dtype=float64]</pre></div></li><li class='xr-var-item'><div class='xr-var-name'><span>mean_WSPD_10N</span></div><div class='xr-var-dims'>(QS_TIME)</div><div class='xr-var-dtype'>float64</div><div class='xr-var-preview xr-preview'>...</div><input id='attrs-617fecb9-f166-4cbe-be08-746438efb39d' class='xr-var-attrs-in' type='checkbox' ><label for='attrs-617fecb9-f166-4cbe-be08-746438efb39d' title='Show/Hide attributes'><svg class='icon xr-icon-file-text2'><use xlink:href='#icon-file-text2'></use></svg></label><input id='data-e87833b2-56c2-4db5-b75e-ad6faac67af4' class='xr-var-data-in' type='checkbox'><label for='data-e87833b2-56c2-4db5-b75e-ad6faac67af4' title='Show/Hide data repr'><svg class='icon xr-icon-database'><use xlink:href='#icon-database'></use></svg></label><div class='xr-var-attrs'><dl class='xr-attrs'><dt><span>statistic :</span></dt><dd>Running mean over 120 min</dd></dl></div><div class='xr-var-data'><pre>[3036 values with dtype=float64]</pre></div></li><li class='xr-var-item'><div class='xr-var-name'><span>std_WSPD_10N</span></div><div class='xr-var-dims'>(QS_TIME)</div><div class='xr-var-dtype'>float64</div><div class='xr-var-preview xr-preview'>...</div><input id='attrs-9484f115-6b83-45e6-a6e6-5ad7deb72c98' class='xr-var-attrs-in' type='checkbox' ><label for='attrs-9484f115-6b83-45e6-a6e6-5ad7deb72c98' title='Show/Hide attributes'><svg class='icon xr-icon-file-text2'><use xlink:href='#icon-file-text2'></use></svg></label><input id='data-fee6853a-63b5-44b9-a52e-8afc90dfd98a' class='xr-var-data-in' type='checkbox'><label for='data-fee6853a-63b5-44b9-a52e-8afc90dfd98a' title='Show/Hide data repr'><svg class='icon xr-icon-database'><use xlink:href='#icon-database'></use></svg></label><div class='xr-var-attrs'><dl class='xr-attrs'><dt><span>statistic :</span></dt><dd>Running std dev over 120 min</dd></dl></div><div class='xr-var-data'><pre>[3036 values with dtype=float64]</pre></div></li><li class='xr-var-item'><div class='xr-var-name'><span>mean_U10N_x</span></div><div class='xr-var-dims'>(QS_TIME)</div><div class='xr-var-dtype'>float64</div><div class='xr-var-preview xr-preview'>...</div><input id='attrs-d552fa11-67e3-4323-9ee8-a24009615b48' class='xr-var-attrs-in' type='checkbox' ><label for='attrs-d552fa11-67e3-4323-9ee8-a24009615b48' title='Show/Hide attributes'><svg class='icon xr-icon-file-text2'><use xlink:href='#icon-file-text2'></use></svg></label><input id='data-6cbedb52-5619-49ab-89cf-e7d158a674fc' class='xr-var-data-in' type='checkbox'><label for='data-6cbedb52-5619-49ab-89cf-e7d158a674fc' title='Show/Hide data repr'><svg class='icon xr-icon-database'><use xlink:href='#icon-database'></use></svg></label><div class='xr-var-attrs'><dl class='xr-attrs'><dt><span>statistic :</span></dt><dd>Running mean over 120 min</dd></dl></div><div class='xr-var-data'><pre>[3036 values with dtype=float64]</pre></div></li><li class='xr-var-item'><div class='xr-var-name'><span>std_U10N_x</span></div><div class='xr-var-dims'>(QS_TIME)</div><div class='xr-var-dtype'>float64</div><div class='xr-var-preview xr-preview'>...</div><input id='attrs-80ce5bc5-ce22-4cc1-b0df-419730eb8375' class='xr-var-attrs-in' type='checkbox' ><label for='attrs-80ce5bc5-ce22-4cc1-b0df-419730eb8375' title='Show/Hide attributes'><svg class='icon xr-icon-file-text2'><use xlink:href='#icon-file-text2'></use></svg></label><input id='data-3ea4728a-60af-4f82-8404-fb087867581b' class='xr-var-data-in' type='checkbox'><label for='data-3ea4728a-60af-4f82-8404-fb087867581b' title='Show/Hide data repr'><svg class='icon xr-icon-database'><use xlink:href='#icon-database'></use></svg></label><div class='xr-var-attrs'><dl class='xr-attrs'><dt><span>statistic :</span></dt><dd>Running std dev over 120 min</dd></dl></div><div class='xr-var-data'><pre>[3036 values with dtype=float64]</pre></div></li><li class='xr-var-item'><div class='xr-var-name'><span>mean_U10N_y</span></div><div class='xr-var-dims'>(QS_TIME)</div><div class='xr-var-dtype'>float64</div><div class='xr-var-preview xr-preview'>...</div><input id='attrs-78375166-3be3-4048-aa1d-91b520a5d68f' class='xr-var-attrs-in' type='checkbox' ><label for='attrs-78375166-3be3-4048-aa1d-91b520a5d68f' title='Show/Hide attributes'><svg class='icon xr-icon-file-text2'><use xlink:href='#icon-file-text2'></use></svg></label><input id='data-5969bb68-fafd-4e24-8291-b8afd0b92dda' class='xr-var-data-in' type='checkbox'><label for='data-5969bb68-fafd-4e24-8291-b8afd0b92dda' title='Show/Hide data repr'><svg class='icon xr-icon-database'><use xlink:href='#icon-database'></use></svg></label><div class='xr-var-attrs'><dl class='xr-attrs'><dt><span>statistic :</span></dt><dd>Running mean over 120 min</dd></dl></div><div class='xr-var-data'><pre>[3036 values with dtype=float64]</pre></div></li><li class='xr-var-item'><div class='xr-var-name'><span>std_U10N_y</span></div><div class='xr-var-dims'>(QS_TIME)</div><div class='xr-var-dtype'>float64</div><div class='xr-var-preview xr-preview'>...</div><input id='attrs-49e27613-ab64-445a-82f5-b3304782c560' class='xr-var-attrs-in' type='checkbox' ><label for='attrs-49e27613-ab64-445a-82f5-b3304782c560' title='Show/Hide attributes'><svg class='icon xr-icon-file-text2'><use xlink:href='#icon-file-text2'></use></svg></label><input id='data-2d0072a0-ac4e-431c-9e8f-e3b186842c0e' class='xr-var-data-in' type='checkbox'><label for='data-2d0072a0-ac4e-431c-9e8f-e3b186842c0e' title='Show/Hide data repr'><svg class='icon xr-icon-database'><use xlink:href='#icon-database'></use></svg></label><div class='xr-var-attrs'><dl class='xr-attrs'><dt><span>statistic :</span></dt><dd>Running std dev over 120 min</dd></dl></div><div class='xr-var-data'><pre>[3036 values with dtype=float64]</pre></div></li><li class='xr-var-item'><div class='xr-var-name'><span>mean_SST</span></div><div class='xr-var-dims'>(QS_TIME)</div><div class='xr-var-dtype'>float64</div><div class='xr-var-preview xr-preview'>...</div><input id='attrs-5410c7d8-f805-4bd2-ba90-5ba890196b73' class='xr-var-attrs-in' type='checkbox' ><label for='attrs-5410c7d8-f805-4bd2-ba90-5ba890196b73' title='Show/Hide attributes'><svg class='icon xr-icon-file-text2'><use xlink:href='#icon-file-text2'></use></svg></label><input id='data-5e235e1e-5629-45d4-a846-141d77e78a86' class='xr-var-data-in' type='checkbox'><label for='data-5e235e1e-5629-45d4-a846-141d77e78a86' title='Show/Hide data repr'><svg class='icon xr-icon-database'><use xlink:href='#icon-database'></use></svg></label><div class='xr-var-attrs'><dl class='xr-attrs'><dt><span>statistic :</span></dt><dd>Running mean over 120 min</dd></dl></div><div class='xr-var-data'><pre>[3036 values with dtype=float64]</pre></div></li><li class='xr-var-item'><div class='xr-var-name'><span>std_SST</span></div><div class='xr-var-dims'>(QS_TIME)</div><div class='xr-var-dtype'>float64</div><div class='xr-var-preview xr-preview'>...</div><input id='attrs-b5d7d2c5-e5ab-4b8e-9bac-c56ab13b4b9f' class='xr-var-attrs-in' type='checkbox' ><label for='attrs-b5d7d2c5-e5ab-4b8e-9bac-c56ab13b4b9f' title='Show/Hide attributes'><svg class='icon xr-icon-file-text2'><use xlink:href='#icon-file-text2'></use></svg></label><input id='data-d1a88743-bdf5-4b42-9e33-727367e06b45' class='xr-var-data-in' type='checkbox'><label for='data-d1a88743-bdf5-4b42-9e33-727367e06b45' title='Show/Hide data repr'><svg class='icon xr-icon-database'><use xlink:href='#icon-database'></use></svg></label><div class='xr-var-attrs'><dl class='xr-attrs'><dt><span>statistic :</span></dt><dd>Running std dev over 120 min</dd></dl></div><div class='xr-var-data'><pre>[3036 values with dtype=float64]</pre></div></li><li class='xr-var-item'><div class='xr-var-name'><span>mean_AIRT</span></div><div class='xr-var-dims'>(QS_TIME)</div><div class='xr-var-dtype'>float64</div><div class='xr-var-preview xr-preview'>...</div><input id='attrs-6fba51c5-5bfb-450b-b6a5-bd90d3ffda01' class='xr-var-attrs-in' type='checkbox' ><label for='attrs-6fba51c5-5bfb-450b-b6a5-bd90d3ffda01' title='Show/Hide attributes'><svg class='icon xr-icon-file-text2'><use xlink:href='#icon-file-text2'></use></svg></label><input id='data-7a414e0b-1d10-404b-9ea8-b78218d3faef' class='xr-var-data-in' type='checkbox'><label for='data-7a414e0b-1d10-404b-9ea8-b78218d3faef' title='Show/Hide data repr'><svg class='icon xr-icon-database'><use xlink:href='#icon-database'></use></svg></label><div class='xr-var-attrs'><dl class='xr-attrs'><dt><span>statistic :</span></dt><dd>Running mean over 120 min</dd></dl></div><div class='xr-var-data'><pre>[3036 values with dtype=float64]</pre></div></li><li class='xr-var-item'><div class='xr-var-name'><span>std_AIRT</span></div><div class='xr-var-dims'>(QS_TIME)</div><div class='xr-var-dtype'>float64</div><div class='xr-var-preview xr-preview'>...</div><input id='attrs-f015de8d-e048-4859-8e7d-21442b59da6a' class='xr-var-attrs-in' type='checkbox' ><label for='attrs-f015de8d-e048-4859-8e7d-21442b59da6a' title='Show/Hide attributes'><svg class='icon xr-icon-file-text2'><use xlink:href='#icon-file-text2'></use></svg></label><input id='data-aa36df67-4608-4c6f-8819-89eebfcbfe03' class='xr-var-data-in' type='checkbox'><label for='data-aa36df67-4608-4c6f-8819-89eebfcbfe03' title='Show/Hide data repr'><svg class='icon xr-icon-database'><use xlink:href='#icon-database'></use></svg></label><div class='xr-var-attrs'><dl class='xr-attrs'><dt><span>statistic :</span></dt><dd>Running std dev over 120 min</dd></dl></div><div class='xr-var-data'><pre>[3036 values with dtype=float64]</pre></div></li><li class='xr-var-item'><div class='xr-var-name'><span>mean_RELH</span></div><div class='xr-var-dims'>(QS_TIME)</div><div class='xr-var-dtype'>float64</div><div class='xr-var-preview xr-preview'>...</div><input id='attrs-0b799fb9-5684-468a-bd7f-03ce8896f27e' class='xr-var-attrs-in' type='checkbox' ><label for='attrs-0b799fb9-5684-468a-bd7f-03ce8896f27e' title='Show/Hide attributes'><svg class='icon xr-icon-file-text2'><use xlink:href='#icon-file-text2'></use></svg></label><input id='data-2adf2ca3-860f-4afb-ba1b-7937c544d96b' class='xr-var-data-in' type='checkbox'><label for='data-2adf2ca3-860f-4afb-ba1b-7937c544d96b' title='Show/Hide data repr'><svg class='icon xr-icon-database'><use xlink:href='#icon-database'></use></svg></label><div class='xr-var-attrs'><dl class='xr-attrs'><dt><span>statistic :</span></dt><dd>Running mean over 120 min</dd></dl></div><div class='xr-var-data'><pre>[3036 values with dtype=float64]</pre></div></li><li class='xr-var-item'><div class='xr-var-name'><span>std_RELH</span></div><div class='xr-var-dims'>(QS_TIME)</div><div class='xr-var-dtype'>float64</div><div class='xr-var-preview xr-preview'>...</div><input id='attrs-4d212eca-2ed0-4b49-925e-9c4f16a75259' class='xr-var-attrs-in' type='checkbox' ><label for='attrs-4d212eca-2ed0-4b49-925e-9c4f16a75259' title='Show/Hide attributes'><svg class='icon xr-icon-file-text2'><use xlink:href='#icon-file-text2'></use></svg></label><input id='data-3429fa77-76d3-4641-a9f3-85e201288d8a' class='xr-var-data-in' type='checkbox'><label for='data-3429fa77-76d3-4641-a9f3-85e201288d8a' title='Show/Hide data repr'><svg class='icon xr-icon-database'><use xlink:href='#icon-database'></use></svg></label><div class='xr-var-attrs'><dl class='xr-attrs'><dt><span>statistic :</span></dt><dd>Running std dev over 120 min</dd></dl></div><div class='xr-var-data'><pre>[3036 values with dtype=float64]</pre></div></li><li class='xr-var-item'><div class='xr-var-name'><span>mean_SST - AIRT</span></div><div class='xr-var-dims'>(QS_TIME)</div><div class='xr-var-dtype'>float64</div><div class='xr-var-preview xr-preview'>...</div><input id='attrs-835c3346-b29e-4fd6-8d98-2e4de7755cfc' class='xr-var-attrs-in' type='checkbox' ><label for='attrs-835c3346-b29e-4fd6-8d98-2e4de7755cfc' title='Show/Hide attributes'><svg class='icon xr-icon-file-text2'><use xlink:href='#icon-file-text2'></use></svg></label><input id='data-bd4e106a-a3f5-40ba-858e-1304e1566abc' class='xr-var-data-in' type='checkbox'><label for='data-bd4e106a-a3f5-40ba-858e-1304e1566abc' title='Show/Hide data repr'><svg class='icon xr-icon-database'><use xlink:href='#icon-database'></use></svg></label><div class='xr-var-attrs'><dl class='xr-attrs'><dt><span>statistic :</span></dt><dd>Running mean over 120 min</dd></dl></div><div class='xr-var-data'><pre>[3036 values with dtype=float64]</pre></div></li><li class='xr-var-item'><div class='xr-var-name'><span>std_SST - AIRT</span></div><div class='xr-var-dims'>(QS_TIME)</div><div class='xr-var-dtype'>float64</div><div class='xr-var-preview xr-preview'>...</div><input id='attrs-bcf02240-075a-459c-a5b6-5e9f59ba0b3e' class='xr-var-attrs-in' type='checkbox' ><label for='attrs-bcf02240-075a-459c-a5b6-5e9f59ba0b3e' title='Show/Hide attributes'><svg class='icon xr-icon-file-text2'><use xlink:href='#icon-file-text2'></use></svg></label><input id='data-0f3373fa-8faa-45af-bede-1a92c9ce2d9f' class='xr-var-data-in' type='checkbox'><label for='data-0f3373fa-8faa-45af-bede-1a92c9ce2d9f' title='Show/Hide data repr'><svg class='icon xr-icon-database'><use xlink:href='#icon-database'></use></svg></label><div class='xr-var-attrs'><dl class='xr-attrs'><dt><span>statistic :</span></dt><dd>Running std dev over 120 min</dd></dl></div><div class='xr-var-data'><pre>[3036 values with dtype=float64]</pre></div></li><li class='xr-var-item'><div class='xr-var-name'><span>TAO_TIME</span></div><div class='xr-var-dims'>(QS_TIME)</div><div class='xr-var-dtype'>datetime64[ns]</div><div class='xr-var-preview xr-preview'>...</div><input id='attrs-0d39e0bf-b25b-456d-a8f5-124f00e0e491' class='xr-var-attrs-in' type='checkbox' disabled><label for='attrs-0d39e0bf-b25b-456d-a8f5-124f00e0e491' title='Show/Hide attributes'><svg class='icon xr-icon-file-text2'><use xlink:href='#icon-file-text2'></use></svg></label><input id='data-c3c0cedd-5934-4a89-b353-ebc94cd51fd9' class='xr-var-data-in' type='checkbox'><label for='data-c3c0cedd-5934-4a89-b353-ebc94cd51fd9' title='Show/Hide data repr'><svg class='icon xr-icon-database'><use xlink:href='#icon-database'></use></svg></label><div class='xr-var-attrs'><dl class='xr-attrs'></dl></div><div class='xr-var-data'><pre>[3036 values with dtype=datetime64[ns]]</pre></div></li></ul></div></li><li class='xr-section-item'><input id='section-8c523594-9f11-4cbd-9a15-26a1f6a3c851' class='xr-section-summary-in' type='checkbox'  ><label for='section-8c523594-9f11-4cbd-9a15-26a1f6a3c851' class='xr-section-summary' >Indexes: <span>(6)</span></label><div class='xr-section-inline-details'></div><div class='xr-section-details'><ul class='xr-var-list'><li class='xr-var-item'><div class='xr-index-name'><div>QS_TIME</div></div><div class='xr-index-preview'>PandasIndex</div><div></div><input id='index-f68fb1fb-f4b2-4f6a-82f6-d092fcf2036d' class='xr-index-data-in' type='checkbox'/><label for='index-f68fb1fb-f4b2-4f6a-82f6-d092fcf2036d' title='Show/Hide index repr'><svg class='icon xr-icon-database'><use xlink:href='#icon-database'></use></svg></label><div class='xr-index-data'><pre>PandasIndex(DatetimeIndex([&#x27;2001-06-25 17:34:25.650508608&#x27;,\n",
       "               &#x27;2001-06-25 17:34:27.517318416&#x27;,\n",
       "               &#x27;2001-06-26 06:07:22.771479760&#x27;,\n",
       "               &#x27;2001-06-26 06:07:24.638276320&#x27;,\n",
       "               &#x27;2001-06-27 05:42:01.667107680&#x27;,\n",
       "               &#x27;2001-06-27 05:42:03.533904848&#x27;,\n",
       "               &#x27;2001-06-28 17:58:18.488131984&#x27;,\n",
       "               &#x27;2001-06-28 17:58:20.354939632&#x27;,\n",
       "               &#x27;2001-06-29 06:31:15.588762048&#x27;,\n",
       "               &#x27;2001-06-29 06:31:17.455556768&#x27;,\n",
       "               ...\n",
       "               &#x27;2006-12-01 06:41:15.687811808&#x27;,\n",
       "               &#x27;2006-12-01 06:41:17.553873856&#x27;,\n",
       "               &#x27;2006-12-01 17:42:41.833610336&#x27;,\n",
       "               &#x27;2006-12-01 17:42:43.699685280&#x27;,\n",
       "               &#x27;2006-12-02 06:15:21.131096800&#x27;,\n",
       "               &#x27;2006-12-02 06:15:22.997159168&#x27;,\n",
       "               &#x27;2006-12-03 05:49:26.565763968&#x27;,\n",
       "               &#x27;2006-12-03 05:49:28.431828480&#x27;,\n",
       "               &#x27;2006-12-03 18:30:50.229146208&#x27;,\n",
       "               &#x27;2006-12-03 18:30:52.095211616&#x27;],\n",
       "              dtype=&#x27;datetime64[ns]&#x27;, name=&#x27;QS_TIME&#x27;, length=3036, freq=None))</pre></div></li><li class='xr-var-item'><div class='xr-index-name'><div>cross_track</div></div><div class='xr-index-preview'>PandasIndex</div><div></div><input id='index-e996ab35-944a-4f5a-a856-6eaaad34c361' class='xr-index-data-in' type='checkbox'/><label for='index-e996ab35-944a-4f5a-a856-6eaaad34c361' title='Show/Hide index repr'><svg class='icon xr-icon-database'><use xlink:href='#icon-database'></use></svg></label><div class='xr-index-data'><pre>PandasIndex(Index([0, 1, 2], dtype=&#x27;int64&#x27;, name=&#x27;cross_track&#x27;))</pre></div></li><li class='xr-var-item'><div class='xr-index-name'><div>ambiguities</div></div><div class='xr-index-preview'>PandasIndex</div><div></div><input id='index-4c00130c-6ce5-4575-9471-0df3f9723add' class='xr-index-data-in' type='checkbox'/><label for='index-4c00130c-6ce5-4575-9471-0df3f9723add' title='Show/Hide index repr'><svg class='icon xr-icon-database'><use xlink:href='#icon-database'></use></svg></label><div class='xr-index-data'><pre>PandasIndex(Index([0, 1, 2, 3], dtype=&#x27;int64&#x27;, name=&#x27;ambiguities&#x27;))</pre></div></li><li class='xr-var-item'><div class='xr-index-name'><div>TIME</div></div><div class='xr-index-preview'>PandasIndex</div><div></div><input id='index-fb0f74a8-a59a-422a-9a40-110ea5180779' class='xr-index-data-in' type='checkbox'/><label for='index-fb0f74a8-a59a-422a-9a40-110ea5180779' title='Show/Hide index repr'><svg class='icon xr-icon-database'><use xlink:href='#icon-database'></use></svg></label><div class='xr-index-data'><pre>PandasIndex(DatetimeIndex([&#x27;2000-01-01 05:33:44&#x27;, &#x27;2000-01-01 05:33:46&#x27;,\n",
       "               &#x27;2000-01-03 06:23:39&#x27;, &#x27;2000-01-03 06:23:40&#x27;,\n",
       "               &#x27;2000-01-03 17:25:31&#x27;, &#x27;2000-01-04 05:58:37&#x27;,\n",
       "               &#x27;2000-01-04 05:58:39&#x27;, &#x27;2000-01-05 05:33:33&#x27;,\n",
       "               &#x27;2000-01-05 05:33:35&#x27;, &#x27;2000-01-05 18:15:25&#x27;,\n",
       "               ...\n",
       "               &#x27;2006-12-28 06:41:03&#x27;, &#x27;2006-12-28 17:42:29&#x27;,\n",
       "               &#x27;2006-12-28 17:42:31&#x27;, &#x27;2006-12-29 06:15:08&#x27;,\n",
       "               &#x27;2006-12-30 05:49:12&#x27;, &#x27;2006-12-30 05:49:13&#x27;,\n",
       "               &#x27;2006-12-30 18:30:35&#x27;, &#x27;2006-12-30 18:30:37&#x27;,\n",
       "               &#x27;2006-12-31 18:04:39&#x27;, &#x27;2006-12-31 18:04:41&#x27;],\n",
       "              dtype=&#x27;datetime64[ns]&#x27;, name=&#x27;TIME&#x27;, length=6690, freq=None))</pre></div></li><li class='xr-var-item'><div class='xr-index-name'><div>HEIGHT</div></div><div class='xr-index-preview'>PandasIndex</div><div></div><input id='index-41b18cb4-6e91-4a38-a01f-be529544f018' class='xr-index-data-in' type='checkbox'/><label for='index-41b18cb4-6e91-4a38-a01f-be529544f018' title='Show/Hide index repr'><svg class='icon xr-icon-database'><use xlink:href='#icon-database'></use></svg></label><div class='xr-index-data'><pre>PandasIndex(Index([3.0, 4.0, 10.0], dtype=&#x27;float32&#x27;, name=&#x27;HEIGHT&#x27;))</pre></div></li><li class='xr-var-item'><div class='xr-index-name'><div>DEPTH</div></div><div class='xr-index-preview'>PandasIndex</div><div></div><input id='index-0a35fed6-bd60-44ed-bac6-afc5fafe2f2f' class='xr-index-data-in' type='checkbox'/><label for='index-0a35fed6-bd60-44ed-bac6-afc5fafe2f2f' title='Show/Hide index repr'><svg class='icon xr-icon-database'><use xlink:href='#icon-database'></use></svg></label><div class='xr-index-data'><pre>PandasIndex(Index([1.0], dtype=&#x27;float32&#x27;, name=&#x27;DEPTH&#x27;))</pre></div></li></ul></div></li><li class='xr-section-item'><input id='section-1211e8b5-df59-4fb0-9fd1-7b63e4877e8b' class='xr-section-summary-in' type='checkbox' disabled ><label for='section-1211e8b5-df59-4fb0-9fd1-7b63e4877e8b' class='xr-section-summary'  title='Expand/collapse section'>Attributes: <span>(0)</span></label><div class='xr-section-inline-details'></div><div class='xr-section-details'><dl class='xr-attrs'></dl></div></li></ul></div></div>"
      ],
      "text/plain": [
       "<xarray.Dataset>\n",
       "Dimensions:                           (QS_TIME: 3036, cross_track: 3,\n",
       "                                       ambiguities: 4, TIME: 6690, HEIGHT: 3,\n",
       "                                       DEPTH: 1)\n",
       "Coordinates:\n",
       "  * QS_TIME                           (QS_TIME) datetime64[ns] 2001-06-25T17:...\n",
       "  * cross_track                       (cross_track) int64 0 1 2\n",
       "  * ambiguities                       (ambiguities) int64 0 1 2 3\n",
       "  * TIME                              (TIME) datetime64[ns] 2000-01-01T05:33:...\n",
       "  * HEIGHT                            (HEIGHT) float32 3.0 4.0 10.0\n",
       "  * DEPTH                             (DEPTH) float32 1.0\n",
       "Data variables: (12/66)\n",
       "    retrieved_wind_speed              (QS_TIME, cross_track) float64 ...\n",
       "    retrieved_wind_direction          (QS_TIME, cross_track) float64 ...\n",
       "    rain_impact                       (QS_TIME, cross_track) float64 ...\n",
       "    flags                             (QS_TIME, cross_track) float64 ...\n",
       "    eflags                            (QS_TIME, cross_track) float64 ...\n",
       "    nudge_wind_speed                  (QS_TIME, cross_track) float64 ...\n",
       "    ...                                ...\n",
       "    std_AIRT                          (QS_TIME) float64 ...\n",
       "    mean_RELH                         (QS_TIME) float64 ...\n",
       "    std_RELH                          (QS_TIME) float64 ...\n",
       "    mean_SST - AIRT                   (QS_TIME) float64 ...\n",
       "    std_SST - AIRT                    (QS_TIME) float64 ...\n",
       "    TAO_TIME                          (QS_TIME) datetime64[ns] ..."
      ]
     },
     "execution_count": 27,
     "metadata": {},
     "output_type": "execute_result"
    }
   ],
   "source": [
    "ds= xr.open_dataset('/srv/data2/srai_poseidon/srai_poseidon/observation/SatelliteVsBuoy/downloads/Buoy/extractedGZ/WINDS/T_08N_180WCOARE3p5_2000_2hrMeanVar_QS_Matchup.nc')\n",
    "ds"
   ]
  },
  {
   "cell_type": "code",
   "execution_count": 28,
   "id": "e03e0c5d-bd13-4755-979e-dc34f1d4dd2c",
   "metadata": {},
   "outputs": [],
   "source": [
    "ds.close()"
   ]
  },
  {
   "cell_type": "code",
   "execution_count": 29,
   "id": "c56b37ef-992b-490a-afc8-c75791f3cb3f",
   "metadata": {},
   "outputs": [
    {
     "data": {
      "text/plain": [
       "['retrieved_wind_speed',\n",
       " 'retrieved_wind_direction',\n",
       " 'rain_impact',\n",
       " 'flags',\n",
       " 'eflags',\n",
       " 'nudge_wind_speed',\n",
       " 'nudge_wind_direction',\n",
       " 'retrieved_wind_speed_uncorrected',\n",
       " 'cross_track_wind_speed_bias',\n",
       " 'atmospheric_speed_bias',\n",
       " 'wind_obj',\n",
       " 'ambiguity_speed',\n",
       " 'ambiguity_direction',\n",
       " 'ambiguity_obj',\n",
       " 'number_in_fore',\n",
       " 'number_in_aft',\n",
       " 'number_out_fore',\n",
       " 'number_out_aft',\n",
       " 'gmf_sst',\n",
       " 'distance_from_coast',\n",
       " 'exp_bias_wrt_oceanward_neighbors',\n",
       " 'WDIR',\n",
       " 'WDIR_QC',\n",
       " 'WDIR_DM',\n",
       " 'WSPD',\n",
       " 'WSPD_QC',\n",
       " 'WSPD_DM',\n",
       " 'UWND',\n",
       " 'VWND',\n",
       " 'SST',\n",
       " 'SST_QC',\n",
       " 'SST_DM',\n",
       " 'AIRT',\n",
       " 'AIRT_QC',\n",
       " 'AIRT_DM',\n",
       " 'RELH',\n",
       " 'RELH_QC',\n",
       " 'RELH_DM',\n",
       " 'WSPD_10N',\n",
       " 'WSPD_10',\n",
       " 'SST - AIRT',\n",
       " 'cosWDIR',\n",
       " 'sinWDIR',\n",
       " 'U10N_x',\n",
       " 'U10N_y',\n",
       " 'mean_WSPD',\n",
       " 'std_WSPD',\n",
       " 'mean_cosWDIR',\n",
       " 'std_cosWDIR',\n",
       " 'mean_sinWDIR',\n",
       " 'std_sinWDIR',\n",
       " 'mean_WSPD_10N',\n",
       " 'std_WSPD_10N',\n",
       " 'mean_U10N_x',\n",
       " 'std_U10N_x',\n",
       " 'mean_U10N_y',\n",
       " 'std_U10N_y',\n",
       " 'mean_SST',\n",
       " 'std_SST',\n",
       " 'mean_AIRT',\n",
       " 'std_AIRT',\n",
       " 'mean_RELH',\n",
       " 'std_RELH',\n",
       " 'mean_SST - AIRT',\n",
       " 'std_SST - AIRT',\n",
       " 'TAO_TIME']"
      ]
     },
     "execution_count": 29,
     "metadata": {},
     "output_type": "execute_result"
    }
   ],
   "source": [
    "list(ds.keys())"
   ]
  },
  {
   "cell_type": "code",
   "execution_count": 30,
   "id": "c7d274fe-7908-40a7-aa18-462238240a6f",
   "metadata": {},
   "outputs": [],
   "source": [
    "statVars = ['mean_WSPD',\n",
    "             'std_WSPD',\n",
    "             'mean_WSPD_10N',\n",
    "             'std_WSPD_10N',\n",
    "             'mean_SST',\n",
    "             'std_SST',\n",
    "             'mean_AIRT',\n",
    "             'std_AIRT',\n",
    "             'mean_SST - AIRT',\n",
    "             'std_SST - AIRT',\n",
    "             'mean_RELH',\n",
    "             'std_RELH',\n",
    "             'mean_U10N_x',\n",
    "             'std_U10N_x',\n",
    "             'mean_U10N_y',\n",
    "             'std_U10N_y',\n",
    "             'mean_cosWDIR',\n",
    "             'std_cosWDIR',\n",
    "             'mean_sinWDIR',\n",
    "             'std_sinWDIR']"
   ]
  },
  {
   "cell_type": "code",
   "execution_count": 7,
   "id": "b11fb193-3b5a-414b-87a6-dcc940407366",
   "metadata": {},
   "outputs": [],
   "source": [
    "def getSubDF(ds, LAT, LON):\n",
    "    subds = xr.Dataset()\n",
    "\n",
    "    taoTimeVar = ['TAO_TIME']\n",
    "    \n",
    "    windVars = ['WDIR',\n",
    "         'WDIR_QC',\n",
    "         'WDIR_DM',\n",
    "         'WSPD',\n",
    "         'WSPD_QC',\n",
    "         'WSPD_DM',\n",
    "         'UWND',\n",
    "         'VWND']\n",
    "\n",
    "    sstVars = ['SST',\n",
    "             'SST_QC',\n",
    "             'SST_DM']\n",
    "    \n",
    "    airtVars = ['AIRT',\n",
    "             'AIRT_QC',\n",
    "             'AIRT_DM']\n",
    "    \n",
    "    rhVars = ['RELH',\n",
    "             'RELH_QC',\n",
    "             'RELH_DM']\n",
    "    \n",
    "    u10Vars =['WSPD_10N',\n",
    "             'WSPD_10']\n",
    "\n",
    "    statVars = ['mean_WSPD',\n",
    "             'std_WSPD',\n",
    "             'mean_WSPD_10N',\n",
    "             'std_WSPD_10N',\n",
    "             'mean_SST',\n",
    "             'std_SST',\n",
    "             'mean_AIRT',\n",
    "             'std_AIRT',\n",
    "             'mean_SST - AIRT',\n",
    "             'std_SST - AIRT',\n",
    "             'mean_RELH',\n",
    "             'std_RELH',\n",
    "             'mean_U10N_x',\n",
    "             'std_U10N_x',\n",
    "             'mean_U10N_y',\n",
    "             'std_U10N_y',\n",
    "             'mean_cosWDIR',\n",
    "             'std_cosWDIR',\n",
    "             'mean_sinWDIR',\n",
    "             'std_sinWDIR']\n",
    "        \n",
    "    \n",
    "    satVars = ['retrieved_wind_speed',\n",
    "             'retrieved_wind_direction',\n",
    "             'rain_impact',\n",
    "             'flags',\n",
    "             'eflags',\n",
    "             'nudge_wind_speed',\n",
    "             'nudge_wind_direction',\n",
    "             'retrieved_wind_speed_uncorrected',\n",
    "             'cross_track_wind_speed_bias',\n",
    "             'atmospheric_speed_bias',\n",
    "             'wind_obj',\n",
    "             'ambiguity_speed',\n",
    "             'ambiguity_direction',\n",
    "             'ambiguity_obj',\n",
    "             'number_in_fore',\n",
    "             'number_in_aft',\n",
    "             'number_out_fore',\n",
    "             'number_out_aft',\n",
    "             'gmf_sst',\n",
    "             'distance_from_coast',\n",
    "             'exp_bias_wrt_oceanward_neighbors']\n",
    "\n",
    "     \n",
    "    \n",
    "    for windVar in windVars:\n",
    "        subds[windVar] = ds[windVar].sel(HEIGHT=4)\n",
    "    subds.drop_vars('HEIGHT')\n",
    "    for sstVar in sstVars:\n",
    "        subds[sstVar] = ds[sstVar].sel(DEPTH=1)\n",
    "    subds.drop_vars('DEPTH')\n",
    "    for rhVar in rhVars:\n",
    "        subds[rhVar] = ds[rhVar].sel(HEIGHT=3)\n",
    "    subds.drop_vars('HEIGHT')\n",
    "    for airtVar in airtVars:\n",
    "        subds[airtVar] = ds[airtVar].sel(HEIGHT=3)\n",
    "    subds.drop_vars('HEIGHT')\n",
    "    for u10Var in u10Vars:\n",
    "        subds[u10Var] = ds[u10Var].sel(HEIGHT=10)\n",
    "    subds.drop_vars('HEIGHT')\n",
    "\n",
    "    for statVar in statVars:\n",
    "        subds[statVar] = ds[statVar]\n",
    "\n",
    "    subds['LATITUDE'] = xr.DataArray(LAT * np.ones(len(subds['QS_TIME']), dtype = float), dims=['QS_TIME'])\n",
    "    subds['LONGITUDE'] = xr.DataArray(LON * np.ones(len(subds['QS_TIME']), dtype = float), dims=['QS_TIME'])\n",
    "    \n",
    "    subds['TAO_TIME'] = ds['TAO_TIME']\n",
    "\n",
    "    deployFileName = f'../../../downloads/Buoy/extractedGZ/WINDS/T_{lat:02d}{latUnits}_{lon:03d}{lonUnits}/T_{lat:02d}{latUnits}_{lon:03d}{lonUnits}_DeploymentDates.nc'\n",
    "    ds2 = xr.open_dataset(deployFileName)\n",
    "    startDates = np.array(ds2['startDate'])\n",
    "    endDates = np.array(ds2['endDate'])\n",
    "\n",
    "    depNum = np.zeros((len(subds['QS_TIME'])), dtype=int)\n",
    "    c = 1\n",
    "    for i in range(1,len(startDates)):\n",
    "        mask = subds['QS_TIME'] >= startDates[i]\n",
    "        mask *= subds['QS_TIME'] <= endDates[i]\n",
    "        depNum[mask] = c\n",
    "        c = c+1\n",
    "\n",
    "    subds['Deployment index'] = xr.DataArray(depNum, dims=['QS_TIME'])\n",
    "    \n",
    "    \n",
    "    satDS = ds[satVars]\n",
    "    satDS = satDS.isel(cross_track=0, ambiguities=0)\n",
    "\n",
    "    \n",
    "    \n",
    "    returnDS = xr.merge((subds, satDS))\n",
    "\n",
    "    \n",
    "    \n",
    "    return returnDS"
   ]
  },
  {
   "cell_type": "code",
   "execution_count": 8,
   "id": "ab2dd76c-6bae-467c-843c-968c0dbc3d02",
   "metadata": {},
   "outputs": [
    {
     "name": "stdout",
     "output_type": "stream",
     "text": [
      "T_08S_095W_xrr_MatchUp_2000.nc\n",
      "0 4033\n",
      "T_08S_110W_xrr_MatchUp_2000.nc\n",
      "4033 6764\n"
     ]
    },
    {
     "name": "stderr",
     "output_type": "stream",
     "text": [
      "/home/shikhar.rai/anaconda3/envs/mpiNetCDF/lib/python3.11/site-packages/xarray/core/concat.py:546: FutureWarning: unique with argument that is not not a Series, Index, ExtensionArray, or np.ndarray is deprecated and will raise in a future version.\n",
      "  common_dims = tuple(pd.unique([d for v in vars for d in v.dims]))\n",
      "/home/shikhar.rai/anaconda3/envs/mpiNetCDF/lib/python3.11/site-packages/xarray/core/concat.py:546: FutureWarning: unique with argument that is not not a Series, Index, ExtensionArray, or np.ndarray is deprecated and will raise in a future version.\n",
      "  common_dims = tuple(pd.unique([d for v in vars for d in v.dims]))\n"
     ]
    },
    {
     "name": "stdout",
     "output_type": "stream",
     "text": [
      "T_08S_125W_xrr_MatchUp_2000.nc\n",
      "6764 9758\n"
     ]
    },
    {
     "name": "stderr",
     "output_type": "stream",
     "text": [
      "/home/shikhar.rai/anaconda3/envs/mpiNetCDF/lib/python3.11/site-packages/xarray/core/concat.py:546: FutureWarning: unique with argument that is not not a Series, Index, ExtensionArray, or np.ndarray is deprecated and will raise in a future version.\n",
      "  common_dims = tuple(pd.unique([d for v in vars for d in v.dims]))\n",
      "/home/shikhar.rai/anaconda3/envs/mpiNetCDF/lib/python3.11/site-packages/xarray/core/concat.py:546: FutureWarning: unique with argument that is not not a Series, Index, ExtensionArray, or np.ndarray is deprecated and will raise in a future version.\n",
      "  common_dims = tuple(pd.unique([d for v in vars for d in v.dims]))\n"
     ]
    },
    {
     "name": "stdout",
     "output_type": "stream",
     "text": [
      "T_08S_155W_xrr_MatchUp_2000.nc\n",
      "9758 12737\n"
     ]
    },
    {
     "name": "stderr",
     "output_type": "stream",
     "text": [
      "/home/shikhar.rai/anaconda3/envs/mpiNetCDF/lib/python3.11/site-packages/xarray/core/concat.py:546: FutureWarning: unique with argument that is not not a Series, Index, ExtensionArray, or np.ndarray is deprecated and will raise in a future version.\n",
      "  common_dims = tuple(pd.unique([d for v in vars for d in v.dims]))\n",
      "/home/shikhar.rai/anaconda3/envs/mpiNetCDF/lib/python3.11/site-packages/xarray/core/concat.py:546: FutureWarning: unique with argument that is not not a Series, Index, ExtensionArray, or np.ndarray is deprecated and will raise in a future version.\n",
      "  common_dims = tuple(pd.unique([d for v in vars for d in v.dims]))\n"
     ]
    },
    {
     "name": "stdout",
     "output_type": "stream",
     "text": [
      "T_08S_170W_xrr_MatchUp_2000.nc\n",
      "12737 16617\n"
     ]
    },
    {
     "name": "stderr",
     "output_type": "stream",
     "text": [
      "/home/shikhar.rai/anaconda3/envs/mpiNetCDF/lib/python3.11/site-packages/xarray/core/concat.py:546: FutureWarning: unique with argument that is not not a Series, Index, ExtensionArray, or np.ndarray is deprecated and will raise in a future version.\n",
      "  common_dims = tuple(pd.unique([d for v in vars for d in v.dims]))\n",
      "/home/shikhar.rai/anaconda3/envs/mpiNetCDF/lib/python3.11/site-packages/xarray/core/concat.py:546: FutureWarning: unique with argument that is not not a Series, Index, ExtensionArray, or np.ndarray is deprecated and will raise in a future version.\n",
      "  common_dims = tuple(pd.unique([d for v in vars for d in v.dims]))\n"
     ]
    },
    {
     "name": "stdout",
     "output_type": "stream",
     "text": [
      "T_08S_165E_xrr_MatchUp_2000.nc\n",
      "16617 19615\n"
     ]
    },
    {
     "name": "stderr",
     "output_type": "stream",
     "text": [
      "/home/shikhar.rai/anaconda3/envs/mpiNetCDF/lib/python3.11/site-packages/xarray/core/concat.py:546: FutureWarning: unique with argument that is not not a Series, Index, ExtensionArray, or np.ndarray is deprecated and will raise in a future version.\n",
      "  common_dims = tuple(pd.unique([d for v in vars for d in v.dims]))\n",
      "/home/shikhar.rai/anaconda3/envs/mpiNetCDF/lib/python3.11/site-packages/xarray/core/concat.py:546: FutureWarning: unique with argument that is not not a Series, Index, ExtensionArray, or np.ndarray is deprecated and will raise in a future version.\n",
      "  common_dims = tuple(pd.unique([d for v in vars for d in v.dims]))\n"
     ]
    },
    {
     "name": "stdout",
     "output_type": "stream",
     "text": [
      "T_05S_095W_xrr_MatchUp_2000.nc\n",
      "19615 22560\n"
     ]
    },
    {
     "name": "stderr",
     "output_type": "stream",
     "text": [
      "/home/shikhar.rai/anaconda3/envs/mpiNetCDF/lib/python3.11/site-packages/xarray/core/concat.py:546: FutureWarning: unique with argument that is not not a Series, Index, ExtensionArray, or np.ndarray is deprecated and will raise in a future version.\n",
      "  common_dims = tuple(pd.unique([d for v in vars for d in v.dims]))\n",
      "/home/shikhar.rai/anaconda3/envs/mpiNetCDF/lib/python3.11/site-packages/xarray/core/concat.py:546: FutureWarning: unique with argument that is not not a Series, Index, ExtensionArray, or np.ndarray is deprecated and will raise in a future version.\n",
      "  common_dims = tuple(pd.unique([d for v in vars for d in v.dims]))\n"
     ]
    },
    {
     "name": "stdout",
     "output_type": "stream",
     "text": [
      "T_05S_110W_xrr_MatchUp_2000.nc\n",
      "22560 27032\n"
     ]
    },
    {
     "name": "stderr",
     "output_type": "stream",
     "text": [
      "/home/shikhar.rai/anaconda3/envs/mpiNetCDF/lib/python3.11/site-packages/xarray/core/concat.py:546: FutureWarning: unique with argument that is not not a Series, Index, ExtensionArray, or np.ndarray is deprecated and will raise in a future version.\n",
      "  common_dims = tuple(pd.unique([d for v in vars for d in v.dims]))\n",
      "/home/shikhar.rai/anaconda3/envs/mpiNetCDF/lib/python3.11/site-packages/xarray/core/concat.py:546: FutureWarning: unique with argument that is not not a Series, Index, ExtensionArray, or np.ndarray is deprecated and will raise in a future version.\n",
      "  common_dims = tuple(pd.unique([d for v in vars for d in v.dims]))\n"
     ]
    },
    {
     "name": "stdout",
     "output_type": "stream",
     "text": [
      "T_05S_125W_xrr_MatchUp_2000.nc\n",
      "27032 31411\n"
     ]
    },
    {
     "name": "stderr",
     "output_type": "stream",
     "text": [
      "/home/shikhar.rai/anaconda3/envs/mpiNetCDF/lib/python3.11/site-packages/xarray/core/concat.py:546: FutureWarning: unique with argument that is not not a Series, Index, ExtensionArray, or np.ndarray is deprecated and will raise in a future version.\n",
      "  common_dims = tuple(pd.unique([d for v in vars for d in v.dims]))\n",
      "/home/shikhar.rai/anaconda3/envs/mpiNetCDF/lib/python3.11/site-packages/xarray/core/concat.py:546: FutureWarning: unique with argument that is not not a Series, Index, ExtensionArray, or np.ndarray is deprecated and will raise in a future version.\n",
      "  common_dims = tuple(pd.unique([d for v in vars for d in v.dims]))\n"
     ]
    },
    {
     "name": "stdout",
     "output_type": "stream",
     "text": [
      "T_05S_140W_xrr_MatchUp_2000.nc\n",
      "31411 36134\n"
     ]
    },
    {
     "name": "stderr",
     "output_type": "stream",
     "text": [
      "/home/shikhar.rai/anaconda3/envs/mpiNetCDF/lib/python3.11/site-packages/xarray/core/concat.py:546: FutureWarning: unique with argument that is not not a Series, Index, ExtensionArray, or np.ndarray is deprecated and will raise in a future version.\n",
      "  common_dims = tuple(pd.unique([d for v in vars for d in v.dims]))\n",
      "/home/shikhar.rai/anaconda3/envs/mpiNetCDF/lib/python3.11/site-packages/xarray/core/concat.py:546: FutureWarning: unique with argument that is not not a Series, Index, ExtensionArray, or np.ndarray is deprecated and will raise in a future version.\n",
      "  common_dims = tuple(pd.unique([d for v in vars for d in v.dims]))\n"
     ]
    },
    {
     "name": "stdout",
     "output_type": "stream",
     "text": [
      "T_05S_155W_xrr_MatchUp_2000.nc\n",
      "36134 38694\n"
     ]
    },
    {
     "name": "stderr",
     "output_type": "stream",
     "text": [
      "/home/shikhar.rai/anaconda3/envs/mpiNetCDF/lib/python3.11/site-packages/xarray/core/concat.py:546: FutureWarning: unique with argument that is not not a Series, Index, ExtensionArray, or np.ndarray is deprecated and will raise in a future version.\n",
      "  common_dims = tuple(pd.unique([d for v in vars for d in v.dims]))\n",
      "/home/shikhar.rai/anaconda3/envs/mpiNetCDF/lib/python3.11/site-packages/xarray/core/concat.py:546: FutureWarning: unique with argument that is not not a Series, Index, ExtensionArray, or np.ndarray is deprecated and will raise in a future version.\n",
      "  common_dims = tuple(pd.unique([d for v in vars for d in v.dims]))\n"
     ]
    },
    {
     "name": "stdout",
     "output_type": "stream",
     "text": [
      "T_05S_170W_xrr_MatchUp_2000.nc\n",
      "38694 42723\n"
     ]
    },
    {
     "name": "stderr",
     "output_type": "stream",
     "text": [
      "/home/shikhar.rai/anaconda3/envs/mpiNetCDF/lib/python3.11/site-packages/xarray/core/concat.py:546: FutureWarning: unique with argument that is not not a Series, Index, ExtensionArray, or np.ndarray is deprecated and will raise in a future version.\n",
      "  common_dims = tuple(pd.unique([d for v in vars for d in v.dims]))\n",
      "/home/shikhar.rai/anaconda3/envs/mpiNetCDF/lib/python3.11/site-packages/xarray/core/concat.py:546: FutureWarning: unique with argument that is not not a Series, Index, ExtensionArray, or np.ndarray is deprecated and will raise in a future version.\n",
      "  common_dims = tuple(pd.unique([d for v in vars for d in v.dims]))\n"
     ]
    },
    {
     "name": "stdout",
     "output_type": "stream",
     "text": [
      "T_05S_165E_xrr_MatchUp_2000.nc\n",
      "42723 47407\n"
     ]
    },
    {
     "name": "stderr",
     "output_type": "stream",
     "text": [
      "/home/shikhar.rai/anaconda3/envs/mpiNetCDF/lib/python3.11/site-packages/xarray/core/concat.py:546: FutureWarning: unique with argument that is not not a Series, Index, ExtensionArray, or np.ndarray is deprecated and will raise in a future version.\n",
      "  common_dims = tuple(pd.unique([d for v in vars for d in v.dims]))\n",
      "/home/shikhar.rai/anaconda3/envs/mpiNetCDF/lib/python3.11/site-packages/xarray/core/concat.py:546: FutureWarning: unique with argument that is not not a Series, Index, ExtensionArray, or np.ndarray is deprecated and will raise in a future version.\n",
      "  common_dims = tuple(pd.unique([d for v in vars for d in v.dims]))\n"
     ]
    },
    {
     "name": "stdout",
     "output_type": "stream",
     "text": [
      "T_02S_095W_xrr_MatchUp_2000.nc\n",
      "47407 48639\n"
     ]
    },
    {
     "name": "stderr",
     "output_type": "stream",
     "text": [
      "/home/shikhar.rai/anaconda3/envs/mpiNetCDF/lib/python3.11/site-packages/xarray/core/concat.py:546: FutureWarning: unique with argument that is not not a Series, Index, ExtensionArray, or np.ndarray is deprecated and will raise in a future version.\n",
      "  common_dims = tuple(pd.unique([d for v in vars for d in v.dims]))\n",
      "/home/shikhar.rai/anaconda3/envs/mpiNetCDF/lib/python3.11/site-packages/xarray/core/concat.py:546: FutureWarning: unique with argument that is not not a Series, Index, ExtensionArray, or np.ndarray is deprecated and will raise in a future version.\n",
      "  common_dims = tuple(pd.unique([d for v in vars for d in v.dims]))\n"
     ]
    },
    {
     "name": "stdout",
     "output_type": "stream",
     "text": [
      "T_02S_110W_xrr_MatchUp_2000.nc\n",
      "48639 50581\n"
     ]
    },
    {
     "name": "stderr",
     "output_type": "stream",
     "text": [
      "/home/shikhar.rai/anaconda3/envs/mpiNetCDF/lib/python3.11/site-packages/xarray/core/concat.py:546: FutureWarning: unique with argument that is not not a Series, Index, ExtensionArray, or np.ndarray is deprecated and will raise in a future version.\n",
      "  common_dims = tuple(pd.unique([d for v in vars for d in v.dims]))\n",
      "/home/shikhar.rai/anaconda3/envs/mpiNetCDF/lib/python3.11/site-packages/xarray/core/concat.py:546: FutureWarning: unique with argument that is not not a Series, Index, ExtensionArray, or np.ndarray is deprecated and will raise in a future version.\n",
      "  common_dims = tuple(pd.unique([d for v in vars for d in v.dims]))\n"
     ]
    },
    {
     "name": "stdout",
     "output_type": "stream",
     "text": [
      "T_02S_125W_xrr_MatchUp_2000.nc\n",
      "50581 54805\n"
     ]
    },
    {
     "name": "stderr",
     "output_type": "stream",
     "text": [
      "/home/shikhar.rai/anaconda3/envs/mpiNetCDF/lib/python3.11/site-packages/xarray/core/concat.py:546: FutureWarning: unique with argument that is not not a Series, Index, ExtensionArray, or np.ndarray is deprecated and will raise in a future version.\n",
      "  common_dims = tuple(pd.unique([d for v in vars for d in v.dims]))\n",
      "/home/shikhar.rai/anaconda3/envs/mpiNetCDF/lib/python3.11/site-packages/xarray/core/concat.py:546: FutureWarning: unique with argument that is not not a Series, Index, ExtensionArray, or np.ndarray is deprecated and will raise in a future version.\n",
      "  common_dims = tuple(pd.unique([d for v in vars for d in v.dims]))\n"
     ]
    },
    {
     "name": "stdout",
     "output_type": "stream",
     "text": [
      "T_02S_140W_xrr_MatchUp_2000.nc\n",
      "54805 59259\n"
     ]
    },
    {
     "name": "stderr",
     "output_type": "stream",
     "text": [
      "/home/shikhar.rai/anaconda3/envs/mpiNetCDF/lib/python3.11/site-packages/xarray/core/concat.py:546: FutureWarning: unique with argument that is not not a Series, Index, ExtensionArray, or np.ndarray is deprecated and will raise in a future version.\n",
      "  common_dims = tuple(pd.unique([d for v in vars for d in v.dims]))\n",
      "/home/shikhar.rai/anaconda3/envs/mpiNetCDF/lib/python3.11/site-packages/xarray/core/concat.py:546: FutureWarning: unique with argument that is not not a Series, Index, ExtensionArray, or np.ndarray is deprecated and will raise in a future version.\n",
      "  common_dims = tuple(pd.unique([d for v in vars for d in v.dims]))\n"
     ]
    },
    {
     "name": "stdout",
     "output_type": "stream",
     "text": [
      "T_02S_155W_xrr_MatchUp_2000.nc\n",
      "59259 63139\n"
     ]
    },
    {
     "name": "stderr",
     "output_type": "stream",
     "text": [
      "/home/shikhar.rai/anaconda3/envs/mpiNetCDF/lib/python3.11/site-packages/xarray/core/concat.py:546: FutureWarning: unique with argument that is not not a Series, Index, ExtensionArray, or np.ndarray is deprecated and will raise in a future version.\n",
      "  common_dims = tuple(pd.unique([d for v in vars for d in v.dims]))\n",
      "/home/shikhar.rai/anaconda3/envs/mpiNetCDF/lib/python3.11/site-packages/xarray/core/concat.py:546: FutureWarning: unique with argument that is not not a Series, Index, ExtensionArray, or np.ndarray is deprecated and will raise in a future version.\n",
      "  common_dims = tuple(pd.unique([d for v in vars for d in v.dims]))\n"
     ]
    },
    {
     "name": "stdout",
     "output_type": "stream",
     "text": [
      "T_02S_170W_xrr_MatchUp_2000.nc\n",
      "63139 65593\n"
     ]
    },
    {
     "name": "stderr",
     "output_type": "stream",
     "text": [
      "/home/shikhar.rai/anaconda3/envs/mpiNetCDF/lib/python3.11/site-packages/xarray/core/concat.py:546: FutureWarning: unique with argument that is not not a Series, Index, ExtensionArray, or np.ndarray is deprecated and will raise in a future version.\n",
      "  common_dims = tuple(pd.unique([d for v in vars for d in v.dims]))\n",
      "/home/shikhar.rai/anaconda3/envs/mpiNetCDF/lib/python3.11/site-packages/xarray/core/concat.py:546: FutureWarning: unique with argument that is not not a Series, Index, ExtensionArray, or np.ndarray is deprecated and will raise in a future version.\n",
      "  common_dims = tuple(pd.unique([d for v in vars for d in v.dims]))\n"
     ]
    },
    {
     "name": "stdout",
     "output_type": "stream",
     "text": [
      "T_02S_180W_xrr_MatchUp_2000.nc\n",
      "65593 70429\n"
     ]
    },
    {
     "name": "stderr",
     "output_type": "stream",
     "text": [
      "/home/shikhar.rai/anaconda3/envs/mpiNetCDF/lib/python3.11/site-packages/xarray/core/concat.py:546: FutureWarning: unique with argument that is not not a Series, Index, ExtensionArray, or np.ndarray is deprecated and will raise in a future version.\n",
      "  common_dims = tuple(pd.unique([d for v in vars for d in v.dims]))\n",
      "/home/shikhar.rai/anaconda3/envs/mpiNetCDF/lib/python3.11/site-packages/xarray/core/concat.py:546: FutureWarning: unique with argument that is not not a Series, Index, ExtensionArray, or np.ndarray is deprecated and will raise in a future version.\n",
      "  common_dims = tuple(pd.unique([d for v in vars for d in v.dims]))\n"
     ]
    },
    {
     "name": "stdout",
     "output_type": "stream",
     "text": [
      "T_02S_165E_xrr_MatchUp_2000.nc\n",
      "70429 72271\n"
     ]
    },
    {
     "name": "stderr",
     "output_type": "stream",
     "text": [
      "/home/shikhar.rai/anaconda3/envs/mpiNetCDF/lib/python3.11/site-packages/xarray/core/concat.py:546: FutureWarning: unique with argument that is not not a Series, Index, ExtensionArray, or np.ndarray is deprecated and will raise in a future version.\n",
      "  common_dims = tuple(pd.unique([d for v in vars for d in v.dims]))\n",
      "/home/shikhar.rai/anaconda3/envs/mpiNetCDF/lib/python3.11/site-packages/xarray/core/concat.py:546: FutureWarning: unique with argument that is not not a Series, Index, ExtensionArray, or np.ndarray is deprecated and will raise in a future version.\n",
      "  common_dims = tuple(pd.unique([d for v in vars for d in v.dims]))\n"
     ]
    },
    {
     "name": "stdout",
     "output_type": "stream",
     "text": [
      "T_00N_095W_xrr_MatchUp_2000.nc\n",
      "72271 75460\n"
     ]
    },
    {
     "name": "stderr",
     "output_type": "stream",
     "text": [
      "/home/shikhar.rai/anaconda3/envs/mpiNetCDF/lib/python3.11/site-packages/xarray/core/concat.py:546: FutureWarning: unique with argument that is not not a Series, Index, ExtensionArray, or np.ndarray is deprecated and will raise in a future version.\n",
      "  common_dims = tuple(pd.unique([d for v in vars for d in v.dims]))\n",
      "/home/shikhar.rai/anaconda3/envs/mpiNetCDF/lib/python3.11/site-packages/xarray/core/concat.py:546: FutureWarning: unique with argument that is not not a Series, Index, ExtensionArray, or np.ndarray is deprecated and will raise in a future version.\n",
      "  common_dims = tuple(pd.unique([d for v in vars for d in v.dims]))\n"
     ]
    },
    {
     "name": "stdout",
     "output_type": "stream",
     "text": [
      "T_00N_110W_xrr_MatchUp_2000.nc\n",
      "75460 79607\n"
     ]
    },
    {
     "name": "stderr",
     "output_type": "stream",
     "text": [
      "/home/shikhar.rai/anaconda3/envs/mpiNetCDF/lib/python3.11/site-packages/xarray/core/concat.py:546: FutureWarning: unique with argument that is not not a Series, Index, ExtensionArray, or np.ndarray is deprecated and will raise in a future version.\n",
      "  common_dims = tuple(pd.unique([d for v in vars for d in v.dims]))\n",
      "/home/shikhar.rai/anaconda3/envs/mpiNetCDF/lib/python3.11/site-packages/xarray/core/concat.py:546: FutureWarning: unique with argument that is not not a Series, Index, ExtensionArray, or np.ndarray is deprecated and will raise in a future version.\n",
      "  common_dims = tuple(pd.unique([d for v in vars for d in v.dims]))\n"
     ]
    },
    {
     "name": "stdout",
     "output_type": "stream",
     "text": [
      "T_00N_125W_xrr_MatchUp_2000.nc\n",
      "79607 82583\n"
     ]
    },
    {
     "name": "stderr",
     "output_type": "stream",
     "text": [
      "/home/shikhar.rai/anaconda3/envs/mpiNetCDF/lib/python3.11/site-packages/xarray/core/concat.py:546: FutureWarning: unique with argument that is not not a Series, Index, ExtensionArray, or np.ndarray is deprecated and will raise in a future version.\n",
      "  common_dims = tuple(pd.unique([d for v in vars for d in v.dims]))\n",
      "/home/shikhar.rai/anaconda3/envs/mpiNetCDF/lib/python3.11/site-packages/xarray/core/concat.py:546: FutureWarning: unique with argument that is not not a Series, Index, ExtensionArray, or np.ndarray is deprecated and will raise in a future version.\n",
      "  common_dims = tuple(pd.unique([d for v in vars for d in v.dims]))\n"
     ]
    },
    {
     "name": "stdout",
     "output_type": "stream",
     "text": [
      "T_00N_140W_xrr_MatchUp_2000.nc\n",
      "82583 87857\n"
     ]
    },
    {
     "name": "stderr",
     "output_type": "stream",
     "text": [
      "/home/shikhar.rai/anaconda3/envs/mpiNetCDF/lib/python3.11/site-packages/xarray/core/concat.py:546: FutureWarning: unique with argument that is not not a Series, Index, ExtensionArray, or np.ndarray is deprecated and will raise in a future version.\n",
      "  common_dims = tuple(pd.unique([d for v in vars for d in v.dims]))\n",
      "/home/shikhar.rai/anaconda3/envs/mpiNetCDF/lib/python3.11/site-packages/xarray/core/concat.py:546: FutureWarning: unique with argument that is not not a Series, Index, ExtensionArray, or np.ndarray is deprecated and will raise in a future version.\n",
      "  common_dims = tuple(pd.unique([d for v in vars for d in v.dims]))\n"
     ]
    },
    {
     "name": "stdout",
     "output_type": "stream",
     "text": [
      "T_00N_155W_xrr_MatchUp_2000.nc\n",
      "87857 92792\n"
     ]
    },
    {
     "name": "stderr",
     "output_type": "stream",
     "text": [
      "/home/shikhar.rai/anaconda3/envs/mpiNetCDF/lib/python3.11/site-packages/xarray/core/concat.py:546: FutureWarning: unique with argument that is not not a Series, Index, ExtensionArray, or np.ndarray is deprecated and will raise in a future version.\n",
      "  common_dims = tuple(pd.unique([d for v in vars for d in v.dims]))\n",
      "/home/shikhar.rai/anaconda3/envs/mpiNetCDF/lib/python3.11/site-packages/xarray/core/concat.py:546: FutureWarning: unique with argument that is not not a Series, Index, ExtensionArray, or np.ndarray is deprecated and will raise in a future version.\n",
      "  common_dims = tuple(pd.unique([d for v in vars for d in v.dims]))\n"
     ]
    },
    {
     "name": "stdout",
     "output_type": "stream",
     "text": [
      "T_00N_170W_xrr_MatchUp_2000.nc\n",
      "92792 97030\n"
     ]
    },
    {
     "name": "stderr",
     "output_type": "stream",
     "text": [
      "/home/shikhar.rai/anaconda3/envs/mpiNetCDF/lib/python3.11/site-packages/xarray/core/concat.py:546: FutureWarning: unique with argument that is not not a Series, Index, ExtensionArray, or np.ndarray is deprecated and will raise in a future version.\n",
      "  common_dims = tuple(pd.unique([d for v in vars for d in v.dims]))\n",
      "/home/shikhar.rai/anaconda3/envs/mpiNetCDF/lib/python3.11/site-packages/xarray/core/concat.py:546: FutureWarning: unique with argument that is not not a Series, Index, ExtensionArray, or np.ndarray is deprecated and will raise in a future version.\n",
      "  common_dims = tuple(pd.unique([d for v in vars for d in v.dims]))\n"
     ]
    },
    {
     "name": "stdout",
     "output_type": "stream",
     "text": [
      "T_00N_180W_xrr_MatchUp_2000.nc\n",
      "97030 99893\n"
     ]
    },
    {
     "name": "stderr",
     "output_type": "stream",
     "text": [
      "/home/shikhar.rai/anaconda3/envs/mpiNetCDF/lib/python3.11/site-packages/xarray/core/concat.py:546: FutureWarning: unique with argument that is not not a Series, Index, ExtensionArray, or np.ndarray is deprecated and will raise in a future version.\n",
      "  common_dims = tuple(pd.unique([d for v in vars for d in v.dims]))\n",
      "/home/shikhar.rai/anaconda3/envs/mpiNetCDF/lib/python3.11/site-packages/xarray/core/concat.py:546: FutureWarning: unique with argument that is not not a Series, Index, ExtensionArray, or np.ndarray is deprecated and will raise in a future version.\n",
      "  common_dims = tuple(pd.unique([d for v in vars for d in v.dims]))\n"
     ]
    },
    {
     "name": "stdout",
     "output_type": "stream",
     "text": [
      "T_00N_165E_xrr_MatchUp_2000.nc\n",
      "99893 101719\n"
     ]
    },
    {
     "name": "stderr",
     "output_type": "stream",
     "text": [
      "/home/shikhar.rai/anaconda3/envs/mpiNetCDF/lib/python3.11/site-packages/xarray/core/concat.py:546: FutureWarning: unique with argument that is not not a Series, Index, ExtensionArray, or np.ndarray is deprecated and will raise in a future version.\n",
      "  common_dims = tuple(pd.unique([d for v in vars for d in v.dims]))\n",
      "/home/shikhar.rai/anaconda3/envs/mpiNetCDF/lib/python3.11/site-packages/xarray/core/concat.py:546: FutureWarning: unique with argument that is not not a Series, Index, ExtensionArray, or np.ndarray is deprecated and will raise in a future version.\n",
      "  common_dims = tuple(pd.unique([d for v in vars for d in v.dims]))\n"
     ]
    },
    {
     "name": "stdout",
     "output_type": "stream",
     "text": [
      "T_02N_095W_xrr_MatchUp_2000.nc\n",
      "101719 104264\n"
     ]
    },
    {
     "name": "stderr",
     "output_type": "stream",
     "text": [
      "/home/shikhar.rai/anaconda3/envs/mpiNetCDF/lib/python3.11/site-packages/xarray/core/concat.py:546: FutureWarning: unique with argument that is not not a Series, Index, ExtensionArray, or np.ndarray is deprecated and will raise in a future version.\n",
      "  common_dims = tuple(pd.unique([d for v in vars for d in v.dims]))\n",
      "/home/shikhar.rai/anaconda3/envs/mpiNetCDF/lib/python3.11/site-packages/xarray/core/concat.py:546: FutureWarning: unique with argument that is not not a Series, Index, ExtensionArray, or np.ndarray is deprecated and will raise in a future version.\n",
      "  common_dims = tuple(pd.unique([d for v in vars for d in v.dims]))\n"
     ]
    },
    {
     "name": "stdout",
     "output_type": "stream",
     "text": [
      "T_02N_110W_xrr_MatchUp_2000.nc\n",
      "104264 108119\n"
     ]
    },
    {
     "name": "stderr",
     "output_type": "stream",
     "text": [
      "/home/shikhar.rai/anaconda3/envs/mpiNetCDF/lib/python3.11/site-packages/xarray/core/concat.py:546: FutureWarning: unique with argument that is not not a Series, Index, ExtensionArray, or np.ndarray is deprecated and will raise in a future version.\n",
      "  common_dims = tuple(pd.unique([d for v in vars for d in v.dims]))\n",
      "/home/shikhar.rai/anaconda3/envs/mpiNetCDF/lib/python3.11/site-packages/xarray/core/concat.py:546: FutureWarning: unique with argument that is not not a Series, Index, ExtensionArray, or np.ndarray is deprecated and will raise in a future version.\n",
      "  common_dims = tuple(pd.unique([d for v in vars for d in v.dims]))\n"
     ]
    },
    {
     "name": "stdout",
     "output_type": "stream",
     "text": [
      "T_02N_125W_xrr_MatchUp_2000.nc\n",
      "108119 111404\n"
     ]
    },
    {
     "name": "stderr",
     "output_type": "stream",
     "text": [
      "/home/shikhar.rai/anaconda3/envs/mpiNetCDF/lib/python3.11/site-packages/xarray/core/concat.py:546: FutureWarning: unique with argument that is not not a Series, Index, ExtensionArray, or np.ndarray is deprecated and will raise in a future version.\n",
      "  common_dims = tuple(pd.unique([d for v in vars for d in v.dims]))\n",
      "/home/shikhar.rai/anaconda3/envs/mpiNetCDF/lib/python3.11/site-packages/xarray/core/concat.py:546: FutureWarning: unique with argument that is not not a Series, Index, ExtensionArray, or np.ndarray is deprecated and will raise in a future version.\n",
      "  common_dims = tuple(pd.unique([d for v in vars for d in v.dims]))\n"
     ]
    },
    {
     "name": "stdout",
     "output_type": "stream",
     "text": [
      "T_02N_140W_xrr_MatchUp_2000.nc\n",
      "111404 116862\n"
     ]
    },
    {
     "name": "stderr",
     "output_type": "stream",
     "text": [
      "/home/shikhar.rai/anaconda3/envs/mpiNetCDF/lib/python3.11/site-packages/xarray/core/concat.py:546: FutureWarning: unique with argument that is not not a Series, Index, ExtensionArray, or np.ndarray is deprecated and will raise in a future version.\n",
      "  common_dims = tuple(pd.unique([d for v in vars for d in v.dims]))\n",
      "/home/shikhar.rai/anaconda3/envs/mpiNetCDF/lib/python3.11/site-packages/xarray/core/concat.py:546: FutureWarning: unique with argument that is not not a Series, Index, ExtensionArray, or np.ndarray is deprecated and will raise in a future version.\n",
      "  common_dims = tuple(pd.unique([d for v in vars for d in v.dims]))\n"
     ]
    },
    {
     "name": "stdout",
     "output_type": "stream",
     "text": [
      "T_02N_155W_xrr_MatchUp_2000.nc\n",
      "116862 121972\n"
     ]
    },
    {
     "name": "stderr",
     "output_type": "stream",
     "text": [
      "/home/shikhar.rai/anaconda3/envs/mpiNetCDF/lib/python3.11/site-packages/xarray/core/concat.py:546: FutureWarning: unique with argument that is not not a Series, Index, ExtensionArray, or np.ndarray is deprecated and will raise in a future version.\n",
      "  common_dims = tuple(pd.unique([d for v in vars for d in v.dims]))\n",
      "/home/shikhar.rai/anaconda3/envs/mpiNetCDF/lib/python3.11/site-packages/xarray/core/concat.py:546: FutureWarning: unique with argument that is not not a Series, Index, ExtensionArray, or np.ndarray is deprecated and will raise in a future version.\n",
      "  common_dims = tuple(pd.unique([d for v in vars for d in v.dims]))\n"
     ]
    },
    {
     "name": "stdout",
     "output_type": "stream",
     "text": [
      "T_02N_170W_xrr_MatchUp_2000.nc\n",
      "121972 123663\n"
     ]
    },
    {
     "name": "stderr",
     "output_type": "stream",
     "text": [
      "/home/shikhar.rai/anaconda3/envs/mpiNetCDF/lib/python3.11/site-packages/xarray/core/concat.py:546: FutureWarning: unique with argument that is not not a Series, Index, ExtensionArray, or np.ndarray is deprecated and will raise in a future version.\n",
      "  common_dims = tuple(pd.unique([d for v in vars for d in v.dims]))\n",
      "/home/shikhar.rai/anaconda3/envs/mpiNetCDF/lib/python3.11/site-packages/xarray/core/concat.py:546: FutureWarning: unique with argument that is not not a Series, Index, ExtensionArray, or np.ndarray is deprecated and will raise in a future version.\n",
      "  common_dims = tuple(pd.unique([d for v in vars for d in v.dims]))\n"
     ]
    },
    {
     "name": "stdout",
     "output_type": "stream",
     "text": [
      "T_02N_180W_xrr_MatchUp_2000.nc\n",
      "123663 127456\n"
     ]
    },
    {
     "name": "stderr",
     "output_type": "stream",
     "text": [
      "/home/shikhar.rai/anaconda3/envs/mpiNetCDF/lib/python3.11/site-packages/xarray/core/concat.py:546: FutureWarning: unique with argument that is not not a Series, Index, ExtensionArray, or np.ndarray is deprecated and will raise in a future version.\n",
      "  common_dims = tuple(pd.unique([d for v in vars for d in v.dims]))\n",
      "/home/shikhar.rai/anaconda3/envs/mpiNetCDF/lib/python3.11/site-packages/xarray/core/concat.py:546: FutureWarning: unique with argument that is not not a Series, Index, ExtensionArray, or np.ndarray is deprecated and will raise in a future version.\n",
      "  common_dims = tuple(pd.unique([d for v in vars for d in v.dims]))\n"
     ]
    },
    {
     "name": "stdout",
     "output_type": "stream",
     "text": [
      "T_02N_165E_xrr_MatchUp_2000.nc\n",
      "127456 130512\n"
     ]
    },
    {
     "name": "stderr",
     "output_type": "stream",
     "text": [
      "/home/shikhar.rai/anaconda3/envs/mpiNetCDF/lib/python3.11/site-packages/xarray/core/concat.py:546: FutureWarning: unique with argument that is not not a Series, Index, ExtensionArray, or np.ndarray is deprecated and will raise in a future version.\n",
      "  common_dims = tuple(pd.unique([d for v in vars for d in v.dims]))\n",
      "/home/shikhar.rai/anaconda3/envs/mpiNetCDF/lib/python3.11/site-packages/xarray/core/concat.py:546: FutureWarning: unique with argument that is not not a Series, Index, ExtensionArray, or np.ndarray is deprecated and will raise in a future version.\n",
      "  common_dims = tuple(pd.unique([d for v in vars for d in v.dims]))\n"
     ]
    },
    {
     "name": "stdout",
     "output_type": "stream",
     "text": [
      "T_05N_095W_xrr_MatchUp_2000.nc\n",
      "130512 134174\n"
     ]
    },
    {
     "name": "stderr",
     "output_type": "stream",
     "text": [
      "/home/shikhar.rai/anaconda3/envs/mpiNetCDF/lib/python3.11/site-packages/xarray/core/concat.py:546: FutureWarning: unique with argument that is not not a Series, Index, ExtensionArray, or np.ndarray is deprecated and will raise in a future version.\n",
      "  common_dims = tuple(pd.unique([d for v in vars for d in v.dims]))\n",
      "/home/shikhar.rai/anaconda3/envs/mpiNetCDF/lib/python3.11/site-packages/xarray/core/concat.py:546: FutureWarning: unique with argument that is not not a Series, Index, ExtensionArray, or np.ndarray is deprecated and will raise in a future version.\n",
      "  common_dims = tuple(pd.unique([d for v in vars for d in v.dims]))\n"
     ]
    },
    {
     "name": "stdout",
     "output_type": "stream",
     "text": [
      "T_05N_110W_xrr_MatchUp_2000.nc\n",
      "134174 138104\n"
     ]
    },
    {
     "name": "stderr",
     "output_type": "stream",
     "text": [
      "/home/shikhar.rai/anaconda3/envs/mpiNetCDF/lib/python3.11/site-packages/xarray/core/concat.py:546: FutureWarning: unique with argument that is not not a Series, Index, ExtensionArray, or np.ndarray is deprecated and will raise in a future version.\n",
      "  common_dims = tuple(pd.unique([d for v in vars for d in v.dims]))\n",
      "/home/shikhar.rai/anaconda3/envs/mpiNetCDF/lib/python3.11/site-packages/xarray/core/concat.py:546: FutureWarning: unique with argument that is not not a Series, Index, ExtensionArray, or np.ndarray is deprecated and will raise in a future version.\n",
      "  common_dims = tuple(pd.unique([d for v in vars for d in v.dims]))\n"
     ]
    },
    {
     "name": "stdout",
     "output_type": "stream",
     "text": [
      "T_05N_125W_xrr_MatchUp_2000.nc\n",
      "138104 141610\n"
     ]
    },
    {
     "name": "stderr",
     "output_type": "stream",
     "text": [
      "/home/shikhar.rai/anaconda3/envs/mpiNetCDF/lib/python3.11/site-packages/xarray/core/concat.py:546: FutureWarning: unique with argument that is not not a Series, Index, ExtensionArray, or np.ndarray is deprecated and will raise in a future version.\n",
      "  common_dims = tuple(pd.unique([d for v in vars for d in v.dims]))\n",
      "/home/shikhar.rai/anaconda3/envs/mpiNetCDF/lib/python3.11/site-packages/xarray/core/concat.py:546: FutureWarning: unique with argument that is not not a Series, Index, ExtensionArray, or np.ndarray is deprecated and will raise in a future version.\n",
      "  common_dims = tuple(pd.unique([d for v in vars for d in v.dims]))\n"
     ]
    },
    {
     "name": "stdout",
     "output_type": "stream",
     "text": [
      "T_05N_140W_xrr_MatchUp_2000.nc\n",
      "141610 146862\n"
     ]
    },
    {
     "name": "stderr",
     "output_type": "stream",
     "text": [
      "/home/shikhar.rai/anaconda3/envs/mpiNetCDF/lib/python3.11/site-packages/xarray/core/concat.py:546: FutureWarning: unique with argument that is not not a Series, Index, ExtensionArray, or np.ndarray is deprecated and will raise in a future version.\n",
      "  common_dims = tuple(pd.unique([d for v in vars for d in v.dims]))\n",
      "/home/shikhar.rai/anaconda3/envs/mpiNetCDF/lib/python3.11/site-packages/xarray/core/concat.py:546: FutureWarning: unique with argument that is not not a Series, Index, ExtensionArray, or np.ndarray is deprecated and will raise in a future version.\n",
      "  common_dims = tuple(pd.unique([d for v in vars for d in v.dims]))\n"
     ]
    },
    {
     "name": "stdout",
     "output_type": "stream",
     "text": [
      "T_05N_155W_xrr_MatchUp_2000.nc\n",
      "146862 149844\n"
     ]
    },
    {
     "name": "stderr",
     "output_type": "stream",
     "text": [
      "/home/shikhar.rai/anaconda3/envs/mpiNetCDF/lib/python3.11/site-packages/xarray/core/concat.py:546: FutureWarning: unique with argument that is not not a Series, Index, ExtensionArray, or np.ndarray is deprecated and will raise in a future version.\n",
      "  common_dims = tuple(pd.unique([d for v in vars for d in v.dims]))\n",
      "/home/shikhar.rai/anaconda3/envs/mpiNetCDF/lib/python3.11/site-packages/xarray/core/concat.py:546: FutureWarning: unique with argument that is not not a Series, Index, ExtensionArray, or np.ndarray is deprecated and will raise in a future version.\n",
      "  common_dims = tuple(pd.unique([d for v in vars for d in v.dims]))\n"
     ]
    },
    {
     "name": "stdout",
     "output_type": "stream",
     "text": [
      "T_05N_170W_xrr_MatchUp_2000.nc\n",
      "149844 153490\n"
     ]
    },
    {
     "name": "stderr",
     "output_type": "stream",
     "text": [
      "/home/shikhar.rai/anaconda3/envs/mpiNetCDF/lib/python3.11/site-packages/xarray/core/concat.py:546: FutureWarning: unique with argument that is not not a Series, Index, ExtensionArray, or np.ndarray is deprecated and will raise in a future version.\n",
      "  common_dims = tuple(pd.unique([d for v in vars for d in v.dims]))\n",
      "/home/shikhar.rai/anaconda3/envs/mpiNetCDF/lib/python3.11/site-packages/xarray/core/concat.py:546: FutureWarning: unique with argument that is not not a Series, Index, ExtensionArray, or np.ndarray is deprecated and will raise in a future version.\n",
      "  common_dims = tuple(pd.unique([d for v in vars for d in v.dims]))\n"
     ]
    },
    {
     "name": "stdout",
     "output_type": "stream",
     "text": [
      "T_05N_165E_xrr_MatchUp_2000.nc\n",
      "153490 156406\n"
     ]
    },
    {
     "name": "stderr",
     "output_type": "stream",
     "text": [
      "/home/shikhar.rai/anaconda3/envs/mpiNetCDF/lib/python3.11/site-packages/xarray/core/concat.py:546: FutureWarning: unique with argument that is not not a Series, Index, ExtensionArray, or np.ndarray is deprecated and will raise in a future version.\n",
      "  common_dims = tuple(pd.unique([d for v in vars for d in v.dims]))\n",
      "/home/shikhar.rai/anaconda3/envs/mpiNetCDF/lib/python3.11/site-packages/xarray/core/concat.py:546: FutureWarning: unique with argument that is not not a Series, Index, ExtensionArray, or np.ndarray is deprecated and will raise in a future version.\n",
      "  common_dims = tuple(pd.unique([d for v in vars for d in v.dims]))\n"
     ]
    },
    {
     "name": "stdout",
     "output_type": "stream",
     "text": [
      "T_08N_095W_xrr_MatchUp_2000.nc\n",
      "156406 158825\n"
     ]
    },
    {
     "name": "stderr",
     "output_type": "stream",
     "text": [
      "/home/shikhar.rai/anaconda3/envs/mpiNetCDF/lib/python3.11/site-packages/xarray/core/concat.py:546: FutureWarning: unique with argument that is not not a Series, Index, ExtensionArray, or np.ndarray is deprecated and will raise in a future version.\n",
      "  common_dims = tuple(pd.unique([d for v in vars for d in v.dims]))\n",
      "/home/shikhar.rai/anaconda3/envs/mpiNetCDF/lib/python3.11/site-packages/xarray/core/concat.py:546: FutureWarning: unique with argument that is not not a Series, Index, ExtensionArray, or np.ndarray is deprecated and will raise in a future version.\n",
      "  common_dims = tuple(pd.unique([d for v in vars for d in v.dims]))\n"
     ]
    },
    {
     "name": "stdout",
     "output_type": "stream",
     "text": [
      "T_08N_110W_xrr_MatchUp_2000.nc\n",
      "158825 163936\n"
     ]
    },
    {
     "name": "stderr",
     "output_type": "stream",
     "text": [
      "/home/shikhar.rai/anaconda3/envs/mpiNetCDF/lib/python3.11/site-packages/xarray/core/concat.py:546: FutureWarning: unique with argument that is not not a Series, Index, ExtensionArray, or np.ndarray is deprecated and will raise in a future version.\n",
      "  common_dims = tuple(pd.unique([d for v in vars for d in v.dims]))\n",
      "/home/shikhar.rai/anaconda3/envs/mpiNetCDF/lib/python3.11/site-packages/xarray/core/concat.py:546: FutureWarning: unique with argument that is not not a Series, Index, ExtensionArray, or np.ndarray is deprecated and will raise in a future version.\n",
      "  common_dims = tuple(pd.unique([d for v in vars for d in v.dims]))\n"
     ]
    },
    {
     "name": "stdout",
     "output_type": "stream",
     "text": [
      "T_08N_155W_xrr_MatchUp_2000.nc\n",
      "163936 167377\n"
     ]
    },
    {
     "name": "stderr",
     "output_type": "stream",
     "text": [
      "/home/shikhar.rai/anaconda3/envs/mpiNetCDF/lib/python3.11/site-packages/xarray/core/concat.py:546: FutureWarning: unique with argument that is not not a Series, Index, ExtensionArray, or np.ndarray is deprecated and will raise in a future version.\n",
      "  common_dims = tuple(pd.unique([d for v in vars for d in v.dims]))\n",
      "/home/shikhar.rai/anaconda3/envs/mpiNetCDF/lib/python3.11/site-packages/xarray/core/concat.py:546: FutureWarning: unique with argument that is not not a Series, Index, ExtensionArray, or np.ndarray is deprecated and will raise in a future version.\n",
      "  common_dims = tuple(pd.unique([d for v in vars for d in v.dims]))\n"
     ]
    },
    {
     "name": "stdout",
     "output_type": "stream",
     "text": [
      "T_08N_170W_xrr_MatchUp_2000.nc\n",
      "167377 172162\n"
     ]
    },
    {
     "name": "stderr",
     "output_type": "stream",
     "text": [
      "/home/shikhar.rai/anaconda3/envs/mpiNetCDF/lib/python3.11/site-packages/xarray/core/concat.py:546: FutureWarning: unique with argument that is not not a Series, Index, ExtensionArray, or np.ndarray is deprecated and will raise in a future version.\n",
      "  common_dims = tuple(pd.unique([d for v in vars for d in v.dims]))\n",
      "/home/shikhar.rai/anaconda3/envs/mpiNetCDF/lib/python3.11/site-packages/xarray/core/concat.py:546: FutureWarning: unique with argument that is not not a Series, Index, ExtensionArray, or np.ndarray is deprecated and will raise in a future version.\n",
      "  common_dims = tuple(pd.unique([d for v in vars for d in v.dims]))\n"
     ]
    },
    {
     "name": "stdout",
     "output_type": "stream",
     "text": [
      "T_08N_180W_xrr_MatchUp_2000.nc\n",
      "172162 175198\n"
     ]
    },
    {
     "name": "stderr",
     "output_type": "stream",
     "text": [
      "/home/shikhar.rai/anaconda3/envs/mpiNetCDF/lib/python3.11/site-packages/xarray/core/concat.py:546: FutureWarning: unique with argument that is not not a Series, Index, ExtensionArray, or np.ndarray is deprecated and will raise in a future version.\n",
      "  common_dims = tuple(pd.unique([d for v in vars for d in v.dims]))\n",
      "/home/shikhar.rai/anaconda3/envs/mpiNetCDF/lib/python3.11/site-packages/xarray/core/concat.py:546: FutureWarning: unique with argument that is not not a Series, Index, ExtensionArray, or np.ndarray is deprecated and will raise in a future version.\n",
      "  common_dims = tuple(pd.unique([d for v in vars for d in v.dims]))\n"
     ]
    },
    {
     "name": "stdout",
     "output_type": "stream",
     "text": [
      "T_08N_165E_xrr_MatchUp_2000.nc\n",
      "175198 179330\n"
     ]
    },
    {
     "name": "stderr",
     "output_type": "stream",
     "text": [
      "/home/shikhar.rai/anaconda3/envs/mpiNetCDF/lib/python3.11/site-packages/xarray/core/concat.py:546: FutureWarning: unique with argument that is not not a Series, Index, ExtensionArray, or np.ndarray is deprecated and will raise in a future version.\n",
      "  common_dims = tuple(pd.unique([d for v in vars for d in v.dims]))\n",
      "/home/shikhar.rai/anaconda3/envs/mpiNetCDF/lib/python3.11/site-packages/xarray/core/concat.py:546: FutureWarning: unique with argument that is not not a Series, Index, ExtensionArray, or np.ndarray is deprecated and will raise in a future version.\n",
      "  common_dims = tuple(pd.unique([d for v in vars for d in v.dims]))\n"
     ]
    },
    {
     "name": "stdout",
     "output_type": "stream",
     "text": [
      "T_09N_140W_xrr_MatchUp_2000.nc\n",
      "179330 184319\n"
     ]
    },
    {
     "name": "stderr",
     "output_type": "stream",
     "text": [
      "/home/shikhar.rai/anaconda3/envs/mpiNetCDF/lib/python3.11/site-packages/xarray/core/concat.py:546: FutureWarning: unique with argument that is not not a Series, Index, ExtensionArray, or np.ndarray is deprecated and will raise in a future version.\n",
      "  common_dims = tuple(pd.unique([d for v in vars for d in v.dims]))\n",
      "/home/shikhar.rai/anaconda3/envs/mpiNetCDF/lib/python3.11/site-packages/xarray/core/concat.py:546: FutureWarning: unique with argument that is not not a Series, Index, ExtensionArray, or np.ndarray is deprecated and will raise in a future version.\n",
      "  common_dims = tuple(pd.unique([d for v in vars for d in v.dims]))\n"
     ]
    }
   ],
   "source": [
    "latList = [-9, -8, -5, -2, 0, 2, 5, 8, 9]\n",
    "lonList = [-95, -110, -125, -140, -155, -170, -180, 165]\n",
    "\n",
    "ylen = len(latList)\n",
    "xlen = len(lonList)\n",
    "\n",
    "taskList = []\n",
    "\n",
    "for latId  in range(ylen):\n",
    "    for lonId in range(xlen):\n",
    "        taskList.append([latList[latId], lonList[lonId]])\n",
    "\n",
    "ntasks = len(taskList)\n",
    "\n",
    "\n",
    "allDS = xr.Dataset()\n",
    "dataCount = 0\n",
    "fileCount = 0\n",
    "for task in taskList:\n",
    "    lat = task[0]\n",
    "    lon = task[1]\n",
    "\n",
    "    LAT = lat\n",
    "    LON = lon\n",
    "\n",
    "    if lat < 0:\n",
    "        latUnits = 'S'\n",
    "    else:\n",
    "        latUnits = 'N'\n",
    "\n",
    "    if lon < 0:\n",
    "        lonUnits = 'W'\n",
    "    else:\n",
    "        lonUnits = 'E'\n",
    "\n",
    "    LON = (LON+360)%360\n",
    "    lat=abs(lat)\n",
    "    lon=abs(lon)\n",
    "\n",
    "    matchFname = f'../../../downloads/Buoy/extractedGZ/WINDS/T_{lat:02d}{latUnits}_{lon:03d}{lonUnits}COARE3p5_2000_2hrMeanVar_QS_Matchup.nc'\n",
    "    #deployFileName = f'../../downloads/Buoy/extractedGZ/WINDS/T_{lat:02d}{latUnits}_{lon:03d}{lonUnits}/T_{lat:02d}{latUnits}_{lon:03d}{lonUnits}_DeploymentDates.nc'\n",
    "    \n",
    "    if os.path.isfile(matchFname):\n",
    "        print(f'T_{lat:02d}{latUnits}_{lon:03d}{lonUnits}_xrr_MatchUp_2000.nc')\n",
    "        rds = xr.open_dataset(matchFname)\n",
    "        ds = getSubDF(rds, LAT, LON)\n",
    "        QS_TIME = ds['QS_TIME'].to_numpy()\n",
    "        ds = ds.rename({'QS_TIME':'count'})\n",
    "        dataLen = len(ds['count'])\n",
    "        print(dataCount, dataCount+dataLen)\n",
    "        ds['count'] = xr.DataArray(pd.Series(np.arange(dataCount, dataCount+dataLen)), \n",
    "                                   dims = ['count'])\n",
    "        ds['QS_TIME'] = xr.DataArray(QS_TIME, \n",
    "                                   dims = ['count'])\n",
    "        dataCount += dataLen\n",
    "        if fileCount == 0:\n",
    "            allDS = ds\n",
    "        else:\n",
    "            allDS = xr.concat((allDS, ds), dim='count')\n",
    "        fileCount += 1\n",
    "        "
   ]
  },
  {
   "cell_type": "code",
   "execution_count": 9,
   "id": "76df6b60-a38d-4405-b9a7-c534163c4ae3",
   "metadata": {},
   "outputs": [],
   "source": [
    "allDS = allDS.drop_vars(['HEIGHT','DEPTH','cross_track','ambiguities'])"
   ]
  },
  {
   "cell_type": "code",
   "execution_count": 10,
   "id": "31f6540c-451c-4df0-ac8a-ee7ed153c17a",
   "metadata": {
    "scrolled": true
   },
   "outputs": [
    {
     "data": {
      "text/html": [
       "<div><svg style=\"position: absolute; width: 0; height: 0; overflow: hidden\">\n",
       "<defs>\n",
       "<symbol id=\"icon-database\" viewBox=\"0 0 32 32\">\n",
       "<path d=\"M16 0c-8.837 0-16 2.239-16 5v4c0 2.761 7.163 5 16 5s16-2.239 16-5v-4c0-2.761-7.163-5-16-5z\"></path>\n",
       "<path d=\"M16 17c-8.837 0-16-2.239-16-5v6c0 2.761 7.163 5 16 5s16-2.239 16-5v-6c0 2.761-7.163 5-16 5z\"></path>\n",
       "<path d=\"M16 26c-8.837 0-16-2.239-16-5v6c0 2.761 7.163 5 16 5s16-2.239 16-5v-6c0 2.761-7.163 5-16 5z\"></path>\n",
       "</symbol>\n",
       "<symbol id=\"icon-file-text2\" viewBox=\"0 0 32 32\">\n",
       "<path d=\"M28.681 7.159c-0.694-0.947-1.662-2.053-2.724-3.116s-2.169-2.030-3.116-2.724c-1.612-1.182-2.393-1.319-2.841-1.319h-15.5c-1.378 0-2.5 1.121-2.5 2.5v27c0 1.378 1.122 2.5 2.5 2.5h23c1.378 0 2.5-1.122 2.5-2.5v-19.5c0-0.448-0.137-1.23-1.319-2.841zM24.543 5.457c0.959 0.959 1.712 1.825 2.268 2.543h-4.811v-4.811c0.718 0.556 1.584 1.309 2.543 2.268zM28 29.5c0 0.271-0.229 0.5-0.5 0.5h-23c-0.271 0-0.5-0.229-0.5-0.5v-27c0-0.271 0.229-0.5 0.5-0.5 0 0 15.499-0 15.5 0v7c0 0.552 0.448 1 1 1h7v19.5z\"></path>\n",
       "<path d=\"M23 26h-14c-0.552 0-1-0.448-1-1s0.448-1 1-1h14c0.552 0 1 0.448 1 1s-0.448 1-1 1z\"></path>\n",
       "<path d=\"M23 22h-14c-0.552 0-1-0.448-1-1s0.448-1 1-1h14c0.552 0 1 0.448 1 1s-0.448 1-1 1z\"></path>\n",
       "<path d=\"M23 18h-14c-0.552 0-1-0.448-1-1s0.448-1 1-1h14c0.552 0 1 0.448 1 1s-0.448 1-1 1z\"></path>\n",
       "</symbol>\n",
       "</defs>\n",
       "</svg>\n",
       "<style>/* CSS stylesheet for displaying xarray objects in jupyterlab.\n",
       " *\n",
       " */\n",
       "\n",
       ":root {\n",
       "  --xr-font-color0: var(--jp-content-font-color0, rgba(0, 0, 0, 1));\n",
       "  --xr-font-color2: var(--jp-content-font-color2, rgba(0, 0, 0, 0.54));\n",
       "  --xr-font-color3: var(--jp-content-font-color3, rgba(0, 0, 0, 0.38));\n",
       "  --xr-border-color: var(--jp-border-color2, #e0e0e0);\n",
       "  --xr-disabled-color: var(--jp-layout-color3, #bdbdbd);\n",
       "  --xr-background-color: var(--jp-layout-color0, white);\n",
       "  --xr-background-color-row-even: var(--jp-layout-color1, white);\n",
       "  --xr-background-color-row-odd: var(--jp-layout-color2, #eeeeee);\n",
       "}\n",
       "\n",
       "html[theme=dark],\n",
       "body[data-theme=dark],\n",
       "body.vscode-dark {\n",
       "  --xr-font-color0: rgba(255, 255, 255, 1);\n",
       "  --xr-font-color2: rgba(255, 255, 255, 0.54);\n",
       "  --xr-font-color3: rgba(255, 255, 255, 0.38);\n",
       "  --xr-border-color: #1F1F1F;\n",
       "  --xr-disabled-color: #515151;\n",
       "  --xr-background-color: #111111;\n",
       "  --xr-background-color-row-even: #111111;\n",
       "  --xr-background-color-row-odd: #313131;\n",
       "}\n",
       "\n",
       ".xr-wrap {\n",
       "  display: block !important;\n",
       "  min-width: 300px;\n",
       "  max-width: 700px;\n",
       "}\n",
       "\n",
       ".xr-text-repr-fallback {\n",
       "  /* fallback to plain text repr when CSS is not injected (untrusted notebook) */\n",
       "  display: none;\n",
       "}\n",
       "\n",
       ".xr-header {\n",
       "  padding-top: 6px;\n",
       "  padding-bottom: 6px;\n",
       "  margin-bottom: 4px;\n",
       "  border-bottom: solid 1px var(--xr-border-color);\n",
       "}\n",
       "\n",
       ".xr-header > div,\n",
       ".xr-header > ul {\n",
       "  display: inline;\n",
       "  margin-top: 0;\n",
       "  margin-bottom: 0;\n",
       "}\n",
       "\n",
       ".xr-obj-type,\n",
       ".xr-array-name {\n",
       "  margin-left: 2px;\n",
       "  margin-right: 10px;\n",
       "}\n",
       "\n",
       ".xr-obj-type {\n",
       "  color: var(--xr-font-color2);\n",
       "}\n",
       "\n",
       ".xr-sections {\n",
       "  padding-left: 0 !important;\n",
       "  display: grid;\n",
       "  grid-template-columns: 150px auto auto 1fr 20px 20px;\n",
       "}\n",
       "\n",
       ".xr-section-item {\n",
       "  display: contents;\n",
       "}\n",
       "\n",
       ".xr-section-item input {\n",
       "  display: none;\n",
       "}\n",
       "\n",
       ".xr-section-item input + label {\n",
       "  color: var(--xr-disabled-color);\n",
       "}\n",
       "\n",
       ".xr-section-item input:enabled + label {\n",
       "  cursor: pointer;\n",
       "  color: var(--xr-font-color2);\n",
       "}\n",
       "\n",
       ".xr-section-item input:enabled + label:hover {\n",
       "  color: var(--xr-font-color0);\n",
       "}\n",
       "\n",
       ".xr-section-summary {\n",
       "  grid-column: 1;\n",
       "  color: var(--xr-font-color2);\n",
       "  font-weight: 500;\n",
       "}\n",
       "\n",
       ".xr-section-summary > span {\n",
       "  display: inline-block;\n",
       "  padding-left: 0.5em;\n",
       "}\n",
       "\n",
       ".xr-section-summary-in:disabled + label {\n",
       "  color: var(--xr-font-color2);\n",
       "}\n",
       "\n",
       ".xr-section-summary-in + label:before {\n",
       "  display: inline-block;\n",
       "  content: '►';\n",
       "  font-size: 11px;\n",
       "  width: 15px;\n",
       "  text-align: center;\n",
       "}\n",
       "\n",
       ".xr-section-summary-in:disabled + label:before {\n",
       "  color: var(--xr-disabled-color);\n",
       "}\n",
       "\n",
       ".xr-section-summary-in:checked + label:before {\n",
       "  content: '▼';\n",
       "}\n",
       "\n",
       ".xr-section-summary-in:checked + label > span {\n",
       "  display: none;\n",
       "}\n",
       "\n",
       ".xr-section-summary,\n",
       ".xr-section-inline-details {\n",
       "  padding-top: 4px;\n",
       "  padding-bottom: 4px;\n",
       "}\n",
       "\n",
       ".xr-section-inline-details {\n",
       "  grid-column: 2 / -1;\n",
       "}\n",
       "\n",
       ".xr-section-details {\n",
       "  display: none;\n",
       "  grid-column: 1 / -1;\n",
       "  margin-bottom: 5px;\n",
       "}\n",
       "\n",
       ".xr-section-summary-in:checked ~ .xr-section-details {\n",
       "  display: contents;\n",
       "}\n",
       "\n",
       ".xr-array-wrap {\n",
       "  grid-column: 1 / -1;\n",
       "  display: grid;\n",
       "  grid-template-columns: 20px auto;\n",
       "}\n",
       "\n",
       ".xr-array-wrap > label {\n",
       "  grid-column: 1;\n",
       "  vertical-align: top;\n",
       "}\n",
       "\n",
       ".xr-preview {\n",
       "  color: var(--xr-font-color3);\n",
       "}\n",
       "\n",
       ".xr-array-preview,\n",
       ".xr-array-data {\n",
       "  padding: 0 5px !important;\n",
       "  grid-column: 2;\n",
       "}\n",
       "\n",
       ".xr-array-data,\n",
       ".xr-array-in:checked ~ .xr-array-preview {\n",
       "  display: none;\n",
       "}\n",
       "\n",
       ".xr-array-in:checked ~ .xr-array-data,\n",
       ".xr-array-preview {\n",
       "  display: inline-block;\n",
       "}\n",
       "\n",
       ".xr-dim-list {\n",
       "  display: inline-block !important;\n",
       "  list-style: none;\n",
       "  padding: 0 !important;\n",
       "  margin: 0;\n",
       "}\n",
       "\n",
       ".xr-dim-list li {\n",
       "  display: inline-block;\n",
       "  padding: 0;\n",
       "  margin: 0;\n",
       "}\n",
       "\n",
       ".xr-dim-list:before {\n",
       "  content: '(';\n",
       "}\n",
       "\n",
       ".xr-dim-list:after {\n",
       "  content: ')';\n",
       "}\n",
       "\n",
       ".xr-dim-list li:not(:last-child):after {\n",
       "  content: ',';\n",
       "  padding-right: 5px;\n",
       "}\n",
       "\n",
       ".xr-has-index {\n",
       "  font-weight: bold;\n",
       "}\n",
       "\n",
       ".xr-var-list,\n",
       ".xr-var-item {\n",
       "  display: contents;\n",
       "}\n",
       "\n",
       ".xr-var-item > div,\n",
       ".xr-var-item label,\n",
       ".xr-var-item > .xr-var-name span {\n",
       "  background-color: var(--xr-background-color-row-even);\n",
       "  margin-bottom: 0;\n",
       "}\n",
       "\n",
       ".xr-var-item > .xr-var-name:hover span {\n",
       "  padding-right: 5px;\n",
       "}\n",
       "\n",
       ".xr-var-list > li:nth-child(odd) > div,\n",
       ".xr-var-list > li:nth-child(odd) > label,\n",
       ".xr-var-list > li:nth-child(odd) > .xr-var-name span {\n",
       "  background-color: var(--xr-background-color-row-odd);\n",
       "}\n",
       "\n",
       ".xr-var-name {\n",
       "  grid-column: 1;\n",
       "}\n",
       "\n",
       ".xr-var-dims {\n",
       "  grid-column: 2;\n",
       "}\n",
       "\n",
       ".xr-var-dtype {\n",
       "  grid-column: 3;\n",
       "  text-align: right;\n",
       "  color: var(--xr-font-color2);\n",
       "}\n",
       "\n",
       ".xr-var-preview {\n",
       "  grid-column: 4;\n",
       "}\n",
       "\n",
       ".xr-index-preview {\n",
       "  grid-column: 2 / 5;\n",
       "  color: var(--xr-font-color2);\n",
       "}\n",
       "\n",
       ".xr-var-name,\n",
       ".xr-var-dims,\n",
       ".xr-var-dtype,\n",
       ".xr-preview,\n",
       ".xr-attrs dt {\n",
       "  white-space: nowrap;\n",
       "  overflow: hidden;\n",
       "  text-overflow: ellipsis;\n",
       "  padding-right: 10px;\n",
       "}\n",
       "\n",
       ".xr-var-name:hover,\n",
       ".xr-var-dims:hover,\n",
       ".xr-var-dtype:hover,\n",
       ".xr-attrs dt:hover {\n",
       "  overflow: visible;\n",
       "  width: auto;\n",
       "  z-index: 1;\n",
       "}\n",
       "\n",
       ".xr-var-attrs,\n",
       ".xr-var-data,\n",
       ".xr-index-data {\n",
       "  display: none;\n",
       "  background-color: var(--xr-background-color) !important;\n",
       "  padding-bottom: 5px !important;\n",
       "}\n",
       "\n",
       ".xr-var-attrs-in:checked ~ .xr-var-attrs,\n",
       ".xr-var-data-in:checked ~ .xr-var-data,\n",
       ".xr-index-data-in:checked ~ .xr-index-data {\n",
       "  display: block;\n",
       "}\n",
       "\n",
       ".xr-var-data > table {\n",
       "  float: right;\n",
       "}\n",
       "\n",
       ".xr-var-name span,\n",
       ".xr-var-data,\n",
       ".xr-index-name div,\n",
       ".xr-index-data,\n",
       ".xr-attrs {\n",
       "  padding-left: 25px !important;\n",
       "}\n",
       "\n",
       ".xr-attrs,\n",
       ".xr-var-attrs,\n",
       ".xr-var-data,\n",
       ".xr-index-data {\n",
       "  grid-column: 1 / -1;\n",
       "}\n",
       "\n",
       "dl.xr-attrs {\n",
       "  padding: 0;\n",
       "  margin: 0;\n",
       "  display: grid;\n",
       "  grid-template-columns: 125px auto;\n",
       "}\n",
       "\n",
       ".xr-attrs dt,\n",
       ".xr-attrs dd {\n",
       "  padding: 0;\n",
       "  margin: 0;\n",
       "  float: left;\n",
       "  padding-right: 10px;\n",
       "  width: auto;\n",
       "}\n",
       "\n",
       ".xr-attrs dt {\n",
       "  font-weight: normal;\n",
       "  grid-column: 1;\n",
       "}\n",
       "\n",
       ".xr-attrs dt:hover span {\n",
       "  display: inline-block;\n",
       "  background: var(--xr-background-color);\n",
       "  padding-right: 10px;\n",
       "}\n",
       "\n",
       ".xr-attrs dd {\n",
       "  grid-column: 2;\n",
       "  white-space: pre-wrap;\n",
       "  word-break: break-all;\n",
       "}\n",
       "\n",
       ".xr-icon-database,\n",
       ".xr-icon-file-text2,\n",
       ".xr-no-icon {\n",
       "  display: inline-block;\n",
       "  vertical-align: middle;\n",
       "  width: 1em;\n",
       "  height: 1.5em !important;\n",
       "  stroke-width: 0;\n",
       "  stroke: currentColor;\n",
       "  fill: currentColor;\n",
       "}\n",
       "</style><pre class='xr-text-repr-fallback'>&lt;xarray.Dataset&gt;\n",
       "Dimensions:                           (count: 184319)\n",
       "Coordinates:\n",
       "  * count                             (count) int64 0 1 2 ... 184317 184318\n",
       "Data variables: (12/65)\n",
       "    WDIR                              (count) float32 123.6 128.2 ... 217.6\n",
       "    WDIR_QC                           (count) float32 2.0 2.0 2.0 ... 2.0 2.0\n",
       "    WDIR_DM                           (count) |S1 b&#x27;D&#x27; b&#x27;D&#x27; b&#x27;D&#x27; ... b&#x27;D&#x27; b&#x27;D&#x27;\n",
       "    WSPD                              (count) float32 5.39 5.3 ... 10.64 9.83\n",
       "    WSPD_QC                           (count) float32 2.0 2.0 2.0 ... 2.0 2.0\n",
       "    WSPD_DM                           (count) |S1 b&#x27;D&#x27; b&#x27;D&#x27; b&#x27;D&#x27; ... b&#x27;D&#x27; b&#x27;D&#x27;\n",
       "    ...                                ...\n",
       "    number_out_fore                   (count) float64 6.0 7.0 7.0 ... 16.0 14.0\n",
       "    number_out_aft                    (count) float64 8.0 7.0 9.0 ... 26.0 26.0\n",
       "    gmf_sst                           (count) float64 23.89 23.79 ... 26.45\n",
       "    distance_from_coast               (count) float64 864.0 876.0 ... 1.886e+03\n",
       "    exp_bias_wrt_oceanward_neighbors  (count) float64 0.0 0.0 0.0 ... 0.0 0.0\n",
       "    QS_TIME                           (count) datetime64[ns] 2000-01-01T00:34...</pre><div class='xr-wrap' style='display:none'><div class='xr-header'><div class='xr-obj-type'>xarray.Dataset</div></div><ul class='xr-sections'><li class='xr-section-item'><input id='section-b2deaaf4-1347-4583-84b3-9e23c14fecbb' class='xr-section-summary-in' type='checkbox' disabled ><label for='section-b2deaaf4-1347-4583-84b3-9e23c14fecbb' class='xr-section-summary'  title='Expand/collapse section'>Dimensions:</label><div class='xr-section-inline-details'><ul class='xr-dim-list'><li><span class='xr-has-index'>count</span>: 184319</li></ul></div><div class='xr-section-details'></div></li><li class='xr-section-item'><input id='section-6fd1234a-3563-45d9-99fa-b850f5cadfa7' class='xr-section-summary-in' type='checkbox'  checked><label for='section-6fd1234a-3563-45d9-99fa-b850f5cadfa7' class='xr-section-summary' >Coordinates: <span>(1)</span></label><div class='xr-section-inline-details'></div><div class='xr-section-details'><ul class='xr-var-list'><li class='xr-var-item'><div class='xr-var-name'><span class='xr-has-index'>count</span></div><div class='xr-var-dims'>(count)</div><div class='xr-var-dtype'>int64</div><div class='xr-var-preview xr-preview'>0 1 2 3 ... 184316 184317 184318</div><input id='attrs-c18a7e3f-e62d-440a-8d9e-01ab738771c5' class='xr-var-attrs-in' type='checkbox' disabled><label for='attrs-c18a7e3f-e62d-440a-8d9e-01ab738771c5' title='Show/Hide attributes'><svg class='icon xr-icon-file-text2'><use xlink:href='#icon-file-text2'></use></svg></label><input id='data-f4560cb8-c725-4c4f-809e-0dfa4bef85aa' class='xr-var-data-in' type='checkbox'><label for='data-f4560cb8-c725-4c4f-809e-0dfa4bef85aa' title='Show/Hide data repr'><svg class='icon xr-icon-database'><use xlink:href='#icon-database'></use></svg></label><div class='xr-var-attrs'><dl class='xr-attrs'></dl></div><div class='xr-var-data'><pre>array([     0,      1,      2, ..., 184316, 184317, 184318])</pre></div></li></ul></div></li><li class='xr-section-item'><input id='section-276a4d18-3b79-409e-a037-5f9001975102' class='xr-section-summary-in' type='checkbox'  ><label for='section-276a4d18-3b79-409e-a037-5f9001975102' class='xr-section-summary' >Data variables: <span>(65)</span></label><div class='xr-section-inline-details'></div><div class='xr-section-details'><ul class='xr-var-list'><li class='xr-var-item'><div class='xr-var-name'><span>WDIR</span></div><div class='xr-var-dims'>(count)</div><div class='xr-var-dtype'>float32</div><div class='xr-var-preview xr-preview'>123.6 128.2 128.7 ... 216.0 217.6</div><input id='attrs-bb168dc9-85d7-45ed-ae19-1f9a2252eecc' class='xr-var-attrs-in' type='checkbox' disabled><label for='attrs-bb168dc9-85d7-45ed-ae19-1f9a2252eecc' title='Show/Hide attributes'><svg class='icon xr-icon-file-text2'><use xlink:href='#icon-file-text2'></use></svg></label><input id='data-d3203186-e917-4e1c-ade2-594b12f8181c' class='xr-var-data-in' type='checkbox'><label for='data-d3203186-e917-4e1c-ade2-594b12f8181c' title='Show/Hide data repr'><svg class='icon xr-icon-database'><use xlink:href='#icon-database'></use></svg></label><div class='xr-var-attrs'><dl class='xr-attrs'></dl></div><div class='xr-var-data'><pre>array([123.600006, 128.20001 , 128.70001 , ..., 218.5     , 216.      ,\n",
       "       217.6     ], dtype=float32)</pre></div></li><li class='xr-var-item'><div class='xr-var-name'><span>WDIR_QC</span></div><div class='xr-var-dims'>(count)</div><div class='xr-var-dtype'>float32</div><div class='xr-var-preview xr-preview'>2.0 2.0 2.0 2.0 ... 2.0 2.0 2.0 2.0</div><input id='attrs-eb9da5d1-8f25-408b-b495-1b0d2784eab4' class='xr-var-attrs-in' type='checkbox' ><label for='attrs-eb9da5d1-8f25-408b-b495-1b0d2784eab4' title='Show/Hide attributes'><svg class='icon xr-icon-file-text2'><use xlink:href='#icon-file-text2'></use></svg></label><input id='data-04af9e3a-7b2b-412f-8e7c-7f55a7168501' class='xr-var-data-in' type='checkbox'><label for='data-04af9e3a-7b2b-412f-8e7c-7f55a7168501' title='Show/Hide data repr'><svg class='icon xr-icon-database'><use xlink:href='#icon-database'></use></svg></label><div class='xr-var-attrs'><dl class='xr-attrs'><dt><span>long_name :</span></dt><dd>quality flag</dd><dt><span>valid_min :</span></dt><dd>0</dd><dt><span>valid_max :</span></dt><dd>9</dd><dt><span>flag_values :</span></dt><dd>[0 1 2 3 4 5 9]</dd><dt><span>flag_meanings :</span></dt><dd>unknown good_data probably_good_data questionable_data bad_data adjusted_data missing_data</dd><dt><span>coordinates :</span></dt><dd>TIME HEIGHT LATITUDE LONGITUDE</dd></dl></div><div class='xr-var-data'><pre>array([2., 2., 2., ..., 2., 2., 2.], dtype=float32)</pre></div></li><li class='xr-var-item'><div class='xr-var-name'><span>WDIR_DM</span></div><div class='xr-var-dims'>(count)</div><div class='xr-var-dtype'>|S1</div><div class='xr-var-preview xr-preview'>b&#x27;D&#x27; b&#x27;D&#x27; b&#x27;D&#x27; ... b&#x27;D&#x27; b&#x27;D&#x27; b&#x27;D&#x27;</div><input id='attrs-e55fa994-498f-4472-b2e7-eff8e968b61b' class='xr-var-attrs-in' type='checkbox' ><label for='attrs-e55fa994-498f-4472-b2e7-eff8e968b61b' title='Show/Hide attributes'><svg class='icon xr-icon-file-text2'><use xlink:href='#icon-file-text2'></use></svg></label><input id='data-ba6c50d9-f3b3-416b-85fd-f861eb8e1c03' class='xr-var-data-in' type='checkbox'><label for='data-ba6c50d9-f3b3-416b-85fd-f861eb8e1c03' title='Show/Hide data repr'><svg class='icon xr-icon-database'><use xlink:href='#icon-database'></use></svg></label><div class='xr-var-attrs'><dl class='xr-attrs'><dt><span>long_name :</span></dt><dd>data mode</dd><dt><span>flag_values :</span></dt><dd>R, P, D, M</dd><dt><span>flag_meanings :</span></dt><dd>real-time provisional delayed-mode mixed</dd><dt><span>coordinates :</span></dt><dd>TIME HEIGHT LATITUDE LONGITUDE</dd></dl></div><div class='xr-var-data'><pre>array([b&#x27;D&#x27;, b&#x27;D&#x27;, b&#x27;D&#x27;, ..., b&#x27;D&#x27;, b&#x27;D&#x27;, b&#x27;D&#x27;], dtype=&#x27;|S1&#x27;)</pre></div></li><li class='xr-var-item'><div class='xr-var-name'><span>WSPD</span></div><div class='xr-var-dims'>(count)</div><div class='xr-var-dtype'>float32</div><div class='xr-var-preview xr-preview'>5.39 5.3 5.04 ... 9.7 10.64 9.83</div><input id='attrs-9a330751-a73c-4ffc-9075-87b759be96de' class='xr-var-attrs-in' type='checkbox' ><label for='attrs-9a330751-a73c-4ffc-9075-87b759be96de' title='Show/Hide attributes'><svg class='icon xr-icon-file-text2'><use xlink:href='#icon-file-text2'></use></svg></label><input id='data-34018573-1061-46d3-9b36-4090e9e1e897' class='xr-var-data-in' type='checkbox'><label for='data-34018573-1061-46d3-9b36-4090e9e1e897' title='Show/Hide data repr'><svg class='icon xr-icon-database'><use xlink:href='#icon-database'></use></svg></label><div class='xr-var-attrs'><dl class='xr-attrs'><dt><span>standard_name :</span></dt><dd>wind_speed</dd><dt><span>long_name :</span></dt><dd>Wind Speed</dd><dt><span>units :</span></dt><dd>meters/second</dd><dt><span>valid_min :</span></dt><dd>0.0</dd><dt><span>valid_max :</span></dt><dd>20.0</dd><dt><span>accuracy :</span></dt><dd>0.3 meters/second or 3%</dd><dt><span>resolution :</span></dt><dd>0.2</dd><dt><span>sensor_name :</span></dt><dd>Wind Propeller [R.M. Young/05103]</dd><dt><span>sensor_serial_number :</span></dt><dd>WIND-11280</dd><dt><span>ancillary_variables :</span></dt><dd>WSPD_QC WSPD_DM</dd><dt><span>cell_methods :</span></dt><dd>TIME: mean (interval: 2 minutes) HEIGHT:point LATITUDE:point LONGITUDE:point</dd><dt><span>coordinates :</span></dt><dd>TIME HEIGHT LATITUDE LONGITUDE</dd></dl></div><div class='xr-var-data'><pre>array([ 5.39,  5.3 ,  5.04, ...,  9.7 , 10.64,  9.83], dtype=float32)</pre></div></li><li class='xr-var-item'><div class='xr-var-name'><span>WSPD_QC</span></div><div class='xr-var-dims'>(count)</div><div class='xr-var-dtype'>float32</div><div class='xr-var-preview xr-preview'>2.0 2.0 2.0 2.0 ... 2.0 2.0 2.0 2.0</div><input id='attrs-4460bdf6-dc12-4d75-8836-1f50f0c099f1' class='xr-var-attrs-in' type='checkbox' ><label for='attrs-4460bdf6-dc12-4d75-8836-1f50f0c099f1' title='Show/Hide attributes'><svg class='icon xr-icon-file-text2'><use xlink:href='#icon-file-text2'></use></svg></label><input id='data-b1306816-6f1c-452d-a21d-e5c71cf65b19' class='xr-var-data-in' type='checkbox'><label for='data-b1306816-6f1c-452d-a21d-e5c71cf65b19' title='Show/Hide data repr'><svg class='icon xr-icon-database'><use xlink:href='#icon-database'></use></svg></label><div class='xr-var-attrs'><dl class='xr-attrs'><dt><span>long_name :</span></dt><dd>quality flag</dd><dt><span>valid_min :</span></dt><dd>0</dd><dt><span>valid_max :</span></dt><dd>9</dd><dt><span>flag_values :</span></dt><dd>[0 1 2 3 4 5 9]</dd><dt><span>flag_meanings :</span></dt><dd>unknown good_data probably_good_data questionable_data bad_data adjusted_data missing_data</dd><dt><span>coordinates :</span></dt><dd>TIME HEIGHT LATITUDE LONGITUDE</dd></dl></div><div class='xr-var-data'><pre>array([2., 2., 2., ..., 2., 2., 2.], dtype=float32)</pre></div></li><li class='xr-var-item'><div class='xr-var-name'><span>WSPD_DM</span></div><div class='xr-var-dims'>(count)</div><div class='xr-var-dtype'>|S1</div><div class='xr-var-preview xr-preview'>b&#x27;D&#x27; b&#x27;D&#x27; b&#x27;D&#x27; ... b&#x27;D&#x27; b&#x27;D&#x27; b&#x27;D&#x27;</div><input id='attrs-c411a9fd-e0bf-420b-944d-76143de5527a' class='xr-var-attrs-in' type='checkbox' ><label for='attrs-c411a9fd-e0bf-420b-944d-76143de5527a' title='Show/Hide attributes'><svg class='icon xr-icon-file-text2'><use xlink:href='#icon-file-text2'></use></svg></label><input id='data-e4cd287b-6eae-42c5-ae6b-f7238ac9d495' class='xr-var-data-in' type='checkbox'><label for='data-e4cd287b-6eae-42c5-ae6b-f7238ac9d495' title='Show/Hide data repr'><svg class='icon xr-icon-database'><use xlink:href='#icon-database'></use></svg></label><div class='xr-var-attrs'><dl class='xr-attrs'><dt><span>long_name :</span></dt><dd>data mode</dd><dt><span>flag_values :</span></dt><dd>R, P, D, M</dd><dt><span>flag_meanings :</span></dt><dd>real-time provisional delayed-mode mixed</dd><dt><span>coordinates :</span></dt><dd>TIME HEIGHT LATITUDE LONGITUDE</dd></dl></div><div class='xr-var-data'><pre>array([b&#x27;D&#x27;, b&#x27;D&#x27;, b&#x27;D&#x27;, ..., b&#x27;D&#x27;, b&#x27;D&#x27;, b&#x27;D&#x27;], dtype=&#x27;|S1&#x27;)</pre></div></li><li class='xr-var-item'><div class='xr-var-name'><span>UWND</span></div><div class='xr-var-dims'>(count)</div><div class='xr-var-dtype'>float32</div><div class='xr-var-preview xr-preview'>-2.98 -3.28 -3.15 ... -8.6 -7.78</div><input id='attrs-68589261-2965-4ebb-a131-4706cb4cb306' class='xr-var-attrs-in' type='checkbox' ><label for='attrs-68589261-2965-4ebb-a131-4706cb4cb306' title='Show/Hide attributes'><svg class='icon xr-icon-file-text2'><use xlink:href='#icon-file-text2'></use></svg></label><input id='data-ca0c0b20-19fc-4c1d-9a05-a1f5be2de67d' class='xr-var-data-in' type='checkbox'><label for='data-ca0c0b20-19fc-4c1d-9a05-a1f5be2de67d' title='Show/Hide data repr'><svg class='icon xr-icon-database'><use xlink:href='#icon-database'></use></svg></label><div class='xr-var-attrs'><dl class='xr-attrs'><dt><span>standard_name :</span></dt><dd>eastward_wind</dd><dt><span>long_name :</span></dt><dd>Wind Speed U Component</dd><dt><span>units :</span></dt><dd>meters/second</dd><dt><span>valid_min :</span></dt><dd>0.0</dd><dt><span>valid_max :</span></dt><dd>20.0</dd><dt><span>accuracy :</span></dt><dd>0.3 meters/second or 3%</dd><dt><span>resolution :</span></dt><dd>0.2</dd><dt><span>sensor_name :</span></dt><dd>Wind Propeller [R.M. Young/05103]</dd><dt><span>sensor_serial_number :</span></dt><dd>WIND-11280</dd><dt><span>ancillary_variables :</span></dt><dd>WDIR_QC WDIR_DM WSPD_QC WSPD_DM</dd><dt><span>cell_methods :</span></dt><dd>TIME: mean (interval: 2 minutes) HEIGHT:point LATITUDE:point LONGITUDE:point</dd><dt><span>coordinates :</span></dt><dd>TIME HEIGHT LATITUDE LONGITUDE</dd></dl></div><div class='xr-var-data'><pre>array([-2.98, -3.28, -3.15, ..., -7.59, -8.6 , -7.78], dtype=float32)</pre></div></li><li class='xr-var-item'><div class='xr-var-name'><span>VWND</span></div><div class='xr-var-dims'>(count)</div><div class='xr-var-dtype'>float32</div><div class='xr-var-preview xr-preview'>4.49 4.17 3.93 ... -6.04 -6.25 -6.0</div><input id='attrs-2a51d72c-d535-4f4d-9c67-76d012f3c917' class='xr-var-attrs-in' type='checkbox' ><label for='attrs-2a51d72c-d535-4f4d-9c67-76d012f3c917' title='Show/Hide attributes'><svg class='icon xr-icon-file-text2'><use xlink:href='#icon-file-text2'></use></svg></label><input id='data-1c3674be-67c4-440c-b0a3-94e158d9de28' class='xr-var-data-in' type='checkbox'><label for='data-1c3674be-67c4-440c-b0a3-94e158d9de28' title='Show/Hide data repr'><svg class='icon xr-icon-database'><use xlink:href='#icon-database'></use></svg></label><div class='xr-var-attrs'><dl class='xr-attrs'><dt><span>standard_name :</span></dt><dd>northward_wind</dd><dt><span>long_name :</span></dt><dd>Wind Speed V Component</dd><dt><span>units :</span></dt><dd>meters/second</dd><dt><span>valid_min :</span></dt><dd>0.0</dd><dt><span>valid_max :</span></dt><dd>20.0</dd><dt><span>accuracy :</span></dt><dd>0.3 meters/second or 3%</dd><dt><span>resolution :</span></dt><dd>0.2</dd><dt><span>sensor_name :</span></dt><dd>Wind Propeller [R.M. Young/05103]</dd><dt><span>sensor_serial_number :</span></dt><dd>WIND-11280</dd><dt><span>ancillary_variables :</span></dt><dd>WDIR_QC WDIR_DM WSPD_QC WSPD_DM</dd><dt><span>cell_methods :</span></dt><dd>TIME: mean (interval: 2 minutes) HEIGHT:point LATITUDE:point LONGITUDE:point</dd><dt><span>coordinates :</span></dt><dd>TIME HEIGHT LATITUDE LONGITUDE</dd></dl></div><div class='xr-var-data'><pre>array([ 4.49,  4.17,  3.93, ..., -6.04, -6.25, -6.  ], dtype=float32)</pre></div></li><li class='xr-var-item'><div class='xr-var-name'><span>SST</span></div><div class='xr-var-dims'>(count)</div><div class='xr-var-dtype'>float32</div><div class='xr-var-preview xr-preview'>23.75 23.74 23.94 ... 26.66 26.66</div><input id='attrs-c9632b2f-59cf-4f94-bf6d-9489268650fc' class='xr-var-attrs-in' type='checkbox' ><label for='attrs-c9632b2f-59cf-4f94-bf6d-9489268650fc' title='Show/Hide attributes'><svg class='icon xr-icon-file-text2'><use xlink:href='#icon-file-text2'></use></svg></label><input id='data-09c5ec5b-4c4f-41a6-a6fd-30f85b60f874' class='xr-var-data-in' type='checkbox'><label for='data-09c5ec5b-4c4f-41a6-a6fd-30f85b60f874' title='Show/Hide data repr'><svg class='icon xr-icon-database'><use xlink:href='#icon-database'></use></svg></label><div class='xr-var-attrs'><dl class='xr-attrs'><dt><span>standard_name :</span></dt><dd>sea_surface_temperature</dd><dt><span>long_name :</span></dt><dd>Sea Surface Temperature</dd><dt><span>units :</span></dt><dd>degree_Celsius</dd><dt><span>valid_min :</span></dt><dd>-5.0</dd><dt><span>valid_max :</span></dt><dd>35.0</dd><dt><span>accuracy :</span></dt><dd>0.003</dd><dt><span>resolution :</span></dt><dd>0.001</dd><dt><span>sensor_name :</span></dt><dd>Thermistor [Seabird/SBE 16/37]</dd><dt><span>sensor_serial_number :</span></dt><dd>SST-11736/1m </dd><dt><span>ancillary_variables :</span></dt><dd>SST_QC SST_DM</dd><dt><span>cell_methods :</span></dt><dd>TIME:point DEPTH:point LATITUDE:point LONGITUDE:point</dd><dt><span>reference_scale :</span></dt><dd>ITS-90</dd><dt><span>coordinates :</span></dt><dd>TIME DEPTH LATITUDE LONGITUDE</dd></dl></div><div class='xr-var-data'><pre>array([23.745, 23.743, 23.938, ..., 26.757, 26.661, 26.662], dtype=float32)</pre></div></li><li class='xr-var-item'><div class='xr-var-name'><span>SST_QC</span></div><div class='xr-var-dims'>(count)</div><div class='xr-var-dtype'>float32</div><div class='xr-var-preview xr-preview'>2.0 2.0 2.0 2.0 ... 2.0 2.0 2.0 2.0</div><input id='attrs-c440684f-a9ab-43a0-906f-4ff626b8f9ba' class='xr-var-attrs-in' type='checkbox' ><label for='attrs-c440684f-a9ab-43a0-906f-4ff626b8f9ba' title='Show/Hide attributes'><svg class='icon xr-icon-file-text2'><use xlink:href='#icon-file-text2'></use></svg></label><input id='data-fd4c45dc-3411-41e8-a0e7-7b480e7c6c97' class='xr-var-data-in' type='checkbox'><label for='data-fd4c45dc-3411-41e8-a0e7-7b480e7c6c97' title='Show/Hide data repr'><svg class='icon xr-icon-database'><use xlink:href='#icon-database'></use></svg></label><div class='xr-var-attrs'><dl class='xr-attrs'><dt><span>long_name :</span></dt><dd>quality flag</dd><dt><span>valid_min :</span></dt><dd>0</dd><dt><span>valid_max :</span></dt><dd>9</dd><dt><span>flag_values :</span></dt><dd>[0 1 2 3 4 5 9]</dd><dt><span>flag_meanings :</span></dt><dd>unknown good_data probably_good_data questionable_data bad_data adjusted_data missing_data</dd><dt><span>coordinates :</span></dt><dd>TIME DEPTH LATITUDE LONGITUDE</dd></dl></div><div class='xr-var-data'><pre>array([2., 2., 2., ..., 2., 2., 2.], dtype=float32)</pre></div></li><li class='xr-var-item'><div class='xr-var-name'><span>SST_DM</span></div><div class='xr-var-dims'>(count)</div><div class='xr-var-dtype'>|S1</div><div class='xr-var-preview xr-preview'>b&#x27;D&#x27; b&#x27;D&#x27; b&#x27;D&#x27; ... b&#x27;D&#x27; b&#x27;D&#x27; b&#x27;D&#x27;</div><input id='attrs-ad8c19f8-fa56-40e4-b152-e9cdf343912e' class='xr-var-attrs-in' type='checkbox' ><label for='attrs-ad8c19f8-fa56-40e4-b152-e9cdf343912e' title='Show/Hide attributes'><svg class='icon xr-icon-file-text2'><use xlink:href='#icon-file-text2'></use></svg></label><input id='data-8d5b2b07-a019-4058-a76d-2f2c8b713475' class='xr-var-data-in' type='checkbox'><label for='data-8d5b2b07-a019-4058-a76d-2f2c8b713475' title='Show/Hide data repr'><svg class='icon xr-icon-database'><use xlink:href='#icon-database'></use></svg></label><div class='xr-var-attrs'><dl class='xr-attrs'><dt><span>long_name :</span></dt><dd>data mode</dd><dt><span>flag_values :</span></dt><dd>R, P, D, M</dd><dt><span>flag_meanings :</span></dt><dd>real-time provisional delayed-mode mixed</dd><dt><span>coordinates :</span></dt><dd>TIME DEPTH LATITUDE LONGITUDE</dd></dl></div><div class='xr-var-data'><pre>array([b&#x27;D&#x27;, b&#x27;D&#x27;, b&#x27;D&#x27;, ..., b&#x27;D&#x27;, b&#x27;D&#x27;, b&#x27;D&#x27;], dtype=&#x27;|S1&#x27;)</pre></div></li><li class='xr-var-item'><div class='xr-var-name'><span>RELH</span></div><div class='xr-var-dims'>(count)</div><div class='xr-var-dtype'>float32</div><div class='xr-var-preview xr-preview'>73.83 73.3 75.73 ... 93.63 94.33</div><input id='attrs-1374ceab-5baa-4804-94c0-b4cb2d8e6e17' class='xr-var-attrs-in' type='checkbox' ><label for='attrs-1374ceab-5baa-4804-94c0-b4cb2d8e6e17' title='Show/Hide attributes'><svg class='icon xr-icon-file-text2'><use xlink:href='#icon-file-text2'></use></svg></label><input id='data-05c15903-8596-4099-8265-820f4f10f08d' class='xr-var-data-in' type='checkbox'><label for='data-05c15903-8596-4099-8265-820f4f10f08d' title='Show/Hide data repr'><svg class='icon xr-icon-database'><use xlink:href='#icon-database'></use></svg></label><div class='xr-var-attrs'><dl class='xr-attrs'><dt><span>standard_name :</span></dt><dd>relative_humidity</dd><dt><span>long_name :</span></dt><dd>Relative Humidity</dd><dt><span>units :</span></dt><dd>1</dd><dt><span>valid_min :</span></dt><dd>0.0</dd><dt><span>valid_max :</span></dt><dd>100.0</dd><dt><span>accuracy :</span></dt><dd>2.7%RH in range of 55-95 %RH</dd><dt><span>resolution :</span></dt><dd>0.4</dd><dt><span>sensor_name :</span></dt><dd>Humidity-temperature Capacitance [Rotronics/MP101A]</dd><dt><span>sensor_serial_number :</span></dt><dd>RH-58340</dd><dt><span>ancillary_variables :</span></dt><dd>RELH_QC RELH_DM</dd><dt><span>cell_methods :</span></dt><dd>TIME: mean (interval: 2 minutes) HEIGHT:point LATITUDE:point LONGITUDE:point</dd><dt><span>coordinates :</span></dt><dd>TIME HEIGHT LATITUDE LONGITUDE</dd></dl></div><div class='xr-var-data'><pre>array([73.83, 73.3 , 75.73, ..., 88.56, 93.63, 94.33], dtype=float32)</pre></div></li><li class='xr-var-item'><div class='xr-var-name'><span>RELH_QC</span></div><div class='xr-var-dims'>(count)</div><div class='xr-var-dtype'>float32</div><div class='xr-var-preview xr-preview'>2.0 2.0 2.0 2.0 ... 2.0 2.0 2.0 2.0</div><input id='attrs-280c36e4-7e46-4cab-af0a-b3ca3e028ccf' class='xr-var-attrs-in' type='checkbox' ><label for='attrs-280c36e4-7e46-4cab-af0a-b3ca3e028ccf' title='Show/Hide attributes'><svg class='icon xr-icon-file-text2'><use xlink:href='#icon-file-text2'></use></svg></label><input id='data-4003a652-9290-4ca1-b061-825cbb406f23' class='xr-var-data-in' type='checkbox'><label for='data-4003a652-9290-4ca1-b061-825cbb406f23' title='Show/Hide data repr'><svg class='icon xr-icon-database'><use xlink:href='#icon-database'></use></svg></label><div class='xr-var-attrs'><dl class='xr-attrs'><dt><span>long_name :</span></dt><dd>quality flag</dd><dt><span>valid_min :</span></dt><dd>0</dd><dt><span>valid_max :</span></dt><dd>9</dd><dt><span>flag_values :</span></dt><dd>[0 1 2 3 4 5 9]</dd><dt><span>flag_meanings :</span></dt><dd>unknown good_data probably_good_data questionable_data bad_data adjusted_data missing_data</dd><dt><span>coordinates :</span></dt><dd>TIME HEIGHT LATITUDE LONGITUDE</dd></dl></div><div class='xr-var-data'><pre>array([2., 2., 2., ..., 2., 2., 2.], dtype=float32)</pre></div></li><li class='xr-var-item'><div class='xr-var-name'><span>RELH_DM</span></div><div class='xr-var-dims'>(count)</div><div class='xr-var-dtype'>|S1</div><div class='xr-var-preview xr-preview'>b&#x27;D&#x27; b&#x27;D&#x27; b&#x27;D&#x27; ... b&#x27;D&#x27; b&#x27;D&#x27; b&#x27;D&#x27;</div><input id='attrs-17da054a-5ff9-49ff-89f4-6fa376f19848' class='xr-var-attrs-in' type='checkbox' ><label for='attrs-17da054a-5ff9-49ff-89f4-6fa376f19848' title='Show/Hide attributes'><svg class='icon xr-icon-file-text2'><use xlink:href='#icon-file-text2'></use></svg></label><input id='data-bf0d47c3-a8a8-414e-8fc7-1e8654c94231' class='xr-var-data-in' type='checkbox'><label for='data-bf0d47c3-a8a8-414e-8fc7-1e8654c94231' title='Show/Hide data repr'><svg class='icon xr-icon-database'><use xlink:href='#icon-database'></use></svg></label><div class='xr-var-attrs'><dl class='xr-attrs'><dt><span>long_name :</span></dt><dd>data mode</dd><dt><span>flag_values :</span></dt><dd>R, P, D, M</dd><dt><span>flag_meanings :</span></dt><dd>real-time provisional delayed-mode mixed</dd><dt><span>coordinates :</span></dt><dd>TIME HEIGHT LATITUDE LONGITUDE</dd></dl></div><div class='xr-var-data'><pre>array([b&#x27;D&#x27;, b&#x27;D&#x27;, b&#x27;D&#x27;, ..., b&#x27;D&#x27;, b&#x27;D&#x27;, b&#x27;D&#x27;], dtype=&#x27;|S1&#x27;)</pre></div></li><li class='xr-var-item'><div class='xr-var-name'><span>AIRT</span></div><div class='xr-var-dims'>(count)</div><div class='xr-var-dtype'>float32</div><div class='xr-var-preview xr-preview'>22.93 22.84 23.2 ... 25.11 25.17</div><input id='attrs-a8a6e15f-9704-47dc-9eaf-2fb730b68ad6' class='xr-var-attrs-in' type='checkbox' ><label for='attrs-a8a6e15f-9704-47dc-9eaf-2fb730b68ad6' title='Show/Hide attributes'><svg class='icon xr-icon-file-text2'><use xlink:href='#icon-file-text2'></use></svg></label><input id='data-ce5c08b7-df14-42c2-b76d-14517ef5528b' class='xr-var-data-in' type='checkbox'><label for='data-ce5c08b7-df14-42c2-b76d-14517ef5528b' title='Show/Hide data repr'><svg class='icon xr-icon-database'><use xlink:href='#icon-database'></use></svg></label><div class='xr-var-attrs'><dl class='xr-attrs'><dt><span>standard_name :</span></dt><dd>air_temperature</dd><dt><span>long_name :</span></dt><dd>Air Temperature</dd><dt><span>units :</span></dt><dd>degree_Celsius</dd><dt><span>valid_min :</span></dt><dd>0.0</dd><dt><span>valid_max :</span></dt><dd>40.0</dd><dt><span>accuracy :</span></dt><dd>0.2 Degree C in range of 14-32 Degrees C</dd><dt><span>resolution :</span></dt><dd>0.01</dd><dt><span>sensor_name :</span></dt><dd>Humidity-temperature Pt100 RTD [Rotronics/MP101A]</dd><dt><span>sensor_serial_number :</span></dt><dd>AIR-58340</dd><dt><span>ancillary_variables :</span></dt><dd>AIRT_QC AIRT_DM</dd><dt><span>cell_methods :</span></dt><dd>TIME: mean (interval: 2 minutes) HEIGHT:point LATITUDE:point LONGITUDE:point</dd><dt><span>coordinates :</span></dt><dd>TIME HEIGHT LATITUDE LONGITUDE</dd></dl></div><div class='xr-var-data'><pre>array([22.93, 22.84, 23.2 , ..., 26.26, 25.11, 25.17], dtype=float32)</pre></div></li><li class='xr-var-item'><div class='xr-var-name'><span>AIRT_QC</span></div><div class='xr-var-dims'>(count)</div><div class='xr-var-dtype'>float32</div><div class='xr-var-preview xr-preview'>2.0 2.0 2.0 2.0 ... 2.0 2.0 2.0 2.0</div><input id='attrs-d5b63c80-bb9d-44e1-9c75-6b6d867461ed' class='xr-var-attrs-in' type='checkbox' ><label for='attrs-d5b63c80-bb9d-44e1-9c75-6b6d867461ed' title='Show/Hide attributes'><svg class='icon xr-icon-file-text2'><use xlink:href='#icon-file-text2'></use></svg></label><input id='data-815855d5-088d-4419-9c2d-51166a603423' class='xr-var-data-in' type='checkbox'><label for='data-815855d5-088d-4419-9c2d-51166a603423' title='Show/Hide data repr'><svg class='icon xr-icon-database'><use xlink:href='#icon-database'></use></svg></label><div class='xr-var-attrs'><dl class='xr-attrs'><dt><span>long_name :</span></dt><dd>quality flag</dd><dt><span>valid_min :</span></dt><dd>0</dd><dt><span>valid_max :</span></dt><dd>9</dd><dt><span>flag_values :</span></dt><dd>[0 1 2 3 4 5 9]</dd><dt><span>flag_meanings :</span></dt><dd>unknown good_data probably_good_data questionable_data bad_data adjusted_data missing_data</dd><dt><span>coordinates :</span></dt><dd>TIME HEIGHT LATITUDE LONGITUDE</dd></dl></div><div class='xr-var-data'><pre>array([2., 2., 2., ..., 2., 2., 2.], dtype=float32)</pre></div></li><li class='xr-var-item'><div class='xr-var-name'><span>AIRT_DM</span></div><div class='xr-var-dims'>(count)</div><div class='xr-var-dtype'>|S1</div><div class='xr-var-preview xr-preview'>b&#x27;D&#x27; b&#x27;D&#x27; b&#x27;D&#x27; ... b&#x27;D&#x27; b&#x27;D&#x27; b&#x27;D&#x27;</div><input id='attrs-9582e199-e84e-418f-8bcc-7615546ede5d' class='xr-var-attrs-in' type='checkbox' ><label for='attrs-9582e199-e84e-418f-8bcc-7615546ede5d' title='Show/Hide attributes'><svg class='icon xr-icon-file-text2'><use xlink:href='#icon-file-text2'></use></svg></label><input id='data-1ea72008-84eb-4b8b-b85b-2429292c5708' class='xr-var-data-in' type='checkbox'><label for='data-1ea72008-84eb-4b8b-b85b-2429292c5708' title='Show/Hide data repr'><svg class='icon xr-icon-database'><use xlink:href='#icon-database'></use></svg></label><div class='xr-var-attrs'><dl class='xr-attrs'><dt><span>long_name :</span></dt><dd>data mode</dd><dt><span>flag_values :</span></dt><dd>R, P, D, M</dd><dt><span>flag_meanings :</span></dt><dd>real-time provisional delayed-mode mixed</dd><dt><span>coordinates :</span></dt><dd>TIME HEIGHT LATITUDE LONGITUDE</dd></dl></div><div class='xr-var-data'><pre>array([b&#x27;D&#x27;, b&#x27;D&#x27;, b&#x27;D&#x27;, ..., b&#x27;D&#x27;, b&#x27;D&#x27;, b&#x27;D&#x27;], dtype=&#x27;|S1&#x27;)</pre></div></li><li class='xr-var-item'><div class='xr-var-name'><span>WSPD_10N</span></div><div class='xr-var-dims'>(count)</div><div class='xr-var-dtype'>float64</div><div class='xr-var-preview xr-preview'>5.926 5.837 5.542 ... 11.74 10.82</div><input id='attrs-e834003e-4328-438d-974d-39f8b2f59492' class='xr-var-attrs-in' type='checkbox' ><label for='attrs-e834003e-4328-438d-974d-39f8b2f59492' title='Show/Hide attributes'><svg class='icon xr-icon-file-text2'><use xlink:href='#icon-file-text2'></use></svg></label><input id='data-5ab0569d-9025-4f47-b58e-f537c8db7d0a' class='xr-var-data-in' type='checkbox'><label for='data-5ab0569d-9025-4f47-b58e-f537c8db7d0a' title='Show/Hide data repr'><svg class='icon xr-icon-database'><use xlink:href='#icon-database'></use></svg></label><div class='xr-var-attrs'><dl class='xr-attrs'><dt><span>units :</span></dt><dd>meters/second</dd><dt><span>long_name :</span></dt><dd>10 m neutral winds from COARE3.5</dd><dt><span>vars_used_to_calculate :</span></dt><dd>SST RH AIRT WSPD</dd></dl></div><div class='xr-var-data'><pre>array([ 5.92616114,  5.83692496,  5.54152742, ..., 10.63778828,\n",
       "       11.73990277, 10.82380597])</pre></div></li><li class='xr-var-item'><div class='xr-var-name'><span>WSPD_10</span></div><div class='xr-var-dims'>(count)</div><div class='xr-var-dtype'>float64</div><div class='xr-var-preview xr-preview'>5.71 5.608 5.332 ... 11.6 10.68</div><input id='attrs-9e960a83-92c6-44e1-8d56-aaedc86274b7' class='xr-var-attrs-in' type='checkbox' ><label for='attrs-9e960a83-92c6-44e1-8d56-aaedc86274b7' title='Show/Hide attributes'><svg class='icon xr-icon-file-text2'><use xlink:href='#icon-file-text2'></use></svg></label><input id='data-cab56c45-144c-4583-863a-15d2a09cbd32' class='xr-var-data-in' type='checkbox'><label for='data-cab56c45-144c-4583-863a-15d2a09cbd32' title='Show/Hide data repr'><svg class='icon xr-icon-database'><use xlink:href='#icon-database'></use></svg></label><div class='xr-var-attrs'><dl class='xr-attrs'><dt><span>units :</span></dt><dd>meters/second</dd><dt><span>long_name :</span></dt><dd>10 m winds from COARE3.5</dd><dt><span>vars_used_to_calculate :</span></dt><dd>SST RH AIRT WSPD</dd></dl></div><div class='xr-var-data'><pre>array([ 5.70954285,  5.60758902,  5.33155489, ..., 10.56418869,\n",
       "       11.60119697, 10.67700556])</pre></div></li><li class='xr-var-item'><div class='xr-var-name'><span>mean_WSPD</span></div><div class='xr-var-dims'>(count)</div><div class='xr-var-dtype'>float64</div><div class='xr-var-preview xr-preview'>nan nan 5.543 ... 9.763 10.44 10.48</div><input id='attrs-31a3bfa8-8a6c-4188-be62-6270e33f4c55' class='xr-var-attrs-in' type='checkbox' ><label for='attrs-31a3bfa8-8a6c-4188-be62-6270e33f4c55' title='Show/Hide attributes'><svg class='icon xr-icon-file-text2'><use xlink:href='#icon-file-text2'></use></svg></label><input id='data-d8078807-878e-43df-ab82-85c78758a479' class='xr-var-data-in' type='checkbox'><label for='data-d8078807-878e-43df-ab82-85c78758a479' title='Show/Hide data repr'><svg class='icon xr-icon-database'><use xlink:href='#icon-database'></use></svg></label><div class='xr-var-attrs'><dl class='xr-attrs'><dt><span>statistic :</span></dt><dd>Running mean over 120 min</dd></dl></div><div class='xr-var-data'><pre>array([        nan,         nan,  5.54250002, ...,  9.7633334 ,\n",
       "       10.44166668, 10.48333335])</pre></div></li><li class='xr-var-item'><div class='xr-var-name'><span>std_WSPD</span></div><div class='xr-var-dims'>(count)</div><div class='xr-var-dtype'>float64</div><div class='xr-var-preview xr-preview'>nan nan 0.4685 ... 0.6479 0.7015</div><input id='attrs-53d477c7-3dad-4834-94b0-10867bf0ed4a' class='xr-var-attrs-in' type='checkbox' ><label for='attrs-53d477c7-3dad-4834-94b0-10867bf0ed4a' title='Show/Hide attributes'><svg class='icon xr-icon-file-text2'><use xlink:href='#icon-file-text2'></use></svg></label><input id='data-2b0ac8d3-4396-463f-a9c2-ae947de16a48' class='xr-var-data-in' type='checkbox'><label for='data-2b0ac8d3-4396-463f-a9c2-ae947de16a48' title='Show/Hide data repr'><svg class='icon xr-icon-database'><use xlink:href='#icon-database'></use></svg></label><div class='xr-var-attrs'><dl class='xr-attrs'><dt><span>statistic :</span></dt><dd>Running std dev over 120 min</dd></dl></div><div class='xr-var-data'><pre>array([       nan,        nan, 0.46849189, ..., 0.43930458, 0.64793028,\n",
       "       0.70150274])</pre></div></li><li class='xr-var-item'><div class='xr-var-name'><span>mean_WSPD_10N</span></div><div class='xr-var-dims'>(count)</div><div class='xr-var-dtype'>float64</div><div class='xr-var-preview xr-preview'>nan nan 6.083 ... 10.71 11.51 11.56</div><input id='attrs-ed948521-34c8-41a4-a9d3-da06fff440e0' class='xr-var-attrs-in' type='checkbox' ><label for='attrs-ed948521-34c8-41a4-a9d3-da06fff440e0' title='Show/Hide attributes'><svg class='icon xr-icon-file-text2'><use xlink:href='#icon-file-text2'></use></svg></label><input id='data-a3a66a53-5e64-470c-8d28-590eba8666a4' class='xr-var-data-in' type='checkbox'><label for='data-a3a66a53-5e64-470c-8d28-590eba8666a4' title='Show/Hide data repr'><svg class='icon xr-icon-database'><use xlink:href='#icon-database'></use></svg></label><div class='xr-var-attrs'><dl class='xr-attrs'><dt><span>statistic :</span></dt><dd>Running mean over 120 min</dd></dl></div><div class='xr-var-data'><pre>array([        nan,         nan,  6.08281355, ..., 10.71003456,\n",
       "       11.51475487, 11.56160688])</pre></div></li><li class='xr-var-item'><div class='xr-var-name'><span>std_WSPD_10N</span></div><div class='xr-var-dims'>(count)</div><div class='xr-var-dtype'>float64</div><div class='xr-var-preview xr-preview'>nan nan 0.5073 ... 0.7341 0.794</div><input id='attrs-1a426c5d-d0ad-4a33-9cc8-3b47a914b8d9' class='xr-var-attrs-in' type='checkbox' ><label for='attrs-1a426c5d-d0ad-4a33-9cc8-3b47a914b8d9' title='Show/Hide attributes'><svg class='icon xr-icon-file-text2'><use xlink:href='#icon-file-text2'></use></svg></label><input id='data-f18480b0-fa5d-42df-bfdc-1783ac288ce1' class='xr-var-data-in' type='checkbox'><label for='data-f18480b0-fa5d-42df-bfdc-1783ac288ce1' title='Show/Hide data repr'><svg class='icon xr-icon-database'><use xlink:href='#icon-database'></use></svg></label><div class='xr-var-attrs'><dl class='xr-attrs'><dt><span>statistic :</span></dt><dd>Running std dev over 120 min</dd></dl></div><div class='xr-var-data'><pre>array([       nan,        nan, 0.50726429, ..., 0.49449757, 0.73409726,\n",
       "       0.79398251])</pre></div></li><li class='xr-var-item'><div class='xr-var-name'><span>mean_SST</span></div><div class='xr-var-dims'>(count)</div><div class='xr-var-dtype'>float64</div><div class='xr-var-preview xr-preview'>nan nan 23.96 ... 26.76 26.66 26.66</div><input id='attrs-79c55ea9-3df3-45cb-a417-ff5659018c0b' class='xr-var-attrs-in' type='checkbox' ><label for='attrs-79c55ea9-3df3-45cb-a417-ff5659018c0b' title='Show/Hide attributes'><svg class='icon xr-icon-file-text2'><use xlink:href='#icon-file-text2'></use></svg></label><input id='data-472c4ac9-fe2b-462b-860c-d88b950560f7' class='xr-var-data-in' type='checkbox'><label for='data-472c4ac9-fe2b-462b-860c-d88b950560f7' title='Show/Hide data repr'><svg class='icon xr-icon-database'><use xlink:href='#icon-database'></use></svg></label><div class='xr-var-attrs'><dl class='xr-attrs'><dt><span>statistic :</span></dt><dd>Running mean over 120 min</dd></dl></div><div class='xr-var-data'><pre>array([        nan,         nan, 23.95991659, ..., 26.75683339,\n",
       "       26.66216675, 26.6596667 ])</pre></div></li><li class='xr-var-item'><div class='xr-var-name'><span>std_SST</span></div><div class='xr-var-dims'>(count)</div><div class='xr-var-dtype'>float64</div><div class='xr-var-preview xr-preview'>nan nan ... 0.005831 0.006778</div><input id='attrs-b30e11e0-753a-419c-8a9f-9e3b2b6c53dd' class='xr-var-attrs-in' type='checkbox' ><label for='attrs-b30e11e0-753a-419c-8a9f-9e3b2b6c53dd' title='Show/Hide attributes'><svg class='icon xr-icon-file-text2'><use xlink:href='#icon-file-text2'></use></svg></label><input id='data-d5465e48-df3e-48b5-bc08-19ff982a0522' class='xr-var-data-in' type='checkbox'><label for='data-d5465e48-df3e-48b5-bc08-19ff982a0522' title='Show/Hide data repr'><svg class='icon xr-icon-database'><use xlink:href='#icon-database'></use></svg></label><div class='xr-var-attrs'><dl class='xr-attrs'><dt><span>statistic :</span></dt><dd>Running std dev over 120 min</dd></dl></div><div class='xr-var-data'><pre>array([       nan,        nan, 0.04636298, ..., 0.0017017 , 0.00583132,\n",
       "       0.0067782 ])</pre></div></li><li class='xr-var-item'><div class='xr-var-name'><span>mean_AIRT</span></div><div class='xr-var-dims'>(count)</div><div class='xr-var-dtype'>float64</div><div class='xr-var-preview xr-preview'>nan nan 23.23 ... 26.26 25.16 25.17</div><input id='attrs-a0ef7f81-2faf-4fc2-bba4-bc2eaae826ea' class='xr-var-attrs-in' type='checkbox' ><label for='attrs-a0ef7f81-2faf-4fc2-bba4-bc2eaae826ea' title='Show/Hide attributes'><svg class='icon xr-icon-file-text2'><use xlink:href='#icon-file-text2'></use></svg></label><input id='data-4fdb8c60-9788-4ec0-898e-cb0a9debb778' class='xr-var-data-in' type='checkbox'><label for='data-4fdb8c60-9788-4ec0-898e-cb0a9debb778' title='Show/Hide data repr'><svg class='icon xr-icon-database'><use xlink:href='#icon-database'></use></svg></label><div class='xr-var-attrs'><dl class='xr-attrs'><dt><span>statistic :</span></dt><dd>Running mean over 120 min</dd></dl></div><div class='xr-var-data'><pre>array([        nan,         nan, 23.22750044, ..., 26.25916656,\n",
       "       25.16416677, 25.17416684])</pre></div></li><li class='xr-var-item'><div class='xr-var-name'><span>std_AIRT</span></div><div class='xr-var-dims'>(count)</div><div class='xr-var-dtype'>float64</div><div class='xr-var-preview xr-preview'>nan nan 0.04324 ... 0.1168 0.1275</div><input id='attrs-2cff11d0-1936-42ae-a4cf-74c790379f6d' class='xr-var-attrs-in' type='checkbox' ><label for='attrs-2cff11d0-1936-42ae-a4cf-74c790379f6d' title='Show/Hide attributes'><svg class='icon xr-icon-file-text2'><use xlink:href='#icon-file-text2'></use></svg></label><input id='data-71634497-56a2-42ee-a798-464cf8489a9d' class='xr-var-data-in' type='checkbox'><label for='data-71634497-56a2-42ee-a798-464cf8489a9d' title='Show/Hide data repr'><svg class='icon xr-icon-database'><use xlink:href='#icon-database'></use></svg></label><div class='xr-var-attrs'><dl class='xr-attrs'><dt><span>statistic :</span></dt><dd>Running std dev over 120 min</dd></dl></div><div class='xr-var-data'><pre>array([       nan,        nan, 0.043239  , ..., 0.10893222, 0.11684567,\n",
       "       0.12754546])</pre></div></li><li class='xr-var-item'><div class='xr-var-name'><span>mean_SST - AIRT</span></div><div class='xr-var-dims'>(count)</div><div class='xr-var-dtype'>float64</div><div class='xr-var-preview xr-preview'>nan nan 0.7324 ... 1.498 1.485</div><input id='attrs-0096322c-95d0-48f1-8ed8-d811a619e946' class='xr-var-attrs-in' type='checkbox' ><label for='attrs-0096322c-95d0-48f1-8ed8-d811a619e946' title='Show/Hide attributes'><svg class='icon xr-icon-file-text2'><use xlink:href='#icon-file-text2'></use></svg></label><input id='data-c63623c8-bd0d-4711-82d2-de697025fb14' class='xr-var-data-in' type='checkbox'><label for='data-c63623c8-bd0d-4711-82d2-de697025fb14' title='Show/Hide data repr'><svg class='icon xr-icon-database'><use xlink:href='#icon-database'></use></svg></label><div class='xr-var-attrs'><dl class='xr-attrs'><dt><span>statistic :</span></dt><dd>Running mean over 120 min</dd></dl></div><div class='xr-var-data'><pre>array([       nan,        nan, 0.73241615, ..., 0.49766684, 1.49799999,\n",
       "       1.48549986])</pre></div></li><li class='xr-var-item'><div class='xr-var-name'><span>std_SST - AIRT</span></div><div class='xr-var-dims'>(count)</div><div class='xr-var-dtype'>float64</div><div class='xr-var-preview xr-preview'>nan nan 0.03663 ... 0.1179 0.1312</div><input id='attrs-9b5cefb8-0acf-4d87-8b3a-8595a1fff186' class='xr-var-attrs-in' type='checkbox' ><label for='attrs-9b5cefb8-0acf-4d87-8b3a-8595a1fff186' title='Show/Hide attributes'><svg class='icon xr-icon-file-text2'><use xlink:href='#icon-file-text2'></use></svg></label><input id='data-7c130cc5-a331-43a7-90b4-b84ef4e19083' class='xr-var-data-in' type='checkbox'><label for='data-7c130cc5-a331-43a7-90b4-b84ef4e19083' title='Show/Hide data repr'><svg class='icon xr-icon-database'><use xlink:href='#icon-database'></use></svg></label><div class='xr-var-attrs'><dl class='xr-attrs'><dt><span>statistic :</span></dt><dd>Running std dev over 120 min</dd></dl></div><div class='xr-var-data'><pre>array([       nan,        nan, 0.0366275 , ..., 0.11144674, 0.11786521,\n",
       "       0.13119074])</pre></div></li><li class='xr-var-item'><div class='xr-var-name'><span>mean_RELH</span></div><div class='xr-var-dims'>(count)</div><div class='xr-var-dtype'>float64</div><div class='xr-var-preview xr-preview'>nan nan 75.38 ... 88.67 94.33 94.43</div><input id='attrs-c003025e-28c0-43cd-9983-e0f0b413476a' class='xr-var-attrs-in' type='checkbox' ><label for='attrs-c003025e-28c0-43cd-9983-e0f0b413476a' title='Show/Hide attributes'><svg class='icon xr-icon-file-text2'><use xlink:href='#icon-file-text2'></use></svg></label><input id='data-80433341-5a7f-46f2-9b35-6e437b4381a2' class='xr-var-data-in' type='checkbox'><label for='data-80433341-5a7f-46f2-9b35-6e437b4381a2' title='Show/Hide data repr'><svg class='icon xr-icon-database'><use xlink:href='#icon-database'></use></svg></label><div class='xr-var-attrs'><dl class='xr-attrs'><dt><span>statistic :</span></dt><dd>Running mean over 120 min</dd></dl></div><div class='xr-var-data'><pre>array([        nan,         nan, 75.37833341, ..., 88.66583252,\n",
       "       94.3283329 , 94.43083318])</pre></div></li><li class='xr-var-item'><div class='xr-var-name'><span>std_RELH</span></div><div class='xr-var-dims'>(count)</div><div class='xr-var-dtype'>float64</div><div class='xr-var-preview xr-preview'>nan nan 0.9694 ... 0.6008 0.6102</div><input id='attrs-743f2e10-0d25-4876-9cb9-ee3e1cb9ab4e' class='xr-var-attrs-in' type='checkbox' ><label for='attrs-743f2e10-0d25-4876-9cb9-ee3e1cb9ab4e' title='Show/Hide attributes'><svg class='icon xr-icon-file-text2'><use xlink:href='#icon-file-text2'></use></svg></label><input id='data-9a800a66-9db6-45a8-8c74-5952e5975db6' class='xr-var-data-in' type='checkbox'><label for='data-9a800a66-9db6-45a8-8c74-5952e5975db6' title='Show/Hide data repr'><svg class='icon xr-icon-database'><use xlink:href='#icon-database'></use></svg></label><div class='xr-var-attrs'><dl class='xr-attrs'><dt><span>statistic :</span></dt><dd>Running std dev over 120 min</dd></dl></div><div class='xr-var-data'><pre>array([       nan,        nan, 0.9694219 , ..., 0.95254101, 0.60083775,\n",
       "       0.61020563])</pre></div></li><li class='xr-var-item'><div class='xr-var-name'><span>mean_U10N_x</span></div><div class='xr-var-dims'>(count)</div><div class='xr-var-dtype'>float64</div><div class='xr-var-preview xr-preview'>nan nan -3.909 ... -9.33 -9.417</div><input id='attrs-456783b7-93c4-4cd4-b6fa-4db369ae8759' class='xr-var-attrs-in' type='checkbox' ><label for='attrs-456783b7-93c4-4cd4-b6fa-4db369ae8759' title='Show/Hide attributes'><svg class='icon xr-icon-file-text2'><use xlink:href='#icon-file-text2'></use></svg></label><input id='data-b8d68f36-6a50-432f-a00c-c3dc0b0fd1e5' class='xr-var-data-in' type='checkbox'><label for='data-b8d68f36-6a50-432f-a00c-c3dc0b0fd1e5' title='Show/Hide data repr'><svg class='icon xr-icon-database'><use xlink:href='#icon-database'></use></svg></label><div class='xr-var-attrs'><dl class='xr-attrs'><dt><span>statistic :</span></dt><dd>Running mean over 120 min</dd></dl></div><div class='xr-var-data'><pre>array([        nan,         nan, -3.9088721 , ..., -8.74841134,\n",
       "       -9.33012894, -9.41684482])</pre></div></li><li class='xr-var-item'><div class='xr-var-name'><span>std_U10N_x</span></div><div class='xr-var-dims'>(count)</div><div class='xr-var-dtype'>float64</div><div class='xr-var-preview xr-preview'>nan nan 0.5038 ... 0.8238 0.8614</div><input id='attrs-df6cbcbb-fed6-48db-8151-5e776a7b6786' class='xr-var-attrs-in' type='checkbox' ><label for='attrs-df6cbcbb-fed6-48db-8151-5e776a7b6786' title='Show/Hide attributes'><svg class='icon xr-icon-file-text2'><use xlink:href='#icon-file-text2'></use></svg></label><input id='data-62b81788-f2e2-4fa8-aafb-497a5e510dd3' class='xr-var-data-in' type='checkbox'><label for='data-62b81788-f2e2-4fa8-aafb-497a5e510dd3' title='Show/Hide data repr'><svg class='icon xr-icon-database'><use xlink:href='#icon-database'></use></svg></label><div class='xr-var-attrs'><dl class='xr-attrs'><dt><span>statistic :</span></dt><dd>Running std dev over 120 min</dd></dl></div><div class='xr-var-data'><pre>array([       nan,        nan, 0.50382105, ..., 0.62807643, 0.82375405,\n",
       "       0.86138494])</pre></div></li><li class='xr-var-item'><div class='xr-var-name'><span>mean_U10N_y</span></div><div class='xr-var-dims'>(count)</div><div class='xr-var-dtype'>float64</div><div class='xr-var-preview xr-preview'>nan nan 4.645 ... -6.668 -6.635</div><input id='attrs-ef99c3bf-da2e-467f-9787-4def4787afc9' class='xr-var-attrs-in' type='checkbox' ><label for='attrs-ef99c3bf-da2e-467f-9787-4def4787afc9' title='Show/Hide attributes'><svg class='icon xr-icon-file-text2'><use xlink:href='#icon-file-text2'></use></svg></label><input id='data-d0e31ba1-4fd2-4c8c-9c22-1d610b026f8b' class='xr-var-data-in' type='checkbox'><label for='data-d0e31ba1-4fd2-4c8c-9c22-1d610b026f8b' title='Show/Hide data repr'><svg class='icon xr-icon-database'><use xlink:href='#icon-database'></use></svg></label><div class='xr-var-attrs'><dl class='xr-attrs'><dt><span>statistic :</span></dt><dd>Running mean over 120 min</dd></dl></div><div class='xr-var-data'><pre>array([        nan,         nan,  4.64546955, ..., -6.14749234,\n",
       "       -6.66832284, -6.6354092 ])</pre></div></li><li class='xr-var-item'><div class='xr-var-name'><span>std_U10N_y</span></div><div class='xr-var-dims'>(count)</div><div class='xr-var-dtype'>float64</div><div class='xr-var-preview xr-preview'>nan nan 0.38 ... 0.9654 0.9239</div><input id='attrs-39b5ba14-58ef-493c-a0ed-72676568966d' class='xr-var-attrs-in' type='checkbox' ><label for='attrs-39b5ba14-58ef-493c-a0ed-72676568966d' title='Show/Hide attributes'><svg class='icon xr-icon-file-text2'><use xlink:href='#icon-file-text2'></use></svg></label><input id='data-8914c84b-1f25-478e-99de-0124ff78deae' class='xr-var-data-in' type='checkbox'><label for='data-8914c84b-1f25-478e-99de-0124ff78deae' title='Show/Hide data repr'><svg class='icon xr-icon-database'><use xlink:href='#icon-database'></use></svg></label><div class='xr-var-attrs'><dl class='xr-attrs'><dt><span>statistic :</span></dt><dd>Running std dev over 120 min</dd></dl></div><div class='xr-var-data'><pre>array([       nan,        nan, 0.38004436, ..., 0.47804559, 0.96543855,\n",
       "       0.92388102])</pre></div></li><li class='xr-var-item'><div class='xr-var-name'><span>mean_cosWDIR</span></div><div class='xr-var-dims'>(count)</div><div class='xr-var-dtype'>float64</div><div class='xr-var-preview xr-preview'>nan nan -0.6411 ... -0.8104 -0.8144</div><input id='attrs-0c357fc4-63e5-4849-8dd5-fc32401369ca' class='xr-var-attrs-in' type='checkbox' ><label for='attrs-0c357fc4-63e5-4849-8dd5-fc32401369ca' title='Show/Hide attributes'><svg class='icon xr-icon-file-text2'><use xlink:href='#icon-file-text2'></use></svg></label><input id='data-52c3f1d2-5d7f-49d6-bbbd-8d7a3895b753' class='xr-var-data-in' type='checkbox'><label for='data-52c3f1d2-5d7f-49d6-bbbd-8d7a3895b753' title='Show/Hide data repr'><svg class='icon xr-icon-database'><use xlink:href='#icon-database'></use></svg></label><div class='xr-var-attrs'><dl class='xr-attrs'><dt><span>statistic :</span></dt><dd>Running mean over 120 min</dd></dl></div><div class='xr-var-data'><pre>array([        nan,         nan, -0.64109273, ..., -0.81630263,\n",
       "       -0.81042451, -0.8144422 ])</pre></div></li><li class='xr-var-item'><div class='xr-var-name'><span>std_cosWDIR</span></div><div class='xr-var-dims'>(count)</div><div class='xr-var-dtype'>float64</div><div class='xr-var-preview xr-preview'>nan nan 0.0471 ... 0.05175 0.04898</div><input id='attrs-81e626ec-aa79-464e-89e8-99cd3947f0b4' class='xr-var-attrs-in' type='checkbox' ><label for='attrs-81e626ec-aa79-464e-89e8-99cd3947f0b4' title='Show/Hide attributes'><svg class='icon xr-icon-file-text2'><use xlink:href='#icon-file-text2'></use></svg></label><input id='data-4a4cc8c8-6714-4954-af9c-92670e3d855e' class='xr-var-data-in' type='checkbox'><label for='data-4a4cc8c8-6714-4954-af9c-92670e3d855e' title='Show/Hide data repr'><svg class='icon xr-icon-database'><use xlink:href='#icon-database'></use></svg></label><div class='xr-var-attrs'><dl class='xr-attrs'><dt><span>statistic :</span></dt><dd>Running std dev over 120 min</dd></dl></div><div class='xr-var-data'><pre>array([       nan,        nan, 0.04710006, ..., 0.03290813, 0.05174885,\n",
       "       0.04897555])</pre></div></li><li class='xr-var-item'><div class='xr-var-name'><span>mean_sinWDIR</span></div><div class='xr-var-dims'>(count)</div><div class='xr-var-dtype'>float64</div><div class='xr-var-preview xr-preview'>nan nan 0.765 ... -0.579 -0.574</div><input id='attrs-276bec21-e0d7-496e-800b-99f6117ecd23' class='xr-var-attrs-in' type='checkbox' ><label for='attrs-276bec21-e0d7-496e-800b-99f6117ecd23' title='Show/Hide attributes'><svg class='icon xr-icon-file-text2'><use xlink:href='#icon-file-text2'></use></svg></label><input id='data-cb736b5b-49b3-4258-b063-4fe077623599' class='xr-var-data-in' type='checkbox'><label for='data-cb736b5b-49b3-4258-b063-4fe077623599' title='Show/Hide data repr'><svg class='icon xr-icon-database'><use xlink:href='#icon-database'></use></svg></label><div class='xr-var-attrs'><dl class='xr-attrs'><dt><span>statistic :</span></dt><dd>Running mean over 120 min</dd></dl></div><div class='xr-var-data'><pre>array([        nan,         nan,  0.76495054, ..., -0.57477475,\n",
       "       -0.5789722 , -0.57399301])</pre></div></li><li class='xr-var-item'><div class='xr-var-name'><span>std_sinWDIR</span></div><div class='xr-var-dims'>(count)</div><div class='xr-var-dtype'>float64</div><div class='xr-var-preview xr-preview'>nan nan 0.0404 ... 0.07298 0.06941</div><input id='attrs-c9ec83a9-2ac7-4e84-b0b9-41a90bd890a7' class='xr-var-attrs-in' type='checkbox' ><label for='attrs-c9ec83a9-2ac7-4e84-b0b9-41a90bd890a7' title='Show/Hide attributes'><svg class='icon xr-icon-file-text2'><use xlink:href='#icon-file-text2'></use></svg></label><input id='data-11f36f3c-6422-42f1-af24-5dbec24e8298' class='xr-var-data-in' type='checkbox'><label for='data-11f36f3c-6422-42f1-af24-5dbec24e8298' title='Show/Hide data repr'><svg class='icon xr-icon-database'><use xlink:href='#icon-database'></use></svg></label><div class='xr-var-attrs'><dl class='xr-attrs'><dt><span>statistic :</span></dt><dd>Running std dev over 120 min</dd></dl></div><div class='xr-var-data'><pre>array([       nan,        nan, 0.04040255, ..., 0.04691573, 0.07297512,\n",
       "       0.0694069 ])</pre></div></li><li class='xr-var-item'><div class='xr-var-name'><span>LATITUDE</span></div><div class='xr-var-dims'>(count)</div><div class='xr-var-dtype'>float64</div><div class='xr-var-preview xr-preview'>-8.0 -8.0 -8.0 -8.0 ... 9.0 9.0 9.0</div><input id='attrs-05a45564-d9d2-461a-a851-83c56594952f' class='xr-var-attrs-in' type='checkbox' disabled><label for='attrs-05a45564-d9d2-461a-a851-83c56594952f' title='Show/Hide attributes'><svg class='icon xr-icon-file-text2'><use xlink:href='#icon-file-text2'></use></svg></label><input id='data-10bf3d43-d651-463d-aaa2-0ab16f862c83' class='xr-var-data-in' type='checkbox'><label for='data-10bf3d43-d651-463d-aaa2-0ab16f862c83' title='Show/Hide data repr'><svg class='icon xr-icon-database'><use xlink:href='#icon-database'></use></svg></label><div class='xr-var-attrs'><dl class='xr-attrs'></dl></div><div class='xr-var-data'><pre>array([-8., -8., -8., ...,  9.,  9.,  9.])</pre></div></li><li class='xr-var-item'><div class='xr-var-name'><span>LONGITUDE</span></div><div class='xr-var-dims'>(count)</div><div class='xr-var-dtype'>float64</div><div class='xr-var-preview xr-preview'>265.0 265.0 265.0 ... 220.0 220.0</div><input id='attrs-3ed63150-76fb-41ca-be81-c378ac26403d' class='xr-var-attrs-in' type='checkbox' disabled><label for='attrs-3ed63150-76fb-41ca-be81-c378ac26403d' title='Show/Hide attributes'><svg class='icon xr-icon-file-text2'><use xlink:href='#icon-file-text2'></use></svg></label><input id='data-fd2b664a-cb25-4b24-8cd0-b9798611ffa2' class='xr-var-data-in' type='checkbox'><label for='data-fd2b664a-cb25-4b24-8cd0-b9798611ffa2' title='Show/Hide data repr'><svg class='icon xr-icon-database'><use xlink:href='#icon-database'></use></svg></label><div class='xr-var-attrs'><dl class='xr-attrs'></dl></div><div class='xr-var-data'><pre>array([265., 265., 265., ..., 220., 220., 220.])</pre></div></li><li class='xr-var-item'><div class='xr-var-name'><span>TAO_TIME</span></div><div class='xr-var-dims'>(count)</div><div class='xr-var-dtype'>datetime64[ns]</div><div class='xr-var-preview xr-preview'>2000-01-01T00:30:00 ... 2006-12-...</div><input id='attrs-bdd36c09-c395-4d86-8df1-9ca0fa907cf9' class='xr-var-attrs-in' type='checkbox' disabled><label for='attrs-bdd36c09-c395-4d86-8df1-9ca0fa907cf9' title='Show/Hide attributes'><svg class='icon xr-icon-file-text2'><use xlink:href='#icon-file-text2'></use></svg></label><input id='data-d924f9e7-2037-49bc-86be-b4ac36ebf8a7' class='xr-var-data-in' type='checkbox'><label for='data-d924f9e7-2037-49bc-86be-b4ac36ebf8a7' title='Show/Hide data repr'><svg class='icon xr-icon-database'><use xlink:href='#icon-database'></use></svg></label><div class='xr-var-attrs'><dl class='xr-attrs'></dl></div><div class='xr-var-data'><pre>array([&#x27;2000-01-01T00:30:00.000000000&#x27;, &#x27;2000-01-01T00:40:00.000000000&#x27;,\n",
       "       &#x27;2000-01-02T23:39:59.000000000&#x27;, ...,\n",
       "       &#x27;2006-12-31T03:40:00.000000000&#x27;, &#x27;2006-12-31T14:39:59.000000000&#x27;,\n",
       "       &#x27;2006-12-31T14:50:00.000000000&#x27;], dtype=&#x27;datetime64[ns]&#x27;)</pre></div></li><li class='xr-var-item'><div class='xr-var-name'><span>Deployment index</span></div><div class='xr-var-dims'>(count)</div><div class='xr-var-dtype'>int64</div><div class='xr-var-preview xr-preview'>0 0 0 0 0 0 0 ... 10 10 10 10 10 10</div><input id='attrs-1252be07-eb82-4f5b-b9ad-c1b01bd1e316' class='xr-var-attrs-in' type='checkbox' disabled><label for='attrs-1252be07-eb82-4f5b-b9ad-c1b01bd1e316' title='Show/Hide attributes'><svg class='icon xr-icon-file-text2'><use xlink:href='#icon-file-text2'></use></svg></label><input id='data-a96059dd-4229-4b22-a80e-0595f1e085cb' class='xr-var-data-in' type='checkbox'><label for='data-a96059dd-4229-4b22-a80e-0595f1e085cb' title='Show/Hide data repr'><svg class='icon xr-icon-database'><use xlink:href='#icon-database'></use></svg></label><div class='xr-var-attrs'><dl class='xr-attrs'></dl></div><div class='xr-var-data'><pre>array([ 0,  0,  0, ..., 10, 10, 10])</pre></div></li><li class='xr-var-item'><div class='xr-var-name'><span>retrieved_wind_speed</span></div><div class='xr-var-dims'>(count)</div><div class='xr-var-dtype'>float64</div><div class='xr-var-preview xr-preview'>5.747 5.668 6.113 ... 10.72 10.4</div><input id='attrs-67630e1a-efa4-4b29-acbb-b09a53d16ea1' class='xr-var-attrs-in' type='checkbox' ><label for='attrs-67630e1a-efa4-4b29-acbb-b09a53d16ea1' title='Show/Hide attributes'><svg class='icon xr-icon-file-text2'><use xlink:href='#icon-file-text2'></use></svg></label><input id='data-78ab947b-b557-41fd-ae75-cb1c21194eba' class='xr-var-data-in' type='checkbox'><label for='data-78ab947b-b557-41fd-ae75-cb1c21194eba' title='Show/Hide data repr'><svg class='icon xr-icon-database'><use xlink:href='#icon-database'></use></svg></label><div class='xr-var-attrs'><dl class='xr-attrs'><dt><span>valid_min :</span></dt><dd>0.0</dd><dt><span>valid_max :</span></dt><dd>100.0</dd><dt><span>long_name :</span></dt><dd>equivalent neutral wind speed at 10 m</dd><dt><span>standard_name :</span></dt><dd>wind_speed</dd><dt><span>units :</span></dt><dd>m s-1</dd></dl></div><div class='xr-var-data'><pre>array([ 5.74713993,  5.66831589,  6.11264515, ..., 11.34207726,\n",
       "       10.7228632 , 10.39846039])</pre></div></li><li class='xr-var-item'><div class='xr-var-name'><span>retrieved_wind_direction</span></div><div class='xr-var-dims'>(count)</div><div class='xr-var-dtype'>float64</div><div class='xr-var-preview xr-preview'>325.6 324.5 323.7 ... 245.0 245.2</div><input id='attrs-0917f097-1125-46eb-b1db-f1fe4399f732' class='xr-var-attrs-in' type='checkbox' ><label for='attrs-0917f097-1125-46eb-b1db-f1fe4399f732' title='Show/Hide attributes'><svg class='icon xr-icon-file-text2'><use xlink:href='#icon-file-text2'></use></svg></label><input id='data-32ddefa0-f805-4c57-8eed-0e7b8b93863d' class='xr-var-data-in' type='checkbox'><label for='data-32ddefa0-f805-4c57-8eed-0e7b8b93863d' title='Show/Hide data repr'><svg class='icon xr-icon-database'><use xlink:href='#icon-database'></use></svg></label><div class='xr-var-attrs'><dl class='xr-attrs'><dt><span>valid_min :</span></dt><dd>0.0</dd><dt><span>valid_max :</span></dt><dd>360.0</dd><dt><span>long_name :</span></dt><dd>equivalent neutral wind direction at 10 m</dd><dt><span>standard_name :</span></dt><dd>wind_to_direction</dd><dt><span>units :</span></dt><dd>degrees</dd></dl></div><div class='xr-var-data'><pre>array([325.64883423, 324.49713135, 323.7119751 , ..., 239.64068604,\n",
       "       244.9931488 , 245.19697571])</pre></div></li><li class='xr-var-item'><div class='xr-var-name'><span>rain_impact</span></div><div class='xr-var-dims'>(count)</div><div class='xr-var-dtype'>float64</div><div class='xr-var-preview xr-preview'>1.072 1.078 0.499 ... 1.705 nan nan</div><input id='attrs-0357c0a8-77bf-4759-b9c9-dfe10038d0dc' class='xr-var-attrs-in' type='checkbox' ><label for='attrs-0357c0a8-77bf-4759-b9c9-dfe10038d0dc' title='Show/Hide attributes'><svg class='icon xr-icon-file-text2'><use xlink:href='#icon-file-text2'></use></svg></label><input id='data-1139968e-a3ec-46af-ad5d-45b9c87c5f86' class='xr-var-data-in' type='checkbox'><label for='data-1139968e-a3ec-46af-ad5d-45b9c87c5f86' title='Show/Hide data repr'><svg class='icon xr-icon-database'><use xlink:href='#icon-database'></use></svg></label><div class='xr-var-attrs'><dl class='xr-attrs'><dt><span>valid_min :</span></dt><dd>0.0</dd><dt><span>valid_max :</span></dt><dd>100.0</dd><dt><span>long_name :</span></dt><dd>impact of rain upon wind vector retrieval</dd><dt><span>units :</span></dt><dd>1</dd></dl></div><div class='xr-var-data'><pre>array([1.07222676, 1.07760262, 0.49902362, ..., 1.70458293,        nan,\n",
       "              nan])</pre></div></li><li class='xr-var-item'><div class='xr-var-name'><span>flags</span></div><div class='xr-var-dims'>(count)</div><div class='xr-var-dtype'>float64</div><div class='xr-var-preview xr-preview'>0.0 0.0 0.0 ... 1.638e+04 1.638e+04</div><input id='attrs-9d7e0843-b2ba-4555-887a-979f4de1ac44' class='xr-var-attrs-in' type='checkbox' ><label for='attrs-9d7e0843-b2ba-4555-887a-979f4de1ac44' title='Show/Hide attributes'><svg class='icon xr-icon-file-text2'><use xlink:href='#icon-file-text2'></use></svg></label><input id='data-63af6f00-89a0-4f2c-8ec2-e64e2e8ab7de' class='xr-var-data-in' type='checkbox'><label for='data-63af6f00-89a0-4f2c-8ec2-e64e2e8ab7de' title='Show/Hide data repr'><svg class='icon xr-icon-database'><use xlink:href='#icon-database'></use></svg></label><div class='xr-var-attrs'><dl class='xr-attrs'><dt><span>valid_min :</span></dt><dd>0</dd><dt><span>long_name :</span></dt><dd>wind vector cell quality flags</dd><dt><span>units :</span></dt><dd>bit</dd><dt><span>flag_masks :</span></dt><dd>1s, 2s, 32s, 64s, 128s, 256s, 512s, 1024s, 2048s, 4096s, 8192s, 16384s</dd><dt><span>flag_meanings :</span></dt><dd>adequate_sigma0_flag adequate_azimuth_diversity_flag poor_coastal_processing_flag wind_retrieval_likely_corrupted_flag coastal_flag ice_edge_flag winds_not_retrieved_flag high_wind_speed_flag low_wind_speed_flag rain_impact_flag_not_usable_flag rain_impact_flag missing_look_flag </dd><dt><span>valid_max :</span></dt><dd>32739.0</dd></dl></div><div class='xr-var-data'><pre>array([    0.,     0.,     0., ...,     0., 16384., 16384.])</pre></div></li><li class='xr-var-item'><div class='xr-var-name'><span>eflags</span></div><div class='xr-var-dims'>(count)</div><div class='xr-var-dtype'>float64</div><div class='xr-var-preview xr-preview'>5.0 5.0 5.0 ... 4.357e+03 5.0 5.0</div><input id='attrs-2756c372-7e92-48ad-b704-8a0afdaac1e1' class='xr-var-attrs-in' type='checkbox' ><label for='attrs-2756c372-7e92-48ad-b704-8a0afdaac1e1' title='Show/Hide attributes'><svg class='icon xr-icon-file-text2'><use xlink:href='#icon-file-text2'></use></svg></label><input id='data-0909d18e-a3e6-4412-9f35-4567d5ca7dea' class='xr-var-data-in' type='checkbox'><label for='data-0909d18e-a3e6-4412-9f35-4567d5ca7dea' title='Show/Hide data repr'><svg class='icon xr-icon-database'><use xlink:href='#icon-database'></use></svg></label><div class='xr-var-attrs'><dl class='xr-attrs'><dt><span>valid_min :</span></dt><dd>0</dd><dt><span>long_name :</span></dt><dd>extended wind vector cell quality flags</dd><dt><span>units :</span></dt><dd>bit</dd><dt><span>flag_masks :</span></dt><dd>1s, 2s, 4s, 8s, 16s, 64s, 256s, 512s, 1024s, 2048s, 4096s</dd><dt><span>flag_meanings :</span></dt><dd>rain_correction_not_applied_flag correction_produced_negative_spd_flag all_ambiguities_contribute_to_nudging_flag large_rain_correction_flag coastal_processing_applied_flag lake_winds_flag rain_nearby_flag ice_nearby_flag significant_rain_correction_flag rain_correction_applied_flag wind_retrieval_possibly_corrupted_flag </dd><dt><span>valid_max :</span></dt><dd>7967.0</dd></dl></div><div class='xr-var-data'><pre>array([   5.,    5.,    5., ..., 4357.,    5.,    5.])</pre></div></li><li class='xr-var-item'><div class='xr-var-name'><span>nudge_wind_speed</span></div><div class='xr-var-dims'>(count)</div><div class='xr-var-dtype'>float64</div><div class='xr-var-preview xr-preview'>6.523 6.494 6.912 ... 14.83 14.73</div><input id='attrs-7442574b-7eae-44c8-9f05-9152fce011e3' class='xr-var-attrs-in' type='checkbox' ><label for='attrs-7442574b-7eae-44c8-9f05-9152fce011e3' title='Show/Hide attributes'><svg class='icon xr-icon-file-text2'><use xlink:href='#icon-file-text2'></use></svg></label><input id='data-d249220e-1409-4a4b-8505-8a5981288af4' class='xr-var-data-in' type='checkbox'><label for='data-d249220e-1409-4a4b-8505-8a5981288af4' title='Show/Hide data repr'><svg class='icon xr-icon-database'><use xlink:href='#icon-database'></use></svg></label><div class='xr-var-attrs'><dl class='xr-attrs'><dt><span>valid_min :</span></dt><dd>0.0</dd><dt><span>valid_max :</span></dt><dd>100.0</dd><dt><span>long_name :</span></dt><dd>model wind speed</dd><dt><span>standard_name :</span></dt><dd>wind_speed</dd><dt><span>units :</span></dt><dd>m s-1</dd></dl></div><div class='xr-var-data'><pre>array([ 6.52293968,  6.4937892 ,  6.91178417, ..., 13.18385124,\n",
       "       14.82970619, 14.7305584 ])</pre></div></li><li class='xr-var-item'><div class='xr-var-name'><span>nudge_wind_direction</span></div><div class='xr-var-dims'>(count)</div><div class='xr-var-dtype'>float64</div><div class='xr-var-preview xr-preview'>320.2 319.8 314.1 ... 238.9 239.7</div><input id='attrs-3516eba4-7ad9-4363-a5c5-c8cf3ad96249' class='xr-var-attrs-in' type='checkbox' ><label for='attrs-3516eba4-7ad9-4363-a5c5-c8cf3ad96249' title='Show/Hide attributes'><svg class='icon xr-icon-file-text2'><use xlink:href='#icon-file-text2'></use></svg></label><input id='data-a7626388-bdd1-4063-9e56-87b3254acc95' class='xr-var-data-in' type='checkbox'><label for='data-a7626388-bdd1-4063-9e56-87b3254acc95' title='Show/Hide data repr'><svg class='icon xr-icon-database'><use xlink:href='#icon-database'></use></svg></label><div class='xr-var-attrs'><dl class='xr-attrs'><dt><span>valid_min :</span></dt><dd>0.0</dd><dt><span>valid_max :</span></dt><dd>360.0</dd><dt><span>long_name :</span></dt><dd>model wind direction</dd><dt><span>standard_name :</span></dt><dd>wind_to_direction</dd><dt><span>units :</span></dt><dd>degrees</dd></dl></div><div class='xr-var-data'><pre>array([320.18499756, 319.81256104, 314.10400391, ..., 241.25445557,\n",
       "       238.90667725, 239.68109131])</pre></div></li><li class='xr-var-item'><div class='xr-var-name'><span>retrieved_wind_speed_uncorrected</span></div><div class='xr-var-dims'>(count)</div><div class='xr-var-dtype'>float64</div><div class='xr-var-preview xr-preview'>5.731 5.652 6.062 ... 10.8 10.47</div><input id='attrs-2d77442e-4b77-4ce8-84de-8694353b04b8' class='xr-var-attrs-in' type='checkbox' ><label for='attrs-2d77442e-4b77-4ce8-84de-8694353b04b8' title='Show/Hide attributes'><svg class='icon xr-icon-file-text2'><use xlink:href='#icon-file-text2'></use></svg></label><input id='data-dde65b21-4b37-40c2-8c2c-a25e8dacab30' class='xr-var-data-in' type='checkbox'><label for='data-dde65b21-4b37-40c2-8c2c-a25e8dacab30' title='Show/Hide data repr'><svg class='icon xr-icon-database'><use xlink:href='#icon-database'></use></svg></label><div class='xr-var-attrs'><dl class='xr-attrs'><dt><span>valid_min :</span></dt><dd>0.0</dd><dt><span>valid_max :</span></dt><dd>100.0</dd><dt><span>long_name :</span></dt><dd>wind speed without rain correction</dd><dt><span>standard_name :</span></dt><dd>wind_speed</dd><dt><span>units :</span></dt><dd>m s-1</dd></dl></div><div class='xr-var-data'><pre>array([ 5.73101044,  5.65238953,  6.06196022, ..., 11.37376404,\n",
       "       10.80009842, 10.46974468])</pre></div></li><li class='xr-var-item'><div class='xr-var-name'><span>cross_track_wind_speed_bias</span></div><div class='xr-var-dims'>(count)</div><div class='xr-var-dtype'>float64</div><div class='xr-var-preview xr-preview'>-0.01613 -0.01593 ... 0.07128</div><input id='attrs-03627a01-2feb-4d67-8126-c9eb175af362' class='xr-var-attrs-in' type='checkbox' ><label for='attrs-03627a01-2feb-4d67-8126-c9eb175af362' title='Show/Hide attributes'><svg class='icon xr-icon-file-text2'><use xlink:href='#icon-file-text2'></use></svg></label><input id='data-e07acab6-b81e-42a9-b467-b624ab754aa9' class='xr-var-data-in' type='checkbox'><label for='data-e07acab6-b81e-42a9-b467-b624ab754aa9' title='Show/Hide data repr'><svg class='icon xr-icon-database'><use xlink:href='#icon-database'></use></svg></label><div class='xr-var-attrs'><dl class='xr-attrs'><dt><span>valid_min :</span></dt><dd>-100.0</dd><dt><span>valid_max :</span></dt><dd>100.0</dd><dt><span>long_name :</span></dt><dd>relative wind speed bias with respect to sweet spot</dd><dt><span>units :</span></dt><dd>m s-1</dd></dl></div><div class='xr-var-data'><pre>array([-0.01612943, -0.01592638, -0.05068475, ...,  0.03168708,\n",
       "        0.077235  ,  0.07128464])</pre></div></li><li class='xr-var-item'><div class='xr-var-name'><span>atmospheric_speed_bias</span></div><div class='xr-var-dims'>(count)</div><div class='xr-var-dtype'>float64</div><div class='xr-var-preview xr-preview'>0.0 0.0 ... 2.235e-07 -3.502e-07</div><input id='attrs-7ec03d61-395d-4d51-b126-9eab372fdb5f' class='xr-var-attrs-in' type='checkbox' ><label for='attrs-7ec03d61-395d-4d51-b126-9eab372fdb5f' title='Show/Hide attributes'><svg class='icon xr-icon-file-text2'><use xlink:href='#icon-file-text2'></use></svg></label><input id='data-2a13ee40-4899-4e73-9f21-008a6e5819ed' class='xr-var-data-in' type='checkbox'><label for='data-2a13ee40-4899-4e73-9f21-008a6e5819ed' title='Show/Hide data repr'><svg class='icon xr-icon-database'><use xlink:href='#icon-database'></use></svg></label><div class='xr-var-attrs'><dl class='xr-attrs'><dt><span>valid_min :</span></dt><dd>-100.0</dd><dt><span>valid_max :</span></dt><dd>100.0</dd><dt><span>long_name :</span></dt><dd>atmospheric speed bias</dd><dt><span>units :</span></dt><dd>m s-1</dd></dl></div><div class='xr-var-data'><pre>array([ 0.00000000e+00,  0.00000000e+00,  0.00000000e+00, ...,\n",
       "        0.00000000e+00,  2.23517418e-07, -3.50177288e-07])</pre></div></li><li class='xr-var-item'><div class='xr-var-name'><span>wind_obj</span></div><div class='xr-var-dims'>(count)</div><div class='xr-var-dtype'>float64</div><div class='xr-var-preview xr-preview'>0.1073 0.087 ... 0.01674 0.01587</div><input id='attrs-986e0a35-bc6d-4ede-b08c-be007bd2d3a4' class='xr-var-attrs-in' type='checkbox' ><label for='attrs-986e0a35-bc6d-4ede-b08c-be007bd2d3a4' title='Show/Hide attributes'><svg class='icon xr-icon-file-text2'><use xlink:href='#icon-file-text2'></use></svg></label><input id='data-8d1c8357-9a54-4512-8bb8-b3ded889212f' class='xr-var-data-in' type='checkbox'><label for='data-8d1c8357-9a54-4512-8bb8-b3ded889212f' title='Show/Hide data repr'><svg class='icon xr-icon-database'><use xlink:href='#icon-database'></use></svg></label><div class='xr-var-attrs'><dl class='xr-attrs'><dt><span>valid_min :</span></dt><dd>-199.0</dd><dt><span>valid_max :</span></dt><dd>0.0</dd><dt><span>long_name :</span></dt><dd>retrieved wind objective function value</dd><dt><span>units :</span></dt><dd>1</dd></dl></div><div class='xr-var-data'><pre>array([0.10725126, 0.08699517, 0.0497636 , ..., 0.09845505, 0.01673897,\n",
       "       0.01586828])</pre></div></li><li class='xr-var-item'><div class='xr-var-name'><span>ambiguity_speed</span></div><div class='xr-var-dims'>(count)</div><div class='xr-var-dtype'>float64</div><div class='xr-var-preview xr-preview'>5.767 5.494 5.977 ... 17.1 9.071</div><input id='attrs-17339183-9fc3-4851-a509-6de1e114d6c5' class='xr-var-attrs-in' type='checkbox' ><label for='attrs-17339183-9fc3-4851-a509-6de1e114d6c5' title='Show/Hide attributes'><svg class='icon xr-icon-file-text2'><use xlink:href='#icon-file-text2'></use></svg></label><input id='data-fc0302e6-529e-475c-92d4-c4bb6ccc9f50' class='xr-var-data-in' type='checkbox'><label for='data-fc0302e6-529e-475c-92d4-c4bb6ccc9f50' title='Show/Hide data repr'><svg class='icon xr-icon-database'><use xlink:href='#icon-database'></use></svg></label><div class='xr-var-attrs'><dl class='xr-attrs'><dt><span>valid_min :</span></dt><dd>0.0</dd><dt><span>valid_max :</span></dt><dd>100.0</dd><dt><span>long_name :</span></dt><dd>wind speed ambiguity</dd><dt><span>standard_name :</span></dt><dd>wind_speed</dd><dt><span>units :</span></dt><dd>m s-1</dd></dl></div><div class='xr-var-data'><pre>array([ 5.76710033,  5.49435282,  5.9770298 , ..., 11.25006771,\n",
       "       17.10026169,  9.07145119])</pre></div></li><li class='xr-var-item'><div class='xr-var-name'><span>ambiguity_direction</span></div><div class='xr-var-dims'>(count)</div><div class='xr-var-dtype'>float64</div><div class='xr-var-preview xr-preview'>327.7 317.2 318.8 ... 173.3 78.11</div><input id='attrs-d3655ced-21c6-40ab-abd3-c4f1de9b31a3' class='xr-var-attrs-in' type='checkbox' ><label for='attrs-d3655ced-21c6-40ab-abd3-c4f1de9b31a3' title='Show/Hide attributes'><svg class='icon xr-icon-file-text2'><use xlink:href='#icon-file-text2'></use></svg></label><input id='data-4cb51efb-132f-4bb8-9741-639b1865b5c6' class='xr-var-data-in' type='checkbox'><label for='data-4cb51efb-132f-4bb8-9741-639b1865b5c6' title='Show/Hide data repr'><svg class='icon xr-icon-database'><use xlink:href='#icon-database'></use></svg></label><div class='xr-var-attrs'><dl class='xr-attrs'><dt><span>valid_min :</span></dt><dd>0.0</dd><dt><span>valid_max :</span></dt><dd>360.0</dd><dt><span>long_name :</span></dt><dd>wind direction ambiguity</dd><dt><span>standard_name :</span></dt><dd>wind_to_direction</dd><dt><span>units :</span></dt><dd>degrees</dd></dl></div><div class='xr-var-data'><pre>array([327.68600464, 317.24383545, 318.76495361, ..., 236.1322937 ,\n",
       "       173.269104  ,  78.11132812])</pre></div></li><li class='xr-var-item'><div class='xr-var-name'><span>ambiguity_obj</span></div><div class='xr-var-dims'>(count)</div><div class='xr-var-dtype'>float64</div><div class='xr-var-preview xr-preview'>-7.794 -5.386 ... -3.435 -3.088</div><input id='attrs-ed52af5f-6a6e-4b4a-97af-0f5f04786eba' class='xr-var-attrs-in' type='checkbox' ><label for='attrs-ed52af5f-6a6e-4b4a-97af-0f5f04786eba' title='Show/Hide attributes'><svg class='icon xr-icon-file-text2'><use xlink:href='#icon-file-text2'></use></svg></label><input id='data-5853dca3-adb6-46b4-b4d6-0c2354e48f76' class='xr-var-data-in' type='checkbox'><label for='data-5853dca3-adb6-46b4-b4d6-0c2354e48f76' title='Show/Hide data repr'><svg class='icon xr-icon-database'><use xlink:href='#icon-database'></use></svg></label><div class='xr-var-attrs'><dl class='xr-attrs'><dt><span>valid_min :</span></dt><dd>-199.0</dd><dt><span>valid_max :</span></dt><dd>0.0</dd><dt><span>long_name :</span></dt><dd>wind objective function values</dd><dt><span>units :</span></dt><dd>1</dd></dl></div><div class='xr-var-data'><pre>array([-7.79444647, -5.38567495, -5.76894426, ..., -4.03175211,\n",
       "       -3.43475318, -3.08847713])</pre></div></li><li class='xr-var-item'><div class='xr-var-name'><span>number_in_fore</span></div><div class='xr-var-dims'>(count)</div><div class='xr-var-dtype'>float64</div><div class='xr-var-preview xr-preview'>17.0 19.0 18.0 19.0 ... 8.0 nan nan</div><input id='attrs-b94fc8c9-8b24-4392-a4c3-9a9d253ee209' class='xr-var-attrs-in' type='checkbox' ><label for='attrs-b94fc8c9-8b24-4392-a4c3-9a9d253ee209' title='Show/Hide attributes'><svg class='icon xr-icon-file-text2'><use xlink:href='#icon-file-text2'></use></svg></label><input id='data-bf1ff4b5-f058-4bf8-a5a5-85f43cfde74d' class='xr-var-data-in' type='checkbox'><label for='data-bf1ff4b5-f058-4bf8-a5a5-85f43cfde74d' title='Show/Hide data repr'><svg class='icon xr-icon-database'><use xlink:href='#icon-database'></use></svg></label><div class='xr-var-attrs'><dl class='xr-attrs'><dt><span>valid_min :</span></dt><dd>1</dd><dt><span>valid_max :</span></dt><dd>127</dd><dt><span>long_name :</span></dt><dd>number of inner forward looks in wind vector cell</dd><dt><span>units :</span></dt><dd>1</dd></dl></div><div class='xr-var-data'><pre>array([17., 19., 18., ...,  8., nan, nan])</pre></div></li><li class='xr-var-item'><div class='xr-var-name'><span>number_in_aft</span></div><div class='xr-var-dims'>(count)</div><div class='xr-var-dtype'>float64</div><div class='xr-var-preview xr-preview'>17.0 17.0 29.0 27.0 ... 9.0 nan nan</div><input id='attrs-e838d053-0d34-4f46-afaf-a95c99324bc7' class='xr-var-attrs-in' type='checkbox' ><label for='attrs-e838d053-0d34-4f46-afaf-a95c99324bc7' title='Show/Hide attributes'><svg class='icon xr-icon-file-text2'><use xlink:href='#icon-file-text2'></use></svg></label><input id='data-4adeca47-8a85-46c5-87cd-8e2578b6be98' class='xr-var-data-in' type='checkbox'><label for='data-4adeca47-8a85-46c5-87cd-8e2578b6be98' title='Show/Hide data repr'><svg class='icon xr-icon-database'><use xlink:href='#icon-database'></use></svg></label><div class='xr-var-attrs'><dl class='xr-attrs'><dt><span>valid_min :</span></dt><dd>1</dd><dt><span>valid_max :</span></dt><dd>127</dd><dt><span>long_name :</span></dt><dd>number of inner aft looks in wind vector cell</dd><dt><span>units :</span></dt><dd>1</dd></dl></div><div class='xr-var-data'><pre>array([17., 17., 29., ...,  9., nan, nan])</pre></div></li><li class='xr-var-item'><div class='xr-var-name'><span>number_out_fore</span></div><div class='xr-var-dims'>(count)</div><div class='xr-var-dtype'>float64</div><div class='xr-var-preview xr-preview'>6.0 7.0 7.0 7.0 ... 6.0 16.0 14.0</div><input id='attrs-96250e27-a3b5-4029-b95c-112c1947fb60' class='xr-var-attrs-in' type='checkbox' ><label for='attrs-96250e27-a3b5-4029-b95c-112c1947fb60' title='Show/Hide attributes'><svg class='icon xr-icon-file-text2'><use xlink:href='#icon-file-text2'></use></svg></label><input id='data-21cea483-6ecb-4273-af33-51012a517558' class='xr-var-data-in' type='checkbox'><label for='data-21cea483-6ecb-4273-af33-51012a517558' title='Show/Hide data repr'><svg class='icon xr-icon-database'><use xlink:href='#icon-database'></use></svg></label><div class='xr-var-attrs'><dl class='xr-attrs'><dt><span>valid_min :</span></dt><dd>1</dd><dt><span>valid_max :</span></dt><dd>127</dd><dt><span>long_name :</span></dt><dd>number of outer forward looks in wind vector cell</dd><dt><span>units :</span></dt><dd>1</dd></dl></div><div class='xr-var-data'><pre>array([ 6.,  7.,  7., ...,  6., 16., 14.])</pre></div></li><li class='xr-var-item'><div class='xr-var-name'><span>number_out_aft</span></div><div class='xr-var-dims'>(count)</div><div class='xr-var-dtype'>float64</div><div class='xr-var-preview xr-preview'>8.0 7.0 9.0 9.0 ... 6.0 26.0 26.0</div><input id='attrs-46c969b8-569c-4a60-a222-fde5e0d9190e' class='xr-var-attrs-in' type='checkbox' ><label for='attrs-46c969b8-569c-4a60-a222-fde5e0d9190e' title='Show/Hide attributes'><svg class='icon xr-icon-file-text2'><use xlink:href='#icon-file-text2'></use></svg></label><input id='data-dc48ee78-f8bf-4167-9fca-9d22afb0e17a' class='xr-var-data-in' type='checkbox'><label for='data-dc48ee78-f8bf-4167-9fca-9d22afb0e17a' title='Show/Hide data repr'><svg class='icon xr-icon-database'><use xlink:href='#icon-database'></use></svg></label><div class='xr-var-attrs'><dl class='xr-attrs'><dt><span>valid_min :</span></dt><dd>1</dd><dt><span>valid_max :</span></dt><dd>127</dd><dt><span>long_name :</span></dt><dd>number of outer aft looks in wind vector cell</dd><dt><span>units :</span></dt><dd>1</dd></dl></div><div class='xr-var-data'><pre>array([ 8.,  7.,  9., ...,  6., 26., 26.])</pre></div></li><li class='xr-var-item'><div class='xr-var-name'><span>gmf_sst</span></div><div class='xr-var-dims'>(count)</div><div class='xr-var-dtype'>float64</div><div class='xr-var-preview xr-preview'>23.89 23.79 23.97 ... 27.22 26.45</div><input id='attrs-0e6f1e1a-2833-4aa0-bda4-78e5f2b50ac6' class='xr-var-attrs-in' type='checkbox' ><label for='attrs-0e6f1e1a-2833-4aa0-bda4-78e5f2b50ac6' title='Show/Hide attributes'><svg class='icon xr-icon-file-text2'><use xlink:href='#icon-file-text2'></use></svg></label><input id='data-95439625-8d0a-418e-9da7-1e84df9aff4b' class='xr-var-data-in' type='checkbox'><label for='data-95439625-8d0a-418e-9da7-1e84df9aff4b' title='Show/Hide data repr'><svg class='icon xr-icon-database'><use xlink:href='#icon-database'></use></svg></label><div class='xr-var-attrs'><dl class='xr-attrs'><dt><span>valid_min :</span></dt><dd>-1000.0</dd><dt><span>valid_max :</span></dt><dd>1000.0</dd><dt><span>long_name :</span></dt><dd>Sea Surface Temperature Used in Geophysical Model Function</dd><dt><span>comment :</span></dt><dd>Sea Surface Temperature from NCAR Optimum Interpolation V2 product used during wind retrieval.</dd><dt><span>units :</span></dt><dd>Degrees Celsius</dd></dl></div><div class='xr-var-data'><pre>array([23.89356995, 23.79214096, 23.96500015, ..., 27.27500153,\n",
       "       27.21500015, 26.45499992])</pre></div></li><li class='xr-var-item'><div class='xr-var-name'><span>distance_from_coast</span></div><div class='xr-var-dims'>(count)</div><div class='xr-var-dtype'>float64</div><div class='xr-var-preview xr-preview'>864.0 876.0 ... 1.874e+03 1.886e+03</div><input id='attrs-9a4c9034-36af-480d-bc30-586605a7468b' class='xr-var-attrs-in' type='checkbox' ><label for='attrs-9a4c9034-36af-480d-bc30-586605a7468b' title='Show/Hide attributes'><svg class='icon xr-icon-file-text2'><use xlink:href='#icon-file-text2'></use></svg></label><input id='data-8e7912ef-ed76-451a-b16a-1af14a0d01cf' class='xr-var-data-in' type='checkbox'><label for='data-8e7912ef-ed76-451a-b16a-1af14a0d01cf' title='Show/Hide data repr'><svg class='icon xr-icon-database'><use xlink:href='#icon-database'></use></svg></label><div class='xr-var-attrs'><dl class='xr-attrs'><dt><span>valid_min :</span></dt><dd>-25000.0</dd><dt><span>valid_max :</span></dt><dd>25000.0</dd><dt><span>long_name :</span></dt><dd>Distance from nearest coastline</dd><dt><span>units :</span></dt><dd>km</dd></dl></div><div class='xr-var-data'><pre>array([ 864.,  876.,  862., ..., 1873., 1874., 1886.])</pre></div></li><li class='xr-var-item'><div class='xr-var-name'><span>exp_bias_wrt_oceanward_neighbors</span></div><div class='xr-var-dims'>(count)</div><div class='xr-var-dtype'>float64</div><div class='xr-var-preview xr-preview'>0.0 0.0 0.0 0.0 ... 0.0 0.0 0.0 0.0</div><input id='attrs-bcc9a429-a8ad-477f-89b1-157dbc9efa0d' class='xr-var-attrs-in' type='checkbox' ><label for='attrs-bcc9a429-a8ad-477f-89b1-157dbc9efa0d' title='Show/Hide attributes'><svg class='icon xr-icon-file-text2'><use xlink:href='#icon-file-text2'></use></svg></label><input id='data-b604aff4-fbeb-4008-ac87-caa06fe8caed' class='xr-var-data-in' type='checkbox'><label for='data-b604aff4-fbeb-4008-ac87-caa06fe8caed' title='Show/Hide data repr'><svg class='icon xr-icon-database'><use xlink:href='#icon-database'></use></svg></label><div class='xr-var-attrs'><dl class='xr-attrs'><dt><span>valid_min :</span></dt><dd>-1000.0</dd><dt><span>valid_max :</span></dt><dd>1000.0</dd><dt><span>long_name :</span></dt><dd>expected bias with respect to oceanward neighboring cells</dd><dt><span>comment :</span></dt><dd>Expected bias between the current cell and geographically oceanward neighboring cells.</dd><dt><span>units :</span></dt><dd>m s-1</dd></dl></div><div class='xr-var-data'><pre>array([0., 0., 0., ..., 0., 0., 0.])</pre></div></li><li class='xr-var-item'><div class='xr-var-name'><span>QS_TIME</span></div><div class='xr-var-dims'>(count)</div><div class='xr-var-dtype'>datetime64[ns]</div><div class='xr-var-preview xr-preview'>2000-01-01T00:34:36.702752664 .....</div><input id='attrs-131c7821-366e-4639-b4f4-c9a4e79c2394' class='xr-var-attrs-in' type='checkbox' disabled><label for='attrs-131c7821-366e-4639-b4f4-c9a4e79c2394' title='Show/Hide attributes'><svg class='icon xr-icon-file-text2'><use xlink:href='#icon-file-text2'></use></svg></label><input id='data-dd10ce11-48ed-4a9e-b916-cd5dbf9dbfbc' class='xr-var-data-in' type='checkbox'><label for='data-dd10ce11-48ed-4a9e-b916-cd5dbf9dbfbc' title='Show/Hide data repr'><svg class='icon xr-icon-database'><use xlink:href='#icon-database'></use></svg></label><div class='xr-var-attrs'><dl class='xr-attrs'></dl></div><div class='xr-var-data'><pre>array([&#x27;2000-01-01T00:34:36.702752664&#x27;, &#x27;2000-01-01T00:34:38.570027512&#x27;,\n",
       "       &#x27;2000-01-02T23:44:31.511134320&#x27;, ...,\n",
       "       &#x27;2006-12-31T03:41:26.024466272&#x27;, &#x27;2006-12-31T14:43:25.589127008&#x27;,\n",
       "       &#x27;2006-12-31T14:43:27.455223232&#x27;], dtype=&#x27;datetime64[ns]&#x27;)</pre></div></li></ul></div></li><li class='xr-section-item'><input id='section-3458d961-59c9-4f58-94ec-869fc08b0bb5' class='xr-section-summary-in' type='checkbox'  ><label for='section-3458d961-59c9-4f58-94ec-869fc08b0bb5' class='xr-section-summary' >Indexes: <span>(1)</span></label><div class='xr-section-inline-details'></div><div class='xr-section-details'><ul class='xr-var-list'><li class='xr-var-item'><div class='xr-index-name'><div>count</div></div><div class='xr-index-preview'>PandasIndex</div><div></div><input id='index-e3cc1dd7-72a1-4350-9cd6-556fc05d536c' class='xr-index-data-in' type='checkbox'/><label for='index-e3cc1dd7-72a1-4350-9cd6-556fc05d536c' title='Show/Hide index repr'><svg class='icon xr-icon-database'><use xlink:href='#icon-database'></use></svg></label><div class='xr-index-data'><pre>PandasIndex(Index([     0,      1,      2,      3,      4,      5,      6,      7,      8,\n",
       "            9,\n",
       "       ...\n",
       "       184309, 184310, 184311, 184312, 184313, 184314, 184315, 184316, 184317,\n",
       "       184318],\n",
       "      dtype=&#x27;int64&#x27;, name=&#x27;count&#x27;, length=184319))</pre></div></li></ul></div></li><li class='xr-section-item'><input id='section-9db56773-a276-4bb6-9690-cd8ca9baf51f' class='xr-section-summary-in' type='checkbox' disabled ><label for='section-9db56773-a276-4bb6-9690-cd8ca9baf51f' class='xr-section-summary'  title='Expand/collapse section'>Attributes: <span>(0)</span></label><div class='xr-section-inline-details'></div><div class='xr-section-details'><dl class='xr-attrs'></dl></div></li></ul></div></div>"
      ],
      "text/plain": [
       "<xarray.Dataset>\n",
       "Dimensions:                           (count: 184319)\n",
       "Coordinates:\n",
       "  * count                             (count) int64 0 1 2 ... 184317 184318\n",
       "Data variables: (12/65)\n",
       "    WDIR                              (count) float32 123.6 128.2 ... 217.6\n",
       "    WDIR_QC                           (count) float32 2.0 2.0 2.0 ... 2.0 2.0\n",
       "    WDIR_DM                           (count) |S1 b'D' b'D' b'D' ... b'D' b'D'\n",
       "    WSPD                              (count) float32 5.39 5.3 ... 10.64 9.83\n",
       "    WSPD_QC                           (count) float32 2.0 2.0 2.0 ... 2.0 2.0\n",
       "    WSPD_DM                           (count) |S1 b'D' b'D' b'D' ... b'D' b'D'\n",
       "    ...                                ...\n",
       "    number_out_fore                   (count) float64 6.0 7.0 7.0 ... 16.0 14.0\n",
       "    number_out_aft                    (count) float64 8.0 7.0 9.0 ... 26.0 26.0\n",
       "    gmf_sst                           (count) float64 23.89 23.79 ... 26.45\n",
       "    distance_from_coast               (count) float64 864.0 876.0 ... 1.886e+03\n",
       "    exp_bias_wrt_oceanward_neighbors  (count) float64 0.0 0.0 0.0 ... 0.0 0.0\n",
       "    QS_TIME                           (count) datetime64[ns] 2000-01-01T00:34..."
      ]
     },
     "execution_count": 10,
     "metadata": {},
     "output_type": "execute_result"
    }
   ],
   "source": [
    "allDS"
   ]
  },
  {
   "cell_type": "code",
   "execution_count": 11,
   "id": "60464f25-0cc6-4c8d-82c3-e242466f322d",
   "metadata": {},
   "outputs": [],
   "source": [
    "extended_flag_meaning = ['rain_correction_not_applied_flag',\n",
    "'correction_produced_negative_spd_flag',\n",
    "'all_ambiguities_contribute_to_nudging_flag',\n",
    "'large_rain_correction_flag',\n",
    "'coastal_processing_applied_flag',\n",
    "'lake_winds_flag',\n",
    "'rain_nearby_flag',\n",
    "'ice_nearby_flag',\n",
    "'significant_rain_correction_flag',\n",
    "'rain_correction_applied_flag',\n",
    "'wind_retrieval_possibly_corrupted_flag']\n",
    "\n",
    "extended_flags = np.array(allDS['eflags'].to_numpy(), dtype=int)\n",
    "eflags = np.array(['{:016b}'.format(val) for val in extended_flags])\n",
    "rainCorrectionNotApplied = np.array([val[15] == '0' for val in eflags])\n",
    "rainCorrectionApplied = np.array([val[4] == '1' for val in eflags])\n",
    "significantRainCorrectionApplied = np.array([val[5] == '1' for val in eflags])\n",
    "largeRainCorrectionApplied = np.array([val[12] == '1' for val in eflags])\n",
    "rainMask = np.logical_or(rainCorrectionApplied, significantRainCorrectionApplied)\n",
    "rainMask = np.logical_or(rainMask, largeRainCorrectionApplied)\n",
    "rainMask = np.logical_or(rainMask, rainCorrectionNotApplied)"
   ]
  },
  {
   "cell_type": "code",
   "execution_count": 12,
   "id": "bff0032c-c0ee-4435-b97d-eafdf9c3af29",
   "metadata": {},
   "outputs": [
    {
     "data": {
      "text/plain": [
       "27364"
      ]
     },
     "execution_count": 12,
     "metadata": {},
     "output_type": "execute_result"
    }
   ],
   "source": [
    "np.sum(rainMask)"
   ]
  },
  {
   "cell_type": "code",
   "execution_count": 13,
   "id": "78d54c5a-a10b-4d79-ab60-a3f668dea5ef",
   "metadata": {},
   "outputs": [],
   "source": [
    "noRainMask = ~rainMask\n",
    "mask1 = np.isnan(allDS['mean_WSPD'].to_numpy())\n",
    "mask1 = np.logical_or(mask1, np.isnan(allDS['WSPD_10N'].to_numpy()))\n",
    "mask1 = np.logical_or(mask1, np.isnan(allDS['WDIR'].to_numpy()))\n",
    "mask1 = np.logical_or(mask1, np.isnan(allDS['retrieved_wind_speed'].to_numpy()))\n",
    "mask1 = np.logical_or(mask1, np.isnan(allDS['retrieved_wind_direction'].to_numpy()))\n",
    "# mask2 = np.isnan(allDS['mean_WDIR'].to_numpy())\n",
    "# mask3 = np.isnan(allDS['mean_SST'].to_numpy())\n",
    "# mask4 = np.isnan(allDS['mean_RELH'].to_numpy())\n",
    "# mask5 = np.isnan(allDS['mean_AIRT'].to_numpy())"
   ]
  },
  {
   "cell_type": "code",
   "execution_count": 14,
   "id": "7a88d5d3-c48e-4346-9a07-eb4932e6b9c2",
   "metadata": {},
   "outputs": [],
   "source": [
    "selectMask = np.logical_and(noRainMask, ~mask1)"
   ]
  },
  {
   "cell_type": "code",
   "execution_count": 15,
   "id": "1032e618-8b59-45a2-9ee1-1783290c1337",
   "metadata": {},
   "outputs": [
    {
     "data": {
      "text/plain": [
       "(156955, 148300)"
      ]
     },
     "execution_count": 15,
     "metadata": {},
     "output_type": "execute_result"
    }
   ],
   "source": [
    "np.sum(noRainMask), np.sum(selectMask)"
   ]
  },
  {
   "cell_type": "code",
   "execution_count": 16,
   "id": "f1f3efb0-7b02-4299-907b-6db50bf98157",
   "metadata": {},
   "outputs": [],
   "source": [
    "indices = selectMask.nonzero()[0]"
   ]
  },
  {
   "cell_type": "code",
   "execution_count": 17,
   "id": "4fd96e3e-5632-4bb2-873c-00f2d56c3b8d",
   "metadata": {},
   "outputs": [],
   "source": [
    "goodDataSet = allDS.sel(count=indices)"
   ]
  },
  {
   "cell_type": "code",
   "execution_count": 18,
   "id": "b1f31d47-baff-4d9b-ad4e-4110ea2862fb",
   "metadata": {},
   "outputs": [
    {
     "name": "stdout",
     "output_type": "stream",
     "text": [
      "std_WSPD 0\n",
      "std_cosWDIR 5\n",
      "std_sinWDIR 0\n",
      "std_SST 972\n",
      "std_AIRT 0\n",
      "std_SST - AIRT 0\n",
      "std_RELH 5\n"
     ]
    }
   ],
   "source": [
    "stdLabels = ['std_WSPD', 'std_cosWDIR', 'std_sinWDIR', 'std_SST', 'std_AIRT', 'std_SST - AIRT', 'std_RELH']\n",
    "for label in stdLabels:\n",
    "    mask = np.isnan(goodDataSet[label].to_numpy())\n",
    "    print(label, np.sum(mask))\n",
    "    goodDataSet[label] = xr.where(mask, 0.0, goodDataSet[label])"
   ]
  },
  {
   "cell_type": "code",
   "execution_count": 19,
   "id": "1735d6ac-b618-4cb8-85ab-38da48659269",
   "metadata": {},
   "outputs": [],
   "source": [
    "goodDataSet = goodDataSet.rename_vars({'WSPD':'Wind Speed (TAO)',\n",
    "                  'WDIR':'Wind Direction (TAO)',\n",
    "                  'UWND': 'Zonal Wind Speed (TAO)',\n",
    "                  'VWND': 'Meridional Wind Speed (TAO)',\n",
    "                  'SST': 'Sea Surface Temperature (TAO)',\n",
    "                  'RELH': 'Relative Humidity (TAO)',\n",
    "                  'AIRT': 'Air Temperature (TAO)',\n",
    "                  'WSPD_10N': 'Neutral Wind Speed at 10m (TAO)',\n",
    "                  'WSPD_10': 'Wind Speed at 10m (TAO)',\n",
    "                  'retrieved_wind_speed': 'Wind Speed (QuikSCAT)',\n",
    "                  'retrieved_wind_direction': 'Wind Direction (QuikSCAT)'})"
   ]
  },
  {
   "cell_type": "code",
   "execution_count": 20,
   "id": "faa78525-5a84-4808-bd21-1e547f602bbf",
   "metadata": {},
   "outputs": [],
   "source": [
    "df = goodDataSet.copy()"
   ]
  },
  {
   "cell_type": "code",
   "execution_count": 21,
   "id": "5bbc9741-dc28-423c-8853-1b1e1e361576",
   "metadata": {},
   "outputs": [],
   "source": [
    "df['Speed Difference (QuikSCAT - TAO)'] = df['Wind Speed (QuikSCAT)'] - df['Neutral Wind Speed at 10m (TAO)']\n",
    "\n",
    "## change true degrees to degrees where 0 deg mean east and 90 deg mean north \n",
    "#df['Wind Direction (TAO)'] = (-(df['Wind Direction (TAO)'] - 90.0) + 360)%360  ## TAO wind direction already fixed\n",
    "df['cos(Wind Direction (TAO)'] = np.cos(np.deg2rad(df['Wind Direction (TAO)']))\n",
    "df['sin(Wind Direction (TAO)'] = np.sin(np.deg2rad(df['Wind Direction (TAO)']))\n",
    "df['Wind Direction (QuikSCAT)'] = (-(df['Wind Direction (QuikSCAT)'] - 90.0) + 360)%360\n",
    "df['cos(Wind Direction (QuikSCAT)'] = np.cos(np.deg2rad(df['Wind Direction (QuikSCAT)']))\n",
    "df['sin(Wind Direction (QuikSCAT)'] = np.sin(np.deg2rad(df['Wind Direction (QuikSCAT)']))\n",
    "\n",
    "## calculate zonal and meridional winds \n",
    "df['Zonal Neutral Wind Speed (TAO)'] = df['Neutral Wind Speed at 10m (TAO)'] * np.cos(np.deg2rad(df['Wind Direction (TAO)']))\n",
    "df['Meridional Neutral Wind Speed (TAO)'] = df['Neutral Wind Speed at 10m (TAO)'] * np.sin(np.deg2rad(df['Wind Direction (TAO)']))\n",
    "\n",
    "df['Zonal Wind Speed (QuikSCAT)'] = df['Wind Speed (QuikSCAT)'] * np.cos(np.deg2rad(df['Wind Direction (QuikSCAT)']))\n",
    "df['Meridional Wind Speed (QuikSCAT)'] = df['Wind Speed (QuikSCAT)'] * np.sin(np.deg2rad(df['Wind Direction (QuikSCAT)']))\n",
    "\n",
    "## direction diff in range (-180,180)\n",
    "dirDiff = ((df['Wind Direction (QuikSCAT)'] - df['Wind Direction (TAO)'])+360)%360\n",
    "dirDiff = xr.where(dirDiff > 180, dirDiff-360, dirDiff)\n",
    "df['Direction Difference (QuikSCAT - TAO)'] = dirDiff\n",
    "df['cos(Direction Difference (QuikSCAT - TAO))'] = np.cos(np.deg2rad(dirDiff))\n",
    "df['sin(Direction Difference (QuikSCAT - TAO))'] = np.sin(np.deg2rad(dirDiff))\n",
    "\n",
    "df['Zonal Wind Speed Difference (QuikSCAT - TAO)'] = df['Zonal Wind Speed (QuikSCAT)'] - df['Zonal Neutral Wind Speed (TAO)']\n",
    "df['Meridional Wind Speed Difference (QuikSCAT - TAO)'] = df['Meridional Wind Speed (QuikSCAT)'] - df['Meridional Neutral Wind Speed (TAO)']\n",
    "\n",
    "# for timeWindow in range(20,730,10):\n",
    "#     df[f'Speed Difference (QuikSCAT - TAO {timeWindow} min mean)'] = df['Wind Speed (QuikSCAT)'] - df[f'mean WSPD_10N {timeWindow}min']\n",
    "\n",
    "#     ## change true degrees to degrees where 0 deg mean east and 90 deg mean north \n",
    "#     df[f'mean WDIR {timeWindow}min'] = (-(df[f'mean WDIR {timeWindow}min'] - 90.0) + 360)%360\n",
    "\n",
    "#     ## direction diff in range (-180,180)\n",
    "#     dirDiff = ((df['Wind Direction (QuikSCAT)'] - df[f'mean WDIR {timeWindow}min'])+360)%360\n",
    "#     dirDiff = xr.where(dirDiff > 180, dirDiff-360, dirDiff)\n",
    "#     df[f'Direction Difference (QuikSCAT - TAO {timeWindow} min mean)'] = dirDiff\n",
    "\n",
    "#     ### \n",
    "#     df[f'Zonal Wind Speed Difference (QuikSCAT - TAO {timeWindow} min mean)'] = df['Zonal Wind Speed (QuikSCAT)'] - df[f'mean Ux_10N {timeWindow}min']\n",
    "#     df[f'Meridional Wind Speed Difference (QuikSCAT - TAO {timeWindow} min mean)'] = df['Zonal Wind Speed (QuikSCAT)'] - df[f'mean Vy_10N {timeWindow}min']"
   ]
  },
  {
   "cell_type": "code",
   "execution_count": 22,
   "id": "6222fe6e-6812-4562-879c-2a0c95a5d316",
   "metadata": {},
   "outputs": [],
   "source": [
    "df['mean Vector Neutral Wind Speed (TAO)'] = np.sqrt(df['mean_U10N_x']**2 + df['mean_U10N_y']**2)"
   ]
  },
  {
   "cell_type": "code",
   "execution_count": 23,
   "id": "205793f6-a153-4388-8e67-682040a3cfd4",
   "metadata": {},
   "outputs": [
    {
     "data": {
      "text/plain": [
       "['Wind Direction (TAO)',\n",
       " 'WDIR_QC',\n",
       " 'WDIR_DM',\n",
       " 'Wind Speed (TAO)',\n",
       " 'WSPD_QC',\n",
       " 'WSPD_DM',\n",
       " 'Zonal Wind Speed (TAO)',\n",
       " 'Meridional Wind Speed (TAO)',\n",
       " 'Sea Surface Temperature (TAO)',\n",
       " 'SST_QC',\n",
       " 'SST_DM',\n",
       " 'Relative Humidity (TAO)',\n",
       " 'RELH_QC',\n",
       " 'RELH_DM',\n",
       " 'Air Temperature (TAO)',\n",
       " 'AIRT_QC',\n",
       " 'AIRT_DM',\n",
       " 'Neutral Wind Speed at 10m (TAO)',\n",
       " 'Wind Speed at 10m (TAO)',\n",
       " 'mean_WSPD',\n",
       " 'std_WSPD',\n",
       " 'mean_WSPD_10N',\n",
       " 'std_WSPD_10N',\n",
       " 'mean_SST',\n",
       " 'std_SST',\n",
       " 'mean_AIRT',\n",
       " 'std_AIRT',\n",
       " 'mean_SST - AIRT',\n",
       " 'std_SST - AIRT',\n",
       " 'mean_RELH',\n",
       " 'std_RELH',\n",
       " 'mean_U10N_x',\n",
       " 'std_U10N_x',\n",
       " 'mean_U10N_y',\n",
       " 'std_U10N_y',\n",
       " 'mean_cosWDIR',\n",
       " 'std_cosWDIR',\n",
       " 'mean_sinWDIR',\n",
       " 'std_sinWDIR',\n",
       " 'LATITUDE',\n",
       " 'LONGITUDE',\n",
       " 'TAO_TIME',\n",
       " 'Deployment index',\n",
       " 'Wind Speed (QuikSCAT)',\n",
       " 'Wind Direction (QuikSCAT)',\n",
       " 'rain_impact',\n",
       " 'flags',\n",
       " 'eflags',\n",
       " 'nudge_wind_speed',\n",
       " 'nudge_wind_direction',\n",
       " 'retrieved_wind_speed_uncorrected',\n",
       " 'cross_track_wind_speed_bias',\n",
       " 'atmospheric_speed_bias',\n",
       " 'wind_obj',\n",
       " 'ambiguity_speed',\n",
       " 'ambiguity_direction',\n",
       " 'ambiguity_obj',\n",
       " 'number_in_fore',\n",
       " 'number_in_aft',\n",
       " 'number_out_fore',\n",
       " 'number_out_aft',\n",
       " 'gmf_sst',\n",
       " 'distance_from_coast',\n",
       " 'exp_bias_wrt_oceanward_neighbors',\n",
       " 'QS_TIME',\n",
       " 'Speed Difference (QuikSCAT - TAO)',\n",
       " 'cos(Wind Direction (TAO)',\n",
       " 'sin(Wind Direction (TAO)',\n",
       " 'cos(Wind Direction (QuikSCAT)',\n",
       " 'sin(Wind Direction (QuikSCAT)',\n",
       " 'Zonal Neutral Wind Speed (TAO)',\n",
       " 'Meridional Neutral Wind Speed (TAO)',\n",
       " 'Zonal Wind Speed (QuikSCAT)',\n",
       " 'Meridional Wind Speed (QuikSCAT)',\n",
       " 'Direction Difference (QuikSCAT - TAO)',\n",
       " 'cos(Direction Difference (QuikSCAT - TAO))',\n",
       " 'sin(Direction Difference (QuikSCAT - TAO))',\n",
       " 'Zonal Wind Speed Difference (QuikSCAT - TAO)',\n",
       " 'Meridional Wind Speed Difference (QuikSCAT - TAO)',\n",
       " 'mean Vector Neutral Wind Speed (TAO)']"
      ]
     },
     "execution_count": 23,
     "metadata": {},
     "output_type": "execute_result"
    }
   ],
   "source": [
    "list(df.keys())"
   ]
  },
  {
   "cell_type": "code",
   "execution_count": 24,
   "id": "cadaa77f-db2d-453e-bfb5-e3e50edefd0d",
   "metadata": {},
   "outputs": [],
   "source": [
    "df['Speed Difference (QuikSCAT - TAO 2hr mean)'] = df['Wind Speed (QuikSCAT)'] - df['mean_WSPD_10N']\n",
    "df['Wind Direction (TAO 2hr mean)'] = np.rad2deg(np.arctan2(df['mean_U10N_y'],df['mean_U10N_x']))\n",
    "dirDiff = df['Wind Direction (QuikSCAT)'] - df['Wind Direction (TAO 2hr mean)']\n",
    "dirDiff = xr.where(dirDiff > 180, dirDiff-360, dirDiff)\n",
    "df['Direction Difference (QuikSCAT - TAO 2hr mean)'] = dirDiff\n",
    "\n",
    "df['cos(Direction Difference (QuikSCAT - TAO 2hr mean))'] = np.cos(np.deg2rad(df['Wind Direction (QuikSCAT)'] - df['Wind Direction (TAO 2hr mean)']))\n",
    "df['sin(Direction Difference (QuikSCAT - TAO 2hr mean))'] = np.sin(np.deg2rad(df['Wind Direction (QuikSCAT)'] - df['Wind Direction (TAO 2hr mean)']))\n",
    "\n",
    "df['Zonal Wind Speed Difference (QuikSCAT - TAO 2hr mean)'] = df['Zonal Wind Speed (QuikSCAT)'] - df['mean_U10N_x']\n",
    "df['Meridional Wind Speed Difference (QuikSCAT - TAO 2hr mean)'] = df['Meridional Wind Speed (QuikSCAT)'] - df['mean_U10N_y']"
   ]
  },
  {
   "cell_type": "code",
   "execution_count": 25,
   "id": "733ff62e-abab-4198-acb2-92d3cc621c6b",
   "metadata": {},
   "outputs": [],
   "source": [
    "df.to_netcdf('goodData_QSwithTAO_with2hrStatsConv.nc')"
   ]
  },
  {
   "cell_type": "code",
   "execution_count": null,
   "id": "f45e622d-b062-4603-80ce-dcda0e35db47",
   "metadata": {},
   "outputs": [],
   "source": []
  }
 ],
 "metadata": {
  "kernelspec": {
   "display_name": "Python 3 (ipykernel)",
   "language": "python",
   "name": "python3"
  },
  "language_info": {
   "codemirror_mode": {
    "name": "ipython",
    "version": 3
   },
   "file_extension": ".py",
   "mimetype": "text/x-python",
   "name": "python",
   "nbconvert_exporter": "python",
   "pygments_lexer": "ipython3",
   "version": "3.11.6"
  }
 },
 "nbformat": 4,
 "nbformat_minor": 5
}
