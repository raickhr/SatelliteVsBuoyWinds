{
 "cells": [
  {
   "cell_type": "code",
   "execution_count": 1,
   "id": "195f83b1-ddbb-469c-beca-fadb422f4663",
   "metadata": {},
   "outputs": [],
   "source": [
    "import pandas as pd\n",
    "from sklearn.model_selection import train_test_split\n",
    "from sklearn.ensemble import RandomForestClassifier\n",
    "from sklearn.metrics import classification_report, accuracy_score\n",
    "from imblearn.over_sampling import SMOTE\n",
    "import xarray as xr\n",
    "import numpy as np\n",
    "import matplotlib.pyplot as plt\n",
    "from datetime import datetime, timedelta\n",
    "from glob import glob\n",
    "%matplotlib inline"
   ]
  },
  {
   "cell_type": "code",
   "execution_count": 2,
   "id": "c08d2a74-3ab2-4d07-9508-2b1e1c63e2ce",
   "metadata": {},
   "outputs": [],
   "source": [
    "folderLoc ='/srv/data2/srai_poseidon/srai_poseidon/observation/SatelliteVsBuoy/downloads/Buoy/extractedGZ/WINDS/'\n",
    "fileList = glob(folderLoc + '*_xrr_COARE3p5_2000_withRAIN_2hrMeanVar.nc')"
   ]
  },
  {
   "cell_type": "code",
   "execution_count": 3,
   "id": "316e55a0-a61f-443e-bdfd-c80a836196c2",
   "metadata": {},
   "outputs": [],
   "source": [
    "# count = 0\n",
    "# for fname in fileList:\n",
    "#     print(fname.lstrip(folderLoc).rstrip('_xrr_COARE3p5_2000_withRAIN_2hrMeanVar.nc'))\n",
    "#     #_xrr_COARE3p5_2000_2hrMeanVar.nc\n",
    "#     ds = xr.open_dataset(fname)\n",
    "#     ds['mean_WVEL'] = np.sqrt(ds['mean_U10N_x'] **2 + ds['mean_U10N_y']**2)\n",
    "#     selectLabels = ['mean_WVEL', 'mean_WSPD', 'std_WSPD', \n",
    "#                     'std_cosWDIR' , 'std_sinWDIR', \n",
    "#                     'mean_SST', 'std_SST', \n",
    "#                     'mean_AIRT', 'std_AIRT',\n",
    "#                     'mean_SST - AIRT', 'std_SST - AIRT',\n",
    "#                     'mean_RELH', 'std_RELH',\n",
    "#                     'mean_RAIN', 'RAIN']\n",
    "#     subDS = ds[selectLabels]\n",
    "#     selectMask = ~np.isnan(subDS['mean_WVEL'].to_numpy())\n",
    "#     subDS = subDS.isel(TIME=selectMask)\n",
    "#     stdLabels = ['std_WSPD', 'std_cosWDIR', 'std_sinWDIR', 'std_SST', 'std_AIRT', 'std_SST - AIRT', 'std_RELH']\n",
    "#     for label in stdLabels:\n",
    "#         mask = np.isnan(subDS[label].to_numpy())\n",
    "#         #print(label, np.sum(mask))\n",
    "#         subDS[label] = xr.where(mask, 0.0, subDS[label])\n",
    "#     data = subDS.to_dataframe()\n",
    "#     if count == 0:\n",
    "#         allDF = data\n",
    "#     else:\n",
    "#         allDF = pd.concat([allDF, data])\n",
    "#     ds.close()\n",
    "#     count+= 1\n",
    "            "
   ]
  },
  {
   "cell_type": "code",
   "execution_count": 4,
   "id": "c67a6238-6e8a-43bb-828a-f11a13185505",
   "metadata": {},
   "outputs": [],
   "source": [
    "#allDF"
   ]
  },
  {
   "cell_type": "code",
   "execution_count": 5,
   "id": "3def9592-61ae-4084-a917-46943fc2aee9",
   "metadata": {},
   "outputs": [],
   "source": [
    "#allDF.to_csv('allData.csv', index=False)"
   ]
  },
  {
   "cell_type": "code",
   "execution_count": 6,
   "id": "7d6fd480-fe02-4971-b069-c91098259874",
   "metadata": {},
   "outputs": [],
   "source": [
    "allDF = pd.read_csv('allData.csv')"
   ]
  },
  {
   "cell_type": "code",
   "execution_count": 7,
   "id": "f7999263-6256-47bf-991f-d90c88801d84",
   "metadata": {},
   "outputs": [
    {
     "data": {
      "text/plain": [
       "12710025"
      ]
     },
     "execution_count": 7,
     "metadata": {},
     "output_type": "execute_result"
    }
   ],
   "source": [
    "len(allDF)"
   ]
  },
  {
   "cell_type": "code",
   "execution_count": 8,
   "id": "05cb324c-4f9d-46e6-bc0a-6757de5ad9c3",
   "metadata": {},
   "outputs": [],
   "source": [
    "# data = allDF\n",
    "# data['RAIN_LABEL'] = data['RAIN'].apply(lambda x: 1 if x > 10 else 0)\n",
    "\n",
    "# # Features to use for classification\n",
    "# features = ['mean_WSPD', 'mean_SST', 'mean_AIRT', 'mean_SST - AIRT', 'mean_RELH', 'std_WSPD', 'std_cosWDIR', 'std_sinWDIR', 'std_SST', 'std_AIRT', 'std_SST - AIRT', 'std_RELH']\n",
    "\n",
    "# # Split the dataset into features (X) and target (y)\n",
    "# X = data[features]\n",
    "# y = data['RAIN_LABEL']\n",
    "\n",
    "# # Split the data into training and testing sets\n",
    "# X_train, X_test, y_train, y_test = train_test_split(X, y, test_size=0.2, random_state=42)\n",
    "\n",
    "# # Initialize and train a RandomForest Classifier\n",
    "# classifier = RandomForestClassifier(random_state=42, n_jobs=-1)\n",
    "# classifier.fit(X_train, y_train)\n",
    "\n",
    "# # Make predictions on the test set\n",
    "# y_pred = classifier.predict(X_test)\n",
    "\n",
    "# # Evaluate the classifier performance\n",
    "# print(\"Accuracy:\", accuracy_score(y_test, y_pred))\n",
    "# print(\"\\nClassification Report:\\n\", classification_report(y_test, y_pred))"
   ]
  },
  {
   "cell_type": "code",
   "execution_count": 9,
   "id": "aaf5ae88-21bf-4f4c-b04b-12abe454c60c",
   "metadata": {},
   "outputs": [
    {
     "name": "stdout",
     "output_type": "stream",
     "text": [
      "Accuracy: 0.9995869402302513\n",
      "\n",
      "Classification Report:\n",
      "               precision    recall  f1-score   support\n",
      "\n",
      "           0       1.00      1.00      1.00   2471093\n",
      "           1       1.00      0.99      0.99     70912\n",
      "\n",
      "    accuracy                           1.00   2542005\n",
      "   macro avg       1.00      0.99      1.00   2542005\n",
      "weighted avg       1.00      1.00      1.00   2542005\n",
      "\n"
     ]
    }
   ],
   "source": [
    "data = allDF\n",
    "data['RAIN_LABEL'] = data['mean_RAIN'].apply(lambda x: 1 if x > 1 else 0)\n",
    "\n",
    "# Features to use for classification\n",
    "features = ['mean_WSPD', 'mean_SST', 'mean_AIRT', 'mean_SST - AIRT', 'mean_RELH', 'std_WSPD', 'std_cosWDIR', 'std_sinWDIR', 'std_SST', 'std_AIRT', 'std_SST - AIRT', 'std_RELH']\n",
    "\n",
    "# Split the dataset into features (X) and target (y)\n",
    "X = data[features]\n",
    "y = data['RAIN_LABEL']\n",
    "\n",
    "# Split the data into training and testing sets\n",
    "X_train, X_test, y_train, y_test = train_test_split(X, y, test_size=0.2, random_state=42)\n",
    "\n",
    "# Initialize and train a RandomForest Classifier\n",
    "classifier = RandomForestClassifier(random_state=42, n_jobs=-1)\n",
    "classifier.fit(X_train, y_train)\n",
    "\n",
    "# Make predictions on the test set\n",
    "y_pred = classifier.predict(X_test)\n",
    "\n",
    "# Evaluate the classifier performance\n",
    "print(\"Accuracy:\", accuracy_score(y_test, y_pred))\n",
    "print(\"\\nClassification Report:\\n\", classification_report(y_test, y_pred))"
   ]
  },
  {
   "cell_type": "code",
   "execution_count": 10,
   "id": "5b689552-cdb3-40d5-b9c8-96f65d8f62de",
   "metadata": {},
   "outputs": [
    {
     "name": "stdout",
     "output_type": "stream",
     "text": [
      "Train Accuracy: 1.0000\n",
      "Test Accuracy: 0.9996\n"
     ]
    }
   ],
   "source": [
    "train_acc = accuracy_score(y_train, classifier.predict(X_train))\n",
    "test_acc = accuracy_score(y_test, y_pred)\n",
    "\n",
    "print(f\"Train Accuracy: {train_acc:.4f}\")\n",
    "print(f\"Test Accuracy: {test_acc:.4f}\")\n",
    "#If train accuracy ≫ test accuracy → Overfitting"
   ]
  },
  {
   "cell_type": "code",
   "execution_count": 25,
   "id": "87bbd07a-5618-42b1-8817-1a8f562b8fc3",
   "metadata": {},
   "outputs": [
    {
     "data": {
      "image/png": "[encoded data removed]",
      "text/plain": [
       "<Figure size 1000x600 with 1 Axes>"
      ]
     },
     "metadata": {},
     "output_type": "display_data"
    }
   ],
   "source": [
    "importances = classifier.feature_importances_\n",
    "features = X_train.columns  # Or supply your feature names list\n",
    "\n",
    "# Replace underscores with spaces in feature names\n",
    "pretty_features = [f.replace('_', ' ') for f in features]\n",
    "pretty_features = [f.replace('sinWDIR', 'sin(WDIR)') for f in pretty_features]\n",
    "pretty_features = [f.replace('cosWDIR', 'cos(WDIR)') for f in pretty_features]\n",
    "    \n",
    "\n",
    "# Create a DataFrame for better plotting\n",
    "feat_imp_df = pd.DataFrame({'Feature': pretty_features, 'Importance': importances})\n",
    "feat_imp_df = feat_imp_df.sort_values(by='Importance', ascending=False)\n",
    "\n",
    "# Plot\n",
    "plt.figure(figsize=(10,6))\n",
    "plt.barh(feat_imp_df['Feature'], feat_imp_df['Importance'])\n",
    "plt.xlabel('Feature Importance')\n",
    "plt.title('Random Forest Feature Importance')\n",
    "plt.gca().invert_yaxis()\n",
    "plt.tight_layout()\n",
    "plt.savefig('RainFlagRandomforestFeatureImportance.pdf', dpi=100)"
   ]
  },
  {
   "cell_type": "code",
   "execution_count": 12,
   "id": "5c7b7fc8-114f-4fe2-ac30-878236816b66",
   "metadata": {},
   "outputs": [],
   "source": [
    "# from sklearn.model_selection import GridSearchCV\n",
    "\n",
    "# param_grid = {\n",
    "#     'n_estimators': [100, 200],\n",
    "#     'max_depth': [10, 20, None],\n",
    "#     'min_samples_split': [2, 5],\n",
    "#     'min_samples_leaf': [1, 2],\n",
    "#     'class_weight': ['balanced']\n",
    "# }\n",
    "\n",
    "# grid_search = GridSearchCV(\n",
    "#     RandomForestClassifier(random_state=42),\n",
    "#     param_grid,\n",
    "#     cv=3,  # 3-fold cross-validation\n",
    "#     scoring='f1_macro',  # Balanced F1 score across classes\n",
    "#     n_jobs=-1,\n",
    "#     verbose=2\n",
    "# )\n",
    "\n",
    "# grid_search.fit(X_train, y_train)\n",
    "# print(\"Best parameters:\", grid_search.best_params_)\n",
    "# best_model = grid_search.best_estimator_"
   ]
  },
  {
   "cell_type": "code",
   "execution_count": 13,
   "id": "8afb17bf-fe74-407b-a3f8-9ced2987afb8",
   "metadata": {},
   "outputs": [],
   "source": [
    "\n",
    "# train_acc = accuracy_score(y_train, best_model.predict(X_train))\n",
    "# test_acc = accuracy_score(y_test, y_pred)\n",
    "\n",
    "# print(f\"Train Accuracy: {train_acc:.4f}\")\n",
    "# print(f\"Test Accuracy: {test_acc:.4f}\")\n",
    "# #If train accuracy ≫ test accuracy → Overfitting"
   ]
  },
  {
   "cell_type": "code",
   "execution_count": 14,
   "id": "fd1e31e6-e6e5-437f-a869-28850564e43f",
   "metadata": {},
   "outputs": [],
   "source": [
    "falsePos = np.logical_and(y_test ==0, y_pred == 1)\n",
    "falseNeg = np.logical_and(y_test ==1, y_pred == 0)"
   ]
  },
  {
   "cell_type": "code",
   "execution_count": 15,
   "id": "4a25dece-832e-4fd8-95a1-b19c5d7f1c84",
   "metadata": {},
   "outputs": [
    {
     "data": {
      "text/plain": [
       "201"
      ]
     },
     "execution_count": 15,
     "metadata": {},
     "output_type": "execute_result"
    }
   ],
   "source": [
    "np.sum(falsePos)"
   ]
  },
  {
   "cell_type": "code",
   "execution_count": 16,
   "id": "483a0825-da7d-4974-af44-fd45b38698c6",
   "metadata": {},
   "outputs": [
    {
     "data": {
      "text/plain": [
       "849"
      ]
     },
     "execution_count": 16,
     "metadata": {},
     "output_type": "execute_result"
    }
   ],
   "source": [
    "np.sum(falseNeg)"
   ]
  },
  {
   "cell_type": "code",
   "execution_count": 17,
   "id": "f5c28e41-2ca5-437e-a8f5-f21b77dd621d",
   "metadata": {},
   "outputs": [
    {
     "data": {
      "text/plain": [
       "2542005"
      ]
     },
     "execution_count": 17,
     "metadata": {},
     "output_type": "execute_result"
    }
   ],
   "source": [
    "len(y_test)"
   ]
  },
  {
   "cell_type": "code",
   "execution_count": 18,
   "id": "6d6189b2-a781-46f7-968b-4a85b7a56f94",
   "metadata": {},
   "outputs": [
    {
     "data": {
      "text/plain": [
       "0.12391793092460478"
      ]
     },
     "execution_count": 18,
     "metadata": {},
     "output_type": "execute_result"
    }
   ],
   "source": [
    "(np.sum(falsePos) + np.sum(falseNeg))/847335*100"
   ]
  },
  {
   "cell_type": "code",
   "execution_count": 19,
   "id": "84cfa29d-2284-4309-95dd-72786d4d2cc2",
   "metadata": {},
   "outputs": [
    {
     "data": {
      "text/plain": [
       "['random_forest_rainDetection.joblib']"
      ]
     },
     "execution_count": 19,
     "metadata": {},
     "output_type": "execute_result"
    }
   ],
   "source": [
    "import joblib\n",
    "# from sklearn.ensemble import RandomForestClassifier\n",
    "# # create RF\n",
    "# rf = RandomForestClassifier()\n",
    "# # fit on some data\n",
    "# rf.fit(X, y)\n",
    "\n",
    "# save\n",
    "joblib.dump(classifier, \"random_forest_rainDetection.joblib\")\n",
    "\n",
    "# # load\n",
    "# loaded_rf = joblib.load(\"my_random_forest.joblib\")"
   ]
  },
  {
   "cell_type": "code",
   "execution_count": 20,
   "id": "4c6bf924-bb2b-4409-9164-fe4b48de1a53",
   "metadata": {},
   "outputs": [
    {
     "data": {
      "text/plain": [
       "1.5331692017132643"
      ]
     },
     "execution_count": 20,
     "metadata": {},
     "output_type": "execute_result"
    }
   ],
   "source": [
    "2273/(145982 + 2273) * 100"
   ]
  },
  {
   "cell_type": "code",
   "execution_count": 21,
   "id": "07059306-51ef-433f-bcba-5a3404b6421c",
   "metadata": {},
   "outputs": [
    {
     "data": {
      "text/plain": [
       "148255"
      ]
     },
     "execution_count": 21,
     "metadata": {},
     "output_type": "execute_result"
    }
   ],
   "source": [
    "145982 + 2273"
   ]
  },
  {
   "cell_type": "code",
   "execution_count": null,
   "id": "a2fe7c94-7774-4721-b64a-6843c102cc8e",
   "metadata": {},
   "outputs": [],
   "source": []
  }
 ],
 "metadata": {
  "kernelspec": {
   "display_name": "Python 3 (ipykernel)",
   "language": "python",
   "name": "python3"
  },
  "language_info": {
   "codemirror_mode": {
    "name": "ipython",
    "version": 3
   },
   "file_extension": ".py",
   "mimetype": "text/x-python",
   "name": "python",
   "nbconvert_exporter": "python",
   "pygments_lexer": "ipython3",
   "version": "3.11.6"
  }
 },
 "nbformat": 4,
 "nbformat_minor": 5
}
