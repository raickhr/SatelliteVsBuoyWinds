{
 "cells": [
  {
   "cell_type": "code",
   "execution_count": 3,
   "id": "bf12c826-c6f2-448f-93d6-74e9e2fc352c",
   "metadata": {},
   "outputs": [],
   "source": [
    "from netCDF4 import Dataset, date2num, num2date\n",
    "import numpy as np\n",
    "from datetime import datetime, timedelta\n",
    "import matplotlib.pyplot as plt\n",
    "from glob import glob\n",
    "%matplotlib inline"
   ]
  },
  {
   "cell_type": "code",
   "execution_count": 6,
   "id": "5104c402-6990-4b3b-bff2-4401dc362aa3",
   "metadata": {},
   "outputs": [
    {
     "ename": "FileNotFoundError",
     "evalue": "[Errno 2] No such file or directory: b'../../downloads/Buoy/extractedGZ/WINDS/T_5N_170W_matchup_2000.nc'",
     "output_type": "error",
     "traceback": [
      "\u001b[0;31m---------------------------------------------------------------------------\u001b[0m",
      "\u001b[0;31mFileNotFoundError\u001b[0m                         Traceback (most recent call last)",
      "Cell \u001b[0;32mIn[6], line 23\u001b[0m\n\u001b[1;32m     20\u001b[0m myQSfile \u001b[38;5;241m=\u001b[39m \u001b[38;5;124mf\u001b[39m\u001b[38;5;124m'\u001b[39m\u001b[38;5;124m../../downloads/Buoy/extractedGZ/WINDS/T_\u001b[39m\u001b[38;5;132;01m{\u001b[39;00mmyID\u001b[38;5;132;01m}\u001b[39;00m\u001b[38;5;124m_matchup_2000.nc\u001b[39m\u001b[38;5;124m'\u001b[39m\n\u001b[1;32m     21\u001b[0m larryQSfile \u001b[38;5;241m=\u001b[39m \u001b[38;5;124mf\u001b[39m\u001b[38;5;124m'\u001b[39m\u001b[38;5;124m../../downloads/larryNielData/larry2020/EXP11/fromLarry_\u001b[39m\u001b[38;5;132;01m{\u001b[39;00mlarrID\u001b[38;5;132;01m}\u001b[39;00m\u001b[38;5;124m_data.nc\u001b[39m\u001b[38;5;124m'\u001b[39m\n\u001b[0;32m---> 23\u001b[0m mDS \u001b[38;5;241m=\u001b[39m \u001b[43mDataset\u001b[49m\u001b[43m(\u001b[49m\u001b[43mmyQSfile\u001b[49m\u001b[43m)\u001b[49m\n\u001b[1;32m     24\u001b[0m lDS \u001b[38;5;241m=\u001b[39m Dataset(larryQSfile)\n\u001b[1;32m     26\u001b[0m cdfTime \u001b[38;5;241m=\u001b[39m mDS\u001b[38;5;241m.\u001b[39mvariables[\u001b[38;5;124m'\u001b[39m\u001b[38;5;124mtime\u001b[39m\u001b[38;5;124m'\u001b[39m]\n",
      "File \u001b[0;32msrc/netCDF4/_netCDF4.pyx:2353\u001b[0m, in \u001b[0;36mnetCDF4._netCDF4.Dataset.__init__\u001b[0;34m()\u001b[0m\n",
      "File \u001b[0;32msrc/netCDF4/_netCDF4.pyx:1963\u001b[0m, in \u001b[0;36mnetCDF4._netCDF4._ensure_nc_success\u001b[0;34m()\u001b[0m\n",
      "\u001b[0;31mFileNotFoundError\u001b[0m: [Errno 2] No such file or directory: b'../../downloads/Buoy/extractedGZ/WINDS/T_5N_170W_matchup_2000.nc'"
     ]
    }
   ],
   "source": [
    "lat = 5 \n",
    "lon = -170\n",
    "\n",
    "if lat < 0:\n",
    "    latUnit = 'S'\n",
    "else:\n",
    "    latUnit = 'N'\n",
    "\n",
    "if lon < 0:\n",
    "    lonUnit = 'W'\n",
    "else:\n",
    "    lonUnit = 'E'\n",
    "\n",
    "lat = abs(lat)\n",
    "lon = abs(lon)\n",
    "\n",
    "myID = f'{lat:02d}{latUnit}_{lon:03d}{lonUnit}'\n",
    "larrID = f'{lat}{latUnit.lower()}{lon}{lonUnit.lower()}'\n",
    "\n",
    "myQSfile = f'../../downloads/Buoy/extractedGZ/WINDS/T_{myID}_matchup_2000.nc'\n",
    "larryQSfile = f'../../downloads/larryNielData/larry2020/EXP11/fromLarry_{larrID}_data.nc'\n",
    "\n",
    "mDS = Dataset(myQSfile)\n",
    "lDS = Dataset(larryQSfile)\n",
    "\n",
    "cdfTime = mDS.variables['time']\n",
    "timeUnit = cdfTime.units\n",
    "timeArr = np.array(cdfTime)\n",
    "cftimes=num2date(timeArr, timeUnit)\n",
    "myTime = [datetime(dtm.year, dtm.month, dtm.day, dtm.hour, dtm.minute, dtm.second) for dtm in cftimes]\n",
    "\n",
    "\n",
    "mWspd = np.array(mDS.variables['wspd'])\n",
    "mWdir = np.array(mDS.variables['wdir'])\n",
    "mWspd[abs(mWspd) > 1000] = float('nan')\n",
    "\n",
    "\n",
    "cdfTime = lDS.variables['time']\n",
    "timeUnit = 'days since 0001-01-01 00:00:0.0'\n",
    "timeArr = np.array(cdfTime)\n",
    "cftimes=num2date(timeArr, timeUnit, has_year_zero=True)\n",
    "larryTime = [datetime(dtm.year, dtm.month, dtm.day, dtm.hour, dtm.minute, dtm.second) - timedelta(365) for dtm in cftimes]\n",
    "\n",
    "lWspd = np.array(lDS.variables['sat_wspd10n'])\n",
    "u = np.array(lDS.variables['sat_u10n'])\n",
    "v = np.array(lDS.variables['sat_v10n'])\n",
    "\n",
    "lWdir = np.arctan2(v,u)%360"
   ]
  },
  {
   "cell_type": "code",
   "execution_count": null,
   "id": "e9f2ce8a-6bc2-4e53-b75b-ab7f5999ed8c",
   "metadata": {},
   "outputs": [],
   "source": []
  }
 ],
 "metadata": {
  "kernelspec": {
   "display_name": "Python 3 (ipykernel)",
   "language": "python",
   "name": "python3"
  },
  "language_info": {
   "codemirror_mode": {
    "name": "ipython",
    "version": 3
   },
   "file_extension": ".py",
   "mimetype": "text/x-python",
   "name": "python",
   "nbconvert_exporter": "python",
   "pygments_lexer": "ipython3",
   "version": "3.11.5"
  }
 },
 "nbformat": 4,
 "nbformat_minor": 5
}
