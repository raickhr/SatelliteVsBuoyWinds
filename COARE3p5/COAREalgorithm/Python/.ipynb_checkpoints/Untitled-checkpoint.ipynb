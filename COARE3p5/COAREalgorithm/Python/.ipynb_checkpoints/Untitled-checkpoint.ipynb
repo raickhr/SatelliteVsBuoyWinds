{
 "cells": [
  {
   "cell_type": "code",
   "execution_count": 3,
   "id": "df4b84ca",
   "metadata": {},
   "outputs": [
    {
     "ename": "ModuleNotFoundError",
     "evalue": "No module named 'bulk'",
     "output_type": "error",
     "traceback": [
      "\u001b[0;31m---------------------------------------------------------------------------\u001b[0m",
      "\u001b[0;31mModuleNotFoundError\u001b[0m                       Traceback (most recent call last)",
      "Cell \u001b[0;32mIn[3], line 1\u001b[0m\n\u001b[0;32m----> 1\u001b[0m \u001b[38;5;28;01mimport\u001b[39;00m \u001b[38;5;21;01mCOARE3p5\u001b[39;00m\n\u001b[1;32m      2\u001b[0m \u001b[38;5;28;01mfrom\u001b[39;00m \u001b[38;5;21;01mnetCDF4\u001b[39;00m \u001b[38;5;28;01mimport\u001b[39;00m Dataset, num2date, date2num\n\u001b[1;32m      3\u001b[0m \u001b[38;5;28;01mfrom\u001b[39;00m \u001b[38;5;21;01mdatetime\u001b[39;00m \u001b[38;5;28;01mimport\u001b[39;00m datetime, timedelta\n",
      "File \u001b[0;32m~/WHOI/SatelliteVsBuoy/COARE3p5/COAREalgorithm/Python/COARE3p5/__init__.py:1\u001b[0m\n\u001b[0;32m----> 1\u001b[0m \u001b[38;5;28;01mimport\u001b[39;00m \u001b[38;5;21;01mbulk\u001b[39;00m\n\u001b[1;32m      2\u001b[0m \u001b[38;5;28;01mimport\u001b[39;00m \u001b[38;5;21;01mcoare35vn\u001b[39;00m\n\u001b[1;32m      3\u001b[0m \u001b[38;5;28;01mimport\u001b[39;00m \u001b[38;5;21;01mmeteo\u001b[39;00m\n",
      "\u001b[0;31mModuleNotFoundError\u001b[0m: No module named 'bulk'"
     ]
    }
   ],
   "source": [
    "import COARE3p5\n",
    "from netCDF4 import Dataset, num2date, date2num\n",
    "from datetime import datetime, timedelta\n",
    "import numpy as np\n",
    "import matplotlib.pyplot as plt\n",
    "import pandas as pd\n",
    "import xarray as xr\n",
    "%matplotlib inline"
   ]
  },
  {
   "cell_type": "code",
   "execution_count": null,
   "id": "34d50d24",
   "metadata": {},
   "outputs": [],
   "source": [
    "ds_WIND = Dataset('/home/shikhar.rai/WHOI/SatelliteVsBuoy/downloads/Buoy/mergedTAO_Bouy2000/T0N140W_2000.nc')\n",
    "ds_SST = Dataset('/home/shikhar.rai/WHOI/SatelliteVsBuoy/downloads/Buoy/mergedTAO_Bouy2000/TAO_T0N140W_SST_2000.nc')\n",
    "ds_AIRT = Dataset('/home/shikhar.rai/WHOI/SatelliteVsBuoy/downloads/Buoy/mergedTAO_Bouy2000/TAO_T0N140W_AIRT_2000.nc')\n",
    "ds_RH = Dataset('/home/shikhar.rai/WHOI/SatelliteVsBuoy/downloads/Buoy/mergedTAO_Bouy2000/TAO_T0N140W_RH_2000.nc')"
   ]
  },
  {
   "cell_type": "code",
   "execution_count": null,
   "id": "7eb8b0d5",
   "metadata": {},
   "outputs": [],
   "source": [
    "cdfTime = ds_WIND.variables['TIME']\n",
    "timeUnit = cdfTime.units\n",
    "timeArr = np.array(cdfTime)\n",
    "cftimes=num2date(timeArr, timeUnit)\n",
    "dateTimeArr = [datetime(dtm.year, dtm.month, dtm.day, dtm.hour, dtm.minute, dtm.second) for dtm in cftimes]\n",
    "\n",
    "\n",
    "speed = np.array(ds_WIND.variables['WSPD'])\n",
    "rh = np.array(ds_RH.variables['RELH'])\n",
    "sst = np.array(ds_SST.variables['SST'])\n",
    "airt = np.array(ds_AIRT.variables['AIRT'])"
   ]
  },
  {
   "cell_type": "code",
   "execution_count": null,
   "id": "9ec362c4",
   "metadata": {},
   "outputs": [],
   "source": [
    "st = 0\n",
    "ed = len(speed)\n",
    "plt.figure(figsize=(20,5))\n",
    "plt.plot(dateTimeArr[st:ed], speed[st:ed])\n",
    "plt.plot(dateTimeArr[st:ed], rh[st:ed])\n",
    "plt.plot(dateTimeArr[st:ed], sst[st:ed])\n",
    "plt.plot(dateTimeArr[st:ed], airt[st:ed])"
   ]
  },
  {
   "cell_type": "code",
   "execution_count": null,
   "id": "0d3c55eb",
   "metadata": {},
   "outputs": [],
   "source": [
    "coareOutPutArr = coare35vn(speed, airt, rh, sst, zu=4.0)"
   ]
  },
  {
   "cell_type": "code",
   "execution_count": null,
   "id": "0285eb21",
   "metadata": {},
   "outputs": [],
   "source": []
  }
 ],
 "metadata": {
  "kernelspec": {
   "display_name": "Python 3 (ipykernel)",
   "language": "python",
   "name": "python3"
  },
  "language_info": {
   "codemirror_mode": {
    "name": "ipython",
    "version": 3
   },
   "file_extension": ".py",
   "mimetype": "text/x-python",
   "name": "python",
   "nbconvert_exporter": "python",
   "pygments_lexer": "ipython3",
   "version": "3.11.4"
  }
 },
 "nbformat": 4,
 "nbformat_minor": 5
}
