{
 "cells": [
  {
   "cell_type": "code",
   "execution_count": 4,
   "id": "30fd6411-6989-45e6-a9c0-0fabf8107994",
   "metadata": {},
   "outputs": [],
   "source": [
    "import xarray as xr\n",
    "import numpy as np\n",
    "import matplotlib.pyplot as plt\n",
    "import glob\n",
    "import os\n",
    "%matplotlib inline"
   ]
  },
  {
   "cell_type": "code",
   "execution_count": 5,
   "id": "46bdc480-12df-465b-adf5-1acd743944c9",
   "metadata": {},
   "outputs": [],
   "source": [
    "latList = [-8] #, -9, -8, -5, -2, 0, 2, 5, 8, 9]\n",
    "lonList = [-110] #, -95, -110, -125, -140, -155, -170, -180, 165]\n",
    "readDir = '/srv/data2/srai_poseidon/srai_poseidon/observation/SatelliteVsBuoy/downloads/QS_data/qs_l2b_v4p1/'\n",
    "fileList = glob.glob(readDir + '/qs_l2b_?????_v4.1_*.nc')\n",
    "writeDir = '/srv/data2/srai_poseidon/srai_poseidon/observation/SatelliteVsBuoy/downloads/QS_data/'\n",
    "tol = 0.1\n",
    "\n",
    "for file in fileList:\n",
    "    os.remove(fileList)"
   ]
  },
  {
   "cell_type": "code",
   "execution_count": 6,
   "id": "0c72e6b0-ad47-4632-8b4a-c659dc4e039f",
   "metadata": {},
   "outputs": [
    {
     "name": "stderr",
     "output_type": "stream",
     "text": [
      "/home/shikhar.rai/anaconda3/envs/mpiNetCDF/lib/python3.11/site-packages/xarray/core/concat.py:546: FutureWarning: unique with argument that is not not a Series, Index, ExtensionArray, or np.ndarray is deprecated and will raise in a future version.\n",
      "  common_dims = tuple(pd.unique([d for v in vars for d in v.dims]))\n",
      "/home/shikhar.rai/anaconda3/envs/mpiNetCDF/lib/python3.11/site-packages/xarray/core/concat.py:546: FutureWarning: unique with argument that is not not a Series, Index, ExtensionArray, or np.ndarray is deprecated and will raise in a future version.\n",
      "  common_dims = tuple(pd.unique([d for v in vars for d in v.dims]))\n",
      "/home/shikhar.rai/anaconda3/envs/mpiNetCDF/lib/python3.11/site-packages/xarray/core/concat.py:546: FutureWarning: unique with argument that is not not a Series, Index, ExtensionArray, or np.ndarray is deprecated and will raise in a future version.\n",
      "  common_dims = tuple(pd.unique([d for v in vars for d in v.dims]))\n",
      "/home/shikhar.rai/anaconda3/envs/mpiNetCDF/lib/python3.11/site-packages/xarray/core/concat.py:546: FutureWarning: unique with argument that is not not a Series, Index, ExtensionArray, or np.ndarray is deprecated and will raise in a future version.\n",
      "  common_dims = tuple(pd.unique([d for v in vars for d in v.dims]))\n",
      "/home/shikhar.rai/anaconda3/envs/mpiNetCDF/lib/python3.11/site-packages/xarray/core/concat.py:546: FutureWarning: unique with argument that is not not a Series, Index, ExtensionArray, or np.ndarray is deprecated and will raise in a future version.\n",
      "  common_dims = tuple(pd.unique([d for v in vars for d in v.dims]))\n",
      "/home/shikhar.rai/anaconda3/envs/mpiNetCDF/lib/python3.11/site-packages/xarray/core/concat.py:546: FutureWarning: unique with argument that is not not a Series, Index, ExtensionArray, or np.ndarray is deprecated and will raise in a future version.\n",
      "  common_dims = tuple(pd.unique([d for v in vars for d in v.dims]))\n"
     ]
    }
   ],
   "source": [
    "for fileName in fileList[0:50]:\n",
    "    ds = xr.open_dataset(fileName)\n",
    "    ds = ds.set_coords('time')\n",
    "    ds = ds.swap_dims({'along_track':'time'})\n",
    "    \n",
    "    for thisLat in latList:\n",
    "        for thisLon in lonList:\n",
    "            if thisLat < 0:\n",
    "                latUnit = 'S'\n",
    "            else:\n",
    "                latUnit = 'N'\n",
    "            \n",
    "            if thisLon < 0:\n",
    "                lonUnit = 'W'\n",
    "            else:\n",
    "                lonUnit = 'E'\n",
    "    \n",
    "            wFile = f'T_{abs(thisLat):03.0f}{latUnit:s}_{abs(thisLon):03.0f}{lonUnit:s}_QS.nc'\n",
    "            thisLon = (thisLon + 360)%360\n",
    "            \n",
    "            mask = np.logical_and((abs(ds['lat'] - thisLat) < tol), (abs(ds['lon'] - thisLon) < tol))\n",
    "            if np.sum(mask) > 0:\n",
    "                sub_ds = ds.where(mask, drop=True)\n",
    "                tlen = len(sub_ds['time'])\n",
    "                wds = xr.Dataset()\n",
    "                \n",
    "                #### ALL THIS LENGTHY PROCESS JUST TO MAKE THE ARRAY SIZE IS SAME EXCEPT FOR THE APPENDING DIMENSION\n",
    "                for var in list(sub_ds.keys()):\n",
    "                    if var not in ['ambiguity_speed', 'ambiguity_direction', 'ambiguity_obj']:\n",
    "                        newArr = np.zeros((tlen, 3)) * np.nan\n",
    "                        for t in range(tlen):\n",
    "                            for i in range(min(len(sub_ds[var][t,:]), 3)):\n",
    "                                newArr[t,i] = sub_ds[var][t,i]\n",
    "                        wds[var] = xr.DataArray(newArr, \n",
    "                                                dims = ['time', 'cross_track'],\n",
    "                                                coords = {'time':sub_ds['time'],\n",
    "                                                          'cross_track':np.arange(3)},\n",
    "                                                attrs = sub_ds[var].attrs)\n",
    "                    else:\n",
    "                        newArr = np.zeros((tlen, 3, 4)) * np.nan\n",
    "                        for t in range(tlen):\n",
    "                            for i in range(len(sub_ds[var][t,:])):\n",
    "                                newArr[t,i,:] = sub_ds[var][t,i,:]\n",
    "                        wds[var] = xr.DataArray(newArr, \n",
    "                                                dims = ['time', 'cross_track', 'ambiguities'],\n",
    "                                                coords = {'time':sub_ds['time'],\n",
    "                                                          'cross_track':np.arange(3),\n",
    "                                                          'ambiguities':np.arange(4)},\n",
    "                                                attrs = sub_ds[var].attrs)\n",
    "                ### NOW WRITE\n",
    "                if os.path.exists(writeDir + wFile):\n",
    "                    rds = xr.open_dataset(writeDir + wFile)\n",
    "                    wds = xr.concat((rds, wds), dim='time')\n",
    "                    os.remove(writeDir + wFile)\n",
    "                    wds.to_netcdf(writeDir + wFile, unlimited_dims='time')\n",
    "                else:\n",
    "                    wds.to_netcdf(writeDir + wFile, unlimited_dims='time')\n",
    "                sub_ds.close()\n",
    "    \n",
    "    ds.close()"
   ]
  },
  {
   "cell_type": "code",
   "execution_count": null,
   "id": "70fdab60-2ea6-47f7-a010-0dfbb6781571",
   "metadata": {},
   "outputs": [],
   "source": [
    "rds = xr.open_dataset('/srv/data2/srai_poseidon/srai_poseidon/observation/SatelliteVsBuoy/downloads/QS_data/T_008S_110W_QS.nc')"
   ]
  },
  {
   "cell_type": "code",
   "execution_count": null,
   "id": "f716c24f-dd77-46e9-be68-1f1d0d1e5b9b",
   "metadata": {},
   "outputs": [],
   "source": [
    "ds"
   ]
  },
  {
   "cell_type": "code",
   "execution_count": null,
   "id": "5e4736d1-ebda-49b5-9a19-30bd6130fa03",
   "metadata": {},
   "outputs": [],
   "source": [
    "tlen = len(sub_ds['time'])\n",
    "wds = xr.Dataset()\n",
    "for var in list(sub_ds.keys()):\n",
    "    if var not in ['ambiguity_speed', 'ambiguity_direction', 'ambiguity_obj']:\n",
    "        newArr = np.zeros((tlen, 3)) * np.nan\n",
    "        for t in range(tlen):\n",
    "            for i in range(len(sub_ds[var][t,:])):\n",
    "                newArr[t,i] = sub_ds[var][t,i]\n",
    "        wds[var] = xr.DataArray(newArr, \n",
    "                                dims = ['time', 'cross_track'],\n",
    "                                coords = {'time':sub_ds['time'],\n",
    "                                          'cross_track':np.arange(3)},\n",
    "                                attrs = sub_ds[var].attrs)\n",
    "    else:\n",
    "        newArr = np.zeros((tlen, 3, 4)) * np.nan\n",
    "        for t in range(tlen):\n",
    "            for i in range(len(sub_ds[var][t,:])):\n",
    "                newArr[t,i,:] = sub_ds[var][t,i,:]\n",
    "        wds[var] = xr.DataArray(newArr, \n",
    "                                dims = ['time', 'cross_track', 'ambiguities'],\n",
    "                                coords = {'time':sub_ds['time'],\n",
    "                                          'cross_track':np.arange(3),\n",
    "                                          'ambiguities':np.arange(4)},\n",
    "                                attrs = sub_ds[var].attrs)"
   ]
  },
  {
   "cell_type": "code",
   "execution_count": null,
   "id": "1e1e4bd2-96c4-4525-a17c-8bf7f78788a9",
   "metadata": {},
   "outputs": [],
   "source": [
    "wds"
   ]
  },
  {
   "cell_type": "code",
   "execution_count": null,
   "id": "af277a60-7b46-4c44-aefa-18e966c28888",
   "metadata": {},
   "outputs": [],
   "source": [
    "list(sub_ds.keys())"
   ]
  },
  {
   "cell_type": "code",
   "execution_count": null,
   "id": "6f5b7f55-3c4b-4d5e-9fda-402ad2bdcb95",
   "metadata": {},
   "outputs": [],
   "source": [
    "wds"
   ]
  },
  {
   "cell_type": "code",
   "execution_count": null,
   "id": "12bbe579-3c9d-47c4-9188-7dfc692499b4",
   "metadata": {},
   "outputs": [],
   "source": [
    "sub_ds['cross_track+"
   ]
  },
  {
   "cell_type": "code",
   "execution_count": null,
   "id": "c5af49fb-6a4c-4d03-9dee-c340ebd6e61a",
   "metadata": {},
   "outputs": [],
   "source": [
    "rds['cross_track']"
   ]
  },
  {
   "cell_type": "code",
   "execution_count": null,
   "id": "9a50b346-1160-40ac-b261-5b9c9a1c6ce3",
   "metadata": {},
   "outputs": [],
   "source": [
    "xr.concat([sub_ds, rds], dim='time')"
   ]
  },
  {
   "cell_type": "code",
   "execution_count": null,
   "id": "8c913adc-4ead-4013-b158-7415e0856bc8",
   "metadata": {},
   "outputs": [],
   "source": [
    "tds"
   ]
  },
  {
   "cell_type": "code",
   "execution_count": null,
   "id": "86487f5e-d186-4c0f-aacc-fadbcdc773da",
   "metadata": {},
   "outputs": [],
   "source": [
    "tds['x']"
   ]
  },
  {
   "cell_type": "code",
   "execution_count": null,
   "id": "7af7354e-e0ee-43ed-9793-615c9ec07895",
   "metadata": {},
   "outputs": [],
   "source": [
    "tds['a']"
   ]
  },
  {
   "cell_type": "code",
   "execution_count": null,
   "id": "da30d44a-d2f9-4a79-a3fd-8caa082784c0",
   "metadata": {},
   "outputs": [],
   "source": [
    "tds = tds.set_index(x=\"a\")"
   ]
  },
  {
   "cell_type": "code",
   "execution_count": null,
   "id": "70bab514-58a5-40e6-8beb-2967bb5337ab",
   "metadata": {},
   "outputs": [],
   "source": [
    "tds"
   ]
  },
  {
   "cell_type": "code",
   "execution_count": null,
   "id": "4c8c26e9-760c-426d-8f56-82ba30a3d1af",
   "metadata": {},
   "outputs": [],
   "source": [
    "ds2 = ds.drop('time')\n",
    "timeXarr = xr.DataArray(ds['time'].to_numpy(), dims=('time'))\n",
    "ds2['time'] = timeXarr\n",
    "#ds2 = ds.set_index(time='time')"
   ]
  },
  {
   "cell_type": "code",
   "execution_count": null,
   "id": "c234d597-8918-40ea-89f8-54cf1def9b48",
   "metadata": {},
   "outputs": [],
   "source": [
    "ds3 = ds.swap_dims({'along_track':'time'})"
   ]
  },
  {
   "cell_type": "code",
   "execution_count": null,
   "id": "9bfdde58-6e41-412e-a17f-a913d0c1ebf4",
   "metadata": {},
   "outputs": [],
   "source": [
    "ds3"
   ]
  },
  {
   "cell_type": "code",
   "execution_count": null,
   "id": "07f7802a-1ed3-4284-9d80-e238359ab1c5",
   "metadata": {},
   "outputs": [],
   "source": [
    "data = np.arange(24).reshape(2, 4, 3)\n",
    "da1 = xr.DataArray(\n",
    "    data=data,\n",
    "    dims=[\"x\", \"y\", 'z'],\n",
    "    coords={\"x\":[10, 11], \"y\": [1, 2, 3, 4], \"z\": [7, 8, 9]},\n",
    ")\n",
    "da1"
   ]
  },
  {
   "cell_type": "code",
   "execution_count": null,
   "id": "0a9ca2ef-c886-46f6-bc69-75234c5e6844",
   "metadata": {},
   "outputs": [],
   "source": [
    "data = np.arange(24).reshape(2, 4, 3)\n",
    "da1 = xr.DataArray(\n",
    "    data=data,\n",
    "    dims=[\"x\", \"y\", 'z'],\n",
    "    coords={\"x\":[12, 13], \"y\": [1, 2, 3, 4], \"z\": [7, 8, 9]},\n",
    ")\n",
    "da1"
   ]
  },
  {
   "cell_type": "code",
   "execution_count": null,
   "id": "670bdb06-6f56-4905-b828-6b3d8ee7917c",
   "metadata": {},
   "outputs": [],
   "source": [
    "da1.reindex_like(da2)"
   ]
  },
  {
   "cell_type": "code",
   "execution_count": null,
   "id": "bd7de6b2-b4d8-4d7f-83f6-1c0769de5c75",
   "metadata": {},
   "outputs": [],
   "source": []
  }
 ],
 "metadata": {
  "kernelspec": {
   "display_name": "Python 3 (ipykernel)",
   "language": "python",
   "name": "python3"
  },
  "language_info": {
   "codemirror_mode": {
    "name": "ipython",
    "version": 3
   },
   "file_extension": ".py",
   "mimetype": "text/x-python",
   "name": "python",
   "nbconvert_exporter": "python",
   "pygments_lexer": "ipython3",
   "version": "3.11.0"
  }
 },
 "nbformat": 4,
 "nbformat_minor": 5
}
